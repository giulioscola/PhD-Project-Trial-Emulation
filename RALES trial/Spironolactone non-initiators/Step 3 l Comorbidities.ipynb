{
 "cells": [
  {
   "cell_type": "code",
   "execution_count": null,
   "id": "612d13d9",
   "metadata": {},
   "outputs": [],
   "source": [
    "import pickle\n",
    "import networkx as nx\n",
    "import pandas as pd\n",
    "import datetime \n",
    "import numpy as np\n",
    "from tqdm import tqdm"
   ]
  },
  {
   "cell_type": "markdown",
   "id": "b7dc250b",
   "metadata": {},
   "source": [
    "# HF patients "
   ]
  },
  {
   "cell_type": "code",
   "execution_count": null,
   "id": "273a3b58",
   "metadata": {},
   "outputs": [],
   "source": [
    "with open('/projects/RALES TRIAL/1A/notspiro dataextraction/notspiro data/hf_patients.pickle', 'rb') as f:\n",
    "    hf = pickle.load(f)"
   ]
  },
  {
   "cell_type": "code",
   "execution_count": null,
   "id": "340301c9",
   "metadata": {},
   "outputs": [],
   "source": [
    "hf_patients = set(hf.keys())\n",
    "len(hf_patients)"
   ]
  },
  {
   "cell_type": "markdown",
   "id": "dc760586",
   "metadata": {},
   "source": [
    "# Comorbidities"
   ]
  },
  {
   "cell_type": "code",
   "execution_count": null,
   "id": "2e1dad09",
   "metadata": {},
   "outputs": [],
   "source": [
    "def graph_from_onto(onto):\n",
    "    G = nx.DiGraph()\n",
    "    cl_edges = []\n",
    "    for s, ts in onto.items():\n",
    "        for t in ts:\n",
    "            cl_edges.append((s.replace('S-', ''), t.replace('S-', '')))\n",
    "    G.add_edges_from(cl_edges)\n",
    "    return G\n",
    "\n",
    "def load_onto(o):\n",
    "    with open(f'/projects/data/GS/{o}', 'rb') as f:\n",
    "        onto = pickle.load(f)\n",
    "    G = graph_from_onto(onto)\n",
    "    return G\n",
    "\n",
    "def expand_codes(onto, codes):\n",
    "    expanded = {}\n",
    "    for name, top_codes in codes.items():\n",
    "        expanded[name] = set()\n",
    "        for c in top_codes:\n",
    "            expanded[name].add(c)\n",
    "            if c in onto:\n",
    "                expanded[name].update(nx.ancestors(onto, c))\n",
    "            else:\n",
    "                print(\"NOT FOUND:\", c, name)\n",
    "        print(name, len(top_codes), len(expanded[name]))\n",
    "    return expanded"
   ]
  },
  {
   "cell_type": "code",
   "execution_count": null,
   "id": "c2b542ad",
   "metadata": {},
   "outputs": [],
   "source": [
    "exclusion_criteria = {\n",
    "    'valvular_heart_disease' : ['426611007'],\n",
    "    'congenital_heart_disease' : ['13213009', '160364005'],\n",
    "    'unstable_angina' : ['4557003'],\n",
    "    'cancer' : ['86049000', '363346000'],\n",
    "    'acute_hepatic_failure' : ['197270009'],\n",
    "} "
   ]
  },
  {
   "cell_type": "code",
   "execution_count": null,
   "id": "fb2494a9",
   "metadata": {},
   "outputs": [],
   "source": [
    "onto = load_onto('isa_rela_ch2pt_202009.pickle')\n",
    "ec = expand_codes(onto,exclusion_criteria)"
   ]
  },
  {
   "cell_type": "code",
   "execution_count": null,
   "id": "cc6e4440",
   "metadata": {},
   "outputs": [],
   "source": [
    "with open('/projects/data/GS/pt2cui_pos_dates.pickle', 'rb') as f:\n",
    "    pt2cui_pos_dates = pickle.load(f)"
   ]
  },
  {
   "cell_type": "code",
   "execution_count": null,
   "id": "167c3426",
   "metadata": {},
   "outputs": [],
   "source": [
    "def dates_ex(pt_data, codes):\n",
    "    dates = None\n",
    "    for x in codes:\n",
    "        if x in pt_data and len(pt_data[x])>=2:\n",
    "            if dates == None:\n",
    "                dates = pt_data[x]\n",
    "            else: \n",
    "                dates = dates.union(pt_data[x])\n",
    "    return dates\n",
    "\n",
    "rows = []\n",
    "for pt in hf_patients:\n",
    "    pt_data = pt2cui_pos_dates.get(pt, {})\n",
    "    row = {'client_idcode': pt, 'start_date': hf[pt]} \n",
    "    for concept, codes in ec.items():\n",
    "        dates = dates_ex(pt_data, codes)\n",
    "        if dates == None:\n",
    "            row[f\"{concept}_date\"] = np.nan\n",
    "        else:\n",
    "            row[f\"{concept}_date\"] = dates\n",
    "    rows.append(row)"
   ]
  },
  {
   "cell_type": "code",
   "execution_count": null,
   "id": "87ee616a",
   "metadata": {},
   "outputs": [],
   "source": [
    "df = pd.DataFrame(rows)\n",
    "df.shape"
   ]
  },
  {
   "cell_type": "code",
   "execution_count": null,
   "id": "d65c60b4",
   "metadata": {},
   "outputs": [],
   "source": [
    "df.head()"
   ]
  },
  {
   "cell_type": "code",
   "execution_count": null,
   "id": "9a38d791",
   "metadata": {},
   "outputs": [],
   "source": [
    "%%time\n",
    "df = df[['client_idcode']].join((df[i].explode() for i in df.iloc[:,1:]))\n",
    "df.shape"
   ]
  },
  {
   "cell_type": "code",
   "execution_count": null,
   "id": "b80d6522",
   "metadata": {},
   "outputs": [],
   "source": [
    "%%time\n",
    "for k in ec.keys():\n",
    "    df[f'{k}_date'] = pd.to_datetime(df[f'{k}_date']).dt.date"
   ]
  },
  {
   "cell_type": "code",
   "execution_count": null,
   "id": "a9ca4843",
   "metadata": {},
   "outputs": [],
   "source": [
    "%%time\n",
    "for k in ec.keys():\n",
    "    df[f'{k}_delta'] = pd.to_datetime(df['start_date']) - pd.to_datetime(df[f'{k}_date'])"
   ]
  },
  {
   "cell_type": "code",
   "execution_count": null,
   "id": "f4123ba5",
   "metadata": {},
   "outputs": [],
   "source": [
    "df.head()"
   ]
  },
  {
   "cell_type": "code",
   "execution_count": null,
   "id": "e5561cff",
   "metadata": {},
   "outputs": [],
   "source": [
    "min_time = datetime.timedelta(days=1) \n",
    "max_time = datetime.timedelta(days=183)\n",
    "for k in ec.keys():\n",
    "    t1 = df[f'{k}_delta'] >= min_time \n",
    "    t2 = df[f'{k}_delta'] <= max_time\n",
    "    in_window = t1 & t2 \n",
    "    df[f'{k}_in_window'] = in_window"
   ]
  },
  {
   "cell_type": "code",
   "execution_count": null,
   "id": "ac5d4685",
   "metadata": {},
   "outputs": [],
   "source": [
    "for k in ec.keys():\n",
    "    df[f'{k}_true_count'] = (\n",
    "        df[f'{k}_in_window'].eq(True)\n",
    "            .groupby(df['client_idcode']).transform('sum')\n",
    "    )"
   ]
  },
  {
   "cell_type": "code",
   "execution_count": null,
   "id": "072504a2",
   "metadata": {},
   "outputs": [],
   "source": [
    "df = df.drop_duplicates('client_idcode') \n",
    "df.reset_index(drop=True, inplace=True)"
   ]
  },
  {
   "cell_type": "code",
   "execution_count": null,
   "id": "1a493eb5",
   "metadata": {},
   "outputs": [],
   "source": [
    "print(df.shape)\n",
    "df.head()"
   ]
  },
  {
   "cell_type": "markdown",
   "id": "70815837",
   "metadata": {},
   "source": [
    "# Preparing the data for extraction"
   ]
  },
  {
   "cell_type": "code",
   "execution_count": null,
   "id": "cdc4ab3f",
   "metadata": {},
   "outputs": [],
   "source": [
    "cancer = set()\n",
    "for i,row in tqdm(df.iterrows()):\n",
    "    if df.loc[i,'cancer_true_count'] >= 1:\n",
    "        cancer.add(df.loc[i,'client_idcode'])\n",
    "with open ('/projects/RALES TRIAL/1A/notspiro dataextraction/notspiro data/cancer.pickle', 'wb') as f:\n",
    "    pickle.dump(cancer,f)\n",
    "len(cancer)"
   ]
  },
  {
   "cell_type": "code",
   "execution_count": null,
   "id": "851d6d09",
   "metadata": {},
   "outputs": [],
   "source": [
    "valvular_heart_disease = set()\n",
    "for i,row in tqdm(df.iterrows()):\n",
    "    if df.loc[i,'valvular_heart_disease_true_count'] >= 1:\n",
    "        valvular_heart_disease.add(df.loc[i,'client_idcode'])\n",
    "len(valvular_heart_disease)"
   ]
  },
  {
   "cell_type": "code",
   "execution_count": null,
   "id": "05bbf7c4",
   "metadata": {},
   "outputs": [],
   "source": [
    "congenital_heart_disease = set()\n",
    "for i,row in tqdm(df.iterrows()):\n",
    "    if df.loc[i,'congenital_heart_disease_true_count'] >= 1:\n",
    "        congenital_heart_disease.add(df.loc[i,'client_idcode'])\n",
    "with open ('/projects/RALES TRIAL/1A/notspiro dataextraction/notspiro data/congenital_heart_disease.pickle', 'wb') as f:\n",
    "    pickle.dump(congenital_heart_disease,f)\n",
    "len(congenital_heart_disease)"
   ]
  },
  {
   "cell_type": "code",
   "execution_count": null,
   "id": "05c32102",
   "metadata": {},
   "outputs": [],
   "source": [
    "unstable_angina = set()\n",
    "for i,row in tqdm(df.iterrows()):\n",
    "    if df.loc[i,'unstable_angina_true_count'] >= 1:\n",
    "        unstable_angina.add(df.loc[i,'client_idcode'])\n",
    "with open ('/projects/RALES TRIAL/1A/notspiro dataextraction/notspiro data/unstable_angina.pickle', 'wb') as f:\n",
    "    pickle.dump(unstable_angina,f)\n",
    "len(unstable_angina)"
   ]
  },
  {
   "cell_type": "code",
   "execution_count": null,
   "id": "91df0cbc",
   "metadata": {},
   "outputs": [],
   "source": [
    "acute_hepatic_failure = set()\n",
    "for i,row in tqdm(df.iterrows()):\n",
    "    if df.loc[i,'acute_hepatic_failure_true_count'] >= 1:\n",
    "        acute_hepatic_failure.add(df.loc[i,'client_idcode'])\n",
    "with open ('/projects/RALES TRIAL/1A/notspiro dataextraction/notspiro data/acute_hepatic_failure.pickle', 'wb') as f:\n",
    "    pickle.dump(acute_hepatic_failure,f)\n",
    "len(acute_hepatic_failure)"
   ]
  },
  {
   "cell_type": "code",
   "execution_count": null,
   "id": "0a408600",
   "metadata": {},
   "outputs": [],
   "source": []
  }
 ],
 "metadata": {
  "kernelspec": {
   "display_name": "Python 3 (ipykernel)",
   "language": "python",
   "name": "python3"
  },
  "language_info": {
   "codemirror_mode": {
    "name": "ipython",
    "version": 3
   },
   "file_extension": ".py",
   "mimetype": "text/x-python",
   "name": "python",
   "nbconvert_exporter": "python",
   "pygments_lexer": "ipython3",
   "version": "3.9.7"
  }
 },
 "nbformat": 4,
 "nbformat_minor": 5
}
