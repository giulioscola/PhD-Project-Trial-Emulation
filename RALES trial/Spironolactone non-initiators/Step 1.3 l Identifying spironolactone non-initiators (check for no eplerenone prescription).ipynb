{
 "cells": [
  {
   "cell_type": "code",
   "execution_count": null,
   "id": "9010645e",
   "metadata": {},
   "outputs": [],
   "source": [
    "import pickle\n",
    "import pandas as pd\n",
    "import networkx as nx\n",
    "import datetime\n",
    "from tqdm import tqdm"
   ]
  },
  {
   "cell_type": "markdown",
   "id": "7129082e",
   "metadata": {},
   "source": [
    "# HF patients"
   ]
  },
  {
   "cell_type": "code",
   "execution_count": null,
   "id": "c6f951c3",
   "metadata": {},
   "outputs": [],
   "source": [
    "hf = pd.read_csv('/projects/RALES TRIAL/1A/notspiro dataextraction/notspiro data/hf_patients.csv')\n",
    "hf.shape"
   ]
  },
  {
   "cell_type": "code",
   "execution_count": null,
   "id": "f4207183",
   "metadata": {},
   "outputs": [],
   "source": [
    "hf_patients = set(hf['client_idcode'])\n",
    "len(hf_patients)"
   ]
  },
  {
   "cell_type": "markdown",
   "id": "57ac1685",
   "metadata": {},
   "source": [
    "#  Patients on eplerenone (structured data)"
   ]
  },
  {
   "cell_type": "code",
   "execution_count": null,
   "id": "aa6c8343",
   "metadata": {},
   "outputs": [],
   "source": [
    "df_structured_data = pd.read_csv('/projects/data/GS/HF/eplerenone_orders.csv')\n",
    "del df_structured_data['Unnamed: 0']\n",
    "del df_structured_data['order_isprn']\n",
    "del df_structured_data['order_subsequencenum']"
   ]
  },
  {
   "cell_type": "code",
   "execution_count": null,
   "id": "b337c0e7",
   "metadata": {},
   "outputs": [],
   "source": [
    "df_structured_data.order_arrivaldtm.isna().sum()"
   ]
  },
  {
   "cell_type": "code",
   "execution_count": null,
   "id": "2f079b24",
   "metadata": {},
   "outputs": [],
   "source": [
    "df_structured_data['order_arrivaldtm'] = pd.to_datetime(df_structured_data['order_arrivaldtm'], utc=True).dt.date \n",
    "df_structured_data = df_structured_data[['client_idcode', 'order_arrivaldtm']]\n",
    "df_structured_data.shape"
   ]
  },
  {
   "cell_type": "code",
   "execution_count": null,
   "id": "a531731c",
   "metadata": {},
   "outputs": [],
   "source": [
    "df = pd.merge(df_structured_data, hf, on='client_idcode')\n",
    "df.shape"
   ]
  },
  {
   "cell_type": "code",
   "execution_count": null,
   "id": "91e4972c",
   "metadata": {},
   "outputs": [],
   "source": [
    "df['order_arrivaldtm'] = pd.to_datetime(df['order_arrivaldtm'], utc=True).dt.date \n",
    "df['difference'] = pd.to_datetime(df['start_date']) - pd.to_datetime(df['order_arrivaldtm'])\n",
    "min_time = datetime.timedelta(days=0) \n",
    "max_time = datetime.timedelta(days=183)\n",
    "t1 = df['difference'] >= min_time \n",
    "t2 = df['difference'] <= max_time\n",
    "in_window = t1 & t2 \n",
    "df['in_window'] = in_window"
   ]
  },
  {
   "cell_type": "code",
   "execution_count": null,
   "id": "8fcb2e29",
   "metadata": {},
   "outputs": [],
   "source": [
    "df = df.loc[df['in_window'] == True]\n",
    "df.shape"
   ]
  },
  {
   "cell_type": "code",
   "execution_count": null,
   "id": "130ed0e9",
   "metadata": {},
   "outputs": [],
   "source": [
    "print(df['difference'].isna().sum())\n",
    "df.head()"
   ]
  },
  {
   "cell_type": "code",
   "execution_count": null,
   "id": "c5216b79",
   "metadata": {},
   "outputs": [],
   "source": [
    "hf_patients_on_eplerenone_structured = set(df['client_idcode'])\n",
    "len(hf_patients_on_eplerenone_structured)"
   ]
  },
  {
   "cell_type": "markdown",
   "id": "fdc3e754",
   "metadata": {},
   "source": [
    "#  Patients on eplerenone (unstructured data)"
   ]
  },
  {
   "cell_type": "code",
   "execution_count": null,
   "id": "e35cc4a4",
   "metadata": {},
   "outputs": [],
   "source": [
    "def graph_from_onto(onto):\n",
    "    G = nx.DiGraph()\n",
    "    cl_edges = []\n",
    "    for s, ts in onto.items():\n",
    "        for t in ts:\n",
    "            cl_edges.append((s.replace('S-', ''), t.replace('S-', '')))\n",
    "    G.add_edges_from(cl_edges)\n",
    "    return G\n",
    "\n",
    "def load_onto(o):\n",
    "    with open(f'/projects/data/GS/{o}', 'rb') as f:\n",
    "        onto = pickle.load(f)\n",
    "    G = graph_from_onto(onto)\n",
    "    return G\n",
    "\n",
    "def expand_codes(onto, codes):\n",
    "    expanded = {}\n",
    "    for name, top_codes in codes.items():\n",
    "        expanded[name] = set()\n",
    "        for c in top_codes:\n",
    "            expanded[name].add(c)\n",
    "            if c in onto:\n",
    "                expanded[name].update(nx.ancestors(onto, c))\n",
    "            else:\n",
    "                print(\"NOT FOUND:\", c, name)\n",
    "        print(name, len(top_codes), len(expanded[name]))\n",
    "    return expanded"
   ]
  },
  {
   "cell_type": "code",
   "execution_count": null,
   "id": "481464ae",
   "metadata": {},
   "outputs": [],
   "source": [
    "onto = load_onto('isa_rela_ch2pt_202009.pickle')"
   ]
  },
  {
   "cell_type": "code",
   "execution_count": null,
   "id": "af692cca",
   "metadata": {},
   "outputs": [],
   "source": [
    "# entering the SNOMED codes for eplerenone\n",
    "\n",
    "eplerenone = {'eplerenone' : ['407010008', '398699008']}\n",
    "eplerenone_codes =  expand_codes(onto,eplerenone)"
   ]
  },
  {
   "cell_type": "code",
   "execution_count": null,
   "id": "b4ab857f",
   "metadata": {},
   "outputs": [],
   "source": [
    "eplerenone_codes = set()\n",
    "for x in eplerenone.values():\n",
    "    eplerenone_codes.update(x)"
   ]
  },
  {
   "cell_type": "code",
   "execution_count": null,
   "id": "2eb5db3f",
   "metadata": {},
   "outputs": [],
   "source": [
    "%%time \n",
    "with open('/projects/data/GS/pt2cui_pos_dates.pickle', 'rb') as f:\n",
    "    pt2cui_pos_dates = pickle.load(f)"
   ]
  },
  {
   "cell_type": "code",
   "execution_count": null,
   "id": "669afe1b",
   "metadata": {},
   "outputs": [],
   "source": [
    "# function to identify HF patients with 2 mentions of eplerenone \n",
    "\n",
    "\n",
    "def dates_ex(pt_data, codes):\n",
    "    dates = None\n",
    "    for x in codes:\n",
    "        if x in pt_data and len(pt_data[x])>=2:\n",
    "            if dates == None:\n",
    "                dates = pt_data[x]\n",
    "            else: \n",
    "                dates = dates.union(pt_data[x])\n",
    "    return dates\n",
    "\n",
    "dates_eplerenone = {}\n",
    "for pt in hf_patients:\n",
    "    pt_data = pt2cui_pos_dates.get(pt, {})\n",
    "    dates = dates_ex(pt_data, eplerenone_codes) #\n",
    "    dates_eplerenone[pt] = dates"
   ]
  },
  {
   "cell_type": "code",
   "execution_count": null,
   "id": "23e4d547",
   "metadata": {},
   "outputs": [],
   "source": [
    "# filter out the None values (aka non initiators)\n",
    "\n",
    "print(len(dates_eplerenone))\n",
    "filtered_eplerenone_dictionary = {k: v for k, v in dates_eplerenone.items() if v is not None}\n",
    "len(filtered_eplerenone_dictionary)"
   ]
  },
  {
   "cell_type": "code",
   "execution_count": null,
   "id": "642bf581",
   "metadata": {},
   "outputs": [],
   "source": [
    "df_unstructured_data = pd.DataFrame(filtered_eplerenone_dictionary.items(), columns = ['client_idcode', 'eplerenone_date'])\n",
    "len(df_unstructured_data)"
   ]
  },
  {
   "cell_type": "code",
   "execution_count": null,
   "id": "f00b5f8f",
   "metadata": {},
   "outputs": [],
   "source": [
    "# expanding the dataset; 1 row for each date\n",
    "\n",
    "df_unstructured_data = df_unstructured_data[['client_idcode']].join((df_unstructured_data[i].explode() for i in df_unstructured_data.iloc[:,1:]))"
   ]
  },
  {
   "cell_type": "code",
   "execution_count": null,
   "id": "a480b654",
   "metadata": {},
   "outputs": [],
   "source": [
    "df_unstructured_data['eplerenone_date'] = pd.to_datetime(df_unstructured_data['eplerenone_date'], utc=True).dt.date\n",
    "df_unstructured_data.head()"
   ]
  },
  {
   "cell_type": "code",
   "execution_count": null,
   "id": "956352ac",
   "metadata": {},
   "outputs": [],
   "source": [
    "df = pd.merge(hf, df_unstructured_data, on='client_idcode')\n",
    "df.shape"
   ]
  },
  {
   "cell_type": "code",
   "execution_count": null,
   "id": "c9e378e1",
   "metadata": {},
   "outputs": [],
   "source": [
    "df.head()"
   ]
  },
  {
   "cell_type": "code",
   "execution_count": null,
   "id": "a4e951ad",
   "metadata": {},
   "outputs": [],
   "source": [
    "df['difference'] = pd.to_datetime(df['start_date']) - pd.to_datetime(df['eplerenone_date'])\n",
    "min_time = datetime.timedelta(days=0) \n",
    "max_time = datetime.timedelta(days=183)\n",
    "t1 = df['difference'] >= min_time \n",
    "t2 = df['difference'] <= max_time\n",
    "in_window = t1 & t2 \n",
    "df['in_window'] = in_window"
   ]
  },
  {
   "cell_type": "code",
   "execution_count": null,
   "id": "6c2f35ed",
   "metadata": {},
   "outputs": [],
   "source": [
    "df = df.loc[df['in_window'] == True]\n",
    "df.shape"
   ]
  },
  {
   "cell_type": "code",
   "execution_count": null,
   "id": "f02482a7",
   "metadata": {},
   "outputs": [],
   "source": [
    "print(df['difference'].isna().sum())\n",
    "df.head()"
   ]
  },
  {
   "cell_type": "code",
   "execution_count": null,
   "id": "0abd58fe",
   "metadata": {},
   "outputs": [],
   "source": [
    "hf_patients_on_eplerenone_unstructured = set(df['client_idcode'])\n",
    "len(hf_patients_on_eplerenone_unstructured)"
   ]
  },
  {
   "cell_type": "markdown",
   "id": "53121e15",
   "metadata": {},
   "source": [
    "# Comparing structured and unstructured data"
   ]
  },
  {
   "cell_type": "code",
   "execution_count": null,
   "id": "6e8c4c7d",
   "metadata": {},
   "outputs": [],
   "source": [
    "hf_patients_on_eplerenone_unstructured.update(hf_patients_on_eplerenone_structured)\n",
    "print(len(hf_patients_on_eplerenone_unstructured))\n",
    "hf_patients_on_eplerenone = hf_patients_on_eplerenone_unstructured\n",
    "len(hf_patients_on_eplerenone )"
   ]
  },
  {
   "cell_type": "code",
   "execution_count": null,
   "id": "0f96203d",
   "metadata": {},
   "outputs": [],
   "source": [
    "with open ('/projects/RALES TRIAL/1A/notspiro dataextraction/notspiro data/hf_patients_on_eplerenone.pickle', 'wb') as f:\n",
    "    pickle.dump(hf_patients_on_eplerenone,f)"
   ]
  },
  {
   "cell_type": "code",
   "execution_count": null,
   "id": "a4ca0b9b",
   "metadata": {},
   "outputs": [],
   "source": []
  }
 ],
 "metadata": {
  "kernelspec": {
   "display_name": "Python 3 (ipykernel)",
   "language": "python",
   "name": "python3"
  },
  "language_info": {
   "codemirror_mode": {
    "name": "ipython",
    "version": 3
   },
   "file_extension": ".py",
   "mimetype": "text/x-python",
   "name": "python",
   "nbconvert_exporter": "python",
   "pygments_lexer": "ipython3",
   "version": "3.9.7"
  }
 },
 "nbformat": 4,
 "nbformat_minor": 5
}
