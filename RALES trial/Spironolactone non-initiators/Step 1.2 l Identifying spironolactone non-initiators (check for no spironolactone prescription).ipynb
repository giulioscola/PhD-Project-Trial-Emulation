{
 "cells": [
  {
   "cell_type": "code",
   "execution_count": null,
   "id": "a0e4f8d8",
   "metadata": {},
   "outputs": [],
   "source": [
    "import pickle\n",
    "import networkx as nx\n",
    "import pandas as pd \n",
    "import datetime\n",
    "import pandas"
   ]
  },
  {
   "cell_type": "markdown",
   "id": "fa409a2a",
   "metadata": {},
   "source": [
    "# HF patients  "
   ]
  },
  {
   "cell_type": "code",
   "execution_count": null,
   "id": "77b5ee46",
   "metadata": {},
   "outputs": [],
   "source": [
    "hf = pd.read_csv('/projects/RALES TRIAL/1A/notspiro dataextraction/notspiro data/hf_patients.csv')\n",
    "hf.shape"
   ]
  },
  {
   "cell_type": "code",
   "execution_count": null,
   "id": "74ed2ab3",
   "metadata": {},
   "outputs": [],
   "source": [
    "hf_patients = set(hf['client_idcode'])\n",
    "len(hf_patients)"
   ]
  },
  {
   "cell_type": "markdown",
   "id": "2e6356dd",
   "metadata": {},
   "source": [
    "# Identifying HF patients not on spironolactone (structured data) "
   ]
  },
  {
   "cell_type": "code",
   "execution_count": null,
   "id": "539f47ab",
   "metadata": {},
   "outputs": [],
   "source": [
    "df = pd.read_csv('/projects/data/GS/HF/gs_all_orders.csv') # load the orders table\n",
    "df = df[['client_idcode', 'order_name', 'order_summaryline', 'order_entered', 'order_arrivaldtm']]\n",
    "df['drug_name'] = df['order_name'].str.upper()"
   ]
  },
  {
   "cell_type": "code",
   "execution_count": null,
   "id": "351a9e37",
   "metadata": {},
   "outputs": [],
   "source": [
    "%%time\n",
    "drug_names = ['SPIRONOLACTONE']\n",
    "keep = []\n",
    "for index, row in df.iterrows():\n",
    "    keep.append(any([x in row['drug_name'] for x  in drug_names]))"
   ]
  },
  {
   "cell_type": "code",
   "execution_count": null,
   "id": "da20c497",
   "metadata": {},
   "outputs": [],
   "source": [
    "df = df.loc[keep]\n",
    "df.shape"
   ]
  },
  {
   "cell_type": "code",
   "execution_count": null,
   "id": "2e98a6ba",
   "metadata": {},
   "outputs": [],
   "source": [
    "df = pd.merge(df, hf, on='client_idcode')\n",
    "df.shape"
   ]
  },
  {
   "cell_type": "code",
   "execution_count": null,
   "id": "047d531e",
   "metadata": {},
   "outputs": [],
   "source": [
    "df['order_arrivaldtm'] = pd.to_datetime(df['order_arrivaldtm'], utc=True).dt.date \n",
    "df['difference'] = pd.to_datetime(df['start_date']) - pd.to_datetime(df['order_arrivaldtm'])\n",
    "min_time = datetime.timedelta(days=0) \n",
    "max_time = datetime.timedelta(days=183)\n",
    "t1 = df['difference'] >= min_time \n",
    "t2 = df['difference'] <= max_time\n",
    "in_window = t1 & t2 \n",
    "df['in_window'] = in_window"
   ]
  },
  {
   "cell_type": "code",
   "execution_count": null,
   "id": "7887839b",
   "metadata": {},
   "outputs": [],
   "source": [
    "df.head()"
   ]
  },
  {
   "cell_type": "code",
   "execution_count": null,
   "id": "e5c6e46f",
   "metadata": {},
   "outputs": [],
   "source": [
    "df = df.loc[df['in_window'] == True]\n",
    "df.shape"
   ]
  },
  {
   "cell_type": "code",
   "execution_count": null,
   "id": "c1073b7a",
   "metadata": {},
   "outputs": [],
   "source": [
    "print(df['difference'].isna().sum())\n",
    "df.head()"
   ]
  },
  {
   "cell_type": "code",
   "execution_count": null,
   "id": "e441b6b4",
   "metadata": {},
   "outputs": [],
   "source": [
    "hf_patients_on_spiro_structured = set(df['client_idcode'])\n",
    "len(hf_patients_on_spiro_structured)"
   ]
  },
  {
   "cell_type": "markdown",
   "id": "bbe73e3d",
   "metadata": {},
   "source": [
    "# Identifying HF patients not on spironolactone (unstructured data) "
   ]
  },
  {
   "cell_type": "code",
   "execution_count": null,
   "id": "16201a2f",
   "metadata": {},
   "outputs": [],
   "source": [
    "def graph_from_onto(onto):\n",
    "    G = nx.DiGraph()\n",
    "    cl_edges = []\n",
    "    for s, ts in onto.items():\n",
    "        for t in ts:\n",
    "            cl_edges.append((s.replace('S-', ''), t.replace('S-', '')))\n",
    "    G.add_edges_from(cl_edges)\n",
    "    return G\n",
    "\n",
    "def load_onto(o):\n",
    "    with open(f'/projects/data/GS/{o}', 'rb') as f:\n",
    "        onto = pickle.load(f)\n",
    "    G = graph_from_onto(onto)\n",
    "    return G\n",
    "\n",
    "def expand_codes(onto, codes):\n",
    "    expanded = {}\n",
    "    for name, top_codes in codes.items():\n",
    "        expanded[name] = set()\n",
    "        for c in top_codes:\n",
    "            expanded[name].add(c)\n",
    "            if c in onto:\n",
    "                expanded[name].update(nx.ancestors(onto, c))\n",
    "            else:\n",
    "                print(\"NOT FOUND:\", c, name)\n",
    "        print(name, len(top_codes), len(expanded[name]))\n",
    "    return expanded"
   ]
  },
  {
   "cell_type": "code",
   "execution_count": null,
   "id": "3831a082",
   "metadata": {},
   "outputs": [],
   "source": [
    "onto = load_onto('isa_rela_ch2pt_202009.pickle')"
   ]
  },
  {
   "cell_type": "code",
   "execution_count": null,
   "id": "f6d8f21d",
   "metadata": {},
   "outputs": [],
   "source": [
    "spiro = {'Spironolactone' : ['387078006','13929005','777603002', '318056008', '1301111000001106', '1261411000001109']}\n",
    "spiro = expand_codes(onto,spiro)"
   ]
  },
  {
   "cell_type": "code",
   "execution_count": null,
   "id": "5607d92e",
   "metadata": {},
   "outputs": [],
   "source": [
    "spiro_codes = set()\n",
    "for x in spiro.values():\n",
    "    spiro_codes.update(x)"
   ]
  },
  {
   "cell_type": "code",
   "execution_count": null,
   "id": "08b9caef",
   "metadata": {},
   "outputs": [],
   "source": [
    "%%time \n",
    "with open('/projects/data/GS/pt2cui_pos_dates.pickle', 'rb') as f:\n",
    "    pt2cui_pos_dates = pickle.load(f)"
   ]
  },
  {
   "cell_type": "code",
   "execution_count": null,
   "id": "ff67c3b3",
   "metadata": {},
   "outputs": [],
   "source": [
    "# function to identify HF patients with 2 mentions of spironolactone \n",
    "\n",
    "\n",
    "def dates_ex(pt_data, codes):\n",
    "    dates = None\n",
    "    for x in codes:\n",
    "        if x in pt_data and len(pt_data[x])>=2:\n",
    "            if dates == None:\n",
    "                dates = pt_data[x]\n",
    "            else: \n",
    "                dates = dates.union(pt_data[x])\n",
    "    return dates\n",
    "\n",
    "dates_spiro = {}\n",
    "for pt in hf_patients:\n",
    "    pt_data = pt2cui_pos_dates.get(pt, {})\n",
    "    dates = dates_ex(pt_data, spiro_codes) #\n",
    "    dates_spiro[pt] = dates"
   ]
  },
  {
   "cell_type": "code",
   "execution_count": null,
   "id": "ac8c913e",
   "metadata": {},
   "outputs": [],
   "source": [
    "len(dates_spiro)"
   ]
  },
  {
   "cell_type": "code",
   "execution_count": null,
   "id": "26b616e1",
   "metadata": {},
   "outputs": [],
   "source": [
    "None not in dates_spiro.values()"
   ]
  },
  {
   "cell_type": "code",
   "execution_count": null,
   "id": "ad73e1b1",
   "metadata": {},
   "outputs": [],
   "source": [
    "filtered_dates_spiro = {k: v for k, v in dates_spiro.items() if v is not None}\n",
    "print(len(filtered_dates_spiro))\n",
    "spiro_dates = pd.DataFrame(list(filtered_dates_spiro.items()), columns=['client_idcode', 'spiro_date']) \n",
    "spiro_dates.shape"
   ]
  },
  {
   "cell_type": "code",
   "execution_count": null,
   "id": "5b51432e",
   "metadata": {},
   "outputs": [],
   "source": [
    "# expanding the dataset; 1 row for each date\n",
    "\n",
    "spiro_dates = spiro_dates[['client_idcode']].join((spiro_dates[i].explode() for i in spiro_dates.iloc[:,1:]))"
   ]
  },
  {
   "cell_type": "code",
   "execution_count": null,
   "id": "c5867f30",
   "metadata": {},
   "outputs": [],
   "source": [
    "spiro_dates['spiro_date'] = pd.to_datetime(spiro_dates['spiro_date'], utc=True).dt.date "
   ]
  },
  {
   "cell_type": "code",
   "execution_count": null,
   "id": "dc4e3b6e",
   "metadata": {},
   "outputs": [],
   "source": [
    "df = pd.merge(spiro_dates, hf, on='client_idcode')\n",
    "df.shape"
   ]
  },
  {
   "cell_type": "code",
   "execution_count": null,
   "id": "513e0ad9",
   "metadata": {},
   "outputs": [],
   "source": [
    "df.head()"
   ]
  },
  {
   "cell_type": "code",
   "execution_count": null,
   "id": "f9e2f27b",
   "metadata": {},
   "outputs": [],
   "source": [
    "df['difference'] = pd.to_datetime(df['start_date']) - pd.to_datetime(df['spiro_date'])\n",
    "min_time = datetime.timedelta(days=0) \n",
    "max_time = datetime.timedelta(days=183)\n",
    "t1 = df['difference'] >= min_time \n",
    "t2 = df['difference'] <= max_time\n",
    "in_window = t1 & t2 \n",
    "df['in_window'] = in_window"
   ]
  },
  {
   "cell_type": "code",
   "execution_count": null,
   "id": "eafd679f",
   "metadata": {},
   "outputs": [],
   "source": [
    "df = df.loc[df['in_window'] == True]\n",
    "df.shape"
   ]
  },
  {
   "cell_type": "code",
   "execution_count": null,
   "id": "08c92122",
   "metadata": {},
   "outputs": [],
   "source": [
    "print(df['difference'].isna().sum())\n",
    "df.head()"
   ]
  },
  {
   "cell_type": "code",
   "execution_count": null,
   "id": "6ca94933",
   "metadata": {},
   "outputs": [],
   "source": [
    "hf_patients_on_spiro_unstructured = set(df['client_idcode'])\n",
    "len(hf_patients_on_spiro_unstructured)"
   ]
  },
  {
   "cell_type": "markdown",
   "id": "ab99df1a",
   "metadata": {},
   "source": [
    "# Comparing structured and unstructured data"
   ]
  },
  {
   "cell_type": "code",
   "execution_count": null,
   "id": "888bd256",
   "metadata": {},
   "outputs": [],
   "source": [
    "hf_patients_on_spiro_unstructured.update(hf_patients_on_spiro_structured)\n",
    "print(len(hf_patients_on_spiro_unstructured))\n",
    "hf_patients_on_spiro = hf_patients_on_spiro_unstructured\n",
    "len(hf_patients_on_spiro )"
   ]
  },
  {
   "cell_type": "code",
   "execution_count": null,
   "id": "53f15768",
   "metadata": {},
   "outputs": [],
   "source": [
    "with open ('/projects/RALES TRIAL/1A/notspiro dataextraction/notspiro data/hf_patients_on_spiro.pickle', 'wb') as f:\n",
    "    pickle.dump(hf_patients_on_spiro,f)"
   ]
  },
  {
   "cell_type": "code",
   "execution_count": null,
   "id": "2ca3af5c",
   "metadata": {},
   "outputs": [],
   "source": []
  }
 ],
 "metadata": {
  "kernelspec": {
   "display_name": "Python 3 (ipykernel)",
   "language": "python",
   "name": "python3"
  },
  "language_info": {
   "codemirror_mode": {
    "name": "ipython",
    "version": 3
   },
   "file_extension": ".py",
   "mimetype": "text/x-python",
   "name": "python",
   "nbconvert_exporter": "python",
   "pygments_lexer": "ipython3",
   "version": "3.9.7"
  }
 },
 "nbformat": 4,
 "nbformat_minor": 5
}
