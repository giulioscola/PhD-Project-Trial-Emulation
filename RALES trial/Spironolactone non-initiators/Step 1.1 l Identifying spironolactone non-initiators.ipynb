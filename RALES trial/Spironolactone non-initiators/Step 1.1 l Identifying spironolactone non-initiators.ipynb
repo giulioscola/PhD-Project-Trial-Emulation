{
 "cells": [
  {
   "cell_type": "code",
   "execution_count": null,
   "id": "17eee875",
   "metadata": {},
   "outputs": [],
   "source": [
    "import pickle\n",
    "import networkx as nx\n",
    "import pandas as pd \n",
    "import datetime\n",
    "import pandas\n",
    "import glob\n",
    "import os"
   ]
  },
  {
   "cell_type": "markdown",
   "id": "2c83d16b",
   "metadata": {},
   "source": [
    "# Identifying HF patients  "
   ]
  },
  {
   "cell_type": "code",
   "execution_count": null,
   "id": "5cf7d584",
   "metadata": {},
   "outputs": [],
   "source": [
    "def graph_from_onto(onto):\n",
    "    G = nx.DiGraph()\n",
    "    cl_edges = []\n",
    "    for s, ts in onto.items():\n",
    "        for t in ts:\n",
    "            cl_edges.append((s.replace('S-', ''), t.replace('S-', '')))\n",
    "    G.add_edges_from(cl_edges)\n",
    "    return G\n",
    "\n",
    "def load_onto(o):\n",
    "    with open(f'/projects/data/GS/{o}', 'rb') as f:\n",
    "        onto = pickle.load(f)\n",
    "    G = graph_from_onto(onto)\n",
    "    return G\n",
    "\n",
    "def expand_codes(onto, codes):\n",
    "    expanded = {}\n",
    "    for name, top_codes in codes.items():\n",
    "        expanded[name] = set()\n",
    "        for c in top_codes:\n",
    "            expanded[name].add(c)\n",
    "            if c in onto:\n",
    "                expanded[name].update(nx.ancestors(onto, c))\n",
    "            else:\n",
    "                print(\"NOT FOUND:\", c, name)\n",
    "        print(name, len(top_codes), len(expanded[name]))\n",
    "    return expanded"
   ]
  },
  {
   "cell_type": "code",
   "execution_count": null,
   "id": "2141686c",
   "metadata": {},
   "outputs": [],
   "source": [
    "hf = { 'HF' : ['84114007']}\n",
    "onto = load_onto('isa_rela_ch2pt_202009.pickle')\n",
    "hf = expand_codes(onto,hf)"
   ]
  },
  {
   "cell_type": "code",
   "execution_count": null,
   "id": "20c4b8a8",
   "metadata": {},
   "outputs": [],
   "source": [
    "hf_codes = set()\n",
    "for x in hf.values():\n",
    "    hf_codes.update(x)"
   ]
  },
  {
   "cell_type": "code",
   "execution_count": null,
   "id": "61282a47",
   "metadata": {},
   "outputs": [],
   "source": [
    "%%time \n",
    "with open('/projects/data/GS/pt2cui_pos_dates.pickle', 'rb') as f:\n",
    "    pt2cui_pos_dates = pickle.load(f)"
   ]
  },
  {
   "cell_type": "code",
   "execution_count": null,
   "id": "158b5588",
   "metadata": {},
   "outputs": [],
   "source": [
    "def first_date_for_code_list(pt_data, codes):\n",
    "    first = None\n",
    "    for x in codes:\n",
    "        if x in pt_data and len(pt_data[x])>=2:  \n",
    "            if first == None:\n",
    "                first = min(pt_data[x])\n",
    "            else:\n",
    "                first = min(first, min(pt_data[x]))\n",
    "    return first\n",
    "\n",
    "first_mention_hf = {}\n",
    "for pt in pt2cui_pos_dates:\n",
    "    pt_data = pt2cui_pos_dates.get(pt, {})\n",
    "    first = first_date_for_code_list(pt_data, hf_codes)\n",
    "    first_mention_hf[pt] = first"
   ]
  },
  {
   "cell_type": "code",
   "execution_count": null,
   "id": "b4531ae2",
   "metadata": {},
   "outputs": [],
   "source": [
    "print(len(first_mention_hf))\n",
    "first_mention_hf = {k: v for k, v in first_mention_hf.items() if v is not None}\n",
    "len(filtered_first_mention_hf)"
   ]
  },
  {
   "cell_type": "code",
   "execution_count": null,
   "id": "7b1de04e",
   "metadata": {},
   "outputs": [],
   "source": [
    "filtered_first_mention_hf = pd.DataFrame(list(filtered_first_mention_hf.items()), columns=['client_idcode', 'first_mention_hf'])\n",
    "filtered_first_mention_hf['first_mention_hf'] = pd.to_datetime(filtered_first_mention_hf['first_mention_hf'], utc=True).dt.date \n",
    "filtered_first_mention_hf.head()"
   ]
  },
  {
   "cell_type": "code",
   "execution_count": null,
   "id": "7b52ced8",
   "metadata": {},
   "outputs": [],
   "source": [
    "hf_patients = set(filtered_first_mention_hf['client_idcode'])\n",
    "len(hf_patients)"
   ]
  },
  {
   "cell_type": "markdown",
   "id": "d350ea0e",
   "metadata": {},
   "source": [
    "# LVEF  "
   ]
  },
  {
   "cell_type": "code",
   "execution_count": null,
   "id": "5f096ebc",
   "metadata": {},
   "outputs": [],
   "source": [
    "df = pd.read_csv('/projects/data/GS/HF/from_jack/FULL_TEXT_cardiac_echo_report_v2_with_vars.csv')\n",
    "del df['Unnamed: 0']"
   ]
  },
  {
   "cell_type": "code",
   "execution_count": null,
   "id": "443dec2d",
   "metadata": {},
   "outputs": [],
   "source": [
    "df.shape"
   ]
  },
  {
   "cell_type": "code",
   "execution_count": null,
   "id": "2e4ad08e",
   "metadata": {},
   "outputs": [],
   "source": [
    "df = df.loc[df['ef_value'] <= 35] # automatisation\n",
    "df.shape"
   ]
  },
  {
   "cell_type": "markdown",
   "id": "0cfc245b",
   "metadata": {},
   "source": [
    "# Extracting LVEF data for each HF patient  "
   ]
  },
  {
   "cell_type": "code",
   "execution_count": null,
   "id": "cee8ae59",
   "metadata": {},
   "outputs": [],
   "source": [
    "df = pd.merge(df, filtered_first_mention_hf, on='client_idcode', how='right')\n",
    "df = df[df['ef_value'].notna()]\n",
    "df.shape"
   ]
  },
  {
   "cell_type": "code",
   "execution_count": null,
   "id": "230abb09",
   "metadata": {},
   "outputs": [],
   "source": [
    "len(df.loc[df['document_datecreated'].isna()])"
   ]
  },
  {
   "cell_type": "code",
   "execution_count": null,
   "id": "aa7c439d",
   "metadata": {},
   "outputs": [],
   "source": [
    "df = df[['client_idcode', 'first_mention_hf', 'document_datecreated', 'ef_value']]"
   ]
  },
  {
   "cell_type": "code",
   "execution_count": null,
   "id": "53a5edb6",
   "metadata": {},
   "outputs": [],
   "source": [
    "df['document_datecreated'] = pd.to_datetime(df['document_datecreated'], utc=True).dt.date \n",
    "df['difference'] = pd.to_datetime(df['first_mention_hf']) - pd.to_datetime(df['document_datecreated'])\n",
    "min_time = datetime.timedelta(days=-182) \n",
    "max_time = datetime.timedelta(days=0)\n",
    "t1 = df['difference'] >= min_time \n",
    "t2 = df['difference'] <= max_time\n",
    "in_window = t1 & t2 \n",
    "df['in_window'] = in_window"
   ]
  },
  {
   "cell_type": "code",
   "execution_count": null,
   "id": "306bfddf",
   "metadata": {},
   "outputs": [],
   "source": [
    "df.head()"
   ]
  },
  {
   "cell_type": "code",
   "execution_count": null,
   "id": "1d41cf12",
   "metadata": {},
   "outputs": [],
   "source": [
    "df = df.loc[df['in_window'] == True]\n",
    "df.shape"
   ]
  },
  {
   "cell_type": "code",
   "execution_count": null,
   "id": "c08eb171",
   "metadata": {},
   "outputs": [],
   "source": [
    "duplicates = df['client_idcode'].duplicated()\n",
    "duplicates.value_counts()"
   ]
  },
  {
   "cell_type": "code",
   "execution_count": null,
   "id": "fc460cad",
   "metadata": {},
   "outputs": [],
   "source": [
    "df = df[df.groupby('client_idcode').document_datecreated.transform('min') == df['document_datecreated']]\n",
    "df.shape"
   ]
  },
  {
   "cell_type": "code",
   "execution_count": null,
   "id": "b7b28749",
   "metadata": {},
   "outputs": [],
   "source": [
    "df.head()"
   ]
  },
  {
   "cell_type": "code",
   "execution_count": null,
   "id": "556cfef0",
   "metadata": {},
   "outputs": [],
   "source": [
    "duplicates = df['client_idcode'].duplicated()\n",
    "duplicates.value_counts()"
   ]
  },
  {
   "cell_type": "code",
   "execution_count": null,
   "id": "ed5ecfba",
   "metadata": {},
   "outputs": [],
   "source": [
    "df['result'] = df.groupby('client_idcode')['ef_value'].transform('mean')\n",
    "df.drop_duplicates(subset='client_idcode', keep='first', inplace = True)\n",
    "df.reset_index(drop=True, inplace=True)"
   ]
  },
  {
   "cell_type": "code",
   "execution_count": null,
   "id": "cfdceff9",
   "metadata": {},
   "outputs": [],
   "source": [
    "df.shape"
   ]
  },
  {
   "cell_type": "code",
   "execution_count": null,
   "id": "a9bbf3d0",
   "metadata": {},
   "outputs": [],
   "source": [
    "ids = set(df['client_idcode'])\n",
    "print(len(ids))\n",
    "print(len(hf_patients))"
   ]
  },
  {
   "cell_type": "code",
   "execution_count": null,
   "id": "a70abd5c",
   "metadata": {},
   "outputs": [],
   "source": [
    "no_lvef_ids = hf_patients.difference(ids)\n",
    "len(no_lvef_ids)"
   ]
  },
  {
   "cell_type": "code",
   "execution_count": null,
   "id": "ea4de97e",
   "metadata": {},
   "outputs": [],
   "source": [
    "df.head()"
   ]
  },
  {
   "cell_type": "code",
   "execution_count": null,
   "id": "ec32df4f",
   "metadata": {},
   "outputs": [],
   "source": [
    "df1 = df[['client_idcode', 'result', 'document_datecreated']]\n",
    "df1 = df1.rename(columns={'document_datecreated': 'studystartdatetime'})"
   ]
  },
  {
   "cell_type": "code",
   "execution_count": null,
   "id": "c36141fd",
   "metadata": {},
   "outputs": [],
   "source": [
    "df1.shape"
   ]
  },
  {
   "cell_type": "markdown",
   "id": "f0243041",
   "metadata": {},
   "source": [
    "# Load extra LVEF data "
   ]
  },
  {
   "cell_type": "code",
   "execution_count": null,
   "id": "1847faea",
   "metadata": {},
   "outputs": [],
   "source": [
    "path = '/projects/code/RALES Trial (ERROR)/LVEF/LVEF_not_spiro'\n",
    "all_files = glob.glob(os.path.join(path, \"*.csv\"))\n",
    "df = pd.concat((pd.read_csv(f) for f in all_files), ignore_index=True)"
   ]
  },
  {
   "cell_type": "code",
   "execution_count": null,
   "id": "9831192f",
   "metadata": {},
   "outputs": [],
   "source": [
    "df.shape"
   ]
  },
  {
   "cell_type": "code",
   "execution_count": null,
   "id": "eb369709",
   "metadata": {},
   "outputs": [],
   "source": [
    "df = df[['medicalrecordnumber', 'measname', 'measurevalue', 'studystartdatetime']]\n",
    "df.rename(columns={'medicalrecordnumber':'client_idcode'}, inplace=True)\n",
    "df = pd.merge(df, filtered_first_mention_hf, on='client_idcode') \n",
    "df.shape"
   ]
  },
  {
   "cell_type": "code",
   "execution_count": null,
   "id": "1e03a252",
   "metadata": {},
   "outputs": [],
   "source": [
    "df = df.loc[df['measname'] == 'EF(MOD-BP)']"
   ]
  },
  {
   "cell_type": "code",
   "execution_count": null,
   "id": "9fb54424",
   "metadata": {},
   "outputs": [],
   "source": [
    "print(df['first_mention_hf'].isna().sum())\n",
    "df['studystartdatetime'] = pd.to_datetime(df['studystartdatetime'], utc=True).dt.date"
   ]
  },
  {
   "cell_type": "code",
   "execution_count": null,
   "id": "f308fb69",
   "metadata": {},
   "outputs": [],
   "source": [
    "%%time\n",
    "df['difference'] =  pd.to_datetime(df['first_mention_hf']) - pd.to_datetime(df['studystartdatetime'])\n",
    "min_time = datetime.timedelta(days=-182) \n",
    "max_time = datetime.timedelta(days=0)\n",
    "t1 = df['difference'] >= min_time \n",
    "t2 = df['difference'] <= max_time\n",
    "in_window = t1 & t2 \n",
    "df['in_window'] = in_window"
   ]
  },
  {
   "cell_type": "code",
   "execution_count": null,
   "id": "e1adbb43",
   "metadata": {},
   "outputs": [],
   "source": [
    "df.head()"
   ]
  },
  {
   "cell_type": "code",
   "execution_count": null,
   "id": "a1004910",
   "metadata": {},
   "outputs": [],
   "source": [
    "df = df[df.in_window]\n",
    "df.shape"
   ]
  },
  {
   "cell_type": "code",
   "execution_count": null,
   "id": "a860b652",
   "metadata": {},
   "outputs": [],
   "source": [
    "df = df.loc[df['measurevalue'] <= 35]  # automatisation"
   ]
  },
  {
   "cell_type": "code",
   "execution_count": null,
   "id": "007b26bc",
   "metadata": {},
   "outputs": [],
   "source": [
    "duplicates = df['client_idcode'].duplicated()\n",
    "duplicates.value_counts()"
   ]
  },
  {
   "cell_type": "code",
   "execution_count": null,
   "id": "943c3ee1",
   "metadata": {},
   "outputs": [],
   "source": [
    "df = df[df.groupby('client_idcode').studystartdatetime.transform('min') == df['studystartdatetime']]"
   ]
  },
  {
   "cell_type": "code",
   "execution_count": null,
   "id": "9e3b7fc6",
   "metadata": {},
   "outputs": [],
   "source": [
    "duplicates = df['client_idcode'].duplicated()\n",
    "duplicates.value_counts()"
   ]
  },
  {
   "cell_type": "code",
   "execution_count": null,
   "id": "8a52813b",
   "metadata": {},
   "outputs": [],
   "source": [
    "df['result'] = df.groupby('client_idcode')['measurevalue'].transform('mean')\n",
    "df.drop_duplicates(subset='client_idcode', keep='first', inplace = True)\n",
    "df.reset_index(drop=True, inplace=True)\n",
    "df.shape"
   ]
  },
  {
   "cell_type": "code",
   "execution_count": null,
   "id": "48d774b1",
   "metadata": {},
   "outputs": [],
   "source": [
    "df['extra'] = df['client_idcode'].isin(ids)\n",
    "df = df.loc[df['extra'] == False]\n",
    "df.shape"
   ]
  },
  {
   "cell_type": "code",
   "execution_count": null,
   "id": "2bdb0fd1",
   "metadata": {},
   "outputs": [],
   "source": [
    "df.head()"
   ]
  },
  {
   "cell_type": "code",
   "execution_count": null,
   "id": "5fad86a3",
   "metadata": {},
   "outputs": [],
   "source": [
    "df2 = df[['client_idcode', 'studystartdatetime', 'result']]\n",
    "df2.shape"
   ]
  },
  {
   "cell_type": "markdown",
   "id": "21944e31",
   "metadata": {},
   "source": [
    "# Final LVEF dataset"
   ]
  },
  {
   "cell_type": "code",
   "execution_count": null,
   "id": "64417518",
   "metadata": {},
   "outputs": [],
   "source": [
    "df = df1.append(df2, ignore_index=True)\n",
    "df.shape"
   ]
  },
  {
   "cell_type": "code",
   "execution_count": null,
   "id": "6e64a396",
   "metadata": {},
   "outputs": [],
   "source": [
    "duplicates = df['client_idcode'].duplicated()\n",
    "duplicates.value_counts()"
   ]
  },
  {
   "cell_type": "code",
   "execution_count": null,
   "id": "2fd71ed7",
   "metadata": {},
   "outputs": [],
   "source": [
    "df.head()"
   ]
  },
  {
   "cell_type": "code",
   "execution_count": null,
   "id": "2389880d",
   "metadata": {},
   "outputs": [],
   "source": [
    "df['start_date'] = df['studystartdatetime'] + pd.DateOffset(days=1)"
   ]
  },
  {
   "cell_type": "code",
   "execution_count": null,
   "id": "80e3bc54",
   "metadata": {},
   "outputs": [],
   "source": [
    "df.head()"
   ]
  },
  {
   "cell_type": "code",
   "execution_count": null,
   "id": "2c5c050a",
   "metadata": {},
   "outputs": [],
   "source": [
    "start_date = dict(zip(df.client_idcode, df.start_date))\n",
    "lvef = dict(zip(df.client_idcode, df.result))"
   ]
  },
  {
   "cell_type": "code",
   "execution_count": null,
   "id": "f9aa993e",
   "metadata": {},
   "outputs": [],
   "source": [
    "df.to_csv('/projects/RALES TRIAL/1A/notspiro dataextraction/notspiro data/hf_patients.csv', columns=['client_idcode', 'start_date'], index=False)"
   ]
  },
  {
   "cell_type": "code",
   "execution_count": null,
   "id": "141b6a37",
   "metadata": {},
   "outputs": [],
   "source": [
    "with open ('/projects/RALES TRIAL/1A/notspiro dataextraction/notspiro data/hf_patients.pickle', 'wb') as f:\n",
    "    pickle.dump(start_date,f)"
   ]
  },
  {
   "cell_type": "code",
   "execution_count": null,
   "id": "c08a5c72",
   "metadata": {},
   "outputs": [],
   "source": [
    "with open ('/projects/RALES TRIAL/1A/notspiro dataextraction/notspiro data/lvef.pickle', 'wb') as f:\n",
    "    pickle.dump(lvef,f)"
   ]
  },
  {
   "cell_type": "code",
   "execution_count": null,
   "id": "0c956e29",
   "metadata": {},
   "outputs": [],
   "source": [
    "print(df.loc[df['result'] <= 35])"
   ]
  },
  {
   "cell_type": "code",
   "execution_count": null,
   "id": "bd68892e",
   "metadata": {},
   "outputs": [],
   "source": []
  }
 ],
 "metadata": {
  "kernelspec": {
   "display_name": "Python 3 (ipykernel)",
   "language": "python",
   "name": "python3"
  },
  "language_info": {
   "codemirror_mode": {
    "name": "ipython",
    "version": 3
   },
   "file_extension": ".py",
   "mimetype": "text/x-python",
   "name": "python",
   "nbconvert_exporter": "python",
   "pygments_lexer": "ipython3",
   "version": "3.9.7"
  }
 },
 "nbformat": 4,
 "nbformat_minor": 5
}
