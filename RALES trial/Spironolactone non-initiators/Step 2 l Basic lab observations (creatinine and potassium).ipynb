{
 "cells": [
  {
   "cell_type": "code",
   "execution_count": null,
   "id": "2444caa5",
   "metadata": {},
   "outputs": [],
   "source": [
    "import pandas as pd \n",
    "import pickle\n",
    "import datetime"
   ]
  },
  {
   "cell_type": "markdown",
   "id": "46ea878e",
   "metadata": {},
   "source": [
    "# Creatinine"
   ]
  },
  {
   "cell_type": "code",
   "execution_count": null,
   "id": "a432fe38",
   "metadata": {},
   "outputs": [],
   "source": [
    "df = pd.read_csv('/projects/data/GS/HF/basic_obs.csv') # loading the lab test results data"
   ]
  },
  {
   "cell_type": "code",
   "execution_count": null,
   "id": "12c0204f",
   "metadata": {},
   "outputs": [],
   "source": [
    "print(df['basicobs_itemname_analysed'].unique())\n",
    "df['basicobs_itemname_analysed_b'] = df['basicobs_itemname_analysed'].str.upper() "
   ]
  },
  {
   "cell_type": "code",
   "execution_count": null,
   "id": "6c4bec3b",
   "metadata": {},
   "outputs": [],
   "source": [
    "creatinine = df.loc[df['basicobs_itemname_analysed_b'].str.contains('CREATININE', case=False)] # keeping serum creatinine test results"
   ]
  },
  {
   "cell_type": "code",
   "execution_count": null,
   "id": "d4f3bb76",
   "metadata": {},
   "outputs": [],
   "source": [
    "creatinine['basicobs_unitofmeasure'].unique()"
   ]
  },
  {
   "cell_type": "code",
   "execution_count": null,
   "id": "83ee2acc",
   "metadata": {},
   "outputs": [],
   "source": [
    "hf = pd.read_csv('/projects/RALES TRIAL/1A/notspiro dataextraction/notspiro data/hf_patients.csv')  \n",
    "len(hf)  # loading HF patients"
   ]
  },
  {
   "cell_type": "code",
   "execution_count": null,
   "id": "8230c83f",
   "metadata": {},
   "outputs": [],
   "source": [
    "creatinine = pd.merge(creatinine, hf, on='client_idcode', how='right') \n",
    "creatinine = creatinine[creatinine['basicobs_value_numeric'].notna()] # removing rows with no test results"
   ]
  },
  {
   "cell_type": "code",
   "execution_count": null,
   "id": "b41f4881",
   "metadata": {},
   "outputs": [],
   "source": [
    "creatinine.info()"
   ]
  },
  {
   "cell_type": "code",
   "execution_count": null,
   "id": "b7c911b3",
   "metadata": {},
   "outputs": [],
   "source": [
    "del creatinine['Unnamed: 0']\n",
    "creatinine['basicobs_createdwhen'] = pd.to_datetime(creatinine['basicobs_createdwhen'], utc=True).dt.date "
   ]
  },
  {
   "cell_type": "code",
   "execution_count": null,
   "id": "e0c00bc0",
   "metadata": {},
   "outputs": [],
   "source": [
    "%%time \n",
    "creatinine['difference'] = pd.to_datetime(creatinine['start_date']) - pd.to_datetime(creatinine['basicobs_createdwhen'])\n",
    "min_time = datetime.timedelta(days=1) \n",
    "max_time = datetime.timedelta(days=183)\n",
    "t1 = creatinine['difference'] >= min_time \n",
    "t2 = creatinine['difference'] <= max_time\n",
    "in_window = t1 & t2 \n",
    "creatinine['in_window'] = in_window"
   ]
  },
  {
   "cell_type": "code",
   "execution_count": null,
   "id": "2ef75851",
   "metadata": {},
   "outputs": [],
   "source": [
    "creatinine = creatinine.loc[creatinine['in_window'] == True]\n",
    "creatinine.shape"
   ]
  },
  {
   "cell_type": "code",
   "execution_count": null,
   "id": "dbc5344d",
   "metadata": {},
   "outputs": [],
   "source": [
    "creatinine.head()"
   ]
  },
  {
   "cell_type": "code",
   "execution_count": null,
   "id": "9d17c3a8",
   "metadata": {},
   "outputs": [],
   "source": [
    "creatinine.loc[creatinine['client_idcode'] == 'P744081'] # checking"
   ]
  },
  {
   "cell_type": "code",
   "execution_count": null,
   "id": "c78b47a9",
   "metadata": {},
   "outputs": [],
   "source": [
    "# keeping the closest serum creatinine test result to the HF diagnosis date\n",
    "\n",
    "creatinine = creatinine[creatinine.groupby('client_idcode').basicobs_createdwhen.transform('max') == creatinine['basicobs_createdwhen']]\n",
    "duplicates = creatinine['client_idcode'].duplicated()\n",
    "duplicates.value_counts()"
   ]
  },
  {
   "cell_type": "code",
   "execution_count": null,
   "id": "e12d1ade",
   "metadata": {},
   "outputs": [],
   "source": [
    "creatinine.head()"
   ]
  },
  {
   "cell_type": "code",
   "execution_count": null,
   "id": "746405a6",
   "metadata": {},
   "outputs": [],
   "source": [
    " creatinine['result'] = creatinine.groupby('client_idcode')['basicobs_value_numeric'].transform('mean')"
   ]
  },
  {
   "cell_type": "code",
   "execution_count": null,
   "id": "cd96bde9",
   "metadata": {},
   "outputs": [],
   "source": [
    "creatinine.drop_duplicates(subset='client_idcode', keep='first', inplace = True)\n",
    "del creatinine['basicobs_value_numeric']\n",
    "creatinine.rename(columns={'result':'basicobs_value_numeric'}, inplace=True)\n",
    "creatinine.reset_index(drop=True, inplace=True)"
   ]
  },
  {
   "cell_type": "code",
   "execution_count": null,
   "id": "b1b26300",
   "metadata": {},
   "outputs": [],
   "source": [
    "duplicates = creatinine['client_idcode'].duplicated()\n",
    "duplicates.value_counts()"
   ]
  },
  {
   "cell_type": "code",
   "execution_count": null,
   "id": "888d6f18",
   "metadata": {},
   "outputs": [],
   "source": [
    "creatinine.basicobs_value_numeric.isnull().sum()"
   ]
  },
  {
   "cell_type": "code",
   "execution_count": null,
   "id": "939f036c",
   "metadata": {},
   "outputs": [],
   "source": [
    "creatinine_dict = dict(zip(creatinine.client_idcode, creatinine.basicobs_value_numeric))\n",
    "print(len(creatinine_dict.keys()))"
   ]
  },
  {
   "cell_type": "code",
   "execution_count": null,
   "id": "f203e182",
   "metadata": {},
   "outputs": [],
   "source": [
    "with open ('/projects/RALES TRIAL/1A/notspiro dataextraction/notspiro data/creatinine.pickle', 'wb') as f:\n",
    "    pickle.dump(creatinine_dict,f)"
   ]
  },
  {
   "cell_type": "markdown",
   "id": "02af7fc6",
   "metadata": {},
   "source": [
    "# Potassium"
   ]
  },
  {
   "cell_type": "code",
   "execution_count": null,
   "id": "7b3189f9",
   "metadata": {},
   "outputs": [],
   "source": [
    "potassium = df.loc[df['basicobs_itemname_analysed_b'].str.contains('POTASSIUM', case=False)]"
   ]
  },
  {
   "cell_type": "code",
   "execution_count": null,
   "id": "0190cdc2",
   "metadata": {},
   "outputs": [],
   "source": [
    "potassium['basicobs_unitofmeasure'].unique()"
   ]
  },
  {
   "cell_type": "code",
   "execution_count": null,
   "id": "64a40cad",
   "metadata": {},
   "outputs": [],
   "source": [
    "potassium = pd.merge(potassium, hf, on='client_idcode', how='right') \n",
    "potassium = potassium[potassium['basicobs_value_numeric'].notna()] "
   ]
  },
  {
   "cell_type": "code",
   "execution_count": null,
   "id": "a9ae2b5e",
   "metadata": {},
   "outputs": [],
   "source": [
    "potassium.info()"
   ]
  },
  {
   "cell_type": "code",
   "execution_count": null,
   "id": "159ef0fd",
   "metadata": {},
   "outputs": [],
   "source": [
    "del potassium['Unnamed: 0']\n",
    "potassium['basicobs_createdwhen'] = pd.to_datetime(potassium['basicobs_createdwhen'], utc=True).dt.date "
   ]
  },
  {
   "cell_type": "code",
   "execution_count": null,
   "id": "b7432b61",
   "metadata": {},
   "outputs": [],
   "source": [
    "%%time \n",
    "potassium['difference'] = pd.to_datetime(potassium['start_date']) - pd.to_datetime(potassium['basicobs_createdwhen'])\n",
    "min_time = datetime.timedelta(days=1) \n",
    "max_time = datetime.timedelta(days=183)\n",
    "t1 = potassium['difference'] >= min_time \n",
    "t2 = potassium['difference'] <= max_time\n",
    "in_window = t1 & t2 \n",
    "potassium['in_window'] = in_window"
   ]
  },
  {
   "cell_type": "code",
   "execution_count": null,
   "id": "13ebdc5f",
   "metadata": {},
   "outputs": [],
   "source": [
    "potassium = potassium.loc[potassium['in_window'] == True]\n",
    "potassium.shape"
   ]
  },
  {
   "cell_type": "code",
   "execution_count": null,
   "id": "16d84e41",
   "metadata": {},
   "outputs": [],
   "source": [
    "potassium = potassium[potassium.groupby('client_idcode').basicobs_createdwhen.transform('max') == potassium['basicobs_createdwhen']]\n",
    "duplicates = potassium['client_idcode'].duplicated()\n",
    "duplicates.value_counts()"
   ]
  },
  {
   "cell_type": "code",
   "execution_count": null,
   "id": "021ad6b9",
   "metadata": {},
   "outputs": [],
   "source": [
    "potassium['result'] = potassium.groupby('client_idcode')['basicobs_value_numeric'].transform('mean')\n",
    "potassium.drop_duplicates(subset='client_idcode', keep='first', inplace = True)\n",
    "del potassium['basicobs_value_numeric']\n",
    "potassium.rename(columns={'result':'basicobs_value_numeric'}, inplace=True)\n",
    "potassium.reset_index(drop=True, inplace=True)"
   ]
  },
  {
   "cell_type": "code",
   "execution_count": null,
   "id": "eb7c09ec",
   "metadata": {},
   "outputs": [],
   "source": [
    "duplicates = potassium['client_idcode'].duplicated()\n",
    "duplicates.value_counts()"
   ]
  },
  {
   "cell_type": "code",
   "execution_count": null,
   "id": "f2b89e84",
   "metadata": {},
   "outputs": [],
   "source": [
    "potassium.basicobs_value_numeric.isnull().sum()"
   ]
  },
  {
   "cell_type": "code",
   "execution_count": null,
   "id": "7ae1adc9",
   "metadata": {},
   "outputs": [],
   "source": [
    "potassium_dict = dict(zip(potassium.client_idcode, potassium.basicobs_value_numeric))\n",
    "len(potassium_dict)"
   ]
  },
  {
   "cell_type": "code",
   "execution_count": null,
   "id": "c6a45222",
   "metadata": {},
   "outputs": [],
   "source": [
    "with open ('/projects/RALES TRIAL/1A/notspiro dataextraction/notspiro data/potassium.pickle', 'wb') as f:\n",
    "    pickle.dump(potassium_dict,f)"
   ]
  },
  {
   "cell_type": "code",
   "execution_count": null,
   "id": "e57cc9d5",
   "metadata": {},
   "outputs": [],
   "source": []
  }
 ],
 "metadata": {
  "kernelspec": {
   "display_name": "Python 3 (ipykernel)",
   "language": "python",
   "name": "python3"
  },
  "language_info": {
   "codemirror_mode": {
    "name": "ipython",
    "version": 3
   },
   "file_extension": ".py",
   "mimetype": "text/x-python",
   "name": "python",
   "nbconvert_exporter": "python",
   "pygments_lexer": "ipython3",
   "version": "3.9.7"
  }
 },
 "nbformat": 4,
 "nbformat_minor": 5
}
