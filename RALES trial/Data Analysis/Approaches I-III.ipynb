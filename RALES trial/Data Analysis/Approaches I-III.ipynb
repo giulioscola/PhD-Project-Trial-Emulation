{
 "cells": [
  {
   "cell_type": "code",
   "execution_count": null,
   "id": "5457c300-3269-4778-9e05-a199a4ca1373",
   "metadata": {
    "tags": [],
    "vscode": {
     "languageId": "r"
    }
   },
   "outputs": [],
   "source": [
    "library(tableone)\n",
    "library(coxphw)\n",
    "library(survival)\n",
    "library(dplyr)\n",
    "library(ggsurvfit)\n",
    "library(cobalt)\n",
    "library(survminer)"
   ]
  },
  {
   "cell_type": "markdown",
   "id": "d22de500-bdfa-4b51-8a1c-e2ab30a3ff43",
   "metadata": {},
   "source": [
    "# Import data"
   ]
  },
  {
   "cell_type": "code",
   "execution_count": null,
   "id": "534f150f-3edd-4519-bccb-c6549ba457a8",
   "metadata": {
    "tags": [],
    "vscode": {
     "languageId": "r"
    }
   },
   "outputs": [],
   "source": [
    "df = read.csv('/home/jovyan/work/RALES TRIAL/1A/masterfiles/masterfile_wide_format.csv')"
   ]
  },
  {
   "cell_type": "code",
   "execution_count": null,
   "id": "cdeae219-d44f-4cb1-97f2-595a945e16b2",
   "metadata": {
    "tags": [],
    "vscode": {
     "languageId": "r"
    }
   },
   "outputs": [],
   "source": [
    "head(df)"
   ]
  },
  {
   "cell_type": "code",
   "execution_count": null,
   "id": "f44c3f08-7a4d-491d-b1df-f1aac4ee7f37",
   "metadata": {
    "tags": [],
    "vscode": {
     "languageId": "r"
    }
   },
   "outputs": [],
   "source": [
    "nrow(df)"
   ]
  },
  {
   "cell_type": "code",
   "execution_count": null,
   "id": "45356ab2-cb38-4644-bc3d-ce6db6a48c8d",
   "metadata": {
    "tags": [],
    "vscode": {
     "languageId": "r"
    }
   },
   "outputs": [],
   "source": [
    "options(scipen=999) # disable printing results in scientific notation"
   ]
  },
  {
   "cell_type": "code",
   "execution_count": null,
   "id": "66f92e68-0b76-4127-b7ac-19e2bb0a857b",
   "metadata": {
    "tags": [],
    "vscode": {
     "languageId": "r"
    }
   },
   "outputs": [],
   "source": [
    "# Replace all values equal to 732 with 731 in the 'time' column\n",
    "\n",
    "df$time[df$time == 732] <- 731"
   ]
  },
  {
   "cell_type": "markdown",
   "id": "f819850d-17fb-4874-abf4-2b3205bf4b20",
   "metadata": {},
   "source": [
    "# Descriptive table  "
   ]
  },
  {
   "cell_type": "code",
   "execution_count": null,
   "id": "654897e8-66be-4361-bf2e-0f0e4aa4bb19",
   "metadata": {
    "tags": [],
    "vscode": {
     "languageId": "r"
    }
   },
   "outputs": [],
   "source": [
    "# List of variables to be included in the table\n",
    "\n",
    "myVars <- c(\"age\", \"gender\",\"creatinine\", \"lvef\", \"potassium\", \"ace_inhibitors\", \"ethnicity\")\n",
    "\n",
    "# List of categorical variables\n",
    "catVars <- c(\"gender\", \"ace_inhibitors\", \"ethnicity\")\n",
    "\n",
    "# List of continuous variables which should be displayed as median (IQR)\n",
    "medVars <- c(\"age\",\"creatinine\", \"lvef\", \"potassium\")\n",
    "\n",
    "# Create table 1\n",
    "tab1 <- CreateTableOne(vars = myVars, # set descriptive variables\n",
    "                       strata = \"trt\", # define stratifying variable\n",
    "                       data = df, \n",
    "                       factorVars = catVars) # define categorical variables"
   ]
  },
  {
   "cell_type": "code",
   "execution_count": null,
   "id": "43f911ff-c18d-4cc8-aa6b-be74f3cf2d01",
   "metadata": {
    "tags": [],
    "vscode": {
     "languageId": "r"
    }
   },
   "outputs": [],
   "source": [
    "# Print descriptive table\n",
    "\n",
    "print(tab1,\n",
    "      nonnormal = medVars,\n",
    "      formatOptions = list(big.mark = \",\"),\n",
    "      test = FALSE)"
   ]
  },
  {
   "cell_type": "markdown",
   "id": "26954f66-2831-4975-931e-db17050334bd",
   "metadata": {},
   "source": [
    "# Kaplan-Meier Analysis"
   ]
  },
  {
   "cell_type": "code",
   "execution_count": null,
   "id": "7e448a03-80ed-4665-ac33-631259e242f4",
   "metadata": {
    "tags": [],
    "vscode": {
     "languageId": "r"
    }
   },
   "outputs": [],
   "source": [
    "# Fit the Kaplan-Meier survival curves to the 'df' dataset\n",
    "\n",
    "km_fit <- survfit(Surv(time, status) ~ 1, data = df)\n",
    "times_to_check <- seq(0, 731, by = 43) # define the specific time points to check survival probabilities, every 43 days up to 731 days\n",
    "summary(km_fit, times = times_to_check) # generate a summary of the Kaplan-Meier survival curves at the specified time points"
   ]
  },
  {
   "cell_type": "code",
   "execution_count": null,
   "id": "79f62b08-7acc-408a-9b54-a36571f8cc0d",
   "metadata": {
    "tags": [],
    "vscode": {
     "languageId": "r"
    }
   },
   "outputs": [],
   "source": [
    "# Kaplan-Meier survival curve at a single time point\n",
    "\n",
    "summary(survfit(Surv(time, status) ~ 1, data = df), times = 731)"
   ]
  },
  {
   "cell_type": "code",
   "execution_count": null,
   "id": "3a7b0d95-6ada-4369-9d2b-8f60cb8dd169",
   "metadata": {
    "tags": [],
    "vscode": {
     "languageId": "r"
    }
   },
   "outputs": [],
   "source": [
    "# Fit a Kaplan-Meier survival curve to the entire dataset '' and create a survival plot using the 'ggsurvfit' package.\n",
    "\n",
    "\n",
    "survfit2(Surv(time, status) ~ 1, data = df) %>% \n",
    "  ggsurvfit() +\n",
    "  labs(\n",
    "    x = \"Days\",\n",
    "    y = \"Overall survival probability\"\n",
    "  ) + \n",
    "  add_confidence_interval() + # add confidence interval to the plot\n",
    "  add_risktable() # add a risk table to the plot"
   ]
  },
  {
   "cell_type": "code",
   "execution_count": null,
   "id": "d45fa41f-3f48-4c26-8211-ece6b9ec0d4b",
   "metadata": {
    "tags": [],
    "vscode": {
     "languageId": "r"
    }
   },
   "outputs": [],
   "source": [
    "# Fit the Kaplan-Meier survival curves to the 'df' dataset stratified by the 'trt' variabale \n",
    "\n",
    "summary(survfit(Surv(time, status) ~ trt, data = df), times = 731)"
   ]
  },
  {
   "cell_type": "code",
   "execution_count": null,
   "id": "ebf02c04-b6bd-43b9-a4a6-e637073f9b76",
   "metadata": {
    "tags": [],
    "vscode": {
     "languageId": "r"
    }
   },
   "outputs": [],
   "source": [
    "# Fit a Kaplan-Meier survival curve stratified by the 'trt' variable and create a survival plot using 'ggsurvplot'.\n",
    "\n",
    "\n",
    "fit.obj <- survfit(Surv(time, status) ~ trt, \n",
    "                   data = df)\n",
    "\n",
    "p1 <- ggsurvplot(\n",
    "  fit.obj,                     \n",
    "  data = df, \n",
    "  risk.table = FALSE,   # do not include a risk table in the plot\n",
    "  pval = FALSE, # do not include p-values in the plot\n",
    "  conf.int = FALSE, # do not display confidence intervals\n",
    "  legend.labs = c(\"No Spiro\",\"Spiro\"), # customize legend labels\n",
    "  font.legend = c(10), # set font size for the legend\n",
    "  xlim = c(0,731), # set the x-axis limits\n",
    "  break.time.by = 100,  # specify time breaks on the x-axis every 43 days\n",
    "  xlab=\"Time in days\", # customize the x-axis label\n",
    "  ylab=\"Survival probability\", # customize the y-axis label\n",
    "  font.xlab = c(12), # set font size for the x-axis label\n",
    "  font.ylab = c(12),  # set font size for the y-axis label\n",
    "  ylim=c(0.65,1), # set the y-axis limits\n",
    "  risk.table.height = 0.3, # specify the height of the risk table\n",
    "  palette = c(\"slategrey\",\"dodgerblue4\")) # customize the color palette\n",
    "\n",
    "p1 # display the survival plot"
   ]
  },
  {
   "cell_type": "code",
   "execution_count": null,
   "id": "6472a961-9e4d-4d9e-b5e8-92493d0c888b",
   "metadata": {
    "tags": [],
    "vscode": {
     "languageId": "r"
    }
   },
   "outputs": [],
   "source": [
    "gg_default <-\n",
    "  survfit2(Surv(time, status) ~ trt, data = df) %>%\n",
    "  ggsurvfit() +\n",
    "  add_confidence_interval() +\n",
    "  scale_ggsurvfit() +\n",
    "  labs(title = \"Default\")\n",
    "\n",
    "gg_styled <-\n",
    "  gg_default +\n",
    "  coord_cartesian(xlim = c(0, 8)) +\n",
    "  scale_color_manual(values = c('#54738E', '#82AC7C')) +\n",
    "  scale_fill_manual(values = c('#54738E', '#82AC7C')) +\n",
    "  theme_minimal() +\n",
    "  theme(legend.position = \"bottom\") +\n",
    "  guides(color = guide_legend(ncol = 1)) +\n",
    "  labs(\n",
    "    title = \"Modified\",\n",
    "    y = \"Percentage Survival\"\n",
    "  )\n",
    "\n",
    "gg_default"
   ]
  },
  {
   "cell_type": "markdown",
   "id": "a81da4d1-7232-49a3-a049-075024d363be",
   "metadata": {},
   "source": [
    "# Cox Proportional Hazards Model (without confounders)"
   ]
  },
  {
   "cell_type": "code",
   "execution_count": null,
   "id": "c924577f-a074-4c34-9c05-e00b3ff1d96c",
   "metadata": {
    "tags": [],
    "vscode": {
     "languageId": "r"
    }
   },
   "outputs": [],
   "source": [
    "# Fit the Cox Model (without confounders)\n",
    "\n",
    "cox <- coxph(Surv(time, status) ~ as.factor(trt), data = df) \n",
    "summary(cox)"
   ]
  },
  {
   "cell_type": "markdown",
   "id": "293d1f59-4cc2-4e47-bc39-ae863441465b",
   "metadata": {},
   "source": [
    "#### Testing proportional Hazards assumption"
   ]
  },
  {
   "cell_type": "code",
   "execution_count": null,
   "id": "f749be71-e89a-4ea2-a24b-3c508ca56a84",
   "metadata": {
    "tags": [],
    "vscode": {
     "languageId": "r"
    }
   },
   "outputs": [],
   "source": [
    "test.ph <- cox.zph(cox)\n",
    "test.ph"
   ]
  },
  {
   "cell_type": "code",
   "execution_count": null,
   "id": "f2faa2e6-da82-4473-aeaa-7e35645338ca",
   "metadata": {
    "tags": [],
    "vscode": {
     "languageId": "r"
    }
   },
   "outputs": [],
   "source": [
    "ggcoxzph(test.ph)"
   ]
  },
  {
   "cell_type": "markdown",
   "id": "60edc511-9a3f-4dbe-b0f4-bad68657522b",
   "metadata": {},
   "source": [
    "# Cox Proportional Hazards Model (adjusting for confounders)"
   ]
  },
  {
   "cell_type": "code",
   "execution_count": null,
   "id": "2b8d9a46-3b60-4c54-b6ce-7b0e6a574bc7",
   "metadata": {
    "tags": [],
    "vscode": {
     "languageId": "r"
    }
   },
   "outputs": [],
   "source": [
    "cox <- coxph(Surv(time,status) ~ as.factor(trt) + lvef + creatinine + potassium + age + as.factor(gender) + as.factor(ace_inhibitors), data=df)\n",
    "summary(cox)"
   ]
  },
  {
   "cell_type": "markdown",
   "id": "4b2933ad-1e8a-4d4c-86ee-9ce0db6e76af",
   "metadata": {},
   "source": [
    "#### Testing proportional Hazards assumption"
   ]
  },
  {
   "cell_type": "code",
   "execution_count": null,
   "id": "704b3ccf-1eb3-4867-9b01-045841d56f1a",
   "metadata": {
    "tags": [],
    "vscode": {
     "languageId": "r"
    }
   },
   "outputs": [],
   "source": [
    "test.ph <- cox.zph(cox)\n",
    "test.ph"
   ]
  },
  {
   "cell_type": "code",
   "execution_count": null,
   "id": "05a42707-7dfe-4774-a5aa-b275269eb021",
   "metadata": {
    "tags": [],
    "vscode": {
     "languageId": "r"
    }
   },
   "outputs": [],
   "source": [
    "ggcoxzph(test.ph, var = 'as.factor(trt)')"
   ]
  },
  {
   "cell_type": "code",
   "execution_count": null,
   "id": "9ec89b6d-795f-4854-8fcc-69f2b399e20a",
   "metadata": {
    "tags": [],
    "vscode": {
     "languageId": "r"
    }
   },
   "outputs": [],
   "source": [
    "# Load necessary library\n",
    "library(survival)\n",
    "\n",
    "# Calculate Martingale residuals\n",
    "Y <- resid(cox, type = \"martingale\")\n",
    "\n",
    "# List of continuous predictors\n",
    "predictors <- c(\"age\", \"lvef\", \"creatinine\", \"potassium\")\n",
    "\n",
    "# Set up a 2x2 plotting layout\n",
    "par(mfrow = c(2, 2), mar = c(4, 4, 2, 1) + 0.1, cex = 1.2, mgp = c(2, 0.5, 0))  \n",
    "\n",
    "# Create plots\n",
    "for (predictor in predictors) {\n",
    "  X <- df[[predictor]]\n",
    "  \n",
    "  # Create the scatter plot\n",
    "  plot(X, Y, pch = 20, col = \"darkgrey\",\n",
    "       ylab = \"Martingale Residuals\",\n",
    "       xlab = predictor,\n",
    "       main = paste(\"Residuals vs.\", predictor),\n",
    "       cex.lab = 1, cex.main = 1, cex.axis = 1)\n",
    "  \n",
    "  # Add horizontal line at zero\n",
    "  abline(h = 0, col = \"black\", lty = 2)\n",
    "  \n",
    "  # Add smoothed spline with confidence intervals\n",
    "  smooth_fit <- smooth.spline(X, Y, df = 7)\n",
    "  lines(smooth_fit, lty = 2, lwd = 2, col = \"black\")\n",
    "  \n",
    "\n",
    "}\n",
    "\n",
    "# Reset par settings if needed\n",
    "par(mfrow = c(1, 1))"
   ]
  },
  {
   "cell_type": "markdown",
   "id": "6247b4cf-2960-4091-b15d-19a09dfa5914",
   "metadata": {},
   "source": [
    "# Cox Proportional Hazards Model (adjusting for confounders using IPTW) - non stabilized weights"
   ]
  },
  {
   "cell_type": "markdown",
   "id": "0073dc73-dde4-4895-ae68-79f17179dfe1",
   "metadata": {},
   "source": [
    "### Fit a propensity score model to estimate the denominator of the weights "
   ]
  },
  {
   "cell_type": "code",
   "execution_count": null,
   "id": "2459d0db-2306-4cfc-85ea-b28cf0277842",
   "metadata": {
    "tags": [],
    "vscode": {
     "languageId": "r"
    }
   },
   "outputs": [],
   "source": [
    "# Estimation of propensity scores with a logistic model\n",
    "ps.treatment <- glm(formula = trt==1 ~  lvef + creatinine + potassium + age + as.factor(gender) +  as.factor(ace_inhibitors),\n",
    "                family = binomial(link = 'logit'),\n",
    "                data = df)\n",
    "\n",
    "summary(ps.treatment)"
   ]
  },
  {
   "cell_type": "code",
   "execution_count": null,
   "id": "b4d82e3d-0970-4151-b82c-e39945e5b327",
   "metadata": {
    "tags": [],
    "vscode": {
     "languageId": "r"
    }
   },
   "outputs": [],
   "source": [
    "#  Estimate propensity scores\n",
    "df$ps_treatment <- predict(ps.treatment, df, type = \"response\")"
   ]
  },
  {
   "cell_type": "code",
   "execution_count": null,
   "id": "fa94fbaa-e3af-48bc-88da-ba2a1d3ecbeb",
   "metadata": {
    "tags": [],
    "vscode": {
     "languageId": "r"
    }
   },
   "outputs": [],
   "source": [
    "head(df)"
   ]
  },
  {
   "cell_type": "code",
   "execution_count": null,
   "id": "2791e1a8-55f3-436e-a93b-ce682905becd",
   "metadata": {
    "tags": [],
    "vscode": {
     "languageId": "r"
    }
   },
   "outputs": [],
   "source": [
    "summary(df$ps_treatment[df$trt==1])\n",
    "summary(df$ps_treatment[df$trt==0])"
   ]
  },
  {
   "cell_type": "code",
   "execution_count": null,
   "id": "bbeeb99a-044c-421d-8778-27d23c9f128b",
   "metadata": {
    "tags": [],
    "vscode": {
     "languageId": "r"
    }
   },
   "outputs": [],
   "source": [
    "# Mirror plot that encompasses the entire participant population\n",
    "\n",
    "mirror.plot1 <- ggplot(subset(df, trt == 1),\n",
    "                       aes(x = ps_treatment, fill = factor(trt))) +\n",
    "                       geom_histogram(aes(y = after_stat(density))) +\n",
    "                       geom_histogram(data = subset(df, trt == 0),\n",
    "                       aes(x = ps_treatment, y = after_stat(density), fill = factor(trt))) +\n",
    "                       ylab(\"Density (%)\") +\n",
    "                       xlab(\"Probability of Receiving Spironolactone\") +\n",
    "                       ggtitle(\"Propensity Scores in Treated and Untreated\\n(Density Histogram)\") +\n",
    "                       scale_fill_discrete(name = \"Treatment\")  \n",
    "\n",
    "mirror.plot1"
   ]
  },
  {
   "cell_type": "code",
   "execution_count": null,
   "id": "f4f670fd-0978-4721-830b-f674c971eeb8",
   "metadata": {
    "tags": [],
    "vscode": {
     "languageId": "r"
    }
   },
   "outputs": [],
   "source": [
    "mirror.plot1 <- ggplot(data = df, aes(x = ps_treatment, fill = factor(trt))) +\n",
    "  geom_histogram(data = subset(df, trt == 1), binwidth = 0.05, position = \"identity\", alpha = 0.5) +\n",
    "  geom_histogram(data = subset(df, trt == 0), binwidth = 0.05, position = \"identity\", alpha = 0.5) +\n",
    "  facet_grid(.~trt) +\n",
    "  ylab(\"Density (%)\") +\n",
    "  xlab(\"Probability of Receiving Spironolactone\") +\n",
    "  ggtitle(\"Propensity Scores in Treated and Untreated\\n(Density Histogram)\") +\n",
    "  scale_fill_discrete(name = \"Treatment\")\n",
    "\n",
    "mirror.plot1"
   ]
  },
  {
   "cell_type": "markdown",
   "id": "0d92de71-45f4-4d45-a051-98a1decc8400",
   "metadata": {},
   "source": [
    "### Estimate the inverse probability weights "
   ]
  },
  {
   "cell_type": "code",
   "execution_count": null,
   "id": "a5a1d8dd-1be5-4df6-9119-e6ec8f909a06",
   "metadata": {
    "tags": [],
    "vscode": {
     "languageId": "r"
    }
   },
   "outputs": [],
   "source": [
    "df$w_a <- ifelse(df$trt==1,\n",
    "                 1/df$ps_treatment,\n",
    "                 1/(1-df$ps_treatment))"
   ]
  },
  {
   "cell_type": "code",
   "execution_count": null,
   "id": "5199fa55-7e39-4a07-b69e-f9cb81d43380",
   "metadata": {
    "tags": [],
    "vscode": {
     "languageId": "r"
    }
   },
   "outputs": [],
   "source": [
    "# Min, 25th percentile, median, mean, SD, 75th percentile, and max \n",
    "summary(df$w_a)\n",
    "sd(df$w_a)"
   ]
  },
  {
   "cell_type": "code",
   "execution_count": null,
   "id": "4e4f7369-0a27-47f2-a989-fa8efea61dc8",
   "metadata": {
    "tags": [],
    "vscode": {
     "languageId": "r"
    }
   },
   "outputs": [],
   "source": [
    "# Create the histogram\n",
    "hist(df$w_a, main = \"IPTW Weights Distribution\", xlab = \"IPTW Weights\")"
   ]
  },
  {
   "cell_type": "markdown",
   "id": "4113a3b1-1850-4241-a978-9e00c016426f",
   "metadata": {},
   "source": [
    "###  Assessing the balance of covariates between treatment groups "
   ]
  },
  {
   "cell_type": "code",
   "execution_count": null,
   "id": "a288c3a5-afaa-4b2f-9134-ea24c00c9465",
   "metadata": {
    "tags": [],
    "vscode": {
     "languageId": "r"
    }
   },
   "outputs": [],
   "source": [
    "covariates <- subset(df, select = c(\"age\", \"gender\",\"creatinine\", \"lvef\", \"potassium\", \"ace_inhibitors\"))\n",
    "bal.tab(covariates, treat =df$trt, weights=df$w_a, un=TRUE)"
   ]
  },
  {
   "cell_type": "markdown",
   "id": "765c6b63-c398-4e5d-829d-e32d187cc81f",
   "metadata": {},
   "source": [
    "###  Fit th weighted Cox proportional hazards model\n"
   ]
  },
  {
   "cell_type": "code",
   "execution_count": null,
   "id": "15f35daf-b2ad-45fa-810f-c7c0f5477b3d",
   "metadata": {
    "tags": [],
    "vscode": {
     "languageId": "r"
    }
   },
   "outputs": [],
   "source": [
    "# Fit Weighted Cox Model \n",
    "\n",
    "fit1 <- coxphw(Surv(time, status) ~ as.factor(trt), \n",
    "               data = df,\n",
    "               template = 'PH',\n",
    "               caseweights = df$w_a)\n",
    "\n",
    "summary(fit1)"
   ]
  },
  {
   "cell_type": "code",
   "execution_count": null,
   "id": "98a1d40d-ee5c-4ad1-b60d-0e291d1439c5",
   "metadata": {
    "tags": [],
    "vscode": {
     "languageId": "r"
    }
   },
   "outputs": [],
   "source": [
    "cox_model <- coxph(Surv(time, status) ~ as.factor(trt), data = df, weights = df$w_a)\n",
    "summary(cox_model)"
   ]
  },
  {
   "cell_type": "markdown",
   "id": "044a2a9f-937a-47db-8d8c-27996726ace9",
   "metadata": {},
   "source": [
    "#  From a conditional HR to a marginal HR"
   ]
  },
  {
   "cell_type": "code",
   "execution_count": null,
   "id": "06433501-917a-4ebf-9f5f-622cf6b3ec6e",
   "metadata": {
    "tags": [],
    "vscode": {
     "languageId": "r"
    }
   },
   "outputs": [],
   "source": [
    "# Fit Cox proportional hazards model\n",
    "cox_model <- coxph(Surv(time, status) ~  as.factor(trt) + lvef + creatinine + potassium + age + as.factor(gender) + as.factor(ace_inhibitors), data = df)\n",
    "\n",
    "# Create synthetic population \n",
    "synthetic_data <- df  \n",
    "\n",
    "# Simulate risk scores under each treatment scenario\n",
    "synthetic_data$trt <- 1  # Simulating under treatment scenario\n",
    "risk_scores_treatment <- predict(cox_model, newdata = synthetic_data, type ='risk')\n",
    "\n",
    "synthetic_data$trt <- 0  # Simulating under no-treatment scenario\n",
    "risk_scores_no_treatment <- predict(cox_model, newdata = synthetic_data, type ='risk')\n",
    "\n",
    "# Calculate the marginal hazard ratio \n",
    "marginal_HR <- exp(mean(risk_scores_treatment) - mean(risk_scores_no_treatment))\n",
    "\n",
    "marginal_HR"
   ]
  },
  {
   "cell_type": "code",
   "execution_count": null,
   "id": "3779b17c-1636-4283-9598-c4a6e6bf9b29",
   "metadata": {
    "tags": [],
    "vscode": {
     "languageId": "r"
    }
   },
   "outputs": [],
   "source": [
    "mean(risk_scores_treatment)"
   ]
  },
  {
   "cell_type": "code",
   "execution_count": null,
   "id": "b918c4d2-9ba4-4225-8511-1bcc023fe569",
   "metadata": {
    "tags": [],
    "vscode": {
     "languageId": "r"
    }
   },
   "outputs": [],
   "source": [
    "mean(risk_scores_no_treatment)"
   ]
  },
  {
   "cell_type": "code",
   "execution_count": null,
   "id": "3dc8f95a-5e18-4d1a-8ef3-8ab8b5dbdb0f",
   "metadata": {
    "tags": [],
    "vscode": {
     "languageId": "r"
    }
   },
   "outputs": [],
   "source": [
    "library(boot)"
   ]
  },
  {
   "cell_type": "code",
   "execution_count": null,
   "id": "a41cca86-d1e5-4491-b536-8f9275c91bf1",
   "metadata": {
    "tags": [],
    "vscode": {
     "languageId": "r"
    }
   },
   "outputs": [],
   "source": [
    "marginal_HR_boot <- function(data, indices) {\n",
    "  # Select the bootstrap sample\n",
    "  d <- data[indices, ]\n",
    "  \n",
    "  # Fit the Cox proportional hazards model\n",
    "  cox_model <- coxph(Surv(time, status) ~ as.factor(trt) + lvef + creatinine + potassium + age + as.factor(gender) + as.factor(ace_inhibitors), data = d)\n",
    "  \n",
    "  # Create synthetic population\n",
    "  synthetic_data <- d\n",
    "  \n",
    "  # Simulate risk scores under each treatment scenario\n",
    "  synthetic_data$trt <- 1  # Simulating under treatment scenario\n",
    "  risk_scores_treatment <- predict(cox_model, newdata = synthetic_data, type = 'risk')\n",
    "  \n",
    "  synthetic_data$trt <- 0  # Simulating under no-treatment scenario\n",
    "  risk_scores_no_treatment <- predict(cox_model, newdata = synthetic_data, type = 'risk')\n",
    "  \n",
    "  # Calculate the marginal hazard ratio\n",
    "  marginal_HR <- exp(mean(risk_scores_treatment) - mean(risk_scores_no_treatment))\n",
    "  \n",
    "  return(marginal_HR)\n",
    "}\n",
    "\n",
    "# Run 2000 bootstrap samples\n",
    "set.seed(865)\n",
    "boot_results <- boot(data = df, statistic = marginal_HR_boot, R = 2000)\n",
    "\n",
    "# Compute the bootstrapped confidence intervals\n",
    "boot_ci <- boot.ci(boot_results, type = \"perc\")\n",
    "\n",
    "# Print the results\n",
    "print(\"Bootstrapped Marginal Hazard Ratio:\")\n",
    "print(boot_results$t0)  # Original estimate\n",
    "print(\"Bootstrapped Confidence Intervals:\")\n",
    "print(boot_ci)"
   ]
  }
 ],
 "metadata": {
  "kernelspec": {
   "display_name": "R",
   "language": "R",
   "name": "ir"
  },
  "language_info": {
   "codemirror_mode": "r",
   "file_extension": ".r",
   "mimetype": "text/x-r-source",
   "name": "R",
   "pygments_lexer": "r",
   "version": "4.2.2"
  }
 },
 "nbformat": 4,
 "nbformat_minor": 5
}
