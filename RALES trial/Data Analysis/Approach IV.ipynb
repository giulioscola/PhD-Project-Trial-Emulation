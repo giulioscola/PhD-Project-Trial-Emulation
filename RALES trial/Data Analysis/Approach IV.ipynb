{
 "cells": [
  {
   "cell_type": "code",
   "execution_count": null,
   "id": "5fe9f209-b19a-4e04-b021-046c575f2fc6",
   "metadata": {
    "tags": [],
    "vscode": {
     "languageId": "r"
    }
   },
   "outputs": [],
   "source": [
    "library(tableone)\n",
    "library(ggsurvfit)\n",
    "library(boot)\n",
    "library(dplyr)\n",
    "library(sandwich)\n",
    "library(cobalt)\n",
    "library(speedglm)\n",
    "library(data.table)\n",
    "library(splitstackshape)"
   ]
  },
  {
   "cell_type": "markdown",
   "id": "58ee44e3-57a2-4f83-9e26-17437a13a87d",
   "metadata": {},
   "source": [
    "# Import data"
   ]
  },
  {
   "cell_type": "code",
   "execution_count": null,
   "id": "c1d720cc-e425-49fd-b53f-551194374d2c",
   "metadata": {
    "tags": [],
    "vscode": {
     "languageId": "r"
    }
   },
   "outputs": [],
   "source": [
    "df = read.csv('/home/jovyan/work/RALES TRIAL/1A/masterfiles/masterfile_long_format.csv')"
   ]
  },
  {
   "cell_type": "code",
   "execution_count": null,
   "id": "32361d95-b41b-425e-9846-77498c0eeb4d",
   "metadata": {
    "tags": [],
    "vscode": {
     "languageId": "r"
    }
   },
   "outputs": [],
   "source": [
    "names(df)[names(df) == 'client_idcode'] <- 'id'\n",
    "options(scipen=999) # disable printing results in scientific notation \n",
    "K <-17 # set time point for estimation of risks"
   ]
  },
  {
   "cell_type": "code",
   "execution_count": null,
   "id": "fdf0cd23-513a-480a-bd50-57e086c930eb",
   "metadata": {
    "tags": [],
    "vscode": {
     "languageId": "r"
    }
   },
   "outputs": [],
   "source": [
    "head(df)"
   ]
  },
  {
   "cell_type": "code",
   "execution_count": null,
   "id": "35cf3de0-7e10-40d9-87e1-33d22a14ff7a",
   "metadata": {
    "tags": [],
    "vscode": {
     "languageId": "r"
    }
   },
   "outputs": [],
   "source": [
    "nrow(df)"
   ]
  },
  {
   "cell_type": "markdown",
   "id": "3231b953-2acc-4755-8638-b3b5b3699bcd",
   "metadata": {},
   "source": [
    "# Descriptive table "
   ]
  },
  {
   "cell_type": "code",
   "execution_count": null,
   "id": "c0311e41-d41e-4022-b511-0e623bdbfb05",
   "metadata": {
    "tags": [],
    "vscode": {
     "languageId": "r"
    }
   },
   "outputs": [],
   "source": [
    "# List of variables to be included in the table\n",
    "myVars <- c(\"age\", \"gender\",\"creatinine\", \"lvef\", \"potassium\", \"ace_inhibitors\", \"ethnicity\")\n",
    "\n",
    "# List of categorical variables\n",
    "catVars <- c(\"gender\", \"ace_inhibitors\", \"ethnicity\")\n",
    "\n",
    "# List of continuous variables which should be displayed as median (IQR)\n",
    "medVars <- c(\"age\",\"creatinine\", \"lvef\", \"potassium\")\n",
    "\n",
    "# Create table 1\n",
    "tab1 <- CreateTableOne(vars = myVars, # set descriptive variables\n",
    "                       strata = \"trt\", # define stratifying variable\n",
    "                       data = df[which(df$time==0),], # baseline\n",
    "                       factorVars = catVars) # define categorical variables"
   ]
  },
  {
   "cell_type": "code",
   "execution_count": null,
   "id": "edbddbe5-4c8e-49b6-bd6e-7ef94e60b4b8",
   "metadata": {
    "tags": [],
    "vscode": {
     "languageId": "r"
    }
   },
   "outputs": [],
   "source": [
    "print(tab1,\n",
    "      nonnormal = medVars,\n",
    "      formatOptions = list(big.mark = \",\"),\n",
    "      test = FALSE)"
   ]
  },
  {
   "cell_type": "markdown",
   "id": "691accb7-ffb5-470a-a014-1f953757b64d",
   "metadata": {
    "tags": []
   },
   "source": [
    "# KM check"
   ]
  },
  {
   "cell_type": "code",
   "execution_count": null,
   "id": "a8eeefb4-56d9-424e-8b15-69ce2280bd09",
   "metadata": {
    "tags": [],
    "vscode": {
     "languageId": "r"
    }
   },
   "outputs": [],
   "source": [
    "fit.kim <- survfit(Surv(tstart,tstop,death) ~ trt,\n",
    "                   conf.type='log-log',\n",
    "                   data=df)\n",
    "\n",
    "summary(fit.kim, times = K)"
   ]
  },
  {
   "cell_type": "markdown",
   "id": "3a385a65-071d-448c-a4a9-eba57f7554e0",
   "metadata": {},
   "source": [
    "# Pooled logistic regression (without confounders & excluding any product terms between treatment groups indicator and follow-up time)"
   ]
  },
  {
   "cell_type": "code",
   "execution_count": null,
   "id": "077187b4-5560-4816-ae03-733f10c6b955",
   "metadata": {
    "tags": [],
    "vscode": {
     "languageId": "r"
    }
   },
   "outputs": [],
   "source": [
    "fit.pool <- glm(formula = death==1 ~ trt + time + timesqr,\n",
    "                 family = binomial(link = 'logit'),\n",
    "                 data = df)\n",
    "options(warn=0)\n",
    "summary(fit.pool)"
   ]
  },
  {
   "cell_type": "code",
   "execution_count": null,
   "id": "d1583cb4-df57-4fa5-873b-4fc3910c2894",
   "metadata": {
    "tags": [],
    "vscode": {
     "languageId": "r"
    }
   },
   "outputs": [],
   "source": [
    "# Exponentiate coefficient for trt - this should give you approx the same result as the Cox Proportional Hazards Model\n",
    "\n",
    "round(exp(summary(fit.pool)$coef[\"trt\",\"Estimate\"]), 4)"
   ]
  },
  {
   "cell_type": "markdown",
   "id": "1504a33a-7c19-4ea1-9abf-df226c610026",
   "metadata": {
    "tags": []
   },
   "source": [
    "# Pooled logistic regression (without confounders) "
   ]
  },
  {
   "cell_type": "code",
   "execution_count": null,
   "id": "94202c45-37ea-4754-a7f0-41d69240d693",
   "metadata": {
    "tags": [],
    "vscode": {
     "languageId": "r"
    }
   },
   "outputs": [],
   "source": [
    "# Include product terms between time and treatment\n",
    "options(warn=-1) # Suppress warning messages\n",
    "fit.pool <- glm(formula = death==1 ~ trt + time + timesqr +\n",
    "                  I(trt*time) +\n",
    "                  I(trt*timesqr),\n",
    "                family = binomial(link = 'logit'),\n",
    "                data = df)\n",
    "options(warn=-0)\n",
    "# Note that this model will take a few seconds to run\n",
    "\n",
    "# Print results\n",
    "summary(fit.pool)"
   ]
  },
  {
   "cell_type": "markdown",
   "id": "58e012a6-f078-413e-9cf2-8ddafe309f6f",
   "metadata": {},
   "source": [
    "### Transform estimates to risks at each time point in each arm"
   ]
  },
  {
   "cell_type": "code",
   "execution_count": null,
   "id": "5263a769-f00d-4bce-9e1d-f74e36a24077",
   "metadata": {
    "tags": [],
    "vscode": {
     "languageId": "r"
    }
   },
   "outputs": [],
   "source": [
    "# Create a dataset to store results\n",
    "# Include all time points under each treatment level\n",
    "trt0 <- data.frame(cbind(seq(0, K-1),0,(seq(0, K-1))^2))\n",
    "trt1 <- data.frame(cbind(seq(0, K-1),1,(seq(0, K-1))^2))"
   ]
  },
  {
   "cell_type": "code",
   "execution_count": null,
   "id": "37fe40a6-47c9-436f-8f1a-717ee952b02b",
   "metadata": {
    "tags": [],
    "vscode": {
     "languageId": "r"
    }
   },
   "outputs": [],
   "source": [
    "# Set column names\n",
    "colnames(trt0) <- c(\"time\", \"trt\", \"timesqr\")\n",
    "colnames(trt1) <- c(\"time\", \"trt\", \"timesqr\")"
   ]
  },
  {
   "cell_type": "code",
   "execution_count": null,
   "id": "92b6ad43-0dcb-4793-b478-ef8fa0d8db4f",
   "metadata": {
    "tags": [],
    "vscode": {
     "languageId": "r"
    }
   },
   "outputs": [],
   "source": [
    "# Extract predicted values from pooled logistic regression model\n",
    "# Predicted values correspond to discrete-time hazards\n",
    "trt0$p.event0 <- predict(fit.pool, trt0, type=\"response\")\n",
    "trt1$p.event1 <- predict(fit.pool, trt1, type=\"response\")"
   ]
  },
  {
   "cell_type": "code",
   "execution_count": null,
   "id": "574294f9-cf9f-48f5-9a37-69e8f2fa430f",
   "metadata": {
    "tags": [],
    "vscode": {
     "languageId": "r"
    }
   },
   "outputs": [],
   "source": [
    "# Estimate survival probabilities from hazards\n",
    "# S(t) = cumulative product of (1 - h(t))\n",
    "trt0$surv0 <- cumprod(1 - trt0$p.event0)\n",
    "trt1$surv1 <- cumprod(1 - trt1$p.event1)"
   ]
  },
  {
   "cell_type": "code",
   "execution_count": null,
   "id": "d0817d50-8f7e-4766-a2f9-623ae0cf57de",
   "metadata": {
    "tags": [],
    "vscode": {
     "languageId": "r"
    }
   },
   "outputs": [],
   "source": [
    "# Estimate risks from survival probabilities\n",
    "# Risk = 1 - S(t)\n",
    "trt0$risk0 <- 1 - trt0$surv0\n",
    "trt1$risk1 <- 1 - trt1$surv1"
   ]
  },
  {
   "cell_type": "code",
   "execution_count": null,
   "id": "132de913-6502-466f-8292-3e46dd865143",
   "metadata": {
    "tags": [],
    "vscode": {
     "languageId": "r"
    }
   },
   "outputs": [],
   "source": [
    "# Prepare data\n",
    "graph.pred <- merge(trt0, trt1, by=c(\"time\", \"timesqr\"))\n",
    "# Edit data frame to reflect that risks are estimated at the END of each interval\n",
    "graph.pred$time_0 <- graph.pred$time + 1\n",
    "zero <- data.frame(cbind(0,0,0,0,1,0,1,0,1,0,0))\n",
    "zero <- setNames(zero,names(graph.pred))\n",
    "graph <- rbind(zero, graph.pred)"
   ]
  },
  {
   "cell_type": "markdown",
   "id": "736104e0-737b-45e7-8795-f304b699155c",
   "metadata": {},
   "source": [
    "### Use pooled logistic regression estimates to compute causal estimates"
   ]
  },
  {
   "cell_type": "code",
   "execution_count": null,
   "id": "84399c26-6b8a-4cdd-8972-254490c0f5ad",
   "metadata": {
    "tags": [],
    "vscode": {
     "languageId": "r"
    }
   },
   "outputs": [],
   "source": [
    "# 2-year risk in the non spiro group\n",
    "risk0.plr <- graph$risk0[which(graph$time==K-1)]\n",
    "round(risk0.plr, 5)"
   ]
  },
  {
   "cell_type": "code",
   "execution_count": null,
   "id": "c692adf4-83d1-4475-ae90-896a22a49a65",
   "metadata": {
    "tags": [],
    "vscode": {
     "languageId": "r"
    }
   },
   "outputs": [],
   "source": [
    "# 2-year risk in the spiro group\n",
    "risk1.plr <- graph$risk1[which(graph$time==K-1)]\n",
    "round(risk1.plr, 5)"
   ]
  },
  {
   "cell_type": "code",
   "execution_count": null,
   "id": "f8895b3d-fd68-4e62-8c43-9998390b34b2",
   "metadata": {
    "tags": [],
    "vscode": {
     "languageId": "r"
    }
   },
   "outputs": [],
   "source": [
    "# 2-year risk difference\n",
    "rd.plr <- risk1.plr - risk0.plr\n",
    "round(rd.plr, 4)"
   ]
  },
  {
   "cell_type": "code",
   "execution_count": null,
   "id": "965dceea-5e09-47f3-8881-0f0ecfdb1b88",
   "metadata": {
    "tags": [],
    "vscode": {
     "languageId": "r"
    }
   },
   "outputs": [],
   "source": [
    "# 2-year risk ratio\n",
    "rr.plr <- risk1.plr / risk0.plr\n",
    "round(rr.plr, 2)"
   ]
  },
  {
   "cell_type": "markdown",
   "id": "9ec9c5c4-d6ea-40ab-bb0d-85407c9f91cd",
   "metadata": {},
   "source": [
    "### Obtain percentile-based bootstrapped 95% CIs for each quantity"
   ]
  },
  {
   "cell_type": "code",
   "execution_count": null,
   "id": "2f56572f-8c14-4b41-810f-86612479f96d",
   "metadata": {
    "tags": [],
    "vscode": {
     "languageId": "r"
    }
   },
   "outputs": [],
   "source": [
    "# Create a function to obtain risks, RD, and RR from each bootstrap sample\n",
    "risk.boot <- function(data, indices) {\n",
    "  # Select individuals into each bootstrapped sample\n",
    "  ids <- unique(data$id)\n",
    "  boot.ids <- data.frame(id = ids[indices])\n",
    " \n",
    "  # Subset person-time data to individuals selected into the bootstrapped sample\n",
    "  d <- left_join(boot.ids, data, by = \"id\", relationship = \"many-to-many\")\n",
    " \n",
    "  # Fit pooled logistic model to estimate discrete hazards\n",
    "  options(warn=-1)\n",
    "  pool.boot <- glm(formula = death==1 ~ trt + time + timesqr +\n",
    "                     I(trt*time) +\n",
    "                     I(trt*timesqr),\n",
    "                   family = binomial(link = 'logit'),\n",
    "                   data = d)\n",
    "  options(warn=0)\n",
    " \n",
    "  # Create a dataset to store results\n",
    "  # Include all time points under each treatment level\n",
    "  trt0 <- data.frame(cbind(seq(0, K-1),0,(seq(0, K-1))^2))\n",
    "  trt1 <- data.frame(cbind(seq(0, K-1),1,(seq(0, K-1))^2))\n",
    " \n",
    "  # Set column names\n",
    "  colnames(trt0) <- c(\"time\", \"trt\", \"timesqr\")\n",
    "  colnames(trt1) <- c(\"time\", \"trt\", \"timesqr\")\n",
    " \n",
    "  # Extract predicted values from pooled logistic regression model\n",
    "  # Predicted values correspond to discrete-time hazards\n",
    "  trt0$p.event0 <- predict(pool.boot, trt0, type=\"response\")\n",
    "  trt1$p.event1 <- predict(pool.boot, trt1, type=\"response\")\n",
    " \n",
    "  # Convert from discrete-time hazards to survival probabilities\n",
    "  # S(t) = cumulative product of (1 - h(t))\n",
    "  trt0$surv0 <- cumprod(1 - trt0$p.event0)\n",
    "  trt1$surv1 <- cumprod(1 - trt1$p.event1)\n",
    " \n",
    "  # Convert from survival to risks\n",
    "  # Risk = 1 - S(t)\n",
    "  trt0$risk0 <- 1 - trt0$surv0\n",
    "  trt1$risk1 <- 1 - trt1$surv1\n",
    " \n",
    "  # Merge data from two arms and format\n",
    "  graph <- merge(trt0, trt1, by=c(\"time\", \"timesqr\"))\n",
    "  graph$rd <- graph$risk1-graph$risk0\n",
    "  graph$rr <- graph$risk1/graph$risk0\n",
    "  return(c(graph$risk0[which(graph$time==K-1)],\n",
    "           graph$risk1[which(graph$time==K-1)],\n",
    "           graph$rd[which(graph$time==K-1)],\n",
    "           graph$rr[which(graph$time==K-1)]))\n",
    "}"
   ]
  },
  {
   "cell_type": "code",
   "execution_count": null,
   "id": "9c73be1e-82c8-4f0e-b8ca-ba3eb7cf908d",
   "metadata": {
    "tags": [],
    "vscode": {
     "languageId": "r"
    }
   },
   "outputs": [],
   "source": [
    "# Run 2,000 bootstrap samples \n",
    "set.seed(865)\n",
    "risk.results <- boot(data = df,\n",
    "                     statistic = risk.boot,\n",
    "                     R=2000)"
   ]
  },
  {
   "cell_type": "code",
   "execution_count": null,
   "id": "485e4d43-f94c-45db-add3-6c328a43799a",
   "metadata": {
    "tags": [],
    "vscode": {
     "languageId": "r"
    }
   },
   "outputs": [],
   "source": [
    "# 95% CI for risk ratio\n",
    "boot.ci(risk.results,\n",
    "        conf = 0.95,\n",
    "        type = \"perc\",\n",
    "        index = 4) # create CI for fourth statistic (rr) returned by boot()"
   ]
  },
  {
   "cell_type": "markdown",
   "id": "32a773fc-16f4-4c1c-b6db-41e3daa3db17",
   "metadata": {},
   "source": [
    "# Pooled logistic regression (adjusting for confounders using IPTW) "
   ]
  },
  {
   "cell_type": "code",
   "execution_count": null,
   "id": "882c38e4-c79c-4372-9420-9ff08dec7c5b",
   "metadata": {
    "tags": [],
    "vscode": {
     "languageId": "r"
    }
   },
   "outputs": [],
   "source": [
    "# Estimation of propensity scores with a logistic model\n",
    "ps.treatment <- glm(formula = trt==1 ~  lvef + creatinine + potassium + age + as.factor(gender) + as.factor(ace_inhibitors),\n",
    "                family = binomial(link = 'logit'),\n",
    "                data = df[which(df$time==0),])\n",
    "\n",
    "summary(ps.treatment)"
   ]
  },
  {
   "cell_type": "code",
   "execution_count": null,
   "id": "e923e90f-40d1-4d52-95c4-6e66ceea4af7",
   "metadata": {
    "tags": [],
    "vscode": {
     "languageId": "r"
    }
   },
   "outputs": [],
   "source": [
    "#  Estimate propensity scores\n",
    "df$ps_treatment <- predict(ps.treatment, df, type = \"response\")"
   ]
  },
  {
   "cell_type": "code",
   "execution_count": null,
   "id": "61042b1f-ec81-47b7-b1fe-c8e10526e7fc",
   "metadata": {
    "tags": [],
    "vscode": {
     "languageId": "r"
    }
   },
   "outputs": [],
   "source": [
    "head(df, n=20)"
   ]
  },
  {
   "cell_type": "code",
   "execution_count": null,
   "id": "1d9b89c4-6cb9-4584-8c31-fa253d47edec",
   "metadata": {
    "tags": [],
    "vscode": {
     "languageId": "r"
    }
   },
   "outputs": [],
   "source": [
    "summary(df$ps_treatment[df$trt==1])\n",
    "summary(df$ps_treatment[df$trt==0])"
   ]
  },
  {
   "attachments": {},
   "cell_type": "markdown",
   "id": "695832de-bdbc-414a-9aa2-78b672affa0f",
   "metadata": {},
   "source": [
    "### Verifying the Accuracy and Reliability of Propensity Score Calculation"
   ]
  },
  {
   "cell_type": "code",
   "execution_count": null,
   "id": "ba7eb7ac-64ee-4413-a34a-35e3abb08775",
   "metadata": {
    "tags": [],
    "vscode": {
     "languageId": "r"
    }
   },
   "outputs": [],
   "source": [
    "subset_df <- df[df$time == 0, ]"
   ]
  },
  {
   "cell_type": "code",
   "execution_count": null,
   "id": "f0e377ef-de9a-43a1-8727-7747656a6489",
   "metadata": {
    "tags": [],
    "vscode": {
     "languageId": "r"
    }
   },
   "outputs": [],
   "source": [
    "head(subset_df)"
   ]
  },
  {
   "cell_type": "code",
   "execution_count": null,
   "id": "a29bbfdd-f81b-4622-b082-5f905b1536e7",
   "metadata": {
    "tags": [],
    "vscode": {
     "languageId": "r"
    }
   },
   "outputs": [],
   "source": [
    "# Estimation of propensity scores with a logistic model\n",
    "ps.treatment <- glm(formula = trt==1 ~  lvef + creatinine + potassium + age + as.factor(gender) + as.factor(ace_inhibitors),\n",
    "                family = binomial(link = 'logit'),\n",
    "                data = subset_df)\n",
    "\n",
    "summary(ps.treatment)"
   ]
  },
  {
   "cell_type": "code",
   "execution_count": null,
   "id": "e278bfb5-006c-418e-bca2-17de0fda16d4",
   "metadata": {
    "tags": [],
    "vscode": {
     "languageId": "r"
    }
   },
   "outputs": [],
   "source": [
    "#  Estimate propensity scores\n",
    "subset_df$ps_treatment_2 <- predict(ps.treatment, subset_df, type = \"response\")"
   ]
  },
  {
   "cell_type": "code",
   "execution_count": null,
   "id": "d440aff1-7ca9-4a1a-aa75-079bb3fa1e84",
   "metadata": {
    "tags": [],
    "vscode": {
     "languageId": "r"
    }
   },
   "outputs": [],
   "source": [
    "head(subset_df)"
   ]
  },
  {
   "cell_type": "markdown",
   "id": "e3e7222d-15b4-4c81-bbdc-c20e31ff13ca",
   "metadata": {},
   "source": [
    "### Estimate the inverse probability weights "
   ]
  },
  {
   "cell_type": "code",
   "execution_count": null,
   "id": "914e5feb-4dd7-4c66-8b4d-e532f05e3af7",
   "metadata": {
    "tags": [],
    "vscode": {
     "languageId": "r"
    }
   },
   "outputs": [],
   "source": [
    "df$w_a <- ifelse(df$trt==1,\n",
    "                 1/df$ps_treatment,\n",
    "                 1/(1-df$ps_treatment))"
   ]
  },
  {
   "cell_type": "code",
   "execution_count": null,
   "id": "7d6a64ed-637d-474d-bcd6-258302250d80",
   "metadata": {
    "tags": [],
    "vscode": {
     "languageId": "r"
    }
   },
   "outputs": [],
   "source": [
    "# Min, 25th percentile, median, mean, SD, 75th percentile, and max \n",
    "summary(df$w_a)\n",
    "sd(df$w_a)"
   ]
  },
  {
   "cell_type": "code",
   "execution_count": null,
   "id": "c4fc5859-e2c3-4f06-b04b-766081985352",
   "metadata": {
    "tags": [],
    "vscode": {
     "languageId": "r"
    }
   },
   "outputs": [],
   "source": [
    "# Create the histogram\n",
    "hist(df[which(df$time==0),]$w_a, main = \"IPTW Weights Distribution\", xlab = \"IPTW Weights\")\n",
    "\n",
    "# Calculate percentiles (you can change the percentiles as needed)\n",
    "percentiles <- quantile(df[which(df$time==0),]$w_a, probs = c(0.95, 0.99))\n",
    "\n",
    "# Add vertical lines for the percentiles\n",
    "abline(v = percentiles, col = \"red\", lty = 2)\n",
    "\n",
    "# Add a legend to indicate the percentiles\n",
    "legend(\"topright\", legend = paste0(\"P\", c(95, 99), \" = \", percentiles), col = \"red\", lty = 2, bty = \"n\")"
   ]
  },
  {
   "cell_type": "code",
   "execution_count": null,
   "id": "3b79e2ea-0a12-4801-a4ea-4a46fabc4a04",
   "metadata": {
    "tags": [],
    "vscode": {
     "languageId": "r"
    }
   },
   "outputs": [],
   "source": [
    "head(df, n=20)"
   ]
  },
  {
   "cell_type": "markdown",
   "id": "a841e583-f90b-40ab-b9de-e45632d46f96",
   "metadata": {
    "tags": []
   },
   "source": [
    "###  Assessing the balance of covariates between treatment groups "
   ]
  },
  {
   "cell_type": "code",
   "execution_count": null,
   "id": "7034db22-4cef-4ce5-bccd-06e2ac02af3d",
   "metadata": {
    "tags": [],
    "vscode": {
     "languageId": "r"
    }
   },
   "outputs": [],
   "source": [
    "subset_df <- df[df$time == 0, ]\n",
    "\n",
    "covariates <- subset(subset_df, select = c(\"age\", \"gender\",\"creatinine\", \"lvef\", \"potassium\", \"ace_inhibitors\"))\n",
    "bal.tab(covariates, treat =subset_df$trt, weights=subset_df$w_a,un=TRUE)"
   ]
  },
  {
   "cell_type": "markdown",
   "id": "007e4af3-fa0d-429e-acd6-235037b576f8",
   "metadata": {},
   "source": [
    "###  Fit pooled logistic regression with weights "
   ]
  },
  {
   "cell_type": "code",
   "execution_count": null,
   "id": "31978ed7-eb5f-4471-a9e4-5df699337a62",
   "metadata": {
    "tags": [],
    "vscode": {
     "languageId": "r"
    }
   },
   "outputs": [],
   "source": [
    "# Include product terms between time and treatment\n",
    "options(warn=-1) # Suppress warning messages\n",
    "fit.pool <- speedglm(formula = death==1 ~ trt + time + timesqr +\n",
    "                                    I(trt*time) +\n",
    "                                    I(trt*timesqr),\n",
    "                family = binomial(link = 'logit'),\n",
    "                data = df,\n",
    "               weights=df$w_a)\n",
    "options(warn=-0)\n",
    "# Note that this model will take a few seconds to run\n",
    "\n",
    "# Print results\n",
    "summary(fit.pool)"
   ]
  },
  {
   "cell_type": "markdown",
   "id": "9307a25d-99a5-4b69-9284-9bb41b7dd668",
   "metadata": {},
   "source": [
    "### Transform estimates to risks at each time point in each arm"
   ]
  },
  {
   "cell_type": "code",
   "execution_count": null,
   "id": "dd8a8ba9-ea42-48d8-87b2-689d6bac2d40",
   "metadata": {
    "tags": [],
    "vscode": {
     "languageId": "r"
    }
   },
   "outputs": [],
   "source": [
    "# Create a dataset to store results\n",
    "# Include all time points under each treatment level\n",
    "trt0 <- data.frame(cbind(seq(0, K-1),0,(seq(0, K-1))^2))\n",
    "trt1 <- data.frame(cbind(seq(0, K-1),1,(seq(0, K-1))^2))"
   ]
  },
  {
   "cell_type": "code",
   "execution_count": null,
   "id": "58520ea0-1e08-418f-8410-086562e8941d",
   "metadata": {
    "tags": [],
    "vscode": {
     "languageId": "r"
    }
   },
   "outputs": [],
   "source": [
    "# Set column names\n",
    "colnames(trt0) <- c(\"time\", \"trt\", \"timesqr\")\n",
    "colnames(trt1) <- c(\"time\", \"trt\", \"timesqr\")"
   ]
  },
  {
   "cell_type": "code",
   "execution_count": null,
   "id": "39d00f48-703e-4f32-ab88-bc6f4d22b439",
   "metadata": {
    "tags": [],
    "vscode": {
     "languageId": "r"
    }
   },
   "outputs": [],
   "source": [
    "# Extract predicted values from pooled logistic regression model\n",
    "# Predicted values correspond to discrete-time hazards\n",
    "trt0$p.event0 <- predict(fit.pool, trt0, type=\"response\")\n",
    "trt1$p.event1 <- predict(fit.pool, trt1, type=\"response\")"
   ]
  },
  {
   "cell_type": "code",
   "execution_count": null,
   "id": "95871493-2a14-4d92-bb07-f100f83e9029",
   "metadata": {
    "tags": [],
    "vscode": {
     "languageId": "r"
    }
   },
   "outputs": [],
   "source": [
    "# Estimate survival probabilities from hazards\n",
    "# S(t) = cumulative product of (1 - h(t))\n",
    "trt0$surv0 <- cumprod(1 - trt0$p.event0)\n",
    "trt1$surv1 <- cumprod(1 - trt1$p.event1)"
   ]
  },
  {
   "cell_type": "code",
   "execution_count": null,
   "id": "442de206-bd71-4b8e-8ef8-e5af67b89cf7",
   "metadata": {
    "tags": [],
    "vscode": {
     "languageId": "r"
    }
   },
   "outputs": [],
   "source": [
    "# Estimate risks from survival probabilities\n",
    "# Risk = 1 - S(t)\n",
    "trt0$risk0 <- 1 - trt0$surv0\n",
    "trt1$risk1 <- 1 - trt1$surv1"
   ]
  },
  {
   "cell_type": "code",
   "execution_count": null,
   "id": "155dc6bb-945c-4dea-98a1-8913a027c506",
   "metadata": {
    "tags": [],
    "vscode": {
     "languageId": "r"
    }
   },
   "outputs": [],
   "source": [
    "# Prepare data\n",
    "graph.pred <- merge(trt0, trt1, by=c(\"time\", \"timesqr\"))\n",
    "# Edit data frame to reflect that risks are estimated at the END of each interval\n",
    "graph.pred$time_0 <- graph.pred$time + 1\n",
    "zero <- data.frame(cbind(0,0,0,0,1,0,1,0,1,0,0))\n",
    "zero <- setNames(zero,names(graph.pred))\n",
    "graph <- rbind(zero, graph.pred)"
   ]
  },
  {
   "cell_type": "markdown",
   "id": "890f5a72-4218-4515-8b6c-a578fcac0ddc",
   "metadata": {},
   "source": [
    "### Use pooled logistic regression estimates to compute causal estimates"
   ]
  },
  {
   "cell_type": "code",
   "execution_count": null,
   "id": "d3efb944-2796-4884-b3f0-7f4ad1e5b5ba",
   "metadata": {
    "tags": [],
    "vscode": {
     "languageId": "r"
    }
   },
   "outputs": [],
   "source": [
    "# 2-year risk in the non spiro group\n",
    "\n",
    "risk0.plr <- graph$risk0[which(graph$time==K-1)]\n",
    "round(risk0.plr, 5)"
   ]
  },
  {
   "cell_type": "code",
   "execution_count": null,
   "id": "3166e329-a3b1-4e04-bd34-71cbf0238780",
   "metadata": {
    "tags": [],
    "vscode": {
     "languageId": "r"
    }
   },
   "outputs": [],
   "source": [
    "# 2-year risk in the  spiro group\n",
    "\n",
    "risk1.plr <- graph$risk1[which(graph$time==K-1)]\n",
    "round(risk1.plr, 5)"
   ]
  },
  {
   "cell_type": "code",
   "execution_count": null,
   "id": "7f0c4e37-8fc9-4d0f-8e35-f9d6884616c8",
   "metadata": {
    "tags": [],
    "vscode": {
     "languageId": "r"
    }
   },
   "outputs": [],
   "source": [
    "# 2-year risk difference\n",
    "\n",
    "rd.plr <- risk1.plr - risk0.plr\n",
    "round(rd.plr, 4)\n"
   ]
  },
  {
   "cell_type": "code",
   "execution_count": null,
   "id": "d4e1762a-1628-4fc1-8939-283796728986",
   "metadata": {
    "tags": [],
    "vscode": {
     "languageId": "r"
    }
   },
   "outputs": [],
   "source": [
    "# 2-year risk ratio\n",
    "\n",
    "rr.plr <- risk1.plr / risk0.plr\n",
    "round(rr.plr, 2)"
   ]
  },
  {
   "cell_type": "markdown",
   "id": "531833d7-e57a-49bb-b70b-50d57f3d73b6",
   "metadata": {},
   "source": [
    "### Obtain percentile-based bootstrapped 95% CIs for each quantity"
   ]
  },
  {
   "cell_type": "code",
   "execution_count": null,
   "id": "21062775-05a8-4210-8fa3-bc18a5aeb699",
   "metadata": {
    "tags": [],
    "vscode": {
     "languageId": "r"
    }
   },
   "outputs": [],
   "source": [
    "risk.boot <- function(data, indices) {\n",
    "  # Select individuals into each bootstrapped sample\n",
    "  ids <- unique(data$id)\n",
    "  boot.ids <- data.frame(id = ids[indices])\n",
    "  \n",
    "  # Subset person-time data to individuals selected into the bootstrapped sample\n",
    "  d <- left_join(boot.ids, data, by = \"id\", relationship = \"many-to-many\")  \n",
    "    \n",
    "  # Calculate weights based on propensity scores\n",
    "  ps.treatment <- glm(formula = trt == 1 ~ lvef + creatinine + potassium + age + as.factor(gender) + as.factor(ace_inhibitors),\n",
    "                      family = binomial(link = 'logit'),\n",
    "                      data = d[which(d$time==0),])\n",
    "  d$ps_treatment <- predict(ps.treatment, d, type = \"response\")\n",
    "  \n",
    "  d$w_a <- ifelse(d$trt == 1,\n",
    "                   1 / d$ps_treatment,\n",
    "                   1 / (1 - d$ps_treatment))\n",
    "  \n",
    "  # Fit pooled logistic model to estimate discrete hazards with weights\n",
    "  options(warn=-1)\n",
    "  pool.boot <- glm(formula = death == 1 ~ trt + time + timesqr +\n",
    "                     I(trt*time) +\n",
    "                     I(trt*timesqr),\n",
    "                   family = binomial(link = 'logit'),\n",
    "                   data = d,\n",
    "                   weights = d$w_a)  # Use the weights here\n",
    "  options(warn=0)\n",
    "  \n",
    "  # Create a dataset to store results\n",
    "  # Include all time points under each treatment level\n",
    "  trt0 <- data.frame(cbind(seq(0, K-1), 0, (seq(0, K-1))^2))\n",
    "  trt1 <- data.frame(cbind(seq(0, K-1), 1, (seq(0, K-1))^2))\n",
    "  \n",
    "  # Set column names\n",
    "  colnames(trt0) <- c(\"time\", \"trt\", \"timesqr\")\n",
    "  colnames(trt1) <- c(\"time\", \"trt\", \"timesqr\")\n",
    "  \n",
    "  # Extract predicted values from pooled logistic regression model\n",
    "  # Predicted values correspond to discrete-time hazards\n",
    "  trt0$p.event0 <- predict(pool.boot, trt0, type=\"response\")\n",
    "  trt1$p.event1 <- predict(pool.boot, trt1, type=\"response\")\n",
    "  \n",
    "  # Convert from discrete-time hazards to survival probabilities\n",
    "  # S(t) = cumulative product of (1 - h(t))\n",
    "  trt0$surv0 <- cumprod(1 - trt0$p.event0)\n",
    "  trt1$surv1 <- cumprod(1 - trt1$p.event1)\n",
    "  \n",
    "  # Convert from survival to risks\n",
    "  # Risk = 1 - S(t)\n",
    "  trt0$risk0 <- 1 - trt0$surv0\n",
    "  trt1$risk1 <- 1 - trt1$surv1\n",
    "  \n",
    "  # Merge data from two arms and format\n",
    "  graph <- merge(trt0, trt1, by=c(\"time\", \"timesqr\"))\n",
    "  graph$rd <- graph$risk1 - graph$risk0\n",
    "  graph$rr <- graph$risk1 / graph$risk0\n",
    "  return(c(graph$risk0[which(graph$time==K-1)],\n",
    "           graph$risk1[which(graph$time==K-1)],\n",
    "           graph$rd[which(graph$time==K-1)],\n",
    "           graph$rr[which(graph$time==K-1)]))\n",
    "}"
   ]
  },
  {
   "cell_type": "code",
   "execution_count": null,
   "id": "0470ddfe-e778-4b07-a67c-1a5186d52105",
   "metadata": {
    "tags": [],
    "vscode": {
     "languageId": "r"
    }
   },
   "outputs": [],
   "source": [
    "# Run 2000 bootstrap samples \n",
    "set.seed(865)\n",
    "risk.results <- boot(data = df,\n",
    "                     statistic = risk.boot,\n",
    "                     R=2000)"
   ]
  },
  {
   "cell_type": "code",
   "execution_count": null,
   "id": "e1c722bb-69dc-4008-9b17-d66f7f6b9d10",
   "metadata": {
    "tags": [],
    "vscode": {
     "languageId": "r"
    }
   },
   "outputs": [],
   "source": [
    "# 95% CI for risk ratio\n",
    "boot.ci(risk.results,\n",
    "        conf = 0.95,\n",
    "        type = \"perc\",\n",
    "        index = 4) # create CI for fourth statistic (rr) returned by boot()"
   ]
  }
 ],
 "metadata": {
  "kernelspec": {
   "display_name": "R",
   "language": "R",
   "name": "ir"
  },
  "language_info": {
   "codemirror_mode": "r",
   "file_extension": ".r",
   "mimetype": "text/x-r-source",
   "name": "R",
   "pygments_lexer": "r",
   "version": "4.2.2"
  }
 },
 "nbformat": 4,
 "nbformat_minor": 5
}
