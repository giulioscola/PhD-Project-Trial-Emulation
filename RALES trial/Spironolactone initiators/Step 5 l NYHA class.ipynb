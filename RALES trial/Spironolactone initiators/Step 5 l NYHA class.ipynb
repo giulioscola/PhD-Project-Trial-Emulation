{
 "cells": [
  {
   "cell_type": "code",
   "execution_count": null,
   "id": "89ee1158",
   "metadata": {},
   "outputs": [],
   "source": [
    "import pickle\n",
    "import networkx as nx\n",
    "import datetime\n",
    "import pandas as pd \n",
    "import numpy as np\n",
    "from tqdm import tqdm"
   ]
  },
  {
   "cell_type": "markdown",
   "id": "724b6208",
   "metadata": {},
   "source": [
    "# HF patients on spironolactone"
   ]
  },
  {
   "cell_type": "code",
   "execution_count": null,
   "id": "1034b4a4",
   "metadata": {},
   "outputs": [],
   "source": [
    "with open('/projects/RALES TRIAL/1A/spiro dataextraction/spiro data/first_mention_spiro.pickle', 'rb') as f:\n",
    "    first_mention_spiro = pickle.load(f)"
   ]
  },
  {
   "cell_type": "code",
   "execution_count": null,
   "id": "ee5aab4a",
   "metadata": {},
   "outputs": [],
   "source": [
    "spiro = list(first_mention_spiro.keys())"
   ]
  },
  {
   "cell_type": "markdown",
   "id": "c9654e46",
   "metadata": {},
   "source": [
    "# Identifying HF patients on spironolactone with dyspnea"
   ]
  },
  {
   "cell_type": "code",
   "execution_count": null,
   "id": "987fe6d3",
   "metadata": {},
   "outputs": [],
   "source": [
    "def graph_from_onto(onto):\n",
    "    G = nx.DiGraph()\n",
    "    cl_edges = []\n",
    "    for s, ts in onto.items():\n",
    "        for t in ts:\n",
    "            cl_edges.append((s.replace('S-', ''), t.replace('S-', '')))\n",
    "    G.add_edges_from(cl_edges)\n",
    "    return G\n",
    "\n",
    "def load_onto(o):\n",
    "    with open(f'/projects/data/GS/{o}', 'rb') as f:\n",
    "        onto = pickle.load(f)\n",
    "    G = graph_from_onto(onto)\n",
    "    return G\n",
    "\n",
    "def expand_codes(onto, codes):\n",
    "    expanded = {}\n",
    "    for name, top_codes in codes.items():\n",
    "        expanded[name] = set()\n",
    "        for c in top_codes:\n",
    "            expanded[name].add(c)\n",
    "            if c in onto:\n",
    "                expanded[name].update(nx.ancestors(onto, c))\n",
    "            else:\n",
    "                print(\"NOT FOUND:\", c, name)\n",
    "        print(name, len(top_codes), len(expanded[name]))\n",
    "    return expanded"
   ]
  },
  {
   "cell_type": "code",
   "execution_count": null,
   "id": "88be04e4",
   "metadata": {},
   "outputs": [],
   "source": [
    "dyspnea = { \n",
    "    'breathless_moderate_strenous_exertion' : ['161939006', '390871002', '390870001'],\n",
    "    'breathless_mild_exertion':['161940008'],\n",
    "    'chronic_dyspnea' : ['870535009'],\n",
    "    'tired_on_least_exertion' : ['248269005'],\n",
    "    'pain_provoked_by_exertion' : ['427341007'],\n",
    "    'dyspnea_on_exertion' : ['60845006'],\n",
    "    'dyspnea_at_rest' : ['161941007'],\n",
    "    'chest_pain_on_exertion': ['81953000'],\n",
    "    'chest_pain_at_rest': ['9267009'],    \n",
    "}"
   ]
  },
  {
   "cell_type": "code",
   "execution_count": null,
   "id": "1407bd9c",
   "metadata": {},
   "outputs": [],
   "source": [
    "onto = load_onto('isa_rela_ch2pt_202009.pickle')\n",
    "dyspnea = expand_codes(onto,dyspnea)"
   ]
  },
  {
   "cell_type": "code",
   "execution_count": null,
   "id": "5c50e5c0",
   "metadata": {},
   "outputs": [],
   "source": [
    "with open('/projects/data/GS/pt2cui_pos_dates.pickle', 'rb') as f:\n",
    "    pt2cui_pos_dates = pickle.load(f)"
   ]
  },
  {
   "cell_type": "code",
   "execution_count": null,
   "id": "92edc771",
   "metadata": {},
   "outputs": [],
   "source": [
    "def dates_dyspnea(pt_data, codes):\n",
    "    dates = None\n",
    "    for x in codes:\n",
    "        if x in pt_data and len(pt_data[x])>=2:\n",
    "            if dates == None:\n",
    "                dates = pt_data[x]\n",
    "            else: \n",
    "                dates = dates.union(pt_data[x])\n",
    "    return dates"
   ]
  },
  {
   "cell_type": "code",
   "execution_count": null,
   "id": "c10f4013",
   "metadata": {},
   "outputs": [],
   "source": [
    "rows = []\n",
    "for pt in spiro:\n",
    "    pt_data = pt2cui_pos_dates.get(pt, {})\n",
    "    row = {'client_idcode': pt, 'first_mention_spiro': first_mention_spiro[pt]} \n",
    "    for concept, codes in dyspnea.items():\n",
    "        dates = dates_dyspnea(pt_data, codes)\n",
    "        if dates == None:\n",
    "            row[f\"{concept}_date\"] = np.nan\n",
    "        else:\n",
    "            row[f\"{concept}_date\"] = dates\n",
    "    rows.append(row)"
   ]
  },
  {
   "cell_type": "code",
   "execution_count": null,
   "id": "a661dfe6",
   "metadata": {},
   "outputs": [],
   "source": [
    "df = pd.DataFrame(rows)\n",
    "df.shape"
   ]
  },
  {
   "cell_type": "code",
   "execution_count": null,
   "id": "6d43d6da",
   "metadata": {},
   "outputs": [],
   "source": [
    "df.head()"
   ]
  },
  {
   "cell_type": "code",
   "execution_count": null,
   "id": "bdb9ecd3",
   "metadata": {},
   "outputs": [],
   "source": [
    "%%time\n",
    "df = df[['client_idcode']].join((df[i].explode() for i in df.iloc[:,1:]))"
   ]
  },
  {
   "cell_type": "code",
   "execution_count": null,
   "id": "ecb3dad1",
   "metadata": {},
   "outputs": [],
   "source": [
    "%%time\n",
    "for k in dyspnea.keys():\n",
    "    df[f'{k}_date'] = pd.to_datetime(df[f'{k}_date']).dt.date"
   ]
  },
  {
   "cell_type": "code",
   "execution_count": null,
   "id": "0390e71d",
   "metadata": {},
   "outputs": [],
   "source": [
    "%%time\n",
    "for k in dyspnea.keys():\n",
    "    df[f'{k}_delta'] = pd.to_datetime(df['first_mention_spiro']) - pd.to_datetime(df[f'{k}_date'])"
   ]
  },
  {
   "cell_type": "code",
   "execution_count": null,
   "id": "12b232be",
   "metadata": {},
   "outputs": [],
   "source": [
    "min_time = datetime.timedelta(days=1) \n",
    "max_time = datetime.timedelta(days=183)\n",
    "for k in dyspnea.keys():\n",
    "    t1 = df[f'{k}_delta'] >= min_time \n",
    "    t2 = df[f'{k}_delta'] <= max_time\n",
    "    in_window = t1 & t2 \n",
    "    df[f'{k}_in_window'] = in_window"
   ]
  },
  {
   "cell_type": "code",
   "execution_count": null,
   "id": "58a861c0",
   "metadata": {},
   "outputs": [],
   "source": [
    "for k in dyspnea.keys():\n",
    "    df[f'{k}_true_count'] = (\n",
    "        df[f'{k}_in_window'].eq(True)\n",
    "            .groupby(df['client_idcode']).transform('sum')\n",
    "    )"
   ]
  },
  {
   "cell_type": "code",
   "execution_count": null,
   "id": "d0fd97a8",
   "metadata": {},
   "outputs": [],
   "source": [
    "df = df.drop_duplicates('client_idcode') \n",
    "df.reset_index(drop=True, inplace=True)"
   ]
  },
  {
   "cell_type": "markdown",
   "id": "7eaff754",
   "metadata": {},
   "source": [
    "# Preparing the data for extraction"
   ]
  },
  {
   "cell_type": "code",
   "execution_count": null,
   "id": "bdcf6a2c",
   "metadata": {},
   "outputs": [],
   "source": [
    "dyspnea_on_exertion = set()\n",
    "for i,row in tqdm(df.iterrows()):\n",
    "    if df.loc[i,'dyspnea_on_exertion_true_count'] >= 1:\n",
    "        dyspnea_on_exertion.add(df.loc[i,'client_idcode'])\n",
    "        \n",
    "len(dyspnea_on_exertion)"
   ]
  },
  {
   "cell_type": "code",
   "execution_count": null,
   "id": "def793c3",
   "metadata": {},
   "outputs": [],
   "source": [
    "pain_provoked_by_exertion  = set()\n",
    "for i,row in tqdm(df.iterrows()):\n",
    "    if df.loc[i,'pain_provoked_by_exertion_true_count'] >= 1:\n",
    "        pain_provoked_by_exertion.add(df.loc[i,'client_idcode'])\n",
    "        \n",
    "len(pain_provoked_by_exertion)"
   ]
  },
  {
   "cell_type": "code",
   "execution_count": null,
   "id": "a811811f",
   "metadata": {},
   "outputs": [],
   "source": [
    "dyspnea_at_rest = set()\n",
    "for i,row in tqdm(df.iterrows()):\n",
    "    if df.loc[i,'dyspnea_at_rest_true_count'] >= 1:\n",
    "        dyspnea_at_rest.add(df.loc[i,'client_idcode'])\n",
    "        \n",
    "len(dyspnea_at_rest)"
   ]
  },
  {
   "cell_type": "code",
   "execution_count": null,
   "id": "2e506df4",
   "metadata": {},
   "outputs": [],
   "source": [
    "chest_pain_on_exertion = set()\n",
    "for i,row in tqdm(df.iterrows()):\n",
    "    if df.loc[i,'chest_pain_on_exertion_true_count'] >= 1:\n",
    "        chest_pain_on_exertion.add(df.loc[i,'client_idcode'])\n",
    "        \n",
    "len(chest_pain_on_exertion)"
   ]
  },
  {
   "cell_type": "code",
   "execution_count": null,
   "id": "80d2faf6",
   "metadata": {},
   "outputs": [],
   "source": [
    "chest_pain_at_rest = set()\n",
    "for i,row in tqdm(df.iterrows()):\n",
    "    if df.loc[i,'chest_pain_at_rest_true_count'] >= 1:\n",
    "        chest_pain_at_rest.add(df.loc[i,'client_idcode'])\n",
    "        \n",
    "len(chest_pain_at_rest)"
   ]
  },
  {
   "cell_type": "code",
   "execution_count": null,
   "id": "cf0fd4a9",
   "metadata": {},
   "outputs": [],
   "source": [
    "dyspnea = dyspnea_on_exertion.union(pain_provoked_by_exertion,dyspnea_at_rest,chest_pain_on_exertion,chest_pain_at_rest)\n",
    "len(dyspnea)"
   ]
  }
 ],
 "metadata": {
  "kernelspec": {
   "display_name": "Python 3 (ipykernel)",
   "language": "python",
   "name": "python3"
  },
  "language_info": {
   "codemirror_mode": {
    "name": "ipython",
    "version": 3
   },
   "file_extension": ".py",
   "mimetype": "text/x-python",
   "name": "python",
   "nbconvert_exporter": "python",
   "pygments_lexer": "ipython3",
   "version": "3.9.7"
  }
 },
 "nbformat": 4,
 "nbformat_minor": 5
}
