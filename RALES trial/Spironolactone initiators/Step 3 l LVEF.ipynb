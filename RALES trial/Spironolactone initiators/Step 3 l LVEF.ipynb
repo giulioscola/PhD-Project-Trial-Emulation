{
 "cells": [
  {
   "cell_type": "code",
   "execution_count": null,
   "id": "2fbc3a81",
   "metadata": {},
   "outputs": [],
   "source": [
    "import pandas as pd \n",
    "import pickle\n",
    "import datetime"
   ]
  },
  {
   "cell_type": "markdown",
   "id": "9d20dee6",
   "metadata": {},
   "source": [
    "#  LVEF "
   ]
  },
  {
   "cell_type": "code",
   "execution_count": null,
   "id": "b1b474e9",
   "metadata": {},
   "outputs": [],
   "source": [
    "df = pd.read_csv('/projects/data/GS/HF/from_jack/FULL_TEXT_cardiac_echo_report_v2_with_vars.csv')\n",
    "del df['Unnamed: 0']"
   ]
  },
  {
   "cell_type": "code",
   "execution_count": null,
   "id": "2140a6cd",
   "metadata": {},
   "outputs": [],
   "source": [
    "df.info()"
   ]
  },
  {
   "cell_type": "markdown",
   "id": "f007b064",
   "metadata": {},
   "source": [
    "#  HF Patients on spironolactone  "
   ]
  },
  {
   "cell_type": "code",
   "execution_count": null,
   "id": "b97264e0",
   "metadata": {},
   "outputs": [],
   "source": [
    "with open('/projects/RALES TRIAL/1A/spiro dataextraction/spiro data/first_mention_spiro.pickle', 'rb') as f:\n",
    "    first_mention_spiro = pickle.load(f)\n",
    "len(first_mention_spiro)"
   ]
  },
  {
   "cell_type": "code",
   "execution_count": null,
   "id": "eb50aca2",
   "metadata": {},
   "outputs": [],
   "source": [
    "first_mention_spiro = pd.DataFrame(list(first_mention_spiro.items()), columns=['client_idcode', 'first_mention_spiro'])\n",
    "first_mention_spiro.info()"
   ]
  },
  {
   "cell_type": "markdown",
   "id": "ecebe681",
   "metadata": {},
   "source": [
    "#  Extracting LVEF data for each HF patient on spironolactone"
   ]
  },
  {
   "cell_type": "code",
   "execution_count": null,
   "id": "0a962957",
   "metadata": {},
   "outputs": [],
   "source": [
    "df = pd.merge(df, first_mention_spiro, on='client_idcode', how='right')\n",
    "df = df[df['ef_value'].notna()]"
   ]
  },
  {
   "cell_type": "code",
   "execution_count": null,
   "id": "f0381755",
   "metadata": {},
   "outputs": [],
   "source": [
    "len(df.loc[df['document_datecreated'].isna()])"
   ]
  },
  {
   "cell_type": "code",
   "execution_count": null,
   "id": "97d0ff5a",
   "metadata": {},
   "outputs": [],
   "source": [
    "df['document_datecreated'] = pd.to_datetime(df['document_datecreated'], utc=True).dt.date \n",
    "df['difference'] = pd.to_datetime(df['first_mention_spiro']) - pd.to_datetime(df['document_datecreated'])\n",
    "min_time = datetime.timedelta(days=1) \n",
    "max_time = datetime.timedelta(days=183)\n",
    "t1 = df['difference'] >= min_time \n",
    "t2 = df['difference'] <= max_time\n",
    "in_window = t1 & t2 \n",
    "df['in_window'] = in_window"
   ]
  },
  {
   "cell_type": "code",
   "execution_count": null,
   "id": "557dd7dd",
   "metadata": {},
   "outputs": [],
   "source": [
    "df = df.loc[df['in_window'] == True]\n",
    "df.shape"
   ]
  },
  {
   "cell_type": "code",
   "execution_count": null,
   "id": "4a5b5651",
   "metadata": {},
   "outputs": [],
   "source": [
    "df.head()"
   ]
  },
  {
   "cell_type": "code",
   "execution_count": null,
   "id": "4b43d7c4",
   "metadata": {},
   "outputs": [],
   "source": [
    "duplicates = df['client_idcode'].duplicated()\n",
    "duplicates.value_counts()"
   ]
  },
  {
   "cell_type": "code",
   "execution_count": null,
   "id": "1799d6dc",
   "metadata": {},
   "outputs": [],
   "source": [
    "df = df[df.groupby('client_idcode').document_datecreated.transform('max') == df['document_datecreated']]\n",
    "df.shape"
   ]
  },
  {
   "cell_type": "code",
   "execution_count": null,
   "id": "c20febb2",
   "metadata": {},
   "outputs": [],
   "source": [
    "df['result'] = df.groupby('client_idcode')['ef_value'].transform('mean')\n",
    "df.drop_duplicates(subset='client_idcode', keep='first', inplace = True)\n",
    "df.reset_index(drop=True, inplace=True)"
   ]
  },
  {
   "cell_type": "code",
   "execution_count": null,
   "id": "ec770c53",
   "metadata": {},
   "outputs": [],
   "source": [
    "df['result'].isna().value_counts()"
   ]
  },
  {
   "cell_type": "code",
   "execution_count": null,
   "id": "20f2805a",
   "metadata": {},
   "outputs": [],
   "source": [
    "lvef_dict = dict(zip(df.client_idcode, df.result))\n",
    "len(lvef_dict)"
   ]
  },
  {
   "cell_type": "code",
   "execution_count": null,
   "id": "ccedc5a3",
   "metadata": {},
   "outputs": [],
   "source": [
    "with open ('/projects/RALES TRIAL/1A/spiro dataextraction/spiro data/lvef_dict.pickle', 'wb') as f:\n",
    "    pickle.dump(lvef_dict,f)"
   ]
  },
  {
   "cell_type": "code",
   "execution_count": null,
   "id": "4d603c44",
   "metadata": {},
   "outputs": [],
   "source": []
  }
 ],
 "metadata": {
  "kernelspec": {
   "display_name": "Python 3 (ipykernel)",
   "language": "python",
   "name": "python3"
  },
  "language_info": {
   "codemirror_mode": {
    "name": "ipython",
    "version": 3
   },
   "file_extension": ".py",
   "mimetype": "text/x-python",
   "name": "python",
   "nbconvert_exporter": "python",
   "pygments_lexer": "ipython3",
   "version": "3.9.7"
  }
 },
 "nbformat": 4,
 "nbformat_minor": 5
}
