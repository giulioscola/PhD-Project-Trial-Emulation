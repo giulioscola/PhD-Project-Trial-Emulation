{
 "cells": [
  {
   "cell_type": "code",
   "execution_count": null,
   "id": "7bb552bb",
   "metadata": {},
   "outputs": [],
   "source": [
    "import pickle\n",
    "import json\n",
    "import networkx as nx\n",
    "import datetime\n",
    "import pandas\n",
    "import pandas as pd \n",
    "from tqdm import tqdm\n",
    "import numpy as np"
   ]
  },
  {
   "cell_type": "markdown",
   "id": "8a249a06",
   "metadata": {},
   "source": [
    " # Identifying HF patients "
   ]
  },
  {
   "cell_type": "code",
   "execution_count": null,
   "id": "27ab5061",
   "metadata": {},
   "outputs": [],
   "source": [
    "def graph_from_onto(onto):\n",
    "    G = nx.DiGraph()\n",
    "    cl_edges = []\n",
    "    for s, ts in onto.items():\n",
    "        for t in ts:\n",
    "            cl_edges.append((s.replace('S-', ''), t.replace('S-', '')))\n",
    "    G.add_edges_from(cl_edges)\n",
    "    return G\n",
    "\n",
    "def load_onto(o):\n",
    "    with open(f'/projects/data/GS/{o}', 'rb') as f:\n",
    "        onto = pickle.load(f)\n",
    "    G = graph_from_onto(onto)\n",
    "    return G\n",
    "\n",
    "def expand_codes(onto, codes):\n",
    "    expanded = {}\n",
    "    for name, top_codes in codes.items():\n",
    "        expanded[name] = set()\n",
    "        for c in top_codes:\n",
    "            expanded[name].add(c)\n",
    "            if c in onto:\n",
    "                expanded[name].update(nx.ancestors(onto, c))\n",
    "            else:\n",
    "                print(\"NOT FOUND:\", c, name)\n",
    "        print(name, len(top_codes), len(expanded[name]))\n",
    "    return expanded"
   ]
  },
  {
   "cell_type": "code",
   "execution_count": null,
   "id": "353c6259",
   "metadata": {},
   "outputs": [],
   "source": [
    "onto = load_onto('isa_rela_ch2pt_202009.pickle')"
   ]
  },
  {
   "cell_type": "code",
   "execution_count": null,
   "id": "0f98731f",
   "metadata": {},
   "outputs": [],
   "source": [
    "hf = { 'HF' : ['84114007']}\n",
    "hf = expand_codes(onto,hf)"
   ]
  },
  {
   "cell_type": "code",
   "execution_count": null,
   "id": "1e790a78",
   "metadata": {},
   "outputs": [],
   "source": [
    "hf_codes = set()\n",
    "for x in hf.values():\n",
    "    hf_codes.update(x)"
   ]
  },
  {
   "cell_type": "code",
   "execution_count": null,
   "id": "27483add",
   "metadata": {},
   "outputs": [],
   "source": [
    "%%time \n",
    "with open('/projects/data/GS/pt2cui_pos_dates.pickle', 'rb') as f:\n",
    "    pt2cui_pos_dates = pickle.load(f)"
   ]
  },
  {
   "cell_type": "code",
   "execution_count": null,
   "id": "c574da1c",
   "metadata": {},
   "outputs": [],
   "source": [
    "# identifying patients with at least 1 mention of HF \n",
    "\n",
    "def build_set(codes_list):\n",
    "    '''\n",
    "    this function returns \n",
    "    :param codes:\n",
    "    :return data: \n",
    "    '''\n",
    "    data = set()\n",
    "    for pt in pt2cui_pos_dates:\n",
    "        for ptcodes in pt2cui_pos_dates[pt]:\n",
    "            if ptcodes in codes_list:\n",
    "                data.add(pt) \n",
    "    return data"
   ]
  },
  {
   "cell_type": "code",
   "execution_count": null,
   "id": "2a3a14dd",
   "metadata": {},
   "outputs": [],
   "source": [
    "hf_patients = build_set(hf_codes)"
   ]
  },
  {
   "cell_type": "code",
   "execution_count": null,
   "id": "d6ee21a6",
   "metadata": {},
   "outputs": [],
   "source": [
    "len(hf_patients)"
   ]
  },
  {
   "cell_type": "code",
   "execution_count": null,
   "id": "68ffae2a",
   "metadata": {},
   "outputs": [],
   "source": [
    "hf_patients"
   ]
  },
  {
   "cell_type": "code",
   "execution_count": null,
   "id": "c8ce118a",
   "metadata": {},
   "outputs": [],
   "source": [
    "pt2cui_pos_dates = {k: pt2cui_pos_dates[k] for k in hf_patients} "
   ]
  },
  {
   "cell_type": "code",
   "execution_count": null,
   "id": "126cbe5d",
   "metadata": {},
   "outputs": [],
   "source": [
    "hf_ids = list(hf_patients)\n",
    "hf_ids = pandas.DataFrame(data={\"hf_ids\": hf_ids})\n",
    "hf_ids.to_csv('/projects/RALES TRIAL/1A/spiro dataextraction/spiro data/hf_ids.csv', sep=',',index=False)"
   ]
  },
  {
   "cell_type": "markdown",
   "id": "121c4e21",
   "metadata": {},
   "source": [
    "#  HF patients on spironolactone (structured data)"
   ]
  },
  {
   "cell_type": "code",
   "execution_count": null,
   "id": "d7f4f186",
   "metadata": {},
   "outputs": [],
   "source": [
    "df = pd.read_csv('/projects/data/GS/HF/gs_all_orders.csv') # load the orders table\n",
    "df = df[['client_idcode', 'order_name', 'order_summaryline', 'order_entered', 'order_arrivaldtm']]\n",
    "hf = df['client_idcode'].isin(hf_patients) # identify HF patients \n",
    "df = df[hf] # only keep HF patients "
   ]
  },
  {
   "cell_type": "code",
   "execution_count": null,
   "id": "f868fabe",
   "metadata": {},
   "outputs": [],
   "source": [
    "df['drug_name'] = df['order_name'].str.upper()"
   ]
  },
  {
   "cell_type": "code",
   "execution_count": null,
   "id": "f030ff5b",
   "metadata": {},
   "outputs": [],
   "source": [
    "%%time\n",
    "drug_names = ['SPIRONOLACTONE']\n",
    "keep = []\n",
    "for index, row in df.iterrows():\n",
    "    keep.append(any([x in row['drug_name'] for x  in drug_names]))"
   ]
  },
  {
   "cell_type": "code",
   "execution_count": null,
   "id": "ad2a52ce",
   "metadata": {},
   "outputs": [],
   "source": [
    "df = df.loc[keep] # only keeping patients on spironolactone"
   ]
  },
  {
   "cell_type": "code",
   "execution_count": null,
   "id": "d0874a24",
   "metadata": {},
   "outputs": [],
   "source": [
    "# only keeping the first spironolactone prescription order line\n",
    "\n",
    "df['order_arrivaldtm'] = pd.to_datetime(df['order_arrivaldtm'], utc=True).dt.date \n",
    "min_date = df.groupby('client_idcode').order_arrivaldtm.min()\n",
    "df = df.merge(min_date, on='client_idcode',suffixes=('', '_min'))\n",
    "df = df[df.order_arrivaldtm==df.order_arrivaldtm_min].drop('order_arrivaldtm_min', axis=1)"
   ]
  },
  {
   "cell_type": "code",
   "execution_count": null,
   "id": "58af7677",
   "metadata": {},
   "outputs": [],
   "source": [
    "df['order_summaryline_b'] = df['order_summaryline'].str.upper()"
   ]
  },
  {
   "cell_type": "code",
   "execution_count": null,
   "id": "6527de27",
   "metadata": {},
   "outputs": [],
   "source": [
    "# removing patients with a mention of those words below\n",
    "\n",
    "matches = ['TWICE','HELD', 'ON HOLD', 'STOPPED', 'STOP', 'WITHHELD', 'WITHHOLD', 'INCREASED', 'RESTARTED', 'INCREASE',\n",
    "           'DECREASED', 'DECREASE','BD', 'B.D.', 'TDS', 'T.D.S.', 'DISCONTINUED', 'DISCONTINUE']\n",
    "ids_to_exclude = set()\n",
    "\n",
    "for i,row in tqdm(df.iterrows()):\n",
    "    if any(x in df.loc[i,'order_summaryline_b'] for x in matches):\n",
    "        ids_to_exclude.add(df.loc[i,'client_idcode']) "
   ]
  },
  {
   "cell_type": "code",
   "execution_count": null,
   "id": "f41d4395",
   "metadata": {},
   "outputs": [],
   "source": [
    "# code interruption: double checking individuals in icu \n",
    "\n",
    "matches = ['(PRESCRIBED IN ICU)']\n",
    "icu_double_check = set()\n",
    "\n",
    "for i,row in tqdm(df.iterrows()):\n",
    "    if any(x in df.loc[i,'order_summaryline_b'] for x in matches):\n",
    "        icu_double_check.add(df.loc[i,'client_idcode']) \n",
    "len(icu_double_check)"
   ]
  },
  {
   "cell_type": "code",
   "execution_count": null,
   "id": "b5cbd53d",
   "metadata": {},
   "outputs": [],
   "source": [
    "with open ('/projects/RALES TRIAL/1A/spiro dataextraction/spiro data/icu_double_check.pickle', 'wb') as f:\n",
    "    pickle.dump(icu_double_check,f)"
   ]
  },
  {
   "cell_type": "code",
   "execution_count": null,
   "id": "fcc62e41",
   "metadata": {},
   "outputs": [],
   "source": [
    "len(ids_to_exclude)"
   ]
  },
  {
   "cell_type": "code",
   "execution_count": null,
   "id": "20f44a07",
   "metadata": {},
   "outputs": [],
   "source": [
    "df = df[~df.client_idcode.isin(ids_to_exclude)]"
   ]
  },
  {
   "cell_type": "code",
   "execution_count": null,
   "id": "b363e4f7",
   "metadata": {},
   "outputs": [],
   "source": [
    "# extracting the dose of the prescription order\n",
    "\n",
    "for i,row in tqdm(df.iterrows()):\n",
    "    if '(PRESCRIBED IN ICU)' not in df.loc[i,'order_summaryline_b']:\n",
    "        df.loc[i,'dose'] = df.loc[i,'order_summaryline_b'].split('MG')[0].strip()[0:4].strip()\n",
    "    else:\n",
    "        df.loc[i,'dose'] = np.nan\n",
    "\n",
    "for i,row in tqdm(df.iterrows()):\n",
    "    if '(PRESCRIBED IN ICU)' in df.loc[i,'order_summaryline_b']:\n",
    "        if '12.5' not in df.loc[i,'order_summaryline_b']: \n",
    "            df.loc[i,'dose'] = df.loc[i,'order_summaryline_b'].split('(PRESCRIBED IN ICU)')[1].strip()[0:2].strip()\n",
    "        else:\n",
    "            df.loc[i,'dose'] = df.loc[i,'order_summaryline_b'].split('(PRESCRIBED IN ICU)')[1].strip()[0:4].strip()"
   ]
  },
  {
   "cell_type": "code",
   "execution_count": null,
   "id": "9a6ac3aa",
   "metadata": {},
   "outputs": [],
   "source": [
    "df.loc[df['order_summaryline_b'].str.contains('(PRESCRIBED IN ICU)', case=False)]"
   ]
  },
  {
   "cell_type": "code",
   "execution_count": null,
   "id": "1802d17b",
   "metadata": {},
   "outputs": [],
   "source": [
    "print(df['dose'].isna().sum())\n",
    "df['dose'] = pd.to_numeric(df['dose'], downcast='float')\n",
    "df['dose'].unique()"
   ]
  },
  {
   "cell_type": "code",
   "execution_count": null,
   "id": "b7662a28",
   "metadata": {},
   "outputs": [],
   "source": [
    "mask = df.client_idcode.duplicated(keep=False)\n",
    "df[mask]"
   ]
  },
  {
   "cell_type": "code",
   "execution_count": null,
   "id": "e0b182e6",
   "metadata": {},
   "outputs": [],
   "source": [
    "df.loc[df['dose'] == 300]"
   ]
  },
  {
   "cell_type": "code",
   "execution_count": null,
   "id": "7101e9cd",
   "metadata": {},
   "outputs": [],
   "source": [
    "result = df.groupby('client_idcode')['dose'].apply(lambda x: x.nunique() == 1).reset_index(name='same_dose_value')\n",
    "false_rows = result.loc[result['same_dose_value'] == False]\n",
    "print(false_rows)"
   ]
  },
  {
   "cell_type": "code",
   "execution_count": null,
   "id": "c4a005f4",
   "metadata": {},
   "outputs": [],
   "source": [
    "# orders seem to be entered twice for some patients (see cell above), only keeping one row for each patients\n",
    "\n",
    "df = df.loc[df.groupby('client_idcode')['dose'].idxmin()]\n",
    "df.reset_index(drop=True, inplace=True)"
   ]
  },
  {
   "cell_type": "code",
   "execution_count": null,
   "id": "7b50833e",
   "metadata": {},
   "outputs": [],
   "source": [
    "print(df.shape)\n",
    "duplicates = df['client_idcode'].duplicated()\n",
    "duplicates.value_counts()"
   ]
  },
  {
   "cell_type": "markdown",
   "id": "cb242a4d",
   "metadata": {},
   "source": [
    "#  HF patients on spironolactone (unstructured data)"
   ]
  },
  {
   "cell_type": "code",
   "execution_count": null,
   "id": "5c3a58fe",
   "metadata": {},
   "outputs": [],
   "source": [
    "# entering the SNOMED codes for spironolactone\n",
    "\n",
    "spiro = {\n",
    "    'Spironolactone' : ['387078006','13929005','777603002', '318056008', '1301111000001106', '1261411000001109']\n",
    "}"
   ]
  },
  {
   "cell_type": "code",
   "execution_count": null,
   "id": "e2dfeb4b",
   "metadata": {},
   "outputs": [],
   "source": [
    "spiro = expand_codes(onto,spiro)"
   ]
  },
  {
   "cell_type": "code",
   "execution_count": null,
   "id": "d432398d",
   "metadata": {},
   "outputs": [],
   "source": [
    "spiro_codes = set()\n",
    "for x in spiro.values():\n",
    "    spiro_codes.update(x)"
   ]
  },
  {
   "cell_type": "code",
   "execution_count": null,
   "id": "e11bce57",
   "metadata": {},
   "outputs": [],
   "source": [
    "# function to identify HF patients with 2 mentions of spironolactone\n",
    "\n",
    "def first_date_for_code_list(pt_data, codes):\n",
    "    first = None\n",
    "    for x in codes:\n",
    "        if x in pt_data and len(pt_data[x])>=2:  \n",
    "            if first == None:\n",
    "                first = min(pt_data[x])\n",
    "            else:\n",
    "                first = min(first, min(pt_data[x]))\n",
    "    return first\n",
    "\n",
    "first_mention_spiro = {}\n",
    "for pt in hf_patients:\n",
    "    pt_data = pt2cui_pos_dates.get(pt, {})\n",
    "    first = first_date_for_code_list(pt_data, spiro_codes) #\n",
    "    first_mention_spiro[pt] = first"
   ]
  },
  {
   "cell_type": "code",
   "execution_count": null,
   "id": "7a442627",
   "metadata": {},
   "outputs": [],
   "source": [
    "# filter out the None values (aka non initiators)\n",
    "    \n",
    "filtered_first_mention_spiro = {k: v for k, v in first_mention_spiro.items() if v is not None}"
   ]
  },
  {
   "cell_type": "code",
   "execution_count": null,
   "id": "fd692856",
   "metadata": {},
   "outputs": [],
   "source": [
    "filtered_first_mention_spiro = {k: v for k,v in filtered_first_mention_spiro.items() if k not in ids_to_exclude}"
   ]
  },
  {
   "cell_type": "code",
   "execution_count": null,
   "id": "3e734b97",
   "metadata": {},
   "outputs": [],
   "source": [
    "df_unstructured_data = pd.DataFrame(filtered_first_mention_spiro.keys(), columns = ['client_idcode'] )\n",
    "df_unstructured_data['spiro_prescription'] = df_unstructured_data['client_idcode'].map(filtered_first_mention_spiro)\n",
    "df_unstructured_data['spiro_prescription'] = pd.to_datetime(df_unstructured_data['spiro_prescription'], utc=True).dt.date"
   ]
  },
  {
   "cell_type": "code",
   "execution_count": null,
   "id": "c6123d0a",
   "metadata": {},
   "outputs": [],
   "source": [
    "df_unstructured_data.head()"
   ]
  },
  {
   "cell_type": "code",
   "execution_count": null,
   "id": "98897b05",
   "metadata": {},
   "outputs": [],
   "source": [
    "df_unstructured_data.shape"
   ]
  },
  {
   "cell_type": "markdown",
   "id": "b379e817",
   "metadata": {},
   "source": [
    "# Comparing the structured and unstructured data"
   ]
  },
  {
   "cell_type": "code",
   "execution_count": null,
   "id": "7d967561",
   "metadata": {},
   "outputs": [],
   "source": [
    "# keeping patients with no major difference between stuctured/unstrctured spiro presctiptions: if spiro was mentioned in clinical text 91 days before an order being placed patients are removed\n",
    "\n",
    "\n",
    "def comparison(df1,df2):\n",
    "    '''\n",
    "    this function returns \n",
    "    :param codes:\n",
    "    :return data: \n",
    "    '''\n",
    "    df = pd.merge(df1, df2, on='client_idcode', how='outer') \n",
    "    df['difference'] =  (pd.to_datetime(df.order_arrivaldtm) - pd.to_datetime(df.spiro_prescription)).dt.days\n",
    "    df = df.drop(df[df.difference >= 91].index) \n",
    "    df.reset_index(drop=True, inplace=True) \n",
    "    # del df ['difference']\n",
    "    return df"
   ]
  },
  {
   "cell_type": "code",
   "execution_count": null,
   "id": "bd441133",
   "metadata": {},
   "outputs": [],
   "source": [
    "df = comparison(df,df_unstructured_data)"
   ]
  },
  {
   "cell_type": "code",
   "execution_count": null,
   "id": "cc6d7d21",
   "metadata": {},
   "outputs": [],
   "source": [
    "df.head()"
   ]
  },
  {
   "cell_type": "code",
   "execution_count": null,
   "id": "9ecace5f",
   "metadata": {},
   "outputs": [],
   "source": [
    "df.shape"
   ]
  },
  {
   "cell_type": "code",
   "execution_count": null,
   "id": "ac77064c",
   "metadata": {},
   "outputs": [],
   "source": [
    "# removing patients for which we don't know the spironolactone dose & dosage\n",
    "\n",
    "df = df.dropna(subset=['order_summaryline_b'])\n",
    "df.shape"
   ]
  },
  {
   "cell_type": "code",
   "execution_count": null,
   "id": "8ef7ae2c",
   "metadata": {},
   "outputs": [],
   "source": [
    "df = df[['client_idcode', 'order_arrivaldtm', 'dose']]"
   ]
  },
  {
   "cell_type": "code",
   "execution_count": null,
   "id": "59794d33",
   "metadata": {},
   "outputs": [],
   "source": [
    "df.head()"
   ]
  },
  {
   "cell_type": "code",
   "execution_count": null,
   "id": "ac192541",
   "metadata": {},
   "outputs": [],
   "source": [
    "first_mention_spiro = dict(zip(df.client_idcode, df.order_arrivaldtm)) \n",
    "len(first_mention_spiro)"
   ]
  },
  {
   "cell_type": "code",
   "execution_count": null,
   "id": "66acdbb9",
   "metadata": {},
   "outputs": [],
   "source": [
    "spiro_dose = dict(zip(df.client_idcode, df.dose)) \n",
    "len(spiro_dose)"
   ]
  },
  {
   "cell_type": "markdown",
   "id": "f2299528",
   "metadata": {},
   "source": [
    "###  First mention spiro date and dose dictionaries"
   ]
  },
  {
   "cell_type": "code",
   "execution_count": null,
   "id": "da9f53da",
   "metadata": {},
   "outputs": [],
   "source": [
    "with open ('/projects/RALES TRIAL/1A/spiro dataextraction/spiro data/first_mention_spiro.pickle', 'wb') as f:\n",
    "    pickle.dump(first_mention_spiro,f)"
   ]
  },
  {
   "cell_type": "code",
   "execution_count": null,
   "id": "66e7f34e",
   "metadata": {},
   "outputs": [],
   "source": [
    "with open ('/projects/RALES TRIAL/1A/spiro dataextraction/spiro data/spiro_dose.pickle', 'wb') as f:\n",
    "    pickle.dump(spiro_dose,f)"
   ]
  },
  {
   "cell_type": "markdown",
   "id": "40bf25e7",
   "metadata": {},
   "source": [
    "# Checking if the HF diagnosis is before the spironolactone prescription"
   ]
  },
  {
   "cell_type": "code",
   "execution_count": null,
   "id": "55e0e1d0",
   "metadata": {},
   "outputs": [],
   "source": [
    "# identifying patients with at least 1 mention of HF and getting the date of the first HF mention\n",
    "\n",
    "def first_date_for_code_list(pt_data, codes):\n",
    "    first = None\n",
    "    for x in codes:\n",
    "        if x in pt_data:  \n",
    "            if first == None:\n",
    "                first = min(pt_data[x])\n",
    "            else:\n",
    "                first = min(first, min(pt_data[x]))\n",
    "    return first\n",
    "\n",
    "first_mention_hf = {}\n",
    "for pt in hf_patients:\n",
    "    pt_data = pt2cui_pos_dates.get(pt, {})\n",
    "    first = first_date_for_code_list(pt_data, hf_codes)\n",
    "    first_mention_hf[pt] = first"
   ]
  },
  {
   "cell_type": "code",
   "execution_count": null,
   "id": "2a37bd59",
   "metadata": {},
   "outputs": [],
   "source": [
    "len(first_mention_hf)"
   ]
  },
  {
   "cell_type": "code",
   "execution_count": null,
   "id": "bccfefd8",
   "metadata": {},
   "outputs": [],
   "source": [
    "# from HF dictionary to HF dataframe\n",
    "\n",
    "hf = pd.DataFrame(first_mention_hf.items(), columns = ['client_idcode', 'first_mention_hf'] )\n",
    "hf['first_mention_hf'] = pd.to_datetime(hf['first_mention_hf'], utc=True).dt.date"
   ]
  },
  {
   "cell_type": "code",
   "execution_count": null,
   "id": "f1f1a452",
   "metadata": {},
   "outputs": [],
   "source": [
    "# merging the spironolactone and hf dataframes\n",
    "\n",
    "df = pd.merge(df, hf, on='client_idcode', how='left') "
   ]
  },
  {
   "cell_type": "code",
   "execution_count": null,
   "id": "60efa1dd",
   "metadata": {},
   "outputs": [],
   "source": [
    "df['difference'] =  df['order_arrivaldtm'] - df['first_mention_hf']"
   ]
  },
  {
   "cell_type": "code",
   "execution_count": null,
   "id": "cb99aaac",
   "metadata": {},
   "outputs": [],
   "source": [
    "# indetifying patients on spironolactone with a mention of HF within 6 months prior the arrival of the spironolactone prescription order\n",
    "\n",
    "min_time = datetime.timedelta(days=1) \n",
    "max_time = datetime.timedelta(days=183)\n",
    "t1 = df['difference'] >= min_time \n",
    "t2 = df['difference'] <= max_time\n",
    "in_window = t1 & t2 \n",
    "df['in_window'] = in_window"
   ]
  },
  {
   "cell_type": "code",
   "execution_count": null,
   "id": "589b154c",
   "metadata": {},
   "outputs": [],
   "source": [
    "df.head()"
   ]
  },
  {
   "cell_type": "code",
   "execution_count": null,
   "id": "e97ffce9",
   "metadata": {},
   "outputs": [],
   "source": [
    "df = df[df.in_window]\n",
    "len(df)"
   ]
  },
  {
   "cell_type": "code",
   "execution_count": null,
   "id": "7d7a7c47",
   "metadata": {},
   "outputs": [],
   "source": [
    "df.head()"
   ]
  },
  {
   "cell_type": "code",
   "execution_count": null,
   "id": "fc20fcad",
   "metadata": {},
   "outputs": [],
   "source": [
    "hf_diagnosis_match = set(df['client_idcode'])\n",
    "len(hf_diagnosis_match)"
   ]
  },
  {
   "cell_type": "code",
   "execution_count": null,
   "id": "70c0f597",
   "metadata": {},
   "outputs": [],
   "source": [
    "with open ('/projects/RALES TRIAL/1A/spiro dataextraction/spiro data/hf_diagnosis_match.pickle', 'wb') as f:\n",
    "    pickle.dump(hf_diagnosis_match,f)"
   ]
  }
 ],
 "metadata": {
  "kernelspec": {
   "display_name": "Python 3 (ipykernel)",
   "language": "python",
   "name": "python3"
  },
  "language_info": {
   "codemirror_mode": {
    "name": "ipython",
    "version": 3
   },
   "file_extension": ".py",
   "mimetype": "text/x-python",
   "name": "python",
   "nbconvert_exporter": "python",
   "pygments_lexer": "ipython3",
   "version": "3.9.7"
  }
 },
 "nbformat": 4,
 "nbformat_minor": 5
}
