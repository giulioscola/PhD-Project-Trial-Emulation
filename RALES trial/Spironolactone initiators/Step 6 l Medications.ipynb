{
 "cells": [
  {
   "cell_type": "code",
   "execution_count": null,
   "id": "47b69010",
   "metadata": {},
   "outputs": [],
   "source": [
    "import pickle\n",
    "import pandas as pd\n",
    "import networkx as nx\n",
    "import numpy as np\n",
    "import datetime\n",
    "from tqdm import tqdm"
   ]
  },
  {
   "cell_type": "markdown",
   "id": "e8c606b8",
   "metadata": {},
   "source": [
    "# HF patients on spironolactone"
   ]
  },
  {
   "cell_type": "code",
   "execution_count": null,
   "id": "11bba8ec",
   "metadata": {},
   "outputs": [],
   "source": [
    "with open('/projects/RALES TRIAL/1A/spiro dataextraction/spiro data/first_mention_spiro.pickle', 'rb') as f:\n",
    "    first_mention_spiro = pickle.load(f)\n",
    "len(first_mention_spiro)"
   ]
  },
  {
   "cell_type": "code",
   "execution_count": null,
   "id": "03ca8472",
   "metadata": {},
   "outputs": [],
   "source": [
    "spiro = list(first_mention_spiro.keys())"
   ]
  },
  {
   "cell_type": "markdown",
   "id": "845810dd",
   "metadata": {},
   "source": [
    "# Spironolactone patients on ACE inhibitors and loop diuretics  (unstructured data)"
   ]
  },
  {
   "cell_type": "code",
   "execution_count": null,
   "id": "ca4d1e71",
   "metadata": {},
   "outputs": [],
   "source": [
    "def graph_from_onto(onto):\n",
    "    G = nx.DiGraph()\n",
    "    cl_edges = []\n",
    "    for s, ts in onto.items():\n",
    "        for t in ts:\n",
    "            cl_edges.append((s.replace('S-', ''), t.replace('S-', '')))\n",
    "    G.add_edges_from(cl_edges)\n",
    "    return G\n",
    "\n",
    "def load_onto(o):\n",
    "    with open(f'/projects/data/GS/{o}', 'rb') as f:\n",
    "        onto = pickle.load(f)\n",
    "    G = graph_from_onto(onto)\n",
    "    return G\n",
    "\n",
    "def expand_codes(onto, codes):\n",
    "    expanded = {}\n",
    "    for name, top_codes in codes.items():\n",
    "        expanded[name] = set()\n",
    "        for c in top_codes:\n",
    "            expanded[name].add(c)\n",
    "            if c in onto:\n",
    "                expanded[name].update(nx.ancestors(onto, c))\n",
    "            else:\n",
    "                print(\"NOT FOUND:\", c, name)\n",
    "        print(name, len(top_codes), len(expanded[name]))\n",
    "    return expanded"
   ]
  },
  {
   "cell_type": "code",
   "execution_count": null,
   "id": "7fcc5faa",
   "metadata": {},
   "outputs": [],
   "source": [
    "medications = {\n",
    "    'ace_inhibitor' : ['372733002', '41549009', '108564000', '108569005', '777142001', '108562001', '29439004'],\n",
    "    'loop_diuretic' : ['830118008', '372691009', '86647004', '81609008', '777810005']\n",
    "}"
   ]
  },
  {
   "cell_type": "code",
   "execution_count": null,
   "id": "d7835137",
   "metadata": {},
   "outputs": [],
   "source": [
    "onto = load_onto('isa_rela_ch2pt_202009.pickle')\n",
    "medications = expand_codes(onto,medications)"
   ]
  },
  {
   "cell_type": "code",
   "execution_count": null,
   "id": "5d503ae8",
   "metadata": {},
   "outputs": [],
   "source": [
    "%%time\n",
    "with open('/projects/data/GS/pt2cui_pos_dates.pickle', 'rb') as f:\n",
    "    pt2cui_pos_dates = pickle.load(f)"
   ]
  },
  {
   "cell_type": "code",
   "execution_count": null,
   "id": "e78ea80d",
   "metadata": {},
   "outputs": [],
   "source": [
    "def dates_ex(pt_data, codes):\n",
    "    dates = None\n",
    "    for x in codes:\n",
    "        if x in pt_data and len(pt_data[x])>=2:\n",
    "            if dates == None:\n",
    "                dates = pt_data[x]\n",
    "            else: \n",
    "                dates = dates.union(pt_data[x])\n",
    "    return dates\n",
    "\n",
    "rows = []\n",
    "for pt in spiro:\n",
    "    pt_data = pt2cui_pos_dates.get(pt, {})\n",
    "    row = {'client_idcode': pt, 'first_mention_spiro': first_mention_spiro[pt]} \n",
    "    for concept, codes in medications.items():\n",
    "        dates = dates_ex(pt_data, codes)\n",
    "        if dates == None:\n",
    "            row[f\"{concept}_date\"] = np.nan\n",
    "        else:\n",
    "            row[f\"{concept}_date\"] = dates\n",
    "    rows.append(row)"
   ]
  },
  {
   "cell_type": "code",
   "execution_count": null,
   "id": "7ff0da09",
   "metadata": {},
   "outputs": [],
   "source": [
    "df = pd.DataFrame(rows)\n",
    "df.shape"
   ]
  },
  {
   "cell_type": "code",
   "execution_count": null,
   "id": "37b421ed",
   "metadata": {},
   "outputs": [],
   "source": [
    "%%time\n",
    "df = df[['client_idcode']].join((df[i].explode() for i in df.iloc[:,1:]))"
   ]
  },
  {
   "cell_type": "code",
   "execution_count": null,
   "id": "af309089",
   "metadata": {},
   "outputs": [],
   "source": [
    "%%time\n",
    "for k in medications.keys():\n",
    "    df[f'{k}_date'] = pd.to_datetime(df[f'{k}_date']).dt.date"
   ]
  },
  {
   "cell_type": "code",
   "execution_count": null,
   "id": "f1f42721",
   "metadata": {},
   "outputs": [],
   "source": [
    "%%time\n",
    "for k in medications.keys():\n",
    "    df[f'{k}_delta'] = pd.to_datetime(df['first_mention_spiro']) - pd.to_datetime(df[f'{k}_date'])"
   ]
  },
  {
   "cell_type": "code",
   "execution_count": null,
   "id": "ad74778d",
   "metadata": {},
   "outputs": [],
   "source": [
    "df.head()"
   ]
  },
  {
   "cell_type": "code",
   "execution_count": null,
   "id": "3a05f8ed",
   "metadata": {},
   "outputs": [],
   "source": [
    "min_time = datetime.timedelta(days=1) \n",
    "max_time = datetime.timedelta(days=183)\n",
    "for k in medications.keys():\n",
    "    t1 = df[f'{k}_delta'] >= min_time \n",
    "    t2 = df[f'{k}_delta'] <= max_time\n",
    "    in_window = t1 & t2 \n",
    "    df[f'{k}_in_window'] = in_window"
   ]
  },
  {
   "cell_type": "code",
   "execution_count": null,
   "id": "83b50874",
   "metadata": {},
   "outputs": [],
   "source": [
    "df.head()"
   ]
  },
  {
   "cell_type": "code",
   "execution_count": null,
   "id": "a19271ce",
   "metadata": {},
   "outputs": [],
   "source": [
    "for k in medications.keys():\n",
    "    df[f'{k}_true_count'] = (\n",
    "        df[f'{k}_in_window'].eq(True)\n",
    "            .groupby(df['client_idcode']).transform('sum')\n",
    "    )"
   ]
  },
  {
   "cell_type": "code",
   "execution_count": null,
   "id": "f0d7cb60",
   "metadata": {},
   "outputs": [],
   "source": [
    "df = df.drop_duplicates('client_idcode') "
   ]
  },
  {
   "cell_type": "code",
   "execution_count": null,
   "id": "5d870562",
   "metadata": {},
   "outputs": [],
   "source": [
    "df[df['ace_inhibitor_true_count'] >= 2].groupby('client_idcode')['ace_inhibitor_true_count'].count().sum()"
   ]
  },
  {
   "cell_type": "code",
   "execution_count": null,
   "id": "b3777045",
   "metadata": {},
   "outputs": [],
   "source": [
    "df[df['loop_diuretic_true_count'] >= 2].groupby('client_idcode')['loop_diuretic_true_count'].count().sum()"
   ]
  },
  {
   "cell_type": "code",
   "execution_count": null,
   "id": "7b712030",
   "metadata": {},
   "outputs": [],
   "source": [
    "ACE_inhibitors_ids = set()\n",
    "for i,row in tqdm(df.iterrows()):\n",
    "    if df.loc[i,'ace_inhibitor_true_count'] >= 2:\n",
    "        ACE_inhibitors_ids.add(df.loc[i,'client_idcode'])\n",
    "len(ACE_inhibitors_ids)"
   ]
  },
  {
   "cell_type": "code",
   "execution_count": null,
   "id": "4edc29bd",
   "metadata": {},
   "outputs": [],
   "source": [
    "loop_diuretics_ids = set()\n",
    "for i,row in tqdm(df.iterrows()):\n",
    "    if df.loc[i,'loop_diuretic_true_count'] >= 2:\n",
    "        loop_diuretics_ids.add(df.loc[i,'client_idcode'])\n",
    "len(loop_diuretics_ids)"
   ]
  },
  {
   "cell_type": "markdown",
   "id": "db487313",
   "metadata": {},
   "source": [
    "# Spironolactone patients on ACE  inhibitors  and loop diuretics (structured data)"
   ]
  },
  {
   "cell_type": "code",
   "execution_count": null,
   "id": "eace677c",
   "metadata": {},
   "outputs": [],
   "source": [
    "df = pd.read_csv('/projects/data/GS/HF/gs_all_orders.csv') # load the orders table\n",
    "df = df[['client_idcode', 'order_name', 'order_summaryline', 'order_entered', 'order_arrivaldtm']]\n",
    "spiro = df['client_idcode'].isin(spiro)\n",
    "df = df[spiro]"
   ]
  },
  {
   "cell_type": "code",
   "execution_count": null,
   "id": "7af15c04",
   "metadata": {},
   "outputs": [],
   "source": [
    "df['drug_name'] = df['order_name'].str.upper()"
   ]
  },
  {
   "cell_type": "code",
   "execution_count": null,
   "id": "193073d9",
   "metadata": {},
   "outputs": [],
   "source": [
    "df['first_spiro_prescription'] = df['client_idcode'].map(first_mention_spiro)\n",
    "df.head()"
   ]
  },
  {
   "cell_type": "code",
   "execution_count": null,
   "id": "8b17d9ce",
   "metadata": {},
   "outputs": [],
   "source": [
    "df['order_arrivaldtm'] = pd.to_datetime(df['order_arrivaldtm'], utc=True).dt.date \n",
    "df['difference'] = pd.to_datetime(df['first_spiro_prescription']) - pd.to_datetime(df['order_arrivaldtm'])"
   ]
  },
  {
   "cell_type": "code",
   "execution_count": null,
   "id": "54f54c87",
   "metadata": {},
   "outputs": [],
   "source": [
    "df.head()"
   ]
  },
  {
   "cell_type": "code",
   "execution_count": null,
   "id": "0b9c8358",
   "metadata": {},
   "outputs": [],
   "source": [
    "min_time = datetime.timedelta(days=1) \n",
    "max_time = datetime.timedelta(days=183)\n",
    "t1 = df['difference'] >= min_time \n",
    "t2 = df['difference'] <= max_time\n",
    "in_window = t1 & t2 \n",
    "df['in_window'] = in_window"
   ]
  },
  {
   "cell_type": "code",
   "execution_count": null,
   "id": "d7dae936",
   "metadata": {},
   "outputs": [],
   "source": [
    "df = df.loc[df['in_window'] == True]"
   ]
  },
  {
   "cell_type": "markdown",
   "id": "ac204740",
   "metadata": {},
   "source": [
    "### ACE inhibitors"
   ]
  },
  {
   "cell_type": "code",
   "execution_count": null,
   "id": "1ec9451a",
   "metadata": {},
   "outputs": [],
   "source": [
    "%%time\n",
    "drug_names = ['RAMIPRIL', 'FOSINOPRIL', 'PERINDOPRIL', 'LISINOPRIL', 'TRANDOLAPRIL', 'CAPTOPRIL', 'ENALAPRIL']\n",
    "keep = []\n",
    "for index, row in df.iterrows():\n",
    "    keep.append(any([x in row['drug_name'] for x  in drug_names]))"
   ]
  },
  {
   "cell_type": "code",
   "execution_count": null,
   "id": "a576c789",
   "metadata": {},
   "outputs": [],
   "source": [
    "ace_inhibitors = df.loc[keep]"
   ]
  },
  {
   "cell_type": "code",
   "execution_count": null,
   "id": "e7f10ea2",
   "metadata": {},
   "outputs": [],
   "source": [
    "duplicates = ace_inhibitors['client_idcode'].duplicated()\n",
    "duplicates.value_counts()"
   ]
  },
  {
   "cell_type": "code",
   "execution_count": null,
   "id": "ca1e242a",
   "metadata": {},
   "outputs": [],
   "source": [
    "ace_inhibitors = ace_inhibitors.drop_duplicates('client_idcode') \n",
    "ace_inhibitors.shape"
   ]
  },
  {
   "cell_type": "code",
   "execution_count": null,
   "id": "92015d9f",
   "metadata": {},
   "outputs": [],
   "source": [
    "ACE_inhibitors_ids_structured_data = set(ace_inhibitors['client_idcode'])"
   ]
  },
  {
   "cell_type": "markdown",
   "id": "837bb065",
   "metadata": {},
   "source": [
    "### Loop diuretics"
   ]
  },
  {
   "cell_type": "code",
   "execution_count": null,
   "id": "cc655435",
   "metadata": {},
   "outputs": [],
   "source": [
    "%%time\n",
    "drug_names = ['BUMETANIDE', 'FUROSEMIDE']\n",
    "keep = []\n",
    "for index, row in df.iterrows():\n",
    "    keep.append(any([x in row['drug_name'] for x  in drug_names]))"
   ]
  },
  {
   "cell_type": "code",
   "execution_count": null,
   "id": "d79c3feb",
   "metadata": {},
   "outputs": [],
   "source": [
    "loop_diuretics = df.loc[keep]"
   ]
  },
  {
   "cell_type": "code",
   "execution_count": null,
   "id": "a90c68e1",
   "metadata": {},
   "outputs": [],
   "source": [
    "duplicates = loop_diuretics['client_idcode'].duplicated()\n",
    "duplicates.value_counts()"
   ]
  },
  {
   "cell_type": "code",
   "execution_count": null,
   "id": "0ab728db",
   "metadata": {},
   "outputs": [],
   "source": [
    "loop_diuretics = loop_diuretics.drop_duplicates('client_idcode') \n",
    "loop_diuretics.shape"
   ]
  },
  {
   "cell_type": "code",
   "execution_count": null,
   "id": "703b7f5f",
   "metadata": {},
   "outputs": [],
   "source": [
    "loop_diuretics_structured_data = set(loop_diuretics['client_idcode'])"
   ]
  },
  {
   "cell_type": "markdown",
   "id": "39fc16dd",
   "metadata": {},
   "source": [
    "# Comparing the structured and unstructured data"
   ]
  },
  {
   "cell_type": "code",
   "execution_count": null,
   "id": "90a568ed",
   "metadata": {},
   "outputs": [],
   "source": [
    "ACE_inhibitors = ACE_inhibitors_ids.union(ACE_inhibitors_ids_structured_data)\n",
    "len(ACE_inhibitors)"
   ]
  },
  {
   "cell_type": "code",
   "execution_count": null,
   "id": "b11dc4c5",
   "metadata": {},
   "outputs": [],
   "source": [
    "Loop_diuretics = loop_diuretics_ids.union(loop_diuretics_structured_data)\n",
    "len(Loop_diuretics)"
   ]
  },
  {
   "cell_type": "code",
   "execution_count": null,
   "id": "1d76be75",
   "metadata": {},
   "outputs": [],
   "source": [
    "with open ('/projects/RALES TRIAL/1A/spiro dataextraction/spiro data/loop_diuretics.pickle', 'wb') as f:\n",
    "    pickle.dump(Loop_diuretics,f)\n",
    "    \n",
    "with open ('/projects/RALES TRIAL/1A/spiro dataextraction/spiro data/ACE_inhibitors.pickle', 'wb') as f:\n",
    "    pickle.dump(ACE_inhibitors,f)"
   ]
  },
  {
   "cell_type": "code",
   "execution_count": null,
   "id": "a1ce24ca",
   "metadata": {},
   "outputs": [],
   "source": []
  }
 ],
 "metadata": {
  "kernelspec": {
   "display_name": "Python 3 (ipykernel)",
   "language": "python",
   "name": "python3"
  },
  "language_info": {
   "codemirror_mode": {
    "name": "ipython",
    "version": 3
   },
   "file_extension": ".py",
   "mimetype": "text/x-python",
   "name": "python",
   "nbconvert_exporter": "python",
   "pygments_lexer": "ipython3",
   "version": "3.9.7"
  }
 },
 "nbformat": 4,
 "nbformat_minor": 5
}
