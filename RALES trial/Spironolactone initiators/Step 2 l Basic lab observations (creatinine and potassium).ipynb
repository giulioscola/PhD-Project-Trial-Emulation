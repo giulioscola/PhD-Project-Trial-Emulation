{
 "cells": [
  {
   "cell_type": "code",
   "execution_count": null,
   "id": "4073b25a",
   "metadata": {},
   "outputs": [],
   "source": [
    "import pandas as pd \n",
    "import pickle\n",
    "import datetime"
   ]
  },
  {
   "cell_type": "markdown",
   "id": "672c5a2d",
   "metadata": {},
   "source": [
    "# Creatinine"
   ]
  },
  {
   "cell_type": "code",
   "execution_count": null,
   "id": "7889860c",
   "metadata": {},
   "outputs": [],
   "source": [
    "df = pd.read_csv('/projects/data/GS/HF/basic_obs.csv') # loading the lab test results data"
   ]
  },
  {
   "cell_type": "code",
   "execution_count": null,
   "id": "1343674e",
   "metadata": {},
   "outputs": [],
   "source": [
    "print(df['basicobs_itemname_analysed'].unique())\n",
    "df['basicobs_itemname_analysed_b'] = df['basicobs_itemname_analysed'].str.upper()"
   ]
  },
  {
   "cell_type": "code",
   "execution_count": null,
   "id": "25f453b1",
   "metadata": {},
   "outputs": [],
   "source": [
    "creatinine = df.loc[df['basicobs_itemname_analysed_b'].str.contains('CREATININE', case=False)] # keeping serum creatinine test results"
   ]
  },
  {
   "cell_type": "code",
   "execution_count": null,
   "id": "4a1d45c2",
   "metadata": {},
   "outputs": [],
   "source": [
    "with open('/projects/RALES TRIAL/1A/spiro dataextraction/spiro data/first_mention_spiro.pickle', 'rb') as f:\n",
    "    first_mention_spiro = pickle.load(f)\n",
    "len(first_mention_spiro) # loading HF patients on spironolactone"
   ]
  },
  {
   "cell_type": "code",
   "execution_count": null,
   "id": "b0c395b8",
   "metadata": {},
   "outputs": [],
   "source": [
    "first_mention_spiro = pd.DataFrame(list(first_mention_spiro.items()), columns=['client_idcode', 'first_mention_spiro'])\n",
    "creatinine = pd.merge(creatinine, first_mention_spiro, on='client_idcode', how='right') \n",
    "creatinine = creatinine[creatinine['basicobs_value_numeric'].notna()]  # removing rows with no test results"
   ]
  },
  {
   "cell_type": "code",
   "execution_count": null,
   "id": "e828276b",
   "metadata": {},
   "outputs": [],
   "source": [
    "creatinine.info()"
   ]
  },
  {
   "cell_type": "code",
   "execution_count": null,
   "id": "dc438e9a",
   "metadata": {},
   "outputs": [],
   "source": [
    "del creatinine['Unnamed: 0']\n",
    "creatinine['basicobs_createdwhen'] = pd.to_datetime(creatinine['basicobs_createdwhen'], utc=True).dt.date "
   ]
  },
  {
   "cell_type": "code",
   "execution_count": null,
   "id": "4dd15a11",
   "metadata": {},
   "outputs": [],
   "source": [
    "%%time \n",
    "creatinine['difference'] = pd.to_datetime(creatinine['first_mention_spiro']) - pd.to_datetime(creatinine['basicobs_createdwhen'])\n",
    "min_time = datetime.timedelta(days=1) \n",
    "max_time = datetime.timedelta(days=183)\n",
    "t1 = creatinine['difference'] >= min_time \n",
    "t2 = creatinine['difference'] <= max_time\n",
    "in_window = t1 & t2 \n",
    "creatinine['in_window'] = in_window"
   ]
  },
  {
   "cell_type": "code",
   "execution_count": null,
   "id": "3ff30fcc",
   "metadata": {},
   "outputs": [],
   "source": [
    "creatinine = creatinine.loc[creatinine['in_window'] == True]\n",
    "creatinine.shape"
   ]
  },
  {
   "cell_type": "code",
   "execution_count": null,
   "id": "a21b78e8",
   "metadata": {},
   "outputs": [],
   "source": [
    "creatinine"
   ]
  },
  {
   "cell_type": "code",
   "execution_count": null,
   "id": "a279741c",
   "metadata": {},
   "outputs": [],
   "source": [
    "# keeping the closest serum creatinine test result to the spironolctoe initiation date\n",
    "\n",
    "\n",
    "creatinine = creatinine[creatinine.groupby('client_idcode').basicobs_createdwhen.transform('max') == creatinine['basicobs_createdwhen']]\n",
    "duplicates = creatinine['client_idcode'].duplicated()\n",
    "duplicates.value_counts()"
   ]
  },
  {
   "cell_type": "code",
   "execution_count": null,
   "id": "a5246ac9",
   "metadata": {},
   "outputs": [],
   "source": [
    "creatinine.head()"
   ]
  },
  {
   "cell_type": "code",
   "execution_count": null,
   "id": "0dac4f63",
   "metadata": {},
   "outputs": [],
   "source": [
    "creatinine['result'] = creatinine.groupby('client_idcode')['basicobs_value_numeric'].transform('mean')"
   ]
  },
  {
   "cell_type": "code",
   "execution_count": null,
   "id": "311300bc",
   "metadata": {},
   "outputs": [],
   "source": [
    "creatinine.drop_duplicates(subset='client_idcode', keep='first', inplace = True)\n",
    "del creatinine['basicobs_value_numeric']\n",
    "creatinine.rename(columns={'result':'basicobs_value_numeric'}, inplace=True)\n",
    "creatinine.reset_index(drop=True, inplace=True)"
   ]
  },
  {
   "cell_type": "code",
   "execution_count": null,
   "id": "e6d53016",
   "metadata": {},
   "outputs": [],
   "source": [
    "duplicates = creatinine['client_idcode'].duplicated()\n",
    "duplicates.value_counts()"
   ]
  },
  {
   "cell_type": "code",
   "execution_count": null,
   "id": "539874c3",
   "metadata": {},
   "outputs": [],
   "source": [
    "creatinine.basicobs_value_numeric.isnull().sum()"
   ]
  },
  {
   "cell_type": "code",
   "execution_count": null,
   "id": "deedb6c0",
   "metadata": {},
   "outputs": [],
   "source": [
    "creatinine_dict = dict(zip(creatinine.client_idcode, creatinine.basicobs_value_numeric))\n",
    "print(len(creatinine_dict.keys()))"
   ]
  },
  {
   "cell_type": "code",
   "execution_count": null,
   "id": "a073087c",
   "metadata": {},
   "outputs": [],
   "source": [
    "with open ('/projects/RALES TRIAL/1A/spiro dataextraction/spiro data/creatinine.pickle', 'wb') as f:\n",
    "    pickle.dump(creatinine_dict,f)"
   ]
  },
  {
   "cell_type": "markdown",
   "id": "3da5aa38",
   "metadata": {},
   "source": [
    "# Potassium"
   ]
  },
  {
   "cell_type": "code",
   "execution_count": null,
   "id": "56248479",
   "metadata": {},
   "outputs": [],
   "source": [
    "potassium = df.loc[df['basicobs_itemname_analysed_b'].str.contains('POTASSIUM', case=False)]"
   ]
  },
  {
   "cell_type": "code",
   "execution_count": null,
   "id": "05925588",
   "metadata": {},
   "outputs": [],
   "source": [
    "potassium = pd.merge(potassium, first_mention_spiro, on='client_idcode', how='right') \n",
    "potassium = potassium[potassium['basicobs_value_numeric'].notna()] "
   ]
  },
  {
   "cell_type": "code",
   "execution_count": null,
   "id": "7d96855f",
   "metadata": {},
   "outputs": [],
   "source": [
    "potassium.info()"
   ]
  },
  {
   "cell_type": "code",
   "execution_count": null,
   "id": "8e5fdc03",
   "metadata": {},
   "outputs": [],
   "source": [
    "del potassium['Unnamed: 0']\n",
    "potassium['basicobs_createdwhen'] = pd.to_datetime(potassium['basicobs_createdwhen'], utc=True).dt.date "
   ]
  },
  {
   "cell_type": "code",
   "execution_count": null,
   "id": "5167d16c",
   "metadata": {},
   "outputs": [],
   "source": [
    "%%time \n",
    "potassium['difference'] = pd.to_datetime(potassium['first_mention_spiro']) - pd.to_datetime(potassium['basicobs_createdwhen'])\n",
    "min_time = datetime.timedelta(days=1) \n",
    "max_time = datetime.timedelta(days=183)\n",
    "t1 = potassium['difference'] >= min_time \n",
    "t2 = potassium['difference'] <= max_time\n",
    "in_window = t1 & t2 \n",
    "potassium['in_window'] = in_window"
   ]
  },
  {
   "cell_type": "code",
   "execution_count": null,
   "id": "7a422c93",
   "metadata": {},
   "outputs": [],
   "source": [
    "potassium = potassium.loc[potassium['in_window'] == True]\n",
    "potassium.shape"
   ]
  },
  {
   "cell_type": "code",
   "execution_count": null,
   "id": "ad00517d",
   "metadata": {},
   "outputs": [],
   "source": [
    "potassium = potassium[potassium.groupby('client_idcode').basicobs_createdwhen.transform('max') == potassium['basicobs_createdwhen']]\n",
    "duplicates = potassium['client_idcode'].duplicated()\n",
    "duplicates.value_counts()"
   ]
  },
  {
   "cell_type": "code",
   "execution_count": null,
   "id": "8de939f2",
   "metadata": {},
   "outputs": [],
   "source": [
    "potassium['result'] = potassium.groupby('client_idcode')['basicobs_value_numeric'].transform('mean')\n",
    "potassium.drop_duplicates(subset='client_idcode', keep='first', inplace = True)\n",
    "del potassium['basicobs_value_numeric']\n",
    "potassium.rename(columns={'result':'basicobs_value_numeric'}, inplace=True)\n",
    "potassium.reset_index(drop=True, inplace=True)"
   ]
  },
  {
   "cell_type": "code",
   "execution_count": null,
   "id": "831e631d",
   "metadata": {},
   "outputs": [],
   "source": [
    "duplicates = potassium['client_idcode'].duplicated()\n",
    "duplicates.value_counts()"
   ]
  },
  {
   "cell_type": "code",
   "execution_count": null,
   "id": "8da6086b",
   "metadata": {},
   "outputs": [],
   "source": [
    "potassium.basicobs_value_numeric.isnull().sum()"
   ]
  },
  {
   "cell_type": "code",
   "execution_count": null,
   "id": "b723967d",
   "metadata": {},
   "outputs": [],
   "source": [
    "potassium_dict = dict(zip(potassium.client_idcode, potassium.basicobs_value_numeric))\n",
    "len(potassium_dict)"
   ]
  },
  {
   "cell_type": "code",
   "execution_count": null,
   "id": "53073597",
   "metadata": {},
   "outputs": [],
   "source": [
    "with open ('/projects/RALES TRIAL/1A/spiro dataextraction/spiro data/potassium.pickle', 'wb') as f:\n",
    "    pickle.dump(potassium_dict,f)"
   ]
  },
  {
   "cell_type": "code",
   "execution_count": null,
   "id": "da424a59",
   "metadata": {},
   "outputs": [],
   "source": []
  }
 ],
 "metadata": {
  "kernelspec": {
   "display_name": "Python 3 (ipykernel)",
   "language": "python",
   "name": "python3"
  },
  "language_info": {
   "codemirror_mode": {
    "name": "ipython",
    "version": 3
   },
   "file_extension": ".py",
   "mimetype": "text/x-python",
   "name": "python",
   "nbconvert_exporter": "python",
   "pygments_lexer": "ipython3",
   "version": "3.9.7"
  }
 },
 "nbformat": 4,
 "nbformat_minor": 5
}
