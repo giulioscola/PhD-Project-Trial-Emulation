{
 "cells": [
  {
   "cell_type": "code",
   "execution_count": null,
   "id": "2d511223",
   "metadata": {},
   "outputs": [],
   "source": [
    "import pickle\n",
    "import networkx as nx\n",
    "import pandas as pd\n",
    "import datetime \n",
    "import numpy as np\n",
    "from tqdm import tqdm"
   ]
  },
  {
   "cell_type": "markdown",
   "id": "749a6a57",
   "metadata": {},
   "source": [
    "# HF patients on spironolactone"
   ]
  },
  {
   "cell_type": "code",
   "execution_count": null,
   "id": "166e12d7",
   "metadata": {},
   "outputs": [],
   "source": [
    "with open('/projects/RALES TRIAL/1A/spiro dataextraction/spiro data/first_mention_spiro.pickle', 'rb') as f:\n",
    "    first_mention_spiro = pickle.load(f)\n",
    "len(first_mention_spiro)"
   ]
  },
  {
   "cell_type": "code",
   "execution_count": null,
   "id": "7a4591f2",
   "metadata": {},
   "outputs": [],
   "source": [
    "spiro = list(first_mention_spiro.keys())\n",
    "len(spiro)"
   ]
  },
  {
   "cell_type": "markdown",
   "id": "ae00c3d7",
   "metadata": {},
   "source": [
    "# Comorbidities"
   ]
  },
  {
   "cell_type": "code",
   "execution_count": null,
   "id": "666c6df1",
   "metadata": {},
   "outputs": [],
   "source": [
    "def graph_from_onto(onto):\n",
    "    G = nx.DiGraph()\n",
    "    cl_edges = []\n",
    "    for s, ts in onto.items():\n",
    "        for t in ts:\n",
    "            cl_edges.append((s.replace('S-', ''), t.replace('S-', '')))\n",
    "    G.add_edges_from(cl_edges)\n",
    "    return G\n",
    "\n",
    "def load_onto(o):\n",
    "    with open(f'/projects/data/GS/{o}', 'rb') as f:\n",
    "        onto = pickle.load(f)\n",
    "    G = graph_from_onto(onto)\n",
    "    return G\n",
    "\n",
    "def expand_codes(onto, codes):\n",
    "    expanded = {}\n",
    "    for name, top_codes in codes.items():\n",
    "        expanded[name] = set()\n",
    "        for c in top_codes:\n",
    "            expanded[name].add(c)\n",
    "            if c in onto:\n",
    "                expanded[name].update(nx.ancestors(onto, c))\n",
    "            else:\n",
    "                print(\"NOT FOUND:\", c, name)\n",
    "        print(name, len(top_codes), len(expanded[name]))\n",
    "    return expanded"
   ]
  },
  {
   "cell_type": "code",
   "execution_count": null,
   "id": "af71c4ea",
   "metadata": {},
   "outputs": [],
   "source": [
    "exclusion_criteria = {\n",
    "    'valvular_heart_disease' : ['426611007'],\n",
    "    'congenital_heart_disease' : ['13213009'],\n",
    "    'unstable_angina' : ['4557003'],\n",
    "    'cancer' : ['86049000', '363346000'],\n",
    "    'acute_hepatic_failure' : ['197270009'],\n",
    "}"
   ]
  },
  {
   "cell_type": "code",
   "execution_count": null,
   "id": "e1092d5e",
   "metadata": {},
   "outputs": [],
   "source": [
    "onto = load_onto('isa_rela_ch2pt_202009.pickle')\n",
    "ec = expand_codes(onto,exclusion_criteria)"
   ]
  },
  {
   "cell_type": "code",
   "execution_count": null,
   "id": "5ecda67c",
   "metadata": {},
   "outputs": [],
   "source": [
    "with open('/projects/data/GS/pt2cui_pos_dates.pickle', 'rb') as f:\n",
    "    pt2cui_pos_dates = pickle.load(f)"
   ]
  },
  {
   "cell_type": "code",
   "execution_count": null,
   "id": "6bfe7ad7",
   "metadata": {},
   "outputs": [],
   "source": [
    "def dates_ex(pt_data, codes):\n",
    "    dates = None\n",
    "    for x in codes:\n",
    "        if x in pt_data and len(pt_data[x])>=2:\n",
    "            if dates == None:\n",
    "                dates = pt_data[x]\n",
    "            else: \n",
    "                dates = dates.union(pt_data[x])\n",
    "    return dates\n",
    "\n",
    "rows = []\n",
    "for pt in spiro:\n",
    "    pt_data = pt2cui_pos_dates.get(pt, {})\n",
    "    row = {'client_idcode': pt, 'first_mention_spiro': first_mention_spiro[pt]} \n",
    "    for concept, codes in ec.items():\n",
    "        dates = dates_ex(pt_data, codes)\n",
    "        if dates == None:\n",
    "            row[f\"{concept}_date\"] = np.nan\n",
    "        else:\n",
    "            row[f\"{concept}_date\"] = dates\n",
    "    rows.append(row)"
   ]
  },
  {
   "cell_type": "code",
   "execution_count": null,
   "id": "5aed7155",
   "metadata": {},
   "outputs": [],
   "source": [
    "df = pd.DataFrame(rows)\n",
    "df.shape"
   ]
  },
  {
   "cell_type": "code",
   "execution_count": null,
   "id": "6c9c6556",
   "metadata": {},
   "outputs": [],
   "source": [
    "df.head()"
   ]
  },
  {
   "cell_type": "code",
   "execution_count": null,
   "id": "30f9820d",
   "metadata": {},
   "outputs": [],
   "source": [
    "%%time\n",
    "df = df[['client_idcode']].join((df[i].explode() for i in df.iloc[:,1:]))\n",
    "df.shape"
   ]
  },
  {
   "cell_type": "code",
   "execution_count": null,
   "id": "b023ef2e",
   "metadata": {},
   "outputs": [],
   "source": [
    "%%time\n",
    "for k in ec.keys():\n",
    "    df[f'{k}_date'] = pd.to_datetime(df[f'{k}_date']).dt.date"
   ]
  },
  {
   "cell_type": "code",
   "execution_count": null,
   "id": "2a34fdbf",
   "metadata": {},
   "outputs": [],
   "source": [
    "%%time\n",
    "for k in ec.keys():\n",
    "    df[f'{k}_delta'] = pd.to_datetime(df['first_mention_spiro']) - pd.to_datetime(df[f'{k}_date'])"
   ]
  },
  {
   "cell_type": "code",
   "execution_count": null,
   "id": "0d03e0ec",
   "metadata": {},
   "outputs": [],
   "source": [
    "df.head()"
   ]
  },
  {
   "cell_type": "code",
   "execution_count": null,
   "id": "109e30ed",
   "metadata": {},
   "outputs": [],
   "source": [
    "min_time = datetime.timedelta(days=1) \n",
    "max_time = datetime.timedelta(days=183)\n",
    "for k in ec.keys():\n",
    "    t1 = df[f'{k}_delta'] >= min_time \n",
    "    t2 = df[f'{k}_delta'] <= max_time\n",
    "    in_window = t1 & t2 \n",
    "    df[f'{k}_in_window'] = in_window"
   ]
  },
  {
   "cell_type": "code",
   "execution_count": null,
   "id": "13bfb453",
   "metadata": {},
   "outputs": [],
   "source": [
    "for k in ec.keys():\n",
    "    df[f'{k}_true_count'] = (\n",
    "        df[f'{k}_in_window'].eq(True)\n",
    "            .groupby(df['client_idcode']).transform('sum')\n",
    "    )"
   ]
  },
  {
   "cell_type": "code",
   "execution_count": null,
   "id": "c1fba453",
   "metadata": {},
   "outputs": [],
   "source": [
    "df = df.drop_duplicates('client_idcode') \n",
    "df.reset_index(drop=True, inplace=True)"
   ]
  },
  {
   "cell_type": "code",
   "execution_count": null,
   "id": "5fd4aec8",
   "metadata": {},
   "outputs": [],
   "source": [
    "print(df.shape)\n",
    "df.head()"
   ]
  },
  {
   "cell_type": "markdown",
   "id": "7f75674b",
   "metadata": {},
   "source": [
    "# Preparing the data for extraction"
   ]
  },
  {
   "cell_type": "code",
   "execution_count": null,
   "id": "e6759381",
   "metadata": {},
   "outputs": [],
   "source": [
    "cancer = set()\n",
    "for i,row in tqdm(df.iterrows()):\n",
    "    if df.loc[i,'cancer_true_count'] >= 1:\n",
    "        cancer.add(df.loc[i,'client_idcode'])\n",
    "with open ('/projects/RALES TRIAL/1A/spiro dataextraction/spiro data/cancer.pickle', 'wb') as f:\n",
    "    pickle.dump(cancer,f)\n",
    "len(cancer)"
   ]
  },
  {
   "cell_type": "code",
   "execution_count": null,
   "id": "95174250",
   "metadata": {},
   "outputs": [],
   "source": [
    "# quick check\n",
    "\n",
    "df.loc[df['cancer_true_count'] >= 1] "
   ]
  },
  {
   "cell_type": "code",
   "execution_count": null,
   "id": "23f973d1",
   "metadata": {},
   "outputs": [],
   "source": [
    "valvular_heart_disease = set()\n",
    "for i,row in tqdm(df.iterrows()):\n",
    "    if df.loc[i,'valvular_heart_disease_true_count'] >= 1:\n",
    "        valvular_heart_disease.add(df.loc[i,'client_idcode'])\n",
    "len(valvular_heart_disease)"
   ]
  },
  {
   "cell_type": "code",
   "execution_count": null,
   "id": "c5e27fe4",
   "metadata": {},
   "outputs": [],
   "source": [
    "congenital_heart_disease = set()\n",
    "for i,row in tqdm(df.iterrows()):\n",
    "    if df.loc[i,'congenital_heart_disease_true_count'] >= 1:\n",
    "        congenital_heart_disease.add(df.loc[i,'client_idcode'])\n",
    "with open ('/projects/RALES TRIAL/1A/spiro dataextraction/spiro data/congenital_heart_disease.pickle', 'wb') as f:\n",
    "    pickle.dump(congenital_heart_disease,f)\n",
    "len(congenital_heart_disease)"
   ]
  },
  {
   "cell_type": "code",
   "execution_count": null,
   "id": "deaff5be",
   "metadata": {},
   "outputs": [],
   "source": [
    "unstable_angina = set()\n",
    "for i,row in tqdm(df.iterrows()):\n",
    "    if df.loc[i,'unstable_angina_true_count'] >= 1:\n",
    "        unstable_angina.add(df.loc[i,'client_idcode'])\n",
    "with open ('/projects/RALES TRIAL/1A/spiro dataextraction/spiro data/unstable_angina.pickle', 'wb') as f:\n",
    "    pickle.dump(unstable_angina,f)\n",
    "len(unstable_angina)"
   ]
  },
  {
   "cell_type": "code",
   "execution_count": null,
   "id": "33d80ca2",
   "metadata": {},
   "outputs": [],
   "source": [
    "acute_hepatic_failure = set()\n",
    "for i,row in tqdm(df.iterrows()):\n",
    "    if df.loc[i,'acute_hepatic_failure_true_count'] >= 1:\n",
    "        acute_hepatic_failure.add(df.loc[i,'client_idcode'])\n",
    "with open ('/projects/RALES TRIAL/1A/spiro dataextraction/spiro data/acute_hepatic_failure.pickle', 'wb') as f:\n",
    "    pickle.dump(acute_hepatic_failure,f)\n",
    "len(acute_hepatic_failure)"
   ]
  },
  {
   "cell_type": "code",
   "execution_count": null,
   "id": "36a5e187",
   "metadata": {},
   "outputs": [],
   "source": []
  }
 ],
 "metadata": {
  "kernelspec": {
   "display_name": "Python 3 (ipykernel)",
   "language": "python",
   "name": "python3"
  },
  "language_info": {
   "codemirror_mode": {
    "name": "ipython",
    "version": 3
   },
   "file_extension": ".py",
   "mimetype": "text/x-python",
   "name": "python",
   "nbconvert_exporter": "python",
   "pygments_lexer": "ipython3",
   "version": "3.9.7"
  }
 },
 "nbformat": 4,
 "nbformat_minor": 5
}
