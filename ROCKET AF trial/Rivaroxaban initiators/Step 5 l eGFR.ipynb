{
 "cells": [
  {
   "cell_type": "code",
   "execution_count": null,
   "id": "8895e034",
   "metadata": {},
   "outputs": [],
   "source": [
    "import pandas as pd \n",
    "import pickle\n",
    "import datetime\n",
    "import re\n",
    "import networkx as nx\n",
    "import numpy as np\n",
    "from tqdm import tqdm"
   ]
  },
  {
   "cell_type": "markdown",
   "id": "8e661740",
   "metadata": {},
   "source": [
    "# Atrial fibrillation (AF) patients on rivaroxaban"
   ]
  },
  {
   "cell_type": "code",
   "execution_count": null,
   "id": "df859c2e",
   "metadata": {},
   "outputs": [],
   "source": [
    "with open('/projects/ROCKET AF/1A/rivaroxaban dataextraction/data/first_mention_rivaroxaban.pickle', 'rb') as f:\n",
    "    rivaroxaban = pickle.load(f)"
   ]
  },
  {
   "cell_type": "code",
   "execution_count": null,
   "id": "8885ac97",
   "metadata": {},
   "outputs": [],
   "source": [
    "len(rivaroxaban)"
   ]
  },
  {
   "cell_type": "code",
   "execution_count": null,
   "id": "eff3a98c",
   "metadata": {},
   "outputs": [],
   "source": [
    "df = pd.DataFrame(list(rivaroxaban.items()), columns=['client_idcode', 'first_mention_rivaroxaban']) # This code converts a dictionary (rivaroxaban) into a Pandas DataFrame with two columns named 'client_idcode' and 'first_mention_rivaroxaban'\n",
    "df.shape"
   ]
  },
  {
   "cell_type": "code",
   "execution_count": null,
   "id": "2c17e8e9",
   "metadata": {},
   "outputs": [],
   "source": [
    "ids = set(df['client_idcode'])\n",
    "len(ids)"
   ]
  },
  {
   "cell_type": "markdown",
   "id": "a0e4c020",
   "metadata": {},
   "source": [
    "#  eGFR"
   ]
  },
  {
   "cell_type": "code",
   "execution_count": null,
   "id": "f607f476",
   "metadata": {},
   "outputs": [],
   "source": [
    "df = pd.read_csv('/projects/ROCKET AF/data/GFR.csv')"
   ]
  },
  {
   "cell_type": "code",
   "execution_count": null,
   "id": "ad778b64",
   "metadata": {},
   "outputs": [],
   "source": [
    "df.head()"
   ]
  },
  {
   "cell_type": "code",
   "execution_count": null,
   "id": "fed6f32e",
   "metadata": {},
   "outputs": [],
   "source": [
    "df['basicobs_itemname_analysed'].unique()"
   ]
  },
  {
   "cell_type": "code",
   "execution_count": null,
   "id": "be48b3bc",
   "metadata": {},
   "outputs": [],
   "source": [
    "df.loc[(df['basicobs_itemname_analysed'] == 'Estimated GFR - POCT1')]"
   ]
  },
  {
   "cell_type": "code",
   "execution_count": null,
   "id": "12f2db65",
   "metadata": {},
   "outputs": [],
   "source": [
    "df = df.loc[(df['basicobs_itemname_analysed'] == 'Estimated GFR')]"
   ]
  },
  {
   "cell_type": "code",
   "execution_count": null,
   "id": "25cd02d2",
   "metadata": {},
   "outputs": [],
   "source": [
    "df.shape"
   ]
  },
  {
   "cell_type": "code",
   "execution_count": null,
   "id": "a81c379d",
   "metadata": {},
   "outputs": [],
   "source": [
    "df['basicobs_itemname_analysed'].unique()"
   ]
  },
  {
   "cell_type": "code",
   "execution_count": null,
   "id": "00215d38",
   "metadata": {},
   "outputs": [],
   "source": [
    "df = df[['client_idcode', 'basicobs_itemname_analysed', 'basicobs_value_numeric', 'basicobs_unitofmeasure', 'basicobs_value_analysed', 'basicobs_createdwhen']]"
   ]
  },
  {
   "cell_type": "code",
   "execution_count": null,
   "id": "0b63e92f",
   "metadata": {},
   "outputs": [],
   "source": [
    "df.head()"
   ]
  },
  {
   "cell_type": "code",
   "execution_count": null,
   "id": "6aa87342",
   "metadata": {},
   "outputs": [],
   "source": [
    "df.shape"
   ]
  },
  {
   "cell_type": "code",
   "execution_count": null,
   "id": "8fd10472",
   "metadata": {},
   "outputs": [],
   "source": [
    "df['basicobs_unitofmeasure'].unique()"
   ]
  },
  {
   "cell_type": "code",
   "execution_count": null,
   "id": "4a617f70",
   "metadata": {},
   "outputs": [],
   "source": [
    "df = df.loc[df['basicobs_unitofmeasure'].notna()]\n",
    "df.shape"
   ]
  },
  {
   "cell_type": "code",
   "execution_count": null,
   "id": "14594671",
   "metadata": {},
   "outputs": [],
   "source": [
    "df['first_rivaroxaban_prescription'] = df['client_idcode'].map(rivaroxaban)"
   ]
  },
  {
   "cell_type": "code",
   "execution_count": null,
   "id": "fa01035f",
   "metadata": {},
   "outputs": [],
   "source": [
    "df.head()"
   ]
  },
  {
   "cell_type": "code",
   "execution_count": null,
   "id": "d178edf1",
   "metadata": {},
   "outputs": [],
   "source": [
    "df['basicobs_createdwhen'] = pd.to_datetime(df['basicobs_createdwhen'], utc=True).dt.date "
   ]
  },
  {
   "cell_type": "code",
   "execution_count": null,
   "id": "23635cda",
   "metadata": {},
   "outputs": [],
   "source": [
    "df.head()"
   ]
  },
  {
   "cell_type": "code",
   "execution_count": null,
   "id": "0251d7e0",
   "metadata": {},
   "outputs": [],
   "source": [
    "df['difference'] = pd.to_datetime(df['first_rivaroxaban_prescription']) - pd.to_datetime(df['basicobs_createdwhen'])"
   ]
  },
  {
   "cell_type": "code",
   "execution_count": null,
   "id": "e4294fa6",
   "metadata": {},
   "outputs": [],
   "source": [
    "df.loc[df['difference'].notna()]"
   ]
  },
  {
   "cell_type": "code",
   "execution_count": null,
   "id": "2daf12ea",
   "metadata": {},
   "outputs": [],
   "source": [
    "min_time = datetime.timedelta(days=1) \n",
    "max_time = datetime.timedelta(days=183)\n",
    "t1 = df['difference'] >= min_time \n",
    "t2 = df['difference'] <= max_time\n",
    "in_window = t1 & t2 \n",
    "df['in_window'] = in_window"
   ]
  },
  {
   "cell_type": "code",
   "execution_count": null,
   "id": "6d1ab320",
   "metadata": {},
   "outputs": [],
   "source": [
    "df = df.loc[df['in_window'] == True]"
   ]
  },
  {
   "cell_type": "code",
   "execution_count": null,
   "id": "56393f52",
   "metadata": {},
   "outputs": [],
   "source": [
    "df.head()"
   ]
  },
  {
   "cell_type": "code",
   "execution_count": null,
   "id": "e8b2c49a",
   "metadata": {},
   "outputs": [],
   "source": [
    "df.shape"
   ]
  },
  {
   "cell_type": "code",
   "execution_count": null,
   "id": "de13a227",
   "metadata": {},
   "outputs": [],
   "source": [
    "# Group by 'client_idcode' and keep only the rows with the smallest 'difference'\n",
    "\n",
    "min_values = df.groupby('client_idcode')['difference'].transform('min')\n",
    "\n",
    "# Filter the DataFrame to keep only rows with the minimum 'Value'\n",
    "df = df[df['difference'] == min_values]"
   ]
  },
  {
   "cell_type": "code",
   "execution_count": null,
   "id": "79c214f2",
   "metadata": {},
   "outputs": [],
   "source": [
    "df.head()"
   ]
  },
  {
   "cell_type": "code",
   "execution_count": null,
   "id": "cf5bcbe8",
   "metadata": {},
   "outputs": [],
   "source": [
    "df.shape"
   ]
  },
  {
   "cell_type": "code",
   "execution_count": null,
   "id": "4fd50207",
   "metadata": {},
   "outputs": [],
   "source": [
    "df['client_idcode'].nunique()"
   ]
  },
  {
   "cell_type": "code",
   "execution_count": null,
   "id": "1796f04a",
   "metadata": {},
   "outputs": [],
   "source": [
    "df = df.sort_values(by='client_idcode')\n",
    "df.head(10)"
   ]
  },
  {
   "cell_type": "code",
   "execution_count": null,
   "id": "f2244e60",
   "metadata": {},
   "outputs": [],
   "source": [
    "df.info()"
   ]
  },
  {
   "cell_type": "code",
   "execution_count": null,
   "id": "8e722326",
   "metadata": {},
   "outputs": [],
   "source": [
    "# Check whether the 'basicobs_unitofmeasure' column has the same value for all rows with the same client_idcode\n",
    "\n",
    "result = df.groupby('client_idcode')['basicobs_unitofmeasure'].nunique() == 1\n",
    "ids_with_same_unitofmeasure = result[result].index.tolist()"
   ]
  },
  {
   "cell_type": "code",
   "execution_count": null,
   "id": "d33372ce",
   "metadata": {},
   "outputs": [],
   "source": [
    "len(ids_with_same_unitofmeasure)"
   ]
  },
  {
   "cell_type": "code",
   "execution_count": null,
   "id": "801a7b23",
   "metadata": {},
   "outputs": [],
   "source": [
    "# Group by 'client_idcode' and calculate the average of 'eg count'\n",
    "\n",
    "df = df.groupby('client_idcode').agg({'basicobs_value_numeric': 'mean', 'basicobs_unitofmeasure': 'first'}).reset_index()\n",
    "    "
   ]
  },
  {
   "cell_type": "code",
   "execution_count": null,
   "id": "8465bc1e",
   "metadata": {},
   "outputs": [],
   "source": [
    "df.head()"
   ]
  },
  {
   "cell_type": "code",
   "execution_count": null,
   "id": "d590cbf4",
   "metadata": {},
   "outputs": [],
   "source": [
    "df.shape"
   ]
  },
  {
   "cell_type": "code",
   "execution_count": null,
   "id": "50ea8aa7",
   "metadata": {},
   "outputs": [],
   "source": [
    "df['client_idcode'].nunique()"
   ]
  },
  {
   "cell_type": "code",
   "execution_count": null,
   "id": "7356e750",
   "metadata": {},
   "outputs": [],
   "source": [
    "df['basicobs_value_numeric'].max()"
   ]
  },
  {
   "cell_type": "code",
   "execution_count": null,
   "id": "9d755622",
   "metadata": {},
   "outputs": [],
   "source": [
    "df['basicobs_value_numeric'].min()"
   ]
  },
  {
   "cell_type": "code",
   "execution_count": null,
   "id": "701af234",
   "metadata": {},
   "outputs": [],
   "source": [
    "df.info()"
   ]
  },
  {
   "cell_type": "code",
   "execution_count": null,
   "id": "a44cd5be",
   "metadata": {},
   "outputs": [],
   "source": [
    "df.loc[df['basicobs_value_numeric'] < 60].shape"
   ]
  },
  {
   "cell_type": "code",
   "execution_count": null,
   "id": "6b4cfd1a",
   "metadata": {},
   "outputs": [],
   "source": [
    "eGFR = dict(zip(df['client_idcode'], df['basicobs_value_numeric']))\n",
    "eGFR"
   ]
  },
  {
   "cell_type": "code",
   "execution_count": null,
   "id": "e33b7192",
   "metadata": {},
   "outputs": [],
   "source": [
    "with open('/projects/ROCKET AF/1A/rivaroxaban dataextraction/data/eGFR.pickle', 'wb') as f:\n",
    "    pickle.dump(eGFR,f)"
   ]
  },
  {
   "cell_type": "code",
   "execution_count": null,
   "id": "035bbeb5",
   "metadata": {},
   "outputs": [],
   "source": []
  }
 ],
 "metadata": {
  "kernelspec": {
   "display_name": "Python 3 (ipykernel)",
   "language": "python",
   "name": "python3"
  },
  "language_info": {
   "codemirror_mode": {
    "name": "ipython",
    "version": 3
   },
   "file_extension": ".py",
   "mimetype": "text/x-python",
   "name": "python",
   "nbconvert_exporter": "python",
   "pygments_lexer": "ipython3",
   "version": "3.9.7"
  }
 },
 "nbformat": 4,
 "nbformat_minor": 5
}
