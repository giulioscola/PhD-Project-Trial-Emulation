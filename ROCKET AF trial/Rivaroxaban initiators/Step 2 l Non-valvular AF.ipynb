{
 "cells": [
  {
   "cell_type": "code",
   "execution_count": 2,
   "id": "f21d6465",
   "metadata": {},
   "outputs": [],
   "source": [
    "import pandas as pd \n",
    "import pickle\n",
    "import datetime\n",
    "import re"
   ]
  },
  {
   "cell_type": "markdown",
   "id": "34a7b833",
   "metadata": {},
   "source": [
    "# Atrial Fibrillation (AF) Patients on Rivaroxaban"
   ]
  },
  {
   "cell_type": "code",
   "execution_count": 3,
   "id": "bf4bb01a",
   "metadata": {},
   "outputs": [],
   "source": [
    "with open('/projects/ROCKET AF/1A/rivaroxaban dataextraction/data/first_mention_rivaroxaban.pickle', 'rb') as f:\n",
    "    rivaroxaban = pickle.load(f)"
   ]
  },
  {
   "cell_type": "code",
   "execution_count": 4,
   "id": "f1db8512",
   "metadata": {},
   "outputs": [
    {
     "data": {
      "text/plain": [
       "2585"
      ]
     },
     "execution_count": 4,
     "metadata": {},
     "output_type": "execute_result"
    }
   ],
   "source": [
    "len(rivaroxaban)"
   ]
  },
  {
   "cell_type": "code",
   "execution_count": 5,
   "id": "180c98c7",
   "metadata": {},
   "outputs": [
    {
     "data": {
      "text/plain": [
       "(2585, 2)"
      ]
     },
     "execution_count": 5,
     "metadata": {},
     "output_type": "execute_result"
    }
   ],
   "source": [
    "df = pd.DataFrame(list(rivaroxaban.items()), columns=['client_idcode', 'first_mention_rivaroxaban']) # This code converts a dictionary (rivaroxaban) into a Pandas DataFrame with two columns named 'client_idcode' and 'first_mention_rivaroxaban'\n",
    "df.shape"
   ]
  },
  {
   "cell_type": "code",
   "execution_count": 6,
   "id": "8b079074",
   "metadata": {},
   "outputs": [
    {
     "data": {
      "text/html": [
       "<div>\n",
       "<style scoped>\n",
       "    .dataframe tbody tr th:only-of-type {\n",
       "        vertical-align: middle;\n",
       "    }\n",
       "\n",
       "    .dataframe tbody tr th {\n",
       "        vertical-align: top;\n",
       "    }\n",
       "\n",
       "    .dataframe thead th {\n",
       "        text-align: right;\n",
       "    }\n",
       "</style>\n",
       "<table border=\"1\" class=\"dataframe\">\n",
       "  <thead>\n",
       "    <tr style=\"text-align: right;\">\n",
       "      <th></th>\n",
       "      <th>client_idcode</th>\n",
       "      <th>first_mention_rivaroxaban</th>\n",
       "    </tr>\n",
       "  </thead>\n",
       "  <tbody>\n",
       "    <tr>\n",
       "      <th>0</th>\n",
       "      <td>0372858</td>\n",
       "      <td>2015-03-02</td>\n",
       "    </tr>\n",
       "    <tr>\n",
       "      <th>1</th>\n",
       "      <td>M282816</td>\n",
       "      <td>2018-10-25</td>\n",
       "    </tr>\n",
       "    <tr>\n",
       "      <th>2</th>\n",
       "      <td>V282449</td>\n",
       "      <td>2018-08-02</td>\n",
       "    </tr>\n",
       "    <tr>\n",
       "      <th>3</th>\n",
       "      <td>V459668</td>\n",
       "      <td>2015-06-25</td>\n",
       "    </tr>\n",
       "    <tr>\n",
       "      <th>4</th>\n",
       "      <td>R081687</td>\n",
       "      <td>2015-04-27</td>\n",
       "    </tr>\n",
       "  </tbody>\n",
       "</table>\n",
       "</div>"
      ],
      "text/plain": [
       "  client_idcode first_mention_rivaroxaban\n",
       "0       0372858                2015-03-02\n",
       "1       M282816                2018-10-25\n",
       "2       V282449                2018-08-02\n",
       "3       V459668                2015-06-25\n",
       "4       R081687                2015-04-27"
      ]
     },
     "execution_count": 6,
     "metadata": {},
     "output_type": "execute_result"
    }
   ],
   "source": [
    "df.head()"
   ]
  },
  {
   "cell_type": "code",
   "execution_count": 7,
   "id": "80174dae",
   "metadata": {},
   "outputs": [
    {
     "data": {
      "text/plain": [
       "2585"
      ]
     },
     "execution_count": 7,
     "metadata": {},
     "output_type": "execute_result"
    }
   ],
   "source": [
    "ids = set(df['client_idcode'])\n",
    "len(ids)"
   ]
  },
  {
   "cell_type": "code",
   "execution_count": 8,
   "id": "0b5b0ec4",
   "metadata": {},
   "outputs": [
    {
     "data": {
      "text/plain": [
       "datetime.date(2009, 8, 27)"
      ]
     },
     "execution_count": 8,
     "metadata": {},
     "output_type": "execute_result"
    }
   ],
   "source": [
    "df['first_mention_rivaroxaban'].min()"
   ]
  },
  {
   "cell_type": "markdown",
   "id": "e09b4cac",
   "metadata": {},
   "source": [
    "# Echo Reports"
   ]
  },
  {
   "cell_type": "code",
   "execution_count": 7,
   "id": "6ca7acc6",
   "metadata": {},
   "outputs": [],
   "source": [
    "echos = pd.read_csv('/projects/ROCKET AF/data/af_echos.csv') "
   ]
  },
  {
   "cell_type": "code",
   "execution_count": 8,
   "id": "bf47ae4d",
   "metadata": {},
   "outputs": [
    {
     "name": "stdout",
     "output_type": "stream",
     "text": [
      "<class 'pandas.core.frame.DataFrame'>\n",
      "RangeIndex: 1986772 entries, 0 to 1986771\n",
      "Data columns (total 19 columns):\n",
      " #   Column               Dtype  \n",
      "---  ------               -----  \n",
      " 0   studyidk             int64  \n",
      " 1   measname             object \n",
      " 2   measurevalue         float64\n",
      " 3   unit                 object \n",
      " 4   reasonforstudy       object \n",
      " 5   Studytype            object \n",
      " 6   Modality             object \n",
      " 7   studystartdatetime   object \n",
      " 8   medicalrecordnumber  object \n",
      " 9   birthdate            object \n",
      " 10  gender               object \n",
      " 11  patientweight        float64\n",
      " 12  patientheight        float64\n",
      " 13  heartrateBPM         float64\n",
      " 14  systolicpressure     float64\n",
      " 15  diastolicpressure    float64\n",
      " 16  findingcode          object \n",
      " 17  findingcodetext      object \n",
      " 18  Year                 int64  \n",
      "dtypes: float64(6), int64(2), object(11)\n",
      "memory usage: 288.0+ MB\n"
     ]
    }
   ],
   "source": [
    "echos.info()"
   ]
  },
  {
   "cell_type": "code",
   "execution_count": 9,
   "id": "65d06785",
   "metadata": {},
   "outputs": [
    {
     "data": {
      "text/plain": [
       "(1986772, 19)"
      ]
     },
     "execution_count": 9,
     "metadata": {},
     "output_type": "execute_result"
    }
   ],
   "source": [
    "echos.shape"
   ]
  },
  {
   "cell_type": "code",
   "execution_count": 10,
   "id": "4e086213",
   "metadata": {},
   "outputs": [
    {
     "data": {
      "text/html": [
       "<div>\n",
       "<style scoped>\n",
       "    .dataframe tbody tr th:only-of-type {\n",
       "        vertical-align: middle;\n",
       "    }\n",
       "\n",
       "    .dataframe tbody tr th {\n",
       "        vertical-align: top;\n",
       "    }\n",
       "\n",
       "    .dataframe thead th {\n",
       "        text-align: right;\n",
       "    }\n",
       "</style>\n",
       "<table border=\"1\" class=\"dataframe\">\n",
       "  <thead>\n",
       "    <tr style=\"text-align: right;\">\n",
       "      <th></th>\n",
       "      <th>studyidk</th>\n",
       "      <th>measname</th>\n",
       "      <th>measurevalue</th>\n",
       "      <th>unit</th>\n",
       "      <th>reasonforstudy</th>\n",
       "      <th>Studytype</th>\n",
       "      <th>Modality</th>\n",
       "      <th>studystartdatetime</th>\n",
       "      <th>medicalrecordnumber</th>\n",
       "      <th>birthdate</th>\n",
       "      <th>gender</th>\n",
       "      <th>patientweight</th>\n",
       "      <th>patientheight</th>\n",
       "      <th>heartrateBPM</th>\n",
       "      <th>systolicpressure</th>\n",
       "      <th>diastolicpressure</th>\n",
       "      <th>findingcode</th>\n",
       "      <th>findingcodetext</th>\n",
       "      <th>Year</th>\n",
       "    </tr>\n",
       "  </thead>\n",
       "  <tbody>\n",
       "    <tr>\n",
       "      <th>0</th>\n",
       "      <td>288225</td>\n",
       "      <td>AI max vel</td>\n",
       "      <td>401.192283</td>\n",
       "      <td>cm/sec</td>\n",
       "      <td>? ischemic aetiology heart dilation</td>\n",
       "      <td>AdultInpatients                               ...</td>\n",
       "      <td>US</td>\n",
       "      <td>2014-01-06 08:24:52</td>\n",
       "      <td>R043258</td>\n",
       "      <td>1930-10-06 00:00:00</td>\n",
       "      <td>M</td>\n",
       "      <td>NaN</td>\n",
       "      <td>NaN</td>\n",
       "      <td>NaN</td>\n",
       "      <td>NaN</td>\n",
       "      <td>NaN</td>\n",
       "      <td>LV-0062, LV-0153, LV-0080, LV-0090, RV-0028, R...</td>\n",
       "      <td>The left ventricle is normal in size. Mild con...</td>\n",
       "      <td>2014</td>\n",
       "    </tr>\n",
       "    <tr>\n",
       "      <th>1</th>\n",
       "      <td>288225</td>\n",
       "      <td>IVSd</td>\n",
       "      <td>1.376862</td>\n",
       "      <td>cm</td>\n",
       "      <td>? ischemic aetiology heart dilation</td>\n",
       "      <td>AdultInpatients                               ...</td>\n",
       "      <td>US</td>\n",
       "      <td>2014-01-06 08:24:52</td>\n",
       "      <td>R043258</td>\n",
       "      <td>1930-10-06 00:00:00</td>\n",
       "      <td>M</td>\n",
       "      <td>NaN</td>\n",
       "      <td>NaN</td>\n",
       "      <td>NaN</td>\n",
       "      <td>NaN</td>\n",
       "      <td>NaN</td>\n",
       "      <td>LV-0062, LV-0153, LV-0080, LV-0090, RV-0028, R...</td>\n",
       "      <td>The left ventricle is normal in size. Mild con...</td>\n",
       "      <td>2014</td>\n",
       "    </tr>\n",
       "    <tr>\n",
       "      <th>2</th>\n",
       "      <td>288225</td>\n",
       "      <td>LVIDd</td>\n",
       "      <td>4.877708</td>\n",
       "      <td>cm</td>\n",
       "      <td>? ischemic aetiology heart dilation</td>\n",
       "      <td>AdultInpatients                               ...</td>\n",
       "      <td>US</td>\n",
       "      <td>2014-01-06 08:24:52</td>\n",
       "      <td>R043258</td>\n",
       "      <td>1930-10-06 00:00:00</td>\n",
       "      <td>M</td>\n",
       "      <td>NaN</td>\n",
       "      <td>NaN</td>\n",
       "      <td>NaN</td>\n",
       "      <td>NaN</td>\n",
       "      <td>NaN</td>\n",
       "      <td>LV-0062, LV-0153, LV-0080, LV-0090, RV-0028, R...</td>\n",
       "      <td>The left ventricle is normal in size. Mild con...</td>\n",
       "      <td>2014</td>\n",
       "    </tr>\n",
       "    <tr>\n",
       "      <th>3</th>\n",
       "      <td>288225</td>\n",
       "      <td>LVPWd</td>\n",
       "      <td>1.379681</td>\n",
       "      <td>cm</td>\n",
       "      <td>? ischemic aetiology heart dilation</td>\n",
       "      <td>AdultInpatients                               ...</td>\n",
       "      <td>US</td>\n",
       "      <td>2014-01-06 08:24:52</td>\n",
       "      <td>R043258</td>\n",
       "      <td>1930-10-06 00:00:00</td>\n",
       "      <td>M</td>\n",
       "      <td>NaN</td>\n",
       "      <td>NaN</td>\n",
       "      <td>NaN</td>\n",
       "      <td>NaN</td>\n",
       "      <td>NaN</td>\n",
       "      <td>LV-0062, LV-0153, LV-0080, LV-0090, RV-0028, R...</td>\n",
       "      <td>The left ventricle is normal in size. Mild con...</td>\n",
       "      <td>2014</td>\n",
       "    </tr>\n",
       "    <tr>\n",
       "      <th>4</th>\n",
       "      <td>288225</td>\n",
       "      <td>EDV(MOD-sp2)</td>\n",
       "      <td>196.354839</td>\n",
       "      <td>ml</td>\n",
       "      <td>? ischemic aetiology heart dilation</td>\n",
       "      <td>AdultInpatients                               ...</td>\n",
       "      <td>US</td>\n",
       "      <td>2014-01-06 08:24:52</td>\n",
       "      <td>R043258</td>\n",
       "      <td>1930-10-06 00:00:00</td>\n",
       "      <td>M</td>\n",
       "      <td>NaN</td>\n",
       "      <td>NaN</td>\n",
       "      <td>NaN</td>\n",
       "      <td>NaN</td>\n",
       "      <td>NaN</td>\n",
       "      <td>LV-0062, LV-0153, LV-0080, LV-0090, RV-0028, R...</td>\n",
       "      <td>The left ventricle is normal in size. Mild con...</td>\n",
       "      <td>2014</td>\n",
       "    </tr>\n",
       "  </tbody>\n",
       "</table>\n",
       "</div>"
      ],
      "text/plain": [
       "   studyidk      measname  measurevalue                  unit  \\\n",
       "0    288225    AI max vel    401.192283  cm/sec                 \n",
       "1    288225          IVSd      1.376862  cm                     \n",
       "2    288225         LVIDd      4.877708  cm                     \n",
       "3    288225         LVPWd      1.379681  cm                     \n",
       "4    288225  EDV(MOD-sp2)    196.354839  ml                     \n",
       "\n",
       "                        reasonforstudy  \\\n",
       "0  ? ischemic aetiology heart dilation   \n",
       "1  ? ischemic aetiology heart dilation   \n",
       "2  ? ischemic aetiology heart dilation   \n",
       "3  ? ischemic aetiology heart dilation   \n",
       "4  ? ischemic aetiology heart dilation   \n",
       "\n",
       "                                           Studytype Modality  \\\n",
       "0  AdultInpatients                               ...       US   \n",
       "1  AdultInpatients                               ...       US   \n",
       "2  AdultInpatients                               ...       US   \n",
       "3  AdultInpatients                               ...       US   \n",
       "4  AdultInpatients                               ...       US   \n",
       "\n",
       "    studystartdatetime medicalrecordnumber            birthdate gender  \\\n",
       "0  2014-01-06 08:24:52             R043258  1930-10-06 00:00:00      M   \n",
       "1  2014-01-06 08:24:52             R043258  1930-10-06 00:00:00      M   \n",
       "2  2014-01-06 08:24:52             R043258  1930-10-06 00:00:00      M   \n",
       "3  2014-01-06 08:24:52             R043258  1930-10-06 00:00:00      M   \n",
       "4  2014-01-06 08:24:52             R043258  1930-10-06 00:00:00      M   \n",
       "\n",
       "   patientweight  patientheight  heartrateBPM  systolicpressure  \\\n",
       "0            NaN            NaN           NaN               NaN   \n",
       "1            NaN            NaN           NaN               NaN   \n",
       "2            NaN            NaN           NaN               NaN   \n",
       "3            NaN            NaN           NaN               NaN   \n",
       "4            NaN            NaN           NaN               NaN   \n",
       "\n",
       "   diastolicpressure                                        findingcode  \\\n",
       "0                NaN  LV-0062, LV-0153, LV-0080, LV-0090, RV-0028, R...   \n",
       "1                NaN  LV-0062, LV-0153, LV-0080, LV-0090, RV-0028, R...   \n",
       "2                NaN  LV-0062, LV-0153, LV-0080, LV-0090, RV-0028, R...   \n",
       "3                NaN  LV-0062, LV-0153, LV-0080, LV-0090, RV-0028, R...   \n",
       "4                NaN  LV-0062, LV-0153, LV-0080, LV-0090, RV-0028, R...   \n",
       "\n",
       "                                     findingcodetext  Year  \n",
       "0  The left ventricle is normal in size. Mild con...  2014  \n",
       "1  The left ventricle is normal in size. Mild con...  2014  \n",
       "2  The left ventricle is normal in size. Mild con...  2014  \n",
       "3  The left ventricle is normal in size. Mild con...  2014  \n",
       "4  The left ventricle is normal in size. Mild con...  2014  "
      ]
     },
     "execution_count": 10,
     "metadata": {},
     "output_type": "execute_result"
    }
   ],
   "source": [
    "echos.head()"
   ]
  },
  {
   "cell_type": "code",
   "execution_count": 11,
   "id": "cb69cf6b",
   "metadata": {},
   "outputs": [
    {
     "data": {
      "text/plain": [
       "array(['AI max vel', 'IVSd', 'LVIDd', 'LVPWd', 'EDV(MOD-sp2)',\n",
       "       'EDV(MOD-sp4)', 'ESV(MOD-sp2)', 'ESV(MOD-sp4)', 'RVOT diam',\n",
       "       'Ao max PG', 'Ao V2 max', 'RV V1 mean', 'RV V1 mean PG',\n",
       "       'RV V1 VTI', 'LVOT diam', 'TR max PG', 'TR max vel', 'AI max PG',\n",
       "       'TAPSE', 'LA Area', 'RA Area', '[PVR]', 'AI P1/2t', 'EDV(cubed)',\n",
       "       'EDV(MOD-bp)', 'EDV(Teich)', 'EF(MOD-bp)', 'EF(MOD-sp2)',\n",
       "       'EF(MOD-sp4)', 'ESV(MOD-bp)', 'IVC collapse (%)',\n",
       "       'IVC_Collapse (%)', 'IVS/LVPW', 'LV mass(C)d', 'LVLd %diff',\n",
       "       'LVLs %diff', 'LVOT _Area', 'LVOT area', 'PVR', \"PVR'\", 'PVR.',\n",
       "       'PVR_1', 'PVR>', 'RVOT area', 'SV(MOD-bp)', 'SV(RVOT)', 'Length',\n",
       "       'Ao V2 VTI', 'Ao mean PG', 'Ao V2 mean', 'LV V1 mean PG',\n",
       "       'LV V1 mean', 'LV V1 VTI', 'LV V1 max', 'LV V1 max PG', 'Max PG',\n",
       "       'Max V', 'MR PISA radius', 'MR alias vel', 'MR mean vel', 'MR VTI',\n",
       "       'MR mean PG', 'Ascending Aorta (2D)', 'Ao max PG (full)',\n",
       "       'Ao mean PG (full)', 'MR flow rate', 'MR PISA', 'Ao root area',\n",
       "       'Ao root diam', 'MV E max vel', 'EF(cubed)', 'ESV(cubed)',\n",
       "       'ESV(Teich)', 'FS', 'MV E/A', 'SV(cubed)', 'SV(Teich)', 'LVIDs',\n",
       "       'MV A max vel', 'MV dec time', 'MV mean PG', 'MV V2 mean',\n",
       "       'MV V2 VTI', 'MV max PG', 'MV V2 max', 'SV(Ao)',\n",
       "       'Aortic Sinus (2D)', 'AVA(I,D)', 'AVA(V,A)', \"E/E'_Lat\",\n",
       "       'SV(LVOT)', 'Aortic Arch (2D)', 'LA dimension', 'LA/Ao',\n",
       "       \"E/E'_Sept\", 'PA V2 max', 'PA max PG', 'Height (MMode)',\n",
       "       'Slope (MMode)', 'Time (MMode)', 'MV A dur', 'Pulm A Revs Vel',\n",
       "       'Pulm A Revs Dur', 'BMI', 'BSA', 'BSA(Haycock)', 'Height (metric)',\n",
       "       'LVIDd (Indexed BSA: cm/m^2)', 'Weight (metric)', 'Pulm Sys Vel',\n",
       "       'Pulm Dias Vel', 'Ao Sinus (Indexed BSA: cm/m^2)', 'LV mass(C)dI',\n",
       "       'Pulm S/D', 'SI(MOD-bp)', 'SI(MOD-sp2)', 'SI(MOD-sp4)',\n",
       "       'SI(sp2-el)', 'SI(sp4-el)', 'Heart Rate',\n",
       "       'Sinotubular Junction (2D)', 'DSI', 'AV peak vel',\n",
       "       'Left Atrial Vol (A/L) A2C', 'Left Atrial Vol (A/L) A4C',\n",
       "       'Left Atrial Vol (A/L)_A4C', 'Left Atrial Vol_(A/L)_A4C',\n",
       "       'PA max PG (full)', 'RV V1 max', 'RV V1 max PG', 'R-R time',\n",
       "       'EF_3D-VOL', 'EDV_3D-VOL', 'ESV 3D-VOL', 'Stroke Vol',\n",
       "       'Tmsv 12-DIF (%)', 'Tmsv 12-SD (%)', 'Tmsv 16-DIF (%)',\n",
       "       'Tmsv 16-SD (%)', 'Tmsv 6-DIF (%)', 'Tmsv 6-SD (%)',\n",
       "       'Tmsv 3-6 (%)', 'Tmsv 3-5 (%)', 'SI(Ao)', 'Mean PG', 'Mean V',\n",
       "       'VTI', 'Aortic HR', 'CO(Ao)', 'CO(LVOT)', 'MR max PG',\n",
       "       'MR max vel', 'AVA (Indexed BSA: cm^2/m^2)', 'SI(LVOT)',\n",
       "       'MV P1/2t', 'MVA (P 1/2t) (Pk Ex)', 'MVA(P1/2t)', 'MV dec slope',\n",
       "       'MV P1/2t max vel', 'AS max PG', 'LA Volume (A4C)', 'Slope (Dop)',\n",
       "       'Time (Dop)', 'MVA [CE]', 'MM HR', 'MM R-R int',\n",
       "       'LA Vol (indexed BSA)', 'LA Vol (Indexed_BSA)',\n",
       "       'LA Vol_(Indexed BSA)', 'LA_Vol (indexed BSA)', 'SI(cubed)',\n",
       "       'SI(Teich)', '% IVS thick', '% LVPW thick', 'CI(cubed)',\n",
       "       'CI(Teich)', 'CO(cubed)', 'CO(Teich)', 'LV mass(C)s',\n",
       "       'LV mass(C)sI', 'IVSs', 'LVPWs', 'LV dP/dt', 'CO(MOD-bp)',\n",
       "       'CO(MOD-sp2)', 'CO(MOD-sp4)', 'CO(sp2-el)', 'CO(sp4-el)',\n",
       "       'Main Pulmonary Artery', 'MR ERO', 'MR volume', 'PA mean PG',\n",
       "       'PA V2 mean', 'PA V2 VTI', 'Area', 'Circ', 'LV  dP/dt',\n",
       "       'LV [dP/dt]', 'Vena contracta', 'TV V2 mean', 'TV mean PG',\n",
       "       'TV V2 VTI', 'TV V2 max', 'TV max PG', 'Tmsv 16-SD (ms)',\n",
       "       'Tmsv 12-SD (ms)', 'Tmsv 6-SD (ms)', 'Tmsv 16-DIF (ms)',\n",
       "       'Tmsv 12-DIF (ms)', 'Tmsv 6-DIF (ms)', 'LV Excursion - Avg',\n",
       "       'LV Excursion - SD', 'LV Excursion - Min', 'LV Excursion - Max',\n",
       "       'PV acc time', 'Long Axis', 'Vol (MOD)', 'Vol (SPE)',\n",
       "       'LVOT area(traced)', 'MVA(traced)', 'Descending Aorta (2D)',\n",
       "       'TV dec slope', 'MV A max vel (pk Ex)', 'EF(AP2 )(aCMQ)',\n",
       "       'EF(AP4 )(aCMQ)', 'EF(Global)(aCMQ)', 'EDV (AP2 )(aCMQ)',\n",
       "       'EDV (AP4)(aCMQ)', 'EDV (Avg)(aCMQ)', 'ESV (AP2 )(aCMQ)',\n",
       "       'ESV (AP4)(aCMQ)', 'ESV(Avg) (aCMQ)', 'GLS(AP2)(aCMQ)',\n",
       "       'GLS(AP3)(aCMQ)', 'GLS(AP4)(aCMQ)',\n",
       "       'GLS Global(Avg. AP2,3,4)(aCMQ)', 'Ao VTI (Pk Ex)', 'PI max vel',\n",
       "       'PI max PG', 'MPAP', 'asc Aorta Diam', 'MPA diam', 'MPA area',\n",
       "       'Qp/Qs (V,Ao)', 'MV_Vp', 'mp 100', 'MPI  100', 'MPI [100]',\n",
       "       'MPI [100msec]', 'MPI [110]', 'MPI [120]', 'MPI [140]',\n",
       "       'MPI [160]', 'MPI [180]', 'MPI [200]', 'MPI [60]', 'MPI [80]',\n",
       "       'MPI [90]', 'MPI 100 (x1000)', 'MPI 110 (x1000)',\n",
       "       'MPI 120 (x1000)', 'MPI 140 (x1000)', 'MPI 160 (x1000)',\n",
       "       'MPI 180 (x1000)', 'MPI 200 (x1000)', 'MPI 80 (x1000)',\n",
       "       'MPI 90 (x1000)', 'MPI 90a', 'MPI 90b', 'MPI 90c', 'MPI 90x',\n",
       "       'MPI 90y', 'MPI 90z', 'mpix', 'Ao peak vel (Pk Ex)',\n",
       "       'Systolic Pressure', 'Mitral HR', 'Mitral R-R', 'PAEDP',\n",
       "       'RAP diastole', 'VV Delay - LV60', 'VV Delay - LV30',\n",
       "       'VV Delay - LV40', 'VV Delay - LV20', 'VV Delay - LV/RV 0',\n",
       "       'VV Delay - RV20', 'VV Delay - RV40', 'VV Delay - RV60',\n",
       "       'VV Delay - LV50', 'PA acc slope', 'Ao max grad (Pk Ex)',\n",
       "       'Diastolic Pressure', 'MR(RF 1 diam)', 'MV area (1 diam)',\n",
       "       'MV Flow area(1diam)', 'RF(MV,LVOT)(1diam)', 'SV(MV 1 diam)',\n",
       "       'MV Diam', 'VV Delay - LV10', 'VV Delay lv10', 'Qp/Qs',\n",
       "       'Qp/Qs (V,LVOT)', 'VV Delay - RV10', 'VV Delay - RV30',\n",
       "       'VV Delay - RV50', 'MPI [190]', 'MPI 190 (x1000)', 'EPSS', 'VTI 1',\n",
       "       'CI(MOD-bp)', 'CI(MOD-sp2)', 'CI(MOD-sp4)', 'CI(sp2-el)',\n",
       "       'CI(sp4-el)', 'SI(MV 1 diam)', 'LVdias Vol 3D (Indexed BSA)',\n",
       "       'RF(LVOT,PV)', 'RF(PV,LVOT)', 'SI(PV)', 'SV(PV)', 'AS max vel',\n",
       "       'TV P1/2t max vel', 'TV P1/2t', 'LV RWT', 'VV Delay - RV80',\n",
       "       'VV Delay - LV55', 'VSD max PG', 'VSD max vel', 'ASD diam',\n",
       "       'MV V2 VTI (Pk Ex)', 'VV Delay - RV 70', 'PA mean PG (full)',\n",
       "       'VV Delay - LV80', 'VV Delay - LV15', 'CI(Ao)', 'CI(LVOT)',\n",
       "       'MV diam 1', 'MPI [130]', 'MPI [150]', 'MPI 130 (x1000)',\n",
       "       'MPI 150 (x1000)', 'TR max vel (Pk Ex)', 'TR max PG (Pk Ex)',\n",
       "       'MV dec time (Pk Ex)', 'MV mean PG (Pk Ex)', 'PVA(V,A)',\n",
       "       'PVA(V,D)', 'Ao Arch Diam (Proximal trans.)',\n",
       "       'Ao mean grad (Pk Ex)', 'LV V1 mean PG (Pk Ex)',\n",
       "       'LV V1 max  (Pk Ex)', 'LV V1 VTI  (Pk Ex)', 'AVA (pk Ex)',\n",
       "       'DSI  (Pk Ex)', 'DSI (Pk Ex)', 'Ant Lat Post Med Diam',\n",
       "       'Ant Post Diam', 'Annul 2D Area', 'Tenting Vol', 'Nonplanar Angle',\n",
       "       'Tenting Height', 'Ao Plane - Mitr Plane Angle', 'Annul Height',\n",
       "       'Prolapse Vol', 'Ant Leaflet Angle', 'Post Leaflet Angle',\n",
       "       'Prolapse Height', 'MV diam 2', 'MR RF', 'MV flow area',\n",
       "       'MVA(2 diam)', 'SV(MV)', '10_EDV(3DQA)', '10_ESV(3DQA)',\n",
       "       '10_EF(3DQA)', '10_Long Strain(AP3)(aCMQ)', '10_EDV(AP4)(a2DQ)',\n",
       "       '10_ESV(AP4)(a2DQ)', '10_EF(AP4)(a2DQ)', '10_EDV(AP2)(a2DQ)',\n",
       "       '10_ESV(AP2)(a2DQ)', '10_EF(AP2)(a2DQ)', '10_EF(Bi-Plane)(a2DQ)',\n",
       "       '10_Long Strain(AP2)(aCMQ)', '10_Global Long Strain(aCMQ)',\n",
       "       '10_Long Strain(AP4)(aCMQ)', 'MPI [70]', 'MPI 70',\n",
       "       'MPI 70 (x1000)', 'MPI 70a', 'MPI 70b', 'MPI 70c', 'MPI 70d',\n",
       "       'MPI 70e', 'MPI 70f', 'MPI 70g', 'TV E max vel', 'TV A max vel',\n",
       "       'TV E/A', '10_MV Ann2D Circ', '10_MV Ann3D Min Area',\n",
       "       '10_MV Ann Ellipsicity', '10_MV Leaf 3D Area',\n",
       "       '10_MV 2D Ann Ht/AP Diam', 'LVIDd Indexed',\n",
       "       'SV (LVOT) Indexed BSA: ml/m^2', 'AVA (lvot area)', 'RF(MV,LVOT)',\n",
       "       '10_EDV(3DQ)', '10_ESV(3DQ)', '10_EF(3DQ)', \"E/E' Average\",\n",
       "       'LVOT d (2D)', 'MPI [170]', 'MPI 170 (x1000)', 'VV Delay - LV45',\n",
       "       'VV Delay - RV45', 'VV Delay - RV65',\n",
       "       'LA Vol (2D biplane) index BSA', 'PCWP',\n",
       "       'LVsys vol 3D (Indexed BSA)', 'RA Vol (2D)',\n",
       "       'SV (3DQA) indexed BSA', 'LV mass(AL)d', 'LV mass(AL)dI',\n",
       "       'TV annulus(A4C)/BSA cm/m^2', 'TV annulus (A4C)', 'PVA(I,A)',\n",
       "       'PVA(I,D)', 'RVD2 (A4C)', 'Right Atrial Vol (A4C) Length',\n",
       "       'RVD1 (A4C)', 'RVOT1 (PSAX)', 'RVOT (PLAX)', 'RVOT2 (PSAX)',\n",
       "       'RVD3 (A4C)', 'RVSP(TR)', 'RAP systole', 'LV SDI (4D LVA)',\n",
       "       'LV EDV (4D LVA)', 'LV EDVi (4D LVA)', 'LV EF (4D LVA)',\n",
       "       'LV mass (4D LVA)', 'LV ESV (4D LVA)', 'LV ESVi (4D LVA)',\n",
       "       'LV SV (4D LVA)', 'VV Delay - LV 70', 'RF(Ao,PV)', 'RF(PV,Ao)',\n",
       "       'LV pk 1', 'desc Ao Diam', 'VV Delay - LV35',\n",
       "       '10_Global Circ Strain(aCMQ)', 'LA Systolic Volume  (HM)',\n",
       "       'LVEF (HM)', 'LV Stroke Volume (HM)', 'LV EDV  (HM)',\n",
       "       'LV ESV  (HM)', 'LV vmax Rest', 'RF(MV,Ao)(1 diam)',\n",
       "       'Ao Isth Diam', 'LV VTI Rest', 'MVA (PISA)', 'Pulm. HR',\n",
       "       'BP peak sys (VSD)', 'RVSP(VSD)', 'LAV(MOD-sp4)', 'LVs major',\n",
       "       'HR (HM)_phl', 'LV Length ED (HM)', 'LV Length ES (HM)',\n",
       "       'AV VR_phl', \"RV S'\", 'TAPSE_phl', 'AV P1/2t-pr_phl',\n",
       "       'LV Mass - End Dias', 'LA Systolic Volume (HM)', 'MV P1/2t-pr_phl',\n",
       "       'LA Volume (A2C)', 'LA Vol (biplane) Index', 'LA Volume (bp mean)',\n",
       "       'AVA(VTI)/BSA_phl', 'EF (HM)', 'SV (HM)_phl', 'EDV (HM)',\n",
       "       'ESV (HM)', 'RA ESA_phl', 'AV Vmax-pr_phl', 'AV VTI-pr_phl',\n",
       "       'RA A4Cs_phl', 'Ao Sinus Diam_phl', 'IVC collapse', 'MAPSE_phl',\n",
       "       'IVC Diam Exp_phl', 'IVC Diam Ins_phl', 'RV Base_phl',\n",
       "       'RV Length_phl', 'RV Mid_phl', 'IVC Diam Exp(MM)_phl',\n",
       "       'IVC Diam Ins(MM)_phl', 'MV annu diam', 'MV annu area',\n",
       "       'LVET (DOP)_phl', 'LAV(MOD-bp)', 'LAV(MOD-bp) Indexed',\n",
       "       'LAV(MOD-sp2)', 'Ao Sinus Major_phl', 'RV ESA',\n",
       "       'Ascending Aorta index (mm/m)', 'Ao STJ Diam_phl',\n",
       "       'Ao Ann Diam_phl', 'RV Ejection Fraction(3D)',\n",
       "       'RVLd base (RVD3 4D RVF)', 'RVfree strain 3D Tomtec',\n",
       "       'RVseptum strain 3D Tomtec', 'RVFAC 2D Tomtec',\n",
       "       'RV TAPSE 2D (4D RVF)', 'RVDd mid (RVD2 4D RVF)',\n",
       "       'RVDd base (RVD1 4D RVF)', 'RV EDV(3D)', 'RV EDVi (4D RVF)',\n",
       "       'RV ESV(3D)', 'RV ESVi (4D RVF)', 'RV Stroke Volume (3D)',\n",
       "       'Prox ascAo Diam_phl', 'PI Vmax_phl', 'Stress LVOT VTI (low dose)',\n",
       "       'Stress SV (low dose)', 'Stress SV Index (low dose)',\n",
       "       'LA Area_phl', 'LV endo GLS (2D CPA)', 'LV SD-Ttp-LS (2D CPA)',\n",
       "       'LV EDV (2D CPA)', 'LV EF (2D CPA)', 'LV ESV (2D CPA)',\n",
       "       'PR P1/2t_phl', 'LA EF (2D CPA)', 'LA Endo GLS (2D CPA)',\n",
       "       'LA EDV (2D CPA)', 'LA ESV (2D CPA)', 'RA A4C-A/L_phl', 'RV EDA',\n",
       "       'RV FAC', 'AR Diam(MM)_phl', 'RVDd mid (RVD1 2D CPA)',\n",
       "       'Stress Systolic ET (low dose)', 'Stress Systolic ET (rest)',\n",
       "       'MV Ann Major_phl', 'Stress Systolic ET (peak)',\n",
       "       'Ao Sinus Minor_phl', 'Stress AV PG max (peak)',\n",
       "       'Stress AV PG max (low d)', 'Stress AV PG max (rest)',\n",
       "       'TV dec time', 'IVC Diam_phl', 'RA Width_phl', 'TR VTI',\n",
       "       'LA Volume (HM)_phl', 'MR VC_phl', 'LA A2C-A/L_phl',\n",
       "       'RA A2C-A/L_phl', 'MV VTI-pr_phl', 'RA Length_phl',\n",
       "       'LA Length_phl', 'MV Vmax-pr_phl', 'Aortic Sinus index (mm/m)',\n",
       "       'MV max PG (Pk Ex)', 'TR VC_phl', 'MR Jet Area_phl', 'PR VC_phl',\n",
       "       'TV Annulus_phl', 'Eccentricity index - Diastole', 'Tricusp. R-R',\n",
       "       'Tricusp. HR', 'VV Delay - 0', 'VV Delay - RV15', 'LV VTI 5mcg',\n",
       "       'LV VTI 10mcg', 'VV Delay - LV5', 'VV Delay - LV65',\n",
       "       'VV Delay - RV55', 'VSD diam major', 'VV Delay = 0',\n",
       "       'VV Delay - RV35', 'EDV_BP-TEMPL', 'ESV_BP-TEMPL', 'EF_BP-TEMPL',\n",
       "       'LVET', 'Vcf mean', 'LV_dP/dt', 'LVOT Accel Slope',\n",
       "       'Time (Physio)', 'LV Mass - End Sys', 'MV dec slope (Pk Ex)',\n",
       "       'MV V2 max (Pk Ex)', 'LV pk 2', 'LV pk 3',\n",
       "       'Exp. Ant Leaflets 3D Area', 'Exp. Post Leaflets 3D Area',\n",
       "       'Exp. Ant Leaflet', 'Exp. Post Leaflet', 'Coapt 2D', 'CO(PV)',\n",
       "       'Qp/Qs (I,LVOT)', 'RF(MV,Ao)', 'SI(sp-el)', 'SV(sp-el)',\n",
       "       'AI Accel Slope'], dtype=object)"
      ]
     },
     "execution_count": 11,
     "metadata": {},
     "output_type": "execute_result"
    }
   ],
   "source": [
    "echos['measname'].unique()"
   ]
  },
  {
   "cell_type": "code",
   "execution_count": 12,
   "id": "5980f2a8",
   "metadata": {},
   "outputs": [
    {
     "data": {
      "text/plain": [
       "(202064, 19)"
      ]
     },
     "execution_count": 12,
     "metadata": {},
     "output_type": "execute_result"
    }
   ],
   "source": [
    "echos = echos[echos['medicalrecordnumber'].isin(ids)]\n",
    "echos.shape"
   ]
  },
  {
   "cell_type": "code",
   "execution_count": 13,
   "id": "9821e730",
   "metadata": {},
   "outputs": [
    {
     "data": {
      "text/plain": [
       "0"
      ]
     },
     "execution_count": 13,
     "metadata": {},
     "output_type": "execute_result"
    }
   ],
   "source": [
    "echos['studystartdatetime'].isna().sum()"
   ]
  },
  {
   "cell_type": "code",
   "execution_count": 14,
   "id": "9efb17fc",
   "metadata": {},
   "outputs": [],
   "source": [
    "echos = echos[['medicalrecordnumber', 'studystartdatetime', 'findingcodetext']]"
   ]
  },
  {
   "cell_type": "code",
   "execution_count": 15,
   "id": "9138aad4",
   "metadata": {},
   "outputs": [],
   "source": [
    "echos.rename(columns =  {'medicalrecordnumber': 'client_idcode'}, inplace = True)"
   ]
  },
  {
   "cell_type": "code",
   "execution_count": 16,
   "id": "f9ba9717",
   "metadata": {},
   "outputs": [
    {
     "data": {
      "text/html": [
       "<div>\n",
       "<style scoped>\n",
       "    .dataframe tbody tr th:only-of-type {\n",
       "        vertical-align: middle;\n",
       "    }\n",
       "\n",
       "    .dataframe tbody tr th {\n",
       "        vertical-align: top;\n",
       "    }\n",
       "\n",
       "    .dataframe thead th {\n",
       "        text-align: right;\n",
       "    }\n",
       "</style>\n",
       "<table border=\"1\" class=\"dataframe\">\n",
       "  <thead>\n",
       "    <tr style=\"text-align: right;\">\n",
       "      <th></th>\n",
       "      <th>client_idcode</th>\n",
       "      <th>studystartdatetime</th>\n",
       "      <th>findingcodetext</th>\n",
       "    </tr>\n",
       "  </thead>\n",
       "  <tbody>\n",
       "    <tr>\n",
       "      <th>93</th>\n",
       "      <td>P051583</td>\n",
       "      <td>2014-01-02 17:01:12</td>\n",
       "      <td>The left ventricle is severely dilated. There ...</td>\n",
       "    </tr>\n",
       "    <tr>\n",
       "      <th>94</th>\n",
       "      <td>P051583</td>\n",
       "      <td>2014-01-02 17:01:12</td>\n",
       "      <td>The left ventricle is severely dilated. There ...</td>\n",
       "    </tr>\n",
       "    <tr>\n",
       "      <th>95</th>\n",
       "      <td>P051583</td>\n",
       "      <td>2014-01-02 17:01:12</td>\n",
       "      <td>The left ventricle is severely dilated. There ...</td>\n",
       "    </tr>\n",
       "    <tr>\n",
       "      <th>96</th>\n",
       "      <td>P051583</td>\n",
       "      <td>2014-01-02 17:01:12</td>\n",
       "      <td>The left ventricle is severely dilated. There ...</td>\n",
       "    </tr>\n",
       "    <tr>\n",
       "      <th>97</th>\n",
       "      <td>P051583</td>\n",
       "      <td>2014-01-02 17:01:12</td>\n",
       "      <td>The left ventricle is severely dilated. There ...</td>\n",
       "    </tr>\n",
       "  </tbody>\n",
       "</table>\n",
       "</div>"
      ],
      "text/plain": [
       "   client_idcode   studystartdatetime  \\\n",
       "93       P051583  2014-01-02 17:01:12   \n",
       "94       P051583  2014-01-02 17:01:12   \n",
       "95       P051583  2014-01-02 17:01:12   \n",
       "96       P051583  2014-01-02 17:01:12   \n",
       "97       P051583  2014-01-02 17:01:12   \n",
       "\n",
       "                                      findingcodetext  \n",
       "93  The left ventricle is severely dilated. There ...  \n",
       "94  The left ventricle is severely dilated. There ...  \n",
       "95  The left ventricle is severely dilated. There ...  \n",
       "96  The left ventricle is severely dilated. There ...  \n",
       "97  The left ventricle is severely dilated. There ...  "
      ]
     },
     "execution_count": 16,
     "metadata": {},
     "output_type": "execute_result"
    }
   ],
   "source": [
    "echos.head()"
   ]
  },
  {
   "cell_type": "markdown",
   "id": "1c0d35b1",
   "metadata": {},
   "source": [
    "# Identifying non-valvular AF patients"
   ]
  },
  {
   "cell_type": "code",
   "execution_count": 17,
   "id": "80d4a871",
   "metadata": {},
   "outputs": [],
   "source": [
    "df = pd.merge(echos, df, on='client_idcode', how='right') "
   ]
  },
  {
   "cell_type": "code",
   "execution_count": 18,
   "id": "9e842fe8",
   "metadata": {},
   "outputs": [
    {
     "data": {
      "text/html": [
       "<div>\n",
       "<style scoped>\n",
       "    .dataframe tbody tr th:only-of-type {\n",
       "        vertical-align: middle;\n",
       "    }\n",
       "\n",
       "    .dataframe tbody tr th {\n",
       "        vertical-align: top;\n",
       "    }\n",
       "\n",
       "    .dataframe thead th {\n",
       "        text-align: right;\n",
       "    }\n",
       "</style>\n",
       "<table border=\"1\" class=\"dataframe\">\n",
       "  <thead>\n",
       "    <tr style=\"text-align: right;\">\n",
       "      <th></th>\n",
       "      <th>client_idcode</th>\n",
       "      <th>studystartdatetime</th>\n",
       "      <th>findingcodetext</th>\n",
       "      <th>first_mention_rivaroxaban</th>\n",
       "    </tr>\n",
       "  </thead>\n",
       "  <tbody>\n",
       "    <tr>\n",
       "      <th>0</th>\n",
       "      <td>0372858</td>\n",
       "      <td>NaN</td>\n",
       "      <td>NaN</td>\n",
       "      <td>2015-03-02</td>\n",
       "    </tr>\n",
       "    <tr>\n",
       "      <th>1</th>\n",
       "      <td>M282816</td>\n",
       "      <td>2018-11-05 07:57:20</td>\n",
       "      <td>The left ventricle is normal in size. A false ...</td>\n",
       "      <td>2018-10-25</td>\n",
       "    </tr>\n",
       "    <tr>\n",
       "      <th>2</th>\n",
       "      <td>M282816</td>\n",
       "      <td>2018-11-05 07:57:20</td>\n",
       "      <td>The left ventricle is normal in size. A false ...</td>\n",
       "      <td>2018-10-25</td>\n",
       "    </tr>\n",
       "    <tr>\n",
       "      <th>3</th>\n",
       "      <td>M282816</td>\n",
       "      <td>2018-11-05 07:57:20</td>\n",
       "      <td>The left ventricle is normal in size. A false ...</td>\n",
       "      <td>2018-10-25</td>\n",
       "    </tr>\n",
       "    <tr>\n",
       "      <th>4</th>\n",
       "      <td>M282816</td>\n",
       "      <td>2018-11-05 07:57:20</td>\n",
       "      <td>The left ventricle is normal in size. A false ...</td>\n",
       "      <td>2018-10-25</td>\n",
       "    </tr>\n",
       "  </tbody>\n",
       "</table>\n",
       "</div>"
      ],
      "text/plain": [
       "  client_idcode   studystartdatetime  \\\n",
       "0       0372858                  NaN   \n",
       "1       M282816  2018-11-05 07:57:20   \n",
       "2       M282816  2018-11-05 07:57:20   \n",
       "3       M282816  2018-11-05 07:57:20   \n",
       "4       M282816  2018-11-05 07:57:20   \n",
       "\n",
       "                                     findingcodetext first_mention_rivaroxaban  \n",
       "0                                                NaN                2015-03-02  \n",
       "1  The left ventricle is normal in size. A false ...                2018-10-25  \n",
       "2  The left ventricle is normal in size. A false ...                2018-10-25  \n",
       "3  The left ventricle is normal in size. A false ...                2018-10-25  \n",
       "4  The left ventricle is normal in size. A false ...                2018-10-25  "
      ]
     },
     "execution_count": 18,
     "metadata": {},
     "output_type": "execute_result"
    }
   ],
   "source": [
    "df.head()"
   ]
  },
  {
   "cell_type": "code",
   "execution_count": 19,
   "id": "f753100f",
   "metadata": {},
   "outputs": [
    {
     "data": {
      "text/plain": [
       "1076"
      ]
     },
     "execution_count": 19,
     "metadata": {},
     "output_type": "execute_result"
    }
   ],
   "source": [
    "df['studystartdatetime'].isna().sum()"
   ]
  },
  {
   "cell_type": "code",
   "execution_count": 20,
   "id": "e55e0fe8",
   "metadata": {},
   "outputs": [
    {
     "data": {
      "text/plain": [
       "1509"
      ]
     },
     "execution_count": 20,
     "metadata": {},
     "output_type": "execute_result"
    }
   ],
   "source": [
    "df = df[df['studystartdatetime'].notna()]\n",
    "df['client_idcode'].nunique()"
   ]
  },
  {
   "cell_type": "code",
   "execution_count": 21,
   "id": "bb4646dc",
   "metadata": {},
   "outputs": [
    {
     "data": {
      "text/plain": [
       "2585"
      ]
     },
     "execution_count": 21,
     "metadata": {},
     "output_type": "execute_result"
    }
   ],
   "source": [
    "1509+1076"
   ]
  },
  {
   "cell_type": "code",
   "execution_count": 22,
   "id": "7960efac",
   "metadata": {},
   "outputs": [],
   "source": [
    "df['studystartdatetime'] = pd.to_datetime(df['studystartdatetime'], utc=True).dt.date "
   ]
  },
  {
   "cell_type": "code",
   "execution_count": 23,
   "id": "1d48396a",
   "metadata": {},
   "outputs": [
    {
     "data": {
      "text/html": [
       "<div>\n",
       "<style scoped>\n",
       "    .dataframe tbody tr th:only-of-type {\n",
       "        vertical-align: middle;\n",
       "    }\n",
       "\n",
       "    .dataframe tbody tr th {\n",
       "        vertical-align: top;\n",
       "    }\n",
       "\n",
       "    .dataframe thead th {\n",
       "        text-align: right;\n",
       "    }\n",
       "</style>\n",
       "<table border=\"1\" class=\"dataframe\">\n",
       "  <thead>\n",
       "    <tr style=\"text-align: right;\">\n",
       "      <th></th>\n",
       "      <th>client_idcode</th>\n",
       "      <th>studystartdatetime</th>\n",
       "      <th>findingcodetext</th>\n",
       "      <th>first_mention_rivaroxaban</th>\n",
       "    </tr>\n",
       "  </thead>\n",
       "  <tbody>\n",
       "    <tr>\n",
       "      <th>1</th>\n",
       "      <td>M282816</td>\n",
       "      <td>2018-11-05</td>\n",
       "      <td>The left ventricle is normal in size. A false ...</td>\n",
       "      <td>2018-10-25</td>\n",
       "    </tr>\n",
       "    <tr>\n",
       "      <th>2</th>\n",
       "      <td>M282816</td>\n",
       "      <td>2018-11-05</td>\n",
       "      <td>The left ventricle is normal in size. A false ...</td>\n",
       "      <td>2018-10-25</td>\n",
       "    </tr>\n",
       "    <tr>\n",
       "      <th>3</th>\n",
       "      <td>M282816</td>\n",
       "      <td>2018-11-05</td>\n",
       "      <td>The left ventricle is normal in size. A false ...</td>\n",
       "      <td>2018-10-25</td>\n",
       "    </tr>\n",
       "    <tr>\n",
       "      <th>4</th>\n",
       "      <td>M282816</td>\n",
       "      <td>2018-11-05</td>\n",
       "      <td>The left ventricle is normal in size. A false ...</td>\n",
       "      <td>2018-10-25</td>\n",
       "    </tr>\n",
       "    <tr>\n",
       "      <th>5</th>\n",
       "      <td>M282816</td>\n",
       "      <td>2018-11-05</td>\n",
       "      <td>The left ventricle is normal in size. A false ...</td>\n",
       "      <td>2018-10-25</td>\n",
       "    </tr>\n",
       "  </tbody>\n",
       "</table>\n",
       "</div>"
      ],
      "text/plain": [
       "  client_idcode studystartdatetime  \\\n",
       "1       M282816         2018-11-05   \n",
       "2       M282816         2018-11-05   \n",
       "3       M282816         2018-11-05   \n",
       "4       M282816         2018-11-05   \n",
       "5       M282816         2018-11-05   \n",
       "\n",
       "                                     findingcodetext first_mention_rivaroxaban  \n",
       "1  The left ventricle is normal in size. A false ...                2018-10-25  \n",
       "2  The left ventricle is normal in size. A false ...                2018-10-25  \n",
       "3  The left ventricle is normal in size. A false ...                2018-10-25  \n",
       "4  The left ventricle is normal in size. A false ...                2018-10-25  \n",
       "5  The left ventricle is normal in size. A false ...                2018-10-25  "
      ]
     },
     "execution_count": 23,
     "metadata": {},
     "output_type": "execute_result"
    }
   ],
   "source": [
    "df.head()"
   ]
  },
  {
   "cell_type": "code",
   "execution_count": 24,
   "id": "5bec230d",
   "metadata": {},
   "outputs": [
    {
     "name": "stdout",
     "output_type": "stream",
     "text": [
      "CPU times: user 81.7 ms, sys: 4.19 ms, total: 85.9 ms\n",
      "Wall time: 84.9 ms\n"
     ]
    }
   ],
   "source": [
    "%%time \n",
    "df['difference'] = pd.to_datetime(df['first_mention_rivaroxaban']) - pd.to_datetime(df['studystartdatetime'])\n",
    "min_time = datetime.timedelta(days=1) \n",
    "max_time = datetime.timedelta(days=183)\n",
    "t1 = df['difference'] >= min_time \n",
    "t2 = df['difference'] <= max_time\n",
    "in_window = t1 & t2 \n",
    "df['in_window'] = in_window"
   ]
  },
  {
   "cell_type": "code",
   "execution_count": 25,
   "id": "5fa706dd",
   "metadata": {},
   "outputs": [
    {
     "data": {
      "text/plain": [
       "669"
      ]
     },
     "execution_count": 25,
     "metadata": {},
     "output_type": "execute_result"
    }
   ],
   "source": [
    "df = df.loc[df['in_window'] == True]\n",
    "df['client_idcode'].nunique()"
   ]
  },
  {
   "cell_type": "code",
   "execution_count": 26,
   "id": "d0d9e732",
   "metadata": {},
   "outputs": [],
   "source": [
    "df.reset_index(drop=True, inplace=True)"
   ]
  },
  {
   "cell_type": "code",
   "execution_count": 27,
   "id": "7ef550b3",
   "metadata": {},
   "outputs": [
    {
     "data": {
      "text/html": [
       "<div>\n",
       "<style scoped>\n",
       "    .dataframe tbody tr th:only-of-type {\n",
       "        vertical-align: middle;\n",
       "    }\n",
       "\n",
       "    .dataframe tbody tr th {\n",
       "        vertical-align: top;\n",
       "    }\n",
       "\n",
       "    .dataframe thead th {\n",
       "        text-align: right;\n",
       "    }\n",
       "</style>\n",
       "<table border=\"1\" class=\"dataframe\">\n",
       "  <thead>\n",
       "    <tr style=\"text-align: right;\">\n",
       "      <th></th>\n",
       "      <th>client_idcode</th>\n",
       "      <th>studystartdatetime</th>\n",
       "      <th>findingcodetext</th>\n",
       "      <th>first_mention_rivaroxaban</th>\n",
       "      <th>difference</th>\n",
       "      <th>in_window</th>\n",
       "    </tr>\n",
       "  </thead>\n",
       "  <tbody>\n",
       "    <tr>\n",
       "      <th>0</th>\n",
       "      <td>V459668</td>\n",
       "      <td>2015-06-17</td>\n",
       "      <td>The left ventricle is normal in size. There is...</td>\n",
       "      <td>2015-06-25</td>\n",
       "      <td>8 days</td>\n",
       "      <td>True</td>\n",
       "    </tr>\n",
       "    <tr>\n",
       "      <th>1</th>\n",
       "      <td>V459668</td>\n",
       "      <td>2015-06-17</td>\n",
       "      <td>The left ventricle is normal in size. There is...</td>\n",
       "      <td>2015-06-25</td>\n",
       "      <td>8 days</td>\n",
       "      <td>True</td>\n",
       "    </tr>\n",
       "    <tr>\n",
       "      <th>2</th>\n",
       "      <td>V459668</td>\n",
       "      <td>2015-06-17</td>\n",
       "      <td>The left ventricle is normal in size. There is...</td>\n",
       "      <td>2015-06-25</td>\n",
       "      <td>8 days</td>\n",
       "      <td>True</td>\n",
       "    </tr>\n",
       "    <tr>\n",
       "      <th>3</th>\n",
       "      <td>V459668</td>\n",
       "      <td>2015-06-17</td>\n",
       "      <td>The left ventricle is normal in size. There is...</td>\n",
       "      <td>2015-06-25</td>\n",
       "      <td>8 days</td>\n",
       "      <td>True</td>\n",
       "    </tr>\n",
       "    <tr>\n",
       "      <th>4</th>\n",
       "      <td>V459668</td>\n",
       "      <td>2015-06-17</td>\n",
       "      <td>The left ventricle is normal in size. There is...</td>\n",
       "      <td>2015-06-25</td>\n",
       "      <td>8 days</td>\n",
       "      <td>True</td>\n",
       "    </tr>\n",
       "  </tbody>\n",
       "</table>\n",
       "</div>"
      ],
      "text/plain": [
       "  client_idcode studystartdatetime  \\\n",
       "0       V459668         2015-06-17   \n",
       "1       V459668         2015-06-17   \n",
       "2       V459668         2015-06-17   \n",
       "3       V459668         2015-06-17   \n",
       "4       V459668         2015-06-17   \n",
       "\n",
       "                                     findingcodetext  \\\n",
       "0  The left ventricle is normal in size. There is...   \n",
       "1  The left ventricle is normal in size. There is...   \n",
       "2  The left ventricle is normal in size. There is...   \n",
       "3  The left ventricle is normal in size. There is...   \n",
       "4  The left ventricle is normal in size. There is...   \n",
       "\n",
       "  first_mention_rivaroxaban difference  in_window  \n",
       "0                2015-06-25     8 days       True  \n",
       "1                2015-06-25     8 days       True  \n",
       "2                2015-06-25     8 days       True  \n",
       "3                2015-06-25     8 days       True  \n",
       "4                2015-06-25     8 days       True  "
      ]
     },
     "execution_count": 27,
     "metadata": {},
     "output_type": "execute_result"
    }
   ],
   "source": [
    "df.head()"
   ]
  },
  {
   "cell_type": "markdown",
   "id": "1027bfa2",
   "metadata": {},
   "source": [
    "## Cleaning text data"
   ]
  },
  {
   "cell_type": "code",
   "execution_count": 28,
   "id": "32d37ee3",
   "metadata": {},
   "outputs": [
    {
     "data": {
      "text/plain": [
       "'The left ventricle is normal in size. There is normal left ventricular wall thickness. The transmitral spectral Doppler flow pattern is suggestive of impaired LV relaxation. Flattened septum is consistent with RV pressure/volume overload. The right ventricle is mildly dilated. A moderator band is seen in the right ventricle. The right ventricular systolic function is borderline reduced. The left atrium is mildly dilated. The right atrium is mildly dilated. There is mild mitral leaflet thickening. The tricuspid valve leaflets are thin and pliable. There is mild tricuspid regurgitation. Right ventricular systolic pressure is elevated at 54 mmHg + RAP 10-15 mmHg. The aortic valve is trileaflet. The aortic valve opens well. The aortic valve is mildly thickened. Mild aortic regurgitation. The pulmonic valve is not well seen, but is grossly normal. The aortic root is normal size. Normal size ascending aorta. Normal size aortic arch. There is no pericardial effusion. There is mild mitral regurgitation. A two-dimensional transthoracic echocardiogram was performed. A two-dimensional transthoracic echocardiogram was performed'"
      ]
     },
     "execution_count": 28,
     "metadata": {},
     "output_type": "execute_result"
    }
   ],
   "source": [
    "df.loc[0,'findingcodetext']"
   ]
  },
  {
   "cell_type": "code",
   "execution_count": 29,
   "id": "94629679",
   "metadata": {},
   "outputs": [
    {
     "name": "stdout",
     "output_type": "stream",
     "text": [
      "<class 'pandas.core.frame.DataFrame'>\n",
      "RangeIndex: 40750 entries, 0 to 40749\n",
      "Data columns (total 6 columns):\n",
      " #   Column                     Non-Null Count  Dtype          \n",
      "---  ------                     --------------  -----          \n",
      " 0   client_idcode              40750 non-null  object         \n",
      " 1   studystartdatetime         40750 non-null  object         \n",
      " 2   findingcodetext            39889 non-null  object         \n",
      " 3   first_mention_rivaroxaban  40750 non-null  object         \n",
      " 4   difference                 40750 non-null  timedelta64[ns]\n",
      " 5   in_window                  40750 non-null  bool           \n",
      "dtypes: bool(1), object(4), timedelta64[ns](1)\n",
      "memory usage: 1.6+ MB\n"
     ]
    }
   ],
   "source": [
    "df.info()"
   ]
  },
  {
   "cell_type": "code",
   "execution_count": 30,
   "id": "6b973c03",
   "metadata": {},
   "outputs": [],
   "source": [
    "def clean_text(text):\n",
    "    \n",
    "    if isinstance(text,str):\n",
    "        \n",
    "        # Convert to lowercase\n",
    "        text = text.lower()\n",
    "   \n",
    "        # Remove punctuation\n",
    "        text = re.sub(r'[^\\w\\s]', '', text)\n",
    "   \n",
    "        # Remove extra spaces\n",
    "        text = ' '.join(text.split())\n",
    "   \n",
    "    return text"
   ]
  },
  {
   "cell_type": "code",
   "execution_count": 31,
   "id": "84a563c5",
   "metadata": {},
   "outputs": [],
   "source": [
    "df['findingcodetext'] =  df['findingcodetext'].apply(clean_text)"
   ]
  },
  {
   "cell_type": "code",
   "execution_count": 32,
   "id": "38cce691",
   "metadata": {},
   "outputs": [
    {
     "data": {
      "text/plain": [
       "'the left ventricle is normal in size there is normal left ventricular wall thickness the transmitral spectral doppler flow pattern is suggestive of impaired lv relaxation flattened septum is consistent with rv pressurevolume overload the right ventricle is mildly dilated a moderator band is seen in the right ventricle the right ventricular systolic function is borderline reduced the left atrium is mildly dilated the right atrium is mildly dilated there is mild mitral leaflet thickening the tricuspid valve leaflets are thin and pliable there is mild tricuspid regurgitation right ventricular systolic pressure is elevated at 54 mmhg rap 1015 mmhg the aortic valve is trileaflet the aortic valve opens well the aortic valve is mildly thickened mild aortic regurgitation the pulmonic valve is not well seen but is grossly normal the aortic root is normal size normal size ascending aorta normal size aortic arch there is no pericardial effusion there is mild mitral regurgitation a twodimensional transthoracic echocardiogram was performed a twodimensional transthoracic echocardiogram was performed'"
      ]
     },
     "execution_count": 32,
     "metadata": {},
     "output_type": "execute_result"
    }
   ],
   "source": [
    "df.loc[0,'findingcodetext']"
   ]
  },
  {
   "cell_type": "markdown",
   "id": "aaeb7c7e",
   "metadata": {},
   "source": [
    "### Severe mitral stenosis"
   ]
  },
  {
   "cell_type": "code",
   "execution_count": 43,
   "id": "6e6f2bd8",
   "metadata": {},
   "outputs": [
    {
     "data": {
      "text/plain": [
       "(13, 6)"
      ]
     },
     "execution_count": 43,
     "metadata": {},
     "output_type": "execute_result"
    }
   ],
   "source": [
    "df1 = df[df['findingcodetext'].str.contains('severe mitral stenosis', regex=True, na=False)]\n",
    "df1.shape"
   ]
  },
  {
   "cell_type": "code",
   "execution_count": 34,
   "id": "0f8840b6",
   "metadata": {},
   "outputs": [
    {
     "data": {
      "text/plain": [
       "1"
      ]
     },
     "execution_count": 34,
     "metadata": {},
     "output_type": "execute_result"
    }
   ],
   "source": [
    "df1['client_idcode'].nunique()"
   ]
  },
  {
   "cell_type": "code",
   "execution_count": 35,
   "id": "d3fb5604",
   "metadata": {},
   "outputs": [
    {
     "data": {
      "text/html": [
       "<div>\n",
       "<style scoped>\n",
       "    .dataframe tbody tr th:only-of-type {\n",
       "        vertical-align: middle;\n",
       "    }\n",
       "\n",
       "    .dataframe tbody tr th {\n",
       "        vertical-align: top;\n",
       "    }\n",
       "\n",
       "    .dataframe thead th {\n",
       "        text-align: right;\n",
       "    }\n",
       "</style>\n",
       "<table border=\"1\" class=\"dataframe\">\n",
       "  <thead>\n",
       "    <tr style=\"text-align: right;\">\n",
       "      <th></th>\n",
       "      <th>client_idcode</th>\n",
       "      <th>studystartdatetime</th>\n",
       "      <th>findingcodetext</th>\n",
       "      <th>first_mention_rivaroxaban</th>\n",
       "      <th>difference</th>\n",
       "      <th>in_window</th>\n",
       "    </tr>\n",
       "  </thead>\n",
       "  <tbody>\n",
       "    <tr>\n",
       "      <th>920</th>\n",
       "      <td>V443850</td>\n",
       "      <td>2017-01-23</td>\n",
       "      <td>the left ventricle is normal in size left vent...</td>\n",
       "      <td>2017-02-03</td>\n",
       "      <td>11 days</td>\n",
       "      <td>True</td>\n",
       "    </tr>\n",
       "    <tr>\n",
       "      <th>921</th>\n",
       "      <td>V443850</td>\n",
       "      <td>2017-01-23</td>\n",
       "      <td>the left ventricle is normal in size left vent...</td>\n",
       "      <td>2017-02-03</td>\n",
       "      <td>11 days</td>\n",
       "      <td>True</td>\n",
       "    </tr>\n",
       "    <tr>\n",
       "      <th>922</th>\n",
       "      <td>V443850</td>\n",
       "      <td>2017-01-23</td>\n",
       "      <td>the left ventricle is normal in size left vent...</td>\n",
       "      <td>2017-02-03</td>\n",
       "      <td>11 days</td>\n",
       "      <td>True</td>\n",
       "    </tr>\n",
       "    <tr>\n",
       "      <th>923</th>\n",
       "      <td>V443850</td>\n",
       "      <td>2017-01-23</td>\n",
       "      <td>the left ventricle is normal in size left vent...</td>\n",
       "      <td>2017-02-03</td>\n",
       "      <td>11 days</td>\n",
       "      <td>True</td>\n",
       "    </tr>\n",
       "    <tr>\n",
       "      <th>924</th>\n",
       "      <td>V443850</td>\n",
       "      <td>2017-01-23</td>\n",
       "      <td>the left ventricle is normal in size left vent...</td>\n",
       "      <td>2017-02-03</td>\n",
       "      <td>11 days</td>\n",
       "      <td>True</td>\n",
       "    </tr>\n",
       "  </tbody>\n",
       "</table>\n",
       "</div>"
      ],
      "text/plain": [
       "    client_idcode studystartdatetime  \\\n",
       "920       V443850         2017-01-23   \n",
       "921       V443850         2017-01-23   \n",
       "922       V443850         2017-01-23   \n",
       "923       V443850         2017-01-23   \n",
       "924       V443850         2017-01-23   \n",
       "\n",
       "                                       findingcodetext  \\\n",
       "920  the left ventricle is normal in size left vent...   \n",
       "921  the left ventricle is normal in size left vent...   \n",
       "922  the left ventricle is normal in size left vent...   \n",
       "923  the left ventricle is normal in size left vent...   \n",
       "924  the left ventricle is normal in size left vent...   \n",
       "\n",
       "    first_mention_rivaroxaban difference  in_window  \n",
       "920                2017-02-03    11 days       True  \n",
       "921                2017-02-03    11 days       True  \n",
       "922                2017-02-03    11 days       True  \n",
       "923                2017-02-03    11 days       True  \n",
       "924                2017-02-03    11 days       True  "
      ]
     },
     "execution_count": 35,
     "metadata": {},
     "output_type": "execute_result"
    }
   ],
   "source": [
    "df1.head()"
   ]
  },
  {
   "cell_type": "code",
   "execution_count": 36,
   "id": "4de22de7",
   "metadata": {},
   "outputs": [
    {
     "data": {
      "text/plain": [
       "'the left ventricle is normal in size left ventricular systolic function is normal the right ventricle is normal in size and function no thrombus is detected in the left atrial appendage the left atrium is severely dilated the right atrium is dilated no obvious atrial septum flowshunt seen using colour doppler there is moderate mitral leaflet thickening there is moderate to severe mitral stenosis the tricuspid valve leaflets are thin and pliable there is moderate tricuspid regurgitation right ventricular systolic pressure is elevated at 65mmhgrap the aortic valve opens well the aortic valve is tricuspid mild aortic regurgitation the pulmonic valve is not well seen but is grossly normal trace pulmonic valvular regurgitation the aortic root is normal size normal size ascending aorta a 2d transesophageal echocardiogram with doppler and color flow doppler was performed'"
      ]
     },
     "execution_count": 36,
     "metadata": {},
     "output_type": "execute_result"
    }
   ],
   "source": [
    "df1.loc[920,'findingcodetext']"
   ]
  },
  {
   "cell_type": "code",
   "execution_count": 37,
   "id": "c95c69f5",
   "metadata": {},
   "outputs": [
    {
     "data": {
      "text/plain": [
       "1"
      ]
     },
     "execution_count": 37,
     "metadata": {},
     "output_type": "execute_result"
    }
   ],
   "source": [
    "ids_1 = set(df1['client_idcode'])\n",
    "len(ids_1)"
   ]
  },
  {
   "cell_type": "markdown",
   "id": "74564b4a",
   "metadata": {},
   "source": [
    "### Severe mitral regurgitation"
   ]
  },
  {
   "cell_type": "code",
   "execution_count": 39,
   "id": "e12f6b52",
   "metadata": {},
   "outputs": [
    {
     "data": {
      "text/plain": [
       "(808, 6)"
      ]
     },
     "execution_count": 39,
     "metadata": {},
     "output_type": "execute_result"
    }
   ],
   "source": [
    "df2 = df[df['findingcodetext'].str.contains('severe mitral regurgitation', regex=True, na=False)]\n",
    "df2.shape"
   ]
  },
  {
   "cell_type": "code",
   "execution_count": 40,
   "id": "12c5273a",
   "metadata": {},
   "outputs": [
    {
     "data": {
      "text/plain": [
       "16"
      ]
     },
     "execution_count": 40,
     "metadata": {},
     "output_type": "execute_result"
    }
   ],
   "source": [
    "df2['client_idcode'].nunique()"
   ]
  },
  {
   "cell_type": "code",
   "execution_count": 40,
   "id": "705494d7",
   "metadata": {},
   "outputs": [
    {
     "data": {
      "text/html": [
       "<div>\n",
       "<style scoped>\n",
       "    .dataframe tbody tr th:only-of-type {\n",
       "        vertical-align: middle;\n",
       "    }\n",
       "\n",
       "    .dataframe tbody tr th {\n",
       "        vertical-align: top;\n",
       "    }\n",
       "\n",
       "    .dataframe thead th {\n",
       "        text-align: right;\n",
       "    }\n",
       "</style>\n",
       "<table border=\"1\" class=\"dataframe\">\n",
       "  <thead>\n",
       "    <tr style=\"text-align: right;\">\n",
       "      <th></th>\n",
       "      <th>client_idcode</th>\n",
       "      <th>studystartdatetime</th>\n",
       "      <th>findingcodetext</th>\n",
       "      <th>first_mention_rivaroxaban</th>\n",
       "      <th>difference</th>\n",
       "      <th>in_window</th>\n",
       "    </tr>\n",
       "  </thead>\n",
       "  <tbody>\n",
       "    <tr>\n",
       "      <th>2888</th>\n",
       "      <td>0640313</td>\n",
       "      <td>2018-09-06</td>\n",
       "      <td>the left ventricle is moderately dilated mild ...</td>\n",
       "      <td>2019-01-10</td>\n",
       "      <td>126 days</td>\n",
       "      <td>True</td>\n",
       "    </tr>\n",
       "    <tr>\n",
       "      <th>2889</th>\n",
       "      <td>0640313</td>\n",
       "      <td>2018-09-06</td>\n",
       "      <td>the left ventricle is moderately dilated mild ...</td>\n",
       "      <td>2019-01-10</td>\n",
       "      <td>126 days</td>\n",
       "      <td>True</td>\n",
       "    </tr>\n",
       "    <tr>\n",
       "      <th>2890</th>\n",
       "      <td>0640313</td>\n",
       "      <td>2018-09-06</td>\n",
       "      <td>the left ventricle is moderately dilated mild ...</td>\n",
       "      <td>2019-01-10</td>\n",
       "      <td>126 days</td>\n",
       "      <td>True</td>\n",
       "    </tr>\n",
       "    <tr>\n",
       "      <th>2891</th>\n",
       "      <td>0640313</td>\n",
       "      <td>2018-09-06</td>\n",
       "      <td>the left ventricle is moderately dilated mild ...</td>\n",
       "      <td>2019-01-10</td>\n",
       "      <td>126 days</td>\n",
       "      <td>True</td>\n",
       "    </tr>\n",
       "    <tr>\n",
       "      <th>2892</th>\n",
       "      <td>0640313</td>\n",
       "      <td>2018-09-06</td>\n",
       "      <td>the left ventricle is moderately dilated mild ...</td>\n",
       "      <td>2019-01-10</td>\n",
       "      <td>126 days</td>\n",
       "      <td>True</td>\n",
       "    </tr>\n",
       "  </tbody>\n",
       "</table>\n",
       "</div>"
      ],
      "text/plain": [
       "     client_idcode studystartdatetime  \\\n",
       "2888       0640313         2018-09-06   \n",
       "2889       0640313         2018-09-06   \n",
       "2890       0640313         2018-09-06   \n",
       "2891       0640313         2018-09-06   \n",
       "2892       0640313         2018-09-06   \n",
       "\n",
       "                                        findingcodetext  \\\n",
       "2888  the left ventricle is moderately dilated mild ...   \n",
       "2889  the left ventricle is moderately dilated mild ...   \n",
       "2890  the left ventricle is moderately dilated mild ...   \n",
       "2891  the left ventricle is moderately dilated mild ...   \n",
       "2892  the left ventricle is moderately dilated mild ...   \n",
       "\n",
       "     first_mention_rivaroxaban difference  in_window  \n",
       "2888                2019-01-10   126 days       True  \n",
       "2889                2019-01-10   126 days       True  \n",
       "2890                2019-01-10   126 days       True  \n",
       "2891                2019-01-10   126 days       True  \n",
       "2892                2019-01-10   126 days       True  "
      ]
     },
     "execution_count": 40,
     "metadata": {},
     "output_type": "execute_result"
    }
   ],
   "source": [
    "df2.head()"
   ]
  },
  {
   "cell_type": "code",
   "execution_count": 41,
   "id": "d85c9d64",
   "metadata": {},
   "outputs": [
    {
     "data": {
      "text/plain": [
       "'the left ventricle is moderately dilated mild concentric left ventricular hypertrophy ejection fraction lt30 severely impaired unable to assess lv filling pressures due to significant mitral regurgitation the right ventricle is moderately dilated there is a pacemaker lead in the right ventricle the right ventricular systolic function is moderately reduced the left atrium is severely dilated the right atrium is severely dilated there is mild mitral leaflet thickening the posterior mitral leaflet is restricted due to ischaemia the tricuspid valve leaflets are thin and pliable there is moderate to severe tricuspid regurgitation the aortic valve is normal in structure and function the pulmonic valve is normal in structure and function mild pulmonic valvular regurgitation the aortic root is normal size there is no pericardial effusion there is severe mitral regurgitation the mitral regurgitant jet is posteriorly directed which is consistent with anterior leaflet pathology a twodimensional transthoracic echocardiogram with mmode and doppler was performed a twodimensional transthoracic echocardiogram with mmode and doppler was performed there is no evidence of a mass or vegetation this does not rule out endocarditis there is no evidence of a mass or vegetation this does not rule out endocarditis this echocardiogram was performed bedside portable the heart rate was 69bpm the heart rhythm during the scan showed paced rhythm ppm'"
      ]
     },
     "execution_count": 41,
     "metadata": {},
     "output_type": "execute_result"
    }
   ],
   "source": [
    "df2.loc[2888,'findingcodetext']"
   ]
  },
  {
   "cell_type": "code",
   "execution_count": 42,
   "id": "4f8da5f5",
   "metadata": {},
   "outputs": [
    {
     "data": {
      "text/plain": [
       "16"
      ]
     },
     "execution_count": 42,
     "metadata": {},
     "output_type": "execute_result"
    }
   ],
   "source": [
    "ids_2 = set(df2['client_idcode'])\n",
    "len(ids_2)"
   ]
  },
  {
   "cell_type": "markdown",
   "id": "34768d06",
   "metadata": {},
   "source": [
    "### Moderate mitral stenosis"
   ]
  },
  {
   "cell_type": "code",
   "execution_count": 59,
   "id": "7b6d5bbc",
   "metadata": {},
   "outputs": [
    {
     "data": {
      "text/plain": [
       "(75, 6)"
      ]
     },
     "execution_count": 59,
     "metadata": {},
     "output_type": "execute_result"
    }
   ],
   "source": [
    "df3 = df[df['findingcodetext'].str.contains('there is moderate mitral stenosis', regex=True, na=False)]\n",
    "df3.shape"
   ]
  },
  {
   "cell_type": "code",
   "execution_count": 60,
   "id": "c0041277",
   "metadata": {},
   "outputs": [
    {
     "data": {
      "text/plain": [
       "1"
      ]
     },
     "execution_count": 60,
     "metadata": {},
     "output_type": "execute_result"
    }
   ],
   "source": [
    "df3['client_idcode'].nunique()"
   ]
  },
  {
   "cell_type": "code",
   "execution_count": 61,
   "id": "e54ab4b5",
   "metadata": {},
   "outputs": [
    {
     "data": {
      "text/html": [
       "<div>\n",
       "<style scoped>\n",
       "    .dataframe tbody tr th:only-of-type {\n",
       "        vertical-align: middle;\n",
       "    }\n",
       "\n",
       "    .dataframe tbody tr th {\n",
       "        vertical-align: top;\n",
       "    }\n",
       "\n",
       "    .dataframe thead th {\n",
       "        text-align: right;\n",
       "    }\n",
       "</style>\n",
       "<table border=\"1\" class=\"dataframe\">\n",
       "  <thead>\n",
       "    <tr style=\"text-align: right;\">\n",
       "      <th></th>\n",
       "      <th>client_idcode</th>\n",
       "      <th>studystartdatetime</th>\n",
       "      <th>findingcodetext</th>\n",
       "      <th>first_mention_rivaroxaban</th>\n",
       "      <th>difference</th>\n",
       "      <th>in_window</th>\n",
       "    </tr>\n",
       "  </thead>\n",
       "  <tbody>\n",
       "    <tr>\n",
       "      <th>35747</th>\n",
       "      <td>V309576</td>\n",
       "      <td>2014-10-24</td>\n",
       "      <td>the left ventricle is normal in size there is ...</td>\n",
       "      <td>2014-12-12</td>\n",
       "      <td>49 days</td>\n",
       "      <td>True</td>\n",
       "    </tr>\n",
       "    <tr>\n",
       "      <th>35748</th>\n",
       "      <td>V309576</td>\n",
       "      <td>2014-10-24</td>\n",
       "      <td>the left ventricle is normal in size there is ...</td>\n",
       "      <td>2014-12-12</td>\n",
       "      <td>49 days</td>\n",
       "      <td>True</td>\n",
       "    </tr>\n",
       "    <tr>\n",
       "      <th>35749</th>\n",
       "      <td>V309576</td>\n",
       "      <td>2014-10-24</td>\n",
       "      <td>the left ventricle is normal in size there is ...</td>\n",
       "      <td>2014-12-12</td>\n",
       "      <td>49 days</td>\n",
       "      <td>True</td>\n",
       "    </tr>\n",
       "    <tr>\n",
       "      <th>35750</th>\n",
       "      <td>V309576</td>\n",
       "      <td>2014-10-24</td>\n",
       "      <td>the left ventricle is normal in size there is ...</td>\n",
       "      <td>2014-12-12</td>\n",
       "      <td>49 days</td>\n",
       "      <td>True</td>\n",
       "    </tr>\n",
       "    <tr>\n",
       "      <th>35751</th>\n",
       "      <td>V309576</td>\n",
       "      <td>2014-10-24</td>\n",
       "      <td>the left ventricle is normal in size there is ...</td>\n",
       "      <td>2014-12-12</td>\n",
       "      <td>49 days</td>\n",
       "      <td>True</td>\n",
       "    </tr>\n",
       "  </tbody>\n",
       "</table>\n",
       "</div>"
      ],
      "text/plain": [
       "      client_idcode studystartdatetime  \\\n",
       "35747       V309576         2014-10-24   \n",
       "35748       V309576         2014-10-24   \n",
       "35749       V309576         2014-10-24   \n",
       "35750       V309576         2014-10-24   \n",
       "35751       V309576         2014-10-24   \n",
       "\n",
       "                                         findingcodetext  \\\n",
       "35747  the left ventricle is normal in size there is ...   \n",
       "35748  the left ventricle is normal in size there is ...   \n",
       "35749  the left ventricle is normal in size there is ...   \n",
       "35750  the left ventricle is normal in size there is ...   \n",
       "35751  the left ventricle is normal in size there is ...   \n",
       "\n",
       "      first_mention_rivaroxaban difference  in_window  \n",
       "35747                2014-12-12    49 days       True  \n",
       "35748                2014-12-12    49 days       True  \n",
       "35749                2014-12-12    49 days       True  \n",
       "35750                2014-12-12    49 days       True  \n",
       "35751                2014-12-12    49 days       True  "
      ]
     },
     "execution_count": 61,
     "metadata": {},
     "output_type": "execute_result"
    }
   ],
   "source": [
    "df3.head()"
   ]
  },
  {
   "cell_type": "code",
   "execution_count": 62,
   "id": "58290fc9",
   "metadata": {},
   "outputs": [
    {
     "data": {
      "text/plain": [
       "'the left ventricle is normal in size there is normal left ventricular wall thickness left ventricular systolic function is normal ejection fraction gt55 the right ventricle is mildly dilated the right ventricular systolic function is normal the left atrium is mildly dilated the right atrium is mildly dilated doming of the mitral leaflets is noted there is moderate mitral stenosis the anterior leaflet is pliable and mobile while the posterior leaflet is calcified and immobile there is moderate tricuspid regurgitation right ventricular systolic pressure is estimated at 46 mmhg rap 510 mmhg the aortic valve is moderately calcified mild to moderate aortic regurgitation the pulmonic valve is not well seen but is grossly normal trace pulmonic valvular regurgitation a small circumferential pericardial effusion is seen a threedimensional transthoracic echocardiogram was performed'"
      ]
     },
     "execution_count": 62,
     "metadata": {},
     "output_type": "execute_result"
    }
   ],
   "source": [
    "df3.loc[35747,'findingcodetext']"
   ]
  },
  {
   "cell_type": "code",
   "execution_count": 63,
   "id": "e6dca467",
   "metadata": {},
   "outputs": [
    {
     "data": {
      "text/plain": [
       "1"
      ]
     },
     "execution_count": 63,
     "metadata": {},
     "output_type": "execute_result"
    }
   ],
   "source": [
    "ids_3 = set(df3['client_idcode'])\n",
    "len(ids_3)"
   ]
  },
  {
   "cell_type": "markdown",
   "id": "f0ae3458",
   "metadata": {},
   "source": [
    "### Moderate mitral regurgiation"
   ]
  },
  {
   "cell_type": "code",
   "execution_count": 64,
   "id": "120aae92",
   "metadata": {},
   "outputs": [
    {
     "data": {
      "text/plain": [
       "(1583, 6)"
      ]
     },
     "execution_count": 64,
     "metadata": {},
     "output_type": "execute_result"
    }
   ],
   "source": [
    "df4 = df[df['findingcodetext'].str.contains('there is moderate mitral regurgitation', regex=True, na=False)]\n",
    "df4.shape"
   ]
  },
  {
   "cell_type": "code",
   "execution_count": 65,
   "id": "ee9da25f",
   "metadata": {},
   "outputs": [
    {
     "data": {
      "text/plain": [
       "28"
      ]
     },
     "execution_count": 65,
     "metadata": {},
     "output_type": "execute_result"
    }
   ],
   "source": [
    "df4['client_idcode'].nunique()"
   ]
  },
  {
   "cell_type": "code",
   "execution_count": 66,
   "id": "cabd1896",
   "metadata": {},
   "outputs": [
    {
     "data": {
      "text/html": [
       "<div>\n",
       "<style scoped>\n",
       "    .dataframe tbody tr th:only-of-type {\n",
       "        vertical-align: middle;\n",
       "    }\n",
       "\n",
       "    .dataframe tbody tr th {\n",
       "        vertical-align: top;\n",
       "    }\n",
       "\n",
       "    .dataframe thead th {\n",
       "        text-align: right;\n",
       "    }\n",
       "</style>\n",
       "<table border=\"1\" class=\"dataframe\">\n",
       "  <thead>\n",
       "    <tr style=\"text-align: right;\">\n",
       "      <th></th>\n",
       "      <th>client_idcode</th>\n",
       "      <th>studystartdatetime</th>\n",
       "      <th>findingcodetext</th>\n",
       "      <th>first_mention_rivaroxaban</th>\n",
       "      <th>difference</th>\n",
       "      <th>in_window</th>\n",
       "    </tr>\n",
       "  </thead>\n",
       "  <tbody>\n",
       "    <tr>\n",
       "      <th>1020</th>\n",
       "      <td>F288701</td>\n",
       "      <td>2016-12-20</td>\n",
       "      <td>the left ventricle is normal in size there is ...</td>\n",
       "      <td>2016-12-22</td>\n",
       "      <td>2 days</td>\n",
       "      <td>True</td>\n",
       "    </tr>\n",
       "    <tr>\n",
       "      <th>1021</th>\n",
       "      <td>F288701</td>\n",
       "      <td>2016-12-20</td>\n",
       "      <td>the left ventricle is normal in size there is ...</td>\n",
       "      <td>2016-12-22</td>\n",
       "      <td>2 days</td>\n",
       "      <td>True</td>\n",
       "    </tr>\n",
       "    <tr>\n",
       "      <th>1022</th>\n",
       "      <td>F288701</td>\n",
       "      <td>2016-12-20</td>\n",
       "      <td>the left ventricle is normal in size there is ...</td>\n",
       "      <td>2016-12-22</td>\n",
       "      <td>2 days</td>\n",
       "      <td>True</td>\n",
       "    </tr>\n",
       "    <tr>\n",
       "      <th>1023</th>\n",
       "      <td>F288701</td>\n",
       "      <td>2016-12-20</td>\n",
       "      <td>the left ventricle is normal in size there is ...</td>\n",
       "      <td>2016-12-22</td>\n",
       "      <td>2 days</td>\n",
       "      <td>True</td>\n",
       "    </tr>\n",
       "    <tr>\n",
       "      <th>1024</th>\n",
       "      <td>F288701</td>\n",
       "      <td>2016-12-20</td>\n",
       "      <td>the left ventricle is normal in size there is ...</td>\n",
       "      <td>2016-12-22</td>\n",
       "      <td>2 days</td>\n",
       "      <td>True</td>\n",
       "    </tr>\n",
       "  </tbody>\n",
       "</table>\n",
       "</div>"
      ],
      "text/plain": [
       "     client_idcode studystartdatetime  \\\n",
       "1020       F288701         2016-12-20   \n",
       "1021       F288701         2016-12-20   \n",
       "1022       F288701         2016-12-20   \n",
       "1023       F288701         2016-12-20   \n",
       "1024       F288701         2016-12-20   \n",
       "\n",
       "                                        findingcodetext  \\\n",
       "1020  the left ventricle is normal in size there is ...   \n",
       "1021  the left ventricle is normal in size there is ...   \n",
       "1022  the left ventricle is normal in size there is ...   \n",
       "1023  the left ventricle is normal in size there is ...   \n",
       "1024  the left ventricle is normal in size there is ...   \n",
       "\n",
       "     first_mention_rivaroxaban difference  in_window  \n",
       "1020                2016-12-22     2 days       True  \n",
       "1021                2016-12-22     2 days       True  \n",
       "1022                2016-12-22     2 days       True  \n",
       "1023                2016-12-22     2 days       True  \n",
       "1024                2016-12-22     2 days       True  "
      ]
     },
     "execution_count": 66,
     "metadata": {},
     "output_type": "execute_result"
    }
   ],
   "source": [
    "df4.head()"
   ]
  },
  {
   "cell_type": "code",
   "execution_count": 67,
   "id": "ffb9f705",
   "metadata": {},
   "outputs": [
    {
     "data": {
      "text/plain": [
       "'the left ventricle is normal in size there is normal left ventricular wall thickness ejection fraction 4553 female mildly impaired the right ventricle is normal in size and function the left atrium is severely dilated right atrial size is normal there is mild mitral leaflet thickening the tricuspid valve leaflets are thickened andor calcified but open well there is mild to moderate tricuspid regurgitation right ventricular systolic pressure is estimated at 23mmhgrap the aortic valve opens well the aortic valve is tricuspid mild to moderate aortic regurgitation there is no pulmonic valvular stenosis trace pulmonic valvular regurgitation there is moderate mitral regurgitation'"
      ]
     },
     "execution_count": 67,
     "metadata": {},
     "output_type": "execute_result"
    }
   ],
   "source": [
    "df4.loc[1020,'findingcodetext']"
   ]
  },
  {
   "cell_type": "code",
   "execution_count": 68,
   "id": "0611be1f",
   "metadata": {},
   "outputs": [
    {
     "data": {
      "text/plain": [
       "28"
      ]
     },
     "execution_count": 68,
     "metadata": {},
     "output_type": "execute_result"
    }
   ],
   "source": [
    "ids_4 = set(df4['client_idcode'])\n",
    "len(ids_4)"
   ]
  },
  {
   "cell_type": "markdown",
   "id": "d15ffc44",
   "metadata": {},
   "source": [
    "-----------------"
   ]
  },
  {
   "cell_type": "code",
   "execution_count": 69,
   "id": "a70e554e",
   "metadata": {},
   "outputs": [
    {
     "data": {
      "text/plain": [
       "44"
      ]
     },
     "execution_count": 69,
     "metadata": {},
     "output_type": "execute_result"
    }
   ],
   "source": [
    "ids = ids_1 | ids_2 | ids_3 | ids_4 \n",
    "len(ids)"
   ]
  },
  {
   "cell_type": "code",
   "execution_count": 70,
   "id": "7b6c05de",
   "metadata": {},
   "outputs": [],
   "source": [
    "with open ('/projects/ROCKET AF/1A/rivaroxaban dataextraction/data/valvular_af.pickle', 'wb') as f:\n",
    "    pickle.dump(ids,f)"
   ]
  },
  {
   "cell_type": "code",
   "execution_count": null,
   "id": "0b4b3c60",
   "metadata": {},
   "outputs": [],
   "source": []
  }
 ],
 "metadata": {
  "kernelspec": {
   "display_name": "Python 3 (ipykernel)",
   "language": "python",
   "name": "python3"
  },
  "language_info": {
   "codemirror_mode": {
    "name": "ipython",
    "version": 3
   },
   "file_extension": ".py",
   "mimetype": "text/x-python",
   "name": "python",
   "nbconvert_exporter": "python",
   "pygments_lexer": "ipython3",
   "version": "3.9.7"
  }
 },
 "nbformat": 4,
 "nbformat_minor": 5
}
