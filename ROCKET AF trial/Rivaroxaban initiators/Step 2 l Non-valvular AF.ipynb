{
 "cells": [
  {
   "cell_type": "code",
   "execution_count": null,
   "id": "f21d6465",
   "metadata": {},
   "outputs": [],
   "source": [
    "import pandas as pd \n",
    "import pickle\n",
    "import datetime\n",
    "import re"
   ]
  },
  {
   "cell_type": "markdown",
   "id": "34a7b833",
   "metadata": {},
   "source": [
    "# Atrial Fibrillation (AF) Patients on Rivaroxaban"
   ]
  },
  {
   "cell_type": "code",
   "execution_count": null,
   "id": "bf4bb01a",
   "metadata": {},
   "outputs": [],
   "source": [
    "with open('/projects/ROCKET AF/1A/rivaroxaban dataextraction/data/first_mention_rivaroxaban.pickle', 'rb') as f:\n",
    "    rivaroxaban = pickle.load(f)"
   ]
  },
  {
   "cell_type": "code",
   "execution_count": null,
   "id": "f1db8512",
   "metadata": {},
   "outputs": [],
   "source": [
    "len(rivaroxaban)"
   ]
  },
  {
   "cell_type": "code",
   "execution_count": null,
   "id": "180c98c7",
   "metadata": {},
   "outputs": [],
   "source": [
    "df = pd.DataFrame(list(rivaroxaban.items()), columns=['client_idcode', 'first_mention_rivaroxaban']) # This code converts a dictionary (rivaroxaban) into a Pandas DataFrame with two columns named 'client_idcode' and 'first_mention_rivaroxaban'\n",
    "df.shape"
   ]
  },
  {
   "cell_type": "code",
   "execution_count": null,
   "id": "8b079074",
   "metadata": {},
   "outputs": [],
   "source": [
    "df.head()"
   ]
  },
  {
   "cell_type": "code",
   "execution_count": null,
   "id": "80174dae",
   "metadata": {},
   "outputs": [],
   "source": [
    "ids = set(df['client_idcode'])\n",
    "len(ids)"
   ]
  },
  {
   "cell_type": "code",
   "execution_count": null,
   "id": "0b5b0ec4",
   "metadata": {},
   "outputs": [],
   "source": [
    "df['first_mention_rivaroxaban'].min()"
   ]
  },
  {
   "cell_type": "markdown",
   "id": "e09b4cac",
   "metadata": {},
   "source": [
    "# Echo Reports"
   ]
  },
  {
   "cell_type": "code",
   "execution_count": null,
   "id": "6ca7acc6",
   "metadata": {},
   "outputs": [],
   "source": [
    "echos = pd.read_csv('/projects/ROCKET AF/data/af_echos.csv') "
   ]
  },
  {
   "cell_type": "code",
   "execution_count": null,
   "id": "bf47ae4d",
   "metadata": {},
   "outputs": [],
   "source": [
    "echos.info()"
   ]
  },
  {
   "cell_type": "code",
   "execution_count": null,
   "id": "65d06785",
   "metadata": {},
   "outputs": [],
   "source": [
    "echos.shape"
   ]
  },
  {
   "cell_type": "code",
   "execution_count": null,
   "id": "4e086213",
   "metadata": {},
   "outputs": [],
   "source": [
    "echos.head()"
   ]
  },
  {
   "cell_type": "code",
   "execution_count": null,
   "id": "cb69cf6b",
   "metadata": {},
   "outputs": [],
   "source": [
    "echos['measname'].unique()"
   ]
  },
  {
   "cell_type": "code",
   "execution_count": null,
   "id": "5980f2a8",
   "metadata": {},
   "outputs": [],
   "source": [
    "echos = echos[echos['medicalrecordnumber'].isin(ids)]\n",
    "echos.shape"
   ]
  },
  {
   "cell_type": "code",
   "execution_count": null,
   "id": "9821e730",
   "metadata": {},
   "outputs": [],
   "source": [
    "echos['studystartdatetime'].isna().sum()"
   ]
  },
  {
   "cell_type": "code",
   "execution_count": null,
   "id": "9efb17fc",
   "metadata": {},
   "outputs": [],
   "source": [
    "echos = echos[['medicalrecordnumber', 'studystartdatetime', 'findingcodetext']]"
   ]
  },
  {
   "cell_type": "code",
   "execution_count": null,
   "id": "9138aad4",
   "metadata": {},
   "outputs": [],
   "source": [
    "echos.rename(columns =  {'medicalrecordnumber': 'client_idcode'}, inplace = True)"
   ]
  },
  {
   "cell_type": "code",
   "execution_count": null,
   "id": "f9ba9717",
   "metadata": {},
   "outputs": [],
   "source": [
    "echos.head()"
   ]
  },
  {
   "cell_type": "markdown",
   "id": "1c0d35b1",
   "metadata": {},
   "source": [
    "# Identifying non-valvular AF patients"
   ]
  },
  {
   "cell_type": "code",
   "execution_count": null,
   "id": "80d4a871",
   "metadata": {},
   "outputs": [],
   "source": [
    "df = pd.merge(echos, df, on='client_idcode', how='right') "
   ]
  },
  {
   "cell_type": "code",
   "execution_count": null,
   "id": "9e842fe8",
   "metadata": {},
   "outputs": [],
   "source": [
    "df.head()"
   ]
  },
  {
   "cell_type": "code",
   "execution_count": null,
   "id": "f753100f",
   "metadata": {},
   "outputs": [],
   "source": [
    "df['studystartdatetime'].isna().sum()"
   ]
  },
  {
   "cell_type": "code",
   "execution_count": null,
   "id": "e55e0fe8",
   "metadata": {},
   "outputs": [],
   "source": [
    "df = df[df['studystartdatetime'].notna()]\n",
    "df['client_idcode'].nunique()"
   ]
  },
  {
   "cell_type": "code",
   "execution_count": null,
   "id": "bb4646dc",
   "metadata": {},
   "outputs": [],
   "source": [
    "1509+1076"
   ]
  },
  {
   "cell_type": "code",
   "execution_count": null,
   "id": "7960efac",
   "metadata": {},
   "outputs": [],
   "source": [
    "df['studystartdatetime'] = pd.to_datetime(df['studystartdatetime'], utc=True).dt.date "
   ]
  },
  {
   "cell_type": "code",
   "execution_count": null,
   "id": "1d48396a",
   "metadata": {},
   "outputs": [],
   "source": [
    "df.head()"
   ]
  },
  {
   "cell_type": "code",
   "execution_count": null,
   "id": "5bec230d",
   "metadata": {},
   "outputs": [],
   "source": [
    "%%time \n",
    "df['difference'] = pd.to_datetime(df['first_mention_rivaroxaban']) - pd.to_datetime(df['studystartdatetime'])\n",
    "min_time = datetime.timedelta(days=1) \n",
    "max_time = datetime.timedelta(days=183)\n",
    "t1 = df['difference'] >= min_time \n",
    "t2 = df['difference'] <= max_time\n",
    "in_window = t1 & t2 \n",
    "df['in_window'] = in_window"
   ]
  },
  {
   "cell_type": "code",
   "execution_count": null,
   "id": "5fa706dd",
   "metadata": {},
   "outputs": [],
   "source": [
    "df = df.loc[df['in_window'] == True]\n",
    "df['client_idcode'].nunique()"
   ]
  },
  {
   "cell_type": "code",
   "execution_count": null,
   "id": "d0d9e732",
   "metadata": {},
   "outputs": [],
   "source": [
    "df.reset_index(drop=True, inplace=True)"
   ]
  },
  {
   "cell_type": "code",
   "execution_count": null,
   "id": "7ef550b3",
   "metadata": {},
   "outputs": [],
   "source": [
    "df.head()"
   ]
  },
  {
   "cell_type": "markdown",
   "id": "1027bfa2",
   "metadata": {},
   "source": [
    "## Cleaning text data"
   ]
  },
  {
   "cell_type": "code",
   "execution_count": null,
   "id": "32d37ee3",
   "metadata": {},
   "outputs": [],
   "source": [
    "df.loc[0,'findingcodetext']"
   ]
  },
  {
   "cell_type": "code",
   "execution_count": null,
   "id": "94629679",
   "metadata": {},
   "outputs": [],
   "source": [
    "df.info()"
   ]
  },
  {
   "cell_type": "code",
   "execution_count": null,
   "id": "6b973c03",
   "metadata": {},
   "outputs": [],
   "source": [
    "def clean_text(text):\n",
    "    \n",
    "    if isinstance(text,str):\n",
    "        \n",
    "        # Convert to lowercase\n",
    "        text = text.lower()\n",
    "   \n",
    "        # Remove punctuation\n",
    "        text = re.sub(r'[^\\w\\s]', '', text)\n",
    "   \n",
    "        # Remove extra spaces\n",
    "        text = ' '.join(text.split())\n",
    "   \n",
    "    return text"
   ]
  },
  {
   "cell_type": "code",
   "execution_count": null,
   "id": "84a563c5",
   "metadata": {},
   "outputs": [],
   "source": [
    "df['findingcodetext'] =  df['findingcodetext'].apply(clean_text)"
   ]
  },
  {
   "cell_type": "code",
   "execution_count": null,
   "id": "38cce691",
   "metadata": {},
   "outputs": [],
   "source": [
    "df.loc[0,'findingcodetext']"
   ]
  },
  {
   "cell_type": "markdown",
   "id": "aaeb7c7e",
   "metadata": {},
   "source": [
    "### Severe mitral stenosis"
   ]
  },
  {
   "cell_type": "code",
   "execution_count": null,
   "id": "6e6f2bd8",
   "metadata": {},
   "outputs": [],
   "source": [
    "df1 = df[df['findingcodetext'].str.contains('severe mitral stenosis', regex=True, na=False)]\n",
    "df1.shape"
   ]
  },
  {
   "cell_type": "code",
   "execution_count": null,
   "id": "0f8840b6",
   "metadata": {},
   "outputs": [],
   "source": [
    "df1['client_idcode'].nunique()"
   ]
  },
  {
   "cell_type": "code",
   "execution_count": null,
   "id": "d3fb5604",
   "metadata": {},
   "outputs": [],
   "source": [
    "df1.head()"
   ]
  },
  {
   "cell_type": "code",
   "execution_count": null,
   "id": "4de22de7",
   "metadata": {},
   "outputs": [],
   "source": [
    "df1.loc[920,'findingcodetext']"
   ]
  },
  {
   "cell_type": "code",
   "execution_count": null,
   "id": "c95c69f5",
   "metadata": {},
   "outputs": [],
   "source": [
    "ids_1 = set(df1['client_idcode'])\n",
    "len(ids_1)"
   ]
  },
  {
   "cell_type": "markdown",
   "id": "74564b4a",
   "metadata": {},
   "source": [
    "### Severe mitral regurgitation"
   ]
  },
  {
   "cell_type": "code",
   "execution_count": null,
   "id": "e12f6b52",
   "metadata": {},
   "outputs": [],
   "source": [
    "df2 = df[df['findingcodetext'].str.contains('severe mitral regurgitation', regex=True, na=False)]\n",
    "df2.shape"
   ]
  },
  {
   "cell_type": "code",
   "execution_count": null,
   "id": "12c5273a",
   "metadata": {},
   "outputs": [],
   "source": [
    "df2['client_idcode'].nunique()"
   ]
  },
  {
   "cell_type": "code",
   "execution_count": null,
   "id": "705494d7",
   "metadata": {},
   "outputs": [],
   "source": [
    "df2.head()"
   ]
  },
  {
   "cell_type": "code",
   "execution_count": null,
   "id": "d85c9d64",
   "metadata": {},
   "outputs": [],
   "source": [
    "df2.loc[2888,'findingcodetext']"
   ]
  },
  {
   "cell_type": "code",
   "execution_count": null,
   "id": "4f8da5f5",
   "metadata": {},
   "outputs": [],
   "source": [
    "ids_2 = set(df2['client_idcode'])\n",
    "len(ids_2)"
   ]
  },
  {
   "cell_type": "markdown",
   "id": "34768d06",
   "metadata": {},
   "source": [
    "### Moderate mitral stenosis"
   ]
  },
  {
   "cell_type": "code",
   "execution_count": null,
   "id": "7b6d5bbc",
   "metadata": {},
   "outputs": [],
   "source": [
    "df3 = df[df['findingcodetext'].str.contains('there is moderate mitral stenosis', regex=True, na=False)]\n",
    "df3.shape"
   ]
  },
  {
   "cell_type": "code",
   "execution_count": null,
   "id": "c0041277",
   "metadata": {},
   "outputs": [],
   "source": [
    "df3['client_idcode'].nunique()"
   ]
  },
  {
   "cell_type": "code",
   "execution_count": null,
   "id": "e54ab4b5",
   "metadata": {},
   "outputs": [],
   "source": [
    "df3.head()"
   ]
  },
  {
   "cell_type": "code",
   "execution_count": null,
   "id": "58290fc9",
   "metadata": {},
   "outputs": [],
   "source": [
    "df3.loc[35747,'findingcodetext']"
   ]
  },
  {
   "cell_type": "code",
   "execution_count": null,
   "id": "e6dca467",
   "metadata": {},
   "outputs": [],
   "source": [
    "ids_3 = set(df3['client_idcode'])\n",
    "len(ids_3)"
   ]
  },
  {
   "cell_type": "markdown",
   "id": "f0ae3458",
   "metadata": {},
   "source": [
    "### Moderate mitral regurgiation"
   ]
  },
  {
   "cell_type": "code",
   "execution_count": null,
   "id": "120aae92",
   "metadata": {},
   "outputs": [],
   "source": [
    "df4 = df[df['findingcodetext'].str.contains('there is moderate mitral regurgitation', regex=True, na=False)]\n",
    "df4.shape"
   ]
  },
  {
   "cell_type": "code",
   "execution_count": null,
   "id": "ee9da25f",
   "metadata": {},
   "outputs": [],
   "source": [
    "df4['client_idcode'].nunique()"
   ]
  },
  {
   "cell_type": "code",
   "execution_count": null,
   "id": "cabd1896",
   "metadata": {},
   "outputs": [],
   "source": [
    "df4.head()"
   ]
  },
  {
   "cell_type": "code",
   "execution_count": null,
   "id": "ffb9f705",
   "metadata": {},
   "outputs": [],
   "source": [
    "df4.loc[1020,'findingcodetext']"
   ]
  },
  {
   "cell_type": "code",
   "execution_count": null,
   "id": "0611be1f",
   "metadata": {},
   "outputs": [],
   "source": [
    "ids_4 = set(df4['client_idcode'])\n",
    "len(ids_4)"
   ]
  },
  {
   "cell_type": "markdown",
   "id": "d15ffc44",
   "metadata": {},
   "source": [
    "-----------------"
   ]
  },
  {
   "cell_type": "code",
   "execution_count": null,
   "id": "a70e554e",
   "metadata": {},
   "outputs": [],
   "source": [
    "ids = ids_1 | ids_2 | ids_3 | ids_4 \n",
    "len(ids)"
   ]
  },
  {
   "cell_type": "code",
   "execution_count": null,
   "id": "7b6c05de",
   "metadata": {},
   "outputs": [],
   "source": [
    "with open ('/projects/ROCKET AF/1A/rivaroxaban dataextraction/data/valvular_af.pickle', 'wb') as f:\n",
    "    pickle.dump(ids,f)"
   ]
  },
  {
   "cell_type": "code",
   "execution_count": null,
   "id": "0b4b3c60",
   "metadata": {},
   "outputs": [],
   "source": []
  }
 ],
 "metadata": {
  "kernelspec": {
   "display_name": "Python 3 (ipykernel)",
   "language": "python",
   "name": "python3"
  },
  "language_info": {
   "codemirror_mode": {
    "name": "ipython",
    "version": 3
   },
   "file_extension": ".py",
   "mimetype": "text/x-python",
   "name": "python",
   "nbconvert_exporter": "python",
   "pygments_lexer": "ipython3",
   "version": "3.9.7"
  }
 },
 "nbformat": 4,
 "nbformat_minor": 5
}
