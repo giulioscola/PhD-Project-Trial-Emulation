{
 "cells": [
  {
   "cell_type": "code",
   "execution_count": 64,
   "id": "f21d6465",
   "metadata": {},
   "outputs": [],
   "source": [
    "import pandas as pd \n",
    "import pickle\n",
    "import datetime\n",
    "import re\n",
    "import networkx as nx\n",
    "import numpy as np"
   ]
  },
  {
   "cell_type": "markdown",
   "id": "34a7b833",
   "metadata": {},
   "source": [
    "# Atrial fibrillation (AF) patients on rivaroxaban"
   ]
  },
  {
   "cell_type": "code",
   "execution_count": 12,
   "id": "bf4bb01a",
   "metadata": {},
   "outputs": [],
   "source": [
    "with open('/projects/ROCKET AF/1A/rivaroxaban dataextraction/data/first_mention_rivaroxaban.pickle', 'rb') as f:\n",
    "    rivaroxaban = pickle.load(f)"
   ]
  },
  {
   "cell_type": "code",
   "execution_count": 13,
   "id": "f1db8512",
   "metadata": {},
   "outputs": [
    {
     "data": {
      "text/plain": [
       "2585"
      ]
     },
     "execution_count": 13,
     "metadata": {},
     "output_type": "execute_result"
    }
   ],
   "source": [
    "len(rivaroxaban)"
   ]
  },
  {
   "cell_type": "code",
   "execution_count": 14,
   "id": "180c98c7",
   "metadata": {},
   "outputs": [
    {
     "data": {
      "text/plain": [
       "(2585, 2)"
      ]
     },
     "execution_count": 14,
     "metadata": {},
     "output_type": "execute_result"
    }
   ],
   "source": [
    "df = pd.DataFrame(list(rivaroxaban.items()), columns=['client_idcode', 'first_mention_rivaroxaban']) # This code converts a dictionary (rivaroxaban) into a Pandas DataFrame with two columns named 'client_idcode' and 'first_mention_rivaroxaban'\n",
    "df.shape"
   ]
  },
  {
   "cell_type": "code",
   "execution_count": 15,
   "id": "8b079074",
   "metadata": {},
   "outputs": [
    {
     "data": {
      "text/html": [
       "<div>\n",
       "<style scoped>\n",
       "    .dataframe tbody tr th:only-of-type {\n",
       "        vertical-align: middle;\n",
       "    }\n",
       "\n",
       "    .dataframe tbody tr th {\n",
       "        vertical-align: top;\n",
       "    }\n",
       "\n",
       "    .dataframe thead th {\n",
       "        text-align: right;\n",
       "    }\n",
       "</style>\n",
       "<table border=\"1\" class=\"dataframe\">\n",
       "  <thead>\n",
       "    <tr style=\"text-align: right;\">\n",
       "      <th></th>\n",
       "      <th>client_idcode</th>\n",
       "      <th>first_mention_rivaroxaban</th>\n",
       "    </tr>\n",
       "  </thead>\n",
       "  <tbody>\n",
       "    <tr>\n",
       "      <th>0</th>\n",
       "      <td>0372858</td>\n",
       "      <td>2015-03-02</td>\n",
       "    </tr>\n",
       "    <tr>\n",
       "      <th>1</th>\n",
       "      <td>M282816</td>\n",
       "      <td>2018-10-25</td>\n",
       "    </tr>\n",
       "    <tr>\n",
       "      <th>2</th>\n",
       "      <td>V282449</td>\n",
       "      <td>2018-08-02</td>\n",
       "    </tr>\n",
       "    <tr>\n",
       "      <th>3</th>\n",
       "      <td>V459668</td>\n",
       "      <td>2015-06-25</td>\n",
       "    </tr>\n",
       "    <tr>\n",
       "      <th>4</th>\n",
       "      <td>R081687</td>\n",
       "      <td>2015-04-27</td>\n",
       "    </tr>\n",
       "  </tbody>\n",
       "</table>\n",
       "</div>"
      ],
      "text/plain": [
       "  client_idcode first_mention_rivaroxaban\n",
       "0       0372858                2015-03-02\n",
       "1       M282816                2018-10-25\n",
       "2       V282449                2018-08-02\n",
       "3       V459668                2015-06-25\n",
       "4       R081687                2015-04-27"
      ]
     },
     "execution_count": 15,
     "metadata": {},
     "output_type": "execute_result"
    }
   ],
   "source": [
    "df.head()"
   ]
  },
  {
   "cell_type": "code",
   "execution_count": 16,
   "id": "80174dae",
   "metadata": {},
   "outputs": [
    {
     "data": {
      "text/plain": [
       "2585"
      ]
     },
     "execution_count": 16,
     "metadata": {},
     "output_type": "execute_result"
    }
   ],
   "source": [
    "ids = set(df['client_idcode'])\n",
    "len(ids)"
   ]
  },
  {
   "cell_type": "markdown",
   "id": "d15ffc44",
   "metadata": {},
   "source": [
    "# AF patients on rivaroxaban with a left ventricular ejection fraction (LVEF) <35%"
   ]
  },
  {
   "cell_type": "code",
   "execution_count": 17,
   "id": "e19a0a6f",
   "metadata": {},
   "outputs": [],
   "source": [
    "lvef = pd.read_csv('/projects/data/GS/HF/from_jack/FULL_TEXT_cardiac_echo_report_v2_with_vars.csv')"
   ]
  },
  {
   "cell_type": "code",
   "execution_count": 18,
   "id": "cad2833d",
   "metadata": {},
   "outputs": [
    {
     "data": {
      "text/plain": [
       "(245484, 21)"
      ]
     },
     "execution_count": 18,
     "metadata": {},
     "output_type": "execute_result"
    }
   ],
   "source": [
    "lvef.shape"
   ]
  },
  {
   "cell_type": "code",
   "execution_count": 19,
   "id": "a70e554e",
   "metadata": {},
   "outputs": [
    {
     "data": {
      "text/html": [
       "<div>\n",
       "<style scoped>\n",
       "    .dataframe tbody tr th:only-of-type {\n",
       "        vertical-align: middle;\n",
       "    }\n",
       "\n",
       "    .dataframe tbody tr th {\n",
       "        vertical-align: top;\n",
       "    }\n",
       "\n",
       "    .dataframe thead th {\n",
       "        text-align: right;\n",
       "    }\n",
       "</style>\n",
       "<table border=\"1\" class=\"dataframe\">\n",
       "  <thead>\n",
       "    <tr style=\"text-align: right;\">\n",
       "      <th></th>\n",
       "      <th>Unnamed: 0</th>\n",
       "      <th>document_dateadded</th>\n",
       "      <th>document_description</th>\n",
       "      <th>document_guid</th>\n",
       "      <th>client_idcode</th>\n",
       "      <th>document_datecreated</th>\n",
       "      <th>body_analysed</th>\n",
       "      <th>ef_value</th>\n",
       "      <th>ef_text</th>\n",
       "      <th>lvidd</th>\n",
       "      <th>...</th>\n",
       "      <th>lvpwd</th>\n",
       "      <th>e_e_prime_avg</th>\n",
       "      <th>e_e_prime_lat</th>\n",
       "      <th>e_e_prime_sept</th>\n",
       "      <th>tr_max_vel</th>\n",
       "      <th>pasp_v1</th>\n",
       "      <th>pasp_v2</th>\n",
       "      <th>lavi</th>\n",
       "      <th>gls</th>\n",
       "      <th>tapse</th>\n",
       "    </tr>\n",
       "  </thead>\n",
       "  <tbody>\n",
       "    <tr>\n",
       "      <th>0</th>\n",
       "      <td>0</td>\n",
       "      <td>2014-01-13T16:30:00.903+0000</td>\n",
       "      <td>Cardiac - Echo Reports</td>\n",
       "      <td>999308380</td>\n",
       "      <td>R044506</td>\n",
       "      <td>2014-01-13T16:29:55.167+0000</td>\n",
       "      <td>\\nStudy ID: 289702\\n\\nInterpretation Summary \\...</td>\n",
       "      <td>55.0</td>\n",
       "      <td>preserved</td>\n",
       "      <td>5.2</td>\n",
       "      <td>...</td>\n",
       "      <td>1.30</td>\n",
       "      <td>NaN</td>\n",
       "      <td>NaN</td>\n",
       "      <td>NaN</td>\n",
       "      <td>279.0</td>\n",
       "      <td>NaN</td>\n",
       "      <td>NaN</td>\n",
       "      <td>NaN</td>\n",
       "      <td>NaN</td>\n",
       "      <td>2.2</td>\n",
       "    </tr>\n",
       "    <tr>\n",
       "      <th>1</th>\n",
       "      <td>1</td>\n",
       "      <td>2016-06-14T09:35:25.560+0100</td>\n",
       "      <td>Cardiac - Echo Reports</td>\n",
       "      <td>1074577738</td>\n",
       "      <td>P517376</td>\n",
       "      <td>2016-06-14T09:35:25.733+0100</td>\n",
       "      <td>\\nStudy ID: 402414\\n\\nCardiology Department \\n...</td>\n",
       "      <td>69.4</td>\n",
       "      <td>preserved</td>\n",
       "      <td>4.1</td>\n",
       "      <td>...</td>\n",
       "      <td>1.10</td>\n",
       "      <td>13.0</td>\n",
       "      <td>14.0</td>\n",
       "      <td>12.0</td>\n",
       "      <td>NaN</td>\n",
       "      <td>NaN</td>\n",
       "      <td>NaN</td>\n",
       "      <td>16.3</td>\n",
       "      <td>NaN</td>\n",
       "      <td>1.9</td>\n",
       "    </tr>\n",
       "    <tr>\n",
       "      <th>2</th>\n",
       "      <td>2</td>\n",
       "      <td>2016-07-04T10:25:32.120+0100</td>\n",
       "      <td>Cardiac - Echo Reports</td>\n",
       "      <td>1075890234</td>\n",
       "      <td>P250150</td>\n",
       "      <td>2016-07-04T10:25:40.297+0100</td>\n",
       "      <td>\\nStudy ID: 404983\\n\\nCardiology Department \\n...</td>\n",
       "      <td>NaN</td>\n",
       "      <td>NaN</td>\n",
       "      <td>NaN</td>\n",
       "      <td>...</td>\n",
       "      <td>NaN</td>\n",
       "      <td>NaN</td>\n",
       "      <td>NaN</td>\n",
       "      <td>NaN</td>\n",
       "      <td>NaN</td>\n",
       "      <td>NaN</td>\n",
       "      <td>NaN</td>\n",
       "      <td>NaN</td>\n",
       "      <td>NaN</td>\n",
       "      <td>NaN</td>\n",
       "    </tr>\n",
       "    <tr>\n",
       "      <th>3</th>\n",
       "      <td>3</td>\n",
       "      <td>2014-01-13T19:54:11.850+0000</td>\n",
       "      <td>Cardiac - Echo Reports</td>\n",
       "      <td>999311874</td>\n",
       "      <td>0730904</td>\n",
       "      <td>2014-01-13T19:53:52.203+0000</td>\n",
       "      <td>\\nStudy ID: 289701\\n\\nInterpretation Summary \\...</td>\n",
       "      <td>48.0</td>\n",
       "      <td>impaired</td>\n",
       "      <td>5.9</td>\n",
       "      <td>...</td>\n",
       "      <td>1.20</td>\n",
       "      <td>NaN</td>\n",
       "      <td>NaN</td>\n",
       "      <td>10.0</td>\n",
       "      <td>NaN</td>\n",
       "      <td>NaN</td>\n",
       "      <td>NaN</td>\n",
       "      <td>NaN</td>\n",
       "      <td>NaN</td>\n",
       "      <td>2.0</td>\n",
       "    </tr>\n",
       "    <tr>\n",
       "      <th>4</th>\n",
       "      <td>4</td>\n",
       "      <td>2017-07-14T09:05:33.157+0100</td>\n",
       "      <td>Cardiac - Echo Reports</td>\n",
       "      <td>1106856686</td>\n",
       "      <td>M874841</td>\n",
       "      <td>2017-07-14T09:05:33.470+0100</td>\n",
       "      <td>\\nStudy ID: 455585\\n\\nCardiology Department \\n...</td>\n",
       "      <td>47.0</td>\n",
       "      <td>impaired</td>\n",
       "      <td>4.8</td>\n",
       "      <td>...</td>\n",
       "      <td>0.92</td>\n",
       "      <td>6.0</td>\n",
       "      <td>6.0</td>\n",
       "      <td>7.0</td>\n",
       "      <td>256.0</td>\n",
       "      <td>NaN</td>\n",
       "      <td>NaN</td>\n",
       "      <td>NaN</td>\n",
       "      <td>NaN</td>\n",
       "      <td>2.3</td>\n",
       "    </tr>\n",
       "  </tbody>\n",
       "</table>\n",
       "<p>5 rows × 21 columns</p>\n",
       "</div>"
      ],
      "text/plain": [
       "   Unnamed: 0            document_dateadded    document_description  \\\n",
       "0           0  2014-01-13T16:30:00.903+0000  Cardiac - Echo Reports   \n",
       "1           1  2016-06-14T09:35:25.560+0100  Cardiac - Echo Reports   \n",
       "2           2  2016-07-04T10:25:32.120+0100  Cardiac - Echo Reports   \n",
       "3           3  2014-01-13T19:54:11.850+0000  Cardiac - Echo Reports   \n",
       "4           4  2017-07-14T09:05:33.157+0100  Cardiac - Echo Reports   \n",
       "\n",
       "   document_guid client_idcode          document_datecreated  \\\n",
       "0      999308380       R044506  2014-01-13T16:29:55.167+0000   \n",
       "1     1074577738       P517376  2016-06-14T09:35:25.733+0100   \n",
       "2     1075890234       P250150  2016-07-04T10:25:40.297+0100   \n",
       "3      999311874       0730904  2014-01-13T19:53:52.203+0000   \n",
       "4     1106856686       M874841  2017-07-14T09:05:33.470+0100   \n",
       "\n",
       "                                       body_analysed  ef_value    ef_text  \\\n",
       "0  \\nStudy ID: 289702\\n\\nInterpretation Summary \\...      55.0  preserved   \n",
       "1  \\nStudy ID: 402414\\n\\nCardiology Department \\n...      69.4  preserved   \n",
       "2  \\nStudy ID: 404983\\n\\nCardiology Department \\n...       NaN        NaN   \n",
       "3  \\nStudy ID: 289701\\n\\nInterpretation Summary \\...      48.0   impaired   \n",
       "4  \\nStudy ID: 455585\\n\\nCardiology Department \\n...      47.0   impaired   \n",
       "\n",
       "   lvidd  ...  lvpwd  e_e_prime_avg  e_e_prime_lat  e_e_prime_sept  \\\n",
       "0    5.2  ...   1.30            NaN            NaN             NaN   \n",
       "1    4.1  ...   1.10           13.0           14.0            12.0   \n",
       "2    NaN  ...    NaN            NaN            NaN             NaN   \n",
       "3    5.9  ...   1.20            NaN            NaN            10.0   \n",
       "4    4.8  ...   0.92            6.0            6.0             7.0   \n",
       "\n",
       "   tr_max_vel  pasp_v1  pasp_v2  lavi  gls  tapse  \n",
       "0       279.0      NaN      NaN   NaN  NaN    2.2  \n",
       "1         NaN      NaN      NaN  16.3  NaN    1.9  \n",
       "2         NaN      NaN      NaN   NaN  NaN    NaN  \n",
       "3         NaN      NaN      NaN   NaN  NaN    2.0  \n",
       "4       256.0      NaN      NaN   NaN  NaN    2.3  \n",
       "\n",
       "[5 rows x 21 columns]"
      ]
     },
     "execution_count": 19,
     "metadata": {},
     "output_type": "execute_result"
    }
   ],
   "source": [
    "lvef.head()"
   ]
  },
  {
   "cell_type": "code",
   "execution_count": 20,
   "id": "097827bf",
   "metadata": {},
   "outputs": [
    {
     "data": {
      "text/plain": [
       "0"
      ]
     },
     "execution_count": 20,
     "metadata": {},
     "output_type": "execute_result"
    }
   ],
   "source": [
    "lvef['document_datecreated'].isna().sum()"
   ]
  },
  {
   "cell_type": "code",
   "execution_count": 23,
   "id": "9ca973e5",
   "metadata": {},
   "outputs": [],
   "source": [
    "lvef = lvef[['client_idcode', 'document_datecreated', 'ef_value']]"
   ]
  },
  {
   "cell_type": "code",
   "execution_count": 24,
   "id": "535ca04b",
   "metadata": {},
   "outputs": [
    {
     "data": {
      "text/html": [
       "<div>\n",
       "<style scoped>\n",
       "    .dataframe tbody tr th:only-of-type {\n",
       "        vertical-align: middle;\n",
       "    }\n",
       "\n",
       "    .dataframe tbody tr th {\n",
       "        vertical-align: top;\n",
       "    }\n",
       "\n",
       "    .dataframe thead th {\n",
       "        text-align: right;\n",
       "    }\n",
       "</style>\n",
       "<table border=\"1\" class=\"dataframe\">\n",
       "  <thead>\n",
       "    <tr style=\"text-align: right;\">\n",
       "      <th></th>\n",
       "      <th>client_idcode</th>\n",
       "      <th>document_datecreated</th>\n",
       "      <th>ef_value</th>\n",
       "    </tr>\n",
       "  </thead>\n",
       "  <tbody>\n",
       "    <tr>\n",
       "      <th>0</th>\n",
       "      <td>R044506</td>\n",
       "      <td>2014-01-13T16:29:55.167+0000</td>\n",
       "      <td>55.0</td>\n",
       "    </tr>\n",
       "    <tr>\n",
       "      <th>1</th>\n",
       "      <td>P517376</td>\n",
       "      <td>2016-06-14T09:35:25.733+0100</td>\n",
       "      <td>69.4</td>\n",
       "    </tr>\n",
       "    <tr>\n",
       "      <th>2</th>\n",
       "      <td>P250150</td>\n",
       "      <td>2016-07-04T10:25:40.297+0100</td>\n",
       "      <td>NaN</td>\n",
       "    </tr>\n",
       "    <tr>\n",
       "      <th>3</th>\n",
       "      <td>0730904</td>\n",
       "      <td>2014-01-13T19:53:52.203+0000</td>\n",
       "      <td>48.0</td>\n",
       "    </tr>\n",
       "    <tr>\n",
       "      <th>4</th>\n",
       "      <td>M874841</td>\n",
       "      <td>2017-07-14T09:05:33.470+0100</td>\n",
       "      <td>47.0</td>\n",
       "    </tr>\n",
       "  </tbody>\n",
       "</table>\n",
       "</div>"
      ],
      "text/plain": [
       "  client_idcode          document_datecreated  ef_value\n",
       "0       R044506  2014-01-13T16:29:55.167+0000      55.0\n",
       "1       P517376  2016-06-14T09:35:25.733+0100      69.4\n",
       "2       P250150  2016-07-04T10:25:40.297+0100       NaN\n",
       "3       0730904  2014-01-13T19:53:52.203+0000      48.0\n",
       "4       M874841  2017-07-14T09:05:33.470+0100      47.0"
      ]
     },
     "execution_count": 24,
     "metadata": {},
     "output_type": "execute_result"
    }
   ],
   "source": [
    "lvef.head()"
   ]
  },
  {
   "cell_type": "code",
   "execution_count": 25,
   "id": "db9f666c",
   "metadata": {},
   "outputs": [
    {
     "data": {
      "text/plain": [
       "(245484, 3)"
      ]
     },
     "execution_count": 25,
     "metadata": {},
     "output_type": "execute_result"
    }
   ],
   "source": [
    "lvef.shape"
   ]
  },
  {
   "cell_type": "code",
   "execution_count": 26,
   "id": "8be2fa2a",
   "metadata": {},
   "outputs": [],
   "source": [
    "lvef.dropna(subset=['ef_value'], inplace = True)"
   ]
  },
  {
   "cell_type": "code",
   "execution_count": 27,
   "id": "2e2efe9f",
   "metadata": {},
   "outputs": [
    {
     "data": {
      "text/plain": [
       "(164628, 3)"
      ]
     },
     "execution_count": 27,
     "metadata": {},
     "output_type": "execute_result"
    }
   ],
   "source": [
    "lvef.shape"
   ]
  },
  {
   "cell_type": "code",
   "execution_count": 28,
   "id": "e3773e92",
   "metadata": {},
   "outputs": [],
   "source": [
    "df = pd.merge(lvef, df, on='client_idcode', how='right') "
   ]
  },
  {
   "cell_type": "code",
   "execution_count": 29,
   "id": "bc0d770b",
   "metadata": {},
   "outputs": [
    {
     "data": {
      "text/plain": [
       "(5084, 4)"
      ]
     },
     "execution_count": 29,
     "metadata": {},
     "output_type": "execute_result"
    }
   ],
   "source": [
    "df.shape"
   ]
  },
  {
   "cell_type": "code",
   "execution_count": 30,
   "id": "e99abf83",
   "metadata": {},
   "outputs": [
    {
     "data": {
      "text/html": [
       "<div>\n",
       "<style scoped>\n",
       "    .dataframe tbody tr th:only-of-type {\n",
       "        vertical-align: middle;\n",
       "    }\n",
       "\n",
       "    .dataframe tbody tr th {\n",
       "        vertical-align: top;\n",
       "    }\n",
       "\n",
       "    .dataframe thead th {\n",
       "        text-align: right;\n",
       "    }\n",
       "</style>\n",
       "<table border=\"1\" class=\"dataframe\">\n",
       "  <thead>\n",
       "    <tr style=\"text-align: right;\">\n",
       "      <th></th>\n",
       "      <th>client_idcode</th>\n",
       "      <th>document_datecreated</th>\n",
       "      <th>ef_value</th>\n",
       "      <th>first_mention_rivaroxaban</th>\n",
       "    </tr>\n",
       "  </thead>\n",
       "  <tbody>\n",
       "    <tr>\n",
       "      <th>0</th>\n",
       "      <td>0372858</td>\n",
       "      <td>NaN</td>\n",
       "      <td>NaN</td>\n",
       "      <td>2015-03-02</td>\n",
       "    </tr>\n",
       "    <tr>\n",
       "      <th>1</th>\n",
       "      <td>M282816</td>\n",
       "      <td>2019-02-15T10:50:25.223+0000</td>\n",
       "      <td>39.0</td>\n",
       "      <td>2018-10-25</td>\n",
       "    </tr>\n",
       "    <tr>\n",
       "      <th>2</th>\n",
       "      <td>M282816</td>\n",
       "      <td>2018-11-16T13:00:24.540+0000</td>\n",
       "      <td>43.2</td>\n",
       "      <td>2018-10-25</td>\n",
       "    </tr>\n",
       "    <tr>\n",
       "      <th>3</th>\n",
       "      <td>M282816</td>\n",
       "      <td>2019-10-09T15:14:58.283+0100</td>\n",
       "      <td>66.0</td>\n",
       "      <td>2018-10-25</td>\n",
       "    </tr>\n",
       "    <tr>\n",
       "      <th>4</th>\n",
       "      <td>V282449</td>\n",
       "      <td>NaN</td>\n",
       "      <td>NaN</td>\n",
       "      <td>2018-08-02</td>\n",
       "    </tr>\n",
       "  </tbody>\n",
       "</table>\n",
       "</div>"
      ],
      "text/plain": [
       "  client_idcode          document_datecreated  ef_value  \\\n",
       "0       0372858                           NaN       NaN   \n",
       "1       M282816  2019-02-15T10:50:25.223+0000      39.0   \n",
       "2       M282816  2018-11-16T13:00:24.540+0000      43.2   \n",
       "3       M282816  2019-10-09T15:14:58.283+0100      66.0   \n",
       "4       V282449                           NaN       NaN   \n",
       "\n",
       "  first_mention_rivaroxaban  \n",
       "0                2015-03-02  \n",
       "1                2018-10-25  \n",
       "2                2018-10-25  \n",
       "3                2018-10-25  \n",
       "4                2018-08-02  "
      ]
     },
     "execution_count": 30,
     "metadata": {},
     "output_type": "execute_result"
    }
   ],
   "source": [
    "df.head()"
   ]
  },
  {
   "cell_type": "code",
   "execution_count": 31,
   "id": "16c19f5c",
   "metadata": {},
   "outputs": [
    {
     "data": {
      "text/plain": [
       "1111"
      ]
     },
     "execution_count": 31,
     "metadata": {},
     "output_type": "execute_result"
    }
   ],
   "source": [
    "df['ef_value'].isna().sum()"
   ]
  },
  {
   "cell_type": "code",
   "execution_count": 32,
   "id": "4d325280",
   "metadata": {},
   "outputs": [],
   "source": [
    "df.dropna(subset=['ef_value'], inplace = True)"
   ]
  },
  {
   "cell_type": "code",
   "execution_count": 33,
   "id": "da641ef9",
   "metadata": {},
   "outputs": [
    {
     "data": {
      "text/plain": [
       "(3973, 4)"
      ]
     },
     "execution_count": 33,
     "metadata": {},
     "output_type": "execute_result"
    }
   ],
   "source": [
    "df.shape"
   ]
  },
  {
   "cell_type": "code",
   "execution_count": 35,
   "id": "b3056427",
   "metadata": {},
   "outputs": [
    {
     "data": {
      "text/plain": [
       "1474"
      ]
     },
     "execution_count": 35,
     "metadata": {},
     "output_type": "execute_result"
    }
   ],
   "source": [
    "df['client_idcode'].nunique()"
   ]
  },
  {
   "cell_type": "code",
   "execution_count": 36,
   "id": "2dd94261",
   "metadata": {},
   "outputs": [
    {
     "data": {
      "text/plain": [
       "2585"
      ]
     },
     "execution_count": 36,
     "metadata": {},
     "output_type": "execute_result"
    }
   ],
   "source": [
    "1474 + 1111"
   ]
  },
  {
   "cell_type": "code",
   "execution_count": 37,
   "id": "41a00975",
   "metadata": {},
   "outputs": [],
   "source": [
    "df['document_datecreated'] = pd.to_datetime(df['document_datecreated'], utc=True).dt.date "
   ]
  },
  {
   "cell_type": "code",
   "execution_count": 38,
   "id": "11d4d506",
   "metadata": {},
   "outputs": [
    {
     "data": {
      "text/html": [
       "<div>\n",
       "<style scoped>\n",
       "    .dataframe tbody tr th:only-of-type {\n",
       "        vertical-align: middle;\n",
       "    }\n",
       "\n",
       "    .dataframe tbody tr th {\n",
       "        vertical-align: top;\n",
       "    }\n",
       "\n",
       "    .dataframe thead th {\n",
       "        text-align: right;\n",
       "    }\n",
       "</style>\n",
       "<table border=\"1\" class=\"dataframe\">\n",
       "  <thead>\n",
       "    <tr style=\"text-align: right;\">\n",
       "      <th></th>\n",
       "      <th>client_idcode</th>\n",
       "      <th>document_datecreated</th>\n",
       "      <th>ef_value</th>\n",
       "      <th>first_mention_rivaroxaban</th>\n",
       "    </tr>\n",
       "  </thead>\n",
       "  <tbody>\n",
       "    <tr>\n",
       "      <th>1</th>\n",
       "      <td>M282816</td>\n",
       "      <td>2019-02-15</td>\n",
       "      <td>39.0</td>\n",
       "      <td>2018-10-25</td>\n",
       "    </tr>\n",
       "    <tr>\n",
       "      <th>2</th>\n",
       "      <td>M282816</td>\n",
       "      <td>2018-11-16</td>\n",
       "      <td>43.2</td>\n",
       "      <td>2018-10-25</td>\n",
       "    </tr>\n",
       "    <tr>\n",
       "      <th>3</th>\n",
       "      <td>M282816</td>\n",
       "      <td>2019-10-09</td>\n",
       "      <td>66.0</td>\n",
       "      <td>2018-10-25</td>\n",
       "    </tr>\n",
       "    <tr>\n",
       "      <th>5</th>\n",
       "      <td>V459668</td>\n",
       "      <td>2015-06-17</td>\n",
       "      <td>63.0</td>\n",
       "      <td>2015-06-25</td>\n",
       "    </tr>\n",
       "    <tr>\n",
       "      <th>6</th>\n",
       "      <td>R081687</td>\n",
       "      <td>2015-04-21</td>\n",
       "      <td>50.0</td>\n",
       "      <td>2015-04-27</td>\n",
       "    </tr>\n",
       "  </tbody>\n",
       "</table>\n",
       "</div>"
      ],
      "text/plain": [
       "  client_idcode document_datecreated  ef_value first_mention_rivaroxaban\n",
       "1       M282816           2019-02-15      39.0                2018-10-25\n",
       "2       M282816           2018-11-16      43.2                2018-10-25\n",
       "3       M282816           2019-10-09      66.0                2018-10-25\n",
       "5       V459668           2015-06-17      63.0                2015-06-25\n",
       "6       R081687           2015-04-21      50.0                2015-04-27"
      ]
     },
     "execution_count": 38,
     "metadata": {},
     "output_type": "execute_result"
    }
   ],
   "source": [
    "df.head()"
   ]
  },
  {
   "cell_type": "code",
   "execution_count": 39,
   "id": "0589de62",
   "metadata": {},
   "outputs": [
    {
     "name": "stdout",
     "output_type": "stream",
     "text": [
      "CPU times: user 5 ms, sys: 3.62 ms, total: 8.62 ms\n",
      "Wall time: 6.93 ms\n"
     ]
    }
   ],
   "source": [
    "%%time \n",
    "df['difference'] = pd.to_datetime(df['first_mention_rivaroxaban']) - pd.to_datetime(df['document_datecreated'])\n",
    "min_time = datetime.timedelta(days=1) \n",
    "max_time = datetime.timedelta(days=183)\n",
    "t1 = df['difference'] >= min_time \n",
    "t2 = df['difference'] <= max_time\n",
    "in_window = t1 & t2 \n",
    "df['in_window'] = in_window"
   ]
  },
  {
   "cell_type": "code",
   "execution_count": 40,
   "id": "534e5ffa",
   "metadata": {},
   "outputs": [
    {
     "data": {
      "text/html": [
       "<div>\n",
       "<style scoped>\n",
       "    .dataframe tbody tr th:only-of-type {\n",
       "        vertical-align: middle;\n",
       "    }\n",
       "\n",
       "    .dataframe tbody tr th {\n",
       "        vertical-align: top;\n",
       "    }\n",
       "\n",
       "    .dataframe thead th {\n",
       "        text-align: right;\n",
       "    }\n",
       "</style>\n",
       "<table border=\"1\" class=\"dataframe\">\n",
       "  <thead>\n",
       "    <tr style=\"text-align: right;\">\n",
       "      <th></th>\n",
       "      <th>client_idcode</th>\n",
       "      <th>document_datecreated</th>\n",
       "      <th>ef_value</th>\n",
       "      <th>first_mention_rivaroxaban</th>\n",
       "      <th>difference</th>\n",
       "      <th>in_window</th>\n",
       "    </tr>\n",
       "  </thead>\n",
       "  <tbody>\n",
       "    <tr>\n",
       "      <th>1</th>\n",
       "      <td>M282816</td>\n",
       "      <td>2019-02-15</td>\n",
       "      <td>39.0</td>\n",
       "      <td>2018-10-25</td>\n",
       "      <td>-113 days</td>\n",
       "      <td>False</td>\n",
       "    </tr>\n",
       "    <tr>\n",
       "      <th>2</th>\n",
       "      <td>M282816</td>\n",
       "      <td>2018-11-16</td>\n",
       "      <td>43.2</td>\n",
       "      <td>2018-10-25</td>\n",
       "      <td>-22 days</td>\n",
       "      <td>False</td>\n",
       "    </tr>\n",
       "    <tr>\n",
       "      <th>3</th>\n",
       "      <td>M282816</td>\n",
       "      <td>2019-10-09</td>\n",
       "      <td>66.0</td>\n",
       "      <td>2018-10-25</td>\n",
       "      <td>-349 days</td>\n",
       "      <td>False</td>\n",
       "    </tr>\n",
       "    <tr>\n",
       "      <th>5</th>\n",
       "      <td>V459668</td>\n",
       "      <td>2015-06-17</td>\n",
       "      <td>63.0</td>\n",
       "      <td>2015-06-25</td>\n",
       "      <td>8 days</td>\n",
       "      <td>True</td>\n",
       "    </tr>\n",
       "    <tr>\n",
       "      <th>6</th>\n",
       "      <td>R081687</td>\n",
       "      <td>2015-04-21</td>\n",
       "      <td>50.0</td>\n",
       "      <td>2015-04-27</td>\n",
       "      <td>6 days</td>\n",
       "      <td>True</td>\n",
       "    </tr>\n",
       "  </tbody>\n",
       "</table>\n",
       "</div>"
      ],
      "text/plain": [
       "  client_idcode document_datecreated  ef_value first_mention_rivaroxaban  \\\n",
       "1       M282816           2019-02-15      39.0                2018-10-25   \n",
       "2       M282816           2018-11-16      43.2                2018-10-25   \n",
       "3       M282816           2019-10-09      66.0                2018-10-25   \n",
       "5       V459668           2015-06-17      63.0                2015-06-25   \n",
       "6       R081687           2015-04-21      50.0                2015-04-27   \n",
       "\n",
       "  difference  in_window  \n",
       "1  -113 days      False  \n",
       "2   -22 days      False  \n",
       "3  -349 days      False  \n",
       "5     8 days       True  \n",
       "6     6 days       True  "
      ]
     },
     "execution_count": 40,
     "metadata": {},
     "output_type": "execute_result"
    }
   ],
   "source": [
    "df.head()"
   ]
  },
  {
   "cell_type": "code",
   "execution_count": 41,
   "id": "d8f9ccc7",
   "metadata": {},
   "outputs": [
    {
     "data": {
      "text/plain": [
       "569"
      ]
     },
     "execution_count": 41,
     "metadata": {},
     "output_type": "execute_result"
    }
   ],
   "source": [
    "df = df.loc[df['in_window'] == True]\n",
    "df['client_idcode'].nunique()"
   ]
  },
  {
   "cell_type": "code",
   "execution_count": 43,
   "id": "8c0ee4a2",
   "metadata": {},
   "outputs": [],
   "source": [
    "df = df[df['ef_value'] <= 35]"
   ]
  },
  {
   "cell_type": "code",
   "execution_count": 44,
   "id": "d415cf9c",
   "metadata": {},
   "outputs": [
    {
     "data": {
      "text/plain": [
       "107"
      ]
     },
     "execution_count": 44,
     "metadata": {},
     "output_type": "execute_result"
    }
   ],
   "source": [
    "df['client_idcode'].nunique()"
   ]
  },
  {
   "cell_type": "code",
   "execution_count": 46,
   "id": "b413a1f2",
   "metadata": {},
   "outputs": [
    {
     "data": {
      "text/plain": [
       "107"
      ]
     },
     "execution_count": 46,
     "metadata": {},
     "output_type": "execute_result"
    }
   ],
   "source": [
    "lvef = set(df['client_idcode'])\n",
    "len(lvef)"
   ]
  },
  {
   "cell_type": "code",
   "execution_count": 47,
   "id": "0a488d61",
   "metadata": {},
   "outputs": [],
   "source": [
    "with open('/projects/ROCKET AF/1A/rivaroxaban dataextraction/data/lvef.pickle', 'wb') as f:\n",
    "    pickle.dump(lvef,f)"
   ]
  },
  {
   "cell_type": "markdown",
   "id": "987e81fe",
   "metadata": {},
   "source": [
    "# AF patients on rivaroxaban with heart failure (HF)"
   ]
  },
  {
   "cell_type": "code",
   "execution_count": 84,
   "id": "c58a325b",
   "metadata": {},
   "outputs": [],
   "source": [
    "def graph_from_onto(onto):\n",
    "    G = nx.DiGraph()\n",
    "    cl_edges = []\n",
    "    for s, ts in onto.items():\n",
    "        for t in ts:\n",
    "            cl_edges.append((s.replace('S-', ''), t.replace('S-', '')))\n",
    "    G.add_edges_from(cl_edges)\n",
    "    return G\n",
    "\n",
    "def load_onto(o):\n",
    "    with open(f'/projects/data/GS/{o}', 'rb') as f:\n",
    "        onto = pickle.load(f)\n",
    "    G = graph_from_onto(onto)\n",
    "    return G\n",
    "\n",
    "def expand_codes(onto, codes):\n",
    "    expanded = {}\n",
    "    for name, top_codes in codes.items():\n",
    "        expanded[name] = set()\n",
    "        for c in top_codes:\n",
    "            expanded[name].add(c)\n",
    "            if c in onto:\n",
    "                expanded[name].update(nx.ancestors(onto, c))\n",
    "            else:\n",
    "                print(\"NOT FOUND:\", c, name)\n",
    "        print(name, len(top_codes), len(expanded[name]))\n",
    "    return expanded"
   ]
  },
  {
   "cell_type": "code",
   "execution_count": 85,
   "id": "c3186e44",
   "metadata": {},
   "outputs": [],
   "source": [
    "onto = load_onto('isa_rela_ch2pt_202009.pickle')"
   ]
  },
  {
   "cell_type": "code",
   "execution_count": 86,
   "id": "21580a42",
   "metadata": {},
   "outputs": [
    {
     "name": "stdout",
     "output_type": "stream",
     "text": [
      "HF 1 100\n"
     ]
    }
   ],
   "source": [
    "hf = { 'HF' : ['84114007']}\n",
    "hf = expand_codes(onto,hf)"
   ]
  },
  {
   "cell_type": "code",
   "execution_count": 87,
   "id": "01ce2fb4",
   "metadata": {},
   "outputs": [
    {
     "name": "stdout",
     "output_type": "stream",
     "text": [
      "CPU times: user 2min 32s, sys: 35.4 s, total: 3min 7s\n",
      "Wall time: 3min 7s\n"
     ]
    }
   ],
   "source": [
    "%%time \n",
    "with open('/projects/data/GS/pt2cui_pos_dates.pickle', 'rb') as f:\n",
    "    pt2cui_pos_dates = pickle.load(f)"
   ]
  },
  {
   "cell_type": "code",
   "execution_count": 97,
   "id": "44488230",
   "metadata": {},
   "outputs": [],
   "source": [
    "def dates_ex(pt_data, codes):\n",
    "    dates = None\n",
    "    for x in codes:\n",
    "        if x in pt_data and len(pt_data[x])>=2:\n",
    "            if dates == None:\n",
    "                dates = pt_data[x]\n",
    "            else: \n",
    "                dates = dates.union(pt_data[x])\n",
    "    return dates\n",
    "\n",
    "rows = []\n",
    "for pt in ids:\n",
    "    pt_data = pt2cui_pos_dates.get(pt, {})\n",
    "    row = {'client_idcode': pt, 'first_mention_rivaroxaban': rivaroxaban[pt]} \n",
    "    for concept, codes in hf.items():\n",
    "        dates = dates_ex(pt_data, codes)\n",
    "        if dates == None:\n",
    "            row[f\"{concept}_date\"] = np.nan\n",
    "        else:\n",
    "            row[f\"{concept}_date\"] = dates\n",
    "    rows.append(row)"
   ]
  },
  {
   "cell_type": "code",
   "execution_count": 98,
   "id": "df153151",
   "metadata": {},
   "outputs": [
    {
     "data": {
      "text/plain": [
       "(2585, 3)"
      ]
     },
     "execution_count": 98,
     "metadata": {},
     "output_type": "execute_result"
    }
   ],
   "source": [
    "df = pd.DataFrame(rows)\n",
    "df.shape"
   ]
  },
  {
   "cell_type": "code",
   "execution_count": 99,
   "id": "a216b5eb",
   "metadata": {},
   "outputs": [
    {
     "data": {
      "text/html": [
       "<div>\n",
       "<style scoped>\n",
       "    .dataframe tbody tr th:only-of-type {\n",
       "        vertical-align: middle;\n",
       "    }\n",
       "\n",
       "    .dataframe tbody tr th {\n",
       "        vertical-align: top;\n",
       "    }\n",
       "\n",
       "    .dataframe thead th {\n",
       "        text-align: right;\n",
       "    }\n",
       "</style>\n",
       "<table border=\"1\" class=\"dataframe\">\n",
       "  <thead>\n",
       "    <tr style=\"text-align: right;\">\n",
       "      <th></th>\n",
       "      <th>client_idcode</th>\n",
       "      <th>first_mention_rivaroxaban</th>\n",
       "      <th>HF_date</th>\n",
       "    </tr>\n",
       "  </thead>\n",
       "  <tbody>\n",
       "    <tr>\n",
       "      <th>0</th>\n",
       "      <td>P502654</td>\n",
       "      <td>2014-09-12</td>\n",
       "      <td>NaN</td>\n",
       "    </tr>\n",
       "    <tr>\n",
       "      <th>1</th>\n",
       "      <td>M211261</td>\n",
       "      <td>2020-09-05</td>\n",
       "      <td>NaN</td>\n",
       "    </tr>\n",
       "    <tr>\n",
       "      <th>2</th>\n",
       "      <td>V501863</td>\n",
       "      <td>2016-02-25</td>\n",
       "      <td>NaN</td>\n",
       "    </tr>\n",
       "    <tr>\n",
       "      <th>3</th>\n",
       "      <td>M441841</td>\n",
       "      <td>2015-07-20</td>\n",
       "      <td>NaN</td>\n",
       "    </tr>\n",
       "    <tr>\n",
       "      <th>4</th>\n",
       "      <td>A510695</td>\n",
       "      <td>2018-02-09</td>\n",
       "      <td>NaN</td>\n",
       "    </tr>\n",
       "  </tbody>\n",
       "</table>\n",
       "</div>"
      ],
      "text/plain": [
       "  client_idcode first_mention_rivaroxaban HF_date\n",
       "0       P502654                2014-09-12     NaN\n",
       "1       M211261                2020-09-05     NaN\n",
       "2       V501863                2016-02-25     NaN\n",
       "3       M441841                2015-07-20     NaN\n",
       "4       A510695                2018-02-09     NaN"
      ]
     },
     "execution_count": 99,
     "metadata": {},
     "output_type": "execute_result"
    }
   ],
   "source": [
    "df.head()"
   ]
  },
  {
   "cell_type": "code",
   "execution_count": 100,
   "id": "d3353d3c",
   "metadata": {},
   "outputs": [],
   "source": [
    "df.dropna(subset=['HF_date'], inplace = True)"
   ]
  },
  {
   "cell_type": "code",
   "execution_count": 101,
   "id": "a8e6f159",
   "metadata": {},
   "outputs": [
    {
     "data": {
      "text/html": [
       "<div>\n",
       "<style scoped>\n",
       "    .dataframe tbody tr th:only-of-type {\n",
       "        vertical-align: middle;\n",
       "    }\n",
       "\n",
       "    .dataframe tbody tr th {\n",
       "        vertical-align: top;\n",
       "    }\n",
       "\n",
       "    .dataframe thead th {\n",
       "        text-align: right;\n",
       "    }\n",
       "</style>\n",
       "<table border=\"1\" class=\"dataframe\">\n",
       "  <thead>\n",
       "    <tr style=\"text-align: right;\">\n",
       "      <th></th>\n",
       "      <th>client_idcode</th>\n",
       "      <th>first_mention_rivaroxaban</th>\n",
       "      <th>HF_date</th>\n",
       "    </tr>\n",
       "  </thead>\n",
       "  <tbody>\n",
       "    <tr>\n",
       "      <th>6</th>\n",
       "      <td>P234624</td>\n",
       "      <td>2014-06-27</td>\n",
       "      <td>{2014-06-30 09:32:00, 2014-06-25 02:41:00, 201...</td>\n",
       "    </tr>\n",
       "    <tr>\n",
       "      <th>17</th>\n",
       "      <td>D100013</td>\n",
       "      <td>2017-10-17</td>\n",
       "      <td>{2017-10-30 10:56:58.007000, 2017-12-12 10:59:...</td>\n",
       "    </tr>\n",
       "    <tr>\n",
       "      <th>19</th>\n",
       "      <td>0640313</td>\n",
       "      <td>2019-01-10</td>\n",
       "      <td>{2019-01-04 21:59:44.213000, 2015-03-30 19:58:...</td>\n",
       "    </tr>\n",
       "    <tr>\n",
       "      <th>21</th>\n",
       "      <td>0976670</td>\n",
       "      <td>2010-09-13</td>\n",
       "      <td>{2018-12-27 10:40:31.660000, 2012-01-25 15:41:...</td>\n",
       "    </tr>\n",
       "    <tr>\n",
       "      <th>22</th>\n",
       "      <td>P473600</td>\n",
       "      <td>2015-12-02</td>\n",
       "      <td>{2015-12-09 16:34:14.920000, 2018-01-11 15:16:...</td>\n",
       "    </tr>\n",
       "  </tbody>\n",
       "</table>\n",
       "</div>"
      ],
      "text/plain": [
       "   client_idcode first_mention_rivaroxaban  \\\n",
       "6        P234624                2014-06-27   \n",
       "17       D100013                2017-10-17   \n",
       "19       0640313                2019-01-10   \n",
       "21       0976670                2010-09-13   \n",
       "22       P473600                2015-12-02   \n",
       "\n",
       "                                              HF_date  \n",
       "6   {2014-06-30 09:32:00, 2014-06-25 02:41:00, 201...  \n",
       "17  {2017-10-30 10:56:58.007000, 2017-12-12 10:59:...  \n",
       "19  {2019-01-04 21:59:44.213000, 2015-03-30 19:58:...  \n",
       "21  {2018-12-27 10:40:31.660000, 2012-01-25 15:41:...  \n",
       "22  {2015-12-09 16:34:14.920000, 2018-01-11 15:16:...  "
      ]
     },
     "execution_count": 101,
     "metadata": {},
     "output_type": "execute_result"
    }
   ],
   "source": [
    "df.head()"
   ]
  },
  {
   "cell_type": "code",
   "execution_count": 102,
   "id": "f29424f8",
   "metadata": {},
   "outputs": [],
   "source": [
    "row = df.loc[df['client_idcode'] == 'P234624']"
   ]
  },
  {
   "cell_type": "code",
   "execution_count": 106,
   "id": "305c01a7",
   "metadata": {},
   "outputs": [],
   "source": [
    "specific_client_idcode = 'P234624'"
   ]
  },
  {
   "cell_type": "code",
   "execution_count": 107,
   "id": "0d2bb3c9",
   "metadata": {},
   "outputs": [
    {
     "name": "stdout",
     "output_type": "stream",
     "text": [
      "Set for ID P234624: {datetime.datetime(2014, 6, 30, 9, 32), datetime.datetime(2014, 6, 25, 2, 41), datetime.datetime(2014, 6, 25, 1, 52), datetime.datetime(2014, 6, 26, 12, 12), datetime.datetime(2014, 6, 24, 10, 3)}\n"
     ]
    }
   ],
   "source": [
    "if not row.empty:\n",
    "    # Access the set within the 'Set_Column' and print it\n",
    "    specific_set = row.iloc[0]['HF_date']\n",
    "    print(f\"Set for ID {specific_client_idcode}: {specific_set}\")\n",
    "else:\n",
    "    print(f\"No matching ID found for {specific_client_idcode}\")"
   ]
  },
  {
   "cell_type": "code",
   "execution_count": 113,
   "id": "fe93d9a5",
   "metadata": {},
   "outputs": [
    {
     "data": {
      "text/plain": [
       "597"
      ]
     },
     "execution_count": 113,
     "metadata": {},
     "output_type": "execute_result"
    }
   ],
   "source": [
    "df['client_idcode'].nunique()"
   ]
  },
  {
   "cell_type": "code",
   "execution_count": 114,
   "id": "282f7f98",
   "metadata": {},
   "outputs": [
    {
     "name": "stdout",
     "output_type": "stream",
     "text": [
      "CPU times: user 8.67 ms, sys: 3.11 ms, total: 11.8 ms\n",
      "Wall time: 9.94 ms\n"
     ]
    },
    {
     "data": {
      "text/plain": [
       "(8219, 3)"
      ]
     },
     "execution_count": 114,
     "metadata": {},
     "output_type": "execute_result"
    }
   ],
   "source": [
    "%%time\n",
    "df = df[['client_idcode']].join((df[i].explode() for i in df.iloc[:,1:]))\n",
    "df.shape"
   ]
  },
  {
   "cell_type": "code",
   "execution_count": 115,
   "id": "63dee4e8",
   "metadata": {},
   "outputs": [
    {
     "data": {
      "text/html": [
       "<div>\n",
       "<style scoped>\n",
       "    .dataframe tbody tr th:only-of-type {\n",
       "        vertical-align: middle;\n",
       "    }\n",
       "\n",
       "    .dataframe tbody tr th {\n",
       "        vertical-align: top;\n",
       "    }\n",
       "\n",
       "    .dataframe thead th {\n",
       "        text-align: right;\n",
       "    }\n",
       "</style>\n",
       "<table border=\"1\" class=\"dataframe\">\n",
       "  <thead>\n",
       "    <tr style=\"text-align: right;\">\n",
       "      <th></th>\n",
       "      <th>client_idcode</th>\n",
       "      <th>first_mention_rivaroxaban</th>\n",
       "      <th>HF_date</th>\n",
       "    </tr>\n",
       "  </thead>\n",
       "  <tbody>\n",
       "    <tr>\n",
       "      <th>6</th>\n",
       "      <td>P234624</td>\n",
       "      <td>2014-06-27</td>\n",
       "      <td>2014-06-30 09:32:00.000</td>\n",
       "    </tr>\n",
       "    <tr>\n",
       "      <th>6</th>\n",
       "      <td>P234624</td>\n",
       "      <td>2014-06-27</td>\n",
       "      <td>2014-06-25 02:41:00.000</td>\n",
       "    </tr>\n",
       "    <tr>\n",
       "      <th>6</th>\n",
       "      <td>P234624</td>\n",
       "      <td>2014-06-27</td>\n",
       "      <td>2014-06-25 01:52:00.000</td>\n",
       "    </tr>\n",
       "    <tr>\n",
       "      <th>6</th>\n",
       "      <td>P234624</td>\n",
       "      <td>2014-06-27</td>\n",
       "      <td>2014-06-26 12:12:00.000</td>\n",
       "    </tr>\n",
       "    <tr>\n",
       "      <th>6</th>\n",
       "      <td>P234624</td>\n",
       "      <td>2014-06-27</td>\n",
       "      <td>2014-06-24 10:03:00.000</td>\n",
       "    </tr>\n",
       "    <tr>\n",
       "      <th>17</th>\n",
       "      <td>D100013</td>\n",
       "      <td>2017-10-17</td>\n",
       "      <td>2017-10-30 10:56:58.007</td>\n",
       "    </tr>\n",
       "  </tbody>\n",
       "</table>\n",
       "</div>"
      ],
      "text/plain": [
       "   client_idcode first_mention_rivaroxaban                 HF_date\n",
       "6        P234624                2014-06-27 2014-06-30 09:32:00.000\n",
       "6        P234624                2014-06-27 2014-06-25 02:41:00.000\n",
       "6        P234624                2014-06-27 2014-06-25 01:52:00.000\n",
       "6        P234624                2014-06-27 2014-06-26 12:12:00.000\n",
       "6        P234624                2014-06-27 2014-06-24 10:03:00.000\n",
       "17       D100013                2017-10-17 2017-10-30 10:56:58.007"
      ]
     },
     "execution_count": 115,
     "metadata": {},
     "output_type": "execute_result"
    }
   ],
   "source": [
    "df.head(6)"
   ]
  },
  {
   "cell_type": "code",
   "execution_count": 117,
   "id": "1f956780",
   "metadata": {},
   "outputs": [],
   "source": [
    "df['HF_date'] = pd.to_datetime(df['HF_date'], utc=True).dt.date "
   ]
  },
  {
   "cell_type": "code",
   "execution_count": 118,
   "id": "3b20c838",
   "metadata": {},
   "outputs": [
    {
     "data": {
      "text/html": [
       "<div>\n",
       "<style scoped>\n",
       "    .dataframe tbody tr th:only-of-type {\n",
       "        vertical-align: middle;\n",
       "    }\n",
       "\n",
       "    .dataframe tbody tr th {\n",
       "        vertical-align: top;\n",
       "    }\n",
       "\n",
       "    .dataframe thead th {\n",
       "        text-align: right;\n",
       "    }\n",
       "</style>\n",
       "<table border=\"1\" class=\"dataframe\">\n",
       "  <thead>\n",
       "    <tr style=\"text-align: right;\">\n",
       "      <th></th>\n",
       "      <th>client_idcode</th>\n",
       "      <th>first_mention_rivaroxaban</th>\n",
       "      <th>HF_date</th>\n",
       "    </tr>\n",
       "  </thead>\n",
       "  <tbody>\n",
       "    <tr>\n",
       "      <th>6</th>\n",
       "      <td>P234624</td>\n",
       "      <td>2014-06-27</td>\n",
       "      <td>2014-06-30</td>\n",
       "    </tr>\n",
       "    <tr>\n",
       "      <th>6</th>\n",
       "      <td>P234624</td>\n",
       "      <td>2014-06-27</td>\n",
       "      <td>2014-06-25</td>\n",
       "    </tr>\n",
       "    <tr>\n",
       "      <th>6</th>\n",
       "      <td>P234624</td>\n",
       "      <td>2014-06-27</td>\n",
       "      <td>2014-06-25</td>\n",
       "    </tr>\n",
       "    <tr>\n",
       "      <th>6</th>\n",
       "      <td>P234624</td>\n",
       "      <td>2014-06-27</td>\n",
       "      <td>2014-06-26</td>\n",
       "    </tr>\n",
       "    <tr>\n",
       "      <th>6</th>\n",
       "      <td>P234624</td>\n",
       "      <td>2014-06-27</td>\n",
       "      <td>2014-06-24</td>\n",
       "    </tr>\n",
       "  </tbody>\n",
       "</table>\n",
       "</div>"
      ],
      "text/plain": [
       "  client_idcode first_mention_rivaroxaban     HF_date\n",
       "6       P234624                2014-06-27  2014-06-30\n",
       "6       P234624                2014-06-27  2014-06-25\n",
       "6       P234624                2014-06-27  2014-06-25\n",
       "6       P234624                2014-06-27  2014-06-26\n",
       "6       P234624                2014-06-27  2014-06-24"
      ]
     },
     "execution_count": 118,
     "metadata": {},
     "output_type": "execute_result"
    }
   ],
   "source": [
    "df.head()"
   ]
  },
  {
   "cell_type": "code",
   "execution_count": 119,
   "id": "6c639544",
   "metadata": {},
   "outputs": [
    {
     "name": "stdout",
     "output_type": "stream",
     "text": [
      "CPU times: user 9.12 ms, sys: 298 µs, total: 9.42 ms\n",
      "Wall time: 7.88 ms\n"
     ]
    }
   ],
   "source": [
    "%%time \n",
    "df['difference'] = pd.to_datetime(df['first_mention_rivaroxaban']) - pd.to_datetime(df['HF_date'])\n",
    "min_time = datetime.timedelta(days=1) \n",
    "max_time = datetime.timedelta(days=183)\n",
    "t1 = df['difference'] >= min_time \n",
    "t2 = df['difference'] <= max_time\n",
    "in_window = t1 & t2 \n",
    "df['in_window'] = in_window"
   ]
  },
  {
   "cell_type": "code",
   "execution_count": 120,
   "id": "568fd9f7",
   "metadata": {},
   "outputs": [
    {
     "data": {
      "text/html": [
       "<div>\n",
       "<style scoped>\n",
       "    .dataframe tbody tr th:only-of-type {\n",
       "        vertical-align: middle;\n",
       "    }\n",
       "\n",
       "    .dataframe tbody tr th {\n",
       "        vertical-align: top;\n",
       "    }\n",
       "\n",
       "    .dataframe thead th {\n",
       "        text-align: right;\n",
       "    }\n",
       "</style>\n",
       "<table border=\"1\" class=\"dataframe\">\n",
       "  <thead>\n",
       "    <tr style=\"text-align: right;\">\n",
       "      <th></th>\n",
       "      <th>client_idcode</th>\n",
       "      <th>first_mention_rivaroxaban</th>\n",
       "      <th>HF_date</th>\n",
       "      <th>difference</th>\n",
       "      <th>in_window</th>\n",
       "    </tr>\n",
       "  </thead>\n",
       "  <tbody>\n",
       "    <tr>\n",
       "      <th>6</th>\n",
       "      <td>P234624</td>\n",
       "      <td>2014-06-27</td>\n",
       "      <td>2014-06-30</td>\n",
       "      <td>-3 days</td>\n",
       "      <td>False</td>\n",
       "    </tr>\n",
       "    <tr>\n",
       "      <th>6</th>\n",
       "      <td>P234624</td>\n",
       "      <td>2014-06-27</td>\n",
       "      <td>2014-06-25</td>\n",
       "      <td>2 days</td>\n",
       "      <td>True</td>\n",
       "    </tr>\n",
       "    <tr>\n",
       "      <th>6</th>\n",
       "      <td>P234624</td>\n",
       "      <td>2014-06-27</td>\n",
       "      <td>2014-06-25</td>\n",
       "      <td>2 days</td>\n",
       "      <td>True</td>\n",
       "    </tr>\n",
       "    <tr>\n",
       "      <th>6</th>\n",
       "      <td>P234624</td>\n",
       "      <td>2014-06-27</td>\n",
       "      <td>2014-06-26</td>\n",
       "      <td>1 days</td>\n",
       "      <td>True</td>\n",
       "    </tr>\n",
       "    <tr>\n",
       "      <th>6</th>\n",
       "      <td>P234624</td>\n",
       "      <td>2014-06-27</td>\n",
       "      <td>2014-06-24</td>\n",
       "      <td>3 days</td>\n",
       "      <td>True</td>\n",
       "    </tr>\n",
       "  </tbody>\n",
       "</table>\n",
       "</div>"
      ],
      "text/plain": [
       "  client_idcode first_mention_rivaroxaban     HF_date difference  in_window\n",
       "6       P234624                2014-06-27  2014-06-30    -3 days      False\n",
       "6       P234624                2014-06-27  2014-06-25     2 days       True\n",
       "6       P234624                2014-06-27  2014-06-25     2 days       True\n",
       "6       P234624                2014-06-27  2014-06-26     1 days       True\n",
       "6       P234624                2014-06-27  2014-06-24     3 days       True"
      ]
     },
     "execution_count": 120,
     "metadata": {},
     "output_type": "execute_result"
    }
   ],
   "source": [
    "df.head()"
   ]
  },
  {
   "cell_type": "code",
   "execution_count": 121,
   "id": "77589905",
   "metadata": {},
   "outputs": [
    {
     "data": {
      "text/plain": [
       "237"
      ]
     },
     "execution_count": 121,
     "metadata": {},
     "output_type": "execute_result"
    }
   ],
   "source": [
    "df = df.loc[df['in_window'] == True]\n",
    "df['client_idcode'].nunique()"
   ]
  },
  {
   "cell_type": "code",
   "execution_count": 122,
   "id": "228638af",
   "metadata": {},
   "outputs": [
    {
     "data": {
      "text/plain": [
       "237"
      ]
     },
     "execution_count": 122,
     "metadata": {},
     "output_type": "execute_result"
    }
   ],
   "source": [
    "hf = set(df['client_idcode'])\n",
    "len(hf)"
   ]
  },
  {
   "cell_type": "code",
   "execution_count": 123,
   "id": "c090309f",
   "metadata": {},
   "outputs": [],
   "source": [
    "with open('/projects/ROCKET AF/1A/rivaroxaban dataextraction/data/hf.pickle', 'wb') as f:\n",
    "    pickle.dump(hf,f)"
   ]
  },
  {
   "cell_type": "code",
   "execution_count": null,
   "id": "8fecba08",
   "metadata": {},
   "outputs": [],
   "source": []
  }
 ],
 "metadata": {
  "kernelspec": {
   "display_name": "Python 3 (ipykernel)",
   "language": "python",
   "name": "python3"
  },
  "language_info": {
   "codemirror_mode": {
    "name": "ipython",
    "version": 3
   },
   "file_extension": ".py",
   "mimetype": "text/x-python",
   "name": "python",
   "nbconvert_exporter": "python",
   "pygments_lexer": "ipython3",
   "version": "3.9.7"
  }
 },
 "nbformat": 4,
 "nbformat_minor": 5
}
