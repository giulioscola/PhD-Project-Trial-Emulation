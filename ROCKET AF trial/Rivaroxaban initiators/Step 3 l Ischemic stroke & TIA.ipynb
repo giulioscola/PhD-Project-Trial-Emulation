{
 "cells": [
  {
   "cell_type": "code",
   "execution_count": 1,
   "id": "f21d6465",
   "metadata": {},
   "outputs": [],
   "source": [
    "import pandas as pd \n",
    "import pickle\n",
    "import datetime\n",
    "import re\n",
    "import networkx as nx\n",
    "import numpy as np"
   ]
  },
  {
   "cell_type": "markdown",
   "id": "34a7b833",
   "metadata": {},
   "source": [
    "# Atrial fibrillation (AF) patients on rivaroxaban"
   ]
  },
  {
   "cell_type": "code",
   "execution_count": 2,
   "id": "bf4bb01a",
   "metadata": {},
   "outputs": [],
   "source": [
    "with open('/projects/ROCKET AF/1A/rivaroxaban dataextraction/data/first_mention_rivaroxaban.pickle', 'rb') as f:\n",
    "    rivaroxaban = pickle.load(f)"
   ]
  },
  {
   "cell_type": "code",
   "execution_count": 3,
   "id": "f1db8512",
   "metadata": {},
   "outputs": [
    {
     "data": {
      "text/plain": [
       "2585"
      ]
     },
     "execution_count": 3,
     "metadata": {},
     "output_type": "execute_result"
    }
   ],
   "source": [
    "len(rivaroxaban)"
   ]
  },
  {
   "cell_type": "code",
   "execution_count": 4,
   "id": "180c98c7",
   "metadata": {},
   "outputs": [
    {
     "data": {
      "text/plain": [
       "(2585, 2)"
      ]
     },
     "execution_count": 4,
     "metadata": {},
     "output_type": "execute_result"
    }
   ],
   "source": [
    "df = pd.DataFrame(list(rivaroxaban.items()), columns=['client_idcode', 'first_mention_rivaroxaban']) # This code converts a dictionary (rivaroxaban) into a Pandas DataFrame with two columns named 'client_idcode' and 'first_mention_rivaroxaban'\n",
    "df.shape"
   ]
  },
  {
   "cell_type": "code",
   "execution_count": 5,
   "id": "8b079074",
   "metadata": {},
   "outputs": [
    {
     "data": {
      "text/html": [
       "<div>\n",
       "<style scoped>\n",
       "    .dataframe tbody tr th:only-of-type {\n",
       "        vertical-align: middle;\n",
       "    }\n",
       "\n",
       "    .dataframe tbody tr th {\n",
       "        vertical-align: top;\n",
       "    }\n",
       "\n",
       "    .dataframe thead th {\n",
       "        text-align: right;\n",
       "    }\n",
       "</style>\n",
       "<table border=\"1\" class=\"dataframe\">\n",
       "  <thead>\n",
       "    <tr style=\"text-align: right;\">\n",
       "      <th></th>\n",
       "      <th>client_idcode</th>\n",
       "      <th>first_mention_rivaroxaban</th>\n",
       "    </tr>\n",
       "  </thead>\n",
       "  <tbody>\n",
       "    <tr>\n",
       "      <th>0</th>\n",
       "      <td>0372858</td>\n",
       "      <td>2015-03-02</td>\n",
       "    </tr>\n",
       "    <tr>\n",
       "      <th>1</th>\n",
       "      <td>M282816</td>\n",
       "      <td>2018-10-25</td>\n",
       "    </tr>\n",
       "    <tr>\n",
       "      <th>2</th>\n",
       "      <td>V282449</td>\n",
       "      <td>2018-08-02</td>\n",
       "    </tr>\n",
       "    <tr>\n",
       "      <th>3</th>\n",
       "      <td>V459668</td>\n",
       "      <td>2015-06-25</td>\n",
       "    </tr>\n",
       "    <tr>\n",
       "      <th>4</th>\n",
       "      <td>R081687</td>\n",
       "      <td>2015-04-27</td>\n",
       "    </tr>\n",
       "  </tbody>\n",
       "</table>\n",
       "</div>"
      ],
      "text/plain": [
       "  client_idcode first_mention_rivaroxaban\n",
       "0       0372858                2015-03-02\n",
       "1       M282816                2018-10-25\n",
       "2       V282449                2018-08-02\n",
       "3       V459668                2015-06-25\n",
       "4       R081687                2015-04-27"
      ]
     },
     "execution_count": 5,
     "metadata": {},
     "output_type": "execute_result"
    }
   ],
   "source": [
    "df.head()"
   ]
  },
  {
   "cell_type": "code",
   "execution_count": 6,
   "id": "80174dae",
   "metadata": {},
   "outputs": [
    {
     "data": {
      "text/plain": [
       "2585"
      ]
     },
     "execution_count": 6,
     "metadata": {},
     "output_type": "execute_result"
    }
   ],
   "source": [
    "ids = set(df['client_idcode'])\n",
    "len(ids)"
   ]
  },
  {
   "cell_type": "markdown",
   "id": "987e81fe",
   "metadata": {},
   "source": [
    "# AF patients on rivaroxaban with history of ischemic stroke & transient ischemic attack (TIA)"
   ]
  },
  {
   "cell_type": "code",
   "execution_count": 7,
   "id": "c58a325b",
   "metadata": {},
   "outputs": [],
   "source": [
    "def graph_from_onto(onto):\n",
    "    G = nx.DiGraph()\n",
    "    cl_edges = []\n",
    "    for s, ts in onto.items():\n",
    "        for t in ts:\n",
    "            cl_edges.append((s.replace('S-', ''), t.replace('S-', '')))\n",
    "    G.add_edges_from(cl_edges)\n",
    "    return G\n",
    "\n",
    "def load_onto(o):\n",
    "    with open(f'/projects/data/GS/{o}', 'rb') as f:\n",
    "        onto = pickle.load(f)\n",
    "    G = graph_from_onto(onto)\n",
    "    return G\n",
    "\n",
    "def expand_codes(onto, codes):\n",
    "    expanded = {}\n",
    "    for name, top_codes in codes.items():\n",
    "        expanded[name] = set()\n",
    "        for c in top_codes:\n",
    "            expanded[name].add(c)\n",
    "            if c in onto:\n",
    "                expanded[name].update(nx.ancestors(onto, c))\n",
    "            else:\n",
    "                print(\"NOT FOUND:\", c, name)\n",
    "        print(name, len(top_codes), len(expanded[name]))\n",
    "    return expanded"
   ]
  },
  {
   "cell_type": "code",
   "execution_count": 8,
   "id": "c3186e44",
   "metadata": {},
   "outputs": [],
   "source": [
    "onto = load_onto('isa_rela_ch2pt_202009.pickle')"
   ]
  },
  {
   "cell_type": "code",
   "execution_count": 9,
   "id": "21580a42",
   "metadata": {},
   "outputs": [
    {
     "name": "stdout",
     "output_type": "stream",
     "text": [
      "ischemic_stroke 1 11\n",
      "transient_ischemic_attack 1 14\n"
     ]
    }
   ],
   "source": [
    "inclusion_criteria = {\n",
    "    'ischemic_stroke' : ['422504002'],\n",
    "    'transient_ischemic_attack': ['266257000']\n",
    "                     }\n",
    "ic = expand_codes(onto,inclusion_criteria)"
   ]
  },
  {
   "cell_type": "code",
   "execution_count": 11,
   "id": "01ce2fb4",
   "metadata": {},
   "outputs": [
    {
     "name": "stdout",
     "output_type": "stream",
     "text": [
      "CPU times: user 2min 7s, sys: 32.6 s, total: 2min 40s\n",
      "Wall time: 2min 40s\n"
     ]
    }
   ],
   "source": [
    "%%time \n",
    "with open('/projects/data/GS/pt2cui_pos_dates.pickle', 'rb') as f:\n",
    "    pt2cui_pos_dates = pickle.load(f)"
   ]
  },
  {
   "cell_type": "code",
   "execution_count": 22,
   "id": "44488230",
   "metadata": {},
   "outputs": [],
   "source": [
    "def dates_ex(pt_data, codes):\n",
    "    dates = None\n",
    "    for x in codes:\n",
    "        if x in pt_data and len(pt_data[x])>=2:\n",
    "            if dates == None:\n",
    "                dates = pt_data[x]\n",
    "            else: \n",
    "                dates = dates.union(pt_data[x])\n",
    "    return dates\n",
    "\n",
    "rows = []\n",
    "for pt in ids:\n",
    "    pt_data = pt2cui_pos_dates.get(pt, {})\n",
    "    row = {'client_idcode': pt, 'first_mention_rivaroxaban': rivaroxaban[pt]} \n",
    "    for concept, codes in ic.items():\n",
    "        dates = dates_ex(pt_data, codes)\n",
    "        if dates == None:\n",
    "            row[f\"{concept}_date\"] = np.nan\n",
    "        else:\n",
    "            row[f\"{concept}_date\"] = dates\n",
    "    rows.append(row)"
   ]
  },
  {
   "cell_type": "code",
   "execution_count": 23,
   "id": "df153151",
   "metadata": {},
   "outputs": [
    {
     "data": {
      "text/plain": [
       "(2585, 4)"
      ]
     },
     "execution_count": 23,
     "metadata": {},
     "output_type": "execute_result"
    }
   ],
   "source": [
    "df = pd.DataFrame(rows)\n",
    "df.shape"
   ]
  },
  {
   "cell_type": "code",
   "execution_count": 24,
   "id": "a216b5eb",
   "metadata": {},
   "outputs": [
    {
     "data": {
      "text/html": [
       "<div>\n",
       "<style scoped>\n",
       "    .dataframe tbody tr th:only-of-type {\n",
       "        vertical-align: middle;\n",
       "    }\n",
       "\n",
       "    .dataframe tbody tr th {\n",
       "        vertical-align: top;\n",
       "    }\n",
       "\n",
       "    .dataframe thead th {\n",
       "        text-align: right;\n",
       "    }\n",
       "</style>\n",
       "<table border=\"1\" class=\"dataframe\">\n",
       "  <thead>\n",
       "    <tr style=\"text-align: right;\">\n",
       "      <th></th>\n",
       "      <th>client_idcode</th>\n",
       "      <th>first_mention_rivaroxaban</th>\n",
       "      <th>ischemic_stroke_date</th>\n",
       "      <th>transient_ischemic_attack_date</th>\n",
       "    </tr>\n",
       "  </thead>\n",
       "  <tbody>\n",
       "    <tr>\n",
       "      <th>0</th>\n",
       "      <td>V209282</td>\n",
       "      <td>2016-08-18</td>\n",
       "      <td>NaN</td>\n",
       "      <td>NaN</td>\n",
       "    </tr>\n",
       "    <tr>\n",
       "      <th>1</th>\n",
       "      <td>R158068</td>\n",
       "      <td>2017-08-23</td>\n",
       "      <td>NaN</td>\n",
       "      <td>NaN</td>\n",
       "    </tr>\n",
       "    <tr>\n",
       "      <th>2</th>\n",
       "      <td>V692148</td>\n",
       "      <td>2017-03-23</td>\n",
       "      <td>NaN</td>\n",
       "      <td>NaN</td>\n",
       "    </tr>\n",
       "    <tr>\n",
       "      <th>3</th>\n",
       "      <td>F115915</td>\n",
       "      <td>2019-11-01</td>\n",
       "      <td>NaN</td>\n",
       "      <td>{2019-11-01 15:52:00, 2019-10-28 10:34:00, 201...</td>\n",
       "    </tr>\n",
       "    <tr>\n",
       "      <th>4</th>\n",
       "      <td>M270753</td>\n",
       "      <td>2018-12-16</td>\n",
       "      <td>NaN</td>\n",
       "      <td>NaN</td>\n",
       "    </tr>\n",
       "  </tbody>\n",
       "</table>\n",
       "</div>"
      ],
      "text/plain": [
       "  client_idcode first_mention_rivaroxaban ischemic_stroke_date  \\\n",
       "0       V209282                2016-08-18                  NaN   \n",
       "1       R158068                2017-08-23                  NaN   \n",
       "2       V692148                2017-03-23                  NaN   \n",
       "3       F115915                2019-11-01                  NaN   \n",
       "4       M270753                2018-12-16                  NaN   \n",
       "\n",
       "                      transient_ischemic_attack_date  \n",
       "0                                                NaN  \n",
       "1                                                NaN  \n",
       "2                                                NaN  \n",
       "3  {2019-11-01 15:52:00, 2019-10-28 10:34:00, 201...  \n",
       "4                                                NaN  "
      ]
     },
     "execution_count": 24,
     "metadata": {},
     "output_type": "execute_result"
    }
   ],
   "source": [
    "df.head()"
   ]
  },
  {
   "cell_type": "code",
   "execution_count": 27,
   "id": "d3353d3c",
   "metadata": {},
   "outputs": [],
   "source": [
    "df.dropna(subset=['ischemic_stroke_date', 'transient_ischemic_attack_date'], how='all', inplace = True)"
   ]
  },
  {
   "cell_type": "code",
   "execution_count": 28,
   "id": "fceeadca",
   "metadata": {},
   "outputs": [
    {
     "data": {
      "text/html": [
       "<div>\n",
       "<style scoped>\n",
       "    .dataframe tbody tr th:only-of-type {\n",
       "        vertical-align: middle;\n",
       "    }\n",
       "\n",
       "    .dataframe tbody tr th {\n",
       "        vertical-align: top;\n",
       "    }\n",
       "\n",
       "    .dataframe thead th {\n",
       "        text-align: right;\n",
       "    }\n",
       "</style>\n",
       "<table border=\"1\" class=\"dataframe\">\n",
       "  <thead>\n",
       "    <tr style=\"text-align: right;\">\n",
       "      <th></th>\n",
       "      <th>client_idcode</th>\n",
       "      <th>first_mention_rivaroxaban</th>\n",
       "      <th>ischemic_stroke_date</th>\n",
       "      <th>transient_ischemic_attack_date</th>\n",
       "    </tr>\n",
       "  </thead>\n",
       "  <tbody>\n",
       "    <tr>\n",
       "      <th>3</th>\n",
       "      <td>F115915</td>\n",
       "      <td>2019-11-01</td>\n",
       "      <td>NaN</td>\n",
       "      <td>{2019-11-01 15:52:00, 2019-10-28 10:34:00, 201...</td>\n",
       "    </tr>\n",
       "    <tr>\n",
       "      <th>8</th>\n",
       "      <td>M381390</td>\n",
       "      <td>2018-09-26</td>\n",
       "      <td>NaN</td>\n",
       "      <td>{2018-05-16 03:14:25.300000, 2018-05-15 21:02:00}</td>\n",
       "    </tr>\n",
       "    <tr>\n",
       "      <th>9</th>\n",
       "      <td>P252924</td>\n",
       "      <td>2013-08-28</td>\n",
       "      <td>NaN</td>\n",
       "      <td>{2017-02-03 09:02:45.933000, 2013-05-22 14:23:...</td>\n",
       "    </tr>\n",
       "    <tr>\n",
       "      <th>21</th>\n",
       "      <td>P775471</td>\n",
       "      <td>2018-05-02</td>\n",
       "      <td>{2018-05-22 12:03:00, 2018-05-24 14:44:41.6370...</td>\n",
       "      <td>NaN</td>\n",
       "    </tr>\n",
       "    <tr>\n",
       "      <th>31</th>\n",
       "      <td>P299512</td>\n",
       "      <td>2022-01-17</td>\n",
       "      <td>{2019-09-24 09:40:02.833000, 2018-07-31 18:30:...</td>\n",
       "      <td>{2019-08-29 23:17:00, 2018-10-29 15:47:06.1100...</td>\n",
       "    </tr>\n",
       "  </tbody>\n",
       "</table>\n",
       "</div>"
      ],
      "text/plain": [
       "   client_idcode first_mention_rivaroxaban  \\\n",
       "3        F115915                2019-11-01   \n",
       "8        M381390                2018-09-26   \n",
       "9        P252924                2013-08-28   \n",
       "21       P775471                2018-05-02   \n",
       "31       P299512                2022-01-17   \n",
       "\n",
       "                                 ischemic_stroke_date  \\\n",
       "3                                                 NaN   \n",
       "8                                                 NaN   \n",
       "9                                                 NaN   \n",
       "21  {2018-05-22 12:03:00, 2018-05-24 14:44:41.6370...   \n",
       "31  {2019-09-24 09:40:02.833000, 2018-07-31 18:30:...   \n",
       "\n",
       "                       transient_ischemic_attack_date  \n",
       "3   {2019-11-01 15:52:00, 2019-10-28 10:34:00, 201...  \n",
       "8   {2018-05-16 03:14:25.300000, 2018-05-15 21:02:00}  \n",
       "9   {2017-02-03 09:02:45.933000, 2013-05-22 14:23:...  \n",
       "21                                                NaN  \n",
       "31  {2019-08-29 23:17:00, 2018-10-29 15:47:06.1100...  "
      ]
     },
     "execution_count": 28,
     "metadata": {},
     "output_type": "execute_result"
    }
   ],
   "source": [
    "df.head()"
   ]
  },
  {
   "cell_type": "code",
   "execution_count": 29,
   "id": "f29424f8",
   "metadata": {},
   "outputs": [],
   "source": [
    "row = df.loc[df['client_idcode'] == 'F115915']"
   ]
  },
  {
   "cell_type": "code",
   "execution_count": 30,
   "id": "305c01a7",
   "metadata": {},
   "outputs": [],
   "source": [
    "specific_client_idcode = 'F115915'"
   ]
  },
  {
   "cell_type": "code",
   "execution_count": 31,
   "id": "0d2bb3c9",
   "metadata": {},
   "outputs": [
    {
     "name": "stdout",
     "output_type": "stream",
     "text": [
      "Set for ID F115915: {datetime.datetime(2019, 11, 1, 15, 52), datetime.datetime(2019, 10, 28, 10, 34), datetime.datetime(2019, 10, 21, 16, 20), datetime.datetime(2019, 10, 21, 16, 35)}\n"
     ]
    }
   ],
   "source": [
    "if not row.empty:\n",
    "    # Access the set within the 'Set_Column' and print it\n",
    "    specific_set = row.iloc[0]['transient_ischemic_attack_date']\n",
    "    print(f\"Set for ID {specific_client_idcode}: {specific_set}\")\n",
    "else:\n",
    "    print(f\"No matching ID found for {specific_client_idcode}\")"
   ]
  },
  {
   "cell_type": "code",
   "execution_count": 32,
   "id": "fe93d9a5",
   "metadata": {},
   "outputs": [
    {
     "data": {
      "text/plain": [
       "476"
      ]
     },
     "execution_count": 32,
     "metadata": {},
     "output_type": "execute_result"
    }
   ],
   "source": [
    "df['client_idcode'].nunique()"
   ]
  },
  {
   "cell_type": "code",
   "execution_count": 33,
   "id": "282f7f98",
   "metadata": {},
   "outputs": [
    {
     "name": "stdout",
     "output_type": "stream",
     "text": [
      "CPU times: user 18.1 ms, sys: 3.52 ms, total: 21.6 ms\n",
      "Wall time: 19.4 ms\n"
     ]
    },
    {
     "data": {
      "text/plain": [
       "(9039, 4)"
      ]
     },
     "execution_count": 33,
     "metadata": {},
     "output_type": "execute_result"
    }
   ],
   "source": [
    "%%time\n",
    "df = df[['client_idcode']].join((df[i].explode() for i in df.iloc[:,1:]))\n",
    "df.shape"
   ]
  },
  {
   "cell_type": "code",
   "execution_count": 34,
   "id": "63dee4e8",
   "metadata": {},
   "outputs": [
    {
     "data": {
      "text/html": [
       "<div>\n",
       "<style scoped>\n",
       "    .dataframe tbody tr th:only-of-type {\n",
       "        vertical-align: middle;\n",
       "    }\n",
       "\n",
       "    .dataframe tbody tr th {\n",
       "        vertical-align: top;\n",
       "    }\n",
       "\n",
       "    .dataframe thead th {\n",
       "        text-align: right;\n",
       "    }\n",
       "</style>\n",
       "<table border=\"1\" class=\"dataframe\">\n",
       "  <thead>\n",
       "    <tr style=\"text-align: right;\">\n",
       "      <th></th>\n",
       "      <th>client_idcode</th>\n",
       "      <th>first_mention_rivaroxaban</th>\n",
       "      <th>ischemic_stroke_date</th>\n",
       "      <th>transient_ischemic_attack_date</th>\n",
       "    </tr>\n",
       "  </thead>\n",
       "  <tbody>\n",
       "    <tr>\n",
       "      <th>3</th>\n",
       "      <td>F115915</td>\n",
       "      <td>2019-11-01</td>\n",
       "      <td>NaT</td>\n",
       "      <td>2019-11-01 15:52:00.000</td>\n",
       "    </tr>\n",
       "    <tr>\n",
       "      <th>3</th>\n",
       "      <td>F115915</td>\n",
       "      <td>2019-11-01</td>\n",
       "      <td>NaT</td>\n",
       "      <td>2019-10-28 10:34:00.000</td>\n",
       "    </tr>\n",
       "    <tr>\n",
       "      <th>3</th>\n",
       "      <td>F115915</td>\n",
       "      <td>2019-11-01</td>\n",
       "      <td>NaT</td>\n",
       "      <td>2019-10-21 16:20:00.000</td>\n",
       "    </tr>\n",
       "    <tr>\n",
       "      <th>3</th>\n",
       "      <td>F115915</td>\n",
       "      <td>2019-11-01</td>\n",
       "      <td>NaT</td>\n",
       "      <td>2019-10-21 16:35:00.000</td>\n",
       "    </tr>\n",
       "    <tr>\n",
       "      <th>8</th>\n",
       "      <td>M381390</td>\n",
       "      <td>2018-09-26</td>\n",
       "      <td>NaT</td>\n",
       "      <td>2018-05-16 03:14:25.300</td>\n",
       "    </tr>\n",
       "    <tr>\n",
       "      <th>8</th>\n",
       "      <td>M381390</td>\n",
       "      <td>2018-09-26</td>\n",
       "      <td>NaT</td>\n",
       "      <td>2018-05-15 21:02:00.000</td>\n",
       "    </tr>\n",
       "  </tbody>\n",
       "</table>\n",
       "</div>"
      ],
      "text/plain": [
       "  client_idcode first_mention_rivaroxaban ischemic_stroke_date  \\\n",
       "3       F115915                2019-11-01                  NaT   \n",
       "3       F115915                2019-11-01                  NaT   \n",
       "3       F115915                2019-11-01                  NaT   \n",
       "3       F115915                2019-11-01                  NaT   \n",
       "8       M381390                2018-09-26                  NaT   \n",
       "8       M381390                2018-09-26                  NaT   \n",
       "\n",
       "  transient_ischemic_attack_date  \n",
       "3        2019-11-01 15:52:00.000  \n",
       "3        2019-10-28 10:34:00.000  \n",
       "3        2019-10-21 16:20:00.000  \n",
       "3        2019-10-21 16:35:00.000  \n",
       "8        2018-05-16 03:14:25.300  \n",
       "8        2018-05-15 21:02:00.000  "
      ]
     },
     "execution_count": 34,
     "metadata": {},
     "output_type": "execute_result"
    }
   ],
   "source": [
    "df.head(6)"
   ]
  },
  {
   "cell_type": "code",
   "execution_count": 35,
   "id": "1f956780",
   "metadata": {},
   "outputs": [],
   "source": [
    "for k in ic.keys():\n",
    "    df[f'{k}_date'] = pd.to_datetime(df[f'{k}_date']).dt.date"
   ]
  },
  {
   "cell_type": "code",
   "execution_count": 36,
   "id": "3b20c838",
   "metadata": {},
   "outputs": [
    {
     "data": {
      "text/html": [
       "<div>\n",
       "<style scoped>\n",
       "    .dataframe tbody tr th:only-of-type {\n",
       "        vertical-align: middle;\n",
       "    }\n",
       "\n",
       "    .dataframe tbody tr th {\n",
       "        vertical-align: top;\n",
       "    }\n",
       "\n",
       "    .dataframe thead th {\n",
       "        text-align: right;\n",
       "    }\n",
       "</style>\n",
       "<table border=\"1\" class=\"dataframe\">\n",
       "  <thead>\n",
       "    <tr style=\"text-align: right;\">\n",
       "      <th></th>\n",
       "      <th>client_idcode</th>\n",
       "      <th>first_mention_rivaroxaban</th>\n",
       "      <th>ischemic_stroke_date</th>\n",
       "      <th>transient_ischemic_attack_date</th>\n",
       "    </tr>\n",
       "  </thead>\n",
       "  <tbody>\n",
       "    <tr>\n",
       "      <th>3</th>\n",
       "      <td>F115915</td>\n",
       "      <td>2019-11-01</td>\n",
       "      <td>NaT</td>\n",
       "      <td>2019-11-01</td>\n",
       "    </tr>\n",
       "    <tr>\n",
       "      <th>3</th>\n",
       "      <td>F115915</td>\n",
       "      <td>2019-11-01</td>\n",
       "      <td>NaT</td>\n",
       "      <td>2019-10-28</td>\n",
       "    </tr>\n",
       "    <tr>\n",
       "      <th>3</th>\n",
       "      <td>F115915</td>\n",
       "      <td>2019-11-01</td>\n",
       "      <td>NaT</td>\n",
       "      <td>2019-10-21</td>\n",
       "    </tr>\n",
       "    <tr>\n",
       "      <th>3</th>\n",
       "      <td>F115915</td>\n",
       "      <td>2019-11-01</td>\n",
       "      <td>NaT</td>\n",
       "      <td>2019-10-21</td>\n",
       "    </tr>\n",
       "    <tr>\n",
       "      <th>8</th>\n",
       "      <td>M381390</td>\n",
       "      <td>2018-09-26</td>\n",
       "      <td>NaT</td>\n",
       "      <td>2018-05-16</td>\n",
       "    </tr>\n",
       "  </tbody>\n",
       "</table>\n",
       "</div>"
      ],
      "text/plain": [
       "  client_idcode first_mention_rivaroxaban ischemic_stroke_date  \\\n",
       "3       F115915                2019-11-01                  NaT   \n",
       "3       F115915                2019-11-01                  NaT   \n",
       "3       F115915                2019-11-01                  NaT   \n",
       "3       F115915                2019-11-01                  NaT   \n",
       "8       M381390                2018-09-26                  NaT   \n",
       "\n",
       "  transient_ischemic_attack_date  \n",
       "3                     2019-11-01  \n",
       "3                     2019-10-28  \n",
       "3                     2019-10-21  \n",
       "3                     2019-10-21  \n",
       "8                     2018-05-16  "
      ]
     },
     "execution_count": 36,
     "metadata": {},
     "output_type": "execute_result"
    }
   ],
   "source": [
    "df.head()"
   ]
  },
  {
   "cell_type": "code",
   "execution_count": 38,
   "id": "5fad3102",
   "metadata": {},
   "outputs": [],
   "source": [
    "for k in ic.keys():\n",
    "    df[f'{k}_delta'] = pd.to_datetime(df['first_mention_rivaroxaban']) - pd.to_datetime(df[f'{k}_date'])"
   ]
  },
  {
   "cell_type": "code",
   "execution_count": 39,
   "id": "9d18ba48",
   "metadata": {},
   "outputs": [
    {
     "data": {
      "text/html": [
       "<div>\n",
       "<style scoped>\n",
       "    .dataframe tbody tr th:only-of-type {\n",
       "        vertical-align: middle;\n",
       "    }\n",
       "\n",
       "    .dataframe tbody tr th {\n",
       "        vertical-align: top;\n",
       "    }\n",
       "\n",
       "    .dataframe thead th {\n",
       "        text-align: right;\n",
       "    }\n",
       "</style>\n",
       "<table border=\"1\" class=\"dataframe\">\n",
       "  <thead>\n",
       "    <tr style=\"text-align: right;\">\n",
       "      <th></th>\n",
       "      <th>client_idcode</th>\n",
       "      <th>first_mention_rivaroxaban</th>\n",
       "      <th>ischemic_stroke_date</th>\n",
       "      <th>transient_ischemic_attack_date</th>\n",
       "      <th>ischemic_stroke_delta</th>\n",
       "      <th>transient_ischemic_attack_delta</th>\n",
       "    </tr>\n",
       "  </thead>\n",
       "  <tbody>\n",
       "    <tr>\n",
       "      <th>3</th>\n",
       "      <td>F115915</td>\n",
       "      <td>2019-11-01</td>\n",
       "      <td>NaT</td>\n",
       "      <td>2019-11-01</td>\n",
       "      <td>NaT</td>\n",
       "      <td>0 days</td>\n",
       "    </tr>\n",
       "    <tr>\n",
       "      <th>3</th>\n",
       "      <td>F115915</td>\n",
       "      <td>2019-11-01</td>\n",
       "      <td>NaT</td>\n",
       "      <td>2019-10-28</td>\n",
       "      <td>NaT</td>\n",
       "      <td>4 days</td>\n",
       "    </tr>\n",
       "    <tr>\n",
       "      <th>3</th>\n",
       "      <td>F115915</td>\n",
       "      <td>2019-11-01</td>\n",
       "      <td>NaT</td>\n",
       "      <td>2019-10-21</td>\n",
       "      <td>NaT</td>\n",
       "      <td>11 days</td>\n",
       "    </tr>\n",
       "    <tr>\n",
       "      <th>3</th>\n",
       "      <td>F115915</td>\n",
       "      <td>2019-11-01</td>\n",
       "      <td>NaT</td>\n",
       "      <td>2019-10-21</td>\n",
       "      <td>NaT</td>\n",
       "      <td>11 days</td>\n",
       "    </tr>\n",
       "    <tr>\n",
       "      <th>8</th>\n",
       "      <td>M381390</td>\n",
       "      <td>2018-09-26</td>\n",
       "      <td>NaT</td>\n",
       "      <td>2018-05-16</td>\n",
       "      <td>NaT</td>\n",
       "      <td>133 days</td>\n",
       "    </tr>\n",
       "  </tbody>\n",
       "</table>\n",
       "</div>"
      ],
      "text/plain": [
       "  client_idcode first_mention_rivaroxaban ischemic_stroke_date  \\\n",
       "3       F115915                2019-11-01                  NaT   \n",
       "3       F115915                2019-11-01                  NaT   \n",
       "3       F115915                2019-11-01                  NaT   \n",
       "3       F115915                2019-11-01                  NaT   \n",
       "8       M381390                2018-09-26                  NaT   \n",
       "\n",
       "  transient_ischemic_attack_date ischemic_stroke_delta  \\\n",
       "3                     2019-11-01                   NaT   \n",
       "3                     2019-10-28                   NaT   \n",
       "3                     2019-10-21                   NaT   \n",
       "3                     2019-10-21                   NaT   \n",
       "8                     2018-05-16                   NaT   \n",
       "\n",
       "  transient_ischemic_attack_delta  \n",
       "3                          0 days  \n",
       "3                          4 days  \n",
       "3                         11 days  \n",
       "3                         11 days  \n",
       "8                        133 days  "
      ]
     },
     "execution_count": 39,
     "metadata": {},
     "output_type": "execute_result"
    }
   ],
   "source": [
    "df.head()"
   ]
  },
  {
   "cell_type": "code",
   "execution_count": 41,
   "id": "8fecba08",
   "metadata": {},
   "outputs": [],
   "source": [
    "min_time = datetime.timedelta(days=1) \n",
    "max_time = datetime.timedelta(days=183)\n",
    "for k in ic.keys():\n",
    "    t1 = df[f'{k}_delta'] >= min_time \n",
    "    t2 = df[f'{k}_delta'] <= max_time\n",
    "    in_window = t1 & t2 \n",
    "    df[f'{k}_in_window'] = in_window"
   ]
  },
  {
   "cell_type": "code",
   "execution_count": 42,
   "id": "2cc96f3b",
   "metadata": {},
   "outputs": [
    {
     "data": {
      "text/html": [
       "<div>\n",
       "<style scoped>\n",
       "    .dataframe tbody tr th:only-of-type {\n",
       "        vertical-align: middle;\n",
       "    }\n",
       "\n",
       "    .dataframe tbody tr th {\n",
       "        vertical-align: top;\n",
       "    }\n",
       "\n",
       "    .dataframe thead th {\n",
       "        text-align: right;\n",
       "    }\n",
       "</style>\n",
       "<table border=\"1\" class=\"dataframe\">\n",
       "  <thead>\n",
       "    <tr style=\"text-align: right;\">\n",
       "      <th></th>\n",
       "      <th>client_idcode</th>\n",
       "      <th>first_mention_rivaroxaban</th>\n",
       "      <th>ischemic_stroke_date</th>\n",
       "      <th>transient_ischemic_attack_date</th>\n",
       "      <th>ischemic_stroke_delta</th>\n",
       "      <th>transient_ischemic_attack_delta</th>\n",
       "      <th>ischemic_stroke_in_window</th>\n",
       "      <th>transient_ischemic_attack_in_window</th>\n",
       "    </tr>\n",
       "  </thead>\n",
       "  <tbody>\n",
       "    <tr>\n",
       "      <th>3</th>\n",
       "      <td>F115915</td>\n",
       "      <td>2019-11-01</td>\n",
       "      <td>NaT</td>\n",
       "      <td>2019-11-01</td>\n",
       "      <td>NaT</td>\n",
       "      <td>0 days</td>\n",
       "      <td>False</td>\n",
       "      <td>False</td>\n",
       "    </tr>\n",
       "    <tr>\n",
       "      <th>3</th>\n",
       "      <td>F115915</td>\n",
       "      <td>2019-11-01</td>\n",
       "      <td>NaT</td>\n",
       "      <td>2019-10-28</td>\n",
       "      <td>NaT</td>\n",
       "      <td>4 days</td>\n",
       "      <td>False</td>\n",
       "      <td>True</td>\n",
       "    </tr>\n",
       "    <tr>\n",
       "      <th>3</th>\n",
       "      <td>F115915</td>\n",
       "      <td>2019-11-01</td>\n",
       "      <td>NaT</td>\n",
       "      <td>2019-10-21</td>\n",
       "      <td>NaT</td>\n",
       "      <td>11 days</td>\n",
       "      <td>False</td>\n",
       "      <td>True</td>\n",
       "    </tr>\n",
       "    <tr>\n",
       "      <th>3</th>\n",
       "      <td>F115915</td>\n",
       "      <td>2019-11-01</td>\n",
       "      <td>NaT</td>\n",
       "      <td>2019-10-21</td>\n",
       "      <td>NaT</td>\n",
       "      <td>11 days</td>\n",
       "      <td>False</td>\n",
       "      <td>True</td>\n",
       "    </tr>\n",
       "    <tr>\n",
       "      <th>8</th>\n",
       "      <td>M381390</td>\n",
       "      <td>2018-09-26</td>\n",
       "      <td>NaT</td>\n",
       "      <td>2018-05-16</td>\n",
       "      <td>NaT</td>\n",
       "      <td>133 days</td>\n",
       "      <td>False</td>\n",
       "      <td>True</td>\n",
       "    </tr>\n",
       "  </tbody>\n",
       "</table>\n",
       "</div>"
      ],
      "text/plain": [
       "  client_idcode first_mention_rivaroxaban ischemic_stroke_date  \\\n",
       "3       F115915                2019-11-01                  NaT   \n",
       "3       F115915                2019-11-01                  NaT   \n",
       "3       F115915                2019-11-01                  NaT   \n",
       "3       F115915                2019-11-01                  NaT   \n",
       "8       M381390                2018-09-26                  NaT   \n",
       "\n",
       "  transient_ischemic_attack_date ischemic_stroke_delta  \\\n",
       "3                     2019-11-01                   NaT   \n",
       "3                     2019-10-28                   NaT   \n",
       "3                     2019-10-21                   NaT   \n",
       "3                     2019-10-21                   NaT   \n",
       "8                     2018-05-16                   NaT   \n",
       "\n",
       "  transient_ischemic_attack_delta  ischemic_stroke_in_window  \\\n",
       "3                          0 days                      False   \n",
       "3                          4 days                      False   \n",
       "3                         11 days                      False   \n",
       "3                         11 days                      False   \n",
       "8                        133 days                      False   \n",
       "\n",
       "   transient_ischemic_attack_in_window  \n",
       "3                                False  \n",
       "3                                 True  \n",
       "3                                 True  \n",
       "3                                 True  \n",
       "8                                 True  "
      ]
     },
     "execution_count": 42,
     "metadata": {},
     "output_type": "execute_result"
    }
   ],
   "source": [
    "df.head()"
   ]
  },
  {
   "cell_type": "code",
   "execution_count": 43,
   "id": "bc18153c",
   "metadata": {},
   "outputs": [
    {
     "data": {
      "text/plain": [
       "(824, 2)"
      ]
     },
     "execution_count": 43,
     "metadata": {},
     "output_type": "execute_result"
    }
   ],
   "source": [
    "ischemic_stroke = df.loc[df['ischemic_stroke_in_window'] == True]\n",
    "ischemic_stroke = ischemic_stroke[['client_idcode', 'ischemic_stroke_in_window']]\n",
    "ischemic_stroke.shape"
   ]
  },
  {
   "cell_type": "code",
   "execution_count": 44,
   "id": "4e7d0336",
   "metadata": {},
   "outputs": [
    {
     "data": {
      "text/html": [
       "<div>\n",
       "<style scoped>\n",
       "    .dataframe tbody tr th:only-of-type {\n",
       "        vertical-align: middle;\n",
       "    }\n",
       "\n",
       "    .dataframe tbody tr th {\n",
       "        vertical-align: top;\n",
       "    }\n",
       "\n",
       "    .dataframe thead th {\n",
       "        text-align: right;\n",
       "    }\n",
       "</style>\n",
       "<table border=\"1\" class=\"dataframe\">\n",
       "  <thead>\n",
       "    <tr style=\"text-align: right;\">\n",
       "      <th></th>\n",
       "      <th>client_idcode</th>\n",
       "      <th>ischemic_stroke_in_window</th>\n",
       "    </tr>\n",
       "  </thead>\n",
       "  <tbody>\n",
       "    <tr>\n",
       "      <th>21</th>\n",
       "      <td>P775471</td>\n",
       "      <td>True</td>\n",
       "    </tr>\n",
       "    <tr>\n",
       "      <th>69</th>\n",
       "      <td>R081687</td>\n",
       "      <td>True</td>\n",
       "    </tr>\n",
       "    <tr>\n",
       "      <th>69</th>\n",
       "      <td>R081687</td>\n",
       "      <td>True</td>\n",
       "    </tr>\n",
       "    <tr>\n",
       "      <th>182</th>\n",
       "      <td>0259488</td>\n",
       "      <td>True</td>\n",
       "    </tr>\n",
       "    <tr>\n",
       "      <th>182</th>\n",
       "      <td>0259488</td>\n",
       "      <td>True</td>\n",
       "    </tr>\n",
       "  </tbody>\n",
       "</table>\n",
       "</div>"
      ],
      "text/plain": [
       "    client_idcode  ischemic_stroke_in_window\n",
       "21        P775471                       True\n",
       "69        R081687                       True\n",
       "69        R081687                       True\n",
       "182       0259488                       True\n",
       "182       0259488                       True"
      ]
     },
     "execution_count": 44,
     "metadata": {},
     "output_type": "execute_result"
    }
   ],
   "source": [
    "ischemic_stroke.head()"
   ]
  },
  {
   "cell_type": "code",
   "execution_count": 51,
   "id": "d0d1427e",
   "metadata": {},
   "outputs": [
    {
     "data": {
      "text/plain": [
       "38"
      ]
     },
     "execution_count": 51,
     "metadata": {},
     "output_type": "execute_result"
    }
   ],
   "source": [
    "ichemic_stroke = set(ischemic_stroke['client_idcode'])\n",
    "len(ischemic_stroke)"
   ]
  },
  {
   "cell_type": "code",
   "execution_count": 53,
   "id": "28cbf7a2",
   "metadata": {},
   "outputs": [],
   "source": [
    "with open('/projects/ROCKET AF/1A/rivaroxaban dataextraction/data/ischemic_stroke.pickle', 'wb') as f:\n",
    "    pickle.dump(ischemic_stroke,f)"
   ]
  },
  {
   "cell_type": "code",
   "execution_count": 49,
   "id": "476cee57",
   "metadata": {},
   "outputs": [
    {
     "data": {
      "text/plain": [
       "(1238, 2)"
      ]
     },
     "execution_count": 49,
     "metadata": {},
     "output_type": "execute_result"
    }
   ],
   "source": [
    "transient_ischemic_attack = df.loc[df['transient_ischemic_attack_in_window'] == True]\n",
    "transient_ischemic_attack = transient_ischemic_attack[['client_idcode', 'transient_ischemic_attack_in_window']]\n",
    "transient_ischemic_attack.shape"
   ]
  },
  {
   "cell_type": "code",
   "execution_count": 50,
   "id": "23ffc0cf",
   "metadata": {},
   "outputs": [
    {
     "data": {
      "text/html": [
       "<div>\n",
       "<style scoped>\n",
       "    .dataframe tbody tr th:only-of-type {\n",
       "        vertical-align: middle;\n",
       "    }\n",
       "\n",
       "    .dataframe tbody tr th {\n",
       "        vertical-align: top;\n",
       "    }\n",
       "\n",
       "    .dataframe thead th {\n",
       "        text-align: right;\n",
       "    }\n",
       "</style>\n",
       "<table border=\"1\" class=\"dataframe\">\n",
       "  <thead>\n",
       "    <tr style=\"text-align: right;\">\n",
       "      <th></th>\n",
       "      <th>client_idcode</th>\n",
       "      <th>transient_ischemic_attack_in_window</th>\n",
       "    </tr>\n",
       "  </thead>\n",
       "  <tbody>\n",
       "    <tr>\n",
       "      <th>3</th>\n",
       "      <td>F115915</td>\n",
       "      <td>True</td>\n",
       "    </tr>\n",
       "    <tr>\n",
       "      <th>3</th>\n",
       "      <td>F115915</td>\n",
       "      <td>True</td>\n",
       "    </tr>\n",
       "    <tr>\n",
       "      <th>3</th>\n",
       "      <td>F115915</td>\n",
       "      <td>True</td>\n",
       "    </tr>\n",
       "    <tr>\n",
       "      <th>8</th>\n",
       "      <td>M381390</td>\n",
       "      <td>True</td>\n",
       "    </tr>\n",
       "    <tr>\n",
       "      <th>8</th>\n",
       "      <td>M381390</td>\n",
       "      <td>True</td>\n",
       "    </tr>\n",
       "  </tbody>\n",
       "</table>\n",
       "</div>"
      ],
      "text/plain": [
       "  client_idcode  transient_ischemic_attack_in_window\n",
       "3       F115915                                 True\n",
       "3       F115915                                 True\n",
       "3       F115915                                 True\n",
       "8       M381390                                 True\n",
       "8       M381390                                 True"
      ]
     },
     "execution_count": 50,
     "metadata": {},
     "output_type": "execute_result"
    }
   ],
   "source": [
    "transient_ischemic_attack.head()"
   ]
  },
  {
   "cell_type": "code",
   "execution_count": 54,
   "id": "dec0e160",
   "metadata": {},
   "outputs": [
    {
     "data": {
      "text/plain": [
       "179"
      ]
     },
     "execution_count": 54,
     "metadata": {},
     "output_type": "execute_result"
    }
   ],
   "source": [
    "transient_ischemic_attack = set(transient_ischemic_attack['client_idcode'])\n",
    "len(transient_ischemic_attack)"
   ]
  },
  {
   "cell_type": "code",
   "execution_count": 55,
   "id": "2f72edf7",
   "metadata": {},
   "outputs": [],
   "source": [
    "with open('/projects/ROCKET AF/1A/rivaroxaban dataextraction/data/transient_ischemic_attack.pickle', 'wb') as f:\n",
    "    pickle.dump(transient_ischemic_attack,f)"
   ]
  },
  {
   "cell_type": "code",
   "execution_count": null,
   "id": "c1b16114",
   "metadata": {},
   "outputs": [],
   "source": []
  }
 ],
 "metadata": {
  "kernelspec": {
   "display_name": "Python 3 (ipykernel)",
   "language": "python",
   "name": "python3"
  },
  "language_info": {
   "codemirror_mode": {
    "name": "ipython",
    "version": 3
   },
   "file_extension": ".py",
   "mimetype": "text/x-python",
   "name": "python",
   "nbconvert_exporter": "python",
   "pygments_lexer": "ipython3",
   "version": "3.9.7"
  }
 },
 "nbformat": 4,
 "nbformat_minor": 5
}
