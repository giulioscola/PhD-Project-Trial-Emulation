{
 "cells": [
  {
   "cell_type": "code",
   "execution_count": null,
   "id": "329446c5",
   "metadata": {},
   "outputs": [],
   "source": [
    "import pandas as pd \n",
    "import pickle\n",
    "import datetime\n",
    "import re\n",
    "import networkx as nx\n",
    "import numpy as np\n",
    "from tqdm import tqdm"
   ]
  },
  {
   "cell_type": "markdown",
   "id": "e9400773",
   "metadata": {},
   "source": [
    "# Atrial fibrillation (AF) patients on rivaroxaban"
   ]
  },
  {
   "cell_type": "code",
   "execution_count": null,
   "id": "a4480641",
   "metadata": {},
   "outputs": [],
   "source": [
    "with open('/projects/ROCKET AF/1A/rivaroxaban dataextraction/data/first_mention_rivaroxaban.pickle', 'rb') as f:\n",
    "    rivaroxaban = pickle.load(f)"
   ]
  },
  {
   "cell_type": "code",
   "execution_count": null,
   "id": "1bd3cb46",
   "metadata": {},
   "outputs": [],
   "source": [
    "len(rivaroxaban)"
   ]
  },
  {
   "cell_type": "code",
   "execution_count": null,
   "id": "ee80a8f8",
   "metadata": {},
   "outputs": [],
   "source": [
    "df = pd.DataFrame(list(rivaroxaban.items()), columns=['client_idcode', 'first_mention_rivaroxaban']) # This code converts a dictionary (rivaroxaban) into a Pandas DataFrame with two columns named 'client_idcode' and 'first_mention_rivaroxaban'\n",
    "df.shape"
   ]
  },
  {
   "cell_type": "code",
   "execution_count": null,
   "id": "7b7d0e05",
   "metadata": {},
   "outputs": [],
   "source": [
    "df.head()"
   ]
  },
  {
   "cell_type": "code",
   "execution_count": null,
   "id": "95af1276",
   "metadata": {},
   "outputs": [],
   "source": [
    "ids = set(df['client_idcode'])\n",
    "len(ids)"
   ]
  },
  {
   "cell_type": "markdown",
   "id": "25d67fdb",
   "metadata": {},
   "source": [
    "# AF patients on rivaroxaban with atrial myxome or left ventricular thrombus"
   ]
  },
  {
   "cell_type": "code",
   "execution_count": null,
   "id": "c4e11c95",
   "metadata": {},
   "outputs": [],
   "source": [
    "def graph_from_onto(onto):\n",
    "    G = nx.DiGraph()\n",
    "    cl_edges = []\n",
    "    for s, ts in onto.items():\n",
    "        for t in ts:\n",
    "            cl_edges.append((s.replace('S-', ''), t.replace('S-', '')))\n",
    "    G.add_edges_from(cl_edges)\n",
    "    return G\n",
    "\n",
    "def load_onto(o):\n",
    "    with open(f'/projects/data/GS/{o}', 'rb') as f:\n",
    "        onto = pickle.load(f)\n",
    "    G = graph_from_onto(onto)\n",
    "    return G\n",
    "\n",
    "def expand_codes(onto, codes):\n",
    "    expanded = {}\n",
    "    for name, top_codes in codes.items():\n",
    "        expanded[name] = set()\n",
    "        for c in top_codes:\n",
    "            expanded[name].add(c)\n",
    "            if c in onto:\n",
    "                expanded[name].update(nx.ancestors(onto, c))\n",
    "            else:\n",
    "                print(\"NOT FOUND:\", c, name)\n",
    "        print(name, len(top_codes), len(expanded[name]))\n",
    "    return expanded"
   ]
  },
  {
   "cell_type": "code",
   "execution_count": null,
   "id": "fa0fe0fc",
   "metadata": {},
   "outputs": [],
   "source": [
    "onto = load_onto('isa_rela_ch2pt_202009.pickle')"
   ]
  },
  {
   "cell_type": "code",
   "execution_count": null,
   "id": "2ba5612f",
   "metadata": {},
   "outputs": [],
   "source": [
    "db = {'atrial_myxoma' : ['233854003'],\n",
    "      'left_ventricular_thrombus' : ['309519009']\n",
    "     }\n",
    "db = expand_codes(onto,db)"
   ]
  },
  {
   "cell_type": "code",
   "execution_count": null,
   "id": "2fc3032a",
   "metadata": {},
   "outputs": [],
   "source": [
    "%%time \n",
    "with open('/projects/data/GS/pt2cui_pos_dates.pickle', 'rb') as f:\n",
    "    pt2cui_pos_dates = pickle.load(f)"
   ]
  },
  {
   "cell_type": "code",
   "execution_count": null,
   "id": "885f910a",
   "metadata": {},
   "outputs": [],
   "source": [
    "def dates_ex(pt_data, codes):\n",
    "    dates = None\n",
    "    for x in codes:\n",
    "        if x in pt_data and len(pt_data[x])>=2:\n",
    "            if dates == None:\n",
    "                dates = pt_data[x]\n",
    "            else: \n",
    "                dates = dates.union(pt_data[x])\n",
    "    return dates\n",
    "\n",
    "rows = []\n",
    "for pt in ids:\n",
    "    pt_data = pt2cui_pos_dates.get(pt, {})\n",
    "    row = {'client_idcode': pt, 'first_mention_rivaroxaban': rivaroxaban[pt]} \n",
    "    for concept, codes in db.items():\n",
    "        dates = dates_ex(pt_data, codes)\n",
    "        if dates == None:\n",
    "            row[f\"{concept}_date\"] = np.nan\n",
    "        else:\n",
    "            row[f\"{concept}_date\"] = dates\n",
    "    rows.append(row)"
   ]
  },
  {
   "cell_type": "code",
   "execution_count": null,
   "id": "f10c3227",
   "metadata": {},
   "outputs": [],
   "source": [
    "df = pd.DataFrame(rows)\n",
    "df.shape"
   ]
  },
  {
   "cell_type": "code",
   "execution_count": null,
   "id": "a9457e13",
   "metadata": {},
   "outputs": [],
   "source": [
    "df.head()"
   ]
  },
  {
   "cell_type": "code",
   "execution_count": null,
   "id": "5ec522b2",
   "metadata": {},
   "outputs": [],
   "source": [
    "df.dropna(subset=['atrial_myxoma_date', 'left_ventricular_thrombus_date'], how='all', inplace = True)"
   ]
  },
  {
   "cell_type": "code",
   "execution_count": null,
   "id": "ec15cb03",
   "metadata": {},
   "outputs": [],
   "source": [
    "df.head()"
   ]
  },
  {
   "cell_type": "code",
   "execution_count": null,
   "id": "30a66c8a",
   "metadata": {},
   "outputs": [],
   "source": [
    "df['client_idcode'].nunique()"
   ]
  },
  {
   "cell_type": "code",
   "execution_count": null,
   "id": "bac4f5bc",
   "metadata": {},
   "outputs": [],
   "source": [
    "%%time\n",
    "df = df[['client_idcode']].join((df[i].explode() for i in df.iloc[:,1:]))\n",
    "df.shape"
   ]
  },
  {
   "cell_type": "code",
   "execution_count": null,
   "id": "b962f3dc",
   "metadata": {},
   "outputs": [],
   "source": [
    "df.head()"
   ]
  },
  {
   "cell_type": "code",
   "execution_count": null,
   "id": "7e51701a",
   "metadata": {},
   "outputs": [],
   "source": [
    "for k in db.keys():\n",
    "    df[f'{k}_date'] = pd.to_datetime(df[f'{k}_date']).dt.date"
   ]
  },
  {
   "cell_type": "code",
   "execution_count": null,
   "id": "cc10d997",
   "metadata": {},
   "outputs": [],
   "source": [
    "df.head()"
   ]
  },
  {
   "cell_type": "code",
   "execution_count": null,
   "id": "a0d9c795",
   "metadata": {},
   "outputs": [],
   "source": [
    "for k in db.keys():\n",
    "    df[f'{k}_delta'] = pd.to_datetime(df['first_mention_rivaroxaban']) - pd.to_datetime(df[f'{k}_date'])"
   ]
  },
  {
   "cell_type": "code",
   "execution_count": null,
   "id": "73c440ba",
   "metadata": {},
   "outputs": [],
   "source": [
    "df.head()"
   ]
  },
  {
   "cell_type": "code",
   "execution_count": null,
   "id": "f56fea58",
   "metadata": {},
   "outputs": [],
   "source": [
    "min_time = datetime.timedelta(days=1) \n",
    "max_time = datetime.timedelta(days=183)\n",
    "for k in db.keys():\n",
    "    t1 = df[f'{k}_delta'] >= min_time \n",
    "    t2 = df[f'{k}_delta'] <= max_time\n",
    "    in_window = t1 & t2 \n",
    "    df[f'{k}_in_window'] = in_window"
   ]
  },
  {
   "cell_type": "code",
   "execution_count": null,
   "id": "896e5abf",
   "metadata": {},
   "outputs": [],
   "source": [
    "df.head()"
   ]
  },
  {
   "cell_type": "code",
   "execution_count": null,
   "id": "17ccf6ca",
   "metadata": {},
   "outputs": [],
   "source": [
    "atrial_myxoma = df.loc[df['atrial_myxoma_in_window'] == True]\n",
    "atrial_myxoma = atrial_myxoma[['client_idcode', 'atrial_myxoma_in_window']]\n",
    "atrial_myxoma.shape"
   ]
  },
  {
   "cell_type": "code",
   "execution_count": null,
   "id": "3ba516df",
   "metadata": {},
   "outputs": [],
   "source": [
    "atrial_myxoma = set(atrial_myxoma['client_idcode'])\n",
    "len(atrial_myxoma)"
   ]
  },
  {
   "cell_type": "code",
   "execution_count": null,
   "id": "0e9f71d0",
   "metadata": {},
   "outputs": [],
   "source": [
    "with open('/projects/ROCKET AF/1A/rivaroxaban dataextraction/data/atrial_myxoma.pickle', 'wb') as f:\n",
    "    pickle.dump(atrial_myxoma,f)"
   ]
  },
  {
   "cell_type": "code",
   "execution_count": null,
   "id": "81d30e49",
   "metadata": {},
   "outputs": [],
   "source": [
    "left_ventricular_thrombus = df.loc[df['left_ventricular_thrombus_in_window'] == True]\n",
    "left_ventricular_thrombus = left_ventricular_thrombus[['client_idcode', 'left_ventricular_thrombus_in_window']]\n",
    "left_ventricular_thrombus.shape"
   ]
  },
  {
   "cell_type": "code",
   "execution_count": null,
   "id": "3041e59f",
   "metadata": {},
   "outputs": [],
   "source": [
    "df.loc[df['left_ventricular_thrombus_delta'].notna()]"
   ]
  },
  {
   "cell_type": "code",
   "execution_count": null,
   "id": "7950c7fc",
   "metadata": {},
   "outputs": [],
   "source": [
    "df.loc[df['left_ventricular_thrombus_delta'].notna()].shape"
   ]
  },
  {
   "cell_type": "code",
   "execution_count": null,
   "id": "3d3ec180",
   "metadata": {},
   "outputs": [],
   "source": []
  }
 ],
 "metadata": {
  "kernelspec": {
   "display_name": "Python 3 (ipykernel)",
   "language": "python",
   "name": "python3"
  },
  "language_info": {
   "codemirror_mode": {
    "name": "ipython",
    "version": 3
   },
   "file_extension": ".py",
   "mimetype": "text/x-python",
   "name": "python",
   "nbconvert_exporter": "python",
   "pygments_lexer": "ipython3",
   "version": "3.9.7"
  }
 },
 "nbformat": 4,
 "nbformat_minor": 5
}
