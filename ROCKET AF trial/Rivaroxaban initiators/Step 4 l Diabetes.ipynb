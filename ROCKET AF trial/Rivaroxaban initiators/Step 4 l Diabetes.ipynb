{
 "cells": [
  {
   "cell_type": "code",
   "execution_count": 7,
   "id": "f21d6465",
   "metadata": {},
   "outputs": [],
   "source": [
    "import pandas as pd \n",
    "import pickle\n",
    "import datetime\n",
    "import re\n",
    "import networkx as nx\n",
    "import numpy as np\n",
    "from tqdm import tqdm"
   ]
  },
  {
   "cell_type": "markdown",
   "id": "34a7b833",
   "metadata": {},
   "source": [
    "# Atrial fibrillation (AF) patients on rivaroxaban"
   ]
  },
  {
   "cell_type": "code",
   "execution_count": 8,
   "id": "bf4bb01a",
   "metadata": {},
   "outputs": [],
   "source": [
    "with open('/projects/ROCKET AF/1A/rivaroxaban dataextraction/data/first_mention_rivaroxaban.pickle', 'rb') as f:\n",
    "    rivaroxaban = pickle.load(f)"
   ]
  },
  {
   "cell_type": "code",
   "execution_count": 9,
   "id": "f1db8512",
   "metadata": {},
   "outputs": [
    {
     "data": {
      "text/plain": [
       "2585"
      ]
     },
     "execution_count": 9,
     "metadata": {},
     "output_type": "execute_result"
    }
   ],
   "source": [
    "len(rivaroxaban)"
   ]
  },
  {
   "cell_type": "code",
   "execution_count": 10,
   "id": "180c98c7",
   "metadata": {},
   "outputs": [
    {
     "data": {
      "text/plain": [
       "(2585, 2)"
      ]
     },
     "execution_count": 10,
     "metadata": {},
     "output_type": "execute_result"
    }
   ],
   "source": [
    "df = pd.DataFrame(list(rivaroxaban.items()), columns=['client_idcode', 'first_mention_rivaroxaban']) # This code converts a dictionary (rivaroxaban) into a Pandas DataFrame with two columns named 'client_idcode' and 'first_mention_rivaroxaban'\n",
    "df.shape"
   ]
  },
  {
   "cell_type": "code",
   "execution_count": 11,
   "id": "8b079074",
   "metadata": {},
   "outputs": [
    {
     "data": {
      "text/html": [
       "<div>\n",
       "<style scoped>\n",
       "    .dataframe tbody tr th:only-of-type {\n",
       "        vertical-align: middle;\n",
       "    }\n",
       "\n",
       "    .dataframe tbody tr th {\n",
       "        vertical-align: top;\n",
       "    }\n",
       "\n",
       "    .dataframe thead th {\n",
       "        text-align: right;\n",
       "    }\n",
       "</style>\n",
       "<table border=\"1\" class=\"dataframe\">\n",
       "  <thead>\n",
       "    <tr style=\"text-align: right;\">\n",
       "      <th></th>\n",
       "      <th>client_idcode</th>\n",
       "      <th>first_mention_rivaroxaban</th>\n",
       "    </tr>\n",
       "  </thead>\n",
       "  <tbody>\n",
       "    <tr>\n",
       "      <th>0</th>\n",
       "      <td>0372858</td>\n",
       "      <td>2015-03-02</td>\n",
       "    </tr>\n",
       "    <tr>\n",
       "      <th>1</th>\n",
       "      <td>M282816</td>\n",
       "      <td>2018-10-25</td>\n",
       "    </tr>\n",
       "    <tr>\n",
       "      <th>2</th>\n",
       "      <td>V282449</td>\n",
       "      <td>2018-08-02</td>\n",
       "    </tr>\n",
       "    <tr>\n",
       "      <th>3</th>\n",
       "      <td>V459668</td>\n",
       "      <td>2015-06-25</td>\n",
       "    </tr>\n",
       "    <tr>\n",
       "      <th>4</th>\n",
       "      <td>R081687</td>\n",
       "      <td>2015-04-27</td>\n",
       "    </tr>\n",
       "  </tbody>\n",
       "</table>\n",
       "</div>"
      ],
      "text/plain": [
       "  client_idcode first_mention_rivaroxaban\n",
       "0       0372858                2015-03-02\n",
       "1       M282816                2018-10-25\n",
       "2       V282449                2018-08-02\n",
       "3       V459668                2015-06-25\n",
       "4       R081687                2015-04-27"
      ]
     },
     "execution_count": 11,
     "metadata": {},
     "output_type": "execute_result"
    }
   ],
   "source": [
    "df.head()"
   ]
  },
  {
   "cell_type": "code",
   "execution_count": 12,
   "id": "80174dae",
   "metadata": {},
   "outputs": [
    {
     "data": {
      "text/plain": [
       "2585"
      ]
     },
     "execution_count": 12,
     "metadata": {},
     "output_type": "execute_result"
    }
   ],
   "source": [
    "ids = set(df['client_idcode'])\n",
    "len(ids)"
   ]
  },
  {
   "cell_type": "markdown",
   "id": "987e81fe",
   "metadata": {},
   "source": [
    "# AF patients on rivaroxaban with diabetes"
   ]
  },
  {
   "cell_type": "code",
   "execution_count": 13,
   "id": "c58a325b",
   "metadata": {},
   "outputs": [],
   "source": [
    "def graph_from_onto(onto):\n",
    "    G = nx.DiGraph()\n",
    "    cl_edges = []\n",
    "    for s, ts in onto.items():\n",
    "        for t in ts:\n",
    "            cl_edges.append((s.replace('S-', ''), t.replace('S-', '')))\n",
    "    G.add_edges_from(cl_edges)\n",
    "    return G\n",
    "\n",
    "def load_onto(o):\n",
    "    with open(f'/projects/data/GS/{o}', 'rb') as f:\n",
    "        onto = pickle.load(f)\n",
    "    G = graph_from_onto(onto)\n",
    "    return G\n",
    "\n",
    "def expand_codes(onto, codes):\n",
    "    expanded = {}\n",
    "    for name, top_codes in codes.items():\n",
    "        expanded[name] = set()\n",
    "        for c in top_codes:\n",
    "            expanded[name].add(c)\n",
    "            if c in onto:\n",
    "                expanded[name].update(nx.ancestors(onto, c))\n",
    "            else:\n",
    "                print(\"NOT FOUND:\", c, name)\n",
    "        print(name, len(top_codes), len(expanded[name]))\n",
    "    return expanded"
   ]
  },
  {
   "cell_type": "code",
   "execution_count": 14,
   "id": "c3186e44",
   "metadata": {},
   "outputs": [],
   "source": [
    "onto = load_onto('isa_rela_ch2pt_202009.pickle')"
   ]
  },
  {
   "cell_type": "code",
   "execution_count": 15,
   "id": "21580a42",
   "metadata": {},
   "outputs": [
    {
     "name": "stdout",
     "output_type": "stream",
     "text": [
      "type_1_diabetes 1 40\n",
      "type_2_diabetes 1 43\n"
     ]
    }
   ],
   "source": [
    "db = {'type_1_diabetes' : ['46635009'],\n",
    "      'type_2_diabetes' : ['44054006']\n",
    "     }\n",
    "db = expand_codes(onto,db)"
   ]
  },
  {
   "cell_type": "code",
   "execution_count": 16,
   "id": "01ce2fb4",
   "metadata": {},
   "outputs": [
    {
     "name": "stdout",
     "output_type": "stream",
     "text": [
      "CPU times: user 2min 10s, sys: 18.7 s, total: 2min 29s\n",
      "Wall time: 2min 29s\n"
     ]
    }
   ],
   "source": [
    "%%time \n",
    "with open('/projects/data/GS/pt2cui_pos_dates.pickle', 'rb') as f:\n",
    "    pt2cui_pos_dates = pickle.load(f)"
   ]
  },
  {
   "cell_type": "code",
   "execution_count": 18,
   "id": "44488230",
   "metadata": {},
   "outputs": [],
   "source": [
    "def dates_ex(pt_data, codes):\n",
    "    dates = None\n",
    "    for x in codes:\n",
    "        if x in pt_data and len(pt_data[x])>=2:\n",
    "            if dates == None:\n",
    "                dates = pt_data[x]\n",
    "            else: \n",
    "                dates = dates.union(pt_data[x])\n",
    "    return dates\n",
    "\n",
    "rows = []\n",
    "for pt in ids:\n",
    "    pt_data = pt2cui_pos_dates.get(pt, {})\n",
    "    row = {'client_idcode': pt, 'first_mention_rivaroxaban': rivaroxaban[pt]} \n",
    "    for concept, codes in db.items():\n",
    "        dates = dates_ex(pt_data, codes)\n",
    "        if dates == None:\n",
    "            row[f\"{concept}_date\"] = np.nan\n",
    "        else:\n",
    "            row[f\"{concept}_date\"] = dates\n",
    "    rows.append(row)"
   ]
  },
  {
   "cell_type": "code",
   "execution_count": 19,
   "id": "df153151",
   "metadata": {},
   "outputs": [
    {
     "data": {
      "text/plain": [
       "(2585, 4)"
      ]
     },
     "execution_count": 19,
     "metadata": {},
     "output_type": "execute_result"
    }
   ],
   "source": [
    "df = pd.DataFrame(rows)\n",
    "df.shape"
   ]
  },
  {
   "cell_type": "code",
   "execution_count": 20,
   "id": "a216b5eb",
   "metadata": {},
   "outputs": [
    {
     "data": {
      "text/html": [
       "<div>\n",
       "<style scoped>\n",
       "    .dataframe tbody tr th:only-of-type {\n",
       "        vertical-align: middle;\n",
       "    }\n",
       "\n",
       "    .dataframe tbody tr th {\n",
       "        vertical-align: top;\n",
       "    }\n",
       "\n",
       "    .dataframe thead th {\n",
       "        text-align: right;\n",
       "    }\n",
       "</style>\n",
       "<table border=\"1\" class=\"dataframe\">\n",
       "  <thead>\n",
       "    <tr style=\"text-align: right;\">\n",
       "      <th></th>\n",
       "      <th>client_idcode</th>\n",
       "      <th>first_mention_rivaroxaban</th>\n",
       "      <th>type_1_diabetes_date</th>\n",
       "      <th>type_2_diabetes_date</th>\n",
       "    </tr>\n",
       "  </thead>\n",
       "  <tbody>\n",
       "    <tr>\n",
       "      <th>0</th>\n",
       "      <td>F324540</td>\n",
       "      <td>2016-08-23</td>\n",
       "      <td>NaN</td>\n",
       "      <td>NaN</td>\n",
       "    </tr>\n",
       "    <tr>\n",
       "      <th>1</th>\n",
       "      <td>F412499</td>\n",
       "      <td>2016-01-04</td>\n",
       "      <td>NaN</td>\n",
       "      <td>NaN</td>\n",
       "    </tr>\n",
       "    <tr>\n",
       "      <th>2</th>\n",
       "      <td>0976670</td>\n",
       "      <td>2010-09-13</td>\n",
       "      <td>NaN</td>\n",
       "      <td>{2019-06-28 10:44:53.690000, 2018-12-27 10:40:...</td>\n",
       "    </tr>\n",
       "    <tr>\n",
       "      <th>3</th>\n",
       "      <td>V503477</td>\n",
       "      <td>2015-09-30</td>\n",
       "      <td>NaN</td>\n",
       "      <td>NaN</td>\n",
       "    </tr>\n",
       "    <tr>\n",
       "      <th>4</th>\n",
       "      <td>M623481</td>\n",
       "      <td>2022-02-14</td>\n",
       "      <td>NaN</td>\n",
       "      <td>{2018-07-22 03:09:46.360000, 2015-05-10 03:03:...</td>\n",
       "    </tr>\n",
       "  </tbody>\n",
       "</table>\n",
       "</div>"
      ],
      "text/plain": [
       "  client_idcode first_mention_rivaroxaban type_1_diabetes_date  \\\n",
       "0       F324540                2016-08-23                  NaN   \n",
       "1       F412499                2016-01-04                  NaN   \n",
       "2       0976670                2010-09-13                  NaN   \n",
       "3       V503477                2015-09-30                  NaN   \n",
       "4       M623481                2022-02-14                  NaN   \n",
       "\n",
       "                                type_2_diabetes_date  \n",
       "0                                                NaN  \n",
       "1                                                NaN  \n",
       "2  {2019-06-28 10:44:53.690000, 2018-12-27 10:40:...  \n",
       "3                                                NaN  \n",
       "4  {2018-07-22 03:09:46.360000, 2015-05-10 03:03:...  "
      ]
     },
     "execution_count": 20,
     "metadata": {},
     "output_type": "execute_result"
    }
   ],
   "source": [
    "df.head()"
   ]
  },
  {
   "cell_type": "code",
   "execution_count": 21,
   "id": "d3353d3c",
   "metadata": {},
   "outputs": [],
   "source": [
    "df.dropna(subset=['type_1_diabetes_date', 'type_2_diabetes_date'], how='all', inplace = True)"
   ]
  },
  {
   "cell_type": "code",
   "execution_count": 22,
   "id": "a8e6f159",
   "metadata": {},
   "outputs": [
    {
     "data": {
      "text/html": [
       "<div>\n",
       "<style scoped>\n",
       "    .dataframe tbody tr th:only-of-type {\n",
       "        vertical-align: middle;\n",
       "    }\n",
       "\n",
       "    .dataframe tbody tr th {\n",
       "        vertical-align: top;\n",
       "    }\n",
       "\n",
       "    .dataframe thead th {\n",
       "        text-align: right;\n",
       "    }\n",
       "</style>\n",
       "<table border=\"1\" class=\"dataframe\">\n",
       "  <thead>\n",
       "    <tr style=\"text-align: right;\">\n",
       "      <th></th>\n",
       "      <th>client_idcode</th>\n",
       "      <th>first_mention_rivaroxaban</th>\n",
       "      <th>type_1_diabetes_date</th>\n",
       "      <th>type_2_diabetes_date</th>\n",
       "    </tr>\n",
       "  </thead>\n",
       "  <tbody>\n",
       "    <tr>\n",
       "      <th>2</th>\n",
       "      <td>0976670</td>\n",
       "      <td>2010-09-13</td>\n",
       "      <td>NaN</td>\n",
       "      <td>{2019-06-28 10:44:53.690000, 2018-12-27 10:40:...</td>\n",
       "    </tr>\n",
       "    <tr>\n",
       "      <th>4</th>\n",
       "      <td>M623481</td>\n",
       "      <td>2022-02-14</td>\n",
       "      <td>NaN</td>\n",
       "      <td>{2018-07-22 03:09:46.360000, 2015-05-10 03:03:...</td>\n",
       "    </tr>\n",
       "    <tr>\n",
       "      <th>13</th>\n",
       "      <td>P660551</td>\n",
       "      <td>2016-08-04</td>\n",
       "      <td>{2016-08-20 03:09:59.377000, 2016-08-18 16:59:...</td>\n",
       "      <td>{2017-02-06 10:25:00, 2017-05-30 11:39:00, 201...</td>\n",
       "    </tr>\n",
       "    <tr>\n",
       "      <th>17</th>\n",
       "      <td>D079404</td>\n",
       "      <td>2013-04-22</td>\n",
       "      <td>NaN</td>\n",
       "      <td>{2013-04-21 14:08:00, 2018-03-08 10:21:43.0930...</td>\n",
       "    </tr>\n",
       "    <tr>\n",
       "      <th>22</th>\n",
       "      <td>V598622</td>\n",
       "      <td>2016-07-01</td>\n",
       "      <td>NaN</td>\n",
       "      <td>{2016-07-11 19:09:00, 2016-07-05 04:31:00, 201...</td>\n",
       "    </tr>\n",
       "  </tbody>\n",
       "</table>\n",
       "</div>"
      ],
      "text/plain": [
       "   client_idcode first_mention_rivaroxaban  \\\n",
       "2        0976670                2010-09-13   \n",
       "4        M623481                2022-02-14   \n",
       "13       P660551                2016-08-04   \n",
       "17       D079404                2013-04-22   \n",
       "22       V598622                2016-07-01   \n",
       "\n",
       "                                 type_1_diabetes_date  \\\n",
       "2                                                 NaN   \n",
       "4                                                 NaN   \n",
       "13  {2016-08-20 03:09:59.377000, 2016-08-18 16:59:...   \n",
       "17                                                NaN   \n",
       "22                                                NaN   \n",
       "\n",
       "                                 type_2_diabetes_date  \n",
       "2   {2019-06-28 10:44:53.690000, 2018-12-27 10:40:...  \n",
       "4   {2018-07-22 03:09:46.360000, 2015-05-10 03:03:...  \n",
       "13  {2017-02-06 10:25:00, 2017-05-30 11:39:00, 201...  \n",
       "17  {2013-04-21 14:08:00, 2018-03-08 10:21:43.0930...  \n",
       "22  {2016-07-11 19:09:00, 2016-07-05 04:31:00, 201...  "
      ]
     },
     "execution_count": 22,
     "metadata": {},
     "output_type": "execute_result"
    }
   ],
   "source": [
    "df.head()"
   ]
  },
  {
   "cell_type": "code",
   "execution_count": 23,
   "id": "f29424f8",
   "metadata": {},
   "outputs": [],
   "source": [
    "row = df.loc[df['client_idcode'] == 'V209282']"
   ]
  },
  {
   "cell_type": "code",
   "execution_count": 24,
   "id": "305c01a7",
   "metadata": {},
   "outputs": [],
   "source": [
    "specific_client_idcode = 'V209282'"
   ]
  },
  {
   "cell_type": "code",
   "execution_count": 25,
   "id": "0d2bb3c9",
   "metadata": {},
   "outputs": [
    {
     "name": "stdout",
     "output_type": "stream",
     "text": [
      "Set for ID V209282: {datetime.datetime(2016, 8, 19, 7, 1, 27, 567000), datetime.datetime(2016, 8, 15, 9, 2), datetime.datetime(2018, 1, 5, 8, 42), datetime.datetime(2013, 2, 19, 7, 4), datetime.datetime(2012, 12, 12, 13, 5), datetime.datetime(2012, 11, 28, 11, 59, 30, 257000), datetime.datetime(2018, 3, 15, 12, 28, 25, 797000), datetime.datetime(2013, 2, 20, 16, 22), datetime.datetime(2013, 2, 25, 16, 40, 15, 40000), datetime.datetime(2017, 1, 25, 11, 52, 50, 590000)}\n"
     ]
    }
   ],
   "source": [
    "if not row.empty:\n",
    "    # Access the set within the 'Set_Column' and print it\n",
    "    specific_set = row.iloc[0]['type_2_diabetes_date']\n",
    "    print(f\"Set for ID {specific_client_idcode}: {specific_set}\")\n",
    "else:\n",
    "    print(f\"No matching ID found for {specific_client_idcode}\")"
   ]
  },
  {
   "cell_type": "code",
   "execution_count": 26,
   "id": "fe93d9a5",
   "metadata": {},
   "outputs": [
    {
     "data": {
      "text/plain": [
       "564"
      ]
     },
     "execution_count": 26,
     "metadata": {},
     "output_type": "execute_result"
    }
   ],
   "source": [
    "df['client_idcode'].nunique()"
   ]
  },
  {
   "cell_type": "code",
   "execution_count": 27,
   "id": "282f7f98",
   "metadata": {},
   "outputs": [
    {
     "name": "stdout",
     "output_type": "stream",
     "text": [
      "CPU times: user 12.2 ms, sys: 8.71 ms, total: 20.9 ms\n",
      "Wall time: 18.8 ms\n"
     ]
    },
    {
     "data": {
      "text/plain": [
       "(54807, 4)"
      ]
     },
     "execution_count": 27,
     "metadata": {},
     "output_type": "execute_result"
    }
   ],
   "source": [
    "%%time\n",
    "df = df[['client_idcode']].join((df[i].explode() for i in df.iloc[:,1:]))\n",
    "df.shape"
   ]
  },
  {
   "cell_type": "code",
   "execution_count": 28,
   "id": "63dee4e8",
   "metadata": {},
   "outputs": [
    {
     "data": {
      "text/html": [
       "<div>\n",
       "<style scoped>\n",
       "    .dataframe tbody tr th:only-of-type {\n",
       "        vertical-align: middle;\n",
       "    }\n",
       "\n",
       "    .dataframe tbody tr th {\n",
       "        vertical-align: top;\n",
       "    }\n",
       "\n",
       "    .dataframe thead th {\n",
       "        text-align: right;\n",
       "    }\n",
       "</style>\n",
       "<table border=\"1\" class=\"dataframe\">\n",
       "  <thead>\n",
       "    <tr style=\"text-align: right;\">\n",
       "      <th></th>\n",
       "      <th>client_idcode</th>\n",
       "      <th>first_mention_rivaroxaban</th>\n",
       "      <th>type_1_diabetes_date</th>\n",
       "      <th>type_2_diabetes_date</th>\n",
       "    </tr>\n",
       "  </thead>\n",
       "  <tbody>\n",
       "    <tr>\n",
       "      <th>2</th>\n",
       "      <td>0976670</td>\n",
       "      <td>2010-09-13</td>\n",
       "      <td>NaT</td>\n",
       "      <td>2019-06-28 10:44:53.690</td>\n",
       "    </tr>\n",
       "    <tr>\n",
       "      <th>2</th>\n",
       "      <td>0976670</td>\n",
       "      <td>2010-09-13</td>\n",
       "      <td>NaT</td>\n",
       "      <td>2018-12-27 10:40:31.660</td>\n",
       "    </tr>\n",
       "    <tr>\n",
       "      <th>2</th>\n",
       "      <td>0976670</td>\n",
       "      <td>2010-09-13</td>\n",
       "      <td>NaT</td>\n",
       "      <td>2019-12-18 13:50:36.733</td>\n",
       "    </tr>\n",
       "    <tr>\n",
       "      <th>4</th>\n",
       "      <td>M623481</td>\n",
       "      <td>2022-02-14</td>\n",
       "      <td>NaT</td>\n",
       "      <td>2018-07-22 03:09:46.360</td>\n",
       "    </tr>\n",
       "    <tr>\n",
       "      <th>4</th>\n",
       "      <td>M623481</td>\n",
       "      <td>2022-02-14</td>\n",
       "      <td>NaT</td>\n",
       "      <td>2015-05-10 03:03:31.473</td>\n",
       "    </tr>\n",
       "    <tr>\n",
       "      <th>4</th>\n",
       "      <td>M623481</td>\n",
       "      <td>2022-02-14</td>\n",
       "      <td>NaT</td>\n",
       "      <td>2016-08-29 03:02:24.923</td>\n",
       "    </tr>\n",
       "    <tr>\n",
       "      <th>4</th>\n",
       "      <td>M623481</td>\n",
       "      <td>2022-02-14</td>\n",
       "      <td>NaT</td>\n",
       "      <td>2015-05-09 12:57:00.000</td>\n",
       "    </tr>\n",
       "    <tr>\n",
       "      <th>4</th>\n",
       "      <td>M623481</td>\n",
       "      <td>2022-02-14</td>\n",
       "      <td>NaT</td>\n",
       "      <td>2018-07-23 07:31:00.577</td>\n",
       "    </tr>\n",
       "    <tr>\n",
       "      <th>4</th>\n",
       "      <td>M623481</td>\n",
       "      <td>2022-02-14</td>\n",
       "      <td>NaT</td>\n",
       "      <td>2017-04-14 02:09:00.000</td>\n",
       "    </tr>\n",
       "    <tr>\n",
       "      <th>4</th>\n",
       "      <td>M623481</td>\n",
       "      <td>2022-02-14</td>\n",
       "      <td>NaT</td>\n",
       "      <td>2016-08-28 23:25:00.000</td>\n",
       "    </tr>\n",
       "    <tr>\n",
       "      <th>4</th>\n",
       "      <td>M623481</td>\n",
       "      <td>2022-02-14</td>\n",
       "      <td>NaT</td>\n",
       "      <td>2017-04-15 03:06:07.687</td>\n",
       "    </tr>\n",
       "  </tbody>\n",
       "</table>\n",
       "</div>"
      ],
      "text/plain": [
       "  client_idcode first_mention_rivaroxaban type_1_diabetes_date  \\\n",
       "2       0976670                2010-09-13                  NaT   \n",
       "2       0976670                2010-09-13                  NaT   \n",
       "2       0976670                2010-09-13                  NaT   \n",
       "4       M623481                2022-02-14                  NaT   \n",
       "4       M623481                2022-02-14                  NaT   \n",
       "4       M623481                2022-02-14                  NaT   \n",
       "4       M623481                2022-02-14                  NaT   \n",
       "4       M623481                2022-02-14                  NaT   \n",
       "4       M623481                2022-02-14                  NaT   \n",
       "4       M623481                2022-02-14                  NaT   \n",
       "4       M623481                2022-02-14                  NaT   \n",
       "\n",
       "     type_2_diabetes_date  \n",
       "2 2019-06-28 10:44:53.690  \n",
       "2 2018-12-27 10:40:31.660  \n",
       "2 2019-12-18 13:50:36.733  \n",
       "4 2018-07-22 03:09:46.360  \n",
       "4 2015-05-10 03:03:31.473  \n",
       "4 2016-08-29 03:02:24.923  \n",
       "4 2015-05-09 12:57:00.000  \n",
       "4 2018-07-23 07:31:00.577  \n",
       "4 2017-04-14 02:09:00.000  \n",
       "4 2016-08-28 23:25:00.000  \n",
       "4 2017-04-15 03:06:07.687  "
      ]
     },
     "execution_count": 28,
     "metadata": {},
     "output_type": "execute_result"
    }
   ],
   "source": [
    "df.head(11)"
   ]
  },
  {
   "cell_type": "code",
   "execution_count": 29,
   "id": "1f956780",
   "metadata": {},
   "outputs": [],
   "source": [
    "for k in db.keys():\n",
    "    df[f'{k}_date'] = pd.to_datetime(df[f'{k}_date']).dt.date"
   ]
  },
  {
   "cell_type": "code",
   "execution_count": 30,
   "id": "3b20c838",
   "metadata": {},
   "outputs": [
    {
     "data": {
      "text/html": [
       "<div>\n",
       "<style scoped>\n",
       "    .dataframe tbody tr th:only-of-type {\n",
       "        vertical-align: middle;\n",
       "    }\n",
       "\n",
       "    .dataframe tbody tr th {\n",
       "        vertical-align: top;\n",
       "    }\n",
       "\n",
       "    .dataframe thead th {\n",
       "        text-align: right;\n",
       "    }\n",
       "</style>\n",
       "<table border=\"1\" class=\"dataframe\">\n",
       "  <thead>\n",
       "    <tr style=\"text-align: right;\">\n",
       "      <th></th>\n",
       "      <th>client_idcode</th>\n",
       "      <th>first_mention_rivaroxaban</th>\n",
       "      <th>type_1_diabetes_date</th>\n",
       "      <th>type_2_diabetes_date</th>\n",
       "    </tr>\n",
       "  </thead>\n",
       "  <tbody>\n",
       "    <tr>\n",
       "      <th>2</th>\n",
       "      <td>0976670</td>\n",
       "      <td>2010-09-13</td>\n",
       "      <td>NaT</td>\n",
       "      <td>2019-06-28</td>\n",
       "    </tr>\n",
       "    <tr>\n",
       "      <th>2</th>\n",
       "      <td>0976670</td>\n",
       "      <td>2010-09-13</td>\n",
       "      <td>NaT</td>\n",
       "      <td>2018-12-27</td>\n",
       "    </tr>\n",
       "    <tr>\n",
       "      <th>2</th>\n",
       "      <td>0976670</td>\n",
       "      <td>2010-09-13</td>\n",
       "      <td>NaT</td>\n",
       "      <td>2019-12-18</td>\n",
       "    </tr>\n",
       "    <tr>\n",
       "      <th>4</th>\n",
       "      <td>M623481</td>\n",
       "      <td>2022-02-14</td>\n",
       "      <td>NaT</td>\n",
       "      <td>2018-07-22</td>\n",
       "    </tr>\n",
       "    <tr>\n",
       "      <th>4</th>\n",
       "      <td>M623481</td>\n",
       "      <td>2022-02-14</td>\n",
       "      <td>NaT</td>\n",
       "      <td>2015-05-10</td>\n",
       "    </tr>\n",
       "  </tbody>\n",
       "</table>\n",
       "</div>"
      ],
      "text/plain": [
       "  client_idcode first_mention_rivaroxaban type_1_diabetes_date  \\\n",
       "2       0976670                2010-09-13                  NaT   \n",
       "2       0976670                2010-09-13                  NaT   \n",
       "2       0976670                2010-09-13                  NaT   \n",
       "4       M623481                2022-02-14                  NaT   \n",
       "4       M623481                2022-02-14                  NaT   \n",
       "\n",
       "  type_2_diabetes_date  \n",
       "2           2019-06-28  \n",
       "2           2018-12-27  \n",
       "2           2019-12-18  \n",
       "4           2018-07-22  \n",
       "4           2015-05-10  "
      ]
     },
     "execution_count": 30,
     "metadata": {},
     "output_type": "execute_result"
    }
   ],
   "source": [
    "df.head()"
   ]
  },
  {
   "cell_type": "code",
   "execution_count": 31,
   "id": "6c639544",
   "metadata": {},
   "outputs": [],
   "source": [
    "for k in db.keys():\n",
    "    df[f'{k}_delta'] = pd.to_datetime(df['first_mention_rivaroxaban']) - pd.to_datetime(df[f'{k}_date'])"
   ]
  },
  {
   "cell_type": "code",
   "execution_count": 32,
   "id": "568fd9f7",
   "metadata": {},
   "outputs": [
    {
     "data": {
      "text/html": [
       "<div>\n",
       "<style scoped>\n",
       "    .dataframe tbody tr th:only-of-type {\n",
       "        vertical-align: middle;\n",
       "    }\n",
       "\n",
       "    .dataframe tbody tr th {\n",
       "        vertical-align: top;\n",
       "    }\n",
       "\n",
       "    .dataframe thead th {\n",
       "        text-align: right;\n",
       "    }\n",
       "</style>\n",
       "<table border=\"1\" class=\"dataframe\">\n",
       "  <thead>\n",
       "    <tr style=\"text-align: right;\">\n",
       "      <th></th>\n",
       "      <th>client_idcode</th>\n",
       "      <th>first_mention_rivaroxaban</th>\n",
       "      <th>type_1_diabetes_date</th>\n",
       "      <th>type_2_diabetes_date</th>\n",
       "      <th>type_1_diabetes_delta</th>\n",
       "      <th>type_2_diabetes_delta</th>\n",
       "    </tr>\n",
       "  </thead>\n",
       "  <tbody>\n",
       "    <tr>\n",
       "      <th>2</th>\n",
       "      <td>0976670</td>\n",
       "      <td>2010-09-13</td>\n",
       "      <td>NaT</td>\n",
       "      <td>2019-06-28</td>\n",
       "      <td>NaT</td>\n",
       "      <td>-3210 days</td>\n",
       "    </tr>\n",
       "    <tr>\n",
       "      <th>2</th>\n",
       "      <td>0976670</td>\n",
       "      <td>2010-09-13</td>\n",
       "      <td>NaT</td>\n",
       "      <td>2018-12-27</td>\n",
       "      <td>NaT</td>\n",
       "      <td>-3027 days</td>\n",
       "    </tr>\n",
       "    <tr>\n",
       "      <th>2</th>\n",
       "      <td>0976670</td>\n",
       "      <td>2010-09-13</td>\n",
       "      <td>NaT</td>\n",
       "      <td>2019-12-18</td>\n",
       "      <td>NaT</td>\n",
       "      <td>-3383 days</td>\n",
       "    </tr>\n",
       "    <tr>\n",
       "      <th>4</th>\n",
       "      <td>M623481</td>\n",
       "      <td>2022-02-14</td>\n",
       "      <td>NaT</td>\n",
       "      <td>2018-07-22</td>\n",
       "      <td>NaT</td>\n",
       "      <td>1303 days</td>\n",
       "    </tr>\n",
       "    <tr>\n",
       "      <th>4</th>\n",
       "      <td>M623481</td>\n",
       "      <td>2022-02-14</td>\n",
       "      <td>NaT</td>\n",
       "      <td>2015-05-10</td>\n",
       "      <td>NaT</td>\n",
       "      <td>2472 days</td>\n",
       "    </tr>\n",
       "  </tbody>\n",
       "</table>\n",
       "</div>"
      ],
      "text/plain": [
       "  client_idcode first_mention_rivaroxaban type_1_diabetes_date  \\\n",
       "2       0976670                2010-09-13                  NaT   \n",
       "2       0976670                2010-09-13                  NaT   \n",
       "2       0976670                2010-09-13                  NaT   \n",
       "4       M623481                2022-02-14                  NaT   \n",
       "4       M623481                2022-02-14                  NaT   \n",
       "\n",
       "  type_2_diabetes_date type_1_diabetes_delta type_2_diabetes_delta  \n",
       "2           2019-06-28                   NaT            -3210 days  \n",
       "2           2018-12-27                   NaT            -3027 days  \n",
       "2           2019-12-18                   NaT            -3383 days  \n",
       "4           2018-07-22                   NaT             1303 days  \n",
       "4           2015-05-10                   NaT             2472 days  "
      ]
     },
     "execution_count": 32,
     "metadata": {},
     "output_type": "execute_result"
    }
   ],
   "source": [
    "df.head()"
   ]
  },
  {
   "cell_type": "code",
   "execution_count": 33,
   "id": "8fecba08",
   "metadata": {},
   "outputs": [],
   "source": [
    "min_time = datetime.timedelta(days=1) \n",
    "max_time = datetime.timedelta(days=183)\n",
    "for k in db.keys():\n",
    "    t1 = df[f'{k}_delta'] >= min_time \n",
    "    t2 = df[f'{k}_delta'] <= max_time\n",
    "    in_window = t1 & t2 \n",
    "    df[f'{k}_in_window'] = in_window"
   ]
  },
  {
   "cell_type": "code",
   "execution_count": 34,
   "id": "0dad975a",
   "metadata": {},
   "outputs": [
    {
     "data": {
      "text/html": [
       "<div>\n",
       "<style scoped>\n",
       "    .dataframe tbody tr th:only-of-type {\n",
       "        vertical-align: middle;\n",
       "    }\n",
       "\n",
       "    .dataframe tbody tr th {\n",
       "        vertical-align: top;\n",
       "    }\n",
       "\n",
       "    .dataframe thead th {\n",
       "        text-align: right;\n",
       "    }\n",
       "</style>\n",
       "<table border=\"1\" class=\"dataframe\">\n",
       "  <thead>\n",
       "    <tr style=\"text-align: right;\">\n",
       "      <th></th>\n",
       "      <th>client_idcode</th>\n",
       "      <th>first_mention_rivaroxaban</th>\n",
       "      <th>type_1_diabetes_date</th>\n",
       "      <th>type_2_diabetes_date</th>\n",
       "      <th>type_1_diabetes_delta</th>\n",
       "      <th>type_2_diabetes_delta</th>\n",
       "      <th>type_1_diabetes_in_window</th>\n",
       "      <th>type_2_diabetes_in_window</th>\n",
       "    </tr>\n",
       "  </thead>\n",
       "  <tbody>\n",
       "    <tr>\n",
       "      <th>2</th>\n",
       "      <td>0976670</td>\n",
       "      <td>2010-09-13</td>\n",
       "      <td>NaT</td>\n",
       "      <td>2019-06-28</td>\n",
       "      <td>NaT</td>\n",
       "      <td>-3210 days</td>\n",
       "      <td>False</td>\n",
       "      <td>False</td>\n",
       "    </tr>\n",
       "    <tr>\n",
       "      <th>2</th>\n",
       "      <td>0976670</td>\n",
       "      <td>2010-09-13</td>\n",
       "      <td>NaT</td>\n",
       "      <td>2018-12-27</td>\n",
       "      <td>NaT</td>\n",
       "      <td>-3027 days</td>\n",
       "      <td>False</td>\n",
       "      <td>False</td>\n",
       "    </tr>\n",
       "    <tr>\n",
       "      <th>2</th>\n",
       "      <td>0976670</td>\n",
       "      <td>2010-09-13</td>\n",
       "      <td>NaT</td>\n",
       "      <td>2019-12-18</td>\n",
       "      <td>NaT</td>\n",
       "      <td>-3383 days</td>\n",
       "      <td>False</td>\n",
       "      <td>False</td>\n",
       "    </tr>\n",
       "    <tr>\n",
       "      <th>4</th>\n",
       "      <td>M623481</td>\n",
       "      <td>2022-02-14</td>\n",
       "      <td>NaT</td>\n",
       "      <td>2018-07-22</td>\n",
       "      <td>NaT</td>\n",
       "      <td>1303 days</td>\n",
       "      <td>False</td>\n",
       "      <td>False</td>\n",
       "    </tr>\n",
       "    <tr>\n",
       "      <th>4</th>\n",
       "      <td>M623481</td>\n",
       "      <td>2022-02-14</td>\n",
       "      <td>NaT</td>\n",
       "      <td>2015-05-10</td>\n",
       "      <td>NaT</td>\n",
       "      <td>2472 days</td>\n",
       "      <td>False</td>\n",
       "      <td>False</td>\n",
       "    </tr>\n",
       "  </tbody>\n",
       "</table>\n",
       "</div>"
      ],
      "text/plain": [
       "  client_idcode first_mention_rivaroxaban type_1_diabetes_date  \\\n",
       "2       0976670                2010-09-13                  NaT   \n",
       "2       0976670                2010-09-13                  NaT   \n",
       "2       0976670                2010-09-13                  NaT   \n",
       "4       M623481                2022-02-14                  NaT   \n",
       "4       M623481                2022-02-14                  NaT   \n",
       "\n",
       "  type_2_diabetes_date type_1_diabetes_delta type_2_diabetes_delta  \\\n",
       "2           2019-06-28                   NaT            -3210 days   \n",
       "2           2018-12-27                   NaT            -3027 days   \n",
       "2           2019-12-18                   NaT            -3383 days   \n",
       "4           2018-07-22                   NaT             1303 days   \n",
       "4           2015-05-10                   NaT             2472 days   \n",
       "\n",
       "   type_1_diabetes_in_window  type_2_diabetes_in_window  \n",
       "2                      False                      False  \n",
       "2                      False                      False  \n",
       "2                      False                      False  \n",
       "4                      False                      False  \n",
       "4                      False                      False  "
      ]
     },
     "execution_count": 34,
     "metadata": {},
     "output_type": "execute_result"
    }
   ],
   "source": [
    "df.head()"
   ]
  },
  {
   "cell_type": "code",
   "execution_count": 35,
   "id": "737e1dc9",
   "metadata": {},
   "outputs": [
    {
     "data": {
      "text/plain": [
       "(5062, 2)"
      ]
     },
     "execution_count": 35,
     "metadata": {},
     "output_type": "execute_result"
    }
   ],
   "source": [
    "type_1_diabetes = df.loc[df['type_1_diabetes_in_window'] == True]\n",
    "type_1_diabetes = type_1_diabetes[['client_idcode', 'type_1_diabetes_in_window']]\n",
    "type_1_diabetes.shape"
   ]
  },
  {
   "cell_type": "code",
   "execution_count": 36,
   "id": "f7a9700b",
   "metadata": {},
   "outputs": [
    {
     "data": {
      "text/html": [
       "<div>\n",
       "<style scoped>\n",
       "    .dataframe tbody tr th:only-of-type {\n",
       "        vertical-align: middle;\n",
       "    }\n",
       "\n",
       "    .dataframe tbody tr th {\n",
       "        vertical-align: top;\n",
       "    }\n",
       "\n",
       "    .dataframe thead th {\n",
       "        text-align: right;\n",
       "    }\n",
       "</style>\n",
       "<table border=\"1\" class=\"dataframe\">\n",
       "  <thead>\n",
       "    <tr style=\"text-align: right;\">\n",
       "      <th></th>\n",
       "      <th>client_idcode</th>\n",
       "      <th>type_1_diabetes_in_window</th>\n",
       "    </tr>\n",
       "  </thead>\n",
       "  <tbody>\n",
       "    <tr>\n",
       "      <th>44</th>\n",
       "      <td>M250369</td>\n",
       "      <td>True</td>\n",
       "    </tr>\n",
       "    <tr>\n",
       "      <th>44</th>\n",
       "      <td>M250369</td>\n",
       "      <td>True</td>\n",
       "    </tr>\n",
       "    <tr>\n",
       "      <th>44</th>\n",
       "      <td>M250369</td>\n",
       "      <td>True</td>\n",
       "    </tr>\n",
       "    <tr>\n",
       "      <th>44</th>\n",
       "      <td>M250369</td>\n",
       "      <td>True</td>\n",
       "    </tr>\n",
       "    <tr>\n",
       "      <th>44</th>\n",
       "      <td>M250369</td>\n",
       "      <td>True</td>\n",
       "    </tr>\n",
       "  </tbody>\n",
       "</table>\n",
       "</div>"
      ],
      "text/plain": [
       "   client_idcode  type_1_diabetes_in_window\n",
       "44       M250369                       True\n",
       "44       M250369                       True\n",
       "44       M250369                       True\n",
       "44       M250369                       True\n",
       "44       M250369                       True"
      ]
     },
     "execution_count": 36,
     "metadata": {},
     "output_type": "execute_result"
    }
   ],
   "source": [
    "type_1_diabetes.head()"
   ]
  },
  {
   "cell_type": "code",
   "execution_count": 37,
   "id": "2f91bebb",
   "metadata": {},
   "outputs": [
    {
     "data": {
      "text/plain": [
       "51"
      ]
     },
     "execution_count": 37,
     "metadata": {},
     "output_type": "execute_result"
    }
   ],
   "source": [
    "type_1_diabetes = set(type_1_diabetes['client_idcode'])\n",
    "len(type_1_diabetes)"
   ]
  },
  {
   "cell_type": "code",
   "execution_count": 38,
   "id": "3c197c9d",
   "metadata": {},
   "outputs": [],
   "source": [
    "with open('/projects/ROCKET AF/1A/rivaroxaban dataextraction/data/type_1_diabetes.pickle', 'wb') as f:\n",
    "    pickle.dump(type_1_diabetes,f)"
   ]
  },
  {
   "cell_type": "code",
   "execution_count": 39,
   "id": "fe1632d2",
   "metadata": {},
   "outputs": [
    {
     "data": {
      "text/plain": [
       "(6027, 2)"
      ]
     },
     "execution_count": 39,
     "metadata": {},
     "output_type": "execute_result"
    }
   ],
   "source": [
    "type_2_diabetes = df.loc[df['type_2_diabetes_in_window'] == True]\n",
    "type_2_diabetes = type_2_diabetes[['client_idcode', 'type_2_diabetes_in_window']]\n",
    "type_2_diabetes.shape"
   ]
  },
  {
   "cell_type": "code",
   "execution_count": 40,
   "id": "30060e32",
   "metadata": {},
   "outputs": [
    {
     "data": {
      "text/html": [
       "<div>\n",
       "<style scoped>\n",
       "    .dataframe tbody tr th:only-of-type {\n",
       "        vertical-align: middle;\n",
       "    }\n",
       "\n",
       "    .dataframe tbody tr th {\n",
       "        vertical-align: top;\n",
       "    }\n",
       "\n",
       "    .dataframe thead th {\n",
       "        text-align: right;\n",
       "    }\n",
       "</style>\n",
       "<table border=\"1\" class=\"dataframe\">\n",
       "  <thead>\n",
       "    <tr style=\"text-align: right;\">\n",
       "      <th></th>\n",
       "      <th>client_idcode</th>\n",
       "      <th>type_2_diabetes_in_window</th>\n",
       "    </tr>\n",
       "  </thead>\n",
       "  <tbody>\n",
       "    <tr>\n",
       "      <th>13</th>\n",
       "      <td>P660551</td>\n",
       "      <td>True</td>\n",
       "    </tr>\n",
       "    <tr>\n",
       "      <th>13</th>\n",
       "      <td>P660551</td>\n",
       "      <td>True</td>\n",
       "    </tr>\n",
       "    <tr>\n",
       "      <th>13</th>\n",
       "      <td>P660551</td>\n",
       "      <td>True</td>\n",
       "    </tr>\n",
       "    <tr>\n",
       "      <th>13</th>\n",
       "      <td>P660551</td>\n",
       "      <td>True</td>\n",
       "    </tr>\n",
       "    <tr>\n",
       "      <th>13</th>\n",
       "      <td>P660551</td>\n",
       "      <td>True</td>\n",
       "    </tr>\n",
       "  </tbody>\n",
       "</table>\n",
       "</div>"
      ],
      "text/plain": [
       "   client_idcode  type_2_diabetes_in_window\n",
       "13       P660551                       True\n",
       "13       P660551                       True\n",
       "13       P660551                       True\n",
       "13       P660551                       True\n",
       "13       P660551                       True"
      ]
     },
     "execution_count": 40,
     "metadata": {},
     "output_type": "execute_result"
    }
   ],
   "source": [
    "type_2_diabetes.head()"
   ]
  },
  {
   "cell_type": "code",
   "execution_count": 41,
   "id": "d5c3a0a2",
   "metadata": {},
   "outputs": [
    {
     "data": {
      "text/plain": [
       "300"
      ]
     },
     "execution_count": 41,
     "metadata": {},
     "output_type": "execute_result"
    }
   ],
   "source": [
    "type_2_diabetes = set(type_2_diabetes['client_idcode'])\n",
    "len(type_2_diabetes)"
   ]
  },
  {
   "cell_type": "code",
   "execution_count": 42,
   "id": "308df507",
   "metadata": {},
   "outputs": [],
   "source": [
    "with open('/projects/ROCKET AF/1A/rivaroxaban dataextraction/data/type_2_diabetes.pickle', 'wb') as f:\n",
    "    pickle.dump(type_2_diabetes,f)"
   ]
  },
  {
   "cell_type": "markdown",
   "id": "eb9e4cfe",
   "metadata": {},
   "source": [
    "# AF patients on antidiabetic drugs"
   ]
  },
  {
   "cell_type": "code",
   "execution_count": 43,
   "id": "7409c75e",
   "metadata": {},
   "outputs": [],
   "source": [
    "antidiabetic_drugs = pd.read_csv('/projects/ROCKET AF/data/antidiabetic_drugs.csv')"
   ]
  },
  {
   "cell_type": "code",
   "execution_count": 44,
   "id": "282ab73d",
   "metadata": {},
   "outputs": [
    {
     "data": {
      "text/plain": [
       "(357170, 5)"
      ]
     },
     "execution_count": 44,
     "metadata": {},
     "output_type": "execute_result"
    }
   ],
   "source": [
    "antidiabetic_drugs.shape"
   ]
  },
  {
   "cell_type": "code",
   "execution_count": 45,
   "id": "5de5d21a",
   "metadata": {},
   "outputs": [
    {
     "data": {
      "text/html": [
       "<div>\n",
       "<style scoped>\n",
       "    .dataframe tbody tr th:only-of-type {\n",
       "        vertical-align: middle;\n",
       "    }\n",
       "\n",
       "    .dataframe tbody tr th {\n",
       "        vertical-align: top;\n",
       "    }\n",
       "\n",
       "    .dataframe thead th {\n",
       "        text-align: right;\n",
       "    }\n",
       "</style>\n",
       "<table border=\"1\" class=\"dataframe\">\n",
       "  <thead>\n",
       "    <tr style=\"text-align: right;\">\n",
       "      <th></th>\n",
       "      <th>Unnamed: 0</th>\n",
       "      <th>client_idcode</th>\n",
       "      <th>order_name</th>\n",
       "      <th>order_arrivaldtm</th>\n",
       "      <th>order_summaryline</th>\n",
       "    </tr>\n",
       "  </thead>\n",
       "  <tbody>\n",
       "    <tr>\n",
       "      <th>0</th>\n",
       "      <td>8</td>\n",
       "      <td>R093460</td>\n",
       "      <td>Pioglitazone Tablet</td>\n",
       "      <td>2015-07-31T14:39:07.423+0100</td>\n",
       "      <td>30 mg, Oral, every MORNING (0800). **IN DOSETT...</td>\n",
       "    </tr>\n",
       "    <tr>\n",
       "      <th>1</th>\n",
       "      <td>10</td>\n",
       "      <td>M422838</td>\n",
       "      <td>Pioglitazone Tablet</td>\n",
       "      <td>2017-05-20T18:00:02.287+0100</td>\n",
       "      <td>30 mg, Oral, every MORNING (0800)</td>\n",
       "    </tr>\n",
       "    <tr>\n",
       "      <th>2</th>\n",
       "      <td>17</td>\n",
       "      <td>A847865</td>\n",
       "      <td>Pioglitazone Tablet</td>\n",
       "      <td>2008-05-19T09:56:44.970+0100</td>\n",
       "      <td>15 mg Oral, every MORNING</td>\n",
       "    </tr>\n",
       "    <tr>\n",
       "      <th>3</th>\n",
       "      <td>19</td>\n",
       "      <td>R091915</td>\n",
       "      <td>Pioglitazone Tablet</td>\n",
       "      <td>2015-07-16T13:37:12.437+0100</td>\n",
       "      <td>15 mg, Oral, THREE times a day (8, 12 &amp; 18) RE...</td>\n",
       "    </tr>\n",
       "    <tr>\n",
       "      <th>4</th>\n",
       "      <td>30</td>\n",
       "      <td>D009571</td>\n",
       "      <td>Pioglitazone Tablet</td>\n",
       "      <td>2011-10-26T08:52:39.887+0100</td>\n",
       "      <td>15 mg Oral, every MORNING (0800)\\r\\nVERIFIED D...</td>\n",
       "    </tr>\n",
       "  </tbody>\n",
       "</table>\n",
       "</div>"
      ],
      "text/plain": [
       "   Unnamed: 0 client_idcode           order_name  \\\n",
       "0           8       R093460  Pioglitazone Tablet   \n",
       "1          10       M422838  Pioglitazone Tablet   \n",
       "2          17       A847865  Pioglitazone Tablet   \n",
       "3          19       R091915  Pioglitazone Tablet   \n",
       "4          30       D009571  Pioglitazone Tablet   \n",
       "\n",
       "               order_arrivaldtm  \\\n",
       "0  2015-07-31T14:39:07.423+0100   \n",
       "1  2017-05-20T18:00:02.287+0100   \n",
       "2  2008-05-19T09:56:44.970+0100   \n",
       "3  2015-07-16T13:37:12.437+0100   \n",
       "4  2011-10-26T08:52:39.887+0100   \n",
       "\n",
       "                                   order_summaryline  \n",
       "0  30 mg, Oral, every MORNING (0800). **IN DOSETT...  \n",
       "1                  30 mg, Oral, every MORNING (0800)  \n",
       "2                          15 mg Oral, every MORNING  \n",
       "3  15 mg, Oral, THREE times a day (8, 12 & 18) RE...  \n",
       "4  15 mg Oral, every MORNING (0800)\\r\\nVERIFIED D...  "
      ]
     },
     "execution_count": 45,
     "metadata": {},
     "output_type": "execute_result"
    }
   ],
   "source": [
    "antidiabetic_drugs.head()"
   ]
  },
  {
   "cell_type": "code",
   "execution_count": 46,
   "id": "15b98608",
   "metadata": {},
   "outputs": [],
   "source": [
    "del antidiabetic_drugs['Unnamed: 0']"
   ]
  },
  {
   "cell_type": "code",
   "execution_count": 47,
   "id": "267ee932",
   "metadata": {},
   "outputs": [],
   "source": [
    "antidiabetic_drugs['first_rivaroxaban_prescription'] = antidiabetic_drugs['client_idcode'].map(rivaroxaban)"
   ]
  },
  {
   "cell_type": "code",
   "execution_count": 48,
   "id": "b877e109",
   "metadata": {},
   "outputs": [
    {
     "data": {
      "text/plain": [
       "(38365, 5)"
      ]
     },
     "execution_count": 48,
     "metadata": {},
     "output_type": "execute_result"
    }
   ],
   "source": [
    "antidiabetic_drugs = antidiabetic_drugs[antidiabetic_drugs['first_rivaroxaban_prescription'].notna()]\n",
    "antidiabetic_drugs.shape"
   ]
  },
  {
   "cell_type": "code",
   "execution_count": 49,
   "id": "653b48f7",
   "metadata": {},
   "outputs": [
    {
     "data": {
      "text/html": [
       "<div>\n",
       "<style scoped>\n",
       "    .dataframe tbody tr th:only-of-type {\n",
       "        vertical-align: middle;\n",
       "    }\n",
       "\n",
       "    .dataframe tbody tr th {\n",
       "        vertical-align: top;\n",
       "    }\n",
       "\n",
       "    .dataframe thead th {\n",
       "        text-align: right;\n",
       "    }\n",
       "</style>\n",
       "<table border=\"1\" class=\"dataframe\">\n",
       "  <thead>\n",
       "    <tr style=\"text-align: right;\">\n",
       "      <th></th>\n",
       "      <th>client_idcode</th>\n",
       "      <th>order_name</th>\n",
       "      <th>order_arrivaldtm</th>\n",
       "      <th>order_summaryline</th>\n",
       "      <th>first_rivaroxaban_prescription</th>\n",
       "    </tr>\n",
       "  </thead>\n",
       "  <tbody>\n",
       "    <tr>\n",
       "      <th>0</th>\n",
       "      <td>R093460</td>\n",
       "      <td>Pioglitazone Tablet</td>\n",
       "      <td>2015-07-31T14:39:07.423+0100</td>\n",
       "      <td>30 mg, Oral, every MORNING (0800). **IN DOSETT...</td>\n",
       "      <td>2015-07-31</td>\n",
       "    </tr>\n",
       "    <tr>\n",
       "      <th>1</th>\n",
       "      <td>M422838</td>\n",
       "      <td>Pioglitazone Tablet</td>\n",
       "      <td>2017-05-20T18:00:02.287+0100</td>\n",
       "      <td>30 mg, Oral, every MORNING (0800)</td>\n",
       "      <td>2017-05-19</td>\n",
       "    </tr>\n",
       "    <tr>\n",
       "      <th>22</th>\n",
       "      <td>M735294</td>\n",
       "      <td>Pioglitazone Tablet</td>\n",
       "      <td>2022-08-03T10:07:20.357+0100</td>\n",
       "      <td>15 mg, Oral, every MORNING (0800) VERIFIED</td>\n",
       "      <td>2023-02-27</td>\n",
       "    </tr>\n",
       "    <tr>\n",
       "      <th>29</th>\n",
       "      <td>P303654</td>\n",
       "      <td>Pioglitazone Tablet</td>\n",
       "      <td>2013-02-06T11:00:11.347+0000</td>\n",
       "      <td>15 mg Oral, every MORNING (0800)\\r\\nVERIFIED *...</td>\n",
       "      <td>2015-02-23</td>\n",
       "    </tr>\n",
       "    <tr>\n",
       "      <th>38</th>\n",
       "      <td>M735294</td>\n",
       "      <td>Pioglitazone Tablet</td>\n",
       "      <td>2022-08-05T15:59:41.717+0000</td>\n",
       "      <td>15 mg, Oral, every MORNING (0800). STOPPED AS ...</td>\n",
       "      <td>2023-02-27</td>\n",
       "    </tr>\n",
       "  </tbody>\n",
       "</table>\n",
       "</div>"
      ],
      "text/plain": [
       "   client_idcode           order_name              order_arrivaldtm  \\\n",
       "0        R093460  Pioglitazone Tablet  2015-07-31T14:39:07.423+0100   \n",
       "1        M422838  Pioglitazone Tablet  2017-05-20T18:00:02.287+0100   \n",
       "22       M735294  Pioglitazone Tablet  2022-08-03T10:07:20.357+0100   \n",
       "29       P303654  Pioglitazone Tablet  2013-02-06T11:00:11.347+0000   \n",
       "38       M735294  Pioglitazone Tablet  2022-08-05T15:59:41.717+0000   \n",
       "\n",
       "                                    order_summaryline  \\\n",
       "0   30 mg, Oral, every MORNING (0800). **IN DOSETT...   \n",
       "1                   30 mg, Oral, every MORNING (0800)   \n",
       "22         15 mg, Oral, every MORNING (0800) VERIFIED   \n",
       "29  15 mg Oral, every MORNING (0800)\\r\\nVERIFIED *...   \n",
       "38  15 mg, Oral, every MORNING (0800). STOPPED AS ...   \n",
       "\n",
       "   first_rivaroxaban_prescription  \n",
       "0                      2015-07-31  \n",
       "1                      2017-05-19  \n",
       "22                     2023-02-27  \n",
       "29                     2015-02-23  \n",
       "38                     2023-02-27  "
      ]
     },
     "execution_count": 49,
     "metadata": {},
     "output_type": "execute_result"
    }
   ],
   "source": [
    "antidiabetic_drugs.head()"
   ]
  },
  {
   "cell_type": "code",
   "execution_count": 50,
   "id": "7917ad01",
   "metadata": {},
   "outputs": [
    {
     "data": {
      "text/plain": [
       "0"
      ]
     },
     "execution_count": 50,
     "metadata": {},
     "output_type": "execute_result"
    }
   ],
   "source": [
    "antidiabetic_drugs['order_arrivaldtm'].isna().sum()"
   ]
  },
  {
   "cell_type": "code",
   "execution_count": 51,
   "id": "618f53c2",
   "metadata": {},
   "outputs": [],
   "source": [
    "antidiabetic_drugs['order_arrivaldtm'] = pd.to_datetime(antidiabetic_drugs['order_arrivaldtm'], utc=True).dt.date "
   ]
  },
  {
   "cell_type": "code",
   "execution_count": 52,
   "id": "7fdf9981",
   "metadata": {},
   "outputs": [],
   "source": [
    "antidiabetic_drugs['difference'] = pd.to_datetime(antidiabetic_drugs['first_rivaroxaban_prescription']) - pd.to_datetime(antidiabetic_drugs['order_arrivaldtm'])"
   ]
  },
  {
   "cell_type": "code",
   "execution_count": 53,
   "id": "ccef624c",
   "metadata": {},
   "outputs": [
    {
     "data": {
      "text/html": [
       "<div>\n",
       "<style scoped>\n",
       "    .dataframe tbody tr th:only-of-type {\n",
       "        vertical-align: middle;\n",
       "    }\n",
       "\n",
       "    .dataframe tbody tr th {\n",
       "        vertical-align: top;\n",
       "    }\n",
       "\n",
       "    .dataframe thead th {\n",
       "        text-align: right;\n",
       "    }\n",
       "</style>\n",
       "<table border=\"1\" class=\"dataframe\">\n",
       "  <thead>\n",
       "    <tr style=\"text-align: right;\">\n",
       "      <th></th>\n",
       "      <th>client_idcode</th>\n",
       "      <th>order_name</th>\n",
       "      <th>order_arrivaldtm</th>\n",
       "      <th>order_summaryline</th>\n",
       "      <th>first_rivaroxaban_prescription</th>\n",
       "      <th>difference</th>\n",
       "    </tr>\n",
       "  </thead>\n",
       "  <tbody>\n",
       "    <tr>\n",
       "      <th>0</th>\n",
       "      <td>R093460</td>\n",
       "      <td>Pioglitazone Tablet</td>\n",
       "      <td>2015-07-31</td>\n",
       "      <td>30 mg, Oral, every MORNING (0800). **IN DOSETT...</td>\n",
       "      <td>2015-07-31</td>\n",
       "      <td>0 days</td>\n",
       "    </tr>\n",
       "    <tr>\n",
       "      <th>1</th>\n",
       "      <td>M422838</td>\n",
       "      <td>Pioglitazone Tablet</td>\n",
       "      <td>2017-05-20</td>\n",
       "      <td>30 mg, Oral, every MORNING (0800)</td>\n",
       "      <td>2017-05-19</td>\n",
       "      <td>-1 days</td>\n",
       "    </tr>\n",
       "    <tr>\n",
       "      <th>22</th>\n",
       "      <td>M735294</td>\n",
       "      <td>Pioglitazone Tablet</td>\n",
       "      <td>2022-08-03</td>\n",
       "      <td>15 mg, Oral, every MORNING (0800) VERIFIED</td>\n",
       "      <td>2023-02-27</td>\n",
       "      <td>208 days</td>\n",
       "    </tr>\n",
       "    <tr>\n",
       "      <th>29</th>\n",
       "      <td>P303654</td>\n",
       "      <td>Pioglitazone Tablet</td>\n",
       "      <td>2013-02-06</td>\n",
       "      <td>15 mg Oral, every MORNING (0800)\\r\\nVERIFIED *...</td>\n",
       "      <td>2015-02-23</td>\n",
       "      <td>747 days</td>\n",
       "    </tr>\n",
       "    <tr>\n",
       "      <th>38</th>\n",
       "      <td>M735294</td>\n",
       "      <td>Pioglitazone Tablet</td>\n",
       "      <td>2022-08-05</td>\n",
       "      <td>15 mg, Oral, every MORNING (0800). STOPPED AS ...</td>\n",
       "      <td>2023-02-27</td>\n",
       "      <td>206 days</td>\n",
       "    </tr>\n",
       "  </tbody>\n",
       "</table>\n",
       "</div>"
      ],
      "text/plain": [
       "   client_idcode           order_name order_arrivaldtm  \\\n",
       "0        R093460  Pioglitazone Tablet       2015-07-31   \n",
       "1        M422838  Pioglitazone Tablet       2017-05-20   \n",
       "22       M735294  Pioglitazone Tablet       2022-08-03   \n",
       "29       P303654  Pioglitazone Tablet       2013-02-06   \n",
       "38       M735294  Pioglitazone Tablet       2022-08-05   \n",
       "\n",
       "                                    order_summaryline  \\\n",
       "0   30 mg, Oral, every MORNING (0800). **IN DOSETT...   \n",
       "1                   30 mg, Oral, every MORNING (0800)   \n",
       "22         15 mg, Oral, every MORNING (0800) VERIFIED   \n",
       "29  15 mg Oral, every MORNING (0800)\\r\\nVERIFIED *...   \n",
       "38  15 mg, Oral, every MORNING (0800). STOPPED AS ...   \n",
       "\n",
       "   first_rivaroxaban_prescription difference  \n",
       "0                      2015-07-31     0 days  \n",
       "1                      2017-05-19    -1 days  \n",
       "22                     2023-02-27   208 days  \n",
       "29                     2015-02-23   747 days  \n",
       "38                     2023-02-27   206 days  "
      ]
     },
     "execution_count": 53,
     "metadata": {},
     "output_type": "execute_result"
    }
   ],
   "source": [
    "antidiabetic_drugs.head()"
   ]
  },
  {
   "cell_type": "code",
   "execution_count": 54,
   "id": "cf579b4a",
   "metadata": {},
   "outputs": [],
   "source": [
    "min_time = datetime.timedelta(days=1) \n",
    "max_time = datetime.timedelta(days=183)\n",
    "t1 = antidiabetic_drugs['difference'] >= min_time \n",
    "t2 = antidiabetic_drugs['difference'] <= max_time\n",
    "in_window = t1 & t2 \n",
    "antidiabetic_drugs['in_window'] = in_window"
   ]
  },
  {
   "cell_type": "code",
   "execution_count": 55,
   "id": "19365269",
   "metadata": {},
   "outputs": [
    {
     "data": {
      "text/plain": [
       "(4425, 7)"
      ]
     },
     "execution_count": 55,
     "metadata": {},
     "output_type": "execute_result"
    }
   ],
   "source": [
    "antidiabetic_drugs = antidiabetic_drugs.loc[antidiabetic_drugs['in_window'] == True]\n",
    "antidiabetic_drugs.shape"
   ]
  },
  {
   "cell_type": "code",
   "execution_count": 56,
   "id": "0a804b23",
   "metadata": {},
   "outputs": [
    {
     "data": {
      "text/html": [
       "<div>\n",
       "<style scoped>\n",
       "    .dataframe tbody tr th:only-of-type {\n",
       "        vertical-align: middle;\n",
       "    }\n",
       "\n",
       "    .dataframe tbody tr th {\n",
       "        vertical-align: top;\n",
       "    }\n",
       "\n",
       "    .dataframe thead th {\n",
       "        text-align: right;\n",
       "    }\n",
       "</style>\n",
       "<table border=\"1\" class=\"dataframe\">\n",
       "  <thead>\n",
       "    <tr style=\"text-align: right;\">\n",
       "      <th></th>\n",
       "      <th>client_idcode</th>\n",
       "      <th>order_name</th>\n",
       "      <th>order_arrivaldtm</th>\n",
       "      <th>order_summaryline</th>\n",
       "      <th>first_rivaroxaban_prescription</th>\n",
       "      <th>difference</th>\n",
       "      <th>in_window</th>\n",
       "    </tr>\n",
       "  </thead>\n",
       "  <tbody>\n",
       "    <tr>\n",
       "      <th>48</th>\n",
       "      <td>M806667</td>\n",
       "      <td>Pioglitazone Tablet</td>\n",
       "      <td>2019-08-31</td>\n",
       "      <td>15 mg, Oral, every MORNING (0800)</td>\n",
       "      <td>2019-10-30</td>\n",
       "      <td>60 days</td>\n",
       "      <td>True</td>\n",
       "    </tr>\n",
       "    <tr>\n",
       "      <th>92</th>\n",
       "      <td>M822204</td>\n",
       "      <td>Pioglitazone Tablet</td>\n",
       "      <td>2016-02-24</td>\n",
       "      <td>30 mg, Oral, every MORNING (0800) VERIFIED</td>\n",
       "      <td>2016-03-15</td>\n",
       "      <td>20 days</td>\n",
       "      <td>True</td>\n",
       "    </tr>\n",
       "    <tr>\n",
       "      <th>116</th>\n",
       "      <td>M806667</td>\n",
       "      <td>Pioglitazone Tablet</td>\n",
       "      <td>2019-06-22</td>\n",
       "      <td>15 mg, Oral, every MORNING (0800)</td>\n",
       "      <td>2019-10-30</td>\n",
       "      <td>130 days</td>\n",
       "      <td>True</td>\n",
       "    </tr>\n",
       "    <tr>\n",
       "      <th>146</th>\n",
       "      <td>M822204</td>\n",
       "      <td>Pioglitazone Tablet</td>\n",
       "      <td>2016-02-05</td>\n",
       "      <td>30 mg, Oral, every AFTERNOON (1200),\\r\\nluncht...</td>\n",
       "      <td>2016-03-15</td>\n",
       "      <td>39 days</td>\n",
       "      <td>True</td>\n",
       "    </tr>\n",
       "    <tr>\n",
       "      <th>370</th>\n",
       "      <td>M806667</td>\n",
       "      <td>Pioglitazone Tablet</td>\n",
       "      <td>2019-08-30</td>\n",
       "      <td>15 mg, Oral, every MORNING (0800). **Please st...</td>\n",
       "      <td>2019-10-30</td>\n",
       "      <td>61 days</td>\n",
       "      <td>True</td>\n",
       "    </tr>\n",
       "  </tbody>\n",
       "</table>\n",
       "</div>"
      ],
      "text/plain": [
       "    client_idcode           order_name order_arrivaldtm  \\\n",
       "48        M806667  Pioglitazone Tablet       2019-08-31   \n",
       "92        M822204  Pioglitazone Tablet       2016-02-24   \n",
       "116       M806667  Pioglitazone Tablet       2019-06-22   \n",
       "146       M822204  Pioglitazone Tablet       2016-02-05   \n",
       "370       M806667  Pioglitazone Tablet       2019-08-30   \n",
       "\n",
       "                                     order_summaryline  \\\n",
       "48                   15 mg, Oral, every MORNING (0800)   \n",
       "92          30 mg, Oral, every MORNING (0800) VERIFIED   \n",
       "116                  15 mg, Oral, every MORNING (0800)   \n",
       "146  30 mg, Oral, every AFTERNOON (1200),\\r\\nluncht...   \n",
       "370  15 mg, Oral, every MORNING (0800). **Please st...   \n",
       "\n",
       "    first_rivaroxaban_prescription difference  in_window  \n",
       "48                      2019-10-30    60 days       True  \n",
       "92                      2016-03-15    20 days       True  \n",
       "116                     2019-10-30   130 days       True  \n",
       "146                     2016-03-15    39 days       True  \n",
       "370                     2019-10-30    61 days       True  "
      ]
     },
     "execution_count": 56,
     "metadata": {},
     "output_type": "execute_result"
    }
   ],
   "source": [
    "antidiabetic_drugs.head()"
   ]
  },
  {
   "cell_type": "code",
   "execution_count": 57,
   "id": "ac263235",
   "metadata": {},
   "outputs": [
    {
     "data": {
      "text/plain": [
       "419"
      ]
     },
     "execution_count": 57,
     "metadata": {},
     "output_type": "execute_result"
    }
   ],
   "source": [
    "antidiabetic_drugs['client_idcode'].nunique()"
   ]
  },
  {
   "cell_type": "code",
   "execution_count": 58,
   "id": "8242d742",
   "metadata": {},
   "outputs": [],
   "source": [
    "antidiabetic_drugs['drug_name'] = antidiabetic_drugs['order_name'].str.upper()\n",
    "antidiabetic_drugs['order_summaryline_upper_case'] = antidiabetic_drugs['order_summaryline'].str.upper()"
   ]
  },
  {
   "cell_type": "code",
   "execution_count": 59,
   "id": "0f6c0d43",
   "metadata": {},
   "outputs": [],
   "source": [
    "matches = ['HELD', 'ON HOLD', 'STOPPED', 'STOP', 'WITHHELD', 'WITHHOLD', 'DISCONTINUED', 'DISCONTINUE']"
   ]
  },
  {
   "cell_type": "code",
   "execution_count": 60,
   "id": "5c866961",
   "metadata": {},
   "outputs": [
    {
     "data": {
      "text/plain": [
       "419"
      ]
     },
     "execution_count": 60,
     "metadata": {},
     "output_type": "execute_result"
    }
   ],
   "source": [
    "on_antidiabetic_drugs = set(antidiabetic_drugs['client_idcode'])\n",
    "len(on_antidiabetic_drugs)"
   ]
  },
  {
   "cell_type": "code",
   "execution_count": 61,
   "id": "0dc848fb",
   "metadata": {},
   "outputs": [],
   "source": [
    "with open('/projects/ROCKET AF/1A/rivaroxaban dataextraction/data/on_antidiabetic_drugs.pickle', 'wb') as f:\n",
    "    pickle.dump(on_antidiabetic_drugs,f)"
   ]
  },
  {
   "cell_type": "markdown",
   "id": "6cc410e4",
   "metadata": {},
   "source": [
    "--------------"
   ]
  },
  {
   "cell_type": "code",
   "execution_count": null,
   "id": "a0939d90",
   "metadata": {},
   "outputs": [],
   "source": []
  }
 ],
 "metadata": {
  "kernelspec": {
   "display_name": "Python 3 (ipykernel)",
   "language": "python",
   "name": "python3"
  },
  "language_info": {
   "codemirror_mode": {
    "name": "ipython",
    "version": 3
   },
   "file_extension": ".py",
   "mimetype": "text/x-python",
   "name": "python",
   "nbconvert_exporter": "python",
   "pygments_lexer": "ipython3",
   "version": "3.9.7"
  }
 },
 "nbformat": 4,
 "nbformat_minor": 5
}
