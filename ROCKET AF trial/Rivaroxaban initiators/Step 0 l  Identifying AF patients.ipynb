{
 "cells": [
  {
   "cell_type": "code",
   "execution_count": null,
   "id": "43884b13",
   "metadata": {},
   "outputs": [],
   "source": [
    "import pickle\n",
    "import pandas\n",
    "import json\n",
    "import networkx as nx\n",
    "import pandas as pd\n",
    "import datetime\n",
    "import numpy as np\n",
    "from tqdm import tqdm"
   ]
  },
  {
   "cell_type": "markdown",
   "id": "eb32dedf",
   "metadata": {},
   "source": [
    " ## AF patients "
   ]
  },
  {
   "cell_type": "code",
   "execution_count": null,
   "id": "32b55b14",
   "metadata": {},
   "outputs": [],
   "source": [
    "def graph_from_onto(onto):\n",
    "    G = nx.DiGraph()\n",
    "    cl_edges = []\n",
    "    for s, ts in onto.items():\n",
    "        for t in ts:\n",
    "            cl_edges.append((s.replace('S-', ''), t.replace('S-', '')))\n",
    "    G.add_edges_from(cl_edges)\n",
    "    return G\n",
    "\n",
    "def load_onto(o):\n",
    "    with open(f'/projects/data/GS/{o}', 'rb') as f:\n",
    "        onto = pickle.load(f)\n",
    "    G = graph_from_onto(onto)\n",
    "    return G\n",
    "\n",
    "def expand_codes(onto, codes):\n",
    "    expanded = {}\n",
    "    for name, top_codes in codes.items():\n",
    "        expanded[name] = set()\n",
    "        for c in top_codes:\n",
    "            expanded[name].add(c)\n",
    "            if c in onto:\n",
    "                expanded[name].update(nx.ancestors(onto, c))\n",
    "            else:\n",
    "                print(\"NOT FOUND:\", c, name)\n",
    "        print(name, len(top_codes), len(expanded[name]))\n",
    "    return expanded"
   ]
  },
  {
   "cell_type": "code",
   "execution_count": null,
   "id": "fef1ba7a",
   "metadata": {},
   "outputs": [],
   "source": [
    "onto = load_onto('isa_rela_ch2pt_202009.pickle')"
   ]
  },
  {
   "cell_type": "code",
   "execution_count": null,
   "id": "295d102b",
   "metadata": {},
   "outputs": [],
   "source": [
    "af = { 'AF' : ['49436004']}"
   ]
  },
  {
   "cell_type": "code",
   "execution_count": null,
   "id": "ea4633d9",
   "metadata": {},
   "outputs": [],
   "source": [
    "af = expand_codes(onto,af)"
   ]
  },
  {
   "cell_type": "code",
   "execution_count": null,
   "id": "d2eb2880",
   "metadata": {},
   "outputs": [],
   "source": [
    "af_codes = set()\n",
    "for x in af.values():\n",
    "    af_codes.update(x)"
   ]
  },
  {
   "cell_type": "code",
   "execution_count": null,
   "id": "647085db",
   "metadata": {},
   "outputs": [],
   "source": [
    "%%time \n",
    "with open('/projects/data/GS/pt2cui_pos_dates.pickle', 'rb') as f:\n",
    "    pt2cui_pos_dates = pickle.load(f)"
   ]
  },
  {
   "cell_type": "code",
   "execution_count": null,
   "id": "52617f95",
   "metadata": {},
   "outputs": [],
   "source": [
    "# identify patients with at least one mention AF\n",
    "\n",
    "def build_set(codes_list):\n",
    "    '''\n",
    "    this function returns \n",
    "    :param codes:\n",
    "    :return data: \n",
    "    '''\n",
    "    data = set()\n",
    "    for pt in pt2cui_pos_dates:\n",
    "        for ptcodes in pt2cui_pos_dates[pt]:\n",
    "            if ptcodes in codes_list:\n",
    "                data.add(pt) \n",
    "    return data"
   ]
  },
  {
   "cell_type": "code",
   "execution_count": null,
   "id": "d684ed39",
   "metadata": {},
   "outputs": [],
   "source": [
    "af_patients = build_set(af_codes)\n",
    "len(af_patients)"
   ]
  },
  {
   "cell_type": "code",
   "execution_count": null,
   "id": "ab0b9da6",
   "metadata": {},
   "outputs": [],
   "source": [
    "af_ids = list(af_patients)\n",
    "af_ids = pandas.DataFrame(data={'af_ids': af_ids})\n",
    "af_ids.to_csv('/projects/ROCKET AF/1A/data extraction/af_ids.csv', sep=',',index=False)"
   ]
  },
  {
   "cell_type": "code",
   "execution_count": null,
   "id": "cea9e4ea",
   "metadata": {},
   "outputs": [],
   "source": []
  }
 ],
 "metadata": {
  "kernelspec": {
   "display_name": "Python 3 (ipykernel)",
   "language": "python",
   "name": "python3"
  },
  "language_info": {
   "codemirror_mode": {
    "name": "ipython",
    "version": 3
   },
   "file_extension": ".py",
   "mimetype": "text/x-python",
   "name": "python",
   "nbconvert_exporter": "python",
   "pygments_lexer": "ipython3",
   "version": "3.9.7"
  }
 },
 "nbformat": 4,
 "nbformat_minor": 5
}
