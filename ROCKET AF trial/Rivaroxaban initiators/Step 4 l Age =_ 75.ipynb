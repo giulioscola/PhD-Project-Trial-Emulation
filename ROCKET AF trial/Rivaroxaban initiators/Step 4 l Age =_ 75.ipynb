{
 "cells": [
  {
   "cell_type": "code",
   "execution_count": null,
   "id": "9ea31671",
   "metadata": {},
   "outputs": [],
   "source": [
    "import pandas as pd \n",
    "import pickle\n",
    "import datetime"
   ]
  },
  {
   "cell_type": "markdown",
   "id": "25e6a38c",
   "metadata": {},
   "source": [
    "# Atrial fibrillation (AF) patients on rivaroxaban"
   ]
  },
  {
   "cell_type": "code",
   "execution_count": null,
   "id": "def41eff",
   "metadata": {},
   "outputs": [],
   "source": [
    "with open('/projects/ROCKET AF/1A/rivaroxaban dataextraction/data/first_mention_rivaroxaban.pickle', 'rb') as f:\n",
    "    rivaroxaban = pickle.load(f)"
   ]
  },
  {
   "cell_type": "code",
   "execution_count": null,
   "id": "daaf2a78",
   "metadata": {},
   "outputs": [],
   "source": [
    "len(rivaroxaban)"
   ]
  },
  {
   "cell_type": "code",
   "execution_count": null,
   "id": "1d699c9a",
   "metadata": {},
   "outputs": [],
   "source": [
    "df = pd.DataFrame(list(rivaroxaban.items()), columns=['client_idcode', 'first_mention_rivaroxaban']) # This code converts a dictionary (rivaroxaban) into a Pandas DataFrame with two columns named 'client_idcode' and 'first_mention_rivaroxaban'\n",
    "df.shape"
   ]
  },
  {
   "cell_type": "code",
   "execution_count": null,
   "id": "a3c2e79d",
   "metadata": {},
   "outputs": [],
   "source": [
    "df.head()"
   ]
  },
  {
   "cell_type": "code",
   "execution_count": null,
   "id": "0f1c2052",
   "metadata": {},
   "outputs": [],
   "source": [
    "ids = set(df['client_idcode'])\n",
    "len(ids)"
   ]
  },
  {
   "cell_type": "markdown",
   "id": "ac05c82d",
   "metadata": {},
   "source": [
    "# AF patients' age"
   ]
  },
  {
   "cell_type": "code",
   "execution_count": null,
   "id": "4b297dc0",
   "metadata": {},
   "outputs": [],
   "source": [
    "docs = pd.read_csv('/projects/ROCKET AF/data/epr_docs.csv')"
   ]
  },
  {
   "cell_type": "code",
   "execution_count": null,
   "id": "7ae301df",
   "metadata": {},
   "outputs": [],
   "source": [
    "df = docs[['client_idcode', 'client_dob']]"
   ]
  },
  {
   "cell_type": "code",
   "execution_count": null,
   "id": "4ca3a667",
   "metadata": {},
   "outputs": [],
   "source": [
    "df.head()"
   ]
  },
  {
   "cell_type": "code",
   "execution_count": null,
   "id": "a426eda5",
   "metadata": {},
   "outputs": [],
   "source": [
    "df['first_rivaroxaban_prescription'] = df['client_idcode'].map(rivaroxaban)"
   ]
  },
  {
   "cell_type": "code",
   "execution_count": null,
   "id": "0c9dadd9",
   "metadata": {},
   "outputs": [],
   "source": [
    "df.head()"
   ]
  },
  {
   "cell_type": "code",
   "execution_count": null,
   "id": "a878229d",
   "metadata": {},
   "outputs": [],
   "source": [
    "df['client_dob'] = pd.to_datetime(df['client_dob'], utc=True).dt.date "
   ]
  },
  {
   "cell_type": "code",
   "execution_count": null,
   "id": "c80ee5f1",
   "metadata": {},
   "outputs": [],
   "source": [
    "df.head()"
   ]
  },
  {
   "cell_type": "code",
   "execution_count": null,
   "id": "7f254fdf",
   "metadata": {},
   "outputs": [],
   "source": [
    "df['deltas'] = pd.to_datetime(df['first_rivaroxaban_prescription']) - pd.to_datetime(df['client_dob'])\n",
    "df['age'] = [x.days / 365.2425 for x in df['deltas']]"
   ]
  },
  {
   "cell_type": "code",
   "execution_count": null,
   "id": "101c4a5f",
   "metadata": {},
   "outputs": [],
   "source": [
    "df.head()"
   ]
  },
  {
   "cell_type": "code",
   "execution_count": null,
   "id": "ad24137d",
   "metadata": {},
   "outputs": [],
   "source": [
    "df = df.dropna(subset=['age'])"
   ]
  },
  {
   "cell_type": "code",
   "execution_count": null,
   "id": "6c9b4702",
   "metadata": {},
   "outputs": [],
   "source": [
    "df['client_idcode'].nunique()"
   ]
  },
  {
   "cell_type": "code",
   "execution_count": null,
   "id": "3d24581c",
   "metadata": {},
   "outputs": [],
   "source": [
    "age = dict(zip(df['client_idcode'], df['age']))"
   ]
  },
  {
   "cell_type": "code",
   "execution_count": null,
   "id": "5d571db6",
   "metadata": {},
   "outputs": [],
   "source": [
    "age"
   ]
  },
  {
   "cell_type": "code",
   "execution_count": null,
   "id": "5f5cde5c",
   "metadata": {},
   "outputs": [],
   "source": [
    "with open('/projects/ROCKET AF/1A/rivaroxaban dataextraction/data/age.pickle', 'wb') as f:\n",
    "    pickle.dump(age,f)"
   ]
  },
  {
   "cell_type": "code",
   "execution_count": null,
   "id": "a05a80e8",
   "metadata": {},
   "outputs": [],
   "source": []
  }
 ],
 "metadata": {
  "kernelspec": {
   "display_name": "Python 3 (ipykernel)",
   "language": "python",
   "name": "python3"
  },
  "language_info": {
   "codemirror_mode": {
    "name": "ipython",
    "version": 3
   },
   "file_extension": ".py",
   "mimetype": "text/x-python",
   "name": "python",
   "nbconvert_exporter": "python",
   "pygments_lexer": "ipython3",
   "version": "3.9.7"
  }
 },
 "nbformat": 4,
 "nbformat_minor": 5
}
