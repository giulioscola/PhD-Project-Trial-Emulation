{
 "cells": [
  {
   "cell_type": "code",
   "execution_count": 71,
   "id": "26b0b6d2",
   "metadata": {},
   "outputs": [],
   "source": [
    "import pandas as pd \n",
    "import pickle\n",
    "import datetime\n",
    "import re\n",
    "import networkx as nx\n",
    "import numpy as np\n",
    "from tqdm import tqdm"
   ]
  },
  {
   "cell_type": "markdown",
   "id": "3579fd80",
   "metadata": {},
   "source": [
    "# Atrial fibrillation (AF) patients on rivaroxaban"
   ]
  },
  {
   "cell_type": "code",
   "execution_count": 2,
   "id": "c089acda",
   "metadata": {},
   "outputs": [],
   "source": [
    "with open('/projects/ROCKET AF/1A/rivaroxaban dataextraction/data/first_mention_rivaroxaban.pickle', 'rb') as f:\n",
    "    rivaroxaban = pickle.load(f)"
   ]
  },
  {
   "cell_type": "code",
   "execution_count": 3,
   "id": "3585033b",
   "metadata": {},
   "outputs": [
    {
     "data": {
      "text/plain": [
       "2585"
      ]
     },
     "execution_count": 3,
     "metadata": {},
     "output_type": "execute_result"
    }
   ],
   "source": [
    "len(rivaroxaban)"
   ]
  },
  {
   "cell_type": "code",
   "execution_count": 4,
   "id": "e86d6dfe",
   "metadata": {},
   "outputs": [
    {
     "data": {
      "text/plain": [
       "(2585, 2)"
      ]
     },
     "execution_count": 4,
     "metadata": {},
     "output_type": "execute_result"
    }
   ],
   "source": [
    "df = pd.DataFrame(list(rivaroxaban.items()), columns=['client_idcode', 'first_mention_rivaroxaban']) # This code converts a dictionary (rivaroxaban) into a Pandas DataFrame with two columns named 'client_idcode' and 'first_mention_rivaroxaban'\n",
    "df.shape"
   ]
  },
  {
   "cell_type": "code",
   "execution_count": 5,
   "id": "1a84663b",
   "metadata": {},
   "outputs": [
    {
     "data": {
      "text/html": [
       "<div>\n",
       "<style scoped>\n",
       "    .dataframe tbody tr th:only-of-type {\n",
       "        vertical-align: middle;\n",
       "    }\n",
       "\n",
       "    .dataframe tbody tr th {\n",
       "        vertical-align: top;\n",
       "    }\n",
       "\n",
       "    .dataframe thead th {\n",
       "        text-align: right;\n",
       "    }\n",
       "</style>\n",
       "<table border=\"1\" class=\"dataframe\">\n",
       "  <thead>\n",
       "    <tr style=\"text-align: right;\">\n",
       "      <th></th>\n",
       "      <th>client_idcode</th>\n",
       "      <th>first_mention_rivaroxaban</th>\n",
       "    </tr>\n",
       "  </thead>\n",
       "  <tbody>\n",
       "    <tr>\n",
       "      <th>0</th>\n",
       "      <td>0372858</td>\n",
       "      <td>2015-03-02</td>\n",
       "    </tr>\n",
       "    <tr>\n",
       "      <th>1</th>\n",
       "      <td>M282816</td>\n",
       "      <td>2018-10-25</td>\n",
       "    </tr>\n",
       "    <tr>\n",
       "      <th>2</th>\n",
       "      <td>V282449</td>\n",
       "      <td>2018-08-02</td>\n",
       "    </tr>\n",
       "    <tr>\n",
       "      <th>3</th>\n",
       "      <td>V459668</td>\n",
       "      <td>2015-06-25</td>\n",
       "    </tr>\n",
       "    <tr>\n",
       "      <th>4</th>\n",
       "      <td>R081687</td>\n",
       "      <td>2015-04-27</td>\n",
       "    </tr>\n",
       "  </tbody>\n",
       "</table>\n",
       "</div>"
      ],
      "text/plain": [
       "  client_idcode first_mention_rivaroxaban\n",
       "0       0372858                2015-03-02\n",
       "1       M282816                2018-10-25\n",
       "2       V282449                2018-08-02\n",
       "3       V459668                2015-06-25\n",
       "4       R081687                2015-04-27"
      ]
     },
     "execution_count": 5,
     "metadata": {},
     "output_type": "execute_result"
    }
   ],
   "source": [
    "df.head()"
   ]
  },
  {
   "cell_type": "code",
   "execution_count": 6,
   "id": "1c57fe87",
   "metadata": {},
   "outputs": [
    {
     "data": {
      "text/plain": [
       "2585"
      ]
     },
     "execution_count": 6,
     "metadata": {},
     "output_type": "execute_result"
    }
   ],
   "source": [
    "ids = set(df['client_idcode'])\n",
    "len(ids)"
   ]
  },
  {
   "cell_type": "markdown",
   "id": "bc25e662",
   "metadata": {},
   "source": [
    "# AF patients' blood pressure"
   ]
  },
  {
   "cell_type": "code",
   "execution_count": 7,
   "id": "0a9321ed",
   "metadata": {},
   "outputs": [],
   "source": [
    "blood_pressure = pd.read_csv('/projects/ROCKET AF/data/blood_pressure.csv')"
   ]
  },
  {
   "cell_type": "code",
   "execution_count": 8,
   "id": "aa084d4e",
   "metadata": {},
   "outputs": [
    {
     "data": {
      "text/plain": [
       "(3502984, 7)"
      ]
     },
     "execution_count": 8,
     "metadata": {},
     "output_type": "execute_result"
    }
   ],
   "source": [
    "blood_pressure.shape"
   ]
  },
  {
   "cell_type": "code",
   "execution_count": 9,
   "id": "72b601b3",
   "metadata": {},
   "outputs": [
    {
     "data": {
      "text/html": [
       "<div>\n",
       "<style scoped>\n",
       "    .dataframe tbody tr th:only-of-type {\n",
       "        vertical-align: middle;\n",
       "    }\n",
       "\n",
       "    .dataframe tbody tr th {\n",
       "        vertical-align: top;\n",
       "    }\n",
       "\n",
       "    .dataframe thead th {\n",
       "        text-align: right;\n",
       "    }\n",
       "</style>\n",
       "<table border=\"1\" class=\"dataframe\">\n",
       "  <thead>\n",
       "    <tr style=\"text-align: right;\">\n",
       "      <th></th>\n",
       "      <th>Unnamed: 0</th>\n",
       "      <th>client_idcode</th>\n",
       "      <th>obscatalogmasteritem_unitofmeasure</th>\n",
       "      <th>obscatalogmasteritem_displayname</th>\n",
       "      <th>observation_valuetext_analysed</th>\n",
       "      <th>observationdocument_createdwhen</th>\n",
       "      <th>client_dob</th>\n",
       "    </tr>\n",
       "  </thead>\n",
       "  <tbody>\n",
       "    <tr>\n",
       "      <th>0</th>\n",
       "      <td>0</td>\n",
       "      <td>Q029932</td>\n",
       "      <td>mmHg</td>\n",
       "      <td>NEWS_Systolic_BP</td>\n",
       "      <td>123.0</td>\n",
       "      <td>2020-07-06T05:43:24.117+0100</td>\n",
       "      <td>1927-02-11T00:00:00.000+0000</td>\n",
       "    </tr>\n",
       "    <tr>\n",
       "      <th>1</th>\n",
       "      <td>2</td>\n",
       "      <td>F335077</td>\n",
       "      <td>NaN</td>\n",
       "      <td>NEWS_Systolic_BP</td>\n",
       "      <td>147.0</td>\n",
       "      <td>2019-06-27T14:31:55.980+0100</td>\n",
       "      <td>1967-05-01T00:00:00.000+0100</td>\n",
       "    </tr>\n",
       "    <tr>\n",
       "      <th>2</th>\n",
       "      <td>10</td>\n",
       "      <td>P303828</td>\n",
       "      <td>mmHg</td>\n",
       "      <td>NEWS_Systolic_BP</td>\n",
       "      <td>75.0</td>\n",
       "      <td>2018-08-28T10:39:00.833+0100</td>\n",
       "      <td>1942-06-11T00:00:00.000+0200</td>\n",
       "    </tr>\n",
       "    <tr>\n",
       "      <th>3</th>\n",
       "      <td>11</td>\n",
       "      <td>P553416</td>\n",
       "      <td>mmHg</td>\n",
       "      <td>NEWS_Systolic_BP</td>\n",
       "      <td>126.0</td>\n",
       "      <td>2018-07-23T15:55:24.370+0100</td>\n",
       "      <td>1945-06-24T00:00:00.000+0200</td>\n",
       "    </tr>\n",
       "    <tr>\n",
       "      <th>4</th>\n",
       "      <td>12</td>\n",
       "      <td>D652011</td>\n",
       "      <td>NaN</td>\n",
       "      <td>NEWS_Systolic_BP</td>\n",
       "      <td>138.0</td>\n",
       "      <td>2019-07-11T06:26:15.553+0100</td>\n",
       "      <td>1939-03-21T00:00:00.000+0000</td>\n",
       "    </tr>\n",
       "  </tbody>\n",
       "</table>\n",
       "</div>"
      ],
      "text/plain": [
       "   Unnamed: 0 client_idcode obscatalogmasteritem_unitofmeasure  \\\n",
       "0           0       Q029932                               mmHg   \n",
       "1           2       F335077                                NaN   \n",
       "2          10       P303828                               mmHg   \n",
       "3          11       P553416                               mmHg   \n",
       "4          12       D652011                                NaN   \n",
       "\n",
       "  obscatalogmasteritem_displayname  observation_valuetext_analysed  \\\n",
       "0                 NEWS_Systolic_BP                           123.0   \n",
       "1                 NEWS_Systolic_BP                           147.0   \n",
       "2                 NEWS_Systolic_BP                            75.0   \n",
       "3                 NEWS_Systolic_BP                           126.0   \n",
       "4                 NEWS_Systolic_BP                           138.0   \n",
       "\n",
       "  observationdocument_createdwhen                    client_dob  \n",
       "0    2020-07-06T05:43:24.117+0100  1927-02-11T00:00:00.000+0000  \n",
       "1    2019-06-27T14:31:55.980+0100  1967-05-01T00:00:00.000+0100  \n",
       "2    2018-08-28T10:39:00.833+0100  1942-06-11T00:00:00.000+0200  \n",
       "3    2018-07-23T15:55:24.370+0100  1945-06-24T00:00:00.000+0200  \n",
       "4    2019-07-11T06:26:15.553+0100  1939-03-21T00:00:00.000+0000  "
      ]
     },
     "execution_count": 9,
     "metadata": {},
     "output_type": "execute_result"
    }
   ],
   "source": [
    "blood_pressure.head()"
   ]
  },
  {
   "cell_type": "code",
   "execution_count": 10,
   "id": "48a28192",
   "metadata": {},
   "outputs": [],
   "source": [
    "del blood_pressure['Unnamed: 0']"
   ]
  },
  {
   "cell_type": "code",
   "execution_count": 11,
   "id": "fd8a0908",
   "metadata": {},
   "outputs": [
    {
     "data": {
      "text/html": [
       "<div>\n",
       "<style scoped>\n",
       "    .dataframe tbody tr th:only-of-type {\n",
       "        vertical-align: middle;\n",
       "    }\n",
       "\n",
       "    .dataframe tbody tr th {\n",
       "        vertical-align: top;\n",
       "    }\n",
       "\n",
       "    .dataframe thead th {\n",
       "        text-align: right;\n",
       "    }\n",
       "</style>\n",
       "<table border=\"1\" class=\"dataframe\">\n",
       "  <thead>\n",
       "    <tr style=\"text-align: right;\">\n",
       "      <th></th>\n",
       "      <th>client_idcode</th>\n",
       "      <th>obscatalogmasteritem_unitofmeasure</th>\n",
       "      <th>obscatalogmasteritem_displayname</th>\n",
       "      <th>observation_valuetext_analysed</th>\n",
       "      <th>observationdocument_createdwhen</th>\n",
       "      <th>client_dob</th>\n",
       "    </tr>\n",
       "  </thead>\n",
       "  <tbody>\n",
       "    <tr>\n",
       "      <th>0</th>\n",
       "      <td>Q029932</td>\n",
       "      <td>mmHg</td>\n",
       "      <td>NEWS_Systolic_BP</td>\n",
       "      <td>123.0</td>\n",
       "      <td>2020-07-06T05:43:24.117+0100</td>\n",
       "      <td>1927-02-11T00:00:00.000+0000</td>\n",
       "    </tr>\n",
       "    <tr>\n",
       "      <th>1</th>\n",
       "      <td>F335077</td>\n",
       "      <td>NaN</td>\n",
       "      <td>NEWS_Systolic_BP</td>\n",
       "      <td>147.0</td>\n",
       "      <td>2019-06-27T14:31:55.980+0100</td>\n",
       "      <td>1967-05-01T00:00:00.000+0100</td>\n",
       "    </tr>\n",
       "    <tr>\n",
       "      <th>2</th>\n",
       "      <td>P303828</td>\n",
       "      <td>mmHg</td>\n",
       "      <td>NEWS_Systolic_BP</td>\n",
       "      <td>75.0</td>\n",
       "      <td>2018-08-28T10:39:00.833+0100</td>\n",
       "      <td>1942-06-11T00:00:00.000+0200</td>\n",
       "    </tr>\n",
       "    <tr>\n",
       "      <th>3</th>\n",
       "      <td>P553416</td>\n",
       "      <td>mmHg</td>\n",
       "      <td>NEWS_Systolic_BP</td>\n",
       "      <td>126.0</td>\n",
       "      <td>2018-07-23T15:55:24.370+0100</td>\n",
       "      <td>1945-06-24T00:00:00.000+0200</td>\n",
       "    </tr>\n",
       "    <tr>\n",
       "      <th>4</th>\n",
       "      <td>D652011</td>\n",
       "      <td>NaN</td>\n",
       "      <td>NEWS_Systolic_BP</td>\n",
       "      <td>138.0</td>\n",
       "      <td>2019-07-11T06:26:15.553+0100</td>\n",
       "      <td>1939-03-21T00:00:00.000+0000</td>\n",
       "    </tr>\n",
       "  </tbody>\n",
       "</table>\n",
       "</div>"
      ],
      "text/plain": [
       "  client_idcode obscatalogmasteritem_unitofmeasure  \\\n",
       "0       Q029932                               mmHg   \n",
       "1       F335077                                NaN   \n",
       "2       P303828                               mmHg   \n",
       "3       P553416                               mmHg   \n",
       "4       D652011                                NaN   \n",
       "\n",
       "  obscatalogmasteritem_displayname  observation_valuetext_analysed  \\\n",
       "0                 NEWS_Systolic_BP                           123.0   \n",
       "1                 NEWS_Systolic_BP                           147.0   \n",
       "2                 NEWS_Systolic_BP                            75.0   \n",
       "3                 NEWS_Systolic_BP                           126.0   \n",
       "4                 NEWS_Systolic_BP                           138.0   \n",
       "\n",
       "  observationdocument_createdwhen                    client_dob  \n",
       "0    2020-07-06T05:43:24.117+0100  1927-02-11T00:00:00.000+0000  \n",
       "1    2019-06-27T14:31:55.980+0100  1967-05-01T00:00:00.000+0100  \n",
       "2    2018-08-28T10:39:00.833+0100  1942-06-11T00:00:00.000+0200  \n",
       "3    2018-07-23T15:55:24.370+0100  1945-06-24T00:00:00.000+0200  \n",
       "4    2019-07-11T06:26:15.553+0100  1939-03-21T00:00:00.000+0000  "
      ]
     },
     "execution_count": 11,
     "metadata": {},
     "output_type": "execute_result"
    }
   ],
   "source": [
    "blood_pressure.head()"
   ]
  },
  {
   "cell_type": "code",
   "execution_count": 12,
   "id": "a9125735",
   "metadata": {},
   "outputs": [
    {
     "data": {
      "text/plain": [
       "array(['NEWS_Systolic_BP', 'NEWS_Diastolic_BP'], dtype=object)"
      ]
     },
     "execution_count": 12,
     "metadata": {},
     "output_type": "execute_result"
    }
   ],
   "source": [
    "blood_pressure['obscatalogmasteritem_displayname'].unique()"
   ]
  },
  {
   "cell_type": "code",
   "execution_count": 13,
   "id": "34646e9b",
   "metadata": {},
   "outputs": [
    {
     "data": {
      "text/plain": [
       "0"
      ]
     },
     "execution_count": 13,
     "metadata": {},
     "output_type": "execute_result"
    }
   ],
   "source": [
    "blood_pressure['observationdocument_createdwhen'].isna().sum()"
   ]
  },
  {
   "cell_type": "code",
   "execution_count": 14,
   "id": "a03f13c9",
   "metadata": {},
   "outputs": [
    {
     "data": {
      "text/plain": [
       "array(['mmHg', nan], dtype=object)"
      ]
     },
     "execution_count": 14,
     "metadata": {},
     "output_type": "execute_result"
    }
   ],
   "source": [
    "blood_pressure['obscatalogmasteritem_unitofmeasure'].unique()"
   ]
  },
  {
   "cell_type": "markdown",
   "id": "113e6844",
   "metadata": {},
   "source": [
    "# Systolic blood pressure"
   ]
  },
  {
   "cell_type": "code",
   "execution_count": 15,
   "id": "fe855b48",
   "metadata": {},
   "outputs": [
    {
     "data": {
      "text/plain": [
       "(1753357, 6)"
      ]
     },
     "execution_count": 15,
     "metadata": {},
     "output_type": "execute_result"
    }
   ],
   "source": [
    "systolic_blood_pressure = blood_pressure.loc[blood_pressure['obscatalogmasteritem_displayname'] == 'NEWS_Systolic_BP']\n",
    "systolic_blood_pressure.shape"
   ]
  },
  {
   "cell_type": "code",
   "execution_count": 16,
   "id": "268a3505",
   "metadata": {},
   "outputs": [
    {
     "data": {
      "text/html": [
       "<div>\n",
       "<style scoped>\n",
       "    .dataframe tbody tr th:only-of-type {\n",
       "        vertical-align: middle;\n",
       "    }\n",
       "\n",
       "    .dataframe tbody tr th {\n",
       "        vertical-align: top;\n",
       "    }\n",
       "\n",
       "    .dataframe thead th {\n",
       "        text-align: right;\n",
       "    }\n",
       "</style>\n",
       "<table border=\"1\" class=\"dataframe\">\n",
       "  <thead>\n",
       "    <tr style=\"text-align: right;\">\n",
       "      <th></th>\n",
       "      <th>client_idcode</th>\n",
       "      <th>obscatalogmasteritem_unitofmeasure</th>\n",
       "      <th>obscatalogmasteritem_displayname</th>\n",
       "      <th>observation_valuetext_analysed</th>\n",
       "      <th>observationdocument_createdwhen</th>\n",
       "      <th>client_dob</th>\n",
       "    </tr>\n",
       "  </thead>\n",
       "  <tbody>\n",
       "    <tr>\n",
       "      <th>0</th>\n",
       "      <td>Q029932</td>\n",
       "      <td>mmHg</td>\n",
       "      <td>NEWS_Systolic_BP</td>\n",
       "      <td>123.0</td>\n",
       "      <td>2020-07-06T05:43:24.117+0100</td>\n",
       "      <td>1927-02-11T00:00:00.000+0000</td>\n",
       "    </tr>\n",
       "    <tr>\n",
       "      <th>1</th>\n",
       "      <td>F335077</td>\n",
       "      <td>NaN</td>\n",
       "      <td>NEWS_Systolic_BP</td>\n",
       "      <td>147.0</td>\n",
       "      <td>2019-06-27T14:31:55.980+0100</td>\n",
       "      <td>1967-05-01T00:00:00.000+0100</td>\n",
       "    </tr>\n",
       "    <tr>\n",
       "      <th>2</th>\n",
       "      <td>P303828</td>\n",
       "      <td>mmHg</td>\n",
       "      <td>NEWS_Systolic_BP</td>\n",
       "      <td>75.0</td>\n",
       "      <td>2018-08-28T10:39:00.833+0100</td>\n",
       "      <td>1942-06-11T00:00:00.000+0200</td>\n",
       "    </tr>\n",
       "    <tr>\n",
       "      <th>3</th>\n",
       "      <td>P553416</td>\n",
       "      <td>mmHg</td>\n",
       "      <td>NEWS_Systolic_BP</td>\n",
       "      <td>126.0</td>\n",
       "      <td>2018-07-23T15:55:24.370+0100</td>\n",
       "      <td>1945-06-24T00:00:00.000+0200</td>\n",
       "    </tr>\n",
       "    <tr>\n",
       "      <th>4</th>\n",
       "      <td>D652011</td>\n",
       "      <td>NaN</td>\n",
       "      <td>NEWS_Systolic_BP</td>\n",
       "      <td>138.0</td>\n",
       "      <td>2019-07-11T06:26:15.553+0100</td>\n",
       "      <td>1939-03-21T00:00:00.000+0000</td>\n",
       "    </tr>\n",
       "  </tbody>\n",
       "</table>\n",
       "</div>"
      ],
      "text/plain": [
       "  client_idcode obscatalogmasteritem_unitofmeasure  \\\n",
       "0       Q029932                               mmHg   \n",
       "1       F335077                                NaN   \n",
       "2       P303828                               mmHg   \n",
       "3       P553416                               mmHg   \n",
       "4       D652011                                NaN   \n",
       "\n",
       "  obscatalogmasteritem_displayname  observation_valuetext_analysed  \\\n",
       "0                 NEWS_Systolic_BP                           123.0   \n",
       "1                 NEWS_Systolic_BP                           147.0   \n",
       "2                 NEWS_Systolic_BP                            75.0   \n",
       "3                 NEWS_Systolic_BP                           126.0   \n",
       "4                 NEWS_Systolic_BP                           138.0   \n",
       "\n",
       "  observationdocument_createdwhen                    client_dob  \n",
       "0    2020-07-06T05:43:24.117+0100  1927-02-11T00:00:00.000+0000  \n",
       "1    2019-06-27T14:31:55.980+0100  1967-05-01T00:00:00.000+0100  \n",
       "2    2018-08-28T10:39:00.833+0100  1942-06-11T00:00:00.000+0200  \n",
       "3    2018-07-23T15:55:24.370+0100  1945-06-24T00:00:00.000+0200  \n",
       "4    2019-07-11T06:26:15.553+0100  1939-03-21T00:00:00.000+0000  "
      ]
     },
     "execution_count": 16,
     "metadata": {},
     "output_type": "execute_result"
    }
   ],
   "source": [
    "systolic_blood_pressure.head()"
   ]
  },
  {
   "cell_type": "code",
   "execution_count": 17,
   "id": "38b6e39e",
   "metadata": {},
   "outputs": [],
   "source": [
    "systolic_blood_pressure = systolic_blood_pressure[['client_idcode', 'observation_valuetext_analysed', 'observationdocument_createdwhen']]"
   ]
  },
  {
   "cell_type": "code",
   "execution_count": 18,
   "id": "063340af",
   "metadata": {},
   "outputs": [],
   "source": [
    "systolic_blood_pressure['first_rivaroxaban_prescription'] = systolic_blood_pressure['client_idcode'].map(rivaroxaban)"
   ]
  },
  {
   "cell_type": "code",
   "execution_count": 19,
   "id": "13e2a5cb",
   "metadata": {},
   "outputs": [
    {
     "data": {
      "text/html": [
       "<div>\n",
       "<style scoped>\n",
       "    .dataframe tbody tr th:only-of-type {\n",
       "        vertical-align: middle;\n",
       "    }\n",
       "\n",
       "    .dataframe tbody tr th {\n",
       "        vertical-align: top;\n",
       "    }\n",
       "\n",
       "    .dataframe thead th {\n",
       "        text-align: right;\n",
       "    }\n",
       "</style>\n",
       "<table border=\"1\" class=\"dataframe\">\n",
       "  <thead>\n",
       "    <tr style=\"text-align: right;\">\n",
       "      <th></th>\n",
       "      <th>client_idcode</th>\n",
       "      <th>observation_valuetext_analysed</th>\n",
       "      <th>observationdocument_createdwhen</th>\n",
       "      <th>first_rivaroxaban_prescription</th>\n",
       "    </tr>\n",
       "  </thead>\n",
       "  <tbody>\n",
       "    <tr>\n",
       "      <th>0</th>\n",
       "      <td>Q029932</td>\n",
       "      <td>123.0</td>\n",
       "      <td>2020-07-06T05:43:24.117+0100</td>\n",
       "      <td>NaN</td>\n",
       "    </tr>\n",
       "    <tr>\n",
       "      <th>1</th>\n",
       "      <td>F335077</td>\n",
       "      <td>147.0</td>\n",
       "      <td>2019-06-27T14:31:55.980+0100</td>\n",
       "      <td>NaN</td>\n",
       "    </tr>\n",
       "    <tr>\n",
       "      <th>2</th>\n",
       "      <td>P303828</td>\n",
       "      <td>75.0</td>\n",
       "      <td>2018-08-28T10:39:00.833+0100</td>\n",
       "      <td>NaN</td>\n",
       "    </tr>\n",
       "    <tr>\n",
       "      <th>3</th>\n",
       "      <td>P553416</td>\n",
       "      <td>126.0</td>\n",
       "      <td>2018-07-23T15:55:24.370+0100</td>\n",
       "      <td>NaN</td>\n",
       "    </tr>\n",
       "    <tr>\n",
       "      <th>4</th>\n",
       "      <td>D652011</td>\n",
       "      <td>138.0</td>\n",
       "      <td>2019-07-11T06:26:15.553+0100</td>\n",
       "      <td>2012-07-04</td>\n",
       "    </tr>\n",
       "  </tbody>\n",
       "</table>\n",
       "</div>"
      ],
      "text/plain": [
       "  client_idcode  observation_valuetext_analysed  \\\n",
       "0       Q029932                           123.0   \n",
       "1       F335077                           147.0   \n",
       "2       P303828                            75.0   \n",
       "3       P553416                           126.0   \n",
       "4       D652011                           138.0   \n",
       "\n",
       "  observationdocument_createdwhen first_rivaroxaban_prescription  \n",
       "0    2020-07-06T05:43:24.117+0100                            NaN  \n",
       "1    2019-06-27T14:31:55.980+0100                            NaN  \n",
       "2    2018-08-28T10:39:00.833+0100                            NaN  \n",
       "3    2018-07-23T15:55:24.370+0100                            NaN  \n",
       "4    2019-07-11T06:26:15.553+0100                     2012-07-04  "
      ]
     },
     "execution_count": 19,
     "metadata": {},
     "output_type": "execute_result"
    }
   ],
   "source": [
    "systolic_blood_pressure.head()"
   ]
  },
  {
   "cell_type": "code",
   "execution_count": 20,
   "id": "f47556e5",
   "metadata": {},
   "outputs": [],
   "source": [
    "systolic_blood_pressure['observationdocument_createdwhen'] = pd.to_datetime(systolic_blood_pressure['observationdocument_createdwhen'], utc=True).dt.date "
   ]
  },
  {
   "cell_type": "code",
   "execution_count": 21,
   "id": "64738558",
   "metadata": {},
   "outputs": [
    {
     "data": {
      "text/html": [
       "<div>\n",
       "<style scoped>\n",
       "    .dataframe tbody tr th:only-of-type {\n",
       "        vertical-align: middle;\n",
       "    }\n",
       "\n",
       "    .dataframe tbody tr th {\n",
       "        vertical-align: top;\n",
       "    }\n",
       "\n",
       "    .dataframe thead th {\n",
       "        text-align: right;\n",
       "    }\n",
       "</style>\n",
       "<table border=\"1\" class=\"dataframe\">\n",
       "  <thead>\n",
       "    <tr style=\"text-align: right;\">\n",
       "      <th></th>\n",
       "      <th>client_idcode</th>\n",
       "      <th>observation_valuetext_analysed</th>\n",
       "      <th>observationdocument_createdwhen</th>\n",
       "      <th>first_rivaroxaban_prescription</th>\n",
       "    </tr>\n",
       "  </thead>\n",
       "  <tbody>\n",
       "    <tr>\n",
       "      <th>0</th>\n",
       "      <td>Q029932</td>\n",
       "      <td>123.0</td>\n",
       "      <td>2020-07-06</td>\n",
       "      <td>NaN</td>\n",
       "    </tr>\n",
       "    <tr>\n",
       "      <th>1</th>\n",
       "      <td>F335077</td>\n",
       "      <td>147.0</td>\n",
       "      <td>2019-06-27</td>\n",
       "      <td>NaN</td>\n",
       "    </tr>\n",
       "    <tr>\n",
       "      <th>2</th>\n",
       "      <td>P303828</td>\n",
       "      <td>75.0</td>\n",
       "      <td>2018-08-28</td>\n",
       "      <td>NaN</td>\n",
       "    </tr>\n",
       "    <tr>\n",
       "      <th>3</th>\n",
       "      <td>P553416</td>\n",
       "      <td>126.0</td>\n",
       "      <td>2018-07-23</td>\n",
       "      <td>NaN</td>\n",
       "    </tr>\n",
       "    <tr>\n",
       "      <th>4</th>\n",
       "      <td>D652011</td>\n",
       "      <td>138.0</td>\n",
       "      <td>2019-07-11</td>\n",
       "      <td>2012-07-04</td>\n",
       "    </tr>\n",
       "  </tbody>\n",
       "</table>\n",
       "</div>"
      ],
      "text/plain": [
       "  client_idcode  observation_valuetext_analysed  \\\n",
       "0       Q029932                           123.0   \n",
       "1       F335077                           147.0   \n",
       "2       P303828                            75.0   \n",
       "3       P553416                           126.0   \n",
       "4       D652011                           138.0   \n",
       "\n",
       "  observationdocument_createdwhen first_rivaroxaban_prescription  \n",
       "0                      2020-07-06                            NaN  \n",
       "1                      2019-06-27                            NaN  \n",
       "2                      2018-08-28                            NaN  \n",
       "3                      2018-07-23                            NaN  \n",
       "4                      2019-07-11                     2012-07-04  "
      ]
     },
     "execution_count": 21,
     "metadata": {},
     "output_type": "execute_result"
    }
   ],
   "source": [
    "systolic_blood_pressure.head()"
   ]
  },
  {
   "cell_type": "code",
   "execution_count": 22,
   "id": "cde98715",
   "metadata": {},
   "outputs": [],
   "source": [
    "systolic_blood_pressure['difference'] = pd.to_datetime(systolic_blood_pressure['first_rivaroxaban_prescription']) - pd.to_datetime(systolic_blood_pressure['observationdocument_createdwhen'])"
   ]
  },
  {
   "cell_type": "code",
   "execution_count": 23,
   "id": "7470f91b",
   "metadata": {},
   "outputs": [
    {
     "data": {
      "text/html": [
       "<div>\n",
       "<style scoped>\n",
       "    .dataframe tbody tr th:only-of-type {\n",
       "        vertical-align: middle;\n",
       "    }\n",
       "\n",
       "    .dataframe tbody tr th {\n",
       "        vertical-align: top;\n",
       "    }\n",
       "\n",
       "    .dataframe thead th {\n",
       "        text-align: right;\n",
       "    }\n",
       "</style>\n",
       "<table border=\"1\" class=\"dataframe\">\n",
       "  <thead>\n",
       "    <tr style=\"text-align: right;\">\n",
       "      <th></th>\n",
       "      <th>client_idcode</th>\n",
       "      <th>observation_valuetext_analysed</th>\n",
       "      <th>observationdocument_createdwhen</th>\n",
       "      <th>first_rivaroxaban_prescription</th>\n",
       "      <th>difference</th>\n",
       "    </tr>\n",
       "  </thead>\n",
       "  <tbody>\n",
       "    <tr>\n",
       "      <th>0</th>\n",
       "      <td>Q029932</td>\n",
       "      <td>123.0</td>\n",
       "      <td>2020-07-06</td>\n",
       "      <td>NaN</td>\n",
       "      <td>NaT</td>\n",
       "    </tr>\n",
       "    <tr>\n",
       "      <th>1</th>\n",
       "      <td>F335077</td>\n",
       "      <td>147.0</td>\n",
       "      <td>2019-06-27</td>\n",
       "      <td>NaN</td>\n",
       "      <td>NaT</td>\n",
       "    </tr>\n",
       "    <tr>\n",
       "      <th>2</th>\n",
       "      <td>P303828</td>\n",
       "      <td>75.0</td>\n",
       "      <td>2018-08-28</td>\n",
       "      <td>NaN</td>\n",
       "      <td>NaT</td>\n",
       "    </tr>\n",
       "    <tr>\n",
       "      <th>3</th>\n",
       "      <td>P553416</td>\n",
       "      <td>126.0</td>\n",
       "      <td>2018-07-23</td>\n",
       "      <td>NaN</td>\n",
       "      <td>NaT</td>\n",
       "    </tr>\n",
       "    <tr>\n",
       "      <th>4</th>\n",
       "      <td>D652011</td>\n",
       "      <td>138.0</td>\n",
       "      <td>2019-07-11</td>\n",
       "      <td>2012-07-04</td>\n",
       "      <td>-2563 days</td>\n",
       "    </tr>\n",
       "  </tbody>\n",
       "</table>\n",
       "</div>"
      ],
      "text/plain": [
       "  client_idcode  observation_valuetext_analysed  \\\n",
       "0       Q029932                           123.0   \n",
       "1       F335077                           147.0   \n",
       "2       P303828                            75.0   \n",
       "3       P553416                           126.0   \n",
       "4       D652011                           138.0   \n",
       "\n",
       "  observationdocument_createdwhen first_rivaroxaban_prescription difference  \n",
       "0                      2020-07-06                            NaN        NaT  \n",
       "1                      2019-06-27                            NaN        NaT  \n",
       "2                      2018-08-28                            NaN        NaT  \n",
       "3                      2018-07-23                            NaN        NaT  \n",
       "4                      2019-07-11                     2012-07-04 -2563 days  "
      ]
     },
     "execution_count": 23,
     "metadata": {},
     "output_type": "execute_result"
    }
   ],
   "source": [
    "systolic_blood_pressure.head()"
   ]
  },
  {
   "cell_type": "code",
   "execution_count": 24,
   "id": "3a3c3fad",
   "metadata": {},
   "outputs": [],
   "source": [
    "min_time = datetime.timedelta(days=1) \n",
    "max_time = datetime.timedelta(days=183)\n",
    "t1 = systolic_blood_pressure['difference'] >= min_time \n",
    "t2 = systolic_blood_pressure['difference'] <= max_time\n",
    "in_window = t1 & t2 \n",
    "systolic_blood_pressure['in_window'] = in_window"
   ]
  },
  {
   "cell_type": "code",
   "execution_count": 25,
   "id": "2ff4c21f",
   "metadata": {},
   "outputs": [],
   "source": [
    "systolic_blood_pressure = systolic_blood_pressure.loc[systolic_blood_pressure['in_window'] == True]"
   ]
  },
  {
   "cell_type": "code",
   "execution_count": 26,
   "id": "b4f9cc35",
   "metadata": {},
   "outputs": [
    {
     "data": {
      "text/plain": [
       "(27368, 6)"
      ]
     },
     "execution_count": 26,
     "metadata": {},
     "output_type": "execute_result"
    }
   ],
   "source": [
    "systolic_blood_pressure.shape"
   ]
  },
  {
   "cell_type": "code",
   "execution_count": 27,
   "id": "5ba703f5",
   "metadata": {},
   "outputs": [
    {
     "data": {
      "text/html": [
       "<div>\n",
       "<style scoped>\n",
       "    .dataframe tbody tr th:only-of-type {\n",
       "        vertical-align: middle;\n",
       "    }\n",
       "\n",
       "    .dataframe tbody tr th {\n",
       "        vertical-align: top;\n",
       "    }\n",
       "\n",
       "    .dataframe thead th {\n",
       "        text-align: right;\n",
       "    }\n",
       "</style>\n",
       "<table border=\"1\" class=\"dataframe\">\n",
       "  <thead>\n",
       "    <tr style=\"text-align: right;\">\n",
       "      <th></th>\n",
       "      <th>client_idcode</th>\n",
       "      <th>observation_valuetext_analysed</th>\n",
       "      <th>observationdocument_createdwhen</th>\n",
       "      <th>first_rivaroxaban_prescription</th>\n",
       "      <th>difference</th>\n",
       "      <th>in_window</th>\n",
       "    </tr>\n",
       "  </thead>\n",
       "  <tbody>\n",
       "    <tr>\n",
       "      <th>211</th>\n",
       "      <td>M438228</td>\n",
       "      <td>110.0</td>\n",
       "      <td>2018-04-19</td>\n",
       "      <td>2018-04-23</td>\n",
       "      <td>4 days</td>\n",
       "      <td>True</td>\n",
       "    </tr>\n",
       "    <tr>\n",
       "      <th>257</th>\n",
       "      <td>P367142</td>\n",
       "      <td>133.0</td>\n",
       "      <td>2018-07-13</td>\n",
       "      <td>2018-07-16</td>\n",
       "      <td>3 days</td>\n",
       "      <td>True</td>\n",
       "    </tr>\n",
       "    <tr>\n",
       "      <th>325</th>\n",
       "      <td>V332037</td>\n",
       "      <td>140.0</td>\n",
       "      <td>2018-10-20</td>\n",
       "      <td>2018-10-23</td>\n",
       "      <td>3 days</td>\n",
       "      <td>True</td>\n",
       "    </tr>\n",
       "    <tr>\n",
       "      <th>385</th>\n",
       "      <td>D700895</td>\n",
       "      <td>112.0</td>\n",
       "      <td>2019-05-16</td>\n",
       "      <td>2019-06-12</td>\n",
       "      <td>27 days</td>\n",
       "      <td>True</td>\n",
       "    </tr>\n",
       "    <tr>\n",
       "      <th>419</th>\n",
       "      <td>P764466</td>\n",
       "      <td>137.0</td>\n",
       "      <td>2018-10-12</td>\n",
       "      <td>2018-10-24</td>\n",
       "      <td>12 days</td>\n",
       "      <td>True</td>\n",
       "    </tr>\n",
       "  </tbody>\n",
       "</table>\n",
       "</div>"
      ],
      "text/plain": [
       "    client_idcode  observation_valuetext_analysed  \\\n",
       "211       M438228                           110.0   \n",
       "257       P367142                           133.0   \n",
       "325       V332037                           140.0   \n",
       "385       D700895                           112.0   \n",
       "419       P764466                           137.0   \n",
       "\n",
       "    observationdocument_createdwhen first_rivaroxaban_prescription difference  \\\n",
       "211                      2018-04-19                     2018-04-23     4 days   \n",
       "257                      2018-07-13                     2018-07-16     3 days   \n",
       "325                      2018-10-20                     2018-10-23     3 days   \n",
       "385                      2019-05-16                     2019-06-12    27 days   \n",
       "419                      2018-10-12                     2018-10-24    12 days   \n",
       "\n",
       "     in_window  \n",
       "211       True  \n",
       "257       True  \n",
       "325       True  \n",
       "385       True  \n",
       "419       True  "
      ]
     },
     "execution_count": 27,
     "metadata": {},
     "output_type": "execute_result"
    }
   ],
   "source": [
    "systolic_blood_pressure.head()"
   ]
  },
  {
   "cell_type": "code",
   "execution_count": 28,
   "id": "0991b9c0",
   "metadata": {},
   "outputs": [],
   "source": [
    "# Group by 'client_idcode' and keep only the rows with the smallest 'difference'\n",
    "\n",
    "min_values = systolic_blood_pressure.groupby('client_idcode')['difference'].transform('min')\n",
    "\n",
    "# Filter the DataFrame to keep only rows with the minimum 'Value'\n",
    "systolic_blood_pressure = systolic_blood_pressure[systolic_blood_pressure['difference'] == min_values]"
   ]
  },
  {
   "cell_type": "code",
   "execution_count": 29,
   "id": "afedd308",
   "metadata": {},
   "outputs": [
    {
     "data": {
      "text/plain": [
       "(3096, 6)"
      ]
     },
     "execution_count": 29,
     "metadata": {},
     "output_type": "execute_result"
    }
   ],
   "source": [
    "systolic_blood_pressure.shape"
   ]
  },
  {
   "cell_type": "code",
   "execution_count": 30,
   "id": "d18f1c39",
   "metadata": {},
   "outputs": [
    {
     "data": {
      "text/html": [
       "<div>\n",
       "<style scoped>\n",
       "    .dataframe tbody tr th:only-of-type {\n",
       "        vertical-align: middle;\n",
       "    }\n",
       "\n",
       "    .dataframe tbody tr th {\n",
       "        vertical-align: top;\n",
       "    }\n",
       "\n",
       "    .dataframe thead th {\n",
       "        text-align: right;\n",
       "    }\n",
       "</style>\n",
       "<table border=\"1\" class=\"dataframe\">\n",
       "  <thead>\n",
       "    <tr style=\"text-align: right;\">\n",
       "      <th></th>\n",
       "      <th>client_idcode</th>\n",
       "      <th>observation_valuetext_analysed</th>\n",
       "      <th>observationdocument_createdwhen</th>\n",
       "      <th>first_rivaroxaban_prescription</th>\n",
       "      <th>difference</th>\n",
       "      <th>in_window</th>\n",
       "    </tr>\n",
       "  </thead>\n",
       "  <tbody>\n",
       "    <tr>\n",
       "      <th>463</th>\n",
       "      <td>Q028487</td>\n",
       "      <td>168.0</td>\n",
       "      <td>2018-12-12</td>\n",
       "      <td>2018-12-13</td>\n",
       "      <td>1 days</td>\n",
       "      <td>True</td>\n",
       "    </tr>\n",
       "    <tr>\n",
       "      <th>525</th>\n",
       "      <td>M561450</td>\n",
       "      <td>116.0</td>\n",
       "      <td>2018-06-03</td>\n",
       "      <td>2018-06-04</td>\n",
       "      <td>1 days</td>\n",
       "      <td>True</td>\n",
       "    </tr>\n",
       "    <tr>\n",
       "      <th>1770</th>\n",
       "      <td>M270753</td>\n",
       "      <td>128.0</td>\n",
       "      <td>2018-12-15</td>\n",
       "      <td>2018-12-16</td>\n",
       "      <td>1 days</td>\n",
       "      <td>True</td>\n",
       "    </tr>\n",
       "    <tr>\n",
       "      <th>2844</th>\n",
       "      <td>P429250</td>\n",
       "      <td>102.0</td>\n",
       "      <td>2019-07-05</td>\n",
       "      <td>2019-07-07</td>\n",
       "      <td>2 days</td>\n",
       "      <td>True</td>\n",
       "    </tr>\n",
       "    <tr>\n",
       "      <th>3700</th>\n",
       "      <td>M228631</td>\n",
       "      <td>131.0</td>\n",
       "      <td>2019-07-31</td>\n",
       "      <td>2019-08-01</td>\n",
       "      <td>1 days</td>\n",
       "      <td>True</td>\n",
       "    </tr>\n",
       "  </tbody>\n",
       "</table>\n",
       "</div>"
      ],
      "text/plain": [
       "     client_idcode  observation_valuetext_analysed  \\\n",
       "463        Q028487                           168.0   \n",
       "525        M561450                           116.0   \n",
       "1770       M270753                           128.0   \n",
       "2844       P429250                           102.0   \n",
       "3700       M228631                           131.0   \n",
       "\n",
       "     observationdocument_createdwhen first_rivaroxaban_prescription  \\\n",
       "463                       2018-12-12                     2018-12-13   \n",
       "525                       2018-06-03                     2018-06-04   \n",
       "1770                      2018-12-15                     2018-12-16   \n",
       "2844                      2019-07-05                     2019-07-07   \n",
       "3700                      2019-07-31                     2019-08-01   \n",
       "\n",
       "     difference  in_window  \n",
       "463      1 days       True  \n",
       "525      1 days       True  \n",
       "1770     1 days       True  \n",
       "2844     2 days       True  \n",
       "3700     1 days       True  "
      ]
     },
     "execution_count": 30,
     "metadata": {},
     "output_type": "execute_result"
    }
   ],
   "source": [
    "systolic_blood_pressure.head()"
   ]
  },
  {
   "cell_type": "code",
   "execution_count": 31,
   "id": "63051dc5",
   "metadata": {},
   "outputs": [
    {
     "data": {
      "text/plain": [
       "658"
      ]
     },
     "execution_count": 31,
     "metadata": {},
     "output_type": "execute_result"
    }
   ],
   "source": [
    "systolic_blood_pressure['client_idcode'].nunique()"
   ]
  },
  {
   "cell_type": "code",
   "execution_count": 32,
   "id": "e1c8c0b2",
   "metadata": {},
   "outputs": [
    {
     "data": {
      "text/html": [
       "<div>\n",
       "<style scoped>\n",
       "    .dataframe tbody tr th:only-of-type {\n",
       "        vertical-align: middle;\n",
       "    }\n",
       "\n",
       "    .dataframe tbody tr th {\n",
       "        vertical-align: top;\n",
       "    }\n",
       "\n",
       "    .dataframe thead th {\n",
       "        text-align: right;\n",
       "    }\n",
       "</style>\n",
       "<table border=\"1\" class=\"dataframe\">\n",
       "  <thead>\n",
       "    <tr style=\"text-align: right;\">\n",
       "      <th></th>\n",
       "      <th>client_idcode</th>\n",
       "      <th>observation_valuetext_analysed</th>\n",
       "      <th>observationdocument_createdwhen</th>\n",
       "      <th>first_rivaroxaban_prescription</th>\n",
       "      <th>difference</th>\n",
       "      <th>in_window</th>\n",
       "    </tr>\n",
       "  </thead>\n",
       "  <tbody>\n",
       "    <tr>\n",
       "      <th>822604</th>\n",
       "      <td>0197309</td>\n",
       "      <td>180.0</td>\n",
       "      <td>2020-08-26</td>\n",
       "      <td>2020-08-27</td>\n",
       "      <td>1 days</td>\n",
       "      <td>True</td>\n",
       "    </tr>\n",
       "    <tr>\n",
       "      <th>1108811</th>\n",
       "      <td>0197309</td>\n",
       "      <td>108.0</td>\n",
       "      <td>2020-08-26</td>\n",
       "      <td>2020-08-27</td>\n",
       "      <td>1 days</td>\n",
       "      <td>True</td>\n",
       "    </tr>\n",
       "    <tr>\n",
       "      <th>1637574</th>\n",
       "      <td>0197309</td>\n",
       "      <td>102.0</td>\n",
       "      <td>2020-08-26</td>\n",
       "      <td>2020-08-27</td>\n",
       "      <td>1 days</td>\n",
       "      <td>True</td>\n",
       "    </tr>\n",
       "    <tr>\n",
       "      <th>1027712</th>\n",
       "      <td>0197309</td>\n",
       "      <td>122.0</td>\n",
       "      <td>2020-08-26</td>\n",
       "      <td>2020-08-27</td>\n",
       "      <td>1 days</td>\n",
       "      <td>True</td>\n",
       "    </tr>\n",
       "    <tr>\n",
       "      <th>493701</th>\n",
       "      <td>0272062</td>\n",
       "      <td>99.0</td>\n",
       "      <td>2023-03-22</td>\n",
       "      <td>2023-03-23</td>\n",
       "      <td>1 days</td>\n",
       "      <td>True</td>\n",
       "    </tr>\n",
       "  </tbody>\n",
       "</table>\n",
       "</div>"
      ],
      "text/plain": [
       "        client_idcode  observation_valuetext_analysed  \\\n",
       "822604        0197309                           180.0   \n",
       "1108811       0197309                           108.0   \n",
       "1637574       0197309                           102.0   \n",
       "1027712       0197309                           122.0   \n",
       "493701        0272062                            99.0   \n",
       "\n",
       "        observationdocument_createdwhen first_rivaroxaban_prescription  \\\n",
       "822604                       2020-08-26                     2020-08-27   \n",
       "1108811                      2020-08-26                     2020-08-27   \n",
       "1637574                      2020-08-26                     2020-08-27   \n",
       "1027712                      2020-08-26                     2020-08-27   \n",
       "493701                       2023-03-22                     2023-03-23   \n",
       "\n",
       "        difference  in_window  \n",
       "822604      1 days       True  \n",
       "1108811     1 days       True  \n",
       "1637574     1 days       True  \n",
       "1027712     1 days       True  \n",
       "493701      1 days       True  "
      ]
     },
     "execution_count": 32,
     "metadata": {},
     "output_type": "execute_result"
    }
   ],
   "source": [
    "systolic_blood_pressure = systolic_blood_pressure.sort_values(by='client_idcode')\n",
    "systolic_blood_pressure.head()"
   ]
  },
  {
   "cell_type": "code",
   "execution_count": 33,
   "id": "c31f8d20",
   "metadata": {},
   "outputs": [],
   "source": [
    "# Group by 'client_idcode' and calculate the average of 'systolic_blod_pressure value'\n",
    "\n",
    "systolic_blood_pressure_avg = systolic_blood_pressure.groupby('client_idcode')['observation_valuetext_analysed'].mean().reset_index()\n",
    "    "
   ]
  },
  {
   "cell_type": "code",
   "execution_count": 34,
   "id": "1c442d57",
   "metadata": {},
   "outputs": [
    {
     "data": {
      "text/plain": [
       "(658, 2)"
      ]
     },
     "execution_count": 34,
     "metadata": {},
     "output_type": "execute_result"
    }
   ],
   "source": [
    "systolic_blood_pressure_avg.shape"
   ]
  },
  {
   "cell_type": "code",
   "execution_count": 35,
   "id": "e1de7198",
   "metadata": {},
   "outputs": [
    {
     "data": {
      "text/html": [
       "<div>\n",
       "<style scoped>\n",
       "    .dataframe tbody tr th:only-of-type {\n",
       "        vertical-align: middle;\n",
       "    }\n",
       "\n",
       "    .dataframe tbody tr th {\n",
       "        vertical-align: top;\n",
       "    }\n",
       "\n",
       "    .dataframe thead th {\n",
       "        text-align: right;\n",
       "    }\n",
       "</style>\n",
       "<table border=\"1\" class=\"dataframe\">\n",
       "  <thead>\n",
       "    <tr style=\"text-align: right;\">\n",
       "      <th></th>\n",
       "      <th>client_idcode</th>\n",
       "      <th>observation_valuetext_analysed</th>\n",
       "    </tr>\n",
       "  </thead>\n",
       "  <tbody>\n",
       "    <tr>\n",
       "      <th>0</th>\n",
       "      <td>0197309</td>\n",
       "      <td>128.000000</td>\n",
       "    </tr>\n",
       "    <tr>\n",
       "      <th>1</th>\n",
       "      <td>0272062</td>\n",
       "      <td>110.142857</td>\n",
       "    </tr>\n",
       "    <tr>\n",
       "      <th>2</th>\n",
       "      <td>0386909</td>\n",
       "      <td>122.428571</td>\n",
       "    </tr>\n",
       "    <tr>\n",
       "      <th>3</th>\n",
       "      <td>0402415</td>\n",
       "      <td>96.444444</td>\n",
       "    </tr>\n",
       "    <tr>\n",
       "      <th>4</th>\n",
       "      <td>0492288</td>\n",
       "      <td>124.500000</td>\n",
       "    </tr>\n",
       "  </tbody>\n",
       "</table>\n",
       "</div>"
      ],
      "text/plain": [
       "  client_idcode  observation_valuetext_analysed\n",
       "0       0197309                      128.000000\n",
       "1       0272062                      110.142857\n",
       "2       0386909                      122.428571\n",
       "3       0402415                       96.444444\n",
       "4       0492288                      124.500000"
      ]
     },
     "execution_count": 35,
     "metadata": {},
     "output_type": "execute_result"
    }
   ],
   "source": [
    "systolic_blood_pressure_avg.head()"
   ]
  },
  {
   "cell_type": "code",
   "execution_count": 36,
   "id": "7076a205",
   "metadata": {},
   "outputs": [],
   "source": [
    "systolic_blood_pressure_avg = systolic_blood_pressure_avg[systolic_blood_pressure_avg['observation_valuetext_analysed'] > 140]"
   ]
  },
  {
   "cell_type": "code",
   "execution_count": 37,
   "id": "cb537484",
   "metadata": {},
   "outputs": [
    {
     "data": {
      "text/plain": [
       "(149, 2)"
      ]
     },
     "execution_count": 37,
     "metadata": {},
     "output_type": "execute_result"
    }
   ],
   "source": [
    "systolic_blood_pressure_avg.shape"
   ]
  },
  {
   "cell_type": "code",
   "execution_count": 38,
   "id": "6facc4ae",
   "metadata": {},
   "outputs": [
    {
     "data": {
      "text/html": [
       "<div>\n",
       "<style scoped>\n",
       "    .dataframe tbody tr th:only-of-type {\n",
       "        vertical-align: middle;\n",
       "    }\n",
       "\n",
       "    .dataframe tbody tr th {\n",
       "        vertical-align: top;\n",
       "    }\n",
       "\n",
       "    .dataframe thead th {\n",
       "        text-align: right;\n",
       "    }\n",
       "</style>\n",
       "<table border=\"1\" class=\"dataframe\">\n",
       "  <thead>\n",
       "    <tr style=\"text-align: right;\">\n",
       "      <th></th>\n",
       "      <th>client_idcode</th>\n",
       "      <th>observation_valuetext_analysed</th>\n",
       "    </tr>\n",
       "  </thead>\n",
       "  <tbody>\n",
       "    <tr>\n",
       "      <th>18</th>\n",
       "      <td>A695224</td>\n",
       "      <td>141.000000</td>\n",
       "    </tr>\n",
       "    <tr>\n",
       "      <th>22</th>\n",
       "      <td>A804409</td>\n",
       "      <td>150.333333</td>\n",
       "    </tr>\n",
       "    <tr>\n",
       "      <th>23</th>\n",
       "      <td>A880815</td>\n",
       "      <td>156.000000</td>\n",
       "    </tr>\n",
       "    <tr>\n",
       "      <th>29</th>\n",
       "      <td>D083276</td>\n",
       "      <td>147.800000</td>\n",
       "    </tr>\n",
       "    <tr>\n",
       "      <th>32</th>\n",
       "      <td>D091555</td>\n",
       "      <td>145.000000</td>\n",
       "    </tr>\n",
       "  </tbody>\n",
       "</table>\n",
       "</div>"
      ],
      "text/plain": [
       "   client_idcode  observation_valuetext_analysed\n",
       "18       A695224                      141.000000\n",
       "22       A804409                      150.333333\n",
       "23       A880815                      156.000000\n",
       "29       D083276                      147.800000\n",
       "32       D091555                      145.000000"
      ]
     },
     "execution_count": 38,
     "metadata": {},
     "output_type": "execute_result"
    }
   ],
   "source": [
    "systolic_blood_pressure_avg.head()"
   ]
  },
  {
   "cell_type": "code",
   "execution_count": 40,
   "id": "b79f7f1f",
   "metadata": {},
   "outputs": [],
   "source": [
    "sbp = dict(zip(systolic_blood_pressure_avg['client_idcode'], systolic_blood_pressure_avg['observation_valuetext_analysed']))"
   ]
  },
  {
   "cell_type": "code",
   "execution_count": 41,
   "id": "87533993",
   "metadata": {},
   "outputs": [],
   "source": [
    "with open('/projects/ROCKET AF/1A/rivaroxaban dataextraction/data/sbp.pickle', 'wb') as f:\n",
    "    pickle.dump(sbp,f)"
   ]
  },
  {
   "cell_type": "markdown",
   "id": "10618259",
   "metadata": {},
   "source": [
    "# Diastolic blood pressure"
   ]
  },
  {
   "cell_type": "code",
   "execution_count": 42,
   "id": "e162b62c",
   "metadata": {},
   "outputs": [
    {
     "data": {
      "text/plain": [
       "(1749627, 6)"
      ]
     },
     "execution_count": 42,
     "metadata": {},
     "output_type": "execute_result"
    }
   ],
   "source": [
    "diastolic_blood_pressure = blood_pressure.loc[blood_pressure['obscatalogmasteritem_displayname'] == 'NEWS_Diastolic_BP']\n",
    "diastolic_blood_pressure.shape"
   ]
  },
  {
   "cell_type": "code",
   "execution_count": 43,
   "id": "1648ce14",
   "metadata": {},
   "outputs": [
    {
     "data": {
      "text/html": [
       "<div>\n",
       "<style scoped>\n",
       "    .dataframe tbody tr th:only-of-type {\n",
       "        vertical-align: middle;\n",
       "    }\n",
       "\n",
       "    .dataframe tbody tr th {\n",
       "        vertical-align: top;\n",
       "    }\n",
       "\n",
       "    .dataframe thead th {\n",
       "        text-align: right;\n",
       "    }\n",
       "</style>\n",
       "<table border=\"1\" class=\"dataframe\">\n",
       "  <thead>\n",
       "    <tr style=\"text-align: right;\">\n",
       "      <th></th>\n",
       "      <th>client_idcode</th>\n",
       "      <th>obscatalogmasteritem_unitofmeasure</th>\n",
       "      <th>obscatalogmasteritem_displayname</th>\n",
       "      <th>observation_valuetext_analysed</th>\n",
       "      <th>observationdocument_createdwhen</th>\n",
       "      <th>client_dob</th>\n",
       "    </tr>\n",
       "  </thead>\n",
       "  <tbody>\n",
       "    <tr>\n",
       "      <th>1753357</th>\n",
       "      <td>P751564</td>\n",
       "      <td>mmHg</td>\n",
       "      <td>NEWS_Diastolic_BP</td>\n",
       "      <td>46.0</td>\n",
       "      <td>2019-04-25T07:01:58.787+0100</td>\n",
       "      <td>1952-11-23T00:00:00.000+0000</td>\n",
       "    </tr>\n",
       "    <tr>\n",
       "      <th>1753358</th>\n",
       "      <td>M493218</td>\n",
       "      <td>NaN</td>\n",
       "      <td>NEWS_Diastolic_BP</td>\n",
       "      <td>42.0</td>\n",
       "      <td>2019-07-29T16:18:31.693+0100</td>\n",
       "      <td>1930-12-13T00:00:00.000+0000</td>\n",
       "    </tr>\n",
       "    <tr>\n",
       "      <th>1753359</th>\n",
       "      <td>F389914</td>\n",
       "      <td>mmHg</td>\n",
       "      <td>NEWS_Diastolic_BP</td>\n",
       "      <td>84.0</td>\n",
       "      <td>2019-03-28T16:56:14.197+0000</td>\n",
       "      <td>1931-01-13T00:00:00.000+0000</td>\n",
       "    </tr>\n",
       "    <tr>\n",
       "      <th>1753360</th>\n",
       "      <td>F208420</td>\n",
       "      <td>mmHg</td>\n",
       "      <td>NEWS_Diastolic_BP</td>\n",
       "      <td>50.0</td>\n",
       "      <td>2020-02-01T05:56:17.903+0000</td>\n",
       "      <td>1944-06-18T00:00:00.000+0200</td>\n",
       "    </tr>\n",
       "    <tr>\n",
       "      <th>1753361</th>\n",
       "      <td>M513117</td>\n",
       "      <td>mmHg</td>\n",
       "      <td>NEWS_Diastolic_BP</td>\n",
       "      <td>85.0</td>\n",
       "      <td>2019-04-30T12:21:18.870+0100</td>\n",
       "      <td>1959-04-16T00:00:00.000+0000</td>\n",
       "    </tr>\n",
       "  </tbody>\n",
       "</table>\n",
       "</div>"
      ],
      "text/plain": [
       "        client_idcode obscatalogmasteritem_unitofmeasure  \\\n",
       "1753357       P751564                               mmHg   \n",
       "1753358       M493218                                NaN   \n",
       "1753359       F389914                               mmHg   \n",
       "1753360       F208420                               mmHg   \n",
       "1753361       M513117                               mmHg   \n",
       "\n",
       "        obscatalogmasteritem_displayname  observation_valuetext_analysed  \\\n",
       "1753357                NEWS_Diastolic_BP                            46.0   \n",
       "1753358                NEWS_Diastolic_BP                            42.0   \n",
       "1753359                NEWS_Diastolic_BP                            84.0   \n",
       "1753360                NEWS_Diastolic_BP                            50.0   \n",
       "1753361                NEWS_Diastolic_BP                            85.0   \n",
       "\n",
       "        observationdocument_createdwhen                    client_dob  \n",
       "1753357    2019-04-25T07:01:58.787+0100  1952-11-23T00:00:00.000+0000  \n",
       "1753358    2019-07-29T16:18:31.693+0100  1930-12-13T00:00:00.000+0000  \n",
       "1753359    2019-03-28T16:56:14.197+0000  1931-01-13T00:00:00.000+0000  \n",
       "1753360    2020-02-01T05:56:17.903+0000  1944-06-18T00:00:00.000+0200  \n",
       "1753361    2019-04-30T12:21:18.870+0100  1959-04-16T00:00:00.000+0000  "
      ]
     },
     "execution_count": 43,
     "metadata": {},
     "output_type": "execute_result"
    }
   ],
   "source": [
    "diastolic_blood_pressure.head()"
   ]
  },
  {
   "cell_type": "code",
   "execution_count": 44,
   "id": "a919a83d",
   "metadata": {},
   "outputs": [],
   "source": [
    "diastolic_blood_pressure = diastolic_blood_pressure[['client_idcode', 'observation_valuetext_analysed', 'observationdocument_createdwhen']]"
   ]
  },
  {
   "cell_type": "code",
   "execution_count": 45,
   "id": "cf4ac286",
   "metadata": {},
   "outputs": [],
   "source": [
    "diastolic_blood_pressure['first_rivaroxaban_prescription'] = diastolic_blood_pressure['client_idcode'].map(rivaroxaban)"
   ]
  },
  {
   "cell_type": "code",
   "execution_count": 46,
   "id": "a36146ea",
   "metadata": {},
   "outputs": [
    {
     "data": {
      "text/html": [
       "<div>\n",
       "<style scoped>\n",
       "    .dataframe tbody tr th:only-of-type {\n",
       "        vertical-align: middle;\n",
       "    }\n",
       "\n",
       "    .dataframe tbody tr th {\n",
       "        vertical-align: top;\n",
       "    }\n",
       "\n",
       "    .dataframe thead th {\n",
       "        text-align: right;\n",
       "    }\n",
       "</style>\n",
       "<table border=\"1\" class=\"dataframe\">\n",
       "  <thead>\n",
       "    <tr style=\"text-align: right;\">\n",
       "      <th></th>\n",
       "      <th>client_idcode</th>\n",
       "      <th>observation_valuetext_analysed</th>\n",
       "      <th>observationdocument_createdwhen</th>\n",
       "      <th>first_rivaroxaban_prescription</th>\n",
       "    </tr>\n",
       "  </thead>\n",
       "  <tbody>\n",
       "    <tr>\n",
       "      <th>1753357</th>\n",
       "      <td>P751564</td>\n",
       "      <td>46.0</td>\n",
       "      <td>2019-04-25T07:01:58.787+0100</td>\n",
       "      <td>NaN</td>\n",
       "    </tr>\n",
       "    <tr>\n",
       "      <th>1753358</th>\n",
       "      <td>M493218</td>\n",
       "      <td>42.0</td>\n",
       "      <td>2019-07-29T16:18:31.693+0100</td>\n",
       "      <td>NaN</td>\n",
       "    </tr>\n",
       "    <tr>\n",
       "      <th>1753359</th>\n",
       "      <td>F389914</td>\n",
       "      <td>84.0</td>\n",
       "      <td>2019-03-28T16:56:14.197+0000</td>\n",
       "      <td>2011-02-03</td>\n",
       "    </tr>\n",
       "    <tr>\n",
       "      <th>1753360</th>\n",
       "      <td>F208420</td>\n",
       "      <td>50.0</td>\n",
       "      <td>2020-02-01T05:56:17.903+0000</td>\n",
       "      <td>NaN</td>\n",
       "    </tr>\n",
       "    <tr>\n",
       "      <th>1753361</th>\n",
       "      <td>M513117</td>\n",
       "      <td>85.0</td>\n",
       "      <td>2019-04-30T12:21:18.870+0100</td>\n",
       "      <td>NaN</td>\n",
       "    </tr>\n",
       "  </tbody>\n",
       "</table>\n",
       "</div>"
      ],
      "text/plain": [
       "        client_idcode  observation_valuetext_analysed  \\\n",
       "1753357       P751564                            46.0   \n",
       "1753358       M493218                            42.0   \n",
       "1753359       F389914                            84.0   \n",
       "1753360       F208420                            50.0   \n",
       "1753361       M513117                            85.0   \n",
       "\n",
       "        observationdocument_createdwhen first_rivaroxaban_prescription  \n",
       "1753357    2019-04-25T07:01:58.787+0100                            NaN  \n",
       "1753358    2019-07-29T16:18:31.693+0100                            NaN  \n",
       "1753359    2019-03-28T16:56:14.197+0000                     2011-02-03  \n",
       "1753360    2020-02-01T05:56:17.903+0000                            NaN  \n",
       "1753361    2019-04-30T12:21:18.870+0100                            NaN  "
      ]
     },
     "execution_count": 46,
     "metadata": {},
     "output_type": "execute_result"
    }
   ],
   "source": [
    "diastolic_blood_pressure.head()"
   ]
  },
  {
   "cell_type": "code",
   "execution_count": 47,
   "id": "332451fc",
   "metadata": {},
   "outputs": [],
   "source": [
    "diastolic_blood_pressure['observationdocument_createdwhen'] = pd.to_datetime(diastolic_blood_pressure['observationdocument_createdwhen'], utc=True).dt.date "
   ]
  },
  {
   "cell_type": "code",
   "execution_count": 48,
   "id": "725967f4",
   "metadata": {},
   "outputs": [
    {
     "data": {
      "text/html": [
       "<div>\n",
       "<style scoped>\n",
       "    .dataframe tbody tr th:only-of-type {\n",
       "        vertical-align: middle;\n",
       "    }\n",
       "\n",
       "    .dataframe tbody tr th {\n",
       "        vertical-align: top;\n",
       "    }\n",
       "\n",
       "    .dataframe thead th {\n",
       "        text-align: right;\n",
       "    }\n",
       "</style>\n",
       "<table border=\"1\" class=\"dataframe\">\n",
       "  <thead>\n",
       "    <tr style=\"text-align: right;\">\n",
       "      <th></th>\n",
       "      <th>client_idcode</th>\n",
       "      <th>observation_valuetext_analysed</th>\n",
       "      <th>observationdocument_createdwhen</th>\n",
       "      <th>first_rivaroxaban_prescription</th>\n",
       "    </tr>\n",
       "  </thead>\n",
       "  <tbody>\n",
       "    <tr>\n",
       "      <th>1753357</th>\n",
       "      <td>P751564</td>\n",
       "      <td>46.0</td>\n",
       "      <td>2019-04-25</td>\n",
       "      <td>NaN</td>\n",
       "    </tr>\n",
       "    <tr>\n",
       "      <th>1753358</th>\n",
       "      <td>M493218</td>\n",
       "      <td>42.0</td>\n",
       "      <td>2019-07-29</td>\n",
       "      <td>NaN</td>\n",
       "    </tr>\n",
       "    <tr>\n",
       "      <th>1753359</th>\n",
       "      <td>F389914</td>\n",
       "      <td>84.0</td>\n",
       "      <td>2019-03-28</td>\n",
       "      <td>2011-02-03</td>\n",
       "    </tr>\n",
       "    <tr>\n",
       "      <th>1753360</th>\n",
       "      <td>F208420</td>\n",
       "      <td>50.0</td>\n",
       "      <td>2020-02-01</td>\n",
       "      <td>NaN</td>\n",
       "    </tr>\n",
       "    <tr>\n",
       "      <th>1753361</th>\n",
       "      <td>M513117</td>\n",
       "      <td>85.0</td>\n",
       "      <td>2019-04-30</td>\n",
       "      <td>NaN</td>\n",
       "    </tr>\n",
       "  </tbody>\n",
       "</table>\n",
       "</div>"
      ],
      "text/plain": [
       "        client_idcode  observation_valuetext_analysed  \\\n",
       "1753357       P751564                            46.0   \n",
       "1753358       M493218                            42.0   \n",
       "1753359       F389914                            84.0   \n",
       "1753360       F208420                            50.0   \n",
       "1753361       M513117                            85.0   \n",
       "\n",
       "        observationdocument_createdwhen first_rivaroxaban_prescription  \n",
       "1753357                      2019-04-25                            NaN  \n",
       "1753358                      2019-07-29                            NaN  \n",
       "1753359                      2019-03-28                     2011-02-03  \n",
       "1753360                      2020-02-01                            NaN  \n",
       "1753361                      2019-04-30                            NaN  "
      ]
     },
     "execution_count": 48,
     "metadata": {},
     "output_type": "execute_result"
    }
   ],
   "source": [
    "diastolic_blood_pressure.head()"
   ]
  },
  {
   "cell_type": "code",
   "execution_count": 49,
   "id": "7c8f80af",
   "metadata": {},
   "outputs": [],
   "source": [
    "diastolic_blood_pressure['difference'] = pd.to_datetime(diastolic_blood_pressure['first_rivaroxaban_prescription']) - pd.to_datetime(diastolic_blood_pressure['observationdocument_createdwhen'])"
   ]
  },
  {
   "cell_type": "code",
   "execution_count": 50,
   "id": "1db5a9b2",
   "metadata": {},
   "outputs": [
    {
     "data": {
      "text/html": [
       "<div>\n",
       "<style scoped>\n",
       "    .dataframe tbody tr th:only-of-type {\n",
       "        vertical-align: middle;\n",
       "    }\n",
       "\n",
       "    .dataframe tbody tr th {\n",
       "        vertical-align: top;\n",
       "    }\n",
       "\n",
       "    .dataframe thead th {\n",
       "        text-align: right;\n",
       "    }\n",
       "</style>\n",
       "<table border=\"1\" class=\"dataframe\">\n",
       "  <thead>\n",
       "    <tr style=\"text-align: right;\">\n",
       "      <th></th>\n",
       "      <th>client_idcode</th>\n",
       "      <th>observation_valuetext_analysed</th>\n",
       "      <th>observationdocument_createdwhen</th>\n",
       "      <th>first_rivaroxaban_prescription</th>\n",
       "      <th>difference</th>\n",
       "    </tr>\n",
       "  </thead>\n",
       "  <tbody>\n",
       "    <tr>\n",
       "      <th>1753357</th>\n",
       "      <td>P751564</td>\n",
       "      <td>46.0</td>\n",
       "      <td>2019-04-25</td>\n",
       "      <td>NaN</td>\n",
       "      <td>NaT</td>\n",
       "    </tr>\n",
       "    <tr>\n",
       "      <th>1753358</th>\n",
       "      <td>M493218</td>\n",
       "      <td>42.0</td>\n",
       "      <td>2019-07-29</td>\n",
       "      <td>NaN</td>\n",
       "      <td>NaT</td>\n",
       "    </tr>\n",
       "    <tr>\n",
       "      <th>1753359</th>\n",
       "      <td>F389914</td>\n",
       "      <td>84.0</td>\n",
       "      <td>2019-03-28</td>\n",
       "      <td>2011-02-03</td>\n",
       "      <td>-2975 days</td>\n",
       "    </tr>\n",
       "    <tr>\n",
       "      <th>1753360</th>\n",
       "      <td>F208420</td>\n",
       "      <td>50.0</td>\n",
       "      <td>2020-02-01</td>\n",
       "      <td>NaN</td>\n",
       "      <td>NaT</td>\n",
       "    </tr>\n",
       "    <tr>\n",
       "      <th>1753361</th>\n",
       "      <td>M513117</td>\n",
       "      <td>85.0</td>\n",
       "      <td>2019-04-30</td>\n",
       "      <td>NaN</td>\n",
       "      <td>NaT</td>\n",
       "    </tr>\n",
       "  </tbody>\n",
       "</table>\n",
       "</div>"
      ],
      "text/plain": [
       "        client_idcode  observation_valuetext_analysed  \\\n",
       "1753357       P751564                            46.0   \n",
       "1753358       M493218                            42.0   \n",
       "1753359       F389914                            84.0   \n",
       "1753360       F208420                            50.0   \n",
       "1753361       M513117                            85.0   \n",
       "\n",
       "        observationdocument_createdwhen first_rivaroxaban_prescription  \\\n",
       "1753357                      2019-04-25                            NaN   \n",
       "1753358                      2019-07-29                            NaN   \n",
       "1753359                      2019-03-28                     2011-02-03   \n",
       "1753360                      2020-02-01                            NaN   \n",
       "1753361                      2019-04-30                            NaN   \n",
       "\n",
       "        difference  \n",
       "1753357        NaT  \n",
       "1753358        NaT  \n",
       "1753359 -2975 days  \n",
       "1753360        NaT  \n",
       "1753361        NaT  "
      ]
     },
     "execution_count": 50,
     "metadata": {},
     "output_type": "execute_result"
    }
   ],
   "source": [
    "diastolic_blood_pressure.head()"
   ]
  },
  {
   "cell_type": "code",
   "execution_count": 51,
   "id": "bc20367a",
   "metadata": {},
   "outputs": [],
   "source": [
    "min_time = datetime.timedelta(days=1) \n",
    "max_time = datetime.timedelta(days=183)\n",
    "t1 = diastolic_blood_pressure['difference'] >= min_time \n",
    "t2 = diastolic_blood_pressure['difference'] <= max_time\n",
    "in_window = t1 & t2 \n",
    "diastolic_blood_pressure['in_window'] = in_window"
   ]
  },
  {
   "cell_type": "code",
   "execution_count": 52,
   "id": "b2c84134",
   "metadata": {},
   "outputs": [],
   "source": [
    "diastolic_blood_pressure = diastolic_blood_pressure.loc[diastolic_blood_pressure['in_window'] == True]"
   ]
  },
  {
   "cell_type": "code",
   "execution_count": 53,
   "id": "1697cc01",
   "metadata": {},
   "outputs": [
    {
     "data": {
      "text/plain": [
       "(27314, 6)"
      ]
     },
     "execution_count": 53,
     "metadata": {},
     "output_type": "execute_result"
    }
   ],
   "source": [
    "diastolic_blood_pressure.shape"
   ]
  },
  {
   "cell_type": "code",
   "execution_count": 54,
   "id": "e6705474",
   "metadata": {},
   "outputs": [
    {
     "data": {
      "text/html": [
       "<div>\n",
       "<style scoped>\n",
       "    .dataframe tbody tr th:only-of-type {\n",
       "        vertical-align: middle;\n",
       "    }\n",
       "\n",
       "    .dataframe tbody tr th {\n",
       "        vertical-align: top;\n",
       "    }\n",
       "\n",
       "    .dataframe thead th {\n",
       "        text-align: right;\n",
       "    }\n",
       "</style>\n",
       "<table border=\"1\" class=\"dataframe\">\n",
       "  <thead>\n",
       "    <tr style=\"text-align: right;\">\n",
       "      <th></th>\n",
       "      <th>client_idcode</th>\n",
       "      <th>observation_valuetext_analysed</th>\n",
       "      <th>observationdocument_createdwhen</th>\n",
       "      <th>first_rivaroxaban_prescription</th>\n",
       "      <th>difference</th>\n",
       "      <th>in_window</th>\n",
       "    </tr>\n",
       "  </thead>\n",
       "  <tbody>\n",
       "    <tr>\n",
       "      <th>1753478</th>\n",
       "      <td>V395517</td>\n",
       "      <td>50.0</td>\n",
       "      <td>2019-01-20</td>\n",
       "      <td>2019-01-21</td>\n",
       "      <td>1 days</td>\n",
       "      <td>True</td>\n",
       "    </tr>\n",
       "    <tr>\n",
       "      <th>1753485</th>\n",
       "      <td>M670865</td>\n",
       "      <td>81.0</td>\n",
       "      <td>2019-03-03</td>\n",
       "      <td>2019-03-06</td>\n",
       "      <td>3 days</td>\n",
       "      <td>True</td>\n",
       "    </tr>\n",
       "    <tr>\n",
       "      <th>1753521</th>\n",
       "      <td>V993447</td>\n",
       "      <td>67.0</td>\n",
       "      <td>2019-04-01</td>\n",
       "      <td>2019-04-02</td>\n",
       "      <td>1 days</td>\n",
       "      <td>True</td>\n",
       "    </tr>\n",
       "    <tr>\n",
       "      <th>1753562</th>\n",
       "      <td>P782490</td>\n",
       "      <td>64.0</td>\n",
       "      <td>2018-07-04</td>\n",
       "      <td>2018-07-16</td>\n",
       "      <td>12 days</td>\n",
       "      <td>True</td>\n",
       "    </tr>\n",
       "    <tr>\n",
       "      <th>1753578</th>\n",
       "      <td>M234282</td>\n",
       "      <td>51.0</td>\n",
       "      <td>2018-04-29</td>\n",
       "      <td>2018-06-04</td>\n",
       "      <td>36 days</td>\n",
       "      <td>True</td>\n",
       "    </tr>\n",
       "  </tbody>\n",
       "</table>\n",
       "</div>"
      ],
      "text/plain": [
       "        client_idcode  observation_valuetext_analysed  \\\n",
       "1753478       V395517                            50.0   \n",
       "1753485       M670865                            81.0   \n",
       "1753521       V993447                            67.0   \n",
       "1753562       P782490                            64.0   \n",
       "1753578       M234282                            51.0   \n",
       "\n",
       "        observationdocument_createdwhen first_rivaroxaban_prescription  \\\n",
       "1753478                      2019-01-20                     2019-01-21   \n",
       "1753485                      2019-03-03                     2019-03-06   \n",
       "1753521                      2019-04-01                     2019-04-02   \n",
       "1753562                      2018-07-04                     2018-07-16   \n",
       "1753578                      2018-04-29                     2018-06-04   \n",
       "\n",
       "        difference  in_window  \n",
       "1753478     1 days       True  \n",
       "1753485     3 days       True  \n",
       "1753521     1 days       True  \n",
       "1753562    12 days       True  \n",
       "1753578    36 days       True  "
      ]
     },
     "execution_count": 54,
     "metadata": {},
     "output_type": "execute_result"
    }
   ],
   "source": [
    "diastolic_blood_pressure.head()"
   ]
  },
  {
   "cell_type": "code",
   "execution_count": 55,
   "id": "1c112cff",
   "metadata": {},
   "outputs": [],
   "source": [
    "# Group by 'client_idcode' and keep only the rows with the smallest 'difference'\n",
    "\n",
    "min_values = diastolic_blood_pressure.groupby('client_idcode')['difference'].transform('min')\n",
    "\n",
    "# Filter the DataFrame to keep only rows with the minimum 'Value'\n",
    "diastolic_blood_pressure = diastolic_blood_pressure[diastolic_blood_pressure['difference'] == min_values]"
   ]
  },
  {
   "cell_type": "code",
   "execution_count": 56,
   "id": "c51ed494",
   "metadata": {},
   "outputs": [
    {
     "data": {
      "text/plain": [
       "(3094, 6)"
      ]
     },
     "execution_count": 56,
     "metadata": {},
     "output_type": "execute_result"
    }
   ],
   "source": [
    "diastolic_blood_pressure.shape"
   ]
  },
  {
   "cell_type": "code",
   "execution_count": 57,
   "id": "4672f4df",
   "metadata": {},
   "outputs": [
    {
     "data": {
      "text/html": [
       "<div>\n",
       "<style scoped>\n",
       "    .dataframe tbody tr th:only-of-type {\n",
       "        vertical-align: middle;\n",
       "    }\n",
       "\n",
       "    .dataframe tbody tr th {\n",
       "        vertical-align: top;\n",
       "    }\n",
       "\n",
       "    .dataframe thead th {\n",
       "        text-align: right;\n",
       "    }\n",
       "</style>\n",
       "<table border=\"1\" class=\"dataframe\">\n",
       "  <thead>\n",
       "    <tr style=\"text-align: right;\">\n",
       "      <th></th>\n",
       "      <th>client_idcode</th>\n",
       "      <th>observation_valuetext_analysed</th>\n",
       "      <th>observationdocument_createdwhen</th>\n",
       "      <th>first_rivaroxaban_prescription</th>\n",
       "      <th>difference</th>\n",
       "      <th>in_window</th>\n",
       "    </tr>\n",
       "  </thead>\n",
       "  <tbody>\n",
       "    <tr>\n",
       "      <th>1753478</th>\n",
       "      <td>V395517</td>\n",
       "      <td>50.0</td>\n",
       "      <td>2019-01-20</td>\n",
       "      <td>2019-01-21</td>\n",
       "      <td>1 days</td>\n",
       "      <td>True</td>\n",
       "    </tr>\n",
       "    <tr>\n",
       "      <th>1753521</th>\n",
       "      <td>V993447</td>\n",
       "      <td>67.0</td>\n",
       "      <td>2019-04-01</td>\n",
       "      <td>2019-04-02</td>\n",
       "      <td>1 days</td>\n",
       "      <td>True</td>\n",
       "    </tr>\n",
       "    <tr>\n",
       "      <th>1753846</th>\n",
       "      <td>V610321</td>\n",
       "      <td>77.0</td>\n",
       "      <td>2020-07-22</td>\n",
       "      <td>2020-07-23</td>\n",
       "      <td>1 days</td>\n",
       "      <td>True</td>\n",
       "    </tr>\n",
       "    <tr>\n",
       "      <th>1755099</th>\n",
       "      <td>M270753</td>\n",
       "      <td>77.0</td>\n",
       "      <td>2018-12-15</td>\n",
       "      <td>2018-12-16</td>\n",
       "      <td>1 days</td>\n",
       "      <td>True</td>\n",
       "    </tr>\n",
       "    <tr>\n",
       "      <th>1755316</th>\n",
       "      <td>V481126</td>\n",
       "      <td>76.0</td>\n",
       "      <td>2022-01-11</td>\n",
       "      <td>2022-01-12</td>\n",
       "      <td>1 days</td>\n",
       "      <td>True</td>\n",
       "    </tr>\n",
       "  </tbody>\n",
       "</table>\n",
       "</div>"
      ],
      "text/plain": [
       "        client_idcode  observation_valuetext_analysed  \\\n",
       "1753478       V395517                            50.0   \n",
       "1753521       V993447                            67.0   \n",
       "1753846       V610321                            77.0   \n",
       "1755099       M270753                            77.0   \n",
       "1755316       V481126                            76.0   \n",
       "\n",
       "        observationdocument_createdwhen first_rivaroxaban_prescription  \\\n",
       "1753478                      2019-01-20                     2019-01-21   \n",
       "1753521                      2019-04-01                     2019-04-02   \n",
       "1753846                      2020-07-22                     2020-07-23   \n",
       "1755099                      2018-12-15                     2018-12-16   \n",
       "1755316                      2022-01-11                     2022-01-12   \n",
       "\n",
       "        difference  in_window  \n",
       "1753478     1 days       True  \n",
       "1753521     1 days       True  \n",
       "1753846     1 days       True  \n",
       "1755099     1 days       True  \n",
       "1755316     1 days       True  "
      ]
     },
     "execution_count": 57,
     "metadata": {},
     "output_type": "execute_result"
    }
   ],
   "source": [
    "diastolic_blood_pressure.head()"
   ]
  },
  {
   "cell_type": "code",
   "execution_count": 58,
   "id": "e8d2d819",
   "metadata": {},
   "outputs": [
    {
     "data": {
      "text/plain": [
       "658"
      ]
     },
     "execution_count": 58,
     "metadata": {},
     "output_type": "execute_result"
    }
   ],
   "source": [
    "diastolic_blood_pressure['client_idcode'].nunique()"
   ]
  },
  {
   "cell_type": "code",
   "execution_count": 59,
   "id": "3f449d82",
   "metadata": {},
   "outputs": [
    {
     "data": {
      "text/html": [
       "<div>\n",
       "<style scoped>\n",
       "    .dataframe tbody tr th:only-of-type {\n",
       "        vertical-align: middle;\n",
       "    }\n",
       "\n",
       "    .dataframe tbody tr th {\n",
       "        vertical-align: top;\n",
       "    }\n",
       "\n",
       "    .dataframe thead th {\n",
       "        text-align: right;\n",
       "    }\n",
       "</style>\n",
       "<table border=\"1\" class=\"dataframe\">\n",
       "  <thead>\n",
       "    <tr style=\"text-align: right;\">\n",
       "      <th></th>\n",
       "      <th>client_idcode</th>\n",
       "      <th>observation_valuetext_analysed</th>\n",
       "      <th>observationdocument_createdwhen</th>\n",
       "      <th>first_rivaroxaban_prescription</th>\n",
       "      <th>difference</th>\n",
       "      <th>in_window</th>\n",
       "    </tr>\n",
       "  </thead>\n",
       "  <tbody>\n",
       "    <tr>\n",
       "      <th>2328596</th>\n",
       "      <td>0197309</td>\n",
       "      <td>63.0</td>\n",
       "      <td>2020-08-26</td>\n",
       "      <td>2020-08-27</td>\n",
       "      <td>1 days</td>\n",
       "      <td>True</td>\n",
       "    </tr>\n",
       "    <tr>\n",
       "      <th>3065589</th>\n",
       "      <td>0197309</td>\n",
       "      <td>99.0</td>\n",
       "      <td>2020-08-26</td>\n",
       "      <td>2020-08-27</td>\n",
       "      <td>1 days</td>\n",
       "      <td>True</td>\n",
       "    </tr>\n",
       "    <tr>\n",
       "      <th>2720462</th>\n",
       "      <td>0197309</td>\n",
       "      <td>68.0</td>\n",
       "      <td>2020-08-26</td>\n",
       "      <td>2020-08-27</td>\n",
       "      <td>1 days</td>\n",
       "      <td>True</td>\n",
       "    </tr>\n",
       "    <tr>\n",
       "      <th>2829905</th>\n",
       "      <td>0197309</td>\n",
       "      <td>63.0</td>\n",
       "      <td>2020-08-26</td>\n",
       "      <td>2020-08-27</td>\n",
       "      <td>1 days</td>\n",
       "      <td>True</td>\n",
       "    </tr>\n",
       "    <tr>\n",
       "      <th>2245255</th>\n",
       "      <td>0272062</td>\n",
       "      <td>82.0</td>\n",
       "      <td>2023-03-22</td>\n",
       "      <td>2023-03-23</td>\n",
       "      <td>1 days</td>\n",
       "      <td>True</td>\n",
       "    </tr>\n",
       "  </tbody>\n",
       "</table>\n",
       "</div>"
      ],
      "text/plain": [
       "        client_idcode  observation_valuetext_analysed  \\\n",
       "2328596       0197309                            63.0   \n",
       "3065589       0197309                            99.0   \n",
       "2720462       0197309                            68.0   \n",
       "2829905       0197309                            63.0   \n",
       "2245255       0272062                            82.0   \n",
       "\n",
       "        observationdocument_createdwhen first_rivaroxaban_prescription  \\\n",
       "2328596                      2020-08-26                     2020-08-27   \n",
       "3065589                      2020-08-26                     2020-08-27   \n",
       "2720462                      2020-08-26                     2020-08-27   \n",
       "2829905                      2020-08-26                     2020-08-27   \n",
       "2245255                      2023-03-22                     2023-03-23   \n",
       "\n",
       "        difference  in_window  \n",
       "2328596     1 days       True  \n",
       "3065589     1 days       True  \n",
       "2720462     1 days       True  \n",
       "2829905     1 days       True  \n",
       "2245255     1 days       True  "
      ]
     },
     "execution_count": 59,
     "metadata": {},
     "output_type": "execute_result"
    }
   ],
   "source": [
    "diastolic_blood_pressure = diastolic_blood_pressure.sort_values(by='client_idcode')\n",
    "diastolic_blood_pressure.head()"
   ]
  },
  {
   "cell_type": "code",
   "execution_count": 60,
   "id": "afe52e26",
   "metadata": {},
   "outputs": [],
   "source": [
    "# Group by 'client_idcode' and calculate the average of 'systolic_blod_pressure value'\n",
    "\n",
    "diastolic_blood_pressure_avg = diastolic_blood_pressure.groupby('client_idcode')['observation_valuetext_analysed'].mean().reset_index()\n",
    "    "
   ]
  },
  {
   "cell_type": "code",
   "execution_count": 61,
   "id": "b2b1c8b6",
   "metadata": {},
   "outputs": [
    {
     "data": {
      "text/plain": [
       "(658, 2)"
      ]
     },
     "execution_count": 61,
     "metadata": {},
     "output_type": "execute_result"
    }
   ],
   "source": [
    "diastolic_blood_pressure_avg.shape"
   ]
  },
  {
   "cell_type": "code",
   "execution_count": 62,
   "id": "c36b7256",
   "metadata": {},
   "outputs": [
    {
     "data": {
      "text/html": [
       "<div>\n",
       "<style scoped>\n",
       "    .dataframe tbody tr th:only-of-type {\n",
       "        vertical-align: middle;\n",
       "    }\n",
       "\n",
       "    .dataframe tbody tr th {\n",
       "        vertical-align: top;\n",
       "    }\n",
       "\n",
       "    .dataframe thead th {\n",
       "        text-align: right;\n",
       "    }\n",
       "</style>\n",
       "<table border=\"1\" class=\"dataframe\">\n",
       "  <thead>\n",
       "    <tr style=\"text-align: right;\">\n",
       "      <th></th>\n",
       "      <th>client_idcode</th>\n",
       "      <th>observation_valuetext_analysed</th>\n",
       "    </tr>\n",
       "  </thead>\n",
       "  <tbody>\n",
       "    <tr>\n",
       "      <th>0</th>\n",
       "      <td>0197309</td>\n",
       "      <td>73.250000</td>\n",
       "    </tr>\n",
       "    <tr>\n",
       "      <th>1</th>\n",
       "      <td>0272062</td>\n",
       "      <td>73.428571</td>\n",
       "    </tr>\n",
       "    <tr>\n",
       "      <th>2</th>\n",
       "      <td>0386909</td>\n",
       "      <td>58.428571</td>\n",
       "    </tr>\n",
       "    <tr>\n",
       "      <th>3</th>\n",
       "      <td>0402415</td>\n",
       "      <td>55.333333</td>\n",
       "    </tr>\n",
       "    <tr>\n",
       "      <th>4</th>\n",
       "      <td>0492288</td>\n",
       "      <td>69.500000</td>\n",
       "    </tr>\n",
       "  </tbody>\n",
       "</table>\n",
       "</div>"
      ],
      "text/plain": [
       "  client_idcode  observation_valuetext_analysed\n",
       "0       0197309                       73.250000\n",
       "1       0272062                       73.428571\n",
       "2       0386909                       58.428571\n",
       "3       0402415                       55.333333\n",
       "4       0492288                       69.500000"
      ]
     },
     "execution_count": 62,
     "metadata": {},
     "output_type": "execute_result"
    }
   ],
   "source": [
    "diastolic_blood_pressure_avg.head()"
   ]
  },
  {
   "cell_type": "code",
   "execution_count": 63,
   "id": "e3b1f490",
   "metadata": {},
   "outputs": [],
   "source": [
    "diastolic_blood_pressure_avg = diastolic_blood_pressure_avg[diastolic_blood_pressure_avg['observation_valuetext_analysed'] > 90]"
   ]
  },
  {
   "cell_type": "code",
   "execution_count": 64,
   "id": "a19e0c3c",
   "metadata": {},
   "outputs": [
    {
     "data": {
      "text/plain": [
       "(42, 2)"
      ]
     },
     "execution_count": 64,
     "metadata": {},
     "output_type": "execute_result"
    }
   ],
   "source": [
    "diastolic_blood_pressure_avg.shape"
   ]
  },
  {
   "cell_type": "code",
   "execution_count": 65,
   "id": "0476f357",
   "metadata": {},
   "outputs": [
    {
     "data": {
      "text/html": [
       "<div>\n",
       "<style scoped>\n",
       "    .dataframe tbody tr th:only-of-type {\n",
       "        vertical-align: middle;\n",
       "    }\n",
       "\n",
       "    .dataframe tbody tr th {\n",
       "        vertical-align: top;\n",
       "    }\n",
       "\n",
       "    .dataframe thead th {\n",
       "        text-align: right;\n",
       "    }\n",
       "</style>\n",
       "<table border=\"1\" class=\"dataframe\">\n",
       "  <thead>\n",
       "    <tr style=\"text-align: right;\">\n",
       "      <th></th>\n",
       "      <th>client_idcode</th>\n",
       "      <th>observation_valuetext_analysed</th>\n",
       "    </tr>\n",
       "  </thead>\n",
       "  <tbody>\n",
       "    <tr>\n",
       "      <th>20</th>\n",
       "      <td>A752193</td>\n",
       "      <td>108.000000</td>\n",
       "    </tr>\n",
       "    <tr>\n",
       "      <th>23</th>\n",
       "      <td>A880815</td>\n",
       "      <td>94.333333</td>\n",
       "    </tr>\n",
       "    <tr>\n",
       "      <th>32</th>\n",
       "      <td>D091555</td>\n",
       "      <td>90.666667</td>\n",
       "    </tr>\n",
       "    <tr>\n",
       "      <th>38</th>\n",
       "      <td>D256357</td>\n",
       "      <td>92.000000</td>\n",
       "    </tr>\n",
       "    <tr>\n",
       "      <th>49</th>\n",
       "      <td>D448903</td>\n",
       "      <td>98.000000</td>\n",
       "    </tr>\n",
       "  </tbody>\n",
       "</table>\n",
       "</div>"
      ],
      "text/plain": [
       "   client_idcode  observation_valuetext_analysed\n",
       "20       A752193                      108.000000\n",
       "23       A880815                       94.333333\n",
       "32       D091555                       90.666667\n",
       "38       D256357                       92.000000\n",
       "49       D448903                       98.000000"
      ]
     },
     "execution_count": 65,
     "metadata": {},
     "output_type": "execute_result"
    }
   ],
   "source": [
    "diastolic_blood_pressure_avg.head()"
   ]
  },
  {
   "cell_type": "code",
   "execution_count": 67,
   "id": "2b1e716d",
   "metadata": {},
   "outputs": [],
   "source": [
    "dbp = dict(zip(diastolic_blood_pressure_avg['client_idcode'], diastolic_blood_pressure_avg['observation_valuetext_analysed']))"
   ]
  },
  {
   "cell_type": "code",
   "execution_count": 68,
   "id": "3497f86b",
   "metadata": {},
   "outputs": [],
   "source": [
    "with open('/projects/ROCKET AF/1A/rivaroxaban dataextraction/data/dbp.pickle', 'wb') as f:\n",
    "    pickle.dump(dbp,f)"
   ]
  },
  {
   "cell_type": "markdown",
   "id": "d3ee99e9",
   "metadata": {},
   "source": [
    "----------"
   ]
  },
  {
   "cell_type": "markdown",
   "id": "ee74a4d8",
   "metadata": {},
   "source": [
    "# AF patients with high blood pressure"
   ]
  },
  {
   "cell_type": "code",
   "execution_count": 69,
   "id": "4b82f21b",
   "metadata": {},
   "outputs": [],
   "source": [
    "def graph_from_onto(onto):\n",
    "    G = nx.DiGraph()\n",
    "    cl_edges = []\n",
    "    for s, ts in onto.items():\n",
    "        for t in ts:\n",
    "            cl_edges.append((s.replace('S-', ''), t.replace('S-', '')))\n",
    "    G.add_edges_from(cl_edges)\n",
    "    return G\n",
    "\n",
    "def load_onto(o):\n",
    "    with open(f'/projects/data/GS/{o}', 'rb') as f:\n",
    "        onto = pickle.load(f)\n",
    "    G = graph_from_onto(onto)\n",
    "    return G\n",
    "\n",
    "def expand_codes(onto, codes):\n",
    "    expanded = {}\n",
    "    for name, top_codes in codes.items():\n",
    "        expanded[name] = set()\n",
    "        for c in top_codes:\n",
    "            expanded[name].add(c)\n",
    "            if c in onto:\n",
    "                expanded[name].update(nx.ancestors(onto, c))\n",
    "            else:\n",
    "                print(\"NOT FOUND:\", c, name)\n",
    "        print(name, len(top_codes), len(expanded[name]))\n",
    "    return expanded"
   ]
  },
  {
   "cell_type": "code",
   "execution_count": 72,
   "id": "f7b9ee90",
   "metadata": {},
   "outputs": [],
   "source": [
    "onto = load_onto('isa_rela_ch2pt_202009.pickle')"
   ]
  },
  {
   "cell_type": "code",
   "execution_count": 73,
   "id": "d0dc6fbe",
   "metadata": {},
   "outputs": [
    {
     "name": "stdout",
     "output_type": "stream",
     "text": [
      "hypertension 1 137\n"
     ]
    }
   ],
   "source": [
    "db = {'hypertension' : ['38341003']}\n",
    "db = expand_codes(onto,db)"
   ]
  },
  {
   "cell_type": "code",
   "execution_count": 74,
   "id": "8927d7f4",
   "metadata": {},
   "outputs": [
    {
     "name": "stdout",
     "output_type": "stream",
     "text": [
      "CPU times: user 1min 54s, sys: 16.6 s, total: 2min 11s\n",
      "Wall time: 2min 17s\n"
     ]
    }
   ],
   "source": [
    "%%time \n",
    "with open('/projects/data/GS/pt2cui_pos_dates.pickle', 'rb') as f:\n",
    "    pt2cui_pos_dates = pickle.load(f)"
   ]
  },
  {
   "cell_type": "code",
   "execution_count": 75,
   "id": "db34cab6",
   "metadata": {},
   "outputs": [],
   "source": [
    "def dates_ex(pt_data, codes):\n",
    "    dates = None\n",
    "    for x in codes:\n",
    "        if x in pt_data and len(pt_data[x])>=2:\n",
    "            if dates == None:\n",
    "                dates = pt_data[x]\n",
    "            else: \n",
    "                dates = dates.union(pt_data[x])\n",
    "    return dates\n",
    "\n",
    "rows = []\n",
    "for pt in ids:\n",
    "    pt_data = pt2cui_pos_dates.get(pt, {})\n",
    "    row = {'client_idcode': pt, 'first_mention_rivaroxaban': rivaroxaban[pt]} \n",
    "    for concept, codes in db.items():\n",
    "        dates = dates_ex(pt_data, codes)\n",
    "        if dates == None:\n",
    "            row[f\"{concept}_date\"] = np.nan\n",
    "        else:\n",
    "            row[f\"{concept}_date\"] = dates\n",
    "    rows.append(row)"
   ]
  },
  {
   "cell_type": "code",
   "execution_count": 76,
   "id": "6918674e",
   "metadata": {},
   "outputs": [
    {
     "data": {
      "text/plain": [
       "(2585, 3)"
      ]
     },
     "execution_count": 76,
     "metadata": {},
     "output_type": "execute_result"
    }
   ],
   "source": [
    "df = pd.DataFrame(rows)\n",
    "df.shape"
   ]
  },
  {
   "cell_type": "code",
   "execution_count": 77,
   "id": "f3ce8c27",
   "metadata": {},
   "outputs": [
    {
     "data": {
      "text/html": [
       "<div>\n",
       "<style scoped>\n",
       "    .dataframe tbody tr th:only-of-type {\n",
       "        vertical-align: middle;\n",
       "    }\n",
       "\n",
       "    .dataframe tbody tr th {\n",
       "        vertical-align: top;\n",
       "    }\n",
       "\n",
       "    .dataframe thead th {\n",
       "        text-align: right;\n",
       "    }\n",
       "</style>\n",
       "<table border=\"1\" class=\"dataframe\">\n",
       "  <thead>\n",
       "    <tr style=\"text-align: right;\">\n",
       "      <th></th>\n",
       "      <th>client_idcode</th>\n",
       "      <th>first_mention_rivaroxaban</th>\n",
       "      <th>hypertension_date</th>\n",
       "    </tr>\n",
       "  </thead>\n",
       "  <tbody>\n",
       "    <tr>\n",
       "      <th>0</th>\n",
       "      <td>M485292</td>\n",
       "      <td>2018-09-14</td>\n",
       "      <td>{2017-10-21 13:54:00, 2017-09-20 14:20:09.8400...</td>\n",
       "    </tr>\n",
       "    <tr>\n",
       "      <th>1</th>\n",
       "      <td>V354424</td>\n",
       "      <td>2021-12-08</td>\n",
       "      <td>NaN</td>\n",
       "    </tr>\n",
       "    <tr>\n",
       "      <th>2</th>\n",
       "      <td>M743291</td>\n",
       "      <td>2021-04-12</td>\n",
       "      <td>{2018-06-11 15:20:02.573000, 2018-05-09 15:10:...</td>\n",
       "    </tr>\n",
       "    <tr>\n",
       "      <th>3</th>\n",
       "      <td>M941279</td>\n",
       "      <td>2014-08-08</td>\n",
       "      <td>{2014-08-08 11:55:00, 2017-11-07 12:50:49.7100...</td>\n",
       "    </tr>\n",
       "    <tr>\n",
       "      <th>4</th>\n",
       "      <td>A800979</td>\n",
       "      <td>2010-03-24</td>\n",
       "      <td>{2014-02-03 15:34:00, 2012-10-08 16:02:00, 201...</td>\n",
       "    </tr>\n",
       "  </tbody>\n",
       "</table>\n",
       "</div>"
      ],
      "text/plain": [
       "  client_idcode first_mention_rivaroxaban  \\\n",
       "0       M485292                2018-09-14   \n",
       "1       V354424                2021-12-08   \n",
       "2       M743291                2021-04-12   \n",
       "3       M941279                2014-08-08   \n",
       "4       A800979                2010-03-24   \n",
       "\n",
       "                                   hypertension_date  \n",
       "0  {2017-10-21 13:54:00, 2017-09-20 14:20:09.8400...  \n",
       "1                                                NaN  \n",
       "2  {2018-06-11 15:20:02.573000, 2018-05-09 15:10:...  \n",
       "3  {2014-08-08 11:55:00, 2017-11-07 12:50:49.7100...  \n",
       "4  {2014-02-03 15:34:00, 2012-10-08 16:02:00, 201...  "
      ]
     },
     "execution_count": 77,
     "metadata": {},
     "output_type": "execute_result"
    }
   ],
   "source": [
    "df.head()"
   ]
  },
  {
   "cell_type": "code",
   "execution_count": 79,
   "id": "93b34a3b",
   "metadata": {},
   "outputs": [],
   "source": [
    "df.dropna(subset=['hypertension_date'], how='all', inplace = True)"
   ]
  },
  {
   "cell_type": "code",
   "execution_count": 80,
   "id": "b0f4ad08",
   "metadata": {},
   "outputs": [
    {
     "data": {
      "text/html": [
       "<div>\n",
       "<style scoped>\n",
       "    .dataframe tbody tr th:only-of-type {\n",
       "        vertical-align: middle;\n",
       "    }\n",
       "\n",
       "    .dataframe tbody tr th {\n",
       "        vertical-align: top;\n",
       "    }\n",
       "\n",
       "    .dataframe thead th {\n",
       "        text-align: right;\n",
       "    }\n",
       "</style>\n",
       "<table border=\"1\" class=\"dataframe\">\n",
       "  <thead>\n",
       "    <tr style=\"text-align: right;\">\n",
       "      <th></th>\n",
       "      <th>client_idcode</th>\n",
       "      <th>first_mention_rivaroxaban</th>\n",
       "      <th>hypertension_date</th>\n",
       "    </tr>\n",
       "  </thead>\n",
       "  <tbody>\n",
       "    <tr>\n",
       "      <th>0</th>\n",
       "      <td>M485292</td>\n",
       "      <td>2018-09-14</td>\n",
       "      <td>{2017-10-21 13:54:00, 2017-09-20 14:20:09.8400...</td>\n",
       "    </tr>\n",
       "    <tr>\n",
       "      <th>2</th>\n",
       "      <td>M743291</td>\n",
       "      <td>2021-04-12</td>\n",
       "      <td>{2018-06-11 15:20:02.573000, 2018-05-09 15:10:...</td>\n",
       "    </tr>\n",
       "    <tr>\n",
       "      <th>3</th>\n",
       "      <td>M941279</td>\n",
       "      <td>2014-08-08</td>\n",
       "      <td>{2014-08-08 11:55:00, 2017-11-07 12:50:49.7100...</td>\n",
       "    </tr>\n",
       "    <tr>\n",
       "      <th>4</th>\n",
       "      <td>A800979</td>\n",
       "      <td>2010-03-24</td>\n",
       "      <td>{2014-02-03 15:34:00, 2012-10-08 16:02:00, 201...</td>\n",
       "    </tr>\n",
       "    <tr>\n",
       "      <th>6</th>\n",
       "      <td>V337542</td>\n",
       "      <td>2014-05-02</td>\n",
       "      <td>{2014-05-06 09:05:00, 2014-05-03 07:29:00, 201...</td>\n",
       "    </tr>\n",
       "  </tbody>\n",
       "</table>\n",
       "</div>"
      ],
      "text/plain": [
       "  client_idcode first_mention_rivaroxaban  \\\n",
       "0       M485292                2018-09-14   \n",
       "2       M743291                2021-04-12   \n",
       "3       M941279                2014-08-08   \n",
       "4       A800979                2010-03-24   \n",
       "6       V337542                2014-05-02   \n",
       "\n",
       "                                   hypertension_date  \n",
       "0  {2017-10-21 13:54:00, 2017-09-20 14:20:09.8400...  \n",
       "2  {2018-06-11 15:20:02.573000, 2018-05-09 15:10:...  \n",
       "3  {2014-08-08 11:55:00, 2017-11-07 12:50:49.7100...  \n",
       "4  {2014-02-03 15:34:00, 2012-10-08 16:02:00, 201...  \n",
       "6  {2014-05-06 09:05:00, 2014-05-03 07:29:00, 201...  "
      ]
     },
     "execution_count": 80,
     "metadata": {},
     "output_type": "execute_result"
    }
   ],
   "source": [
    "df.head()"
   ]
  },
  {
   "cell_type": "code",
   "execution_count": 81,
   "id": "394ebea6",
   "metadata": {},
   "outputs": [
    {
     "name": "stdout",
     "output_type": "stream",
     "text": [
      "CPU times: user 20 ms, sys: 8 ms, total: 28 ms\n",
      "Wall time: 27.2 ms\n"
     ]
    },
    {
     "data": {
      "text/plain": [
       "(34583, 3)"
      ]
     },
     "execution_count": 81,
     "metadata": {},
     "output_type": "execute_result"
    }
   ],
   "source": [
    "%%time\n",
    "df = df[['client_idcode']].join((df[i].explode() for i in df.iloc[:,1:]))\n",
    "df.shape"
   ]
  },
  {
   "cell_type": "code",
   "execution_count": 82,
   "id": "af2e8cc2",
   "metadata": {},
   "outputs": [
    {
     "data": {
      "text/html": [
       "<div>\n",
       "<style scoped>\n",
       "    .dataframe tbody tr th:only-of-type {\n",
       "        vertical-align: middle;\n",
       "    }\n",
       "\n",
       "    .dataframe tbody tr th {\n",
       "        vertical-align: top;\n",
       "    }\n",
       "\n",
       "    .dataframe thead th {\n",
       "        text-align: right;\n",
       "    }\n",
       "</style>\n",
       "<table border=\"1\" class=\"dataframe\">\n",
       "  <thead>\n",
       "    <tr style=\"text-align: right;\">\n",
       "      <th></th>\n",
       "      <th>client_idcode</th>\n",
       "      <th>first_mention_rivaroxaban</th>\n",
       "      <th>hypertension_date</th>\n",
       "    </tr>\n",
       "  </thead>\n",
       "  <tbody>\n",
       "    <tr>\n",
       "      <th>0</th>\n",
       "      <td>M485292</td>\n",
       "      <td>2018-09-14</td>\n",
       "      <td>2017-10-21 13:54:00.000</td>\n",
       "    </tr>\n",
       "    <tr>\n",
       "      <th>0</th>\n",
       "      <td>M485292</td>\n",
       "      <td>2018-09-14</td>\n",
       "      <td>2017-09-20 14:20:09.840</td>\n",
       "    </tr>\n",
       "    <tr>\n",
       "      <th>0</th>\n",
       "      <td>M485292</td>\n",
       "      <td>2018-09-14</td>\n",
       "      <td>2017-10-22 03:12:37.690</td>\n",
       "    </tr>\n",
       "    <tr>\n",
       "      <th>0</th>\n",
       "      <td>M485292</td>\n",
       "      <td>2018-09-14</td>\n",
       "      <td>2018-02-27 12:49:08.160</td>\n",
       "    </tr>\n",
       "    <tr>\n",
       "      <th>0</th>\n",
       "      <td>M485292</td>\n",
       "      <td>2018-09-14</td>\n",
       "      <td>2017-12-21 01:56:08.570</td>\n",
       "    </tr>\n",
       "  </tbody>\n",
       "</table>\n",
       "</div>"
      ],
      "text/plain": [
       "  client_idcode first_mention_rivaroxaban       hypertension_date\n",
       "0       M485292                2018-09-14 2017-10-21 13:54:00.000\n",
       "0       M485292                2018-09-14 2017-09-20 14:20:09.840\n",
       "0       M485292                2018-09-14 2017-10-22 03:12:37.690\n",
       "0       M485292                2018-09-14 2018-02-27 12:49:08.160\n",
       "0       M485292                2018-09-14 2017-12-21 01:56:08.570"
      ]
     },
     "execution_count": 82,
     "metadata": {},
     "output_type": "execute_result"
    }
   ],
   "source": [
    "df.head()"
   ]
  },
  {
   "cell_type": "code",
   "execution_count": 83,
   "id": "5b025212",
   "metadata": {},
   "outputs": [],
   "source": [
    "for k in db.keys():\n",
    "    df[f'{k}_date'] = pd.to_datetime(df[f'{k}_date']).dt.date"
   ]
  },
  {
   "cell_type": "code",
   "execution_count": 84,
   "id": "ac81aa22",
   "metadata": {},
   "outputs": [
    {
     "data": {
      "text/html": [
       "<div>\n",
       "<style scoped>\n",
       "    .dataframe tbody tr th:only-of-type {\n",
       "        vertical-align: middle;\n",
       "    }\n",
       "\n",
       "    .dataframe tbody tr th {\n",
       "        vertical-align: top;\n",
       "    }\n",
       "\n",
       "    .dataframe thead th {\n",
       "        text-align: right;\n",
       "    }\n",
       "</style>\n",
       "<table border=\"1\" class=\"dataframe\">\n",
       "  <thead>\n",
       "    <tr style=\"text-align: right;\">\n",
       "      <th></th>\n",
       "      <th>client_idcode</th>\n",
       "      <th>first_mention_rivaroxaban</th>\n",
       "      <th>hypertension_date</th>\n",
       "    </tr>\n",
       "  </thead>\n",
       "  <tbody>\n",
       "    <tr>\n",
       "      <th>0</th>\n",
       "      <td>M485292</td>\n",
       "      <td>2018-09-14</td>\n",
       "      <td>2017-10-21</td>\n",
       "    </tr>\n",
       "    <tr>\n",
       "      <th>0</th>\n",
       "      <td>M485292</td>\n",
       "      <td>2018-09-14</td>\n",
       "      <td>2017-09-20</td>\n",
       "    </tr>\n",
       "    <tr>\n",
       "      <th>0</th>\n",
       "      <td>M485292</td>\n",
       "      <td>2018-09-14</td>\n",
       "      <td>2017-10-22</td>\n",
       "    </tr>\n",
       "    <tr>\n",
       "      <th>0</th>\n",
       "      <td>M485292</td>\n",
       "      <td>2018-09-14</td>\n",
       "      <td>2018-02-27</td>\n",
       "    </tr>\n",
       "    <tr>\n",
       "      <th>0</th>\n",
       "      <td>M485292</td>\n",
       "      <td>2018-09-14</td>\n",
       "      <td>2017-12-21</td>\n",
       "    </tr>\n",
       "  </tbody>\n",
       "</table>\n",
       "</div>"
      ],
      "text/plain": [
       "  client_idcode first_mention_rivaroxaban hypertension_date\n",
       "0       M485292                2018-09-14        2017-10-21\n",
       "0       M485292                2018-09-14        2017-09-20\n",
       "0       M485292                2018-09-14        2017-10-22\n",
       "0       M485292                2018-09-14        2018-02-27\n",
       "0       M485292                2018-09-14        2017-12-21"
      ]
     },
     "execution_count": 84,
     "metadata": {},
     "output_type": "execute_result"
    }
   ],
   "source": [
    "df.head()"
   ]
  },
  {
   "cell_type": "code",
   "execution_count": 85,
   "id": "803c3900",
   "metadata": {},
   "outputs": [],
   "source": [
    "for k in db.keys():\n",
    "    df[f'{k}_delta'] = pd.to_datetime(df['first_mention_rivaroxaban']) - pd.to_datetime(df[f'{k}_date'])"
   ]
  },
  {
   "cell_type": "code",
   "execution_count": 86,
   "id": "b74ec05e",
   "metadata": {},
   "outputs": [
    {
     "data": {
      "text/html": [
       "<div>\n",
       "<style scoped>\n",
       "    .dataframe tbody tr th:only-of-type {\n",
       "        vertical-align: middle;\n",
       "    }\n",
       "\n",
       "    .dataframe tbody tr th {\n",
       "        vertical-align: top;\n",
       "    }\n",
       "\n",
       "    .dataframe thead th {\n",
       "        text-align: right;\n",
       "    }\n",
       "</style>\n",
       "<table border=\"1\" class=\"dataframe\">\n",
       "  <thead>\n",
       "    <tr style=\"text-align: right;\">\n",
       "      <th></th>\n",
       "      <th>client_idcode</th>\n",
       "      <th>first_mention_rivaroxaban</th>\n",
       "      <th>hypertension_date</th>\n",
       "      <th>hypertension_delta</th>\n",
       "    </tr>\n",
       "  </thead>\n",
       "  <tbody>\n",
       "    <tr>\n",
       "      <th>0</th>\n",
       "      <td>M485292</td>\n",
       "      <td>2018-09-14</td>\n",
       "      <td>2017-10-21</td>\n",
       "      <td>328 days</td>\n",
       "    </tr>\n",
       "    <tr>\n",
       "      <th>0</th>\n",
       "      <td>M485292</td>\n",
       "      <td>2018-09-14</td>\n",
       "      <td>2017-09-20</td>\n",
       "      <td>359 days</td>\n",
       "    </tr>\n",
       "    <tr>\n",
       "      <th>0</th>\n",
       "      <td>M485292</td>\n",
       "      <td>2018-09-14</td>\n",
       "      <td>2017-10-22</td>\n",
       "      <td>327 days</td>\n",
       "    </tr>\n",
       "    <tr>\n",
       "      <th>0</th>\n",
       "      <td>M485292</td>\n",
       "      <td>2018-09-14</td>\n",
       "      <td>2018-02-27</td>\n",
       "      <td>199 days</td>\n",
       "    </tr>\n",
       "    <tr>\n",
       "      <th>0</th>\n",
       "      <td>M485292</td>\n",
       "      <td>2018-09-14</td>\n",
       "      <td>2017-12-21</td>\n",
       "      <td>267 days</td>\n",
       "    </tr>\n",
       "  </tbody>\n",
       "</table>\n",
       "</div>"
      ],
      "text/plain": [
       "  client_idcode first_mention_rivaroxaban hypertension_date hypertension_delta\n",
       "0       M485292                2018-09-14        2017-10-21           328 days\n",
       "0       M485292                2018-09-14        2017-09-20           359 days\n",
       "0       M485292                2018-09-14        2017-10-22           327 days\n",
       "0       M485292                2018-09-14        2018-02-27           199 days\n",
       "0       M485292                2018-09-14        2017-12-21           267 days"
      ]
     },
     "execution_count": 86,
     "metadata": {},
     "output_type": "execute_result"
    }
   ],
   "source": [
    "df.head()"
   ]
  },
  {
   "cell_type": "code",
   "execution_count": 87,
   "id": "37688271",
   "metadata": {},
   "outputs": [],
   "source": [
    "min_time = datetime.timedelta(days=1) \n",
    "max_time = datetime.timedelta(days=183)\n",
    "for k in db.keys():\n",
    "    t1 = df[f'{k}_delta'] >= min_time \n",
    "    t2 = df[f'{k}_delta'] <= max_time\n",
    "    in_window = t1 & t2 \n",
    "    df[f'{k}_in_window'] = in_window"
   ]
  },
  {
   "cell_type": "code",
   "execution_count": 88,
   "id": "4206937f",
   "metadata": {},
   "outputs": [
    {
     "data": {
      "text/html": [
       "<div>\n",
       "<style scoped>\n",
       "    .dataframe tbody tr th:only-of-type {\n",
       "        vertical-align: middle;\n",
       "    }\n",
       "\n",
       "    .dataframe tbody tr th {\n",
       "        vertical-align: top;\n",
       "    }\n",
       "\n",
       "    .dataframe thead th {\n",
       "        text-align: right;\n",
       "    }\n",
       "</style>\n",
       "<table border=\"1\" class=\"dataframe\">\n",
       "  <thead>\n",
       "    <tr style=\"text-align: right;\">\n",
       "      <th></th>\n",
       "      <th>client_idcode</th>\n",
       "      <th>first_mention_rivaroxaban</th>\n",
       "      <th>hypertension_date</th>\n",
       "      <th>hypertension_delta</th>\n",
       "      <th>hypertension_in_window</th>\n",
       "    </tr>\n",
       "  </thead>\n",
       "  <tbody>\n",
       "    <tr>\n",
       "      <th>0</th>\n",
       "      <td>M485292</td>\n",
       "      <td>2018-09-14</td>\n",
       "      <td>2017-10-21</td>\n",
       "      <td>328 days</td>\n",
       "      <td>False</td>\n",
       "    </tr>\n",
       "    <tr>\n",
       "      <th>0</th>\n",
       "      <td>M485292</td>\n",
       "      <td>2018-09-14</td>\n",
       "      <td>2017-09-20</td>\n",
       "      <td>359 days</td>\n",
       "      <td>False</td>\n",
       "    </tr>\n",
       "    <tr>\n",
       "      <th>0</th>\n",
       "      <td>M485292</td>\n",
       "      <td>2018-09-14</td>\n",
       "      <td>2017-10-22</td>\n",
       "      <td>327 days</td>\n",
       "      <td>False</td>\n",
       "    </tr>\n",
       "    <tr>\n",
       "      <th>0</th>\n",
       "      <td>M485292</td>\n",
       "      <td>2018-09-14</td>\n",
       "      <td>2018-02-27</td>\n",
       "      <td>199 days</td>\n",
       "      <td>False</td>\n",
       "    </tr>\n",
       "    <tr>\n",
       "      <th>0</th>\n",
       "      <td>M485292</td>\n",
       "      <td>2018-09-14</td>\n",
       "      <td>2017-12-21</td>\n",
       "      <td>267 days</td>\n",
       "      <td>False</td>\n",
       "    </tr>\n",
       "  </tbody>\n",
       "</table>\n",
       "</div>"
      ],
      "text/plain": [
       "  client_idcode first_mention_rivaroxaban hypertension_date  \\\n",
       "0       M485292                2018-09-14        2017-10-21   \n",
       "0       M485292                2018-09-14        2017-09-20   \n",
       "0       M485292                2018-09-14        2017-10-22   \n",
       "0       M485292                2018-09-14        2018-02-27   \n",
       "0       M485292                2018-09-14        2017-12-21   \n",
       "\n",
       "  hypertension_delta  hypertension_in_window  \n",
       "0           328 days                   False  \n",
       "0           359 days                   False  \n",
       "0           327 days                   False  \n",
       "0           199 days                   False  \n",
       "0           267 days                   False  "
      ]
     },
     "execution_count": 88,
     "metadata": {},
     "output_type": "execute_result"
    }
   ],
   "source": [
    "df.head()"
   ]
  },
  {
   "cell_type": "code",
   "execution_count": 89,
   "id": "0719d9a9",
   "metadata": {},
   "outputs": [],
   "source": [
    "df = df.loc[df['hypertension_in_window'] == True]"
   ]
  },
  {
   "cell_type": "code",
   "execution_count": 90,
   "id": "e71c30e7",
   "metadata": {},
   "outputs": [
    {
     "data": {
      "text/html": [
       "<div>\n",
       "<style scoped>\n",
       "    .dataframe tbody tr th:only-of-type {\n",
       "        vertical-align: middle;\n",
       "    }\n",
       "\n",
       "    .dataframe tbody tr th {\n",
       "        vertical-align: top;\n",
       "    }\n",
       "\n",
       "    .dataframe thead th {\n",
       "        text-align: right;\n",
       "    }\n",
       "</style>\n",
       "<table border=\"1\" class=\"dataframe\">\n",
       "  <thead>\n",
       "    <tr style=\"text-align: right;\">\n",
       "      <th></th>\n",
       "      <th>client_idcode</th>\n",
       "      <th>first_mention_rivaroxaban</th>\n",
       "      <th>hypertension_date</th>\n",
       "      <th>hypertension_delta</th>\n",
       "      <th>hypertension_in_window</th>\n",
       "    </tr>\n",
       "  </thead>\n",
       "  <tbody>\n",
       "    <tr>\n",
       "      <th>6</th>\n",
       "      <td>V337542</td>\n",
       "      <td>2014-05-02</td>\n",
       "      <td>2014-04-07</td>\n",
       "      <td>25 days</td>\n",
       "      <td>True</td>\n",
       "    </tr>\n",
       "    <tr>\n",
       "      <th>6</th>\n",
       "      <td>V337542</td>\n",
       "      <td>2014-05-02</td>\n",
       "      <td>2014-04-30</td>\n",
       "      <td>2 days</td>\n",
       "      <td>True</td>\n",
       "    </tr>\n",
       "    <tr>\n",
       "      <th>7</th>\n",
       "      <td>F387251</td>\n",
       "      <td>2015-04-30</td>\n",
       "      <td>2015-04-29</td>\n",
       "      <td>1 days</td>\n",
       "      <td>True</td>\n",
       "    </tr>\n",
       "    <tr>\n",
       "      <th>7</th>\n",
       "      <td>F387251</td>\n",
       "      <td>2015-04-30</td>\n",
       "      <td>2015-02-03</td>\n",
       "      <td>86 days</td>\n",
       "      <td>True</td>\n",
       "    </tr>\n",
       "    <tr>\n",
       "      <th>7</th>\n",
       "      <td>F387251</td>\n",
       "      <td>2015-04-30</td>\n",
       "      <td>2015-04-27</td>\n",
       "      <td>3 days</td>\n",
       "      <td>True</td>\n",
       "    </tr>\n",
       "  </tbody>\n",
       "</table>\n",
       "</div>"
      ],
      "text/plain": [
       "  client_idcode first_mention_rivaroxaban hypertension_date  \\\n",
       "6       V337542                2014-05-02        2014-04-07   \n",
       "6       V337542                2014-05-02        2014-04-30   \n",
       "7       F387251                2015-04-30        2015-04-29   \n",
       "7       F387251                2015-04-30        2015-02-03   \n",
       "7       F387251                2015-04-30        2015-04-27   \n",
       "\n",
       "  hypertension_delta  hypertension_in_window  \n",
       "6            25 days                    True  \n",
       "6             2 days                    True  \n",
       "7             1 days                    True  \n",
       "7            86 days                    True  \n",
       "7             3 days                    True  "
      ]
     },
     "execution_count": 90,
     "metadata": {},
     "output_type": "execute_result"
    }
   ],
   "source": [
    "df.head()"
   ]
  },
  {
   "cell_type": "code",
   "execution_count": 91,
   "id": "55f94010",
   "metadata": {},
   "outputs": [
    {
     "data": {
      "text/plain": [
       "1209"
      ]
     },
     "execution_count": 91,
     "metadata": {},
     "output_type": "execute_result"
    }
   ],
   "source": [
    "hypertension = set(df['client_idcode'])\n",
    "len(hypertension)"
   ]
  },
  {
   "cell_type": "code",
   "execution_count": 92,
   "id": "1531e610",
   "metadata": {},
   "outputs": [],
   "source": [
    "with open('/projects/ROCKET AF/1A/rivaroxaban dataextraction/data/hypertension.pickle', 'wb') as f:\n",
    "    pickle.dump(hypertension,f)"
   ]
  },
  {
   "cell_type": "code",
   "execution_count": null,
   "id": "a5fc790a",
   "metadata": {},
   "outputs": [],
   "source": []
  }
 ],
 "metadata": {
  "kernelspec": {
   "display_name": "Python 3 (ipykernel)",
   "language": "python",
   "name": "python3"
  },
  "language_info": {
   "codemirror_mode": {
    "name": "ipython",
    "version": 3
   },
   "file_extension": ".py",
   "mimetype": "text/x-python",
   "name": "python",
   "nbconvert_exporter": "python",
   "pygments_lexer": "ipython3",
   "version": "3.9.7"
  }
 },
 "nbformat": 4,
 "nbformat_minor": 5
}
