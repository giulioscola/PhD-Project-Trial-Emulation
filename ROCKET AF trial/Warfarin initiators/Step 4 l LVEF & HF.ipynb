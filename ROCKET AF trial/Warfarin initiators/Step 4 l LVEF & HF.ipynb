{
 "cells": [
  {
   "cell_type": "code",
   "execution_count": null,
   "id": "f21d6465",
   "metadata": {},
   "outputs": [],
   "source": [
    "import pandas as pd \n",
    "import pickle\n",
    "import datetime\n",
    "import re\n",
    "import networkx as nx\n",
    "import numpy as np"
   ]
  },
  {
   "cell_type": "markdown",
   "id": "34a7b833",
   "metadata": {},
   "source": [
    "# Atrial fibrillation (AF) patients on warfarin"
   ]
  },
  {
   "cell_type": "code",
   "execution_count": null,
   "id": "bf4bb01a",
   "metadata": {},
   "outputs": [],
   "source": [
    "with open('/projects/ROCKET AF/1A/warfarin dataextraction/data/first_mention_warfarin.pickle', 'rb') as f:\n",
    "    warfarin = pickle.load(f)"
   ]
  },
  {
   "cell_type": "code",
   "execution_count": null,
   "id": "f1db8512",
   "metadata": {},
   "outputs": [],
   "source": [
    "len(warfarin)"
   ]
  },
  {
   "cell_type": "code",
   "execution_count": null,
   "id": "180c98c7",
   "metadata": {},
   "outputs": [],
   "source": [
    "df = pd.DataFrame(list(warfarin.items()), columns=['client_idcode', 'first_mention_warfarin']) # This code converts a dictionary (warfarin) into a Pandas DataFrame with two columns named 'client_idcode' and 'first_mention_warfarin'\n",
    "df.shape"
   ]
  },
  {
   "cell_type": "code",
   "execution_count": null,
   "id": "8b079074",
   "metadata": {},
   "outputs": [],
   "source": [
    "df.head()"
   ]
  },
  {
   "cell_type": "code",
   "execution_count": null,
   "id": "80174dae",
   "metadata": {},
   "outputs": [],
   "source": [
    "ids = set(df['client_idcode'])\n",
    "len(ids)"
   ]
  },
  {
   "cell_type": "markdown",
   "id": "d15ffc44",
   "metadata": {},
   "source": [
    "# AF patients on warfarin with a left ventricular ejection fraction (LVEF) <35%"
   ]
  },
  {
   "cell_type": "code",
   "execution_count": null,
   "id": "e19a0a6f",
   "metadata": {},
   "outputs": [],
   "source": [
    "lvef = pd.read_csv('/projects/data/GS/HF/from_jack/FULL_TEXT_cardiac_echo_report_v2_with_vars.csv')"
   ]
  },
  {
   "cell_type": "code",
   "execution_count": null,
   "id": "cad2833d",
   "metadata": {},
   "outputs": [],
   "source": [
    "lvef.shape"
   ]
  },
  {
   "cell_type": "code",
   "execution_count": null,
   "id": "a70e554e",
   "metadata": {},
   "outputs": [],
   "source": [
    "lvef.head()"
   ]
  },
  {
   "cell_type": "code",
   "execution_count": null,
   "id": "097827bf",
   "metadata": {},
   "outputs": [],
   "source": [
    "lvef['document_datecreated'].isna().sum()"
   ]
  },
  {
   "cell_type": "code",
   "execution_count": null,
   "id": "9ca973e5",
   "metadata": {},
   "outputs": [],
   "source": [
    "lvef = lvef[['client_idcode', 'document_datecreated', 'ef_value']]"
   ]
  },
  {
   "cell_type": "code",
   "execution_count": null,
   "id": "535ca04b",
   "metadata": {},
   "outputs": [],
   "source": [
    "lvef.head()"
   ]
  },
  {
   "cell_type": "code",
   "execution_count": null,
   "id": "db9f666c",
   "metadata": {},
   "outputs": [],
   "source": [
    "lvef.shape"
   ]
  },
  {
   "cell_type": "code",
   "execution_count": null,
   "id": "8be2fa2a",
   "metadata": {},
   "outputs": [],
   "source": [
    "lvef.dropna(subset=['ef_value'], inplace = True)"
   ]
  },
  {
   "cell_type": "code",
   "execution_count": null,
   "id": "2e2efe9f",
   "metadata": {},
   "outputs": [],
   "source": [
    "lvef.shape"
   ]
  },
  {
   "cell_type": "code",
   "execution_count": null,
   "id": "e3773e92",
   "metadata": {},
   "outputs": [],
   "source": [
    "df = pd.merge(lvef, df, on='client_idcode', how='right') "
   ]
  },
  {
   "cell_type": "code",
   "execution_count": null,
   "id": "bc0d770b",
   "metadata": {},
   "outputs": [],
   "source": [
    "df.shape"
   ]
  },
  {
   "cell_type": "code",
   "execution_count": null,
   "id": "e99abf83",
   "metadata": {},
   "outputs": [],
   "source": [
    "df.head()"
   ]
  },
  {
   "cell_type": "code",
   "execution_count": null,
   "id": "16c19f5c",
   "metadata": {},
   "outputs": [],
   "source": [
    "df['ef_value'].isna().sum()"
   ]
  },
  {
   "cell_type": "code",
   "execution_count": null,
   "id": "4d325280",
   "metadata": {},
   "outputs": [],
   "source": [
    "df.dropna(subset=['ef_value'], inplace = True)"
   ]
  },
  {
   "cell_type": "code",
   "execution_count": null,
   "id": "da641ef9",
   "metadata": {},
   "outputs": [],
   "source": [
    "df.shape"
   ]
  },
  {
   "cell_type": "code",
   "execution_count": null,
   "id": "b3056427",
   "metadata": {},
   "outputs": [],
   "source": [
    "df['client_idcode'].nunique()"
   ]
  },
  {
   "cell_type": "code",
   "execution_count": null,
   "id": "2dd94261",
   "metadata": {},
   "outputs": [],
   "source": [
    "2340 + 999"
   ]
  },
  {
   "cell_type": "code",
   "execution_count": null,
   "id": "41a00975",
   "metadata": {},
   "outputs": [],
   "source": [
    "df['document_datecreated'] = pd.to_datetime(df['document_datecreated'], utc=True).dt.date "
   ]
  },
  {
   "cell_type": "code",
   "execution_count": null,
   "id": "11d4d506",
   "metadata": {},
   "outputs": [],
   "source": [
    "df.head()"
   ]
  },
  {
   "cell_type": "code",
   "execution_count": null,
   "id": "0589de62",
   "metadata": {},
   "outputs": [],
   "source": [
    "%%time \n",
    "df['difference'] = pd.to_datetime(df['first_mention_warfarin']) - pd.to_datetime(df['document_datecreated'])\n",
    "min_time = datetime.timedelta(days=1) \n",
    "max_time = datetime.timedelta(days=183)\n",
    "t1 = df['difference'] >= min_time \n",
    "t2 = df['difference'] <= max_time\n",
    "in_window = t1 & t2 \n",
    "df['in_window'] = in_window"
   ]
  },
  {
   "cell_type": "code",
   "execution_count": null,
   "id": "534e5ffa",
   "metadata": {},
   "outputs": [],
   "source": [
    "df.head()"
   ]
  },
  {
   "cell_type": "code",
   "execution_count": null,
   "id": "d8f9ccc7",
   "metadata": {},
   "outputs": [],
   "source": [
    "df = df.loc[df['in_window'] == True]\n",
    "df['client_idcode'].nunique()"
   ]
  },
  {
   "cell_type": "code",
   "execution_count": null,
   "id": "8c0ee4a2",
   "metadata": {},
   "outputs": [],
   "source": [
    "df = df[df['ef_value'] <= 35]"
   ]
  },
  {
   "cell_type": "code",
   "execution_count": null,
   "id": "d415cf9c",
   "metadata": {},
   "outputs": [],
   "source": [
    "df['client_idcode'].nunique()"
   ]
  },
  {
   "cell_type": "code",
   "execution_count": null,
   "id": "b413a1f2",
   "metadata": {},
   "outputs": [],
   "source": [
    "lvef = set(df['client_idcode'])\n",
    "len(lvef)"
   ]
  },
  {
   "cell_type": "code",
   "execution_count": null,
   "id": "0a488d61",
   "metadata": {},
   "outputs": [],
   "source": [
    "with open('/projects/ROCKET AF/1A/warfarin dataextraction/data/lvef.pickle', 'wb') as f:\n",
    "    pickle.dump(lvef,f)"
   ]
  },
  {
   "cell_type": "markdown",
   "id": "987e81fe",
   "metadata": {},
   "source": [
    "# AF patients on warfarin with heart failure (HF)"
   ]
  },
  {
   "cell_type": "code",
   "execution_count": null,
   "id": "c58a325b",
   "metadata": {},
   "outputs": [],
   "source": [
    "def graph_from_onto(onto):\n",
    "    G = nx.DiGraph()\n",
    "    cl_edges = []\n",
    "    for s, ts in onto.items():\n",
    "        for t in ts:\n",
    "            cl_edges.append((s.replace('S-', ''), t.replace('S-', '')))\n",
    "    G.add_edges_from(cl_edges)\n",
    "    return G\n",
    "\n",
    "def load_onto(o):\n",
    "    with open(f'/projects/data/GS/{o}', 'rb') as f:\n",
    "        onto = pickle.load(f)\n",
    "    G = graph_from_onto(onto)\n",
    "    return G\n",
    "\n",
    "def expand_codes(onto, codes):\n",
    "    expanded = {}\n",
    "    for name, top_codes in codes.items():\n",
    "        expanded[name] = set()\n",
    "        for c in top_codes:\n",
    "            expanded[name].add(c)\n",
    "            if c in onto:\n",
    "                expanded[name].update(nx.ancestors(onto, c))\n",
    "            else:\n",
    "                print(\"NOT FOUND:\", c, name)\n",
    "        print(name, len(top_codes), len(expanded[name]))\n",
    "    return expanded"
   ]
  },
  {
   "cell_type": "code",
   "execution_count": null,
   "id": "c3186e44",
   "metadata": {},
   "outputs": [],
   "source": [
    "onto = load_onto('isa_rela_ch2pt_202009.pickle')"
   ]
  },
  {
   "cell_type": "code",
   "execution_count": null,
   "id": "21580a42",
   "metadata": {},
   "outputs": [],
   "source": [
    "hf = { 'HF' : ['84114007']}\n",
    "hf = expand_codes(onto,hf)"
   ]
  },
  {
   "cell_type": "code",
   "execution_count": null,
   "id": "01ce2fb4",
   "metadata": {},
   "outputs": [],
   "source": [
    "%%time \n",
    "with open('/projects/data/GS/pt2cui_pos_dates.pickle', 'rb') as f:\n",
    "    pt2cui_pos_dates = pickle.load(f)"
   ]
  },
  {
   "cell_type": "code",
   "execution_count": null,
   "id": "44488230",
   "metadata": {},
   "outputs": [],
   "source": [
    "def dates_ex(pt_data, codes):\n",
    "    dates = None\n",
    "    for x in codes:\n",
    "        if x in pt_data and len(pt_data[x])>=2:\n",
    "            if dates == None:\n",
    "                dates = pt_data[x]\n",
    "            else: \n",
    "                dates = dates.union(pt_data[x])\n",
    "    return dates\n",
    "\n",
    "rows = []\n",
    "for pt in ids:\n",
    "    pt_data = pt2cui_pos_dates.get(pt, {})\n",
    "    row = {'client_idcode': pt, 'first_mention_warfarin': warfarin[pt]} \n",
    "    for concept, codes in hf.items():\n",
    "        dates = dates_ex(pt_data, codes)\n",
    "        if dates == None:\n",
    "            row[f\"{concept}_date\"] = np.nan\n",
    "        else:\n",
    "            row[f\"{concept}_date\"] = dates\n",
    "    rows.append(row)"
   ]
  },
  {
   "cell_type": "code",
   "execution_count": null,
   "id": "df153151",
   "metadata": {},
   "outputs": [],
   "source": [
    "df = pd.DataFrame(rows)\n",
    "df.shape"
   ]
  },
  {
   "cell_type": "code",
   "execution_count": null,
   "id": "a216b5eb",
   "metadata": {},
   "outputs": [],
   "source": [
    "df.head()"
   ]
  },
  {
   "cell_type": "code",
   "execution_count": null,
   "id": "d3353d3c",
   "metadata": {},
   "outputs": [],
   "source": [
    "df.dropna(subset=['HF_date'], inplace = True)"
   ]
  },
  {
   "cell_type": "code",
   "execution_count": null,
   "id": "a8e6f159",
   "metadata": {},
   "outputs": [],
   "source": [
    "df.head()"
   ]
  },
  {
   "cell_type": "code",
   "execution_count": null,
   "id": "0d2bb3c9",
   "metadata": {},
   "outputs": [],
   "source": [
    "if not row.empty:\n",
    "    # Access the set within the 'Set_Column' and print it\n",
    "    specific_set = row.iloc[0]['HF_date']\n",
    "    print(f\"Set for ID {specific_client_idcode}: {specific_set}\")\n",
    "else:\n",
    "    print(f\"No matching ID found for {specific_client_idcode}\")"
   ]
  },
  {
   "cell_type": "code",
   "execution_count": null,
   "id": "fe93d9a5",
   "metadata": {},
   "outputs": [],
   "source": [
    "df['client_idcode'].nunique()"
   ]
  },
  {
   "cell_type": "code",
   "execution_count": null,
   "id": "282f7f98",
   "metadata": {},
   "outputs": [],
   "source": [
    "%%time\n",
    "df = df[['client_idcode']].join((df[i].explode() for i in df.iloc[:,1:]))\n",
    "df.shape"
   ]
  },
  {
   "cell_type": "code",
   "execution_count": null,
   "id": "63dee4e8",
   "metadata": {},
   "outputs": [],
   "source": [
    "df.head(6)"
   ]
  },
  {
   "cell_type": "code",
   "execution_count": null,
   "id": "1f956780",
   "metadata": {},
   "outputs": [],
   "source": [
    "df['HF_date'] = pd.to_datetime(df['HF_date'], utc=True).dt.date "
   ]
  },
  {
   "cell_type": "code",
   "execution_count": null,
   "id": "3b20c838",
   "metadata": {},
   "outputs": [],
   "source": [
    "df.head()"
   ]
  },
  {
   "cell_type": "code",
   "execution_count": null,
   "id": "6c639544",
   "metadata": {},
   "outputs": [],
   "source": [
    "%%time \n",
    "df['difference'] = pd.to_datetime(df['first_mention_warfarin']) - pd.to_datetime(df['HF_date'])\n",
    "min_time = datetime.timedelta(days=1) \n",
    "max_time = datetime.timedelta(days=183)\n",
    "t1 = df['difference'] >= min_time \n",
    "t2 = df['difference'] <= max_time\n",
    "in_window = t1 & t2 \n",
    "df['in_window'] = in_window"
   ]
  },
  {
   "cell_type": "code",
   "execution_count": null,
   "id": "568fd9f7",
   "metadata": {},
   "outputs": [],
   "source": [
    "df.head()"
   ]
  },
  {
   "cell_type": "code",
   "execution_count": null,
   "id": "77589905",
   "metadata": {},
   "outputs": [],
   "source": [
    "df = df.loc[df['in_window'] == True]\n",
    "df['client_idcode'].nunique()"
   ]
  },
  {
   "cell_type": "code",
   "execution_count": null,
   "id": "228638af",
   "metadata": {},
   "outputs": [],
   "source": [
    "hf = set(df['client_idcode'])\n",
    "len(hf)"
   ]
  },
  {
   "cell_type": "code",
   "execution_count": null,
   "id": "c090309f",
   "metadata": {},
   "outputs": [],
   "source": [
    "with open('/projects/ROCKET AF/1A/warfarin dataextraction/data/hf.pickle', 'wb') as f:\n",
    "    pickle.dump(hf,f)"
   ]
  },
  {
   "cell_type": "code",
   "execution_count": null,
   "id": "8fecba08",
   "metadata": {},
   "outputs": [],
   "source": []
  }
 ],
 "metadata": {
  "kernelspec": {
   "display_name": "Python 3 (ipykernel)",
   "language": "python",
   "name": "python3"
  },
  "language_info": {
   "codemirror_mode": {
    "name": "ipython",
    "version": 3
   },
   "file_extension": ".py",
   "mimetype": "text/x-python",
   "name": "python",
   "nbconvert_exporter": "python",
   "pygments_lexer": "ipython3",
   "version": "3.9.7"
  }
 },
 "nbformat": 4,
 "nbformat_minor": 5
}
