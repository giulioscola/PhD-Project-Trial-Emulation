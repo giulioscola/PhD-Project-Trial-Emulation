{
 "cells": [
  {
   "cell_type": "code",
   "execution_count": null,
   "id": "f21d6465",
   "metadata": {},
   "outputs": [],
   "source": [
    "import pandas as pd \n",
    "import pickle\n",
    "import datetime\n",
    "import re\n",
    "import networkx as nx\n",
    "import numpy as np\n",
    "from tqdm import tqdm"
   ]
  },
  {
   "cell_type": "markdown",
   "id": "34a7b833",
   "metadata": {},
   "source": [
    "# Atrial fibrillation (AF) patients on warfarin"
   ]
  },
  {
   "cell_type": "code",
   "execution_count": null,
   "id": "bf4bb01a",
   "metadata": {},
   "outputs": [],
   "source": [
    "with open('/projects/ROCKET AF/1A/warfarin dataextraction/data/first_mention_warfarin.pickle', 'rb') as f:\n",
    "    warfarin = pickle.load(f)"
   ]
  },
  {
   "cell_type": "code",
   "execution_count": null,
   "id": "f1db8512",
   "metadata": {},
   "outputs": [],
   "source": [
    "len(warfarin)"
   ]
  },
  {
   "cell_type": "code",
   "execution_count": null,
   "id": "180c98c7",
   "metadata": {},
   "outputs": [],
   "source": [
    "df = pd.DataFrame(list(warfarin.items()), columns=['client_idcode', 'first_mention_warfarin']) # This code converts a dictionary (warfarin) into a Pandas DataFrame with two columns named 'client_idcode' and 'first_mention_warfarin'\n",
    "df.shape"
   ]
  },
  {
   "cell_type": "code",
   "execution_count": null,
   "id": "8b079074",
   "metadata": {},
   "outputs": [],
   "source": [
    "df.head()"
   ]
  },
  {
   "cell_type": "code",
   "execution_count": null,
   "id": "80174dae",
   "metadata": {},
   "outputs": [],
   "source": [
    "ids = set(df['client_idcode'])\n",
    "len(ids)"
   ]
  },
  {
   "cell_type": "markdown",
   "id": "987e81fe",
   "metadata": {},
   "source": [
    "# AF patients on warfarin with diabetes"
   ]
  },
  {
   "cell_type": "code",
   "execution_count": null,
   "id": "c58a325b",
   "metadata": {},
   "outputs": [],
   "source": [
    "def graph_from_onto(onto):\n",
    "    G = nx.DiGraph()\n",
    "    cl_edges = []\n",
    "    for s, ts in onto.items():\n",
    "        for t in ts:\n",
    "            cl_edges.append((s.replace('S-', ''), t.replace('S-', '')))\n",
    "    G.add_edges_from(cl_edges)\n",
    "    return G\n",
    "\n",
    "def load_onto(o):\n",
    "    with open(f'/projects/data/GS/{o}', 'rb') as f:\n",
    "        onto = pickle.load(f)\n",
    "    G = graph_from_onto(onto)\n",
    "    return G\n",
    "\n",
    "def expand_codes(onto, codes):\n",
    "    expanded = {}\n",
    "    for name, top_codes in codes.items():\n",
    "        expanded[name] = set()\n",
    "        for c in top_codes:\n",
    "            expanded[name].add(c)\n",
    "            if c in onto:\n",
    "                expanded[name].update(nx.ancestors(onto, c))\n",
    "            else:\n",
    "                print(\"NOT FOUND:\", c, name)\n",
    "        print(name, len(top_codes), len(expanded[name]))\n",
    "    return expanded"
   ]
  },
  {
   "cell_type": "code",
   "execution_count": null,
   "id": "c3186e44",
   "metadata": {},
   "outputs": [],
   "source": [
    "onto = load_onto('isa_rela_ch2pt_202009.pickle')"
   ]
  },
  {
   "cell_type": "code",
   "execution_count": null,
   "id": "21580a42",
   "metadata": {},
   "outputs": [],
   "source": [
    "db = {'type_1_diabetes' : ['46635009'],\n",
    "      'type_2_diabetes' : ['44054006']\n",
    "     }\n",
    "db = expand_codes(onto,db)"
   ]
  },
  {
   "cell_type": "code",
   "execution_count": null,
   "id": "01ce2fb4",
   "metadata": {},
   "outputs": [],
   "source": [
    "%%time \n",
    "with open('/projects/data/GS/pt2cui_pos_dates.pickle', 'rb') as f:\n",
    "    pt2cui_pos_dates = pickle.load(f)"
   ]
  },
  {
   "cell_type": "code",
   "execution_count": null,
   "id": "44488230",
   "metadata": {},
   "outputs": [],
   "source": [
    "def dates_ex(pt_data, codes):\n",
    "    dates = None\n",
    "    for x in codes:\n",
    "        if x in pt_data and len(pt_data[x])>=2:\n",
    "            if dates == None:\n",
    "                dates = pt_data[x]\n",
    "            else: \n",
    "                dates = dates.union(pt_data[x])\n",
    "    return dates\n",
    "\n",
    "rows = []\n",
    "for pt in ids:\n",
    "    pt_data = pt2cui_pos_dates.get(pt, {})\n",
    "    row = {'client_idcode': pt, 'first_mention_warfarin': warfarin[pt]} \n",
    "    for concept, codes in db.items():\n",
    "        dates = dates_ex(pt_data, codes)\n",
    "        if dates == None:\n",
    "            row[f\"{concept}_date\"] = np.nan\n",
    "        else:\n",
    "            row[f\"{concept}_date\"] = dates\n",
    "    rows.append(row)"
   ]
  },
  {
   "cell_type": "code",
   "execution_count": null,
   "id": "df153151",
   "metadata": {},
   "outputs": [],
   "source": [
    "df = pd.DataFrame(rows)\n",
    "df.shape"
   ]
  },
  {
   "cell_type": "code",
   "execution_count": null,
   "id": "a216b5eb",
   "metadata": {},
   "outputs": [],
   "source": [
    "df.head()"
   ]
  },
  {
   "cell_type": "code",
   "execution_count": null,
   "id": "d3353d3c",
   "metadata": {},
   "outputs": [],
   "source": [
    "df.dropna(subset=['type_1_diabetes_date', 'type_2_diabetes_date'], how='all', inplace = True)"
   ]
  },
  {
   "cell_type": "code",
   "execution_count": null,
   "id": "a8e6f159",
   "metadata": {},
   "outputs": [],
   "source": [
    "df.head()"
   ]
  },
  {
   "cell_type": "code",
   "execution_count": null,
   "id": "0d2bb3c9",
   "metadata": {},
   "outputs": [],
   "source": [
    "if not row.empty:\n",
    "    # Access the set within the 'Set_Column' and print it\n",
    "    specific_set = row.iloc[0]['type_2_diabetes_date']\n",
    "    print(f\"Set for ID {specific_client_idcode}: {specific_set}\")\n",
    "else:\n",
    "    print(f\"No matching ID found for {specific_client_idcode}\")"
   ]
  },
  {
   "cell_type": "code",
   "execution_count": null,
   "id": "fe93d9a5",
   "metadata": {},
   "outputs": [],
   "source": [
    "df['client_idcode'].nunique()"
   ]
  },
  {
   "cell_type": "code",
   "execution_count": null,
   "id": "282f7f98",
   "metadata": {},
   "outputs": [],
   "source": [
    "%%time\n",
    "df = df[['client_idcode']].join((df[i].explode() for i in df.iloc[:,1:]))\n",
    "df.shape"
   ]
  },
  {
   "cell_type": "code",
   "execution_count": null,
   "id": "63dee4e8",
   "metadata": {},
   "outputs": [],
   "source": [
    "df.head(11)"
   ]
  },
  {
   "cell_type": "code",
   "execution_count": null,
   "id": "1f956780",
   "metadata": {},
   "outputs": [],
   "source": [
    "for k in db.keys():\n",
    "    df[f'{k}_date'] = pd.to_datetime(df[f'{k}_date']).dt.date"
   ]
  },
  {
   "cell_type": "code",
   "execution_count": null,
   "id": "3b20c838",
   "metadata": {},
   "outputs": [],
   "source": [
    "df.head()"
   ]
  },
  {
   "cell_type": "code",
   "execution_count": null,
   "id": "6c639544",
   "metadata": {},
   "outputs": [],
   "source": [
    "for k in db.keys():\n",
    "    df[f'{k}_delta'] = pd.to_datetime(df['first_mention_warfarin']) - pd.to_datetime(df[f'{k}_date'])"
   ]
  },
  {
   "cell_type": "code",
   "execution_count": null,
   "id": "568fd9f7",
   "metadata": {},
   "outputs": [],
   "source": [
    "df.head()"
   ]
  },
  {
   "cell_type": "code",
   "execution_count": null,
   "id": "8fecba08",
   "metadata": {},
   "outputs": [],
   "source": [
    "min_time = datetime.timedelta(days=1) \n",
    "max_time = datetime.timedelta(days=183)\n",
    "for k in db.keys():\n",
    "    t1 = df[f'{k}_delta'] >= min_time \n",
    "    t2 = df[f'{k}_delta'] <= max_time\n",
    "    in_window = t1 & t2 \n",
    "    df[f'{k}_in_window'] = in_window"
   ]
  },
  {
   "cell_type": "code",
   "execution_count": null,
   "id": "0dad975a",
   "metadata": {},
   "outputs": [],
   "source": [
    "df.head()"
   ]
  },
  {
   "cell_type": "code",
   "execution_count": null,
   "id": "737e1dc9",
   "metadata": {},
   "outputs": [],
   "source": [
    "type_1_diabetes = df.loc[df['type_1_diabetes_in_window'] == True]\n",
    "type_1_diabetes = type_1_diabetes[['client_idcode', 'type_1_diabetes_in_window']]\n",
    "type_1_diabetes.shape"
   ]
  },
  {
   "cell_type": "code",
   "execution_count": null,
   "id": "f7a9700b",
   "metadata": {},
   "outputs": [],
   "source": [
    "type_1_diabetes.head()"
   ]
  },
  {
   "cell_type": "code",
   "execution_count": null,
   "id": "2f91bebb",
   "metadata": {},
   "outputs": [],
   "source": [
    "type_1_diabetes = set(type_1_diabetes['client_idcode'])\n",
    "len(type_1_diabetes)"
   ]
  },
  {
   "cell_type": "code",
   "execution_count": null,
   "id": "3c197c9d",
   "metadata": {},
   "outputs": [],
   "source": [
    "with open('/projects/ROCKET AF/1A/warfarin dataextraction/data/type_1_diabetes.pickle', 'wb') as f:\n",
    "    pickle.dump(type_1_diabetes,f)"
   ]
  },
  {
   "cell_type": "code",
   "execution_count": null,
   "id": "fe1632d2",
   "metadata": {},
   "outputs": [],
   "source": [
    "type_2_diabetes = df.loc[df['type_2_diabetes_in_window'] == True]\n",
    "type_2_diabetes = type_2_diabetes[['client_idcode', 'type_2_diabetes_in_window']]\n",
    "type_2_diabetes.shape"
   ]
  },
  {
   "cell_type": "code",
   "execution_count": null,
   "id": "30060e32",
   "metadata": {},
   "outputs": [],
   "source": [
    "type_2_diabetes.head()"
   ]
  },
  {
   "cell_type": "code",
   "execution_count": null,
   "id": "d5c3a0a2",
   "metadata": {},
   "outputs": [],
   "source": [
    "type_2_diabetes = set(type_2_diabetes['client_idcode'])\n",
    "len(type_2_diabetes)"
   ]
  },
  {
   "cell_type": "code",
   "execution_count": null,
   "id": "308df507",
   "metadata": {},
   "outputs": [],
   "source": [
    "with open('/projects/ROCKET AF/1A/warfarin dataextraction/data/type_2_diabetes.pickle', 'wb') as f:\n",
    "    pickle.dump(type_2_diabetes,f)"
   ]
  },
  {
   "cell_type": "markdown",
   "id": "eb9e4cfe",
   "metadata": {},
   "source": [
    "# AF patients on antidiabetic drugs"
   ]
  },
  {
   "cell_type": "code",
   "execution_count": null,
   "id": "7409c75e",
   "metadata": {},
   "outputs": [],
   "source": [
    "antidiabetic_drugs = pd.read_csv('/projects/ROCKET AF/data/antidiabetic_drugs.csv')"
   ]
  },
  {
   "cell_type": "code",
   "execution_count": null,
   "id": "282ab73d",
   "metadata": {},
   "outputs": [],
   "source": [
    "antidiabetic_drugs.shape"
   ]
  },
  {
   "cell_type": "code",
   "execution_count": null,
   "id": "5de5d21a",
   "metadata": {},
   "outputs": [],
   "source": [
    "antidiabetic_drugs.head()"
   ]
  },
  {
   "cell_type": "code",
   "execution_count": null,
   "id": "15b98608",
   "metadata": {},
   "outputs": [],
   "source": [
    "del antidiabetic_drugs['Unnamed: 0']"
   ]
  },
  {
   "cell_type": "code",
   "execution_count": null,
   "id": "267ee932",
   "metadata": {},
   "outputs": [],
   "source": [
    "antidiabetic_drugs['first_warfarin_prescription'] = antidiabetic_drugs['client_idcode'].map(warfarin)"
   ]
  },
  {
   "cell_type": "code",
   "execution_count": null,
   "id": "b877e109",
   "metadata": {},
   "outputs": [],
   "source": [
    "antidiabetic_drugs = antidiabetic_drugs[antidiabetic_drugs['first_warfarin_prescription'].notna()]\n",
    "antidiabetic_drugs.shape"
   ]
  },
  {
   "cell_type": "code",
   "execution_count": null,
   "id": "653b48f7",
   "metadata": {},
   "outputs": [],
   "source": [
    "antidiabetic_drugs.head()"
   ]
  },
  {
   "cell_type": "code",
   "execution_count": null,
   "id": "7917ad01",
   "metadata": {},
   "outputs": [],
   "source": [
    "antidiabetic_drugs['order_arrivaldtm'].isna().sum()"
   ]
  },
  {
   "cell_type": "code",
   "execution_count": null,
   "id": "618f53c2",
   "metadata": {},
   "outputs": [],
   "source": [
    "antidiabetic_drugs['order_arrivaldtm'] = pd.to_datetime(antidiabetic_drugs['order_arrivaldtm'], utc=True).dt.date "
   ]
  },
  {
   "cell_type": "code",
   "execution_count": null,
   "id": "7fdf9981",
   "metadata": {},
   "outputs": [],
   "source": [
    "antidiabetic_drugs['difference'] = pd.to_datetime(antidiabetic_drugs['first_warfarin_prescription']) - pd.to_datetime(antidiabetic_drugs['order_arrivaldtm'])"
   ]
  },
  {
   "cell_type": "code",
   "execution_count": null,
   "id": "ccef624c",
   "metadata": {},
   "outputs": [],
   "source": [
    "antidiabetic_drugs.head()"
   ]
  },
  {
   "cell_type": "code",
   "execution_count": null,
   "id": "cf579b4a",
   "metadata": {},
   "outputs": [],
   "source": [
    "min_time = datetime.timedelta(days=1) \n",
    "max_time = datetime.timedelta(days=183)\n",
    "t1 = antidiabetic_drugs['difference'] >= min_time \n",
    "t2 = antidiabetic_drugs['difference'] <= max_time\n",
    "in_window = t1 & t2 \n",
    "antidiabetic_drugs['in_window'] = in_window"
   ]
  },
  {
   "cell_type": "code",
   "execution_count": null,
   "id": "19365269",
   "metadata": {},
   "outputs": [],
   "source": [
    "antidiabetic_drugs = antidiabetic_drugs.loc[antidiabetic_drugs['in_window'] == True]\n",
    "antidiabetic_drugs.shape"
   ]
  },
  {
   "cell_type": "code",
   "execution_count": null,
   "id": "0a804b23",
   "metadata": {},
   "outputs": [],
   "source": [
    "antidiabetic_drugs.head()"
   ]
  },
  {
   "cell_type": "code",
   "execution_count": null,
   "id": "ac263235",
   "metadata": {},
   "outputs": [],
   "source": [
    "antidiabetic_drugs['client_idcode'].nunique()"
   ]
  },
  {
   "cell_type": "code",
   "execution_count": null,
   "id": "8242d742",
   "metadata": {},
   "outputs": [],
   "source": [
    "antidiabetic_drugs['drug_name'] = antidiabetic_drugs['order_name'].str.upper()\n",
    "antidiabetic_drugs['order_summaryline_upper_case'] = antidiabetic_drugs['order_summaryline'].str.upper()"
   ]
  },
  {
   "cell_type": "code",
   "execution_count": null,
   "id": "5c866961",
   "metadata": {},
   "outputs": [],
   "source": [
    "on_antidiabetic_drugs = set(antidiabetic_drugs['client_idcode'])\n",
    "len(on_antidiabetic_drugs)"
   ]
  },
  {
   "cell_type": "code",
   "execution_count": null,
   "id": "0dc848fb",
   "metadata": {},
   "outputs": [],
   "source": [
    "with open('/projects/ROCKET AF/1A/warfarin dataextraction/data/on_antidiabetic_drugs.pickle', 'wb') as f:\n",
    "    pickle.dump(on_antidiabetic_drugs,f)"
   ]
  },
  {
   "cell_type": "markdown",
   "id": "6cc410e4",
   "metadata": {},
   "source": [
    "--------------"
   ]
  },
  {
   "cell_type": "code",
   "execution_count": null,
   "id": "a0939d90",
   "metadata": {},
   "outputs": [],
   "source": []
  }
 ],
 "metadata": {
  "kernelspec": {
   "display_name": "Python 3 (ipykernel)",
   "language": "python",
   "name": "python3"
  },
  "language_info": {
   "codemirror_mode": {
    "name": "ipython",
    "version": 3
   },
   "file_extension": ".py",
   "mimetype": "text/x-python",
   "name": "python",
   "nbconvert_exporter": "python",
   "pygments_lexer": "ipython3",
   "version": "3.9.7"
  }
 },
 "nbformat": 4,
 "nbformat_minor": 5
}
