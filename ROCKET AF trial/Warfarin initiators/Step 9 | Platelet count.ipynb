{
 "cells": [
  {
   "cell_type": "code",
   "execution_count": null,
   "id": "8895e034",
   "metadata": {},
   "outputs": [],
   "source": [
    "import pandas as pd \n",
    "import pickle\n",
    "import datetime\n",
    "import re\n",
    "import networkx as nx\n",
    "import numpy as np\n",
    "from tqdm import tqdm"
   ]
  },
  {
   "cell_type": "markdown",
   "id": "8e661740",
   "metadata": {},
   "source": [
    "# Atrial fibrillation (AF) patients on warfarin"
   ]
  },
  {
   "cell_type": "code",
   "execution_count": null,
   "id": "df859c2e",
   "metadata": {},
   "outputs": [],
   "source": [
    "with open('/projects/ROCKET AF/1A/warfarin dataextraction/data/first_mention_warfarin.pickle', 'rb') as f:\n",
    "    warfarin = pickle.load(f)"
   ]
  },
  {
   "cell_type": "code",
   "execution_count": null,
   "id": "8885ac97",
   "metadata": {},
   "outputs": [],
   "source": [
    "len(warfarin)"
   ]
  },
  {
   "cell_type": "code",
   "execution_count": null,
   "id": "eff3a98c",
   "metadata": {},
   "outputs": [],
   "source": [
    "df = pd.DataFrame(list(warfarin.items()), columns=['client_idcode', 'first_mention_warfarin']) # This code converts a dictionary (warfarin) into a Pandas DataFrame with two columns named 'client_idcode' and 'first_mention_warfarin'\n",
    "df.shape"
   ]
  },
  {
   "cell_type": "code",
   "execution_count": null,
   "id": "2c17e8e9",
   "metadata": {},
   "outputs": [],
   "source": [
    "ids = set(df['client_idcode'])\n",
    "len(ids)"
   ]
  },
  {
   "cell_type": "markdown",
   "id": "a0e4c020",
   "metadata": {},
   "source": [
    "# Platelet count"
   ]
  },
  {
   "cell_type": "code",
   "execution_count": null,
   "id": "f607f476",
   "metadata": {},
   "outputs": [],
   "source": [
    "pc = pd.read_csv('/projects/ROCKET AF/data/platelet_count.csv')"
   ]
  },
  {
   "cell_type": "code",
   "execution_count": null,
   "id": "ad778b64",
   "metadata": {},
   "outputs": [],
   "source": [
    "pc.head()"
   ]
  },
  {
   "cell_type": "code",
   "execution_count": null,
   "id": "fed6f32e",
   "metadata": {},
   "outputs": [],
   "source": [
    "pc['basicobs_itemname_analysed'].unique()"
   ]
  },
  {
   "cell_type": "code",
   "execution_count": null,
   "id": "d5fc9735",
   "metadata": {},
   "outputs": [],
   "source": [
    "pc['basicobs_unitofmeasure'].unique()"
   ]
  },
  {
   "cell_type": "code",
   "execution_count": null,
   "id": "89fa592d",
   "metadata": {},
   "outputs": [],
   "source": [
    "pc.loc[pc['basicobs_itemname_analysed'] == 'Platelet Count (Citrate Sample)']"
   ]
  },
  {
   "cell_type": "code",
   "execution_count": null,
   "id": "00215d38",
   "metadata": {},
   "outputs": [],
   "source": [
    "pc = pc[['client_idcode', 'basicobs_itemname_analysed', 'basicobs_value_numeric', 'basicobs_unitofmeasure', 'basicobs_value_analysed', 'basicobs_createdwhen']]"
   ]
  },
  {
   "cell_type": "code",
   "execution_count": null,
   "id": "0b63e92f",
   "metadata": {},
   "outputs": [],
   "source": [
    "pc.head()"
   ]
  },
  {
   "cell_type": "code",
   "execution_count": null,
   "id": "6aa87342",
   "metadata": {},
   "outputs": [],
   "source": [
    "pc.shape"
   ]
  },
  {
   "cell_type": "code",
   "execution_count": null,
   "id": "14594671",
   "metadata": {},
   "outputs": [],
   "source": [
    "pc['first_warfarin_prescription'] = pc['client_idcode'].map(warfarin)"
   ]
  },
  {
   "cell_type": "code",
   "execution_count": null,
   "id": "fa01035f",
   "metadata": {},
   "outputs": [],
   "source": [
    "pc.head()"
   ]
  },
  {
   "cell_type": "code",
   "execution_count": null,
   "id": "d178edf1",
   "metadata": {},
   "outputs": [],
   "source": [
    "pc['basicobs_createdwhen'] = pd.to_datetime(pc['basicobs_createdwhen'], utc=True).dt.date "
   ]
  },
  {
   "cell_type": "code",
   "execution_count": null,
   "id": "23635cda",
   "metadata": {},
   "outputs": [],
   "source": [
    "pc.head()"
   ]
  },
  {
   "cell_type": "code",
   "execution_count": null,
   "id": "0251d7e0",
   "metadata": {},
   "outputs": [],
   "source": [
    "pc['difference'] = pd.to_datetime(pc['first_warfarin_prescription']) - pd.to_datetime(pc['basicobs_createdwhen'])"
   ]
  },
  {
   "cell_type": "code",
   "execution_count": null,
   "id": "e4294fa6",
   "metadata": {},
   "outputs": [],
   "source": [
    "pc.loc[pc['difference'].notna()]"
   ]
  },
  {
   "cell_type": "code",
   "execution_count": null,
   "id": "2daf12ea",
   "metadata": {},
   "outputs": [],
   "source": [
    "min_time = datetime.timedelta(days=1) \n",
    "max_time = datetime.timedelta(days=183)\n",
    "t1 = pc['difference'] >= min_time \n",
    "t2 = pc['difference'] <= max_time\n",
    "in_window = t1 & t2 \n",
    "pc['in_window'] = in_window"
   ]
  },
  {
   "cell_type": "code",
   "execution_count": null,
   "id": "6d1ab320",
   "metadata": {},
   "outputs": [],
   "source": [
    "pc = pc.loc[pc['in_window'] == True]"
   ]
  },
  {
   "cell_type": "code",
   "execution_count": null,
   "id": "56393f52",
   "metadata": {},
   "outputs": [],
   "source": [
    "pc.head()"
   ]
  },
  {
   "cell_type": "code",
   "execution_count": null,
   "id": "e8b2c49a",
   "metadata": {},
   "outputs": [],
   "source": [
    "pc.shape"
   ]
  },
  {
   "cell_type": "code",
   "execution_count": null,
   "id": "de13a227",
   "metadata": {},
   "outputs": [],
   "source": [
    "# Group by 'client_idcode' and keep only the rows with the smallest 'difference'\n",
    "\n",
    "min_values = pc.groupby('client_idcode')['difference'].transform('min')\n",
    "\n",
    "# Filter the DataFrame to keep only rows with the minimum 'Value'\n",
    "pc = pc[pc['difference'] == min_values]"
   ]
  },
  {
   "cell_type": "code",
   "execution_count": null,
   "id": "79c214f2",
   "metadata": {},
   "outputs": [],
   "source": [
    "pc.head()"
   ]
  },
  {
   "cell_type": "code",
   "execution_count": null,
   "id": "cf5bcbe8",
   "metadata": {},
   "outputs": [],
   "source": [
    "pc.shape"
   ]
  },
  {
   "cell_type": "code",
   "execution_count": null,
   "id": "4fd50207",
   "metadata": {},
   "outputs": [],
   "source": [
    "pc['client_idcode'].nunique()"
   ]
  },
  {
   "cell_type": "code",
   "execution_count": null,
   "id": "1796f04a",
   "metadata": {},
   "outputs": [],
   "source": [
    "pc = pc.sort_values(by='client_idcode')\n",
    "pc.head()"
   ]
  },
  {
   "cell_type": "code",
   "execution_count": null,
   "id": "801a7b23",
   "metadata": {},
   "outputs": [],
   "source": [
    "# Group by 'client_idcode' and calculate the average of 'platelet count'\n",
    "\n",
    "df = pc.groupby('client_idcode')['basicobs_value_numeric'].mean().reset_index()\n",
    "    "
   ]
  },
  {
   "cell_type": "code",
   "execution_count": null,
   "id": "8465bc1e",
   "metadata": {},
   "outputs": [],
   "source": [
    "df.head()"
   ]
  },
  {
   "cell_type": "code",
   "execution_count": null,
   "id": "d590cbf4",
   "metadata": {},
   "outputs": [],
   "source": [
    "df.shape"
   ]
  },
  {
   "cell_type": "code",
   "execution_count": null,
   "id": "50ea8aa7",
   "metadata": {},
   "outputs": [],
   "source": [
    "df['client_idcode'].nunique()"
   ]
  },
  {
   "cell_type": "code",
   "execution_count": null,
   "id": "73f3e38d",
   "metadata": {},
   "outputs": [],
   "source": [
    "df['basicobs_value_numeric'].min()"
   ]
  },
  {
   "cell_type": "code",
   "execution_count": null,
   "id": "b0948620",
   "metadata": {},
   "outputs": [],
   "source": [
    "df['basicobs_value_numeric'].max()"
   ]
  },
  {
   "cell_type": "code",
   "execution_count": null,
   "id": "87688f15",
   "metadata": {},
   "outputs": [],
   "source": [
    "df.loc[df['basicobs_value_numeric'] >= 450]"
   ]
  },
  {
   "cell_type": "code",
   "execution_count": null,
   "id": "0cb38b28",
   "metadata": {},
   "outputs": [],
   "source": [
    "df.loc[df['basicobs_value_numeric'] >= 800]"
   ]
  },
  {
   "cell_type": "code",
   "execution_count": null,
   "id": "5703009b",
   "metadata": {},
   "outputs": [],
   "source": [
    "pc.loc[pc['basicobs_value_numeric'] >= 800]"
   ]
  },
  {
   "cell_type": "code",
   "execution_count": null,
   "id": "fbc0e675",
   "metadata": {},
   "outputs": [],
   "source": [
    "platelet_count = dict(zip(df['client_idcode'], df['basicobs_value_numeric']))\n",
    "len(platelet_count)"
   ]
  },
  {
   "cell_type": "code",
   "execution_count": null,
   "id": "2a980324",
   "metadata": {},
   "outputs": [],
   "source": [
    "with open('/projects/ROCKET AF/1A/warfarin dataextraction/data/platelet_count.pickle', 'wb') as f:\n",
    "    pickle.dump(platelet_count,f)"
   ]
  },
  {
   "cell_type": "code",
   "execution_count": null,
   "id": "bfc9ccad",
   "metadata": {},
   "outputs": [],
   "source": []
  }
 ],
 "metadata": {
  "kernelspec": {
   "display_name": "Python 3 (ipykernel)",
   "language": "python",
   "name": "python3"
  },
  "language_info": {
   "codemirror_mode": {
    "name": "ipython",
    "version": 3
   },
   "file_extension": ".py",
   "mimetype": "text/x-python",
   "name": "python",
   "nbconvert_exporter": "python",
   "pygments_lexer": "ipython3",
   "version": "3.9.7"
  }
 },
 "nbformat": 4,
 "nbformat_minor": 5
}
