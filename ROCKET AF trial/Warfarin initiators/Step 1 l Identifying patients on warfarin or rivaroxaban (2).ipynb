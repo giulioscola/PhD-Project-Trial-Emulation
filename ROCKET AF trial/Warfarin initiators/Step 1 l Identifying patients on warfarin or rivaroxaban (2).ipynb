{
 "cells": [
  {
   "cell_type": "code",
   "execution_count": null,
   "id": "667980f9",
   "metadata": {},
   "outputs": [],
   "source": [
    "import pickle\n",
    "import json\n",
    "import networkx as nx\n",
    "import datetime\n",
    "import pandas\n",
    "import pandas as pd \n",
    "from tqdm import tqdm\n",
    "import numpy as np"
   ]
  },
  {
   "cell_type": "markdown",
   "id": "d22ddb93",
   "metadata": {},
   "source": [
    "# Load Atrial Fibrillation (AF) Patient IDs"
   ]
  },
  {
   "cell_type": "code",
   "execution_count": null,
   "id": "a44bf22e",
   "metadata": {},
   "outputs": [],
   "source": [
    "af_patients = pd.read_csv('/projects/ROCKET AF/1A/data extraction/af_ids.csv')\n",
    "af_ids = list(af_patients['af_ids'])\n",
    "len(af_ids)"
   ]
  },
  {
   "cell_type": "markdown",
   "id": "59eda07c",
   "metadata": {},
   "source": [
    "# Step 1: Identifying AF Patients on Warfarin Using Structured Data"
   ]
  },
  {
   "cell_type": "code",
   "execution_count": null,
   "id": "f93db55c",
   "metadata": {},
   "outputs": [],
   "source": [
    "df = pd.read_csv('/projects/data/GS/AF/orders.csv') # Load the orders data from a CSV file\n",
    "df = df[['client_idcode', 'order_name', 'order_summaryline', 'order_entered', 'order_arrivaldtm']] # Select specific columns\n",
    "af = df['client_idcode'].isin(af_ids) # Identify AF patients by matching 'client_idcode' with 'af_ids'\n",
    "df = df[af] # Filter the DataFrame to only keep AF patients' orders\n",
    "df.shape # Display the shape (number of rows and columns) of the resulting DataFrame"
   ]
  },
  {
   "cell_type": "code",
   "execution_count": null,
   "id": "84be2e61",
   "metadata": {},
   "outputs": [],
   "source": [
    "df.head()"
   ]
  },
  {
   "cell_type": "code",
   "execution_count": null,
   "id": "9fe9b803",
   "metadata": {},
   "outputs": [],
   "source": [
    "df['order_name'].unique()"
   ]
  },
  {
   "cell_type": "code",
   "execution_count": null,
   "id": "f5264a08",
   "metadata": {},
   "outputs": [],
   "source": [
    "# Clean and standardize the 'order_name' column to create 'order' column\n",
    "\n",
    "df['order'] = df['order_name'].str.upper() # Step 1: Create a new 'order' column by converting 'order_name' to uppercase\n",
    "df['order'] = df['order'].str.replace('[^\\w\\s]', '', regex=True)  # Step 2: Remove special characters but keep white spaces\n",
    "df['order'] = df['order'].str.replace(' +', ' ', regex=True) # Step 3: Normalize multiple consecutive spaces to a single space"
   ]
  },
  {
   "cell_type": "code",
   "execution_count": null,
   "id": "0abc2c09",
   "metadata": {},
   "outputs": [],
   "source": [
    "df.head()"
   ]
  },
  {
   "cell_type": "code",
   "execution_count": null,
   "id": "d52e0fb7",
   "metadata": {},
   "outputs": [],
   "source": [
    "# Filter data to only keep patients with 'WARFARIN TABLET' orders\n",
    "\n",
    "order = ['WARFARIN TABLET']\n",
    "keep = []\n",
    "for index, row in df.iterrows():\n",
    "    keep.append(any([x in row['order'] for x  in order]))\n",
    "    \n",
    "df = df.loc[keep] \n",
    "df.shape"
   ]
  },
  {
   "cell_type": "code",
   "execution_count": null,
   "id": "98f0885b",
   "metadata": {},
   "outputs": [],
   "source": [
    "df.head()"
   ]
  },
  {
   "cell_type": "code",
   "execution_count": null,
   "id": "0a04e398",
   "metadata": {},
   "outputs": [],
   "source": [
    "# Only keeping the first warfarin prescription order \n",
    "\n",
    "df['order_arrivaldtm'] = pd.to_datetime(df['order_arrivaldtm'], utc=True).dt.date \n",
    "min_dates = df.groupby('client_idcode')['order_arrivaldtm'].transform('min')\n",
    "df = df[df['order_arrivaldtm'] == min_dates]\n",
    "df.shape"
   ]
  },
  {
   "cell_type": "code",
   "execution_count": null,
   "id": "bc28ce34",
   "metadata": {},
   "outputs": [],
   "source": [
    "# Removing patients with a mention of those words below in their oder_summaryline\n",
    "\n",
    "df['order_summaryline_b'] = df['order_summaryline'].str.upper()\n",
    "\n",
    "matches = ['TWICE','HELD', 'ON HOLD', 'STOPPED', 'STOP', 'WITHHELD', 'WITHHOLD', 'INCREASED', 'RESTARTED', 'INCREASE',\n",
    "           'DECREASED', 'DECREASE','BD', 'B.D.', 'TDS', 'T.D.S.', 'DISCONTINUED', 'DISCONTINUE']\n",
    "ids_to_exclude = set()\n",
    "\n",
    "for i,row in tqdm(df.iterrows()):\n",
    "    if any(x in df.loc[i,'order_summaryline_b'] for x in matches):\n",
    "        ids_to_exclude.add(df.loc[i,'client_idcode']) "
   ]
  },
  {
   "cell_type": "code",
   "execution_count": null,
   "id": "03fcfd5f",
   "metadata": {},
   "outputs": [],
   "source": [
    "len(ids_to_exclude)"
   ]
  },
  {
   "cell_type": "code",
   "execution_count": null,
   "id": "cfa8be99",
   "metadata": {},
   "outputs": [],
   "source": [
    "df = df[~df.client_idcode.isin(ids_to_exclude)]\n",
    "df.shape"
   ]
  },
  {
   "cell_type": "code",
   "execution_count": null,
   "id": "20ebb896",
   "metadata": {},
   "outputs": [],
   "source": [
    "df.head()"
   ]
  },
  {
   "cell_type": "code",
   "execution_count": null,
   "id": "54e21a3e",
   "metadata": {},
   "outputs": [],
   "source": [
    "# Only keeping patients with a mention of 'INR'  in their oder_summaryline\n",
    "\n",
    "terms = ['INR']\n",
    "keep = []\n",
    "for index, row in df.iterrows():\n",
    "    keep.append(any([x in row['order_summaryline_b'] for x  in terms]))\n",
    "\n",
    "df = df.loc[keep] \n",
    "df.shape    "
   ]
  },
  {
   "cell_type": "code",
   "execution_count": null,
   "id": "6b547ce6",
   "metadata": {},
   "outputs": [],
   "source": [
    "df['order_name'].unique()"
   ]
  },
  {
   "cell_type": "code",
   "execution_count": null,
   "id": "0acefcd3",
   "metadata": {},
   "outputs": [],
   "source": [
    "# Identify and keep only the first row among duplicates\n",
    "\n",
    "df = df[~df.duplicated(subset='client_idcode')]\n",
    "df.reset_index(drop=True, inplace=True)\n",
    "df.shape"
   ]
  },
  {
   "cell_type": "code",
   "execution_count": null,
   "id": "c52ef7f2",
   "metadata": {},
   "outputs": [],
   "source": [
    "duplicates = df['client_idcode'].duplicated()\n",
    "duplicates.value_counts()"
   ]
  },
  {
   "cell_type": "code",
   "execution_count": null,
   "id": "d26448d8",
   "metadata": {},
   "outputs": [],
   "source": [
    "df.head()"
   ]
  },
  {
   "cell_type": "code",
   "execution_count": null,
   "id": "f29f28c6",
   "metadata": {},
   "outputs": [],
   "source": [
    "df.iloc[940,2]"
   ]
  },
  {
   "cell_type": "code",
   "execution_count": null,
   "id": "9088c255",
   "metadata": {},
   "outputs": [],
   "source": [
    "df.iloc[0,2]"
   ]
  },
  {
   "cell_type": "code",
   "execution_count": null,
   "id": "11a6ad24",
   "metadata": {},
   "outputs": [],
   "source": [
    "df.iloc[1000,2]"
   ]
  },
  {
   "cell_type": "code",
   "execution_count": null,
   "id": "5036a438",
   "metadata": {},
   "outputs": [],
   "source": [
    "df.iloc[4000,2]"
   ]
  },
  {
   "cell_type": "markdown",
   "id": "94b22e30",
   "metadata": {},
   "source": [
    "# Step 2: Identifying AF Patients on Warfarin Using Unstructured Data"
   ]
  },
  {
   "cell_type": "code",
   "execution_count": null,
   "id": "4710da47",
   "metadata": {},
   "outputs": [],
   "source": [
    "def graph_from_onto(onto):\n",
    "    G = nx.DiGraph()\n",
    "    cl_edges = []\n",
    "    for s, ts in onto.items():\n",
    "        for t in ts:\n",
    "            cl_edges.append((s.replace('S-', ''), t.replace('S-', '')))\n",
    "    G.add_edges_from(cl_edges)\n",
    "    return G\n",
    "\n",
    "def load_onto(o):\n",
    "    with open(f'/projects/data/GS/{o}', 'rb') as f:\n",
    "        onto = pickle.load(f)\n",
    "    G = graph_from_onto(onto)\n",
    "    return G\n",
    "\n",
    "def expand_codes(onto, codes):\n",
    "    expanded = {}\n",
    "    for name, top_codes in codes.items():\n",
    "        expanded[name] = set()\n",
    "        for c in top_codes:\n",
    "            expanded[name].add(c)\n",
    "            if c in onto:\n",
    "                expanded[name].update(nx.ancestors(onto, c))\n",
    "            else:\n",
    "                print(\"NOT FOUND:\", c, name)\n",
    "        print(name, len(top_codes), len(expanded[name]))\n",
    "    return expanded"
   ]
  },
  {
   "cell_type": "code",
   "execution_count": null,
   "id": "4e1a10ca",
   "metadata": {},
   "outputs": [],
   "source": [
    "onto = load_onto('isa_rela_ch2pt_202009.pickle')"
   ]
  },
  {
   "cell_type": "code",
   "execution_count": null,
   "id": "abd176bc",
   "metadata": {},
   "outputs": [],
   "source": [
    "# entering the SNOMED codes for warfarin\n",
    "\n",
    "warfarin = {\n",
    "    'Warfarin' : ['372756006', '777947006']\n",
    "}"
   ]
  },
  {
   "cell_type": "code",
   "execution_count": null,
   "id": "a2ec1f64",
   "metadata": {},
   "outputs": [],
   "source": [
    "warfarin = expand_codes(onto,warfarin)"
   ]
  },
  {
   "cell_type": "code",
   "execution_count": null,
   "id": "0beb568d",
   "metadata": {},
   "outputs": [],
   "source": [
    "warfarin_codes = set()\n",
    "for x in warfarin.values():\n",
    "    warfarin_codes.update(x)"
   ]
  },
  {
   "cell_type": "code",
   "execution_count": null,
   "id": "7843d825",
   "metadata": {},
   "outputs": [],
   "source": [
    "%%time \n",
    "with open('/projects/data/GS/pt2cui_pos_dates.pickle', 'rb') as f:\n",
    "    pt2cui_pos_dates = pickle.load(f)"
   ]
  },
  {
   "cell_type": "code",
   "execution_count": null,
   "id": "d90fc18d",
   "metadata": {},
   "outputs": [],
   "source": [
    "# This function identifies AF patients with 2 mentions of warfarin\n",
    "\n",
    "def first_date_for_code_list(pt_data, codes):\n",
    "    first = None\n",
    "    for x in codes:\n",
    "        if x in pt_data and len(pt_data[x])>=2:  \n",
    "            if first == None:\n",
    "                first = min(pt_data[x])\n",
    "            else:\n",
    "                first = min(first, min(pt_data[x]))\n",
    "    return first\n",
    "\n",
    "first_mention_warfarin = {}\n",
    "for pt in af_ids:\n",
    "    pt_data = pt2cui_pos_dates.get(pt, {})\n",
    "    first = first_date_for_code_list(pt_data, warfarin_codes) #\n",
    "    first_mention_warfarin[pt] = first"
   ]
  },
  {
   "cell_type": "code",
   "execution_count": null,
   "id": "366f379f",
   "metadata": {},
   "outputs": [],
   "source": [
    "# Filter out the None values (i.e. the non initiators)\n",
    "    \n",
    "filtered_first_mention_warfarin = {k: v for k, v in first_mention_warfarin.items() if v is not None}"
   ]
  },
  {
   "cell_type": "code",
   "execution_count": null,
   "id": "83b0f4e3",
   "metadata": {},
   "outputs": [],
   "source": [
    "df_unstructured_data = pd.DataFrame(filtered_first_mention_warfarin.keys(), columns = ['client_idcode'] )\n",
    "df_unstructured_data['warfarin_prescription'] = df_unstructured_data['client_idcode'].map(filtered_first_mention_warfarin)\n",
    "df_unstructured_data['warfarin_prescription'] = pd.to_datetime(df_unstructured_data['warfarin_prescription'], utc=True).dt.date"
   ]
  },
  {
   "cell_type": "code",
   "execution_count": null,
   "id": "1ec657f4",
   "metadata": {},
   "outputs": [],
   "source": [
    "df_unstructured_data.shape"
   ]
  },
  {
   "cell_type": "code",
   "execution_count": null,
   "id": "b365a2bc",
   "metadata": {},
   "outputs": [],
   "source": [
    "df_unstructured_data.head()"
   ]
  },
  {
   "cell_type": "markdown",
   "id": "96b00074",
   "metadata": {},
   "source": [
    "# Step 3: Comparing the structured and unstructured data"
   ]
  },
  {
   "cell_type": "code",
   "execution_count": null,
   "id": "ca297282",
   "metadata": {},
   "outputs": [],
   "source": [
    "# Keeping patients with no major difference between stuctured and unstrctured warfarin presctiption dates: remove patients if warfarin was mentioned in clinical documents  >=91 days before a warfarin order arrived\n",
    "\n",
    "\n",
    "def comparison(df1,df2):\n",
    "    '''\n",
    "    this function returns \n",
    "    :param codes:\n",
    "    :return data: \n",
    "    '''\n",
    "    df = pd.merge(df1, df2, on='client_idcode', how='outer') \n",
    "    df['difference'] =  (pd.to_datetime(df.order_arrivaldtm) - pd.to_datetime(df.warfarin_prescription)).dt.days\n",
    "    df = df.drop(df[df.difference >= 91].index) \n",
    "    df.reset_index(drop=True, inplace=True) \n",
    "    # del df ['difference']\n",
    "    return df"
   ]
  },
  {
   "cell_type": "code",
   "execution_count": null,
   "id": "e352c05e",
   "metadata": {},
   "outputs": [],
   "source": [
    "df = comparison(df,df_unstructured_data)"
   ]
  },
  {
   "cell_type": "code",
   "execution_count": null,
   "id": "98972a24",
   "metadata": {},
   "outputs": [],
   "source": [
    "df.head()"
   ]
  },
  {
   "cell_type": "code",
   "execution_count": null,
   "id": "903b6830",
   "metadata": {},
   "outputs": [],
   "source": [
    "df.shape"
   ]
  },
  {
   "cell_type": "code",
   "execution_count": null,
   "id": "ffcf0d7b",
   "metadata": {},
   "outputs": [],
   "source": [
    "df['order_name'].isna().sum()"
   ]
  },
  {
   "cell_type": "code",
   "execution_count": null,
   "id": "0e9564eb",
   "metadata": {},
   "outputs": [],
   "source": [
    "df = df.dropna(subset=['order_name']) # Removing patients with no prescription records (stuctured data)\n",
    "df.shape"
   ]
  },
  {
   "cell_type": "code",
   "execution_count": null,
   "id": "3651579c",
   "metadata": {},
   "outputs": [],
   "source": [
    "warfarin = df[['client_idcode', 'order_arrivaldtm', 'order', 'order_summaryline']]"
   ]
  },
  {
   "cell_type": "code",
   "execution_count": null,
   "id": "22e95069",
   "metadata": {},
   "outputs": [],
   "source": [
    "warfarin.head()"
   ]
  },
  {
   "cell_type": "code",
   "execution_count": null,
   "id": "50a2de35",
   "metadata": {},
   "outputs": [],
   "source": [
    "first_mention_warfarin = dict(zip(warfarin.client_idcode, warfarin.order_arrivaldtm)) \n",
    "len(first_mention_warfarin)"
   ]
  },
  {
   "cell_type": "code",
   "execution_count": null,
   "id": "55ea890a",
   "metadata": {},
   "outputs": [],
   "source": [
    "with open ('/projects/ROCKET AF/1A/warfarin dataextraction/data/first_mention_warfarin.pickle', 'wb') as f:\n",
    "    pickle.dump(first_mention_warfarin,f)"
   ]
  },
  {
   "cell_type": "markdown",
   "id": "fd52e8e0",
   "metadata": {},
   "source": [
    "# Step 1: Identifying AF Patients on Rivaroxaban Using Structured Data"
   ]
  },
  {
   "cell_type": "code",
   "execution_count": null,
   "id": "6ecc04db",
   "metadata": {},
   "outputs": [],
   "source": [
    "df = pd.read_csv('/projects/data/GS/AF/orders.csv')\n",
    "df = df[['client_idcode', 'order_name', 'order_summaryline', 'order_entered', 'order_arrivaldtm']]\n",
    "af = df['client_idcode'].isin(af_ids)\n",
    "df = df[af] \n",
    "df.shape"
   ]
  },
  {
   "cell_type": "code",
   "execution_count": null,
   "id": "989acc5a",
   "metadata": {},
   "outputs": [],
   "source": [
    "df['order_name'].unique()"
   ]
  },
  {
   "cell_type": "code",
   "execution_count": null,
   "id": "f2ef32c6",
   "metadata": {},
   "outputs": [],
   "source": [
    "df['order'] = df['order_name'].str.upper()\n",
    "df['order'] = df['order'].str.replace('[^\\w\\s]', '', regex=True) \n",
    "df['order'] = df['order'].str.replace(' +', ' ', regex=True) "
   ]
  },
  {
   "cell_type": "code",
   "execution_count": null,
   "id": "4d635243",
   "metadata": {},
   "outputs": [],
   "source": [
    "%%time\n",
    "drug_names = ['RIVAROXABAN TABLET']\n",
    "keep = []\n",
    "for index, row in df.iterrows():\n",
    "    keep.append(any([x in row['order'] for x  in drug_names]))"
   ]
  },
  {
   "cell_type": "code",
   "execution_count": null,
   "id": "f464d99d",
   "metadata": {},
   "outputs": [],
   "source": [
    "df = df.loc[keep] \n",
    "df.shape"
   ]
  },
  {
   "cell_type": "code",
   "execution_count": null,
   "id": "456fe388",
   "metadata": {},
   "outputs": [],
   "source": [
    "df['order_arrivaldtm'] = pd.to_datetime(df['order_arrivaldtm'], utc=True).dt.date \n",
    "min_dates = df.groupby('client_idcode')['order_arrivaldtm'].transform('min')\n",
    "df = df[df['order_arrivaldtm'] == min_dates]\n",
    "df.shape"
   ]
  },
  {
   "cell_type": "code",
   "execution_count": null,
   "id": "7740b4d8",
   "metadata": {},
   "outputs": [],
   "source": [
    "df['order_summaryline_b'] = df['order_summaryline'].str.upper()"
   ]
  },
  {
   "cell_type": "code",
   "execution_count": null,
   "id": "dbb3a639",
   "metadata": {},
   "outputs": [],
   "source": [
    "# removing patients with a mention of those words below\n",
    "\n",
    "matches = ['TWICE','HELD', 'ON HOLD', 'STOPPED', 'STOP', 'WITHHELD', 'WITHHOLD', 'INCREASED', 'RESTARTED', 'INCREASE',\n",
    "           'DECREASED', 'DECREASE','BD', 'B.D.', 'TDS', 'T.D.S.', 'DISCONTINUED', 'DISCONTINUE']\n",
    "ids_to_exclude = set()\n",
    "\n",
    "for i,row in tqdm(df.iterrows()):\n",
    "    if any(x in df.loc[i,'order_summaryline_b'] for x in matches):\n",
    "        ids_to_exclude.add(df.loc[i,'client_idcode']) "
   ]
  },
  {
   "cell_type": "code",
   "execution_count": null,
   "id": "e3f48d50",
   "metadata": {},
   "outputs": [],
   "source": [
    "len(ids_to_exclude)"
   ]
  },
  {
   "cell_type": "code",
   "execution_count": null,
   "id": "54e2345a",
   "metadata": {},
   "outputs": [],
   "source": [
    "df = df[~df.client_idcode.isin(ids_to_exclude)]\n",
    "df.shape"
   ]
  },
  {
   "cell_type": "code",
   "execution_count": null,
   "id": "4d3dcf66",
   "metadata": {},
   "outputs": [],
   "source": [
    "for i,row in tqdm(df.iterrows()):\n",
    "    if '[ANTICOAGULANT]' not in df.loc[i,'order_summaryline_b']:\n",
    "        df.loc[i,'dose'] = df.loc[i,'order_summaryline_b'].split('MG')[0].strip()[0:10].strip()\n",
    "    else:\n",
    "        df.loc[i,'dose'] = np.nan\n",
    "\n",
    "for i,row in tqdm(df.iterrows()):\n",
    "    if '[ANTICOAGULANT]' in df.loc[i,'order_summaryline_b']:\n",
    "        if '[PRE-PACK]' not in df.loc[i,'order_summaryline_b']: \n",
    "            df.loc[i,'dose'] = df.loc[i,'order_summaryline_b'].split('[ANTICOAGULANT]')[1].strip()[0:2].strip()\n",
    "        else:\n",
    "            df.loc[i,'dose'] = df.loc[i,'order_summaryline_b'].split('[PRE-PACK]')[1].strip()[0:2].strip()"
   ]
  },
  {
   "cell_type": "code",
   "execution_count": null,
   "id": "83c49456",
   "metadata": {},
   "outputs": [],
   "source": [
    "df['dose'].unique()"
   ]
  },
  {
   "cell_type": "code",
   "execution_count": null,
   "id": "2025db53",
   "metadata": {},
   "outputs": [],
   "source": [
    "df.loc[df['dose'] == '5'].head()"
   ]
  },
  {
   "cell_type": "code",
   "execution_count": null,
   "id": "9c5c5c19",
   "metadata": {},
   "outputs": [],
   "source": [
    "df[df.apply(lambda row: row.astype(str).str.contains('[ANTICOAGULANT]', case=False).any(), axis=1)].head()"
   ]
  },
  {
   "cell_type": "code",
   "execution_count": null,
   "id": "a986b184",
   "metadata": {},
   "outputs": [],
   "source": [
    "df[df.apply(lambda row: row.astype(str).str.contains('[PRE-PACK]', case=False).any(), axis=1)].head()"
   ]
  },
  {
   "cell_type": "code",
   "execution_count": null,
   "id": "5e84dd1c",
   "metadata": {},
   "outputs": [],
   "source": [
    "result = df.groupby('client_idcode')['dose'].apply(lambda x: x.nunique() == 1).reset_index(name='same_dose_value')\n",
    "false_rows = result.loc[result['same_dose_value'] == False]\n",
    "print(false_rows)"
   ]
  },
  {
   "cell_type": "code",
   "execution_count": null,
   "id": "537d36ba",
   "metadata": {},
   "outputs": [],
   "source": [
    "false_ids = result.loc[result['same_dose_value'] == False, 'client_idcode'].tolist()\n",
    "len(false_ids)"
   ]
  },
  {
   "cell_type": "code",
   "execution_count": null,
   "id": "353a8218",
   "metadata": {},
   "outputs": [],
   "source": [
    "df = df[~df['client_idcode'].isin(false_ids)]\n",
    "df.shape"
   ]
  },
  {
   "cell_type": "code",
   "execution_count": null,
   "id": "0dafc1ca",
   "metadata": {},
   "outputs": [],
   "source": [
    "df = df.drop_duplicates(subset='client_idcode')\n",
    "df.reset_index(drop=True, inplace=True)"
   ]
  },
  {
   "cell_type": "code",
   "execution_count": null,
   "id": "f35bc8cd",
   "metadata": {},
   "outputs": [],
   "source": [
    "df.shape"
   ]
  },
  {
   "cell_type": "code",
   "execution_count": null,
   "id": "5cd0676e",
   "metadata": {},
   "outputs": [],
   "source": [
    "df['order_name'].unique()"
   ]
  },
  {
   "cell_type": "markdown",
   "id": "a1c9accd",
   "metadata": {},
   "source": [
    "# Step 2: Indetifying AF patients on Rivaroxaban Using Unstructured data"
   ]
  },
  {
   "cell_type": "code",
   "execution_count": null,
   "id": "c362c236",
   "metadata": {},
   "outputs": [],
   "source": [
    "# entering the SNOMED codes for rivaroxaban\n",
    "\n",
    "rivaroxaban = {\n",
    "    'Rivaroxaban' : ['442031002', '777455008']\n",
    "}"
   ]
  },
  {
   "cell_type": "code",
   "execution_count": null,
   "id": "1fc80652",
   "metadata": {},
   "outputs": [],
   "source": [
    "rivaroxaban = expand_codes(onto,rivaroxaban)"
   ]
  },
  {
   "cell_type": "code",
   "execution_count": null,
   "id": "a4223c01",
   "metadata": {},
   "outputs": [],
   "source": [
    "rivaroxaban_codes = set()\n",
    "for x in rivaroxaban.values():\n",
    "    rivaroxaban_codes.update(x)"
   ]
  },
  {
   "cell_type": "code",
   "execution_count": null,
   "id": "82170f09",
   "metadata": {},
   "outputs": [],
   "source": [
    "# function to identify AF patients with 2 mentions of rivaroxaban\n",
    "\n",
    "def first_date_for_code_list(pt_data, codes):\n",
    "    first = None\n",
    "    for x in codes:\n",
    "        if x in pt_data and len(pt_data[x])>=2:  \n",
    "            if first == None:\n",
    "                first = min(pt_data[x])\n",
    "            else:\n",
    "                first = min(first, min(pt_data[x]))\n",
    "    return first\n",
    "\n",
    "first_mention_rivaroxaban = {}\n",
    "for pt in af_ids:\n",
    "    pt_data = pt2cui_pos_dates.get(pt, {})\n",
    "    first = first_date_for_code_list(pt_data, rivaroxaban_codes) #\n",
    "    first_mention_rivaroxaban[pt] = first"
   ]
  },
  {
   "cell_type": "code",
   "execution_count": null,
   "id": "f5b6e322",
   "metadata": {},
   "outputs": [],
   "source": [
    "filtered_first_mention_rivaroxaban = {k: v for k, v in first_mention_rivaroxaban.items() if v is not None}"
   ]
  },
  {
   "cell_type": "code",
   "execution_count": null,
   "id": "a020c064",
   "metadata": {},
   "outputs": [],
   "source": [
    "df_unstructured_data = pd.DataFrame(filtered_first_mention_rivaroxaban.keys(), columns = ['client_idcode'] )\n",
    "df_unstructured_data['rivaroxaban_prescription'] = df_unstructured_data['client_idcode'].map(filtered_first_mention_rivaroxaban)\n",
    "df_unstructured_data['rivaroxaban_prescription'] = pd.to_datetime(df_unstructured_data['rivaroxaban_prescription'], utc=True).dt.date"
   ]
  },
  {
   "cell_type": "code",
   "execution_count": null,
   "id": "7b820ff8",
   "metadata": {},
   "outputs": [],
   "source": [
    "df_unstructured_data.head()"
   ]
  },
  {
   "cell_type": "code",
   "execution_count": null,
   "id": "bd70128d",
   "metadata": {},
   "outputs": [],
   "source": [
    "df_unstructured_data.shape"
   ]
  },
  {
   "cell_type": "markdown",
   "id": "6af772a3",
   "metadata": {},
   "source": [
    "# Step 3: Comparing the structured and unstructured data"
   ]
  },
  {
   "cell_type": "code",
   "execution_count": null,
   "id": "6c94d63c",
   "metadata": {},
   "outputs": [],
   "source": [
    "# keeping patients with no major difference between stuctured/unstrctured rivaroxaban presctiptions: if warfarin was mentioned in clinical text 91 days before an order being placed patients are removed\n",
    "\n",
    "\n",
    "def comparison(df1,df2):\n",
    "    '''\n",
    "    this function returns \n",
    "    :param codes:\n",
    "    :return data: \n",
    "    '''\n",
    "    df = pd.merge(df1, df2, on='client_idcode', how='outer') \n",
    "    df['difference'] =  (pd.to_datetime(df.order_arrivaldtm) - pd.to_datetime(df.rivaroxaban_prescription)).dt.days\n",
    "    df = df.drop(df[df.difference >= 91].index) \n",
    "    df.reset_index(drop=True, inplace=True) \n",
    "    # del df ['difference']\n",
    "    return df"
   ]
  },
  {
   "cell_type": "code",
   "execution_count": null,
   "id": "fe9a48cc",
   "metadata": {},
   "outputs": [],
   "source": [
    "df = comparison(df,df_unstructured_data)"
   ]
  },
  {
   "cell_type": "code",
   "execution_count": null,
   "id": "a345c614",
   "metadata": {},
   "outputs": [],
   "source": [
    "df.head()"
   ]
  },
  {
   "cell_type": "code",
   "execution_count": null,
   "id": "1545006e",
   "metadata": {},
   "outputs": [],
   "source": [
    "df.shape"
   ]
  },
  {
   "cell_type": "code",
   "execution_count": null,
   "id": "8436fc21",
   "metadata": {},
   "outputs": [],
   "source": [
    "df['order_name'].isna().sum()"
   ]
  },
  {
   "cell_type": "code",
   "execution_count": null,
   "id": "2ee508db",
   "metadata": {},
   "outputs": [],
   "source": [
    "df = df.dropna(subset=['order_name']) \n",
    "df.shape"
   ]
  },
  {
   "cell_type": "code",
   "execution_count": null,
   "id": "673d0daa",
   "metadata": {},
   "outputs": [],
   "source": [
    "df = df[['client_idcode', 'order_arrivaldtm', 'order_name', 'order_summaryline', 'dose']]"
   ]
  },
  {
   "cell_type": "code",
   "execution_count": null,
   "id": "fe190239",
   "metadata": {},
   "outputs": [],
   "source": [
    "df.head()"
   ]
  },
  {
   "cell_type": "code",
   "execution_count": null,
   "id": "ce2bfd11",
   "metadata": {},
   "outputs": [],
   "source": [
    "first_mention_rivaroxaban = dict(zip(df.client_idcode, df.order_arrivaldtm)) \n",
    "len(first_mention_rivaroxaban)"
   ]
  },
  {
   "cell_type": "code",
   "execution_count": null,
   "id": "96d1a131",
   "metadata": {},
   "outputs": [],
   "source": [
    "rivaroxaban_dose = dict(zip(df.client_idcode, df.dose)) \n",
    "len(rivaroxaban_dose)"
   ]
  },
  {
   "cell_type": "code",
   "execution_count": null,
   "id": "9445222b",
   "metadata": {},
   "outputs": [],
   "source": [
    "with open ('/projects/ROCKET AF/1A/rivaroxaban dataextraction/data/first_mention_rivaroxaban.pickle', 'wb') as f:\n",
    "    pickle.dump(first_mention_rivaroxaban,f)"
   ]
  },
  {
   "cell_type": "code",
   "execution_count": null,
   "id": "4634867d",
   "metadata": {},
   "outputs": [],
   "source": [
    "with open ('/projects/ROCKET AF/1A/rivaroxaban dataextraction/data/rivaroxaban_dose.pickle', 'wb') as f:\n",
    "    pickle.dump(rivaroxaban_dose,f)"
   ]
  },
  {
   "cell_type": "code",
   "execution_count": null,
   "id": "d26709a2",
   "metadata": {},
   "outputs": [],
   "source": []
  }
 ],
 "metadata": {
  "kernelspec": {
   "display_name": "Python 3 (ipykernel)",
   "language": "python",
   "name": "python3"
  },
  "language_info": {
   "codemirror_mode": {
    "name": "ipython",
    "version": 3
   },
   "file_extension": ".py",
   "mimetype": "text/x-python",
   "name": "python",
   "nbconvert_exporter": "python",
   "pygments_lexer": "ipython3",
   "version": "3.9.7"
  }
 },
 "nbformat": 4,
 "nbformat_minor": 5
}
