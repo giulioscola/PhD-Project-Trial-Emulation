{
 "cells": [
  {
   "cell_type": "code",
   "execution_count": null,
   "id": "26b0b6d2",
   "metadata": {},
   "outputs": [],
   "source": [
    "import pandas as pd \n",
    "import pickle\n",
    "import datetime\n",
    "import re\n",
    "import networkx as nx\n",
    "import numpy as np\n",
    "from tqdm import tqdm"
   ]
  },
  {
   "cell_type": "markdown",
   "id": "3579fd80",
   "metadata": {},
   "source": [
    "# Atrial fibrillation (AF) patients on warfarin"
   ]
  },
  {
   "cell_type": "code",
   "execution_count": null,
   "id": "c089acda",
   "metadata": {},
   "outputs": [],
   "source": [
    "with open('/projects/ROCKET AF/1A/warfarin dataextraction/data/first_mention_warfarin.pickle', 'rb') as f:\n",
    "    warfarin = pickle.load(f)"
   ]
  },
  {
   "cell_type": "code",
   "execution_count": null,
   "id": "3585033b",
   "metadata": {},
   "outputs": [],
   "source": [
    "len(warfarin)"
   ]
  },
  {
   "cell_type": "code",
   "execution_count": null,
   "id": "e86d6dfe",
   "metadata": {},
   "outputs": [],
   "source": [
    "df = pd.DataFrame(list(warfarin.items()), columns=['client_idcode', 'first_mention_warfarin']) # This code converts a dictionary (warfarin) into a Pandas DataFrame with two columns named 'client_idcode' and 'first_mention_warfarin'\n",
    "df.shape"
   ]
  },
  {
   "cell_type": "code",
   "execution_count": null,
   "id": "1a84663b",
   "metadata": {},
   "outputs": [],
   "source": [
    "df.head()"
   ]
  },
  {
   "cell_type": "code",
   "execution_count": null,
   "id": "1c57fe87",
   "metadata": {},
   "outputs": [],
   "source": [
    "ids = set(df['client_idcode'])\n",
    "len(ids)"
   ]
  },
  {
   "cell_type": "markdown",
   "id": "bc25e662",
   "metadata": {},
   "source": [
    "# AF patients' blood pressure"
   ]
  },
  {
   "cell_type": "code",
   "execution_count": null,
   "id": "0a9321ed",
   "metadata": {},
   "outputs": [],
   "source": [
    "blood_pressure = pd.read_csv('/projects/ROCKET AF/data/blood_pressure.csv')"
   ]
  },
  {
   "cell_type": "code",
   "execution_count": null,
   "id": "aa084d4e",
   "metadata": {},
   "outputs": [],
   "source": [
    "blood_pressure.shape"
   ]
  },
  {
   "cell_type": "code",
   "execution_count": null,
   "id": "72b601b3",
   "metadata": {},
   "outputs": [],
   "source": [
    "blood_pressure.head()"
   ]
  },
  {
   "cell_type": "code",
   "execution_count": null,
   "id": "48a28192",
   "metadata": {},
   "outputs": [],
   "source": [
    "del blood_pressure['Unnamed: 0']"
   ]
  },
  {
   "cell_type": "code",
   "execution_count": null,
   "id": "fd8a0908",
   "metadata": {},
   "outputs": [],
   "source": [
    "blood_pressure.head()"
   ]
  },
  {
   "cell_type": "code",
   "execution_count": null,
   "id": "a9125735",
   "metadata": {},
   "outputs": [],
   "source": [
    "blood_pressure['obscatalogmasteritem_displayname'].unique()"
   ]
  },
  {
   "cell_type": "code",
   "execution_count": null,
   "id": "34646e9b",
   "metadata": {},
   "outputs": [],
   "source": [
    "blood_pressure['observationdocument_createdwhen'].isna().sum()"
   ]
  },
  {
   "cell_type": "code",
   "execution_count": null,
   "id": "a03f13c9",
   "metadata": {},
   "outputs": [],
   "source": [
    "blood_pressure['obscatalogmasteritem_unitofmeasure'].unique()"
   ]
  },
  {
   "cell_type": "markdown",
   "id": "113e6844",
   "metadata": {},
   "source": [
    "# Systolic blood pressure"
   ]
  },
  {
   "cell_type": "code",
   "execution_count": null,
   "id": "fe855b48",
   "metadata": {},
   "outputs": [],
   "source": [
    "systolic_blood_pressure = blood_pressure.loc[blood_pressure['obscatalogmasteritem_displayname'] == 'NEWS_Systolic_BP']\n",
    "systolic_blood_pressure.shape"
   ]
  },
  {
   "cell_type": "code",
   "execution_count": null,
   "id": "268a3505",
   "metadata": {},
   "outputs": [],
   "source": [
    "systolic_blood_pressure.head()"
   ]
  },
  {
   "cell_type": "code",
   "execution_count": null,
   "id": "38b6e39e",
   "metadata": {},
   "outputs": [],
   "source": [
    "systolic_blood_pressure = systolic_blood_pressure[['client_idcode', 'observation_valuetext_analysed', 'observationdocument_createdwhen']]"
   ]
  },
  {
   "cell_type": "code",
   "execution_count": null,
   "id": "063340af",
   "metadata": {},
   "outputs": [],
   "source": [
    "systolic_blood_pressure['first_warfarin_prescription'] = systolic_blood_pressure['client_idcode'].map(warfarin)"
   ]
  },
  {
   "cell_type": "code",
   "execution_count": null,
   "id": "13e2a5cb",
   "metadata": {},
   "outputs": [],
   "source": [
    "systolic_blood_pressure.head()"
   ]
  },
  {
   "cell_type": "code",
   "execution_count": null,
   "id": "f47556e5",
   "metadata": {},
   "outputs": [],
   "source": [
    "systolic_blood_pressure['observationdocument_createdwhen'] = pd.to_datetime(systolic_blood_pressure['observationdocument_createdwhen'], utc=True).dt.date "
   ]
  },
  {
   "cell_type": "code",
   "execution_count": null,
   "id": "64738558",
   "metadata": {},
   "outputs": [],
   "source": [
    "systolic_blood_pressure.head()"
   ]
  },
  {
   "cell_type": "code",
   "execution_count": null,
   "id": "cde98715",
   "metadata": {},
   "outputs": [],
   "source": [
    "systolic_blood_pressure['difference'] = pd.to_datetime(systolic_blood_pressure['first_warfarin_prescription']) - pd.to_datetime(systolic_blood_pressure['observationdocument_createdwhen'])"
   ]
  },
  {
   "cell_type": "code",
   "execution_count": null,
   "id": "7470f91b",
   "metadata": {},
   "outputs": [],
   "source": [
    "systolic_blood_pressure.head()"
   ]
  },
  {
   "cell_type": "code",
   "execution_count": null,
   "id": "3a3c3fad",
   "metadata": {},
   "outputs": [],
   "source": [
    "min_time = datetime.timedelta(days=1) \n",
    "max_time = datetime.timedelta(days=183)\n",
    "t1 = systolic_blood_pressure['difference'] >= min_time \n",
    "t2 = systolic_blood_pressure['difference'] <= max_time\n",
    "in_window = t1 & t2 \n",
    "systolic_blood_pressure['in_window'] = in_window"
   ]
  },
  {
   "cell_type": "code",
   "execution_count": null,
   "id": "2ff4c21f",
   "metadata": {},
   "outputs": [],
   "source": [
    "systolic_blood_pressure = systolic_blood_pressure.loc[systolic_blood_pressure['in_window'] == True]"
   ]
  },
  {
   "cell_type": "code",
   "execution_count": null,
   "id": "b4f9cc35",
   "metadata": {},
   "outputs": [],
   "source": [
    "systolic_blood_pressure.shape"
   ]
  },
  {
   "cell_type": "code",
   "execution_count": null,
   "id": "5ba703f5",
   "metadata": {},
   "outputs": [],
   "source": [
    "systolic_blood_pressure.head()"
   ]
  },
  {
   "cell_type": "code",
   "execution_count": null,
   "id": "0991b9c0",
   "metadata": {},
   "outputs": [],
   "source": [
    "# Group by 'client_idcode' and keep only the rows with the smallest 'difference'\n",
    "\n",
    "min_values = systolic_blood_pressure.groupby('client_idcode')['difference'].transform('min')\n",
    "\n",
    "# Filter the DataFrame to keep only rows with the minimum 'Value'\n",
    "systolic_blood_pressure = systolic_blood_pressure[systolic_blood_pressure['difference'] == min_values]"
   ]
  },
  {
   "cell_type": "code",
   "execution_count": null,
   "id": "afedd308",
   "metadata": {},
   "outputs": [],
   "source": [
    "systolic_blood_pressure.shape"
   ]
  },
  {
   "cell_type": "code",
   "execution_count": null,
   "id": "d18f1c39",
   "metadata": {},
   "outputs": [],
   "source": [
    "systolic_blood_pressure.head()"
   ]
  },
  {
   "cell_type": "code",
   "execution_count": null,
   "id": "63051dc5",
   "metadata": {},
   "outputs": [],
   "source": [
    "systolic_blood_pressure['client_idcode'].nunique()"
   ]
  },
  {
   "cell_type": "code",
   "execution_count": null,
   "id": "e1c8c0b2",
   "metadata": {},
   "outputs": [],
   "source": [
    "systolic_blood_pressure = systolic_blood_pressure.sort_values(by='client_idcode')\n",
    "systolic_blood_pressure.head()"
   ]
  },
  {
   "cell_type": "code",
   "execution_count": null,
   "id": "c31f8d20",
   "metadata": {},
   "outputs": [],
   "source": [
    "# Group by 'client_idcode' and calculate the average of 'systolic_blod_pressure value'\n",
    "\n",
    "systolic_blood_pressure_avg = systolic_blood_pressure.groupby('client_idcode')['observation_valuetext_analysed'].mean().reset_index()\n",
    "    "
   ]
  },
  {
   "cell_type": "code",
   "execution_count": null,
   "id": "1c442d57",
   "metadata": {},
   "outputs": [],
   "source": [
    "systolic_blood_pressure_avg.shape"
   ]
  },
  {
   "cell_type": "code",
   "execution_count": null,
   "id": "e1de7198",
   "metadata": {},
   "outputs": [],
   "source": [
    "systolic_blood_pressure_avg.head()"
   ]
  },
  {
   "cell_type": "code",
   "execution_count": null,
   "id": "7076a205",
   "metadata": {},
   "outputs": [],
   "source": [
    "systolic_blood_pressure_avg = systolic_blood_pressure_avg[systolic_blood_pressure_avg['observation_valuetext_analysed'] > 140]"
   ]
  },
  {
   "cell_type": "code",
   "execution_count": null,
   "id": "cb537484",
   "metadata": {},
   "outputs": [],
   "source": [
    "systolic_blood_pressure_avg.shape"
   ]
  },
  {
   "cell_type": "code",
   "execution_count": null,
   "id": "6facc4ae",
   "metadata": {},
   "outputs": [],
   "source": [
    "systolic_blood_pressure_avg.head()"
   ]
  },
  {
   "cell_type": "code",
   "execution_count": null,
   "id": "b79f7f1f",
   "metadata": {},
   "outputs": [],
   "source": [
    "sbp = dict(zip(systolic_blood_pressure_avg['client_idcode'], systolic_blood_pressure_avg['observation_valuetext_analysed']))"
   ]
  },
  {
   "cell_type": "code",
   "execution_count": null,
   "id": "87533993",
   "metadata": {},
   "outputs": [],
   "source": [
    "with open('/projects/ROCKET AF/1A/warfarin dataextraction/data/sbp.pickle', 'wb') as f:\n",
    "    pickle.dump(sbp,f)"
   ]
  },
  {
   "cell_type": "markdown",
   "id": "10618259",
   "metadata": {},
   "source": [
    "# Diastolic blood pressure"
   ]
  },
  {
   "cell_type": "code",
   "execution_count": null,
   "id": "e162b62c",
   "metadata": {},
   "outputs": [],
   "source": [
    "diastolic_blood_pressure = blood_pressure.loc[blood_pressure['obscatalogmasteritem_displayname'] == 'NEWS_Diastolic_BP']\n",
    "diastolic_blood_pressure.shape"
   ]
  },
  {
   "cell_type": "code",
   "execution_count": null,
   "id": "1648ce14",
   "metadata": {},
   "outputs": [],
   "source": [
    "diastolic_blood_pressure.head()"
   ]
  },
  {
   "cell_type": "code",
   "execution_count": null,
   "id": "a919a83d",
   "metadata": {},
   "outputs": [],
   "source": [
    "diastolic_blood_pressure = diastolic_blood_pressure[['client_idcode', 'observation_valuetext_analysed', 'observationdocument_createdwhen']]"
   ]
  },
  {
   "cell_type": "code",
   "execution_count": null,
   "id": "cf4ac286",
   "metadata": {},
   "outputs": [],
   "source": [
    "diastolic_blood_pressure['first_warfarin_prescription'] = diastolic_blood_pressure['client_idcode'].map(warfarin)"
   ]
  },
  {
   "cell_type": "code",
   "execution_count": null,
   "id": "a36146ea",
   "metadata": {},
   "outputs": [],
   "source": [
    "diastolic_blood_pressure.head()"
   ]
  },
  {
   "cell_type": "code",
   "execution_count": null,
   "id": "332451fc",
   "metadata": {},
   "outputs": [],
   "source": [
    "diastolic_blood_pressure['observationdocument_createdwhen'] = pd.to_datetime(diastolic_blood_pressure['observationdocument_createdwhen'], utc=True).dt.date "
   ]
  },
  {
   "cell_type": "code",
   "execution_count": null,
   "id": "725967f4",
   "metadata": {},
   "outputs": [],
   "source": [
    "diastolic_blood_pressure.head()"
   ]
  },
  {
   "cell_type": "code",
   "execution_count": null,
   "id": "7c8f80af",
   "metadata": {},
   "outputs": [],
   "source": [
    "diastolic_blood_pressure['difference'] = pd.to_datetime(diastolic_blood_pressure['first_warfarin_prescription']) - pd.to_datetime(diastolic_blood_pressure['observationdocument_createdwhen'])"
   ]
  },
  {
   "cell_type": "code",
   "execution_count": null,
   "id": "1db5a9b2",
   "metadata": {},
   "outputs": [],
   "source": [
    "diastolic_blood_pressure.head()"
   ]
  },
  {
   "cell_type": "code",
   "execution_count": null,
   "id": "bc20367a",
   "metadata": {},
   "outputs": [],
   "source": [
    "min_time = datetime.timedelta(days=1) \n",
    "max_time = datetime.timedelta(days=183)\n",
    "t1 = diastolic_blood_pressure['difference'] >= min_time \n",
    "t2 = diastolic_blood_pressure['difference'] <= max_time\n",
    "in_window = t1 & t2 \n",
    "diastolic_blood_pressure['in_window'] = in_window"
   ]
  },
  {
   "cell_type": "code",
   "execution_count": null,
   "id": "b2c84134",
   "metadata": {},
   "outputs": [],
   "source": [
    "diastolic_blood_pressure = diastolic_blood_pressure.loc[diastolic_blood_pressure['in_window'] == True]"
   ]
  },
  {
   "cell_type": "code",
   "execution_count": null,
   "id": "1697cc01",
   "metadata": {},
   "outputs": [],
   "source": [
    "diastolic_blood_pressure.shape"
   ]
  },
  {
   "cell_type": "code",
   "execution_count": null,
   "id": "e6705474",
   "metadata": {},
   "outputs": [],
   "source": [
    "diastolic_blood_pressure.head()"
   ]
  },
  {
   "cell_type": "code",
   "execution_count": null,
   "id": "1c112cff",
   "metadata": {},
   "outputs": [],
   "source": [
    "# Group by 'client_idcode' and keep only the rows with the smallest 'difference'\n",
    "\n",
    "min_values = diastolic_blood_pressure.groupby('client_idcode')['difference'].transform('min')\n",
    "\n",
    "# Filter the DataFrame to keep only rows with the minimum 'Value'\n",
    "diastolic_blood_pressure = diastolic_blood_pressure[diastolic_blood_pressure['difference'] == min_values]"
   ]
  },
  {
   "cell_type": "code",
   "execution_count": null,
   "id": "c51ed494",
   "metadata": {},
   "outputs": [],
   "source": [
    "diastolic_blood_pressure.shape"
   ]
  },
  {
   "cell_type": "code",
   "execution_count": null,
   "id": "4672f4df",
   "metadata": {},
   "outputs": [],
   "source": [
    "diastolic_blood_pressure.head()"
   ]
  },
  {
   "cell_type": "code",
   "execution_count": null,
   "id": "e8d2d819",
   "metadata": {},
   "outputs": [],
   "source": [
    "diastolic_blood_pressure['client_idcode'].nunique()"
   ]
  },
  {
   "cell_type": "code",
   "execution_count": null,
   "id": "3f449d82",
   "metadata": {},
   "outputs": [],
   "source": [
    "diastolic_blood_pressure = diastolic_blood_pressure.sort_values(by='client_idcode')\n",
    "diastolic_blood_pressure.head()"
   ]
  },
  {
   "cell_type": "code",
   "execution_count": null,
   "id": "afe52e26",
   "metadata": {},
   "outputs": [],
   "source": [
    "# Group by 'client_idcode' and calculate the average of 'systolic_blod_pressure value'\n",
    "\n",
    "diastolic_blood_pressure_avg = diastolic_blood_pressure.groupby('client_idcode')['observation_valuetext_analysed'].mean().reset_index()\n",
    "    "
   ]
  },
  {
   "cell_type": "code",
   "execution_count": null,
   "id": "b2b1c8b6",
   "metadata": {},
   "outputs": [],
   "source": [
    "diastolic_blood_pressure_avg.shape"
   ]
  },
  {
   "cell_type": "code",
   "execution_count": null,
   "id": "c36b7256",
   "metadata": {},
   "outputs": [],
   "source": [
    "diastolic_blood_pressure_avg.head()"
   ]
  },
  {
   "cell_type": "code",
   "execution_count": null,
   "id": "e3b1f490",
   "metadata": {},
   "outputs": [],
   "source": [
    "diastolic_blood_pressure_avg = diastolic_blood_pressure_avg[diastolic_blood_pressure_avg['observation_valuetext_analysed'] > 90]"
   ]
  },
  {
   "cell_type": "code",
   "execution_count": null,
   "id": "a19e0c3c",
   "metadata": {},
   "outputs": [],
   "source": [
    "diastolic_blood_pressure_avg.shape"
   ]
  },
  {
   "cell_type": "code",
   "execution_count": null,
   "id": "0476f357",
   "metadata": {},
   "outputs": [],
   "source": [
    "diastolic_blood_pressure_avg.head()"
   ]
  },
  {
   "cell_type": "code",
   "execution_count": null,
   "id": "2b1e716d",
   "metadata": {},
   "outputs": [],
   "source": [
    "dbp = dict(zip(diastolic_blood_pressure_avg['client_idcode'], diastolic_blood_pressure_avg['observation_valuetext_analysed']))"
   ]
  },
  {
   "cell_type": "code",
   "execution_count": null,
   "id": "3497f86b",
   "metadata": {},
   "outputs": [],
   "source": [
    "with open('/projects/ROCKET AF/1A/warfarin dataextraction/data/dbp.pickle', 'wb') as f:\n",
    "    pickle.dump(dbp,f)"
   ]
  },
  {
   "cell_type": "markdown",
   "id": "d3ee99e9",
   "metadata": {},
   "source": [
    "----------"
   ]
  },
  {
   "cell_type": "markdown",
   "id": "ee74a4d8",
   "metadata": {},
   "source": [
    "# AF patients with high blood pressure"
   ]
  },
  {
   "cell_type": "code",
   "execution_count": null,
   "id": "4b82f21b",
   "metadata": {},
   "outputs": [],
   "source": [
    "def graph_from_onto(onto):\n",
    "    G = nx.DiGraph()\n",
    "    cl_edges = []\n",
    "    for s, ts in onto.items():\n",
    "        for t in ts:\n",
    "            cl_edges.append((s.replace('S-', ''), t.replace('S-', '')))\n",
    "    G.add_edges_from(cl_edges)\n",
    "    return G\n",
    "\n",
    "def load_onto(o):\n",
    "    with open(f'/projects/data/GS/{o}', 'rb') as f:\n",
    "        onto = pickle.load(f)\n",
    "    G = graph_from_onto(onto)\n",
    "    return G\n",
    "\n",
    "def expand_codes(onto, codes):\n",
    "    expanded = {}\n",
    "    for name, top_codes in codes.items():\n",
    "        expanded[name] = set()\n",
    "        for c in top_codes:\n",
    "            expanded[name].add(c)\n",
    "            if c in onto:\n",
    "                expanded[name].update(nx.ancestors(onto, c))\n",
    "            else:\n",
    "                print(\"NOT FOUND:\", c, name)\n",
    "        print(name, len(top_codes), len(expanded[name]))\n",
    "    return expanded"
   ]
  },
  {
   "cell_type": "code",
   "execution_count": null,
   "id": "f7b9ee90",
   "metadata": {},
   "outputs": [],
   "source": [
    "onto = load_onto('isa_rela_ch2pt_202009.pickle')"
   ]
  },
  {
   "cell_type": "code",
   "execution_count": null,
   "id": "d0dc6fbe",
   "metadata": {},
   "outputs": [],
   "source": [
    "db = {'hypertension' : ['38341003']}\n",
    "db = expand_codes(onto,db)"
   ]
  },
  {
   "cell_type": "code",
   "execution_count": null,
   "id": "8927d7f4",
   "metadata": {},
   "outputs": [],
   "source": [
    "%%time \n",
    "with open('/projects/data/GS/pt2cui_pos_dates.pickle', 'rb') as f:\n",
    "    pt2cui_pos_dates = pickle.load(f)"
   ]
  },
  {
   "cell_type": "code",
   "execution_count": null,
   "id": "db34cab6",
   "metadata": {},
   "outputs": [],
   "source": [
    "def dates_ex(pt_data, codes):\n",
    "    dates = None\n",
    "    for x in codes:\n",
    "        if x in pt_data and len(pt_data[x])>=2:\n",
    "            if dates == None:\n",
    "                dates = pt_data[x]\n",
    "            else: \n",
    "                dates = dates.union(pt_data[x])\n",
    "    return dates\n",
    "\n",
    "rows = []\n",
    "for pt in ids:\n",
    "    pt_data = pt2cui_pos_dates.get(pt, {})\n",
    "    row = {'client_idcode': pt, 'first_mention_warfarin': warfarin[pt]} \n",
    "    for concept, codes in db.items():\n",
    "        dates = dates_ex(pt_data, codes)\n",
    "        if dates == None:\n",
    "            row[f\"{concept}_date\"] = np.nan\n",
    "        else:\n",
    "            row[f\"{concept}_date\"] = dates\n",
    "    rows.append(row)"
   ]
  },
  {
   "cell_type": "code",
   "execution_count": null,
   "id": "6918674e",
   "metadata": {},
   "outputs": [],
   "source": [
    "df = pd.DataFrame(rows)\n",
    "df.shape"
   ]
  },
  {
   "cell_type": "code",
   "execution_count": null,
   "id": "f3ce8c27",
   "metadata": {},
   "outputs": [],
   "source": [
    "df.head()"
   ]
  },
  {
   "cell_type": "code",
   "execution_count": null,
   "id": "93b34a3b",
   "metadata": {},
   "outputs": [],
   "source": [
    "df.dropna(subset=['hypertension_date'], how='all', inplace = True)"
   ]
  },
  {
   "cell_type": "code",
   "execution_count": null,
   "id": "b0f4ad08",
   "metadata": {},
   "outputs": [],
   "source": [
    "df.head()"
   ]
  },
  {
   "cell_type": "code",
   "execution_count": null,
   "id": "394ebea6",
   "metadata": {},
   "outputs": [],
   "source": [
    "%%time\n",
    "df = df[['client_idcode']].join((df[i].explode() for i in df.iloc[:,1:]))\n",
    "df.shape"
   ]
  },
  {
   "cell_type": "code",
   "execution_count": null,
   "id": "af2e8cc2",
   "metadata": {},
   "outputs": [],
   "source": [
    "df.head()"
   ]
  },
  {
   "cell_type": "code",
   "execution_count": null,
   "id": "5b025212",
   "metadata": {},
   "outputs": [],
   "source": [
    "for k in db.keys():\n",
    "    df[f'{k}_date'] = pd.to_datetime(df[f'{k}_date']).dt.date"
   ]
  },
  {
   "cell_type": "code",
   "execution_count": null,
   "id": "ac81aa22",
   "metadata": {},
   "outputs": [],
   "source": [
    "df.head()"
   ]
  },
  {
   "cell_type": "code",
   "execution_count": null,
   "id": "803c3900",
   "metadata": {},
   "outputs": [],
   "source": [
    "for k in db.keys():\n",
    "    df[f'{k}_delta'] = pd.to_datetime(df['first_mention_warfarin']) - pd.to_datetime(df[f'{k}_date'])"
   ]
  },
  {
   "cell_type": "code",
   "execution_count": null,
   "id": "b74ec05e",
   "metadata": {},
   "outputs": [],
   "source": [
    "df.head()"
   ]
  },
  {
   "cell_type": "code",
   "execution_count": null,
   "id": "37688271",
   "metadata": {},
   "outputs": [],
   "source": [
    "min_time = datetime.timedelta(days=1) \n",
    "max_time = datetime.timedelta(days=183)\n",
    "for k in db.keys():\n",
    "    t1 = df[f'{k}_delta'] >= min_time \n",
    "    t2 = df[f'{k}_delta'] <= max_time\n",
    "    in_window = t1 & t2 \n",
    "    df[f'{k}_in_window'] = in_window"
   ]
  },
  {
   "cell_type": "code",
   "execution_count": null,
   "id": "4206937f",
   "metadata": {},
   "outputs": [],
   "source": [
    "df.head()"
   ]
  },
  {
   "cell_type": "code",
   "execution_count": null,
   "id": "0719d9a9",
   "metadata": {},
   "outputs": [],
   "source": [
    "df = df.loc[df['hypertension_in_window'] == True]"
   ]
  },
  {
   "cell_type": "code",
   "execution_count": null,
   "id": "e71c30e7",
   "metadata": {},
   "outputs": [],
   "source": [
    "df.head()"
   ]
  },
  {
   "cell_type": "code",
   "execution_count": null,
   "id": "55f94010",
   "metadata": {},
   "outputs": [],
   "source": [
    "hypertension = set(df['client_idcode'])\n",
    "len(hypertension)"
   ]
  },
  {
   "cell_type": "code",
   "execution_count": null,
   "id": "1531e610",
   "metadata": {},
   "outputs": [],
   "source": [
    "with open('/projects/ROCKET AF/1A/warfarin dataextraction/data/hypertension.pickle', 'wb') as f:\n",
    "    pickle.dump(hypertension,f)"
   ]
  },
  {
   "cell_type": "code",
   "execution_count": null,
   "id": "a5fc790a",
   "metadata": {},
   "outputs": [],
   "source": []
  }
 ],
 "metadata": {
  "kernelspec": {
   "display_name": "Python 3 (ipykernel)",
   "language": "python",
   "name": "python3"
  },
  "language_info": {
   "codemirror_mode": {
    "name": "ipython",
    "version": 3
   },
   "file_extension": ".py",
   "mimetype": "text/x-python",
   "name": "python",
   "nbconvert_exporter": "python",
   "pygments_lexer": "ipython3",
   "version": "3.9.7"
  }
 },
 "nbformat": 4,
 "nbformat_minor": 5
}
