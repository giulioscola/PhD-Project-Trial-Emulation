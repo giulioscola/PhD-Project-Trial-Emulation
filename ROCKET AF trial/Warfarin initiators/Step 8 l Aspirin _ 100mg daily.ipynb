{
 "cells": [
  {
   "cell_type": "code",
   "execution_count": null,
   "id": "3953f776",
   "metadata": {},
   "outputs": [],
   "source": [
    "import pandas as pd \n",
    "import pickle\n",
    "import datetime\n",
    "import re\n",
    "import networkx as nx\n",
    "import numpy as np\n",
    "from tqdm import tqdm"
   ]
  },
  {
   "cell_type": "markdown",
   "id": "aca309c1",
   "metadata": {},
   "source": [
    "# Atrial fibrillation (AF) patients on warfarin"
   ]
  },
  {
   "cell_type": "code",
   "execution_count": null,
   "id": "4145d325",
   "metadata": {},
   "outputs": [],
   "source": [
    "with open('/projects/ROCKET AF/1A/warfarin dataextraction/data/first_mention_warfarin.pickle', 'rb') as f:\n",
    "    warfarin = pickle.load(f)"
   ]
  },
  {
   "cell_type": "code",
   "execution_count": null,
   "id": "43246367",
   "metadata": {},
   "outputs": [],
   "source": [
    "len(warfarin)"
   ]
  },
  {
   "cell_type": "code",
   "execution_count": null,
   "id": "29d34190",
   "metadata": {},
   "outputs": [],
   "source": [
    "df = pd.DataFrame(list(warfarin.items()), columns=['client_idcode', 'first_mention_warfarin']) # This code converts a dictionary (warfarin) into a Pandas DataFrame with two columns named 'client_idcode' and 'first_mention_warfarin'\n",
    "df.shape"
   ]
  },
  {
   "cell_type": "code",
   "execution_count": null,
   "id": "79acda7d",
   "metadata": {},
   "outputs": [],
   "source": [
    "df.head()"
   ]
  },
  {
   "cell_type": "code",
   "execution_count": null,
   "id": "bbc65a1a",
   "metadata": {},
   "outputs": [],
   "source": [
    "ids = set(df['client_idcode'])\n",
    "len(ids)"
   ]
  },
  {
   "cell_type": "markdown",
   "id": "527e211e",
   "metadata": {},
   "source": [
    "# AF patients on daily aspirin dose greater than 100mg"
   ]
  },
  {
   "cell_type": "code",
   "execution_count": null,
   "id": "7006de58",
   "metadata": {},
   "outputs": [],
   "source": [
    "aspirin = pd.read_csv('/projects/ROCKET AF/data/aspirin.csv')"
   ]
  },
  {
   "cell_type": "code",
   "execution_count": null,
   "id": "fb9bac44",
   "metadata": {},
   "outputs": [],
   "source": [
    "aspirin.head()"
   ]
  },
  {
   "cell_type": "code",
   "execution_count": null,
   "id": "e6f9a0ce",
   "metadata": {},
   "outputs": [],
   "source": [
    "aspirin.shape"
   ]
  },
  {
   "cell_type": "code",
   "execution_count": null,
   "id": "d4dc8924",
   "metadata": {},
   "outputs": [],
   "source": [
    "aspirin['first_warfarin_prescription'] = aspirin['client_idcode'].map(warfarin)"
   ]
  },
  {
   "cell_type": "code",
   "execution_count": null,
   "id": "b13d1ac1",
   "metadata": {},
   "outputs": [],
   "source": [
    "aspirin.head()"
   ]
  },
  {
   "cell_type": "code",
   "execution_count": null,
   "id": "09744b3d",
   "metadata": {},
   "outputs": [],
   "source": [
    "aspirin = aspirin[aspirin['first_warfarin_prescription'].notna()]\n",
    "aspirin.shape"
   ]
  },
  {
   "cell_type": "code",
   "execution_count": null,
   "id": "67473340",
   "metadata": {},
   "outputs": [],
   "source": [
    "aspirin['client_idcode'].nunique()"
   ]
  },
  {
   "cell_type": "code",
   "execution_count": null,
   "id": "009b3864",
   "metadata": {},
   "outputs": [],
   "source": [
    "aspirin = aspirin[['client_idcode', 'order_name', 'order_arrivaldtm', 'order_summaryline', 'first_warfarin_prescription' ]]"
   ]
  },
  {
   "cell_type": "code",
   "execution_count": null,
   "id": "2c14ff96",
   "metadata": {},
   "outputs": [],
   "source": [
    "aspirin.head()"
   ]
  },
  {
   "cell_type": "code",
   "execution_count": null,
   "id": "2a97dae2",
   "metadata": {},
   "outputs": [],
   "source": [
    "aspirin['order_summaryline'].nunique()"
   ]
  },
  {
   "cell_type": "code",
   "execution_count": null,
   "id": "980ecaca",
   "metadata": {},
   "outputs": [],
   "source": [
    "aspirin['order_summaryline'] = aspirin['order_summaryline'].str.lower()"
   ]
  },
  {
   "cell_type": "code",
   "execution_count": null,
   "id": "92ea9974",
   "metadata": {},
   "outputs": [],
   "source": [
    "aspirin.head()"
   ]
  },
  {
   "cell_type": "code",
   "execution_count": null,
   "id": "1bb2c3ed",
   "metadata": {},
   "outputs": [],
   "source": [
    "aspirin['order_name'].unique()"
   ]
  },
  {
   "cell_type": "code",
   "execution_count": null,
   "id": "0534389b",
   "metadata": {},
   "outputs": [],
   "source": [
    "aspirin['dose'] = aspirin['order_summaryline'].str.lower().str.slice(stop=3).str.strip()"
   ]
  },
  {
   "cell_type": "code",
   "execution_count": null,
   "id": "ad7b47b2",
   "metadata": {},
   "outputs": [],
   "source": [
    "aspirin.head()"
   ]
  },
  {
   "cell_type": "code",
   "execution_count": null,
   "id": "e8097c52",
   "metadata": {},
   "outputs": [],
   "source": [
    "aspirin['dose'].unique()"
   ]
  },
  {
   "cell_type": "code",
   "execution_count": null,
   "id": "924b2736",
   "metadata": {},
   "outputs": [],
   "source": [
    "aspirin.loc[aspirin['dose'] == '[no']"
   ]
  },
  {
   "cell_type": "code",
   "execution_count": null,
   "id": "70fa4f36",
   "metadata": {},
   "outputs": [],
   "source": [
    "aspirin.loc[aspirin['dose'] == '(pr']"
   ]
  },
  {
   "cell_type": "code",
   "execution_count": null,
   "id": "9b6b8b58",
   "metadata": {},
   "outputs": [],
   "source": [
    "aspirin.loc[aspirin['dose'] == '[pr']"
   ]
  },
  {
   "cell_type": "code",
   "execution_count": null,
   "id": "b2fbf1a0",
   "metadata": {},
   "outputs": [],
   "source": [
    "for i,row in tqdm(aspirin.iterrows()):\n",
    "    if '[non formulary]' not in aspirin.loc[i,'order_summaryline'] and '(prescribed in icu)' not in aspirin.loc[i,'order_summaryline'] and '[pre-pack]' not in aspirin.loc[i,'order_summaryline'] and '[non-formulary]' not in aspirin.loc[i,'order_summaryline'] :\n",
    "        aspirin.at[i, 'dose'] = aspirin.loc[i,'order_summaryline'].split('mg')[0].strip()[:3]\n",
    "    else:\n",
    "        aspirin.at[i,'dose'] = np.nan       "
   ]
  },
  {
   "cell_type": "code",
   "execution_count": null,
   "id": "cb039e98",
   "metadata": {},
   "outputs": [],
   "source": [
    "aspirin.head()"
   ]
  },
  {
   "cell_type": "code",
   "execution_count": null,
   "id": "80ef8938",
   "metadata": {},
   "outputs": [],
   "source": [
    "aspirin['dose'].unique()"
   ]
  },
  {
   "cell_type": "code",
   "execution_count": null,
   "id": "acc3a417",
   "metadata": {},
   "outputs": [],
   "source": [
    "aspirin['dose'].isna().sum()"
   ]
  },
  {
   "cell_type": "code",
   "execution_count": null,
   "id": "61b5a66a",
   "metadata": {},
   "outputs": [],
   "source": [
    "for i,row in tqdm(aspirin.iterrows()):\n",
    "    if '[non formulary]' in aspirin.loc[i,'order_summaryline']:\n",
    "        aspirin.loc[i,'dose'] = aspirin.loc[i,'order_summaryline'].split('[non formulary]')[1].strip()[:3].strip()"
   ]
  },
  {
   "cell_type": "code",
   "execution_count": null,
   "id": "123375dc",
   "metadata": {},
   "outputs": [],
   "source": [
    "aspirin['dose'].isna().sum()"
   ]
  },
  {
   "cell_type": "code",
   "execution_count": null,
   "id": "7d2a608c",
   "metadata": {},
   "outputs": [],
   "source": [
    "aspirin['dose'].unique()"
   ]
  },
  {
   "cell_type": "code",
   "execution_count": null,
   "id": "02ac7c9f",
   "metadata": {},
   "outputs": [],
   "source": [
    "aspirin.loc[aspirin['dose'] == '1 t']"
   ]
  },
  {
   "cell_type": "code",
   "execution_count": null,
   "id": "5e588ad3",
   "metadata": {},
   "outputs": [],
   "source": [
    "aspirin.loc[71272, 'order_summaryline']"
   ]
  },
  {
   "cell_type": "code",
   "execution_count": null,
   "id": "aba4ff9b",
   "metadata": {},
   "outputs": [],
   "source": [
    "aspirin.loc[aspirin['dose'] == '1 t', 'dose'] = '75'"
   ]
  },
  {
   "cell_type": "code",
   "execution_count": null,
   "id": "c6258702",
   "metadata": {},
   "outputs": [],
   "source": [
    "aspirin.loc[71272]"
   ]
  },
  {
   "cell_type": "code",
   "execution_count": null,
   "id": "1b67b7eb",
   "metadata": {},
   "outputs": [],
   "source": [
    "aspirin.loc[aspirin['dose'] == '0']"
   ]
  },
  {
   "cell_type": "code",
   "execution_count": null,
   "id": "9916b579",
   "metadata": {},
   "outputs": [],
   "source": [
    "aspirin['dose'].unique()"
   ]
  },
  {
   "cell_type": "code",
   "execution_count": null,
   "id": "ba61f548",
   "metadata": {},
   "outputs": [],
   "source": [
    "for i,row in tqdm(aspirin.iterrows()):\n",
    "    if '[non-formulary]' in aspirin.loc[i,'order_summaryline']:\n",
    "        aspirin.loc[i,'dose'] = aspirin.loc[i,'order_summaryline'].split('[non-formulary]')[1].strip()[:3].strip()"
   ]
  },
  {
   "cell_type": "code",
   "execution_count": null,
   "id": "22f231dc",
   "metadata": {},
   "outputs": [],
   "source": [
    "aspirin['dose'].isna().sum()"
   ]
  },
  {
   "cell_type": "code",
   "execution_count": null,
   "id": "8d699cba",
   "metadata": {},
   "outputs": [],
   "source": [
    "aspirin['dose'].unique()"
   ]
  },
  {
   "cell_type": "code",
   "execution_count": null,
   "id": "23239800",
   "metadata": {},
   "outputs": [],
   "source": [
    "aspirin.loc[aspirin['dose'] == '57']"
   ]
  },
  {
   "cell_type": "code",
   "execution_count": null,
   "id": "16a3a373",
   "metadata": {},
   "outputs": [],
   "source": [
    "aspirin.loc[aspirin['dose'] == '1 t', 'dose'] = '300'"
   ]
  },
  {
   "cell_type": "code",
   "execution_count": null,
   "id": "cbefdff6",
   "metadata": {},
   "outputs": [],
   "source": [
    "aspirin['dose'].unique()"
   ]
  },
  {
   "cell_type": "code",
   "execution_count": null,
   "id": "24aa5994",
   "metadata": {},
   "outputs": [],
   "source": [
    "for i,row in tqdm(aspirin.iterrows()):\n",
    "    if '(prescribed in icu)' in aspirin.loc[i,'order_summaryline']:\n",
    "        aspirin.loc[i,'dose'] = aspirin.loc[i,'order_summaryline'].split('(prescribed in icu)')[1].strip()[:3].strip()"
   ]
  },
  {
   "cell_type": "code",
   "execution_count": null,
   "id": "e3fcacee",
   "metadata": {},
   "outputs": [],
   "source": [
    "aspirin['dose'].unique()"
   ]
  },
  {
   "cell_type": "code",
   "execution_count": null,
   "id": "3009a410",
   "metadata": {},
   "outputs": [],
   "source": [
    "aspirin['dose'].isna().sum()"
   ]
  },
  {
   "cell_type": "code",
   "execution_count": null,
   "id": "39d0ac25",
   "metadata": {},
   "outputs": [],
   "source": [
    "for i,row in tqdm(aspirin.iterrows()):\n",
    "    if '[pre-pack]' in aspirin.loc[i,'order_summaryline']:\n",
    "        aspirin.loc[i,'dose'] = aspirin.loc[i,'order_summaryline'].split('[pre-pack]')[1].strip()[:3].strip()"
   ]
  },
  {
   "cell_type": "code",
   "execution_count": null,
   "id": "77ac7650",
   "metadata": {},
   "outputs": [],
   "source": [
    "aspirin['dose'].unique()"
   ]
  },
  {
   "cell_type": "code",
   "execution_count": null,
   "id": "fc179bda",
   "metadata": {},
   "outputs": [],
   "source": [
    "aspirin['dose'].isna().sum()"
   ]
  },
  {
   "cell_type": "code",
   "execution_count": null,
   "id": "329d1da7",
   "metadata": {},
   "outputs": [],
   "source": [
    "aspirin.info()"
   ]
  },
  {
   "cell_type": "code",
   "execution_count": null,
   "id": "b6cb2c1b",
   "metadata": {},
   "outputs": [],
   "source": [
    "aspirin['dose'] = aspirin['dose'].astype(int)"
   ]
  },
  {
   "cell_type": "code",
   "execution_count": null,
   "id": "11b51570",
   "metadata": {},
   "outputs": [],
   "source": [
    "aspirin.info()"
   ]
  },
  {
   "cell_type": "code",
   "execution_count": null,
   "id": "8cbbeab6",
   "metadata": {},
   "outputs": [],
   "source": [
    "aspirin.head()"
   ]
  },
  {
   "cell_type": "code",
   "execution_count": null,
   "id": "dd786381",
   "metadata": {},
   "outputs": [],
   "source": [
    "aspirin['dose'].unique()"
   ]
  },
  {
   "cell_type": "code",
   "execution_count": null,
   "id": "fdccf5f6",
   "metadata": {},
   "outputs": [],
   "source": [
    "aspirin = aspirin.loc[aspirin['dose'] > 100]"
   ]
  },
  {
   "cell_type": "code",
   "execution_count": null,
   "id": "8f2c7fe4",
   "metadata": {},
   "outputs": [],
   "source": [
    "aspirin.head()"
   ]
  },
  {
   "cell_type": "code",
   "execution_count": null,
   "id": "0e10d256",
   "metadata": {},
   "outputs": [],
   "source": [
    "aspirin.shape"
   ]
  },
  {
   "cell_type": "code",
   "execution_count": null,
   "id": "d30636db",
   "metadata": {},
   "outputs": [],
   "source": [
    "aspirin.head()"
   ]
  },
  {
   "cell_type": "code",
   "execution_count": null,
   "id": "9b2da0b5",
   "metadata": {},
   "outputs": [],
   "source": [
    "aspirin['order_arrivaldtm'] =  pd.to_datetime(aspirin['order_arrivaldtm'], utc=True).dt.date "
   ]
  },
  {
   "cell_type": "code",
   "execution_count": null,
   "id": "38c17147",
   "metadata": {},
   "outputs": [],
   "source": [
    "aspirin.head()"
   ]
  },
  {
   "cell_type": "code",
   "execution_count": null,
   "id": "1d02788b",
   "metadata": {},
   "outputs": [],
   "source": [
    "aspirin['difference'] = pd.to_datetime(aspirin['first_warfarin_prescription']) - pd.to_datetime(aspirin['order_arrivaldtm'])"
   ]
  },
  {
   "cell_type": "code",
   "execution_count": null,
   "id": "bf6f75a4",
   "metadata": {},
   "outputs": [],
   "source": [
    "aspirin.head()"
   ]
  },
  {
   "cell_type": "code",
   "execution_count": null,
   "id": "6446f03d",
   "metadata": {},
   "outputs": [],
   "source": [
    "min_time = datetime.timedelta(days=1) \n",
    "max_time = datetime.timedelta(days=183)\n",
    "t1 = aspirin['difference'] >= min_time \n",
    "t2 = aspirin['difference'] <= max_time\n",
    "in_window = t1 & t2 \n",
    "aspirin['in_window'] = in_window"
   ]
  },
  {
   "cell_type": "code",
   "execution_count": null,
   "id": "51fbb3cd",
   "metadata": {},
   "outputs": [],
   "source": [
    "aspirin = aspirin.loc[aspirin['in_window'] == True]"
   ]
  },
  {
   "cell_type": "code",
   "execution_count": null,
   "id": "5959b4c7",
   "metadata": {},
   "outputs": [],
   "source": [
    "aspirin.head()"
   ]
  },
  {
   "cell_type": "code",
   "execution_count": null,
   "id": "5fe7a4f2",
   "metadata": {},
   "outputs": [],
   "source": [
    "aspirin.shape"
   ]
  },
  {
   "cell_type": "code",
   "execution_count": null,
   "id": "4b5dbdeb",
   "metadata": {},
   "outputs": [],
   "source": [
    "ids = set(aspirin['client_idcode'])\n",
    "len(ids)"
   ]
  },
  {
   "cell_type": "code",
   "execution_count": null,
   "id": "852bcaa1",
   "metadata": {},
   "outputs": [],
   "source": [
    "with open('/projects/ROCKET AF/1A/warfarin dataextraction/data/aspirin_>_100.pickle', 'wb') as f:\n",
    "    pickle.dump(ids,f)"
   ]
  },
  {
   "cell_type": "code",
   "execution_count": null,
   "id": "0d591ce9",
   "metadata": {},
   "outputs": [],
   "source": []
  }
 ],
 "metadata": {
  "kernelspec": {
   "display_name": "Python 3 (ipykernel)",
   "language": "python",
   "name": "python3"
  },
  "language_info": {
   "codemirror_mode": {
    "name": "ipython",
    "version": 3
   },
   "file_extension": ".py",
   "mimetype": "text/x-python",
   "name": "python",
   "nbconvert_exporter": "python",
   "pygments_lexer": "ipython3",
   "version": "3.9.7"
  }
 },
 "nbformat": 4,
 "nbformat_minor": 5
}
