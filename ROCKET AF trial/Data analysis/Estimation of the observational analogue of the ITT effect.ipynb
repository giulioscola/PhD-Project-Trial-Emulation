{
 "cells": [
  {
   "cell_type": "code",
   "execution_count": null,
   "id": "5457c300-3269-4778-9e05-a199a4ca1373",
   "metadata": {
    "tags": [],
    "vscode": {
     "languageId": "r"
    }
   },
   "outputs": [],
   "source": [
    "library(tableone)\n",
    "library(coxphw)\n",
    "library(survival)\n",
    "library(dplyr)\n",
    "library(ggsurvfit)\n",
    "library(cobalt)\n",
    "library(ggplot2)\n",
    "library(survminer)"
   ]
  },
  {
   "cell_type": "markdown",
   "id": "d22de500-bdfa-4b51-8a1c-e2ab30a3ff43",
   "metadata": {},
   "source": [
    "# Import data"
   ]
  },
  {
   "cell_type": "code",
   "execution_count": null,
   "id": "534f150f-3edd-4519-bccb-c6549ba457a8",
   "metadata": {
    "tags": [],
    "vscode": {
     "languageId": "r"
    }
   },
   "outputs": [],
   "source": [
    "df = read.csv('/home/jovyan/work/ROCKET AF/1A/masterfile_pos_final/masterfiles/df_wide_format_analysis.csv')"
   ]
  },
  {
   "cell_type": "code",
   "execution_count": null,
   "id": "cdeae219-d44f-4cb1-97f2-595a945e16b2",
   "metadata": {
    "tags": [],
    "vscode": {
     "languageId": "r"
    }
   },
   "outputs": [],
   "source": [
    "head(df)"
   ]
  },
  {
   "cell_type": "code",
   "execution_count": null,
   "id": "45356ab2-cb38-4644-bc3d-ce6db6a48c8d",
   "metadata": {
    "tags": [],
    "vscode": {
     "languageId": "r"
    }
   },
   "outputs": [],
   "source": [
    "options(scipen=999) # disable printing results in scientific notation"
   ]
  },
  {
   "cell_type": "code",
   "execution_count": null,
   "id": "f9dc8d1c-b0d4-4ea5-8795-d42e89453f5e",
   "metadata": {
    "tags": [],
    "vscode": {
     "languageId": "r"
    }
   },
   "outputs": [],
   "source": [
    "head(df)"
   ]
  },
  {
   "cell_type": "markdown",
   "id": "26954f66-2831-4975-931e-db17050334bd",
   "metadata": {},
   "source": [
    "# Kaplan-Meier Analysis"
   ]
  },
  {
   "cell_type": "code",
   "execution_count": null,
   "id": "d45fa41f-3f48-4c26-8211-ece6b9ec0d4b",
   "metadata": {
    "tags": [],
    "vscode": {
     "languageId": "r"
    }
   },
   "outputs": [],
   "source": [
    "# Fit the Kaplan-Meier survival curves to the 'df' dataset stratified by the 'trt' variabale \n",
    "\n",
    "summary(survfit(Surv(time, status) ~ trt, data = df), times = 840)"
   ]
  },
  {
   "cell_type": "code",
   "execution_count": null,
   "id": "8decbbff-edda-477b-9a59-34dc288f54a5",
   "metadata": {
    "tags": [],
    "vscode": {
     "languageId": "r"
    }
   },
   "outputs": [],
   "source": [
    "\n",
    "\n",
    "fit.obj <- survfit(Surv(time, status) ~ trt, \n",
    "                   data = df)\n",
    "\n",
    "p1 <- ggsurvplot(\n",
    "  fit.obj,                     \n",
    "  data = df, \n",
    "  risk.table = FALSE,   # do not include a risk table in the plot\n",
    "  pval = FALSE, # do not include p-values in the plot\n",
    "  conf.int = TRUE, # do not display confidence intervals\n",
    "  legend.labs = c(\"No Spiro\",\"Spiro\"), # customize legend labels\n",
    "  font.legend = c(10), # set font size for the legend\n",
    "  xlim = c(0,840), # set the x-axis limits\n",
    "  break.time.by = 100,  # specify time breaks on the x-axis every 43 days\n",
    "  xlab=\"Time in days\", # customize the x-axis label\n",
    "  ylab=\"Survival probability\", # customize the y-axis label\n",
    "  font.xlab = c(12), # set font size for the x-axis label\n",
    "  font.ylab = c(12),  # set font size for the y-axis label\n",
    "  ylim=c(0.65,1), # set the y-axis limits\n",
    "  risk.table.height = 0.3, # specify the height of the risk table\n",
    "  palette = c(\"slategrey\",\"dodgerblue4\")) # customize the color palette\n",
    "\n",
    "p1"
   ]
  },
  {
   "cell_type": "markdown",
   "id": "bce17a90-2301-4b9c-a5d3-d18f028ef490",
   "metadata": {},
   "source": [
    "# Cox Proportional Hazards Model (without confounders)"
   ]
  },
  {
   "cell_type": "code",
   "execution_count": null,
   "id": "a4495398-58ec-4d2d-8947-7e6452246c95",
   "metadata": {
    "tags": [],
    "vscode": {
     "languageId": "r"
    }
   },
   "outputs": [],
   "source": [
    "cox <- coxph(Surv(time, status) ~ as.factor(trt), data = df) \n",
    "summary(cox)"
   ]
  },
  {
   "cell_type": "markdown",
   "id": "60420de5-8be3-46d0-852a-32b4e907eec6",
   "metadata": {},
   "source": [
    "# Cox Proportional Hazards Model (adjusting for confounders using IPTW) - non stabilized weights"
   ]
  },
  {
   "cell_type": "code",
   "execution_count": null,
   "id": "5c169c53-890d-48a8-a8c1-657286dc886a",
   "metadata": {
    "tags": [],
    "vscode": {
     "languageId": "r"
    }
   },
   "outputs": [],
   "source": [
    "# Estimation of propensity scores with a logistic model\n",
    "ps.treatment <- glm(formula = trt==1 ~  age + eGFR + as.factor(gender),\n",
    "                family = binomial(link = 'logit'),\n",
    "                data = df)\n",
    "\n",
    "summary(ps.treatment)"
   ]
  },
  {
   "cell_type": "code",
   "execution_count": null,
   "id": "a1e92951-485c-4dfc-a775-d633594d026c",
   "metadata": {
    "tags": [],
    "vscode": {
     "languageId": "r"
    }
   },
   "outputs": [],
   "source": [
    "#  Estimate propensity scores\n",
    "df$ps_treatment <- predict(ps.treatment, df, type = \"response\")"
   ]
  },
  {
   "cell_type": "code",
   "execution_count": null,
   "id": "9cad610c-9662-44d1-b655-a9dacc9f5e76",
   "metadata": {
    "tags": [],
    "vscode": {
     "languageId": "r"
    }
   },
   "outputs": [],
   "source": [
    "summary(df$ps_treatment[df$trt==1])\n",
    "summary(df$ps_treatment[df$trt==0])"
   ]
  },
  {
   "cell_type": "markdown",
   "id": "b9a10ecc-f736-4e1c-9f40-24b74be84f93",
   "metadata": {},
   "source": [
    "### Estimate the inverse probability weights "
   ]
  },
  {
   "cell_type": "code",
   "execution_count": null,
   "id": "26e4cd22-e40d-4ca0-89cc-5a6a2e5d4747",
   "metadata": {
    "tags": [],
    "vscode": {
     "languageId": "r"
    }
   },
   "outputs": [],
   "source": [
    "df$w_a <- ifelse(df$trt==1,\n",
    "                 1/df$ps_treatment,\n",
    "                 1/(1-df$ps_treatment))"
   ]
  },
  {
   "cell_type": "code",
   "execution_count": null,
   "id": "a241798a-e4c7-47bd-b06c-2a7b0ea6ca1d",
   "metadata": {
    "tags": [],
    "vscode": {
     "languageId": "r"
    }
   },
   "outputs": [],
   "source": [
    "# Min, 25th percentile, median, mean, SD, 75th percentile, and max \n",
    "summary(df$w_a)\n",
    "sd(df$w_a)"
   ]
  },
  {
   "cell_type": "code",
   "execution_count": null,
   "id": "1d8c5e27-1c7b-4610-ab6e-f1dc3715e333",
   "metadata": {
    "tags": [],
    "vscode": {
     "languageId": "r"
    }
   },
   "outputs": [],
   "source": [
    "# Create the histogram\n",
    "hist(df$w_a, main = \"IPTW Weights Distribution\", xlab = \"IPTW Weights\")"
   ]
  },
  {
   "cell_type": "markdown",
   "id": "dfa0cf99-8f23-4113-905c-7d5850b17778",
   "metadata": {},
   "source": [
    "###  Assessing the balance of covariates between treatment groups "
   ]
  },
  {
   "cell_type": "code",
   "execution_count": null,
   "id": "24088f87-3056-4f68-a242-16248c7fe113",
   "metadata": {
    "tags": [],
    "vscode": {
     "languageId": "r"
    }
   },
   "outputs": [],
   "source": [
    "covariates <- subset(df, select = c(\"age\", \"gender\",\"eGFR\"))\n",
    "bal.tab(covariates, treat =df$trt, weights=df$w_a, un=TRUE)"
   ]
  },
  {
   "cell_type": "markdown",
   "id": "30483af0-9c07-4ef2-9831-69f9510d4bb1",
   "metadata": {},
   "source": [
    "###  Fit th weighted Cox proportional hazards model"
   ]
  },
  {
   "cell_type": "code",
   "execution_count": null,
   "id": "b85c0a7e-2951-443d-a71a-e454feb07ea1",
   "metadata": {
    "tags": [],
    "vscode": {
     "languageId": "r"
    }
   },
   "outputs": [],
   "source": [
    "# Fit Weighted Cox Model \n",
    "\n",
    "fit1 <- coxphw(Surv(time, status) ~ as.factor(trt), \n",
    "               data = df,\n",
    "               template = 'PH',\n",
    "               caseweights = df$w_a)\n",
    "\n",
    "summary(fit1)"
   ]
  },
  {
   "cell_type": "code",
   "execution_count": null,
   "id": "6044d032-88ab-4f99-8a31-aac084134254",
   "metadata": {
    "vscode": {
     "languageId": "r"
    }
   },
   "outputs": [],
   "source": []
  }
 ],
 "metadata": {
  "kernelspec": {
   "display_name": "R",
   "language": "R",
   "name": "ir"
  },
  "language_info": {
   "codemirror_mode": "r",
   "file_extension": ".r",
   "mimetype": "text/x-r-source",
   "name": "R",
   "pygments_lexer": "r",
   "version": "4.2.2"
  }
 },
 "nbformat": 4,
 "nbformat_minor": 5
}
