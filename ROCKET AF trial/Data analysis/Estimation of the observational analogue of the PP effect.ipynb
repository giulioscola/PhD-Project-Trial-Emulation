{
 "cells": [
  {
   "cell_type": "code",
   "execution_count": null,
   "id": "5fe9f209-b19a-4e04-b021-046c575f2fc6",
   "metadata": {
    "tags": [],
    "vscode": {
     "languageId": "r"
    }
   },
   "outputs": [],
   "source": [
    "library(tableone)\n",
    "library(ggsurvfit)\n",
    "library(boot)\n",
    "library(dplyr)\n",
    "library(sandwich)\n",
    "library(cobalt)\n",
    "library(speedglm)\n",
    "library(data.table)\n",
    "library(splitstackshape)"
   ]
  },
  {
   "cell_type": "markdown",
   "id": "58ee44e3-57a2-4f83-9e26-17437a13a87d",
   "metadata": {},
   "source": [
    "# Import data"
   ]
  },
  {
   "cell_type": "code",
   "execution_count": null,
   "id": "c1d720cc-e425-49fd-b53f-551194374d2c",
   "metadata": {
    "tags": [],
    "vscode": {
     "languageId": "r"
    }
   },
   "outputs": [],
   "source": [
    "df = read.csv('/home/jovyan/work/ROCKET AF/1A/masterfile_final_PP/df_long_format_PP.csv')"
   ]
  },
  {
   "cell_type": "code",
   "execution_count": null,
   "id": "32361d95-b41b-425e-9846-77498c0eeb4d",
   "metadata": {
    "tags": [],
    "vscode": {
     "languageId": "r"
    }
   },
   "outputs": [],
   "source": [
    "names(df)[names(df) == 'client_idcode'] <- 'id'\n",
    "options(scipen=999) # disable printing results in scientific notation \n",
    "K <-10 # set time point for estimation of risks"
   ]
  },
  {
   "cell_type": "code",
   "execution_count": null,
   "id": "fdf0cd23-513a-480a-bd50-57e086c930eb",
   "metadata": {
    "tags": [],
    "vscode": {
     "languageId": "r"
    }
   },
   "outputs": [],
   "source": [
    "head(df)"
   ]
  },
  {
   "cell_type": "code",
   "execution_count": null,
   "id": "6cd6628a-e739-4df9-9512-79f2f3444ae6",
   "metadata": {
    "tags": [],
    "vscode": {
     "languageId": "r"
    }
   },
   "outputs": [],
   "source": [
    "nrow(df)"
   ]
  },
  {
   "cell_type": "markdown",
   "id": "3231b953-2acc-4755-8638-b3b5b3699bcd",
   "metadata": {},
   "source": [
    "# Descriptive table "
   ]
  },
  {
   "cell_type": "code",
   "execution_count": null,
   "id": "c0311e41-d41e-4022-b511-0e623bdbfb05",
   "metadata": {
    "tags": [],
    "vscode": {
     "languageId": "r"
    }
   },
   "outputs": [],
   "source": [
    "# List of variables to be included in the table\n",
    "myVars <- c(\"age\", \"eGFR\", \"gender\")\n",
    "\n",
    "# List of categorical variables\n",
    "catVars <- c(\"gender\")\n",
    "\n",
    "# List of continuous variables which should be displayed as median (IQR)\n",
    "medVars <- c(\"age\",\"eGFR\")\n",
    "\n",
    "# Create table 1\n",
    "tab1 <- CreateTableOne(vars = myVars, # set descriptive variables\n",
    "                       strata = \"trt\", # define stratifying variable\n",
    "                       data = df[which(df$time==0),], # baseline\n",
    "                       factorVars = catVars) # define categorical variables"
   ]
  },
  {
   "cell_type": "code",
   "execution_count": null,
   "id": "edbddbe5-4c8e-49b6-bd6e-7ef94e60b4b8",
   "metadata": {
    "tags": [],
    "vscode": {
     "languageId": "r"
    }
   },
   "outputs": [],
   "source": [
    "print(tab1,\n",
    "      nonnormal = medVars,\n",
    "      formatOptions = list(big.mark = \",\"),\n",
    "      test = FALSE)"
   ]
  },
  {
   "cell_type": "markdown",
   "id": "691accb7-ffb5-470a-a014-1f953757b64d",
   "metadata": {
    "tags": []
   },
   "source": [
    "# KM check"
   ]
  },
  {
   "cell_type": "code",
   "execution_count": null,
   "id": "644149f8-935f-4ba6-8050-7c7017f1d193",
   "metadata": {
    "tags": [],
    "vscode": {
     "languageId": "r"
    }
   },
   "outputs": [],
   "source": [
    "df_2 <- subset(df, did_not_adhere != 1)"
   ]
  },
  {
   "cell_type": "code",
   "execution_count": null,
   "id": "a8eeefb4-56d9-424e-8b15-69ce2280bd09",
   "metadata": {
    "tags": [],
    "vscode": {
     "languageId": "r"
    }
   },
   "outputs": [],
   "source": [
    "fit.kim <- survfit(Surv(tstart,tstop,stroke_or_embolism) ~ trt,\n",
    "                   conf.type='log-log',\n",
    "                   data=df_2)\n",
    "\n",
    "summary(fit.kim, times = K)"
   ]
  },
  {
   "cell_type": "code",
   "execution_count": null,
   "id": "0722ebd0-f589-4d2a-a345-b003522947be",
   "metadata": {
    "tags": [],
    "vscode": {
     "languageId": "r"
    }
   },
   "outputs": [],
   "source": [
    "survfit2(Surv(tstart,tstop,stroke_or_embolism) ~ trt, data = df) %>% \n",
    "  ggsurvfit() +\n",
    "  labs(\n",
    "    x = \"Time intervals\",\n",
    "    y = \"Overall survival probability\"\n",
    "  ) "
   ]
  },
  {
   "cell_type": "markdown",
   "id": "3a385a65-071d-448c-a4a9-eba57f7554e0",
   "metadata": {},
   "source": [
    "# Pooled logistic regression (without confounders & excluding any product terms between treatment groups indicator and follow-up time)"
   ]
  },
  {
   "cell_type": "code",
   "execution_count": null,
   "id": "077187b4-5560-4816-ae03-733f10c6b955",
   "metadata": {
    "tags": [],
    "vscode": {
     "languageId": "r"
    }
   },
   "outputs": [],
   "source": [
    "fit.pool <- glm(formula = stroke_or_embolism==1 ~ trt + time + timesqr,\n",
    "                 family = binomial(link = 'logit'),\n",
    "                 data = df)\n",
    "options(warn=0)\n",
    "summary(fit.pool)"
   ]
  },
  {
   "cell_type": "code",
   "execution_count": null,
   "id": "d1583cb4-df57-4fa5-873b-4fc3910c2894",
   "metadata": {
    "tags": [],
    "vscode": {
     "languageId": "r"
    }
   },
   "outputs": [],
   "source": [
    "# Exponentiate coefficient for trt - this should give you approx the same result as the Cox Proportional Hazards Model\n",
    "\n",
    "round(exp(summary(fit.pool)$coef[\"trt\",\"Estimate\"]), 2)"
   ]
  },
  {
   "cell_type": "code",
   "execution_count": null,
   "id": "1b4d89da-17a9-41d0-a06b-c7207b0ef4ce",
   "metadata": {
    "tags": [],
    "vscode": {
     "languageId": "r"
    }
   },
   "outputs": [],
   "source": [
    "exp_ci <- exp(confint.default(fit.pool))"
   ]
  },
  {
   "cell_type": "code",
   "execution_count": null,
   "id": "557cfab7-e587-4439-ba76-c7b0b06c4759",
   "metadata": {
    "tags": [],
    "vscode": {
     "languageId": "r"
    }
   },
   "outputs": [],
   "source": [
    "exp_ci"
   ]
  },
  {
   "cell_type": "markdown",
   "id": "df963d26-119e-41e0-ac07-770997b5c6e3",
   "metadata": {
    "tags": []
   },
   "source": [
    "# Pooled logistic regression (adjusting for confounders using IPTW) "
   ]
  },
  {
   "cell_type": "markdown",
   "id": "936581d8-8f0c-4526-a758-10c668384773",
   "metadata": {},
   "source": [
    "### Fit a propensity score model to estimate the denominator of the nonstabilized weights \n"
   ]
  },
  {
   "cell_type": "code",
   "execution_count": null,
   "id": "c49cfdd2-7515-40d2-b4dc-08826cbae50f",
   "metadata": {
    "tags": [],
    "vscode": {
     "languageId": "r"
    }
   },
   "outputs": [],
   "source": [
    "# Estimation of propensity scores with a logistic model\n",
    "ps.treatment <- glm(formula = trt==1 ~  age + eGFR + as.factor(gender),\n",
    "                family = binomial(link = 'logit'),\n",
    "                data = df[which(df$time==0),])\n",
    "\n",
    "summary(ps.treatment)"
   ]
  },
  {
   "cell_type": "code",
   "execution_count": null,
   "id": "694e0461-32ca-4e0e-8bc7-a71a221d6b08",
   "metadata": {
    "tags": [],
    "vscode": {
     "languageId": "r"
    }
   },
   "outputs": [],
   "source": [
    "#  Estimate propensity scores\n",
    "df$ps_treatment <- predict(ps.treatment, df, type = \"response\")"
   ]
  },
  {
   "cell_type": "code",
   "execution_count": null,
   "id": "c6201bf9-35f2-4d8c-8602-59573ad31e8e",
   "metadata": {
    "tags": [],
    "vscode": {
     "languageId": "r"
    }
   },
   "outputs": [],
   "source": [
    "summary(df$ps_treatment[df$trt==1])\n",
    "summary(df$ps_treatment[df$trt==0])"
   ]
  },
  {
   "cell_type": "code",
   "execution_count": null,
   "id": "3d867095-fce4-449b-a170-a3d7dcb9b382",
   "metadata": {
    "tags": [],
    "vscode": {
     "languageId": "r"
    }
   },
   "outputs": [],
   "source": [
    "head(df)"
   ]
  },
  {
   "cell_type": "markdown",
   "id": "e3e7222d-15b4-4c81-bbdc-c20e31ff13ca",
   "metadata": {},
   "source": [
    "### Estimate the inverse probability weights "
   ]
  },
  {
   "cell_type": "code",
   "execution_count": null,
   "id": "914e5feb-4dd7-4c66-8b4d-e532f05e3af7",
   "metadata": {
    "tags": [],
    "vscode": {
     "languageId": "r"
    }
   },
   "outputs": [],
   "source": [
    "df$w_a <- ifelse(df$trt==1,\n",
    "                 1/df$ps_treatment,\n",
    "                 1/(1-df$ps_treatment))"
   ]
  },
  {
   "cell_type": "code",
   "execution_count": null,
   "id": "ead94808-ff7b-4857-98c2-c9125a93fea7",
   "metadata": {
    "tags": [],
    "vscode": {
     "languageId": "r"
    }
   },
   "outputs": [],
   "source": [
    "head(df)"
   ]
  },
  {
   "cell_type": "code",
   "execution_count": null,
   "id": "7d6a64ed-637d-474d-bcd6-258302250d80",
   "metadata": {
    "tags": [],
    "vscode": {
     "languageId": "r"
    }
   },
   "outputs": [],
   "source": [
    "# Min, 25th percentile, median, mean, SD, 75th percentile, and max \n",
    "summary(df$w_a)\n",
    "sd(df$w_a)"
   ]
  },
  {
   "cell_type": "code",
   "execution_count": null,
   "id": "8f6d2d89-560f-4e5c-8b5b-e4e1eb8e43c4",
   "metadata": {
    "tags": [],
    "vscode": {
     "languageId": "r"
    }
   },
   "outputs": [],
   "source": [
    "# Create the histogram\n",
    "hist(df$w_a, main = \"IPTW Weights Distribution\", xlab = \"IPTW Weights\")\n",
    "\n",
    "# Calculate percentiles (you can change the percentiles as needed)\n",
    "percentiles <- quantile(df$w_a, probs = c(0.95, 0.99))\n",
    "\n",
    "# Add vertical lines for the percentiles\n",
    "abline(v = percentiles, col = \"red\", lty = 2)\n",
    "\n",
    "# Add a legend to indicate the percentiles\n",
    "legend(\"topright\", legend = paste0(\"P\", c(95, 99), \" = \", percentiles), col = \"red\", lty = 2, bty = \"n\")"
   ]
  },
  {
   "cell_type": "code",
   "execution_count": null,
   "id": "3b79e2ea-0a12-4801-a4ea-4a46fabc4a04",
   "metadata": {
    "tags": [],
    "vscode": {
     "languageId": "r"
    }
   },
   "outputs": [],
   "source": [
    "head(df)"
   ]
  },
  {
   "cell_type": "markdown",
   "id": "a841e583-f90b-40ab-b9de-e45632d46f96",
   "metadata": {},
   "source": [
    "###  Assessing the balance of covariates between treatment groups "
   ]
  },
  {
   "cell_type": "code",
   "execution_count": null,
   "id": "1df2f4aa-4164-46e4-a194-e6ee83f10931",
   "metadata": {
    "tags": [],
    "vscode": {
     "languageId": "r"
    }
   },
   "outputs": [],
   "source": [
    "covariates <- subset(df, select = c(\"age\", \"eGFR\", \"gender\"))\n",
    "bal.tab(covariates, treat =df$trt, weights=df$w_a,un=TRUE)"
   ]
  },
  {
   "cell_type": "code",
   "execution_count": null,
   "id": "fa7e27cd-d03b-418f-9e22-efe690779d96",
   "metadata": {
    "tags": [],
    "vscode": {
     "languageId": "r"
    }
   },
   "outputs": [],
   "source": [
    "subset_df <- df[df$time == 9, ]\n",
    "\n",
    "covariates <- subset(subset_df, select = c(\"age\", \"eGFR\", \"gender\"))\n",
    "bal.tab(covariates, treat =subset_df$trt, weights=subset_df$w_a,un=TRUE)"
   ]
  },
  {
   "cell_type": "markdown",
   "id": "007e4af3-fa0d-429e-acd6-235037b576f8",
   "metadata": {},
   "source": [
    "###  Fit pooled logistic regression with weights "
   ]
  },
  {
   "cell_type": "code",
   "execution_count": null,
   "id": "7c518d35-27de-48bb-acca-8130c7e9b8c1",
   "metadata": {
    "tags": [],
    "vscode": {
     "languageId": "r"
    }
   },
   "outputs": [],
   "source": [
    "nrow(df)"
   ]
  },
  {
   "cell_type": "code",
   "execution_count": null,
   "id": "7a21d53f-75be-4d3c-8eed-7c069bfd163a",
   "metadata": {
    "tags": [],
    "vscode": {
     "languageId": "r"
    }
   },
   "outputs": [],
   "source": [
    "df_2 <- subset(df, did_not_adhere != 1)"
   ]
  },
  {
   "cell_type": "code",
   "execution_count": null,
   "id": "9cb3baba-5c57-4122-873b-446c506a637d",
   "metadata": {
    "tags": [],
    "vscode": {
     "languageId": "r"
    }
   },
   "outputs": [],
   "source": [
    "nrow(df_2)"
   ]
  },
  {
   "cell_type": "markdown",
   "id": "03e056c0-d0a3-44ba-85fb-dae5c30c012b",
   "metadata": {},
   "source": [
    "# IPTW Balance"
   ]
  },
  {
   "cell_type": "code",
   "execution_count": null,
   "id": "9693ed97-de0e-4e21-8f7a-15ecb29208a3",
   "metadata": {
    "tags": [],
    "vscode": {
     "languageId": "r"
    }
   },
   "outputs": [],
   "source": [
    "subset_df2 <- df_2[df_2$time == 1, ]\n",
    "\n",
    "covariates <- subset(subset_df2, select = c(\"age\", \"eGFR\", \"gender\"))\n",
    "bal.tab(covariates, treat =subset_df2$trt, weights=subset_df2$w_a,un=TRUE)"
   ]
  },
  {
   "cell_type": "code",
   "execution_count": null,
   "id": "52e34e94-75d3-410a-8f79-3aea485cffc6",
   "metadata": {
    "tags": [],
    "vscode": {
     "languageId": "r"
    }
   },
   "outputs": [],
   "source": [
    "subset_df2 <- df_2[df_2$time == 2, ]\n",
    "\n",
    "covariates <- subset(subset_df2, select = c(\"age\", \"eGFR\", \"gender\"))\n",
    "bal.tab(covariates, treat =subset_df2$trt, weights=subset_df2$w_a,un=TRUE)"
   ]
  },
  {
   "cell_type": "code",
   "execution_count": null,
   "id": "8e09985f-4b0a-455f-9cb0-66b3af9447a1",
   "metadata": {
    "tags": [],
    "vscode": {
     "languageId": "r"
    }
   },
   "outputs": [],
   "source": [
    "subset_df2 <- df_2[df_2$time == 3, ]\n",
    "\n",
    "covariates <- subset(subset_df2, select = c(\"age\", \"eGFR\", \"gender\"))\n",
    "bal.tab(covariates, treat =subset_df2$trt, weights=subset_df2$w_a,un=TRUE)"
   ]
  },
  {
   "cell_type": "code",
   "execution_count": null,
   "id": "19fe75a6-703d-457e-9aab-7a6bfd5948ac",
   "metadata": {
    "tags": [],
    "vscode": {
     "languageId": "r"
    }
   },
   "outputs": [],
   "source": [
    "subset_df2 <- df_2[df_2$time == 4, ]\n",
    "\n",
    "covariates <- subset(subset_df2, select = c(\"age\", \"eGFR\", \"gender\"))\n",
    "bal.tab(covariates, treat =subset_df2$trt, weights=subset_df2$w_a,un=TRUE)"
   ]
  },
  {
   "cell_type": "code",
   "execution_count": null,
   "id": "d3aa390f-98fd-4a09-86e8-3e33037fe95e",
   "metadata": {
    "tags": [],
    "vscode": {
     "languageId": "r"
    }
   },
   "outputs": [],
   "source": [
    "subset_df2 <- df_2[df_2$time == 5, ]\n",
    "\n",
    "covariates <- subset(subset_df2, select = c(\"age\", \"eGFR\", \"gender\"))\n",
    "bal.tab(covariates, treat =subset_df2$trt, weights=subset_df2$w_a,un=TRUE)"
   ]
  },
  {
   "cell_type": "code",
   "execution_count": null,
   "id": "0e1df900-27b0-4ea2-90a4-2e6e6e24b61c",
   "metadata": {
    "tags": [],
    "vscode": {
     "languageId": "r"
    }
   },
   "outputs": [],
   "source": [
    "subset_df2 <- df_2[df_2$time == 6, ]\n",
    "\n",
    "covariates <- subset(subset_df2, select = c(\"age\", \"eGFR\", \"gender\"))\n",
    "bal.tab(covariates, treat =subset_df2$trt, weights=subset_df2$w_a,un=TRUE)"
   ]
  },
  {
   "cell_type": "code",
   "execution_count": null,
   "id": "c0961246-47b5-4e5e-84dc-d242cdab9ff2",
   "metadata": {
    "tags": [],
    "vscode": {
     "languageId": "r"
    }
   },
   "outputs": [],
   "source": [
    "subset_df2 <- df_2[df_2$time == 7, ]\n",
    "\n",
    "covariates <- subset(subset_df2, select = c(\"age\", \"eGFR\", \"gender\"))\n",
    "bal.tab(covariates, treat =subset_df2$trt, weights=subset_df2$w_a,un=TRUE)"
   ]
  },
  {
   "cell_type": "code",
   "execution_count": null,
   "id": "8cb7405b-3030-4a0e-a83f-92e9fcd27c30",
   "metadata": {
    "tags": [],
    "vscode": {
     "languageId": "r"
    }
   },
   "outputs": [],
   "source": [
    "subset_df2 <- df_2[df_2$time == 8, ]\n",
    "\n",
    "covariates <- subset(subset_df2, select = c(\"age\", \"eGFR\", \"gender\"))\n",
    "bal.tab(covariates, treat =subset_df2$trt, weights=subset_df2$w_a,un=TRUE)"
   ]
  },
  {
   "cell_type": "code",
   "execution_count": null,
   "id": "660ad644-3d60-42f4-beb6-2b2768ec96bc",
   "metadata": {
    "tags": [],
    "vscode": {
     "languageId": "r"
    }
   },
   "outputs": [],
   "source": [
    "subset_df2 <- df_2[df_2$time == 9, ]\n",
    "\n",
    "covariates <- subset(subset_df2, select = c(\"age\", \"eGFR\", \"gender\"))\n",
    "bal.tab(covariates, treat =subset_df2$trt, weights=subset_df2$w_a,un=TRUE)"
   ]
  },
  {
   "cell_type": "code",
   "execution_count": null,
   "id": "59c42f62-6a89-4d09-ab6e-82b327777584",
   "metadata": {
    "tags": [],
    "vscode": {
     "languageId": "r"
    }
   },
   "outputs": [],
   "source": [
    "# Create the histogram\n",
    "hist(df_2$w_a,  xlab = \"IPTW Weights\")\n",
    "\n"
   ]
  },
  {
   "cell_type": "markdown",
   "id": "ffc71f5b-bfc0-4b7c-8140-aa3c4f5372b1",
   "metadata": {},
   "source": [
    "###  Fit pooled logistic regression with weights (no treatment and time interaction)"
   ]
  },
  {
   "cell_type": "code",
   "execution_count": null,
   "id": "31978ed7-eb5f-4471-a9e4-5df699337a62",
   "metadata": {
    "tags": [],
    "vscode": {
     "languageId": "r"
    }
   },
   "outputs": [],
   "source": [
    "options(warn=-1) # Suppress warning messages\n",
    "fit.pool <- glm(formula = stroke_or_embolism==1 ~ trt + time + timesqr,\n",
    "                family = binomial(link = 'logit'),\n",
    "                data = df_2,\n",
    "                weights=df_2$w_a)\n",
    "options(warn=-0)\n",
    "# Note that this model will take a few seconds to run\n",
    "\n",
    "# Print results\n",
    "summary(fit.pool)"
   ]
  },
  {
   "cell_type": "code",
   "execution_count": null,
   "id": "c86e0e3a-d4e7-4492-9650-d0db5cdeae93",
   "metadata": {
    "tags": [],
    "vscode": {
     "languageId": "r"
    }
   },
   "outputs": [],
   "source": [
    "# Exponentiate coefficient for trt - this should give you approx the same result as the Cox Proportional Hazards Model\n",
    "\n",
    "round(exp(summary(fit.pool)$coef[\"trt\",\"Estimate\"]), 2)"
   ]
  },
  {
   "cell_type": "markdown",
   "id": "6ecd4897-f817-40e3-bcca-0bb37e42041b",
   "metadata": {
    "tags": []
   },
   "source": [
    "### Obtain percentile-based bootstrapped 95% CIs for each quantity"
   ]
  },
  {
   "cell_type": "code",
   "execution_count": null,
   "id": "89a7bab2-d18d-4147-9338-b8fe0d966739",
   "metadata": {
    "tags": [],
    "vscode": {
     "languageId": "r"
    }
   },
   "outputs": [],
   "source": [
    "risk.boot <- function(data, indices) {\n",
    "  # Select individuals into each bootstrapped sample\n",
    "  ids <- unique(data$id)\n",
    "  boot.ids <- data.frame(id = ids[indices])\n",
    "  \n",
    "  # Subset person-time data to individuals selected into the bootstrapped sample\n",
    "  d <- left_join(boot.ids, data, by = \"id\", relationship = \"many-to-many\")  \n",
    "    \n",
    "  # Calculate weights based on propensity scores\n",
    "  ps.treatment <- glm(formula = trt == 1 ~ age + eGFR + as.factor(gender),\n",
    "                      family = binomial(link = 'logit'),\n",
    "                      data = d[which(d$time == 0), ])\n",
    "  d$ps_treatment <- predict(ps.treatment, d, type = \"response\")\n",
    "  \n",
    "  d$w_a <- ifelse(d$trt == 1,\n",
    "                   1 / d$ps_treatment,\n",
    "                   1 / (1 - d$ps_treatment))\n",
    "  \n",
    "  d <- d[d$did_not_adhere != 1, ]    \n",
    "  \n",
    "  # Fit pooled logistic model to estimate discrete hazards with weights\n",
    "  options(warn=-1)\n",
    "  pool.boot <- glm(formula = stroke_or_embolism == 1 ~ trt + time + timesqr,\n",
    "                   family = binomial(link = 'logit'),\n",
    "                   data = d,\n",
    "                   weights = d$w_a)  # Use the weights here\n",
    "  options(warn=0)\n",
    "  \n",
    "  return(coef(pool.boot))   \n",
    "}"
   ]
  },
  {
   "cell_type": "code",
   "execution_count": null,
   "id": "17af7b1f-f2b5-4487-a981-acfffc55746c",
   "metadata": {
    "tags": [],
    "vscode": {
     "languageId": "r"
    }
   },
   "outputs": [],
   "source": [
    "results <- boot(data = df, statistic = risk.boot, R = 2000)"
   ]
  },
  {
   "cell_type": "code",
   "execution_count": null,
   "id": "1cbd08f1-386b-42c4-b61c-4fbd7bca4891",
   "metadata": {
    "vscode": {
     "languageId": "r"
    }
   },
   "outputs": [],
   "source": [
    "ci_trt <- boot.ci(results, type = \"perc\", index = 2)\n",
    "ci_trt"
   ]
  },
  {
   "cell_type": "code",
   "execution_count": null,
   "id": "bef75491-66e6-4d61-951c-78b77199beff",
   "metadata": {
    "vscode": {
     "languageId": "r"
    }
   },
   "outputs": [],
   "source": [
    "exp(-0.5803)"
   ]
  },
  {
   "cell_type": "code",
   "execution_count": null,
   "id": "801950f8-9852-430b-b3de-352805f4ef10",
   "metadata": {
    "tags": [],
    "vscode": {
     "languageId": "r"
    }
   },
   "outputs": [],
   "source": [
    "exp(0.6897)"
   ]
  },
  {
   "cell_type": "markdown",
   "id": "20311d93-549e-4891-88cf-76a746683a4a",
   "metadata": {},
   "source": [
    "###  Fit pooled logistic regression with weights (with treatment and time interaction)"
   ]
  },
  {
   "cell_type": "code",
   "execution_count": null,
   "id": "7b2d949a-d2e3-412b-8ce5-e4f3c044f9da",
   "metadata": {
    "tags": [],
    "vscode": {
     "languageId": "r"
    }
   },
   "outputs": [],
   "source": [
    "options(warn=-1) # Suppress warning messages\n",
    "fit.pool <- glm(formula = stroke_or_embolism==1 ~ trt + time + timesqr +\n",
    "                                    I(trt*time) +\n",
    "                                    I(trt*timesqr),\n",
    "                family = binomial(link = 'logit'),\n",
    "                data = df_2,\n",
    "                weights=df_2$w_a)\n",
    "options(warn=-0)\n",
    "# Note that this model will take a few seconds to run\n",
    "\n",
    "# Print results\n",
    "summary(fit.pool)"
   ]
  },
  {
   "cell_type": "markdown",
   "id": "59c6c9d6-90d4-452b-ab5b-af451387cead",
   "metadata": {},
   "source": [
    "### Transform estimates to risks at each time point in each arm"
   ]
  },
  {
   "cell_type": "code",
   "execution_count": null,
   "id": "f67490ef-2bd8-49d0-9dc0-10d7a3a3e792",
   "metadata": {
    "tags": [],
    "vscode": {
     "languageId": "r"
    }
   },
   "outputs": [],
   "source": [
    "# Create a dataset to store results\n",
    "# Include all time points under each treatment level\n",
    "trt0 <- data.frame(cbind(seq(0, K-1),0,(seq(0, K-1))^2))\n",
    "trt1 <- data.frame(cbind(seq(0, K-1),1,(seq(0, K-1))^2))"
   ]
  },
  {
   "cell_type": "code",
   "execution_count": null,
   "id": "3cee2223-26e4-49e4-962b-aa3a480cc816",
   "metadata": {
    "tags": [],
    "vscode": {
     "languageId": "r"
    }
   },
   "outputs": [],
   "source": [
    "# Set column names\n",
    "colnames(trt0) <- c(\"time\", \"trt\", \"timesqr\")\n",
    "colnames(trt1) <- c(\"time\", \"trt\", \"timesqr\")"
   ]
  },
  {
   "cell_type": "code",
   "execution_count": null,
   "id": "cb43c0f2-a9c5-42f1-8fda-25e12240b81a",
   "metadata": {
    "tags": [],
    "vscode": {
     "languageId": "r"
    }
   },
   "outputs": [],
   "source": [
    "# Extract predicted values from pooled logistic regression model\n",
    "# Predicted values correspond to discrete-time hazards\n",
    "trt0$p.event0 <- predict(fit.pool, trt0, type=\"response\")\n",
    "trt1$p.event1 <- predict(fit.pool, trt1, type=\"response\")"
   ]
  },
  {
   "cell_type": "code",
   "execution_count": null,
   "id": "cae4099f-756c-4b9c-87aa-fbde801d0dec",
   "metadata": {
    "tags": [],
    "vscode": {
     "languageId": "r"
    }
   },
   "outputs": [],
   "source": [
    "# Estimate survival probabilities from hazards\n",
    "# S(t) = cumulative product of (1 - h(t))\n",
    "trt0$surv0 <- cumprod(1 - trt0$p.event0)\n",
    "trt1$surv1 <- cumprod(1 - trt1$p.event1)"
   ]
  },
  {
   "cell_type": "code",
   "execution_count": null,
   "id": "b7ef3df6-2cf0-4868-bd74-65f7d461f124",
   "metadata": {
    "tags": [],
    "vscode": {
     "languageId": "r"
    }
   },
   "outputs": [],
   "source": [
    "# Estimate risks from survival probabilities\n",
    "# Risk = 1 - S(t)\n",
    "trt0$risk0 <- 1 - trt0$surv0\n",
    "trt1$risk1 <- 1 - trt1$surv1"
   ]
  },
  {
   "cell_type": "code",
   "execution_count": null,
   "id": "939c1b40-0535-4ebd-9a79-58762a060df5",
   "metadata": {
    "tags": [],
    "vscode": {
     "languageId": "r"
    }
   },
   "outputs": [],
   "source": [
    "# Prepare data\n",
    "graph.pred <- merge(trt0, trt1, by=c(\"time\", \"timesqr\"))\n",
    "# Edit data frame to reflect that risks are estimated at the END of each interval\n",
    "graph.pred$time_0 <- graph.pred$time + 1\n",
    "zero <- data.frame(cbind(0,0,0,0,1,0,1,0,1,0,0))\n",
    "zero <- setNames(zero,names(graph.pred))\n",
    "graph <- rbind(zero, graph.pred)"
   ]
  },
  {
   "cell_type": "markdown",
   "id": "be9db579-7507-43bd-8556-2e9de6d376b0",
   "metadata": {},
   "source": [
    "### Use pooled logistic regression estimates to compute causal estimates"
   ]
  },
  {
   "cell_type": "code",
   "execution_count": null,
   "id": "b9d6073e-10a7-491c-afb0-8794cd44b8d3",
   "metadata": {
    "tags": [],
    "vscode": {
     "languageId": "r"
    }
   },
   "outputs": [],
   "source": [
    "# 2-year risk in the warfarin group\n",
    "\n",
    "risk0.plr <- graph$risk0[which(graph$time==K-1)]\n",
    "round(risk0.plr, 5)"
   ]
  },
  {
   "cell_type": "code",
   "execution_count": null,
   "id": "cc44e05d-9d3d-4472-9aec-f701f5b8f671",
   "metadata": {
    "tags": [],
    "vscode": {
     "languageId": "r"
    }
   },
   "outputs": [],
   "source": [
    "# 2-year risk in the  rivaroxaban group\n",
    "\n",
    "risk1.plr <- graph$risk1[which(graph$time==K-1)]\n",
    "round(risk1.plr, 5)"
   ]
  },
  {
   "cell_type": "code",
   "execution_count": null,
   "id": "95d92636-7c62-43b2-a2dd-1ae353663ae7",
   "metadata": {
    "tags": [],
    "vscode": {
     "languageId": "r"
    }
   },
   "outputs": [],
   "source": [
    "# 2-year risk difference\n",
    "\n",
    "rd.plr <- risk1.plr - risk0.plr\n",
    "round(rd.plr, 4)\n"
   ]
  },
  {
   "cell_type": "code",
   "execution_count": null,
   "id": "9d4a1a02-19fa-4f16-be57-e674efdc0331",
   "metadata": {
    "tags": [],
    "vscode": {
     "languageId": "r"
    }
   },
   "outputs": [],
   "source": [
    "# 2-year risk ratio\n",
    "\n",
    "rr.plr <- risk1.plr / risk0.plr\n",
    "round(rr.plr, 2)"
   ]
  },
  {
   "cell_type": "markdown",
   "id": "62eaaab6-807c-4c1f-ac2e-7f2afaa03387",
   "metadata": {},
   "source": [
    "### Obtain percentile-based bootstrapped 95% CIs for each quantity"
   ]
  },
  {
   "cell_type": "code",
   "execution_count": null,
   "id": "68098ab1-6b38-4a8e-a478-e6aa1ff1ce87",
   "metadata": {
    "tags": [],
    "vscode": {
     "languageId": "r"
    }
   },
   "outputs": [],
   "source": [
    "risk.boot <- function(data, indices) {\n",
    "  # Select individuals into each bootstrapped sample\n",
    "  ids <- unique(data$id)\n",
    "  boot.ids <- data.frame(id = ids[indices])\n",
    "  \n",
    "  # Subset person-time data to individuals selected into the bootstrapped sample\n",
    "  d <- left_join(boot.ids, data, by = \"id\", relationship = \"many-to-many\")  \n",
    "    \n",
    "  # Calculate weights based on propensity scores\n",
    "  ps.treatment <- glm(formula = trt == 1 ~ age + eGFR + as.factor(gender),\n",
    "                      family = binomial(link = 'logit'),\n",
    "                      data = d[which(d$time == 0), ])\n",
    "  d$ps_treatment <- predict(ps.treatment, d, type = \"response\")\n",
    "  \n",
    "  d$w_a <- ifelse(d$trt == 1,\n",
    "                   1 / d$ps_treatment,\n",
    "                   1 / (1 - d$ps_treatment))\n",
    "  \n",
    "  d <- d[d$did_not_adhere != 1, ]    \n",
    "  \n",
    "  # Fit pooled logistic model to estimate discrete hazards with weights\n",
    "  options(warn=-1)\n",
    "  pool.boot <- glm(formula = stroke_or_embolism == 1 ~ trt + time + timesqr +\n",
    "                                    I(trt*time) +\n",
    "                                    I(trt*timesqr),\n",
    "                   family = binomial(link = 'logit'),\n",
    "                   data = d,\n",
    "                   weights = d$w_a)  # Use the weights here\n",
    "  options(warn=0)\n",
    "  \n",
    "   # Create a dataset to store results\n",
    "  # Include all time points under each treatment level\n",
    "  trt0 <- data.frame(cbind(seq(0, K-1),0,(seq(0, K-1))^2))\n",
    "  trt1 <- data.frame(cbind(seq(0, K-1),1,(seq(0, K-1))^2))\n",
    "  \n",
    "  # Set column names\n",
    "  colnames(trt0) <- c(\"time\", \"trt\", \"timesqr\")\n",
    "  colnames(trt1) <- c(\"time\", \"trt\", \"timesqr\")\n",
    "  \n",
    "  # Extract predicted values from pooled logistic regression model\n",
    "  # Predicted values correspond to discrete-time hazards\n",
    "  trt0$p.event0 <- predict(pool.boot, trt0, type=\"response\")\n",
    "  trt1$p.event1 <- predict(pool.boot, trt1, type=\"response\")\n",
    "  \n",
    "  # Convert from discrete-time hazards to survival probabilities\n",
    "  # S(t) = cumulative product of (1 - h(t))\n",
    "  trt0$surv0 <- cumprod(1 - trt0$p.event0)\n",
    "  trt1$surv1 <- cumprod(1 - trt1$p.event1)\n",
    "  \n",
    "  # Convert from survival to risks\n",
    "  # Risk = 1 - S(t)\n",
    "  trt0$risk0 <- 1 - trt0$surv0\n",
    "  trt1$risk1 <- 1 - trt1$surv1\n",
    "  \n",
    "  # Merge data from two arms and format\n",
    "  graph <- merge(trt0, trt1, by=c(\"time\", \"timesqr\"))\n",
    "  graph$rd <- graph$risk1-graph$risk0\n",
    "  graph$rr <- graph$risk1/graph$risk0\n",
    "  return(c(graph$risk0[which(graph$time==K-1)],\n",
    "           graph$risk1[which(graph$time==K-1)],\n",
    "           graph$rd[which(graph$time==K-1)],\n",
    "           graph$rr[which(graph$time==K-1)]))   \n",
    "}"
   ]
  },
  {
   "cell_type": "code",
   "execution_count": null,
   "id": "ea1957e9-d8ac-4408-976b-dad6ae868858",
   "metadata": {
    "tags": [],
    "vscode": {
     "languageId": "r"
    }
   },
   "outputs": [],
   "source": [
    "# Run 2000 bootstrap samples \n",
    "set.seed(865)\n",
    "risk.results <- boot(data = df,\n",
    "                     statistic = risk.boot,\n",
    "                     R=2000)"
   ]
  },
  {
   "cell_type": "code",
   "execution_count": null,
   "id": "8cd8c29e-fe93-401d-9466-f98e236a3f84",
   "metadata": {
    "tags": [],
    "vscode": {
     "languageId": "r"
    }
   },
   "outputs": [],
   "source": [
    "# 95% CI for risk ratio\n",
    "boot.ci(risk.results,\n",
    "        conf = 0.95,\n",
    "        type = \"perc\",\n",
    "        index = 4) # create CI for fourth statistic (rr) returned by boot()"
   ]
  },
  {
   "cell_type": "code",
   "execution_count": null,
   "id": "3b7a3d0c-f6e1-4276-9fdd-cc1773abd754",
   "metadata": {
    "vscode": {
     "languageId": "r"
    }
   },
   "outputs": [],
   "source": []
  }
 ],
 "metadata": {
  "kernelspec": {
   "display_name": "R",
   "language": "R",
   "name": "ir"
  },
  "language_info": {
   "codemirror_mode": "r",
   "file_extension": ".r",
   "mimetype": "text/x-r-source",
   "name": "R",
   "pygments_lexer": "r",
   "version": "4.2.2"
  }
 },
 "nbformat": 4,
 "nbformat_minor": 5
}
